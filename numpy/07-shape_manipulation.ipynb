{
 "cells": [
  {
   "cell_type": "code",
   "execution_count": 2,
   "id": "4aa9611a",
   "metadata": {},
   "outputs": [],
   "source": [
    "import numpy as np"
   ]
  },
  {
   "cell_type": "code",
   "execution_count": 7,
   "id": "096e5e89",
   "metadata": {},
   "outputs": [],
   "source": [
    "arr = np.arange(0,5)"
   ]
  },
  {
   "cell_type": "code",
   "execution_count": 8,
   "id": "c425c09d",
   "metadata": {},
   "outputs": [
    {
     "data": {
      "text/plain": [
       "array([0, 1, 2, 3, 4])"
      ]
     },
     "execution_count": 8,
     "metadata": {},
     "output_type": "execute_result"
    }
   ],
   "source": [
    "arr"
   ]
  },
  {
   "cell_type": "code",
   "execution_count": 9,
   "id": "9e458257",
   "metadata": {},
   "outputs": [
    {
     "data": {
      "text/plain": [
       "numpy.ndarray"
      ]
     },
     "execution_count": 9,
     "metadata": {},
     "output_type": "execute_result"
    }
   ],
   "source": [
    "type(arr)"
   ]
  },
  {
   "cell_type": "markdown",
   "id": "f5dc23a9",
   "metadata": {},
   "source": [
    "### reshape"
   ]
  },
  {
   "cell_type": "code",
   "execution_count": 14,
   "id": "04c23df5",
   "metadata": {},
   "outputs": [],
   "source": [
    "array_3d = np.arange(1, 25).reshape(2, 3, 4 )"
   ]
  },
  {
   "cell_type": "code",
   "execution_count": 15,
   "id": "daddcda8",
   "metadata": {},
   "outputs": [
    {
     "data": {
      "text/plain": [
       "array([[[ 1,  2,  3,  4],\n",
       "        [ 5,  6,  7,  8],\n",
       "        [ 9, 10, 11, 12]],\n",
       "\n",
       "       [[13, 14, 15, 16],\n",
       "        [17, 18, 19, 20],\n",
       "        [21, 22, 23, 24]]])"
      ]
     },
     "execution_count": 15,
     "metadata": {},
     "output_type": "execute_result"
    }
   ],
   "source": [
    "array_3d"
   ]
  },
  {
   "cell_type": "code",
   "execution_count": 18,
   "id": "a89a1afd",
   "metadata": {},
   "outputs": [
    {
     "data": {
      "text/plain": [
       "(2, 3, 4)"
      ]
     },
     "execution_count": 18,
     "metadata": {},
     "output_type": "execute_result"
    }
   ],
   "source": [
    "# dimensions=2, rows=3, columns=4\n",
    "array_3d.shape"
   ]
  },
  {
   "cell_type": "code",
   "execution_count": 20,
   "id": "261776d7",
   "metadata": {},
   "outputs": [
    {
     "data": {
      "text/plain": [
       "array([[[ 1,  2],\n",
       "        [ 3,  4],\n",
       "        [ 5,  6]],\n",
       "\n",
       "       [[ 7,  8],\n",
       "        [ 9, 10],\n",
       "        [11, 12]],\n",
       "\n",
       "       [[13, 14],\n",
       "        [15, 16],\n",
       "        [17, 18]],\n",
       "\n",
       "       [[19, 20],\n",
       "        [21, 22],\n",
       "        [23, 24]]])"
      ]
     },
     "execution_count": 20,
     "metadata": {},
     "output_type": "execute_result"
    }
   ],
   "source": [
    "# reshape to 4 dimensions with 3 rows and 2 columns\n",
    "array_3d.reshape(4, 3, 2)"
   ]
  },
  {
   "cell_type": "code",
   "execution_count": 21,
   "id": "7f3ef5c1",
   "metadata": {},
   "outputs": [
    {
     "ename": "ValueError",
     "evalue": "cannot reshape array of size 24 into shape (5,2,1)",
     "output_type": "error",
     "traceback": [
      "\u001b[31m---------------------------------------------------------------------------\u001b[39m",
      "\u001b[31mValueError\u001b[39m                                Traceback (most recent call last)",
      "\u001b[36mCell\u001b[39m\u001b[36m \u001b[39m\u001b[32mIn[21]\u001b[39m\u001b[32m, line 2\u001b[39m\n\u001b[32m      1\u001b[39m \u001b[38;5;66;03m# lets reshape to 5 dimensions with 2 rows and 1 column\u001b[39;00m\n\u001b[32m----> \u001b[39m\u001b[32m2\u001b[39m \u001b[43marray_3d\u001b[49m\u001b[43m.\u001b[49m\u001b[43mreshape\u001b[49m\u001b[43m(\u001b[49m\u001b[32;43m5\u001b[39;49m\u001b[43m,\u001b[49m\u001b[43m \u001b[49m\u001b[32;43m2\u001b[39;49m\u001b[43m,\u001b[49m\u001b[43m \u001b[49m\u001b[32;43m1\u001b[39;49m\u001b[43m)\u001b[49m\n",
      "\u001b[31mValueError\u001b[39m: cannot reshape array of size 24 into shape (5,2,1)"
     ]
    }
   ],
   "source": [
    "# lets reshape to 5 dimensions with 2 rows and 1 column\n",
    "array_3d.reshape(5, 2, 1)"
   ]
  },
  {
   "cell_type": "markdown",
   "id": "b9341dce",
   "metadata": {},
   "source": [
    "### 🙄 WTF!!!"
   ]
  },
  {
   "cell_type": "code",
   "execution_count": 24,
   "id": "006384ed",
   "metadata": {},
   "outputs": [
    {
     "data": {
      "text/plain": [
       "24"
      ]
     },
     "execution_count": 24,
     "metadata": {},
     "output_type": "execute_result"
    }
   ],
   "source": [
    "# to diagnose this, look at the size of the array, we have 24 elements\n",
    "array_3d.size"
   ]
  },
  {
   "cell_type": "code",
   "execution_count": 27,
   "id": "8582705a",
   "metadata": {},
   "outputs": [
    {
     "data": {
      "text/plain": [
       "10"
      ]
     },
     "execution_count": 27,
     "metadata": {},
     "output_type": "execute_result"
    }
   ],
   "source": [
    "# lets look at what we tried to do. \n",
    "# if we multiply the dimensions that we gave (5, 2, 1)\n",
    "# we get 10, which is not equal to the size of the array (24)\n",
    "5 * 2 * 1"
   ]
  },
  {
   "cell_type": "code",
   "execution_count": 29,
   "id": "86a756ac",
   "metadata": {},
   "outputs": [
    {
     "data": {
      "text/plain": [
       "array([[[ 1,  2],\n",
       "        [ 3,  4],\n",
       "        [ 5,  6]],\n",
       "\n",
       "       [[ 7,  8],\n",
       "        [ 9, 10],\n",
       "        [11, 12]],\n",
       "\n",
       "       [[13, 14],\n",
       "        [15, 16],\n",
       "        [17, 18]],\n",
       "\n",
       "       [[19, 20],\n",
       "        [21, 22],\n",
       "        [23, 24]]])"
      ]
     },
     "execution_count": 29,
     "metadata": {},
     "output_type": "execute_result"
    }
   ],
   "source": [
    "array_3d.reshape(4, 3, -1) # this will autocalculate how many columns that we need, -1 is the majic"
   ]
  },
  {
   "cell_type": "code",
   "execution_count": 63,
   "id": "f0f3355e",
   "metadata": {},
   "outputs": [
    {
     "data": {
      "text/plain": [
       "array([[[ 1,  2],\n",
       "        [ 3,  4],\n",
       "        [ 5,  6]],\n",
       "\n",
       "       [[ 7,  8],\n",
       "        [ 9, 10],\n",
       "        [11, 12]],\n",
       "\n",
       "       [[13, 14],\n",
       "        [15, 16],\n",
       "        [17, 18]],\n",
       "\n",
       "       [[19, 20],\n",
       "        [21, 22],\n",
       "        [23, 24]]])"
      ]
     },
     "execution_count": 63,
     "metadata": {},
     "output_type": "execute_result"
    }
   ],
   "source": [
    "array_3d.reshape(4, -1, 2) # this will autocalculate how many rows that we need, but using 2 columns as a restriction"
   ]
  },
  {
   "cell_type": "code",
   "execution_count": 50,
   "id": "220fef81",
   "metadata": {},
   "outputs": [
    {
     "data": {
      "text/plain": [
       "array([[[ 1,  2,  3],\n",
       "        [ 4,  5,  6],\n",
       "        [ 7,  8,  9],\n",
       "        [10, 11, 12]],\n",
       "\n",
       "       [[13, 14, 15],\n",
       "        [16, 17, 18],\n",
       "        [19, 20, 21],\n",
       "        [22, 23, 24]]])"
      ]
     },
     "execution_count": 50,
     "metadata": {},
     "output_type": "execute_result"
    }
   ],
   "source": [
    "# i have fucked some shit up. I need to get this back to 2 dimensions with 4 rows and 3 columns\n",
    "array_3d.reshape(2, 4, 3)"
   ]
  },
  {
   "cell_type": "markdown",
   "id": "3d203b32",
   "metadata": {},
   "source": [
    "### transpose"
   ]
  },
  {
   "cell_type": "code",
   "execution_count": 64,
   "id": "36427576",
   "metadata": {},
   "outputs": [
    {
     "data": {
      "text/plain": [
       "(4, 3, 2)"
      ]
     },
     "execution_count": 64,
     "metadata": {},
     "output_type": "execute_result"
    }
   ],
   "source": [
    "array_3d.shape"
   ]
  },
  {
   "cell_type": "code",
   "execution_count": 59,
   "id": "d3ed6ff1",
   "metadata": {},
   "outputs": [
    {
     "data": {
      "text/plain": [
       "array([[[ 1,  2],\n",
       "        [ 7,  8],\n",
       "        [13, 14],\n",
       "        [19, 20]],\n",
       "\n",
       "       [[ 3,  4],\n",
       "        [ 9, 10],\n",
       "        [15, 16],\n",
       "        [21, 22]],\n",
       "\n",
       "       [[ 5,  6],\n",
       "        [11, 12],\n",
       "        [17, 18],\n",
       "        [23, 24]]])"
      ]
     },
     "execution_count": 59,
     "metadata": {},
     "output_type": "execute_result"
    }
   ],
   "source": [
    "arr_transpose = array_3d.transpose((1, 0, 2))\n",
    "arr_transpose"
   ]
  },
  {
   "cell_type": "code",
   "execution_count": 60,
   "id": "748c1ff7",
   "metadata": {},
   "outputs": [
    {
     "data": {
      "text/plain": [
       "(3, 4, 2)"
      ]
     },
     "execution_count": 60,
     "metadata": {},
     "output_type": "execute_result"
    }
   ],
   "source": [
    "arr_transpose.shape"
   ]
  },
  {
   "cell_type": "markdown",
   "id": "49920483",
   "metadata": {},
   "source": [
    "we need to look at the original shape of the data\n",
    "we said 1 as the first argument, what is 1??\n",
    "if we take the array_3d shape, then 1 is the 3. that means that we want 3 dimensions"
   ]
  },
  {
   "cell_type": "markdown",
   "id": "b76ba47c",
   "metadata": {},
   "source": [
    "![img](../images/array_3dshape_dimensions.png)"
   ]
  },
  {
   "cell_type": "markdown",
   "id": "c80b7ff4",
   "metadata": {},
   "source": [
    "I know this is weird, but now we take the second argument, which is 0\n",
    "what is zero\n",
    "the zero element of our shape is 4"
   ]
  },
  {
   "cell_type": "markdown",
   "id": "73778983",
   "metadata": {},
   "source": [
    "![img](../images/array_3dshape_rows.png)"
   ]
  },
  {
   "cell_type": "markdown",
   "id": "252b5032",
   "metadata": {},
   "source": [
    "now we have 3 dimensions and we wanted to have 4 rows, now lets check out the columns\n",
    "we specified 2 for the columns argument\n",
    "2 = the last element, which is ironically 2"
   ]
  },
  {
   "cell_type": "markdown",
   "id": "f8e5351c",
   "metadata": {},
   "source": [
    "![img](../images/array_3d_rows.png)"
   ]
  },
  {
   "cell_type": "markdown",
   "id": "cfa2caa1",
   "metadata": {},
   "source": [
    "got 3 dimensions\n",
    "got 4 rows\n",
    "got 2 columns\n"
   ]
  },
  {
   "cell_type": "code",
   "execution_count": 61,
   "id": "70332540",
   "metadata": {},
   "outputs": [
    {
     "data": {
      "text/plain": [
       "array([[[ 1,  2],\n",
       "        [ 7,  8],\n",
       "        [13, 14],\n",
       "        [19, 20]],\n",
       "\n",
       "       [[ 3,  4],\n",
       "        [ 9, 10],\n",
       "        [15, 16],\n",
       "        [21, 22]],\n",
       "\n",
       "       [[ 5,  6],\n",
       "        [11, 12],\n",
       "        [17, 18],\n",
       "        [23, 24]]])"
      ]
     },
     "execution_count": 61,
     "metadata": {},
     "output_type": "execute_result"
    }
   ],
   "source": [
    "arr_transpose"
   ]
  },
  {
   "cell_type": "code",
   "execution_count": 62,
   "id": "574b37f1",
   "metadata": {},
   "outputs": [
    {
     "data": {
      "text/plain": [
       "(3, 4, 2)"
      ]
     },
     "execution_count": 62,
     "metadata": {},
     "output_type": "execute_result"
    }
   ],
   "source": [
    "arr_transpose.shape"
   ]
  },
  {
   "cell_type": "code",
   "execution_count": null,
   "id": "2b838719",
   "metadata": {},
   "outputs": [],
   "source": []
  }
 ],
 "metadata": {
  "kernelspec": {
   "display_name": "env",
   "language": "python",
   "name": "python3"
  },
  "language_info": {
   "codemirror_mode": {
    "name": "ipython",
    "version": 3
   },
   "file_extension": ".py",
   "mimetype": "text/x-python",
   "name": "python",
   "nbconvert_exporter": "python",
   "pygments_lexer": "ipython3",
   "version": "3.12.10"
  }
 },
 "nbformat": 4,
 "nbformat_minor": 5
}
