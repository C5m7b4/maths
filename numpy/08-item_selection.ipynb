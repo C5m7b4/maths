{
 "cells": [
  {
   "cell_type": "code",
   "execution_count": 2,
   "id": "ab3164c1",
   "metadata": {},
   "outputs": [],
   "source": [
    "import numpy as np"
   ]
  },
  {
   "cell_type": "code",
   "execution_count": 3,
   "id": "4e2d5d8a",
   "metadata": {},
   "outputs": [],
   "source": [
    "a3d = np.arange(1, 25).reshape(2,4, 3)"
   ]
  },
  {
   "cell_type": "code",
   "execution_count": 4,
   "id": "a722a986",
   "metadata": {},
   "outputs": [
    {
     "data": {
      "text/plain": [
       "array([[[ 1,  2,  3],\n",
       "        [ 4,  5,  6],\n",
       "        [ 7,  8,  9],\n",
       "        [10, 11, 12]],\n",
       "\n",
       "       [[13, 14, 15],\n",
       "        [16, 17, 18],\n",
       "        [19, 20, 21],\n",
       "        [22, 23, 24]]])"
      ]
     },
     "execution_count": 4,
     "metadata": {},
     "output_type": "execute_result"
    }
   ],
   "source": [
    "a3d"
   ]
  },
  {
   "cell_type": "code",
   "execution_count": 6,
   "id": "952e3c76",
   "metadata": {},
   "outputs": [
    {
     "data": {
      "text/plain": [
       "array([ 2,  6, 11, 13])"
      ]
     },
     "execution_count": 6,
     "metadata": {},
     "output_type": "execute_result"
    }
   ],
   "source": [
    "a3d.take(indices=[1, 5, 10, 12])"
   ]
  },
  {
   "cell_type": "code",
   "execution_count": 7,
   "id": "56b84d33",
   "metadata": {},
   "outputs": [
    {
     "data": {
      "text/plain": [
       "array([[ 2,  6],\n",
       "       [11, 12]])"
      ]
     },
     "execution_count": 7,
     "metadata": {},
     "output_type": "execute_result"
    }
   ],
   "source": [
    "a3d.take(indices=[[1,5], [10,11]])"
   ]
  },
  {
   "cell_type": "markdown",
   "id": "a7730f31",
   "metadata": {},
   "source": [
    "### sort"
   ]
  },
  {
   "cell_type": "code",
   "execution_count": 8,
   "id": "df7a076c",
   "metadata": {},
   "outputs": [],
   "source": [
    "array_2 = [[10, 3, 7],\n",
    "           [8, 2, 9]]"
   ]
  },
  {
   "cell_type": "code",
   "execution_count": 10,
   "id": "3e197f1e",
   "metadata": {},
   "outputs": [],
   "source": [
    "array_2.sort()"
   ]
  },
  {
   "cell_type": "code",
   "execution_count": 12,
   "id": "94bb0543",
   "metadata": {},
   "outputs": [
    {
     "data": {
      "text/plain": [
       "[[8, 2, 9], [10, 3, 7]]"
      ]
     },
     "execution_count": 12,
     "metadata": {},
     "output_type": "execute_result"
    }
   ],
   "source": [
    "array_2"
   ]
  },
  {
   "cell_type": "code",
   "execution_count": null,
   "id": "df8fdb47",
   "metadata": {},
   "outputs": [],
   "source": []
  }
 ],
 "metadata": {
  "kernelspec": {
   "display_name": "env",
   "language": "python",
   "name": "python3"
  },
  "language_info": {
   "codemirror_mode": {
    "name": "ipython",
    "version": 3
   },
   "file_extension": ".py",
   "mimetype": "text/x-python",
   "name": "python",
   "nbconvert_exporter": "python",
   "pygments_lexer": "ipython3",
   "version": "3.12.10"
  }
 },
 "nbformat": 4,
 "nbformat_minor": 5
}
