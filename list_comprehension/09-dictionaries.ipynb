{
 "cells": [
  {
   "cell_type": "code",
   "execution_count": 1,
   "id": "64df0774",
   "metadata": {},
   "outputs": [],
   "source": [
    "names = ['John', 'charlotte', 'Joe', 'Alice']"
   ]
  },
  {
   "cell_type": "code",
   "execution_count": 3,
   "id": "736fa824",
   "metadata": {},
   "outputs": [
    {
     "data": {
      "text/plain": [
       "{'John': 'JOHN', 'charlotte': 'CHARLOTTE', 'Joe': 'JOE', 'Alice': 'ALICE'}"
      ]
     },
     "execution_count": 3,
     "metadata": {},
     "output_type": "execute_result"
    }
   ],
   "source": [
    "names_dict = {name: name.upper() for name in names}\n",
    "names_dict"
   ]
  },
  {
   "cell_type": "code",
   "execution_count": 5,
   "id": "7a5c533e",
   "metadata": {},
   "outputs": [
    {
     "data": {
      "text/plain": [
       "{'J': 'oe', 'c': 'harlotte', 'A': 'lice'}"
      ]
     },
     "execution_count": 5,
     "metadata": {},
     "output_type": "execute_result"
    }
   ],
   "source": [
    "split_names = {name[0]: name[1:] for name in names}\n",
    "split_names"
   ]
  },
  {
   "cell_type": "code",
   "execution_count": 6,
   "id": "d0ae4cc6",
   "metadata": {},
   "outputs": [],
   "source": [
    "capitol_cities = {\"england\": \"london\", \"japan\": \"tokyo\", \"spain\": \"madrid\"}"
   ]
  },
  {
   "cell_type": "code",
   "execution_count": 7,
   "id": "97ac88f2",
   "metadata": {},
   "outputs": [
    {
     "data": {
      "text/plain": [
       "{'england': 'london', 'japan': 'tokyo', 'spain': 'madrid'}"
      ]
     },
     "execution_count": 7,
     "metadata": {},
     "output_type": "execute_result"
    }
   ],
   "source": [
    "{k:v for k, v in capitol_cities.items()}"
   ]
  },
  {
   "cell_type": "markdown",
   "id": "d2527e10",
   "metadata": {},
   "source": [
    "these are the ways in which you can enumerate a dictionary"
   ]
  },
  {
   "cell_type": "code",
   "execution_count": 8,
   "id": "f98af920",
   "metadata": {},
   "outputs": [
    {
     "data": {
      "text/plain": [
       "dict_keys(['england', 'japan', 'spain'])"
      ]
     },
     "execution_count": 8,
     "metadata": {},
     "output_type": "execute_result"
    }
   ],
   "source": [
    "capitol_cities.keys()"
   ]
  },
  {
   "cell_type": "code",
   "execution_count": 9,
   "id": "aef11457",
   "metadata": {},
   "outputs": [
    {
     "data": {
      "text/plain": [
       "dict_values(['london', 'tokyo', 'madrid'])"
      ]
     },
     "execution_count": 9,
     "metadata": {},
     "output_type": "execute_result"
    }
   ],
   "source": [
    "capitol_cities.values()"
   ]
  },
  {
   "cell_type": "code",
   "execution_count": 10,
   "id": "1623477c",
   "metadata": {},
   "outputs": [
    {
     "data": {
      "text/plain": [
       "dict_items([('england', 'london'), ('japan', 'tokyo'), ('spain', 'madrid')])"
      ]
     },
     "execution_count": 10,
     "metadata": {},
     "output_type": "execute_result"
    }
   ],
   "source": [
    "capitol_cities.items()"
   ]
  },
  {
   "cell_type": "code",
   "execution_count": 13,
   "id": "f9c22ad6",
   "metadata": {},
   "outputs": [
    {
     "data": {
      "text/plain": [
       "{'england': 'london', 'japan': 'tokyo', 'spain': 'madrid'}"
      ]
     },
     "execution_count": 13,
     "metadata": {},
     "output_type": "execute_result"
    }
   ],
   "source": [
    "{k: v for k, v in capitol_cities.items()}"
   ]
  },
  {
   "cell_type": "code",
   "execution_count": 17,
   "id": "d3d0054a",
   "metadata": {},
   "outputs": [
    {
     "data": {
      "text/plain": [
       "{'England': 'City is London',\n",
       " 'Japan': 'City is Tokyo',\n",
       " 'Spain': 'City is Madrid'}"
      ]
     },
     "execution_count": 17,
     "metadata": {},
     "output_type": "execute_result"
    }
   ],
   "source": [
    "{k.title(): f\"City is {v.title()}\" for k, v in capitol_cities.items()}"
   ]
  },
  {
   "cell_type": "markdown",
   "id": "6620ac43",
   "metadata": {},
   "source": [
    "### 🥗 Challenge: 1"
   ]
  },
  {
   "cell_type": "markdown",
   "id": "0e1a1b4c",
   "metadata": {},
   "source": [
    "given the following list\n",
    "\n",
    "$\n",
    "\\text{NUMS} = [10, 20, 30, 40]\n",
    "$\n",
    "\n",
    "create a dictionary comprehension where the key is each number halved\n",
    "\n",
    "and the corresponding value is each number cubed"
   ]
  },
  {
   "cell_type": "code",
   "execution_count": 18,
   "id": "1f9f529b",
   "metadata": {},
   "outputs": [],
   "source": [
    "nums = [10, 20, 30, 40]"
   ]
  },
  {
   "cell_type": "code",
   "execution_count": 21,
   "id": "6b58c9d6",
   "metadata": {},
   "outputs": [
    {
     "data": {
      "text/plain": [
       "{10: 10, 20: 20, 30: 30, 40: 40}"
      ]
     },
     "execution_count": 21,
     "metadata": {},
     "output_type": "execute_result"
    }
   ],
   "source": [
    "{n: n for n in nums}"
   ]
  },
  {
   "cell_type": "code",
   "execution_count": 24,
   "id": "6c6a8c0b",
   "metadata": {},
   "outputs": [
    {
     "data": {
      "text/plain": [
       "{5.0: 1000, 10.0: 8000, 15.0: 27000, 20.0: 64000}"
      ]
     },
     "execution_count": 24,
     "metadata": {},
     "output_type": "execute_result"
    }
   ],
   "source": [
    "{n*0.5: n**3 for n in nums}"
   ]
  },
  {
   "cell_type": "markdown",
   "id": "798c6932",
   "metadata": {},
   "source": [
    "### 🥗 Challenge: 2"
   ]
  },
  {
   "cell_type": "markdown",
   "id": "004a5b28",
   "metadata": {},
   "source": [
    "given the string:\n",
    "\n",
    "CHIP = 'INTEL'\n",
    "\n",
    "create a dictionary comprehension where each letter is a key and its corresponding value is the ascii vlaue of that character"
   ]
  },
  {
   "cell_type": "code",
   "execution_count": 30,
   "id": "8a8d36ac",
   "metadata": {},
   "outputs": [],
   "source": [
    "chip = \"INTEL\""
   ]
  },
  {
   "cell_type": "code",
   "execution_count": 32,
   "id": "0516708d",
   "metadata": {},
   "outputs": [
    {
     "data": {
      "text/plain": [
       "{'I': 73, 'N': 78, 'T': 84, 'E': 69, 'L': 76}"
      ]
     },
     "execution_count": 32,
     "metadata": {},
     "output_type": "execute_result"
    }
   ],
   "source": [
    "{c: ord(c) for c in chip}"
   ]
  },
  {
   "cell_type": "markdown",
   "id": "7422b7c4",
   "metadata": {},
   "source": [
    "### 🥗 Challenge: 3"
   ]
  },
  {
   "cell_type": "code",
   "execution_count": 35,
   "id": "fc96d261",
   "metadata": {},
   "outputs": [],
   "source": [
    "students = {'john': 88, 'alice': 91, 'mike': 75, 'sarah': 89}"
   ]
  },
  {
   "cell_type": "code",
   "execution_count": 38,
   "id": "fc6b4533",
   "metadata": {},
   "outputs": [],
   "source": [
    "def grade(score):\n",
    "    return \"Pass\" if score >= 85 else \"Fail\""
   ]
  },
  {
   "cell_type": "code",
   "execution_count": 39,
   "id": "897d04dd",
   "metadata": {},
   "outputs": [
    {
     "data": {
      "text/plain": [
       "{'john': 'Pass', 'alice': 'Pass', 'mike': 'Fail', 'sarah': 'Pass'}"
      ]
     },
     "execution_count": 39,
     "metadata": {},
     "output_type": "execute_result"
    }
   ],
   "source": [
    "{student: grade(score) for student, score in students.items()}"
   ]
  },
  {
   "cell_type": "code",
   "execution_count": null,
   "id": "e7ccc97d",
   "metadata": {},
   "outputs": [],
   "source": []
  }
 ],
 "metadata": {
  "kernelspec": {
   "display_name": "env",
   "language": "python",
   "name": "python3"
  },
  "language_info": {
   "codemirror_mode": {
    "name": "ipython",
    "version": 3
   },
   "file_extension": ".py",
   "mimetype": "text/x-python",
   "name": "python",
   "nbconvert_exporter": "python",
   "pygments_lexer": "ipython3",
   "version": "3.12.10"
  }
 },
 "nbformat": 4,
 "nbformat_minor": 5
}
