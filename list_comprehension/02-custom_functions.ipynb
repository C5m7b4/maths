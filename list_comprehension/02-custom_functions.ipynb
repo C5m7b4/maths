{
 "cells": [
  {
   "cell_type": "markdown",
   "id": "3ee39102",
   "metadata": {},
   "source": [
    "if we have a user defined function, we can just plug it in the same way"
   ]
  },
  {
   "cell_type": "code",
   "execution_count": 6,
   "id": "8e23a24c",
   "metadata": {},
   "outputs": [],
   "source": [
    "def add_10(n:int) -> int:\n",
    "    return n + 10"
   ]
  },
  {
   "cell_type": "code",
   "execution_count": 2,
   "id": "f2d3c524",
   "metadata": {},
   "outputs": [
    {
     "name": "stdout",
     "output_type": "stream",
     "text": [
      "[11, 12, 13, 14, 15]\n"
     ]
    }
   ],
   "source": [
    "numbers = [1,2,3,4,5]\n",
    "new = []\n",
    "for n in numbers:\n",
    "    new.append(add_10(n))\n",
    "\n",
    "print(new)"
   ]
  },
  {
   "cell_type": "code",
   "execution_count": 5,
   "id": "1cb6ad44",
   "metadata": {},
   "outputs": [
    {
     "data": {
      "text/plain": [
       "[11, 12, 13, 14, 15]"
      ]
     },
     "execution_count": 5,
     "metadata": {},
     "output_type": "execute_result"
    }
   ],
   "source": [
    "[add_10(n) for n in numbers]"
   ]
  },
  {
   "cell_type": "code",
   "execution_count": 7,
   "id": "4e4e9cd8",
   "metadata": {},
   "outputs": [],
   "source": [
    "from typing import Union"
   ]
  },
  {
   "cell_type": "code",
   "execution_count": 8,
   "id": "88a1622c",
   "metadata": {},
   "outputs": [],
   "source": [
    "def half_double(n: int | float) -> int | float:\n",
    "    \"\"\"Half or double\"\"\"\n",
    "    return n * 2 if n > 10 else n / 2"
   ]
  },
  {
   "cell_type": "code",
   "execution_count": 9,
   "id": "188398e9",
   "metadata": {},
   "outputs": [
    {
     "name": "stdout",
     "output_type": "stream",
     "text": [
      "100\n"
     ]
    }
   ],
   "source": [
    "print(half_double(50))"
   ]
  },
  {
   "cell_type": "code",
   "execution_count": 10,
   "id": "686da6a9",
   "metadata": {},
   "outputs": [
    {
     "data": {
      "text/plain": [
       "[0.5,\n",
       " 1.0,\n",
       " 1.5,\n",
       " 2.0,\n",
       " 2.5,\n",
       " 3.0,\n",
       " 3.5,\n",
       " 4.0,\n",
       " 4.5,\n",
       " 5.0,\n",
       " 22,\n",
       " 24,\n",
       " 26,\n",
       " 28,\n",
       " 30,\n",
       " 32,\n",
       " 34,\n",
       " 36,\n",
       " 38,\n",
       " 40]"
      ]
     },
     "execution_count": 10,
     "metadata": {},
     "output_type": "execute_result"
    }
   ],
   "source": [
    "[half_double(i) for i in range(1, 21)]"
   ]
  },
  {
   "cell_type": "code",
   "execution_count": null,
   "id": "ee3b0afd",
   "metadata": {},
   "outputs": [],
   "source": []
  }
 ],
 "metadata": {
  "kernelspec": {
   "display_name": "env",
   "language": "python",
   "name": "python3"
  },
  "language_info": {
   "codemirror_mode": {
    "name": "ipython",
    "version": 3
   },
   "file_extension": ".py",
   "mimetype": "text/x-python",
   "name": "python",
   "nbconvert_exporter": "python",
   "pygments_lexer": "ipython3",
   "version": "3.12.10"
  }
 },
 "nbformat": 4,
 "nbformat_minor": 5
}
