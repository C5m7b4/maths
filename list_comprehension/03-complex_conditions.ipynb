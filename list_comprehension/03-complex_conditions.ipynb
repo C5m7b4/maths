{
 "cells": [
  {
   "cell_type": "code",
   "execution_count": 1,
   "id": "ba16354b",
   "metadata": {},
   "outputs": [],
   "source": [
    "names = ['Alex', 'Matthew', 'Charlotte', 'Ian']"
   ]
  },
  {
   "cell_type": "code",
   "execution_count": 5,
   "id": "1a438c4d",
   "metadata": {},
   "outputs": [
    {
     "data": {
      "text/plain": [
       "['Charlotte']"
      ]
     },
     "execution_count": 5,
     "metadata": {},
     "output_type": "execute_result"
    }
   ],
   "source": [
    "[name for name in names if len(name) > 4 and name.endswith('e') and 'l' in name]"
   ]
  },
  {
   "cell_type": "markdown",
   "id": "c8969d69",
   "metadata": {},
   "source": [
    "#### using function as condition"
   ]
  },
  {
   "cell_type": "code",
   "execution_count": 18,
   "id": "6488362c",
   "metadata": {},
   "outputs": [],
   "source": [
    "def is_valid(name):\n",
    "    return len(name) >= 4 and name.istitle() and name.isalpha()"
   ]
  },
  {
   "cell_type": "code",
   "execution_count": 19,
   "id": "cb15e23b",
   "metadata": {},
   "outputs": [],
   "source": [
    "usernames = ['John', 'Alexender', 'Ian', 'Sar4h', 'Alice']"
   ]
  },
  {
   "cell_type": "code",
   "execution_count": 20,
   "id": "608317ec",
   "metadata": {},
   "outputs": [
    {
     "data": {
      "text/plain": [
       "['John', 'Alexender', 'Alice']"
      ]
     },
     "execution_count": 20,
     "metadata": {},
     "output_type": "execute_result"
    }
   ],
   "source": [
    "[name for name in usernames if is_valid(name)]"
   ]
  }
 ],
 "metadata": {
  "kernelspec": {
   "display_name": "env",
   "language": "python",
   "name": "python3"
  },
  "language_info": {
   "codemirror_mode": {
    "name": "ipython",
    "version": 3
   },
   "file_extension": ".py",
   "mimetype": "text/x-python",
   "name": "python",
   "nbconvert_exporter": "python",
   "pygments_lexer": "ipython3",
   "version": "3.12.10"
  }
 },
 "nbformat": 4,
 "nbformat_minor": 5
}
