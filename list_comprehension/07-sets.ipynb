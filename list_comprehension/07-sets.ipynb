{
 "cells": [
  {
   "cell_type": "code",
   "execution_count": 2,
   "id": "21a6a955",
   "metadata": {},
   "outputs": [
    {
     "name": "stdout",
     "output_type": "stream",
     "text": [
      "{10, 20, 30}\n"
     ]
    }
   ],
   "source": [
    "set_a = {10, 20, 30, 30, 30}\n",
    "print(set_a)"
   ]
  },
  {
   "cell_type": "code",
   "execution_count": 7,
   "id": "41c57ce8",
   "metadata": {},
   "outputs": [],
   "source": [
    "from random import randint\n",
    "from math import pi"
   ]
  },
  {
   "cell_type": "code",
   "execution_count": 6,
   "id": "06c8b411",
   "metadata": {},
   "outputs": [
    {
     "data": {
      "text/plain": [
       "26"
      ]
     },
     "execution_count": 6,
     "metadata": {},
     "output_type": "execute_result"
    }
   ],
   "source": [
    "values = [randint(1,5) for _ in range(100)]\n",
    "values.count(2)"
   ]
  },
  {
   "cell_type": "code",
   "execution_count": 10,
   "id": "3020e2d5",
   "metadata": {},
   "outputs": [],
   "source": [
    "# pi * r**2\n",
    "areas = {pi * r**2 for r in values}"
   ]
  },
  {
   "cell_type": "code",
   "execution_count": 11,
   "id": "97d8291e",
   "metadata": {},
   "outputs": [
    {
     "data": {
      "text/plain": [
       "{3.141592653589793,\n",
       " 12.566370614359172,\n",
       " 28.274333882308138,\n",
       " 50.26548245743669,\n",
       " 78.53981633974483}"
      ]
     },
     "execution_count": 11,
     "metadata": {},
     "output_type": "execute_result"
    }
   ],
   "source": [
    "areas"
   ]
  },
  {
   "cell_type": "markdown",
   "id": "69b1f76f",
   "metadata": {},
   "source": [
    "#### 💪 exercise 1"
   ]
  },
  {
   "cell_type": "code",
   "execution_count": 12,
   "id": "86ac9589",
   "metadata": {},
   "outputs": [],
   "source": [
    "vowels = \"aeaiueoau\""
   ]
  },
  {
   "cell_type": "code",
   "execution_count": 13,
   "id": "610f9b72",
   "metadata": {},
   "outputs": [
    {
     "data": {
      "text/plain": [
       "[97, 101, 97, 105, 117, 101, 111, 97, 117]"
      ]
     },
     "execution_count": 13,
     "metadata": {},
     "output_type": "execute_result"
    }
   ],
   "source": [
    "[ord(s) for s in vowels]"
   ]
  },
  {
   "cell_type": "code",
   "execution_count": 15,
   "id": "43fc78cc",
   "metadata": {},
   "outputs": [
    {
     "data": {
      "text/plain": [
       "531"
      ]
     },
     "execution_count": 15,
     "metadata": {},
     "output_type": "execute_result"
    }
   ],
   "source": [
    "# sum of ascii values\n",
    "sum({ord(s) for s in vowels})"
   ]
  },
  {
   "cell_type": "markdown",
   "id": "071407e5",
   "metadata": {},
   "source": [
    "#### 💪 exercise 2"
   ]
  },
  {
   "cell_type": "code",
   "execution_count": 16,
   "id": "d6821713",
   "metadata": {},
   "outputs": [],
   "source": [
    "# find the unique sums, then print the largest\n",
    "nested = [[10, 0], [5, 5], [-1, 2], [5,5]]"
   ]
  },
  {
   "cell_type": "code",
   "execution_count": 19,
   "id": "887e13b0",
   "metadata": {},
   "outputs": [
    {
     "data": {
      "text/plain": [
       "[10, 10, 1, 10]"
      ]
     },
     "execution_count": 19,
     "metadata": {},
     "output_type": "execute_result"
    }
   ],
   "source": [
    "[sum(sublist) for sublist in nested]"
   ]
  },
  {
   "cell_type": "code",
   "execution_count": 21,
   "id": "be8fa3ef",
   "metadata": {},
   "outputs": [
    {
     "data": {
      "text/plain": [
       "10"
      ]
     },
     "execution_count": 21,
     "metadata": {},
     "output_type": "execute_result"
    }
   ],
   "source": [
    "max({sum(sublist) for sublist in nested})"
   ]
  },
  {
   "cell_type": "code",
   "execution_count": null,
   "id": "089250e3",
   "metadata": {},
   "outputs": [],
   "source": []
  }
 ],
 "metadata": {
  "kernelspec": {
   "display_name": "env",
   "language": "python",
   "name": "python3"
  },
  "language_info": {
   "codemirror_mode": {
    "name": "ipython",
    "version": 3
   },
   "file_extension": ".py",
   "mimetype": "text/x-python",
   "name": "python",
   "nbconvert_exporter": "python",
   "pygments_lexer": "ipython3",
   "version": "3.12.10"
  }
 },
 "nbformat": 4,
 "nbformat_minor": 5
}
