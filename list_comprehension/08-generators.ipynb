{
 "cells": [
  {
   "cell_type": "code",
   "execution_count": 1,
   "id": "3fe6a66e",
   "metadata": {},
   "outputs": [],
   "source": [
    "import time"
   ]
  },
  {
   "cell_type": "code",
   "execution_count": 2,
   "id": "69465d7b",
   "metadata": {},
   "outputs": [],
   "source": [
    "def slow_func(st):\n",
    "    print(\"running with: \", st)\n",
    "    time.sleep(1)\n",
    "    return st[::-1]"
   ]
  },
  {
   "cell_type": "code",
   "execution_count": 3,
   "id": "f1db770d",
   "metadata": {},
   "outputs": [],
   "source": [
    "names = ['james', 'alex', 'matthew', 'charlotte', 'daniel']"
   ]
  },
  {
   "cell_type": "code",
   "execution_count": 4,
   "id": "86a73df0",
   "metadata": {},
   "outputs": [
    {
     "name": "stdout",
     "output_type": "stream",
     "text": [
      "running with:  james\n",
      "running with:  alex\n",
      "running with:  matthew\n",
      "running with:  charlotte\n",
      "running with:  daniel\n"
     ]
    },
    {
     "data": {
      "text/plain": [
       "['semaj', 'xela', 'wehttam', 'ettolrahc', 'leinad']"
      ]
     },
     "execution_count": 4,
     "metadata": {},
     "output_type": "execute_result"
    }
   ],
   "source": [
    "[slow_func(name) for name in names]"
   ]
  },
  {
   "cell_type": "code",
   "execution_count": 7,
   "id": "b27ba4a0",
   "metadata": {},
   "outputs": [],
   "source": [
    "fn_g = (slow_func(name) for name in names)"
   ]
  },
  {
   "cell_type": "code",
   "execution_count": 13,
   "id": "79d49ed7",
   "metadata": {},
   "outputs": [
    {
     "ename": "StopIteration",
     "evalue": "",
     "output_type": "error",
     "traceback": [
      "\u001b[31m---------------------------------------------------------------------------\u001b[39m",
      "\u001b[31mStopIteration\u001b[39m                             Traceback (most recent call last)",
      "\u001b[36mCell\u001b[39m\u001b[36m \u001b[39m\u001b[32mIn[13]\u001b[39m\u001b[32m, line 1\u001b[39m\n\u001b[32m----> \u001b[39m\u001b[32m1\u001b[39m \u001b[38;5;28mprint\u001b[39m(\u001b[38;5;28;43mnext\u001b[39;49m\u001b[43m(\u001b[49m\u001b[43mfn_g\u001b[49m\u001b[43m)\u001b[49m)\n",
      "\u001b[31mStopIteration\u001b[39m: "
     ]
    }
   ],
   "source": [
    "print(next(fn_g))"
   ]
  },
  {
   "cell_type": "code",
   "execution_count": 14,
   "id": "2530f38b",
   "metadata": {},
   "outputs": [
    {
     "name": "stdout",
     "output_type": "stream",
     "text": [
      "14\n",
      "15\n"
     ]
    }
   ],
   "source": [
    "matrix = [[10, 4],\n",
    "          [10, 5],\n",
    "          [10, 6]]\n",
    " \n",
    "sums = (sum(sublist) for sublist in matrix)\n",
    " \n",
    "print(next(sums))\n",
    "print(next(sums))"
   ]
  },
  {
   "cell_type": "code",
   "execution_count": 15,
   "id": "7d6bb075",
   "metadata": {},
   "outputs": [
    {
     "name": "stdout",
     "output_type": "stream",
     "text": [
      "1.4142135623730951\n",
      "2.8284271247461903\n",
      "5.830951894845301\n"
     ]
    },
    {
     "ename": "StopIteration",
     "evalue": "",
     "output_type": "error",
     "traceback": [
      "\u001b[31m---------------------------------------------------------------------------\u001b[39m",
      "\u001b[31mStopIteration\u001b[39m                             Traceback (most recent call last)",
      "\u001b[36mCell\u001b[39m\u001b[36m \u001b[39m\u001b[32mIn[15]\u001b[39m\u001b[32m, line 6\u001b[39m\n\u001b[32m      3\u001b[39m result = (\u001b[38;5;28mint\u001b[39m(i) ** \u001b[32m0.5\u001b[39m \u001b[38;5;28;01mfor\u001b[39;00m i \u001b[38;5;129;01min\u001b[39;00m fibonacci_nums.split() \u001b[38;5;28;01mif\u001b[39;00m \u001b[38;5;28mint\u001b[39m(i) % \u001b[32m2\u001b[39m == \u001b[32m0\u001b[39m)\n\u001b[32m      5\u001b[39m \u001b[38;5;28;01mfor\u001b[39;00m _ \u001b[38;5;129;01min\u001b[39;00m \u001b[38;5;28mrange\u001b[39m(\u001b[32m4\u001b[39m):\n\u001b[32m----> \u001b[39m\u001b[32m6\u001b[39m     \u001b[38;5;28mprint\u001b[39m(\u001b[38;5;28;43mnext\u001b[39;49m\u001b[43m(\u001b[49m\u001b[43mresult\u001b[49m\u001b[43m)\u001b[49m)\n",
      "\u001b[31mStopIteration\u001b[39m: "
     ]
    }
   ],
   "source": [
    "fibonacci_nums = \"1 1 2 3 5 8 13 21 34\"\n",
    " \n",
    "result = (int(i) ** 0.5 for i in fibonacci_nums.split() if int(i) % 2 == 0)\n",
    " \n",
    "for _ in range(4):\n",
    "    print(next(result))"
   ]
  },
  {
   "cell_type": "code",
   "execution_count": 17,
   "id": "fe7acc19",
   "metadata": {},
   "outputs": [
    {
     "data": {
      "text/plain": [
       "['a', 'b', 'c', 'd', 'e', 'f']"
      ]
     },
     "execution_count": 17,
     "metadata": {},
     "output_type": "execute_result"
    }
   ],
   "source": [
    "letters = \"ABCDEFGH\"\n",
    "result = (st.lower() for st in letters)\n",
    " \n",
    "l_comp = [next(result) for _ in range(len(letters) - 2)]\n",
    "l_comp"
   ]
  },
  {
   "cell_type": "code",
   "execution_count": 18,
   "id": "ab2aa615",
   "metadata": {},
   "outputs": [
    {
     "name": "stdout",
     "output_type": "stream",
     "text": [
      "2\n",
      "3\n",
      "5\n",
      "7\n",
      "11\n",
      "13\n"
     ]
    }
   ],
   "source": [
    "def compute_is_prime(n):\n",
    "    return all([n % i for i in range(2,n)])\n",
    " \n",
    "result = (num for num in range(2,100) if compute_is_prime(num))\n",
    "for _ in range(6):\n",
    "    print(next(result))"
   ]
  },
  {
   "cell_type": "code",
   "execution_count": 19,
   "id": "0d04d81e",
   "metadata": {},
   "outputs": [
    {
     "name": "stdout",
     "output_type": "stream",
     "text": [
      "John, 34\n",
      "Alex, 32\n",
      "Chris, 44\n"
     ]
    }
   ],
   "source": [
    "names = [\"john\", \"alex\", \"chris\", \"mike\"]\n",
    "ages = (34.0, 32.0, 44.0, 21.0)\n",
    " \n",
    "names_ages = (f\"{name.title()}, {int(age)}\" for name,age in zip(names, ages))\n",
    "print(next(names_ages))\n",
    "print(next(names_ages))\n",
    "print(next(names_ages))"
   ]
  }
 ],
 "metadata": {
  "kernelspec": {
   "display_name": "env",
   "language": "python",
   "name": "python3"
  },
  "language_info": {
   "codemirror_mode": {
    "name": "ipython",
    "version": 3
   },
   "file_extension": ".py",
   "mimetype": "text/x-python",
   "name": "python",
   "nbconvert_exporter": "python",
   "pygments_lexer": "ipython3",
   "version": "3.12.10"
  }
 },
 "nbformat": 4,
 "nbformat_minor": 5
}
