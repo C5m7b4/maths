{
 "cells": [
  {
   "cell_type": "markdown",
   "id": "286b0658",
   "metadata": {},
   "source": [
    "### 🧩 Awesome cypher intro"
   ]
  },
  {
   "cell_type": "code",
   "execution_count": 12,
   "id": "e5425af8",
   "metadata": {},
   "outputs": [],
   "source": [
    "def decrypt_cypher(word):\n",
    "    return \"\".join([c for c in word if c.isalpha() or c == ' ']).title()"
   ]
  },
  {
   "cell_type": "code",
   "execution_count": 13,
   "id": "6d5a3c98",
   "metadata": {},
   "outputs": [
    {
     "name": "stdout",
     "output_type": "stream",
     "text": [
      "You Have Cracked The Code\n"
     ]
    }
   ],
   "source": [
    "cypher = \"\"\"\n",
    "47897343Y4323o646456u3242342 3423432h2346454a3423423v634987e234 33c44r33a34590==c@@k1e40-d\n",
    "- t99h1232e*(#&$ c3o3d33e)\n",
    "\"\"\"\n",
    "print(decrypt_cypher(cypher))"
   ]
  },
  {
   "cell_type": "markdown",
   "id": "1daa16ef",
   "metadata": {},
   "source": [
    "### 🧩 Caesar Cipher"
   ]
  },
  {
   "cell_type": "markdown",
   "id": "c776fc6c",
   "metadata": {},
   "source": [
    "![ceasar_cipher](../images/ceasar_cipher.png)"
   ]
  },
  {
   "cell_type": "code",
   "execution_count": 14,
   "id": "45156679",
   "metadata": {},
   "outputs": [],
   "source": [
    "from typing import List"
   ]
  },
  {
   "cell_type": "code",
   "execution_count": 25,
   "id": "794fa7ce",
   "metadata": {},
   "outputs": [],
   "source": [
    "words = ['python', 'math', 'lists']"
   ]
  },
  {
   "cell_type": "code",
   "execution_count": 17,
   "id": "930338ac",
   "metadata": {},
   "outputs": [],
   "source": [
    "def encrypt(word: str, shift: int = 3) -> List[int]:\n",
    "    return [ord(char) + shift for char in word]"
   ]
  },
  {
   "cell_type": "code",
   "execution_count": 28,
   "id": "39a31bd8",
   "metadata": {},
   "outputs": [
    {
     "data": {
      "text/plain": [
       "[[115, 124, 119, 107, 114, 113],\n",
       " [112, 100, 119, 107],\n",
       " [111, 108, 118, 119, 118]]"
      ]
     },
     "execution_count": 28,
     "metadata": {},
     "output_type": "execute_result"
    }
   ],
   "source": [
    "encrypted = [encrypt(word) for word in words]\n",
    "encrypted"
   ]
  },
  {
   "cell_type": "code",
   "execution_count": 29,
   "id": "e401f809",
   "metadata": {},
   "outputs": [],
   "source": [
    "def decrypt(encrypted: List[int], shift: int = 3) -> str:\n",
    "    return \"\".join([chr(num-shift) for num in encrypted])"
   ]
  },
  {
   "cell_type": "code",
   "execution_count": 30,
   "id": "6c0f0363",
   "metadata": {},
   "outputs": [
    {
     "data": {
      "text/plain": [
       "['python', 'math', 'lists']"
      ]
     },
     "execution_count": 30,
     "metadata": {},
     "output_type": "execute_result"
    }
   ],
   "source": [
    "decrypted = [decrypt(code, 3) for code in encrypted]\n",
    "decrypted"
   ]
  },
  {
   "cell_type": "markdown",
   "id": "7ecf61ef",
   "metadata": {},
   "source": [
    "### exercises"
   ]
  },
  {
   "cell_type": "markdown",
   "id": "39e6b712",
   "metadata": {},
   "source": [
    "#### 🪛 challenge 1"
   ]
  },
  {
   "cell_type": "code",
   "execution_count": 37,
   "id": "87dd7c9c",
   "metadata": {},
   "outputs": [],
   "source": [
    "# cube the nums that appear more than once\n",
    "x = [10, 5, 1, 1, 0, 4, 2, 2, 10]"
   ]
  },
  {
   "cell_type": "code",
   "execution_count": 38,
   "id": "790e4df0",
   "metadata": {},
   "outputs": [
    {
     "name": "stdout",
     "output_type": "stream",
     "text": [
      "2\n"
     ]
    }
   ],
   "source": [
    "print(x.count(10)) # 10 appears 2 times"
   ]
  },
  {
   "cell_type": "code",
   "execution_count": 39,
   "id": "1470ce47",
   "metadata": {},
   "outputs": [
    {
     "data": {
      "text/plain": [
       "[1000, 1, 1, 8, 8, 1000]"
      ]
     },
     "execution_count": 39,
     "metadata": {},
     "output_type": "execute_result"
    }
   ],
   "source": [
    "cubed = [i**3 for i in x if x.count(i) > 1]\n",
    "cubed"
   ]
  },
  {
   "cell_type": "markdown",
   "id": "1488eb09",
   "metadata": {},
   "source": [
    "#### 🪛 challenge 2"
   ]
  },
  {
   "cell_type": "markdown",
   "id": "d6c1727d",
   "metadata": {},
   "source": [
    "reverse the grid"
   ]
  },
  {
   "cell_type": "code",
   "execution_count": 41,
   "id": "34032eaf",
   "metadata": {},
   "outputs": [],
   "source": [
    "grid = [[1,1,0],\n",
    "        [1, 0, 1],\n",
    "        [0, 0, 1]]"
   ]
  },
  {
   "cell_type": "code",
   "execution_count": 42,
   "id": "cd001399",
   "metadata": {},
   "outputs": [
    {
     "data": {
      "text/plain": [
       "[[1, 1, 0], [1, 0, 1], [0, 0, 1]]"
      ]
     },
     "execution_count": 42,
     "metadata": {},
     "output_type": "execute_result"
    }
   ],
   "source": [
    "grid"
   ]
  },
  {
   "cell_type": "markdown",
   "id": "cd86d2be",
   "metadata": {},
   "source": [
    "this will reverse each sub list"
   ]
  },
  {
   "cell_type": "code",
   "execution_count": 48,
   "id": "4a99a274",
   "metadata": {},
   "outputs": [
    {
     "data": {
      "text/plain": [
       "[[0, 1, 1], [1, 0, 1], [1, 0, 0]]"
      ]
     },
     "execution_count": 48,
     "metadata": {},
     "output_type": "execute_result"
    }
   ],
   "source": [
    "[r[::-1] for r in grid]"
   ]
  },
  {
   "cell_type": "markdown",
   "id": "2701dcdc",
   "metadata": {},
   "source": [
    "this will reverse both"
   ]
  },
  {
   "cell_type": "code",
   "execution_count": 49,
   "id": "e537c727",
   "metadata": {},
   "outputs": [
    {
     "data": {
      "text/plain": [
       "[[1, 0, 0], [1, 0, 1], [0, 1, 1]]"
      ]
     },
     "execution_count": 49,
     "metadata": {},
     "output_type": "execute_result"
    }
   ],
   "source": [
    "[r[::-1] for r in grid][::-1]"
   ]
  },
  {
   "cell_type": "markdown",
   "id": "b1c4a94f",
   "metadata": {},
   "source": [
    "or you could do this"
   ]
  },
  {
   "cell_type": "code",
   "execution_count": 50,
   "id": "c09fb5ea",
   "metadata": {},
   "outputs": [
    {
     "data": {
      "text/plain": [
       "[[1, 0, 0], [1, 0, 1], [0, 1, 1]]"
      ]
     },
     "execution_count": 50,
     "metadata": {},
     "output_type": "execute_result"
    }
   ],
   "source": [
    "[r[::-1] for r in grid[::-1]]"
   ]
  },
  {
   "cell_type": "markdown",
   "id": "39006059",
   "metadata": {},
   "source": [
    "#### 🪛 challenge 3"
   ]
  },
  {
   "cell_type": "markdown",
   "id": "c4b0dc8c",
   "metadata": {},
   "source": [
    "return the pairwise sum [1 + 40, 10 + 5, 20 + 2] = [41, 15, 22]"
   ]
  },
  {
   "cell_type": "code",
   "execution_count": 51,
   "id": "9d1abe19",
   "metadata": {},
   "outputs": [],
   "source": [
    "a = [1, 10, 20]\n",
    "b = [40, 5, 2]"
   ]
  },
  {
   "cell_type": "code",
   "execution_count": 54,
   "id": "9734fc53",
   "metadata": {},
   "outputs": [
    {
     "data": {
      "text/plain": [
       "[41, 15, 22]"
      ]
     },
     "execution_count": 54,
     "metadata": {},
     "output_type": "execute_result"
    }
   ],
   "source": [
    "[(x+y) for x, y in zip(a,b)]"
   ]
  },
  {
   "cell_type": "markdown",
   "id": "9dcaa208",
   "metadata": {},
   "source": [
    "or we can add a third list"
   ]
  },
  {
   "cell_type": "code",
   "execution_count": 55,
   "id": "deb51ea2",
   "metadata": {},
   "outputs": [
    {
     "data": {
      "text/plain": [
       "[141, 215, 322]"
      ]
     },
     "execution_count": 55,
     "metadata": {},
     "output_type": "execute_result"
    }
   ],
   "source": [
    "[(x + y + z) for x, y, z in zip(a, b, [100, 200, 300])]"
   ]
  },
  {
   "cell_type": "markdown",
   "id": "3abafa98",
   "metadata": {},
   "source": [
    "#### 🪛 challenge 4"
   ]
  },
  {
   "cell_type": "code",
   "execution_count": 56,
   "id": "d09d978a",
   "metadata": {},
   "outputs": [],
   "source": [
    "def between(x):\n",
    "    return x if x >= 1 and x <= 10 else None"
   ]
  },
  {
   "cell_type": "code",
   "execution_count": 57,
   "id": "214172b7",
   "metadata": {},
   "outputs": [],
   "source": [
    "nums = [10, 4, 5, 100, -1, 6]"
   ]
  },
  {
   "cell_type": "code",
   "execution_count": 60,
   "id": "cdfbab1a",
   "metadata": {},
   "outputs": [
    {
     "data": {
      "text/plain": [
       "[10, 4, 5, 6]"
      ]
     },
     "execution_count": 60,
     "metadata": {},
     "output_type": "execute_result"
    }
   ],
   "source": [
    "[y for x in nums if (y := between(x))]"
   ]
  },
  {
   "cell_type": "markdown",
   "id": "e1250a66",
   "metadata": {},
   "source": [
    "#### 🪛 challenge 4"
   ]
  },
  {
   "cell_type": "code",
   "execution_count": 61,
   "id": "59dc55d4",
   "metadata": {},
   "outputs": [
    {
     "data": {
      "text/plain": [
       "['BLACK', 'red', 'PURPLE', 'grey']"
      ]
     },
     "execution_count": 61,
     "metadata": {},
     "output_type": "execute_result"
    }
   ],
   "source": [
    "colors = ['black', 'red', 'purple', 'grey']\n",
    "[col.upper() if len(col) > 4 else col for col in colors]"
   ]
  },
  {
   "cell_type": "code",
   "execution_count": 62,
   "id": "50891f42",
   "metadata": {},
   "outputs": [
    {
     "data": {
      "text/plain": [
       "['BLACK', 'Red', 'PURPLE', 'Grey']"
      ]
     },
     "execution_count": 62,
     "metadata": {},
     "output_type": "execute_result"
    }
   ],
   "source": [
    "# convert all strings longer than 4 characters to uppercase\n",
    "# convert the rest of the strings to titlecase\n",
    "[col.upper() if len(col) > 4 else col.title() for col in colors]"
   ]
  },
  {
   "cell_type": "code",
   "execution_count": 63,
   "id": "e421ca71",
   "metadata": {},
   "outputs": [],
   "source": [
    "#### 🪛 challenge 5"
   ]
  },
  {
   "cell_type": "code",
   "execution_count": 64,
   "id": "7fcba9e9",
   "metadata": {},
   "outputs": [],
   "source": [
    "input = [1, 1, 0, 0, 1]"
   ]
  },
  {
   "cell_type": "code",
   "execution_count": 66,
   "id": "99b47f78",
   "metadata": {},
   "outputs": [
    {
     "data": {
      "text/plain": [
       "[1.0, 1.0, 1.0]"
      ]
     },
     "execution_count": 66,
     "metadata": {},
     "output_type": "execute_result"
    }
   ],
   "source": [
    "# convert all 1's to floats and omit zeros\n",
    "[float(n) for n in input if n == 1]"
   ]
  },
  {
   "cell_type": "code",
   "execution_count": null,
   "id": "5185bdf6",
   "metadata": {},
   "outputs": [],
   "source": []
  }
 ],
 "metadata": {
  "kernelspec": {
   "display_name": "env",
   "language": "python",
   "name": "python3"
  },
  "language_info": {
   "codemirror_mode": {
    "name": "ipython",
    "version": 3
   },
   "file_extension": ".py",
   "mimetype": "text/x-python",
   "name": "python",
   "nbconvert_exporter": "python",
   "pygments_lexer": "ipython3",
   "version": "3.12.10"
  }
 },
 "nbformat": 4,
 "nbformat_minor": 5
}
