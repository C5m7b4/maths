{
 "cells": [
  {
   "cell_type": "markdown",
   "id": "84f23312",
   "metadata": {},
   "source": [
    "## 🎭 Alternatives\n",
    "\n",
    "\n",
    "Why not use map and filter??"
   ]
  },
  {
   "cell_type": "markdown",
   "id": "1ea8c312",
   "metadata": {},
   "source": [
    "### 🗺️ Map example"
   ]
  },
  {
   "cell_type": "code",
   "execution_count": 2,
   "id": "21b3e709",
   "metadata": {},
   "outputs": [],
   "source": [
    "def reverse_string(s):\n",
    "    if isinstance(s, str):\n",
    "        return s[::-1]\n",
    "    return \"\"\n"
   ]
  },
  {
   "cell_type": "code",
   "execution_count": 3,
   "id": "ac9f7023",
   "metadata": {},
   "outputs": [],
   "source": [
    "items = ['Hello', 0, 'goodbye', [5,4,3]]"
   ]
  },
  {
   "cell_type": "markdown",
   "id": "ed6e8f03",
   "metadata": {},
   "source": [
    "Here is the list comprehension"
   ]
  },
  {
   "cell_type": "code",
   "execution_count": 4,
   "id": "9147be7e",
   "metadata": {},
   "outputs": [
    {
     "data": {
      "text/plain": [
       "['olleH', '', 'eybdoog', '']"
      ]
     },
     "execution_count": 4,
     "metadata": {},
     "output_type": "execute_result"
    }
   ],
   "source": [
    "[reverse_string(st) for st in items]"
   ]
  },
  {
   "cell_type": "markdown",
   "id": "daa9a9bd",
   "metadata": {},
   "source": [
    "here is map"
   ]
  },
  {
   "cell_type": "code",
   "execution_count": 5,
   "id": "e6a06a4e",
   "metadata": {},
   "outputs": [
    {
     "data": {
      "text/plain": [
       "['olleH', '', 'eybdoog', '']"
      ]
     },
     "execution_count": 5,
     "metadata": {},
     "output_type": "execute_result"
    }
   ],
   "source": [
    "map_ = list(map(reverse_string, items))\n",
    "map_"
   ]
  },
  {
   "cell_type": "markdown",
   "id": "8c09e3ea",
   "metadata": {},
   "source": [
    "They are pretty much the same, so which one should I use and when? 😕\n",
    "\n",
    "one thing that we `can` do with list comprehensions that we `cannot do` with map is add a condition"
   ]
  },
  {
   "cell_type": "code",
   "execution_count": 9,
   "id": "7e4306d0",
   "metadata": {},
   "outputs": [
    {
     "data": {
      "text/plain": [
       "['eybdoog']"
      ]
     },
     "execution_count": 9,
     "metadata": {},
     "output_type": "execute_result"
    }
   ],
   "source": [
    "[reverse_string(st) for st in items if isinstance(st, str) and len(st) > 5]"
   ]
  },
  {
   "cell_type": "markdown",
   "id": "768296db",
   "metadata": {},
   "source": [
    "### 📼 Filter example"
   ]
  },
  {
   "cell_type": "code",
   "execution_count": 13,
   "id": "3aeafadc",
   "metadata": {},
   "outputs": [],
   "source": [
    "def is_square(number):\n",
    "    if number < 0:\n",
    "        return False\n",
    "    root = int(number ** 0.5)\n",
    "    return root * root == number"
   ]
  },
  {
   "cell_type": "code",
   "execution_count": 14,
   "id": "52282afc",
   "metadata": {},
   "outputs": [],
   "source": [
    "nums = [9, 10, 16, 36]"
   ]
  },
  {
   "cell_type": "code",
   "execution_count": 15,
   "id": "680bc4c7",
   "metadata": {},
   "outputs": [
    {
     "data": {
      "text/plain": [
       "[9, 16, 36]"
      ]
     },
     "execution_count": 15,
     "metadata": {},
     "output_type": "execute_result"
    }
   ],
   "source": [
    "[n for n in nums if is_square(n)]"
   ]
  },
  {
   "cell_type": "code",
   "execution_count": 16,
   "id": "ab5ca7f6",
   "metadata": {},
   "outputs": [
    {
     "data": {
      "text/plain": [
       "[9, 16, 36]"
      ]
     },
     "execution_count": 16,
     "metadata": {},
     "output_type": "execute_result"
    }
   ],
   "source": [
    "filter_ = list(filter(is_square, nums))\n",
    "filter_"
   ]
  },
  {
   "cell_type": "markdown",
   "id": "5ee26019",
   "metadata": {},
   "source": [
    "What I can do with list comprehension that I can't do with filter:\n",
    "\n",
    "- change the action <strong>(remember action, source, condition)</strong>"
   ]
  },
  {
   "cell_type": "code",
   "execution_count": 18,
   "id": "44860673",
   "metadata": {},
   "outputs": [
    {
     "data": {
      "text/plain": [
       "[10, 17, 37]"
      ]
     },
     "execution_count": 18,
     "metadata": {},
     "output_type": "execute_result"
    }
   ],
   "source": [
    "[n+1 for n in nums if is_square(n)]"
   ]
  },
  {
   "cell_type": "markdown",
   "id": "1d887f07",
   "metadata": {},
   "source": [
    "### 🗺️ map vs 📃 list comprehension"
   ]
  },
  {
   "cell_type": "code",
   "execution_count": 20,
   "id": "7d7d775e",
   "metadata": {},
   "outputs": [],
   "source": [
    "def pass_fail(score: int) -> str:\n",
    "    return 'Pass' if score > 65 else 'Fail'"
   ]
  },
  {
   "cell_type": "code",
   "execution_count": 23,
   "id": "874d5e49",
   "metadata": {},
   "outputs": [],
   "source": [
    "scores = [65, 100, 99, 54, 34, 55]"
   ]
  },
  {
   "cell_type": "code",
   "execution_count": 24,
   "id": "29cf2010",
   "metadata": {},
   "outputs": [
    {
     "data": {
      "text/plain": [
       "['Fail', 'Pass', 'Pass', 'Fail', 'Fail', 'Fail']"
      ]
     },
     "execution_count": 24,
     "metadata": {},
     "output_type": "execute_result"
    }
   ],
   "source": [
    "[pass_fail(score) for score in scores]"
   ]
  },
  {
   "cell_type": "code",
   "execution_count": 25,
   "id": "547af299",
   "metadata": {},
   "outputs": [
    {
     "data": {
      "text/plain": [
       "['Fail', 'Pass', 'Pass', 'Fail', 'Fail', 'Fail']"
      ]
     },
     "execution_count": 25,
     "metadata": {},
     "output_type": "execute_result"
    }
   ],
   "source": [
    "scores = list(map(pass_fail, scores))\n",
    "scores"
   ]
  },
  {
   "cell_type": "code",
   "execution_count": null,
   "id": "def0512c",
   "metadata": {},
   "outputs": [],
   "source": []
  }
 ],
 "metadata": {
  "kernelspec": {
   "display_name": "env",
   "language": "python",
   "name": "python3"
  },
  "language_info": {
   "codemirror_mode": {
    "name": "ipython",
    "version": 3
   },
   "file_extension": ".py",
   "mimetype": "text/x-python",
   "name": "python",
   "nbconvert_exporter": "python",
   "pygments_lexer": "ipython3",
   "version": "3.12.10"
  }
 },
 "nbformat": 4,
 "nbformat_minor": 5
}
