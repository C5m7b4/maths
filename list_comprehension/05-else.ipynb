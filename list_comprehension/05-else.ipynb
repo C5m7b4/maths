{
 "cells": [
  {
   "cell_type": "code",
   "execution_count": 1,
   "id": "6cc18bb9",
   "metadata": {},
   "outputs": [],
   "source": [
    "foods = ['apple', 'bananna', 'Cherry', 'Vanilla', 'grape']"
   ]
  },
  {
   "cell_type": "code",
   "execution_count": 4,
   "id": "dd8d5194",
   "metadata": {},
   "outputs": [
    {
     "data": {
      "text/plain": [
       "['Apple', 'Bananna', 'Cherry', 'Vanilla', 'Grape']"
      ]
     },
     "execution_count": 4,
     "metadata": {},
     "output_type": "execute_result"
    }
   ],
   "source": [
    "[f.title() if not f.istitle() else f for f in foods]"
   ]
  },
  {
   "cell_type": "code",
   "execution_count": 5,
   "id": "ee1e0341",
   "metadata": {},
   "outputs": [
    {
     "data": {
      "text/plain": [
       "['Bananna', 'Cherry', 'Vanilla']"
      ]
     },
     "execution_count": 5,
     "metadata": {},
     "output_type": "execute_result"
    }
   ],
   "source": [
    "# only get the foods that have a name longer than 5 characters\n",
    "[f.title() if not f.istitle() else f for f in foods if len(f) > 5]"
   ]
  },
  {
   "cell_type": "code",
   "execution_count": null,
   "id": "f20e3b0b",
   "metadata": {},
   "outputs": [],
   "source": []
  }
 ],
 "metadata": {
  "kernelspec": {
   "display_name": "env",
   "language": "python",
   "name": "python3"
  },
  "language_info": {
   "codemirror_mode": {
    "name": "ipython",
    "version": 3
   },
   "file_extension": ".py",
   "mimetype": "text/x-python",
   "name": "python",
   "nbconvert_exporter": "python",
   "pygments_lexer": "ipython3",
   "version": "3.12.10"
  }
 },
 "nbformat": 4,
 "nbformat_minor": 5
}
