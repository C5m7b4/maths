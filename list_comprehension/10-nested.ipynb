{
 "cells": [
  {
   "cell_type": "code",
   "execution_count": 2,
   "id": "db56c11e",
   "metadata": {},
   "outputs": [],
   "source": [
    "matrix = [[1, 0, 0, 1],\n",
    "          [0, 0, 0, 1],\n",
    "          [1, 1, 1, 1],\n",
    "          [1, 0, 0, 0]]"
   ]
  },
  {
   "cell_type": "markdown",
   "id": "53d2f395",
   "metadata": {},
   "source": [
    "for each row:\n",
    "\n",
    "- make a blank list\n",
    "- then for each item in the row:\n",
    "  - append True/False to blank list\n",
    "- Append the blank list to the master"
   ]
  },
  {
   "cell_type": "markdown",
   "id": "840ff57c",
   "metadata": {},
   "source": [
    "### 🪜 step 1:"
   ]
  },
  {
   "cell_type": "code",
   "execution_count": 7,
   "id": "ee879db3",
   "metadata": {},
   "outputs": [
    {
     "name": "stdout",
     "output_type": "stream",
     "text": [
      "[1, 0, 0, 1]\n",
      "[0, 0, 0, 1]\n",
      "[1, 1, 1, 1]\n",
      "[1, 0, 0, 0]\n"
     ]
    }
   ],
   "source": [
    "for row in matrix:\n",
    "    print(row)"
   ]
  },
  {
   "cell_type": "markdown",
   "id": "44b54566",
   "metadata": {},
   "source": [
    "### 🪜 step 2:"
   ]
  },
  {
   "cell_type": "code",
   "execution_count": 8,
   "id": "402a08e6",
   "metadata": {},
   "outputs": [
    {
     "name": "stdout",
     "output_type": "stream",
     "text": [
      "1\n",
      "0\n",
      "0\n",
      "1\n",
      "0\n",
      "0\n",
      "0\n",
      "1\n",
      "1\n",
      "1\n",
      "1\n",
      "1\n",
      "1\n",
      "0\n",
      "0\n",
      "0\n"
     ]
    }
   ],
   "source": [
    "for row in matrix:\n",
    "    for item in row:\n",
    "        print(item)"
   ]
  },
  {
   "cell_type": "markdown",
   "id": "518a0d95",
   "metadata": {},
   "source": [
    "### 🪜 step 3:"
   ]
  },
  {
   "cell_type": "code",
   "execution_count": 24,
   "id": "769e7c41",
   "metadata": {},
   "outputs": [
    {
     "data": {
      "text/plain": [
       "[[True, False, False, True],\n",
       " [False, False, False, True],\n",
       " [True, True, True, True],\n",
       " [True, False, False, False]]"
      ]
     },
     "execution_count": 24,
     "metadata": {},
     "output_type": "execute_result"
    }
   ],
   "source": [
    "master_matrix = []\n",
    "for row in matrix: # go through each row in the matrix\n",
    "    new_row = [] # temp storage for bool array\n",
    "    for item in row: # go through each item in the row\n",
    "        new_row.append(bool(item)) # append the bool of that item to new_row\n",
    "    master_matrix.append(new_row) # append the whole new row to master_matrix\n",
    "\n",
    "master_matrix    "
   ]
  },
  {
   "cell_type": "markdown",
   "id": "e6a41af7",
   "metadata": {},
   "source": [
    "### 🪜 step 4:"
   ]
  },
  {
   "cell_type": "code",
   "execution_count": 25,
   "id": "4f324679",
   "metadata": {},
   "outputs": [
    {
     "data": {
      "text/plain": [
       "[[True, False, False, True],\n",
       " [False, False, False, True],\n",
       " [True, True, True, True],\n",
       " [True, False, False, False]]"
      ]
     },
     "execution_count": 25,
     "metadata": {},
     "output_type": "execute_result"
    }
   ],
   "source": [
    "master_matrix = []\n",
    "for row in matrix: \n",
    "    new_row = [bool(item) for item in row]\n",
    "    master_matrix.append(new_row) \n",
    "master_matrix"
   ]
  },
  {
   "cell_type": "markdown",
   "id": "792dcf64",
   "metadata": {},
   "source": [
    "### 🪜 step 5:"
   ]
  },
  {
   "cell_type": "code",
   "execution_count": 27,
   "id": "e80c4810",
   "metadata": {},
   "outputs": [
    {
     "data": {
      "text/plain": [
       "[[True, False, False, True],\n",
       " [False, False, False, True],\n",
       " [True, True, True, True],\n",
       " [True, False, False, False]]"
      ]
     },
     "execution_count": 27,
     "metadata": {},
     "output_type": "execute_result"
    }
   ],
   "source": [
    "master_matrix = []\n",
    "for row in matrix: \n",
    "    master_matrix.append([bool(item) for item in row]) \n",
    "master_matrix"
   ]
  },
  {
   "cell_type": "markdown",
   "id": "386f925f",
   "metadata": {},
   "source": [
    "### 🪜 step 6:"
   ]
  },
  {
   "cell_type": "code",
   "execution_count": 29,
   "id": "f6ef9f62",
   "metadata": {},
   "outputs": [
    {
     "data": {
      "text/plain": [
       "[[True, False, False, True],\n",
       " [False, False, False, True],\n",
       " [True, True, True, True],\n",
       " [True, False, False, False]]"
      ]
     },
     "execution_count": 29,
     "metadata": {},
     "output_type": "execute_result"
    }
   ],
   "source": [
    "[[bool(item) for item in row] for row in matrix]"
   ]
  },
  {
   "cell_type": "code",
   "execution_count": null,
   "id": "9cd39ebb",
   "metadata": {},
   "outputs": [],
   "source": []
  }
 ],
 "metadata": {
  "kernelspec": {
   "display_name": "env",
   "language": "python",
   "name": "python3"
  },
  "language_info": {
   "codemirror_mode": {
    "name": "ipython",
    "version": 3
   },
   "file_extension": ".py",
   "mimetype": "text/x-python",
   "name": "python",
   "nbconvert_exporter": "python",
   "pygments_lexer": "ipython3",
   "version": "3.12.10"
  }
 },
 "nbformat": 4,
 "nbformat_minor": 5
}
