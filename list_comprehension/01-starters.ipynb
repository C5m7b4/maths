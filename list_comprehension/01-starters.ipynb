{
 "cells": [
  {
   "cell_type": "markdown",
   "id": "4b9a9fb7",
   "metadata": {},
   "source": [
    "# List Comprehensions"
   ]
  },
  {
   "cell_type": "markdown",
   "id": "d8e641a9",
   "metadata": {},
   "source": [
    "## Action - Source - Condition (ASC)\n",
    "\n",
    "we have 3 components.\n",
    "- action: what do I want to do with a piece of data\n",
    "- source: where does the data come from\n",
    "- condition: do I want all data or is there a condition:"
   ]
  },
  {
   "cell_type": "code",
   "execution_count": 1,
   "id": "edfa15d0",
   "metadata": {},
   "outputs": [],
   "source": [
    "names = ['alex', 'charlotte', 'daniel', 'tim']"
   ]
  },
  {
   "cell_type": "code",
   "execution_count": 3,
   "id": "5d8fcfac",
   "metadata": {},
   "outputs": [
    {
     "data": {
      "text/plain": [
       "['CHARLOTTE', 'DANIEL']"
      ]
     },
     "execution_count": 3,
     "metadata": {},
     "output_type": "execute_result"
    }
   ],
   "source": [
    "uppered_names = [name.upper() for name in names if len(name) > 4]\n",
    "uppered_names"
   ]
  },
  {
   "cell_type": "markdown",
   "id": "79c6581a",
   "metadata": {},
   "source": [
    "- action: uppercase the names\n",
    "- source: for each name in the names list\n",
    "- condition: name has to be longer than 4"
   ]
  },
  {
   "cell_type": "code",
   "execution_count": null,
   "id": "bb39da3d",
   "metadata": {},
   "outputs": [],
   "source": [
    "numbers = [10, 5, 6, 3, 2]"
   ]
  },
  {
   "cell_type": "markdown",
   "id": "11d23b7b",
   "metadata": {},
   "source": [
    "#### example from file"
   ]
  },
  {
   "cell_type": "code",
   "execution_count": 4,
   "id": "3e6c7eb8",
   "metadata": {},
   "outputs": [
    {
     "name": "stdout",
     "output_type": "stream",
     "text": [
      "5\n"
     ]
    }
   ],
   "source": [
    "file = open('hello.txt')\n",
    "file = file.read()\n",
    "vowels = []\n",
    "for letter in file.lower():\n",
    "    if letter in 'aeiou':\n",
    "        vowels.append(letter)\n",
    "\n",
    "print(len(vowels))"
   ]
  },
  {
   "cell_type": "code",
   "execution_count": 5,
   "id": "04b51027",
   "metadata": {},
   "outputs": [
    {
     "name": "stdout",
     "output_type": "stream",
     "text": [
      "5\n"
     ]
    }
   ],
   "source": [
    "vowels = [letter for letter in open('hello.txt').read().lower() if letter in 'aeiou']\n",
    "print(len(vowels))"
   ]
  },
  {
   "cell_type": "markdown",
   "id": "28f9e810",
   "metadata": {},
   "source": [
    "#### example from files"
   ]
  },
  {
   "cell_type": "code",
   "execution_count": 6,
   "id": "f942d20d",
   "metadata": {},
   "outputs": [
    {
     "name": "stdout",
     "output_type": "stream",
     "text": [
      "1\n"
     ]
    }
   ],
   "source": [
    "import os\n",
    "txt_files = []\n",
    "for file in os.listdir('.'):\n",
    "    if file.endswith('.txt'):\n",
    "        txt_files.append(file)\n",
    "\n",
    "print(len(txt_files))"
   ]
  },
  {
   "cell_type": "code",
   "execution_count": 11,
   "id": "7ae3ce3b",
   "metadata": {},
   "outputs": [
    {
     "data": {
      "text/plain": [
       "['hello.txt']"
      ]
     },
     "execution_count": 11,
     "metadata": {},
     "output_type": "execute_result"
    }
   ],
   "source": [
    "[file for file in os.listdir('.') if file.endswith('.txt')]"
   ]
  },
  {
   "cell_type": "markdown",
   "id": "485b28c1",
   "metadata": {},
   "source": [
    "#### example from range"
   ]
  },
  {
   "cell_type": "code",
   "execution_count": 8,
   "id": "d4e8657e",
   "metadata": {},
   "outputs": [
    {
     "name": "stdout",
     "output_type": "stream",
     "text": [
      "[10.5, 12.5, 14.5, 16.5, 18.5]\n"
     ]
    }
   ],
   "source": [
    "evens = []\n",
    "for i in range(10, 20):\n",
    "    if i % 2 == 0:\n",
    "        evens.append(i + 0.5)\n",
    "\n",
    "print(evens)"
   ]
  },
  {
   "cell_type": "code",
   "execution_count": 9,
   "id": "3a3c873c",
   "metadata": {},
   "outputs": [
    {
     "data": {
      "text/plain": [
       "[10.5, 12.5, 14.5, 16.5, 18.5]"
      ]
     },
     "execution_count": 9,
     "metadata": {},
     "output_type": "execute_result"
    }
   ],
   "source": [
    "[i+0.5 for i in range(10, 20) if i % 2 == 0]"
   ]
  },
  {
   "cell_type": "code",
   "execution_count": null,
   "id": "e807643f",
   "metadata": {},
   "outputs": [],
   "source": []
  }
 ],
 "metadata": {
  "kernelspec": {
   "display_name": "env",
   "language": "python",
   "name": "python3"
  },
  "language_info": {
   "codemirror_mode": {
    "name": "ipython",
    "version": 3
   },
   "file_extension": ".py",
   "mimetype": "text/x-python",
   "name": "python",
   "nbconvert_exporter": "python",
   "pygments_lexer": "ipython3",
   "version": "3.12.10"
  }
 },
 "nbformat": 4,
 "nbformat_minor": 5
}
