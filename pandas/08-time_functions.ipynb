{
 "cells": [
  {
   "cell_type": "markdown",
   "id": "674ee945",
   "metadata": {},
   "source": [
    "# Dates"
   ]
  },
  {
   "cell_type": "markdown",
   "id": "52487382",
   "metadata": {},
   "source": [
    "In any language, these dates always seem to get tricky. Let's play with dates a little bit"
   ]
  },
  {
   "cell_type": "code",
   "execution_count": 62,
   "id": "61aaa5e1",
   "metadata": {},
   "outputs": [],
   "source": [
    "import numpy as np\n",
    "import pandas as pd\n",
    "from datetime import date, datetime"
   ]
  },
  {
   "cell_type": "markdown",
   "id": "fcc4a311",
   "metadata": {},
   "source": [
    "## creating dates"
   ]
  },
  {
   "cell_type": "code",
   "execution_count": 28,
   "id": "47263af5",
   "metadata": {},
   "outputs": [],
   "source": [
    "my_year = 2025\n",
    "my_month = 6\n",
    "my_day = 7\n",
    "my_hour = 2\n",
    "my_minute = 30\n",
    "my_second = 15"
   ]
  },
  {
   "cell_type": "code",
   "execution_count": 29,
   "id": "db9b5dc9",
   "metadata": {},
   "outputs": [
    {
     "data": {
      "text/plain": [
       "datetime.datetime(2025, 6, 7, 2, 30, 15)"
      ]
     },
     "execution_count": 29,
     "metadata": {},
     "output_type": "execute_result"
    }
   ],
   "source": [
    "my_date = datetime(my_year, my_month, my_day, my_hour, my_minute, my_second)\n",
    "my_date"
   ]
  },
  {
   "cell_type": "code",
   "execution_count": 24,
   "id": "fe01ede7",
   "metadata": {},
   "outputs": [
    {
     "name": "stdout",
     "output_type": "stream",
     "text": [
      "todays date is : 06/07/2025\n"
     ]
    }
   ],
   "source": [
    "now = datetime.now()\n",
    "print(f'todays date is : {now.strftime('%m/%d/%Y')}')\n"
   ]
  },
  {
   "cell_type": "markdown",
   "id": "25cb365b",
   "metadata": {},
   "source": [
    "In my world, I would like to just pass a date into some function. \n",
    "\n",
    "That function then converts it to a date and does some magic. \n",
    "\n",
    "In javascript, it might look something like this:\n",
    "\n",
    "```js\n",
    "const formatDate = (input) => {\n",
    "    const date = new Date(input);\n",
    "    const year = date.getFullYear();\n",
    "    const month = String(date.getMonth() + 1).padStart(2, '0');\n",
    "    const day = String(date.getDate()).padStart(2, '0');\n",
    "    return `${year}/${month}/${day}`;\n",
    "}\n",
    "```\n"
   ]
  },
  {
   "cell_type": "markdown",
   "id": "b572ebb3",
   "metadata": {},
   "source": [
    "### Let's see why we can't use this function in python"
   ]
  },
  {
   "cell_type": "markdown",
   "id": "2c2c6de8",
   "metadata": {},
   "source": [
    "Let's try to execute this line of code\n",
    "\n",
    "```js\n",
    "const date = new Date(input);\n",
    "```\n",
    "\n",
    "I would think that you could just do this:\n",
    "\n",
    "```js\n",
    "date_from_string = datetime('6/1/2025')\n",
    "```"
   ]
  },
  {
   "cell_type": "markdown",
   "id": "b2ada7e9",
   "metadata": {},
   "source": [
    "If you try that, you will get this error:\n",
    "\n",
    "<div style=\"width: 100%; text-align: center;\"><span style=\"color: red\">'str'</span> object cannot be interpreted as an integer 💥</div>"
   ]
  },
  {
   "cell_type": "markdown",
   "id": "74a054f8",
   "metadata": {},
   "source": [
    "Here is what we need to do instead\n",
    "\n",
    "We need to use the <span style=\"font-size:1.1rem; color: steelblue;\">strptime</span> function\n",
    "\n",
    "My best guess is that it is 'string parsed from time'\n",
    "\n",
    "It takes two arguments, your string, and the format. We'll talk about formats more as well"
   ]
  },
  {
   "cell_type": "markdown",
   "id": "a929c9a9",
   "metadata": {},
   "source": [
    "## Format String"
   ]
  },
  {
   "cell_type": "markdown",
   "id": "f6ddcc8f",
   "metadata": {},
   "source": [
    "- The format string uses special codes (e.g., %Y, %m, %d, %H, %M, %S) to indicate the parts of the date and time.\n",
    "- For example:\n",
    "  - %Y: Year with century (e.g., 2023)\n",
    "  - %y: Year without century (e.g., 23)\n",
    "  - %m: Month as a zero-padded decimal number (e.g., 01 for January)\n",
    "  - %d: Day of the month as a zero-padded decimal number (e.,g 05) \n",
    "  - %H: Hour (24-hour clock)\n",
    "  - %I: Hour (12-hour clock)\n",
    "  - %M: Minute\n",
    "  - %S: Second\n",
    "  - %p: Locale's equivalent of AM or PM\n",
    "  - %a: Weekday as locale's abbreviated name\n",
    "  - %A: Weekday as locale's full name\n",
    "  - %b: Month as locale's abbreviated name\n",
    "  - %B: Month as locale's full name"
   ]
  },
  {
   "cell_type": "markdown",
   "id": "fd881aba",
   "metadata": {},
   "source": [
    "## Solution"
   ]
  },
  {
   "cell_type": "code",
   "execution_count": 41,
   "id": "ff24a231",
   "metadata": {},
   "outputs": [
    {
     "data": {
      "text/plain": [
       "datetime.datetime(2025, 6, 1, 0, 0)"
      ]
     },
     "execution_count": 41,
     "metadata": {},
     "output_type": "execute_result"
    }
   ],
   "source": [
    "date_from_string = datetime.strptime('6/1/2025', '%m/%d/%Y')\n",
    "date_from_string"
   ]
  },
  {
   "cell_type": "markdown",
   "id": "6fd11023",
   "metadata": {},
   "source": [
    "If you try to use this function with only the date, you will get this error:"
   ]
  },
  {
   "cell_type": "markdown",
   "id": "e9825242",
   "metadata": {},
   "source": [
    "![strptime_error](../images/strptime_error.png)"
   ]
  },
  {
   "cell_type": "markdown",
   "id": "9b10160d",
   "metadata": {},
   "source": [
    "Let's check out the results"
   ]
  },
  {
   "cell_type": "code",
   "execution_count": 45,
   "id": "c0da169c",
   "metadata": {},
   "outputs": [
    {
     "name": "stdout",
     "output_type": "stream",
     "text": [
      "2025-06-01 00:00:00\n",
      "<class 'datetime.datetime'>\n"
     ]
    }
   ],
   "source": [
    "print(date_from_string)\n",
    "print(type(date_from_string))\n",
    "    "
   ]
  },
  {
   "cell_type": "code",
   "execution_count": 47,
   "id": "dcbee23e",
   "metadata": {},
   "outputs": [
    {
     "name": "stdout",
     "output_type": "stream",
     "text": [
      "the month is: 6\n",
      "the day is: 1\n"
     ]
    }
   ],
   "source": [
    "print(f\"the month is: {date_from_string.month}\")\n",
    "print(f\"the day is: {date_from_string.day}\")"
   ]
  },
  {
   "cell_type": "markdown",
   "id": "fa64c032",
   "metadata": {},
   "source": [
    "To make our function work, we need to check if the input to the function is a string or a date and convert it properly"
   ]
  },
  {
   "cell_type": "code",
   "execution_count": 48,
   "id": "ff5db9d7",
   "metadata": {},
   "outputs": [],
   "source": [
    "def format_date(date):\n",
    "    if isinstance(date, str):\n",
    "        date = datetime.strptime(date, '%m/%d/%Y') # we are going to assume the format is coming from some basic json '6/2/2025'\n",
    "    # now we know we are working with a datetime object\n",
    "    month = date.month\n",
    "    day = date.day\n",
    "    year = date.year\n",
    "    return f\"{month:02d}/{day:02d}/{year}\""
   ]
  },
  {
   "cell_type": "code",
   "execution_count": 49,
   "id": "f464430b",
   "metadata": {},
   "outputs": [
    {
     "name": "stdout",
     "output_type": "stream",
     "text": [
      "06/01/2025\n"
     ]
    }
   ],
   "source": [
    "print(format_date('6/1/2025'))"
   ]
  },
  {
   "cell_type": "markdown",
   "id": "0124aff3",
   "metadata": {},
   "source": [
    "## Last Year Today"
   ]
  },
  {
   "cell_type": "markdown",
   "id": "9e243f1f",
   "metadata": {},
   "source": [
    "In the Grocery world, if we are comparing to last year, we need to compare the same day of the week last year, not just this calendar date last year."
   ]
  },
  {
   "cell_type": "markdown",
   "id": "8dc4fea9",
   "metadata": {},
   "source": [
    "Let's take for example that today is 6/7/2025. It's a Saturday. \n",
    "\n",
    "If I were comparing my sales to last year, last years date would actually be a Friday. "
   ]
  },
  {
   "cell_type": "markdown",
   "id": "7b045e33",
   "metadata": {},
   "source": [
    "![today](../images/calendar_today.png) ![today](../images/calendar_lastyear.png)"
   ]
  },
  {
   "cell_type": "markdown",
   "id": "8f482ca3",
   "metadata": {},
   "source": [
    "If I wanted to compare against the same Saturday of last year, the date would actually be the 8th"
   ]
  },
  {
   "cell_type": "markdown",
   "id": "3ae6cc78",
   "metadata": {},
   "source": [
    "How can we generate that in Python🙄"
   ]
  },
  {
   "cell_type": "code",
   "execution_count": 53,
   "id": "45217967",
   "metadata": {},
   "outputs": [],
   "source": [
    "this_years_sales_date = datetime.strptime('6/7/2025', '%m/%d/%Y') # remember the year is capitalized"
   ]
  },
  {
   "cell_type": "code",
   "execution_count": 56,
   "id": "4c633d7a",
   "metadata": {},
   "outputs": [
    {
     "name": "stdout",
     "output_type": "stream",
     "text": [
      "This year's week is: 23\n"
     ]
    }
   ],
   "source": [
    "this_years_week = this_years_sales_date.isocalendar().week\n",
    "print(f\"This year's week is: {this_years_week}\")"
   ]
  },
  {
   "cell_type": "code",
   "execution_count": 59,
   "id": "919ce656",
   "metadata": {},
   "outputs": [
    {
     "name": "stdout",
     "output_type": "stream",
     "text": [
      "The day of the week is: 6\n"
     ]
    }
   ],
   "source": [
    "# assuming the week start is Monday, so Saturday is 6\n",
    "# this is the python default\n",
    "# fortunately for us the week start financially does not matter for this case\n",
    "this_years_day_of_week = this_years_sales_date.isocalendar().weekday\n",
    "print(f\"The day of the week is: {this_years_day_of_week}\")"
   ]
  },
  {
   "cell_type": "code",
   "execution_count": 61,
   "id": "85d3802b",
   "metadata": {},
   "outputs": [],
   "source": [
    "last_years_year = this_years_sales_date.year - 1"
   ]
  },
  {
   "cell_type": "markdown",
   "id": "c12225e1",
   "metadata": {},
   "source": [
    "⁉️ Now we have the year, the week number, and the day of the week that correspondes to last year, this should be pretty easy, right?"
   ]
  },
  {
   "cell_type": "markdown",
   "id": "0ccf29d6",
   "metadata": {},
   "source": [
    "We can use the <span style=\"color:steelblue\">datetime.date.fromisocalendar()</span> function"
   ]
  },
  {
   "cell_type": "code",
   "execution_count": 63,
   "id": "81858710",
   "metadata": {},
   "outputs": [
    {
     "name": "stdout",
     "output_type": "stream",
     "text": [
      "Last year's sales date is: 2024-06-08\n"
     ]
    }
   ],
   "source": [
    "last_years_sales_date = date.fromisocalendar(last_years_year, this_years_week, this_years_day_of_week)\n",
    "print(f\"Last year's sales date is: {last_years_sales_date}\")"
   ]
  },
  {
   "cell_type": "markdown",
   "id": "e4ab17a6",
   "metadata": {},
   "source": [
    "🎂 Perfect!!!"
   ]
  },
  {
   "cell_type": "markdown",
   "id": "525456ce",
   "metadata": {},
   "source": [
    "### Small Problem"
   ]
  },
  {
   "cell_type": "markdown",
   "id": "fb66ec13",
   "metadata": {},
   "source": [
    "#### Why Week Numbers can differ year to year"
   ]
  },
  {
   "cell_type": "markdown",
   "id": "2f5ed740",
   "metadata": {},
   "source": [
    "- The ISO calendar (which is what isocalendar() and fromisocalendar() use) is based on weeks starting on Monday and week 1 is the week containing the year’s first Thursday.\n",
    "\n",
    "- Years can have 52 or 53 weeks, depending on how the calendar lines up.\n",
    "\n",
    "- Dates near the start or end of the year can have the same calendar date but a different ISO week number in different years."
   ]
  },
  {
   "cell_type": "markdown",
   "id": "070cf724",
   "metadata": {},
   "source": [
    "##### Example"
   ]
  },
  {
   "cell_type": "markdown",
   "id": "06916ec6",
   "metadata": {},
   "source": [
    "- January 1, 2024 is in ISO week 1.\n",
    "\n",
    "- January 1, 2023 is in ISO week 52 of 2022!\n",
    "\n",
    "- The week that is “week 23” in 2025 might cover different date ranges than “week 23” in 2024, depending on leap years and where the first week starts."
   ]
  },
  {
   "cell_type": "markdown",
   "id": "31958a48",
   "metadata": {},
   "source": [
    "We need to find the correct corresponding week to last year to make this work correctly"
   ]
  },
  {
   "cell_type": "code",
   "execution_count": 66,
   "id": "212ff39f",
   "metadata": {},
   "outputs": [
    {
     "name": "stdout",
     "output_type": "stream",
     "text": [
      "Last year's week is: 23\n"
     ]
    }
   ],
   "source": [
    "last_year = this_years_sales_date.replace(year=this_years_sales_date.year - 1)\n",
    "last_years_week = last_year.isocalendar().week\n",
    "print(f\"Last year's week is: {last_years_week}\")"
   ]
  },
  {
   "cell_type": "markdown",
   "id": "21b86893",
   "metadata": {},
   "source": [
    "## Solution"
   ]
  },
  {
   "cell_type": "markdown",
   "id": "24940187",
   "metadata": {},
   "source": [
    "Now we should have a real solution that takes into consideration leap years"
   ]
  },
  {
   "cell_type": "code",
   "execution_count": 67,
   "id": "98cd0a67",
   "metadata": {},
   "outputs": [
    {
     "name": "stdout",
     "output_type": "stream",
     "text": [
      "Last year's sales date is: 2024-06-08 00:00:00\n"
     ]
    }
   ],
   "source": [
    "last_years_sales_date = datetime.fromisocalendar(last_year.year, last_years_week, this_years_day_of_week)\n",
    "print(f\"Last year's sales date is: {last_years_sales_date}\")"
   ]
  },
  {
   "cell_type": "markdown",
   "id": "88b4db03",
   "metadata": {},
   "source": [
    "After all that, I just need a function that gives me the date for last year today"
   ]
  },
  {
   "cell_type": "code",
   "execution_count": 69,
   "id": "10337169",
   "metadata": {},
   "outputs": [],
   "source": [
    "def last_years_sales_date(date):\n",
    "    if isinstance(date, str):\n",
    "        date = datetime.strptime(date, '%m/%d/%Y')\n",
    "    this_years_day_of_week = date.isocalendar().weekday\n",
    "    last_year = date.replace(year=date.year - 1)\n",
    "    last_years_week = last_year.isocalendar().week\n",
    "    return datetime.fromisocalendar(last_year.year, last_years_week, this_years_day_of_week)"
   ]
  },
  {
   "cell_type": "code",
   "execution_count": 71,
   "id": "0e08a7e3",
   "metadata": {},
   "outputs": [
    {
     "name": "stdout",
     "output_type": "stream",
     "text": [
      "Last year's sales date is: 2024-06-08 00:00:00\n"
     ]
    }
   ],
   "source": [
    "lysd = last_years_sales_date('6/7/2025')\n",
    "print(f\"Last year's sales date is: {lysd}\")"
   ]
  },
  {
   "cell_type": "markdown",
   "id": "08f0adbb",
   "metadata": {},
   "source": [
    "## manipulation"
   ]
  },
  {
   "cell_type": "code",
   "execution_count": 25,
   "id": "9a245473",
   "metadata": {},
   "outputs": [],
   "source": [
    "today = now"
   ]
  },
  {
   "cell_type": "code",
   "execution_count": 30,
   "id": "880f4c0f",
   "metadata": {},
   "outputs": [
    {
     "name": "stdout",
     "output_type": "stream",
     "text": [
      "the month is: 06\n",
      "the single digit month is: 6\n"
     ]
    }
   ],
   "source": [
    "month = today.strftime('%m')\n",
    "print(f'the month is: {month}')\n",
    "print(f'the single digit month is: {int(month)}')"
   ]
  },
  {
   "cell_type": "code",
   "execution_count": 33,
   "id": "0444e82c",
   "metadata": {},
   "outputs": [
    {
     "name": "stdout",
     "output_type": "stream",
     "text": [
      "the month is: 06\n",
      "the single digit month is: 6\n"
     ]
    }
   ],
   "source": [
    "# this could also be written as:\n",
    "print(f'the month is: {datetime.now().strftime('%m')}')\n",
    "print(f'the single digit month is: {int(datetime.now().strftime('%m'))}')"
   ]
  },
  {
   "cell_type": "code",
   "execution_count": 36,
   "id": "04377fd6",
   "metadata": {},
   "outputs": [
    {
     "name": "stdout",
     "output_type": "stream",
     "text": [
      "the day of the month is: 07\n",
      "the single digit day of the month is: 7\n"
     ]
    }
   ],
   "source": [
    "print(f'the day of the month is: {today.strftime('%d')}')\n",
    "print(f'the single digit day of the month is: {int(today.strftime('%d'))}')"
   ]
  },
  {
   "cell_type": "code",
   "execution_count": 74,
   "id": "a4935ac5",
   "metadata": {},
   "outputs": [
    {
     "name": "stdout",
     "output_type": "stream",
     "text": [
      "Yesterday's date is: 06/06/2025\n",
      "String version of yesterday's date is: 06/06/2025\n"
     ]
    }
   ],
   "source": [
    "yesterday = today - pd.Timedelta(days=1)\n",
    "print(f\"Yesterday's date is: {yesterday.strftime('%m/%d/%Y')}\")\n",
    "\n",
    "string_version_of_yesterday = yesterday.strftime('%m/%d/%Y')\n",
    "print(f\"String version of yesterday's date is: {string_version_of_yesterday}\")"
   ]
  },
  {
   "cell_type": "markdown",
   "id": "380102fc",
   "metadata": {},
   "source": [
    "## series"
   ]
  },
  {
   "cell_type": "code",
   "execution_count": 4,
   "id": "b6ec59de",
   "metadata": {},
   "outputs": [],
   "source": [
    "my_ser = pd.Series(['Nov 3, 1990', '2000-01-01', None])"
   ]
  },
  {
   "cell_type": "code",
   "execution_count": 5,
   "id": "ac520d35",
   "metadata": {},
   "outputs": [
    {
     "data": {
      "text/plain": [
       "0    Nov 3, 1990\n",
       "1     2000-01-01\n",
       "2           None\n",
       "dtype: object"
      ]
     },
     "execution_count": 5,
     "metadata": {},
     "output_type": "execute_result"
    }
   ],
   "source": [
    "my_ser"
   ]
  },
  {
   "cell_type": "code",
   "execution_count": 9,
   "id": "7ae8cf14",
   "metadata": {},
   "outputs": [
    {
     "data": {
      "text/plain": [
       "0   1990-11-03\n",
       "1   2000-01-01\n",
       "2          NaT\n",
       "dtype: datetime64[ns]"
      ]
     },
     "execution_count": 9,
     "metadata": {},
     "output_type": "execute_result"
    }
   ],
   "source": [
    "pd.to_datetime(my_ser, format='mixed')"
   ]
  },
  {
   "cell_type": "code",
   "execution_count": 10,
   "id": "01e86b83",
   "metadata": {},
   "outputs": [
    {
     "data": {
      "text/plain": [
       "0    Nov 3, 1990\n",
       "1     2000-01-01\n",
       "2           None\n",
       "dtype: object"
      ]
     },
     "execution_count": 10,
     "metadata": {},
     "output_type": "execute_result"
    }
   ],
   "source": [
    "my_ser"
   ]
  },
  {
   "cell_type": "code",
   "execution_count": null,
   "id": "12995e5e",
   "metadata": {},
   "outputs": [],
   "source": []
  }
 ],
 "metadata": {
  "kernelspec": {
   "display_name": "env",
   "language": "python",
   "name": "python3"
  },
  "language_info": {
   "codemirror_mode": {
    "name": "ipython",
    "version": 3
   },
   "file_extension": ".py",
   "mimetype": "text/x-python",
   "name": "python",
   "nbconvert_exporter": "python",
   "pygments_lexer": "ipython3",
   "version": "3.12.10"
  }
 },
 "nbformat": 4,
 "nbformat_minor": 5
}
