{
 "cells": [
  {
   "cell_type": "code",
   "execution_count": 30,
   "id": "860640f2",
   "metadata": {},
   "outputs": [],
   "source": [
    "import matplotlib.pyplot as plt"
   ]
  },
  {
   "cell_type": "code",
   "execution_count": 44,
   "id": "151e244d",
   "metadata": {},
   "outputs": [],
   "source": [
    "inputs = [1,2,3,4]\n",
    "targets = [12,14,16,18]"
   ]
  },
  {
   "cell_type": "markdown",
   "id": "30192544",
   "metadata": {},
   "source": [
    "$\n",
    "\\Large\n",
    "\\text{Cost} = \\frac{1}{n} \\sum_{i=1}^{n} e_i\n",
    "$"
   ]
  },
  {
   "cell_type": "code",
   "execution_count": 54,
   "id": "4475450b",
   "metadata": {},
   "outputs": [
    {
     "name": "stdout",
     "output_type": "stream",
     "text": [
      "Weight(slope): 0.10, Bias: 0.30 cost: 213.31\n",
      "Weight(slope): 7.80, Bias: 3.19 cost: 101.19\n",
      "Weight(slope): 2.50, Bias: 1.65 cost: 50.52\n",
      "Weight(slope): 5.92, Bias: 3.07 cost: 27.48\n",
      "Weight(slope): 3.50, Bias: 2.49 cost: 16.85\n",
      "Weight(slope): 5.00, Bias: 3.24 cost: 11.81\n",
      "Weight(slope): 3.88, Bias: 3.09 cost: 9.29\n",
      "Weight(slope): 4.51, Bias: 3.54 cost: 7.93\n",
      "Weight(slope): 3.97, Bias: 3.57 cost: 7.10\n",
      "Weight(slope): 4.23, Bias: 3.87 cost: 6.51\n",
      "Weight(slope): 3.95, Bias: 3.98 cost: 6.06\n",
      "Weight(slope): 4.03, Bias: 4.21 cost: 5.67\n",
      "Weight(slope): 3.88, Bias: 4.35 cost: 5.32\n",
      "Weight(slope): 3.88, Bias: 4.54 cost: 5.00\n",
      "Weight(slope): 3.79, Bias: 4.69 cost: 4.70\n",
      "Weight(slope): 3.76, Bias: 4.86 cost: 4.42\n",
      "Weight(slope): 3.69, Bias: 5.01 cost: 4.16\n",
      "Weight(slope): 3.65, Bias: 5.16 cost: 3.91\n",
      "Weight(slope): 3.59, Bias: 5.30 cost: 3.68\n",
      "Weight(slope): 3.55, Bias: 5.45 cost: 3.46\n",
      "Weight(slope): 3.50, Bias: 5.58 cost: 3.26\n",
      "Weight(slope): 3.46, Bias: 5.71 cost: 3.07\n",
      "Weight(slope): 3.41, Bias: 5.84 cost: 2.89\n",
      "Weight(slope): 3.37, Bias: 5.97 cost: 2.72\n",
      "Weight(slope): 3.33, Bias: 6.09 cost: 2.56\n",
      "Weight(slope): 3.29, Bias: 6.20 cost: 2.41\n",
      "Weight(slope): 3.25, Bias: 6.32 cost: 2.26\n",
      "Weight(slope): 3.21, Bias: 6.43 cost: 2.13\n",
      "Weight(slope): 3.18, Bias: 6.54 cost: 2.00\n",
      "Weight(slope): 3.14, Bias: 6.64 cost: 1.89\n",
      "Weight(slope): 3.11, Bias: 6.74 cost: 1.78\n",
      "Weight(slope): 3.08, Bias: 6.84 cost: 1.67\n",
      "Weight(slope): 3.04, Bias: 6.93 cost: 1.57\n",
      "Weight(slope): 3.01, Bias: 7.02 cost: 1.48\n",
      "Weight(slope): 2.98, Bias: 7.11 cost: 1.39\n",
      "Weight(slope): 2.95, Bias: 7.20 cost: 1.31\n",
      "Weight(slope): 2.92, Bias: 7.28 cost: 1.23\n",
      "Weight(slope): 2.90, Bias: 7.36 cost: 1.16\n",
      "Weight(slope): 2.87, Bias: 7.44 cost: 1.09\n",
      "Weight(slope): 2.84, Bias: 7.52 cost: 1.03\n",
      "Weight(slope): 2.82, Bias: 7.59 cost: 0.97\n",
      "Weight(slope): 2.79, Bias: 7.67 cost: 0.91\n",
      "Weight(slope): 2.77, Bias: 7.74 cost: 0.86\n",
      "Weight(slope): 2.75, Bias: 7.80 cost: 0.81\n",
      "Weight(slope): 2.72, Bias: 7.87 cost: 0.76\n",
      "Weight(slope): 2.70, Bias: 7.93 cost: 0.71\n",
      "Weight(slope): 2.68, Bias: 8.00 cost: 0.67\n",
      "Weight(slope): 2.66, Bias: 8.06 cost: 0.63\n",
      "Weight(slope): 2.64, Bias: 8.11 cost: 0.59\n",
      "Weight(slope): 2.62, Bias: 8.17 cost: 0.56\n",
      "Weight(slope): 2.60, Bias: 8.22 cost: 0.53\n",
      "Weight(slope): 2.59, Bias: 8.28 cost: 0.50\n",
      "Weight(slope): 2.57, Bias: 8.33 cost: 0.47\n",
      "Weight(slope): 2.55, Bias: 8.38 cost: 0.44\n",
      "Weight(slope): 2.53, Bias: 8.43 cost: 0.41\n",
      "Weight(slope): 2.52, Bias: 8.48 cost: 0.39\n",
      "Weight(slope): 2.50, Bias: 8.52 cost: 0.37\n",
      "Weight(slope): 2.49, Bias: 8.57 cost: 0.34\n",
      "Weight(slope): 2.47, Bias: 8.61 cost: 0.32\n",
      "Weight(slope): 2.46, Bias: 8.65 cost: 0.30\n",
      "Weight(slope): 2.45, Bias: 8.69 cost: 0.29\n",
      "Weight(slope): 2.43, Bias: 8.73 cost: 0.27\n",
      "Weight(slope): 2.42, Bias: 8.77 cost: 0.25\n",
      "Weight(slope): 2.41, Bias: 8.80 cost: 0.24\n",
      "Weight(slope): 2.39, Bias: 8.84 cost: 0.22\n",
      "Weight(slope): 2.38, Bias: 8.87 cost: 0.21\n",
      "Weight(slope): 2.37, Bias: 8.91 cost: 0.20\n",
      "Weight(slope): 2.36, Bias: 8.94 cost: 0.19\n",
      "Weight(slope): 2.35, Bias: 8.97 cost: 0.18\n",
      "Weight(slope): 2.34, Bias: 9.00 cost: 0.17\n",
      "Weight(slope): 2.33, Bias: 9.03 cost: 0.16\n",
      "Weight(slope): 2.32, Bias: 9.06 cost: 0.15\n",
      "Weight(slope): 2.31, Bias: 9.09 cost: 0.14\n",
      "Weight(slope): 2.30, Bias: 9.12 cost: 0.13\n",
      "Weight(slope): 2.29, Bias: 9.14 cost: 0.12\n",
      "Weight(slope): 2.28, Bias: 9.17 cost: 0.12\n",
      "Weight(slope): 2.27, Bias: 9.19 cost: 0.11\n",
      "Weight(slope): 2.27, Bias: 9.22 cost: 0.10\n",
      "Weight(slope): 2.26, Bias: 9.24 cost: 0.10\n",
      "Weight(slope): 2.25, Bias: 9.26 cost: 0.09\n",
      "Weight(slope): 2.24, Bias: 9.29 cost: 0.08\n",
      "Weight(slope): 2.24, Bias: 9.31 cost: 0.08\n",
      "Weight(slope): 2.23, Bias: 9.33 cost: 0.08\n",
      "Weight(slope): 2.22, Bias: 9.35 cost: 0.07\n",
      "Weight(slope): 2.21, Bias: 9.37 cost: 0.07\n",
      "Weight(slope): 2.21, Bias: 9.39 cost: 0.06\n",
      "Weight(slope): 2.20, Bias: 9.41 cost: 0.06\n",
      "Weight(slope): 2.20, Bias: 9.42 cost: 0.06\n",
      "Weight(slope): 2.19, Bias: 9.44 cost: 0.05\n",
      "Weight(slope): 2.18, Bias: 9.46 cost: 0.05\n",
      "Weight(slope): 2.18, Bias: 9.47 cost: 0.05\n",
      "Weight(slope): 2.17, Bias: 9.49 cost: 0.04\n",
      "Weight(slope): 2.17, Bias: 9.50 cost: 0.04\n",
      "Weight(slope): 2.16, Bias: 9.52 cost: 0.04\n",
      "Weight(slope): 2.16, Bias: 9.53 cost: 0.04\n",
      "Weight(slope): 2.15, Bias: 9.55 cost: 0.03\n",
      "Weight(slope): 2.15, Bias: 9.56 cost: 0.03\n",
      "Weight(slope): 2.14, Bias: 9.57 cost: 0.03\n",
      "Weight(slope): 2.14, Bias: 9.59 cost: 0.03\n",
      "Weight(slope): 2.14, Bias: 9.60 cost: 0.03\n",
      "input: 5, target: 20, prediction: 20.2721\n",
      "input: 6, target: 22, prediction: 22.4041\n"
     ]
    }
   ],
   "source": [
    "w = 0.1 # weight or slope\n",
    "learning_rate = 0.1\n",
    "epochs = 100\n",
    "b = 0.3\n",
    "\n",
    "def predict(i):\n",
    "    return w * i + b\n",
    "\n",
    "#train the network\n",
    "cost_arr = []\n",
    "for i in range(epochs):\n",
    "    preds = [predict(i) for i in inputs]\n",
    "    errors = [(p - t)**2 for p, t in zip(preds, targets)]\n",
    "    cost = sum(errors) / len(targets)\n",
    "    cost_arr.append(cost)\n",
    "    print(f'Weight(slope): {w:.2f}, Bias: {b:.2f} cost: {cost:.2f}')\n",
    "    errors_d = [2 * (p - t) for p, t in zip(preds, targets)] # error derivative\n",
    "    weight_d = [e * i for e, i in zip(errors_d, inputs)] # weight derivative\n",
    "    bias_d = [e * 1 for e in errors_d]\n",
    "\n",
    "\n",
    "    w -= learning_rate * sum(weight_d) / len(weight_d)\n",
    "    b -= learning_rate * sum(bias_d) / len(bias_d)\n",
    "\n",
    "# test the network\n",
    "test_inputs = [5,6]\n",
    "test_targets = [20,22]\n",
    "pred = [predict(i) for i in test_inputs]\n",
    "for i, t, p in zip(test_inputs, test_targets, pred):\n",
    "    print(f\"input: {i}, target: {t}, prediction: {p:.4f}\")    "
   ]
  },
  {
   "cell_type": "code",
   "execution_count": 49,
   "id": "307128e9",
   "metadata": {},
   "outputs": [
    {
     "data": {
      "image/png": "[encoded data removed]",
      "text/plain": [
       "<Figure size 640x480 with 1 Axes>"
      ]
     },
     "metadata": {},
     "output_type": "display_data"
    }
   ],
   "source": [
    "plt.plot(cost_arr, 'ro')\n",
    "plt.grid()\n",
    "plt.show()"
   ]
  },
  {
   "cell_type": "code",
   "execution_count": null,
   "id": "97e15d77",
   "metadata": {},
   "outputs": [],
   "source": []
  }
 ],
 "metadata": {
  "kernelspec": {
   "display_name": "env",
   "language": "python",
   "name": "python3"
  },
  "language_info": {
   "codemirror_mode": {
    "name": "ipython",
    "version": 3
   },
   "file_extension": ".py",
   "mimetype": "text/x-python",
   "name": "python",
   "nbconvert_exporter": "python",
   "pygments_lexer": "ipython3",
   "version": "3.12.10"
  }
 },
 "nbformat": 4,
 "nbformat_minor": 5
}
