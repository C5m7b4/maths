{
 "cells": [
  {
   "cell_type": "code",
   "execution_count": 16,
   "id": "8c30a813",
   "metadata": {},
   "outputs": [],
   "source": [
    "import math"
   ]
  },
  {
   "cell_type": "code",
   "execution_count": 17,
   "id": "11377bf8",
   "metadata": {},
   "outputs": [],
   "source": [
    "inputs = [(0.0000, 0.0000), (0.2778, 0.2500), (0.2778, 0.9375), (0.9167, 0.6563),\n",
    "    (0.4167, 0.2500), (0.3611, 0.3438), (0.3333, 0.4063), (0.9722, 0.3750),\n",
    "    (0.0833, 0.3438), (0.6389, 0.3438), (0.4167, 0.6875), (0.7500, 0.6875),\n",
    "    (0.0833, 0.1875), (0.9167, 0.5313), (0.1389, 0.2500), (0.8333, 0.6250),\n",
    "    (0.8056, 0.6250), (0.1944, 1.0000), (0.8333, 0.5625), (0.4167, 1.0000),\n",
    "    (1.0000, 0.6875), (0.4722, 0.6563), (0.3611, 0.5625), (0.4722, 0.8438),\n",
    "    (0.1667, 0.3125), (0.4167, 0.9375), (0.3611, 0.9688), (0.9167, 0.3438),\n",
    "    (0.0833, 0.0313), (0.3333, 0.8750)]"
   ]
  },
  {
   "cell_type": "code",
   "execution_count": 18,
   "id": "3444a80a",
   "metadata": {},
   "outputs": [],
   "source": [
    "red = (1, 0, 0)\n",
    "green = (0,1,0)\n",
    "blue = (0, 0, 1)"
   ]
  },
  {
   "cell_type": "code",
   "execution_count": 19,
   "id": "bcfe0bfa",
   "metadata": {},
   "outputs": [],
   "source": [
    "targets = [red, red, blue, green, red, red, red, green, red, green, blue, green, red,\n",
    "    green, red, green, green, blue, green, blue, green, blue, blue, blue,\n",
    "    red, blue, blue, green, red, blue]"
   ]
  },
  {
   "cell_type": "code",
   "execution_count": null,
   "id": "1b76c41e",
   "metadata": {},
   "outputs": [
    {
     "name": "stdout",
     "output_type": "stream",
     "text": [
      "1.0\n"
     ]
    }
   ],
   "source": [
    "weights = [[0.1, 0.2], [0.15, 0.25], [0.18, 0.1]]\n",
    "biases = [0.3, 0.4, 0.35]\n",
    "epochs = 1\n",
    "learning_rate = 0.1\n",
    "\n",
    "def softmax(predictions):\n",
    "    m = max(predictions)\n",
    "    temp = [math.exp(p -m) for p in predictions]\n",
    "    total = sum(temp)\n",
    "    return [t / total for t in temp]\n",
    "\n",
    "def log_loss(activations, targets):\n",
    "    losses = [-t * math.log(a) - (1-t) * math.log(1-a) for a, i in zip(activations, targets)]\n",
    "    return sum(losses)\n",
    "\n",
    "# train loop\n",
    "for epoch in range(epochs):\n",
    "    pred = [[sum([w*i for w, i in zip(we, inp)]) +\n",
    "        bi for we, bi in zip(weights, biases)] for inp in inputs]\n",
    "    \n",
    "    act = [softmax(p) for p in pred]\n",
    "    print(sum(act[0]))\n"
   ]
  },
  {
   "cell_type": "code",
   "execution_count": null,
   "id": "443d2fe8",
   "metadata": {},
   "outputs": [],
   "source": []
  }
 ],
 "metadata": {
  "language_info": {
   "name": "python"
  }
 },
 "nbformat": 4,
 "nbformat_minor": 5
}
