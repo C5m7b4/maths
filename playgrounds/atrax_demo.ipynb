{
 "cells": [
  {
   "cell_type": "code",
   "execution_count": 2,
   "id": "3379bc8f",
   "metadata": {},
   "outputs": [],
   "source": [
    "from atrax import Atrax"
   ]
  },
  {
   "cell_type": "code",
   "execution_count": 3,
   "id": "5a7dccc2",
   "metadata": {},
   "outputs": [],
   "source": [
    "s = Atrax.Series([1,2,3,4,5,6,7,8,9,10,11])"
   ]
  },
  {
   "cell_type": "code",
   "execution_count": 4,
   "id": "48d986f0",
   "metadata": {},
   "outputs": [
    {
     "data": {
      "text/html": [
       "<table style='border-collapse: collapse;'><tr><td style=''>0</td><td style=''>1</td></tr><tr><td style=''>1</td><td style=''>2</td></tr><tr><td style=''>2</td><td style=''>3</td></tr><tr><td style=''>3</td><td style=''>4</td></tr><tr><td style=''>4</td><td style=''>5</td></tr><tr><td style=''>5</td><td style=''>6</td></tr><tr><td style=''>6</td><td style=''>7</td></tr><tr><td style=''>7</td><td style=''>8</td></tr><tr><td style=''>8</td><td style=''>9</td></tr><tr><td style=''>9</td><td style=''>10</td></tr><tr><td colspan='2' style='font-style: bold; font-size:1.1rem;'>Name: , dtype: int</td></tr><tr><td colspan='2'><i>...1 more</i></td></tr></table>"
      ],
      "text/plain": [
       "0   1\n",
       "1   2\n",
       "2   3\n",
       "3   4\n",
       "4   5\n",
       "5   6\n",
       "6   7\n",
       "7   8\n",
       "8   9\n",
       "9   10\n",
       "...(11 total)\n",
       "Name: , dtype: int"
      ]
     },
     "execution_count": 4,
     "metadata": {},
     "output_type": "execute_result"
    }
   ],
   "source": [
    "s"
   ]
  },
  {
   "cell_type": "code",
   "execution_count": 6,
   "id": "28535441",
   "metadata": {},
   "outputs": [
    {
     "data": {
      "text/plain": [
       "atrax.core.series.Series"
      ]
     },
     "execution_count": 6,
     "metadata": {},
     "output_type": "execute_result"
    }
   ],
   "source": [
    "type(s)"
   ]
  },
  {
   "cell_type": "code",
   "execution_count": 11,
   "id": "a3829f82",
   "metadata": {},
   "outputs": [
    {
     "data": {
      "text/html": [
       "<table style='border-collapse: collapse;'><tr><td style=''>0</td><td style=''>1.5</td></tr><tr><td style=''>1</td><td style=''>2.5</td></tr><tr><td style=''>2</td><td style=''>3.25</td></tr><tr><td colspan='2' style='font-style: bold; font-size:1.1rem;'>Name: floats, dtype: float</td></tr></table>"
      ],
      "text/plain": [
       "0   1.5\n",
       "1   2.5\n",
       "2   3.25\n",
       "Name: floats, dtype: float"
      ]
     },
     "execution_count": 11,
     "metadata": {},
     "output_type": "execute_result"
    }
   ],
   "source": [
    "Atrax.Series([1.5, 2.5, 3.25], name=\"floats\")"
   ]
  },
  {
   "cell_type": "code",
   "execution_count": 8,
   "id": "e1e70a0c",
   "metadata": {},
   "outputs": [
    {
     "data": {
      "text/html": [
       "<table style='border-collapse: collapse;'><tr><td style=''>0</td><td style=''>1</td></tr><tr><td style=''>1</td><td style=''>2</td></tr><tr><td style=''>2</td><td style=''>3</td></tr><tr><td colspan='2' style='font-style: bold; font-size:1.1rem;'>Name: , dtype: object</td></tr></table>"
      ],
      "text/plain": [
       "0   1\n",
       "1   2\n",
       "2   3\n",
       "Name: , dtype: object"
      ]
     },
     "execution_count": 8,
     "metadata": {},
     "output_type": "execute_result"
    }
   ],
   "source": [
    "Atrax.Series([\"1\", \"2\", \"3\"])"
   ]
  },
  {
   "cell_type": "code",
   "execution_count": 10,
   "id": "8b4785ed",
   "metadata": {},
   "outputs": [
    {
     "data": {
      "text/html": [
       "<table style='border-collapse: collapse;'><tr><td style=''>0</td><td style=''>1</td></tr><tr><td style=''>1</td><td style=''>2.5</td></tr><tr><td style=''>2</td><td style=''>True</td></tr><tr><td style=''>3</td><td style=''>hello</td></tr><tr><td colspan='2' style='font-style: bold; font-size:1.1rem;'>Name: mixed_series, dtype: object</td></tr></table>"
      ],
      "text/plain": [
       "0   1\n",
       "1   2.5\n",
       "2   True\n",
       "3   hello\n",
       "Name: mixed_series, dtype: object"
      ]
     },
     "execution_count": 10,
     "metadata": {},
     "output_type": "execute_result"
    }
   ],
   "source": [
    "Atrax.Series([1, 2.5, True, 'hello'], name=\"mixed_series\")"
   ]
  },
  {
   "cell_type": "code",
   "execution_count": 12,
   "id": "58aa0f98",
   "metadata": {},
   "outputs": [
    {
     "data": {
      "text/html": [
       "<table style='border-collapse: collapse;'><tr><td style=''>0</td><td style=''>1</td></tr><tr><td style=''>1</td><td style=''>2</td></tr><tr><td style=''>2</td><td style=''>3</td></tr><tr><td colspan='2' style='font-style: bold; font-size:1.1rem;'>Name: , dtype: int</td></tr></table>"
      ],
      "text/plain": [
       "0   1\n",
       "1   2\n",
       "2   3\n",
       "Name: , dtype: int"
      ]
     },
     "execution_count": 12,
     "metadata": {},
     "output_type": "execute_result"
    }
   ],
   "source": [
    "s = Atrax.Series([\"1\", \"2\", \"3\"])\n",
    "s.astype('int')"
   ]
  },
  {
   "cell_type": "code",
   "execution_count": 14,
   "id": "f608c04e",
   "metadata": {},
   "outputs": [
    {
     "data": {
      "text/html": [
       "<table style='border-collapse: collapse;'><tr><td style=''>0</td><td style=''>2</td></tr><tr><td style=''>1</td><td style=''>4</td></tr><tr><td style=''>2</td><td style=''>6</td></tr><tr><td style=''>3</td><td style=''>8</td></tr><tr><td style=''>4</td><td style=''>10</td></tr><tr><td colspan='2' style='font-style: bold; font-size:1.1rem;'>Name: , dtype: int</td></tr></table>"
      ],
      "text/plain": [
       "0   2\n",
       "1   4\n",
       "2   6\n",
       "3   8\n",
       "4   10\n",
       "Name: , dtype: int"
      ]
     },
     "execution_count": 14,
     "metadata": {},
     "output_type": "execute_result"
    }
   ],
   "source": [
    "s = Atrax.Series([1,2,3,4,5])\n",
    "s.apply(lambda x: x * 2)"
   ]
  },
  {
   "cell_type": "code",
   "execution_count": 15,
   "id": "a308beed",
   "metadata": {},
   "outputs": [],
   "source": [
    "def square(x):\n",
    "    return x * x"
   ]
  },
  {
   "cell_type": "code",
   "execution_count": 16,
   "id": "22ca51d6",
   "metadata": {},
   "outputs": [
    {
     "data": {
      "text/html": [
       "<table style='border-collapse: collapse;'><tr><td style=''>0</td><td style=''>1</td></tr><tr><td style=''>1</td><td style=''>4</td></tr><tr><td style=''>2</td><td style=''>9</td></tr><tr><td colspan='2' style='font-style: bold; font-size:1.1rem;'>Name: , dtype: int</td></tr></table>"
      ],
      "text/plain": [
       "0   1\n",
       "1   4\n",
       "2   9\n",
       "Name: , dtype: int"
      ]
     },
     "execution_count": 16,
     "metadata": {},
     "output_type": "execute_result"
    }
   ],
   "source": [
    "s1 = Atrax.Series([1,2,3])\n",
    "s1.apply(square)"
   ]
  },
  {
   "cell_type": "code",
   "execution_count": 17,
   "id": "0c9550b2",
   "metadata": {},
   "outputs": [],
   "source": [
    "s1 = Atrax.Series([1,2,3,4])\n",
    "s2 = Atrax.Series([5,6,7,8])"
   ]
  },
  {
   "cell_type": "code",
   "execution_count": 18,
   "id": "9c17dd79",
   "metadata": {},
   "outputs": [
    {
     "data": {
      "text/html": [
       "<table style='border-collapse: collapse;'><tr><td style=''>0</td><td style=''>11</td></tr><tr><td style=''>1</td><td style=''>12</td></tr><tr><td style=''>2</td><td style=''>13</td></tr><tr><td style=''>3</td><td style=''>14</td></tr><tr><td colspan='2' style='font-style: bold; font-size:1.1rem;'>Name: , dtype: int</td></tr></table>"
      ],
      "text/plain": [
       "0   11\n",
       "1   12\n",
       "2   13\n",
       "3   14\n",
       "Name: , dtype: int"
      ]
     },
     "execution_count": 18,
     "metadata": {},
     "output_type": "execute_result"
    }
   ],
   "source": [
    "s1 + 10"
   ]
  },
  {
   "cell_type": "code",
   "execution_count": 19,
   "id": "49545d48",
   "metadata": {},
   "outputs": [
    {
     "data": {
      "text/html": [
       "<table style='border-collapse: collapse;'><tr><td style=''>0</td><td style=''>6</td></tr><tr><td style=''>1</td><td style=''>8</td></tr><tr><td style=''>2</td><td style=''>10</td></tr><tr><td style=''>3</td><td style=''>12</td></tr><tr><td colspan='2' style='font-style: bold; font-size:1.1rem;'>Name: , dtype: int</td></tr></table>"
      ],
      "text/plain": [
       "0   6\n",
       "1   8\n",
       "2   10\n",
       "3   12\n",
       "Name: , dtype: int"
      ]
     },
     "execution_count": 19,
     "metadata": {},
     "output_type": "execute_result"
    }
   ],
   "source": [
    "s1 + s2"
   ]
  },
  {
   "cell_type": "code",
   "execution_count": 21,
   "id": "235b504f",
   "metadata": {},
   "outputs": [
    {
     "data": {
      "text/html": [
       "<table style='border-collapse: collapse;'><tr><td style=''>0</td><td style=''>4</td></tr><tr><td style=''>1</td><td style=''>4</td></tr><tr><td style=''>2</td><td style=''>4</td></tr><tr><td style=''>3</td><td style=''>4</td></tr><tr><td colspan='2' style='font-style: bold; font-size:1.1rem;'>Name: , dtype: int</td></tr></table>"
      ],
      "text/plain": [
       "0   4\n",
       "1   4\n",
       "2   4\n",
       "3   4\n",
       "Name: , dtype: int"
      ]
     },
     "execution_count": 21,
     "metadata": {},
     "output_type": "execute_result"
    }
   ],
   "source": [
    "s2 - s1"
   ]
  },
  {
   "cell_type": "code",
   "execution_count": 22,
   "id": "454e19f9",
   "metadata": {},
   "outputs": [
    {
     "data": {
      "text/html": [
       "<table style='border-collapse: collapse;'><tr><td style=''>0</td><td style=''>5</td></tr><tr><td style=''>1</td><td style=''>12</td></tr><tr><td style=''>2</td><td style=''>21</td></tr><tr><td style=''>3</td><td style=''>32</td></tr><tr><td colspan='2' style='font-style: bold; font-size:1.1rem;'>Name: , dtype: int</td></tr></table>"
      ],
      "text/plain": [
       "0   5\n",
       "1   12\n",
       "2   21\n",
       "3   32\n",
       "Name: , dtype: int"
      ]
     },
     "execution_count": 22,
     "metadata": {},
     "output_type": "execute_result"
    }
   ],
   "source": [
    "s1 * s2"
   ]
  },
  {
   "cell_type": "code",
   "execution_count": 23,
   "id": "74ea6ed3",
   "metadata": {},
   "outputs": [
    {
     "data": {
      "text/html": [
       "<table style='border-collapse: collapse;'><tr><td style=''>0</td><td style=''>0.2</td></tr><tr><td style=''>1</td><td style=''>0.3333333333333333</td></tr><tr><td style=''>2</td><td style=''>0.42857142857142855</td></tr><tr><td style=''>3</td><td style=''>0.5</td></tr><tr><td colspan='2' style='font-style: bold; font-size:1.1rem;'>Name: , dtype: float</td></tr></table>"
      ],
      "text/plain": [
       "0   0.2\n",
       "1   0.3333333333333333\n",
       "2   0.42857142857142855\n",
       "3   0.5\n",
       "Name: , dtype: float"
      ]
     },
     "execution_count": 23,
     "metadata": {},
     "output_type": "execute_result"
    }
   ],
   "source": [
    "s1 / s2"
   ]
  },
  {
   "cell_type": "code",
   "execution_count": 24,
   "id": "4d1caf34",
   "metadata": {},
   "outputs": [
    {
     "data": {
      "text/html": [
       "<table style='border-collapse: collapse;'><tr><td style=''>0</td><td style=''>0.5</td></tr><tr><td style=''>1</td><td style=''>1.0</td></tr><tr><td style=''>2</td><td style=''>1.5</td></tr><tr><td style=''>3</td><td style=''>2.0</td></tr><tr><td colspan='2' style='font-style: bold; font-size:1.1rem;'>Name: , dtype: float</td></tr></table>"
      ],
      "text/plain": [
       "0   0.5\n",
       "1   1.0\n",
       "2   1.5\n",
       "3   2.0\n",
       "Name: , dtype: float"
      ]
     },
     "execution_count": 24,
     "metadata": {},
     "output_type": "execute_result"
    }
   ],
   "source": [
    "s1 / 2"
   ]
  },
  {
   "cell_type": "code",
   "execution_count": 25,
   "id": "3561f2ee",
   "metadata": {},
   "outputs": [
    {
     "data": {
      "text/html": [
       "<table style='border-collapse: collapse;'><tr><td style=''>0</td><td style=''>1</td></tr><tr><td style=''>1</td><td style=''>0</td></tr><tr><td style=''>2</td><td style=''>1</td></tr><tr><td style=''>3</td><td style=''>0</td></tr><tr><td colspan='2' style='font-style: bold; font-size:1.1rem;'>Name: , dtype: int</td></tr></table>"
      ],
      "text/plain": [
       "0   1\n",
       "1   0\n",
       "2   1\n",
       "3   0\n",
       "Name: , dtype: int"
      ]
     },
     "execution_count": 25,
     "metadata": {},
     "output_type": "execute_result"
    }
   ],
   "source": [
    "s1 % 2"
   ]
  },
  {
   "cell_type": "code",
   "execution_count": 26,
   "id": "21bd62cf",
   "metadata": {},
   "outputs": [
    {
     "data": {
      "text/html": [
       "<table style='border-collapse: collapse;'><tr><td style=''>0</td><td style=''>0</td></tr><tr><td style=''>1</td><td style=''>1</td></tr><tr><td style=''>2</td><td style=''>1</td></tr><tr><td style=''>3</td><td style=''>2</td></tr><tr><td colspan='2' style='font-style: bold; font-size:1.1rem;'>Name: , dtype: int</td></tr></table>"
      ],
      "text/plain": [
       "0   0\n",
       "1   1\n",
       "2   1\n",
       "3   2\n",
       "Name: , dtype: int"
      ]
     },
     "execution_count": 26,
     "metadata": {},
     "output_type": "execute_result"
    }
   ],
   "source": [
    "s1 //2"
   ]
  },
  {
   "cell_type": "code",
   "execution_count": 27,
   "id": "fa570f6e",
   "metadata": {},
   "outputs": [
    {
     "data": {
      "text/html": [
       "<table style='border-collapse: collapse;'><tr><td style=''>0</td><td style=''>1</td></tr><tr><td style=''>1</td><td style=''>4</td></tr><tr><td style=''>2</td><td style=''>9</td></tr><tr><td style=''>3</td><td style=''>16</td></tr><tr><td colspan='2' style='font-style: bold; font-size:1.1rem;'>Name: , dtype: int</td></tr></table>"
      ],
      "text/plain": [
       "0   1\n",
       "1   4\n",
       "2   9\n",
       "3   16\n",
       "Name: , dtype: int"
      ]
     },
     "execution_count": 27,
     "metadata": {},
     "output_type": "execute_result"
    }
   ],
   "source": [
    "s1**2"
   ]
  },
  {
   "cell_type": "code",
   "execution_count": 28,
   "id": "56157169",
   "metadata": {},
   "outputs": [
    {
     "name": "stdout",
     "output_type": "stream",
     "text": [
      "0   False\n",
      "1   False\n",
      "2   True\n",
      "3   True\n",
      "Name: (numbers > 2), dtype: int\n"
     ]
    }
   ],
   "source": [
    "s1 = Atrax.Series([1,2,3,4], name=\"numbers\")\n",
    "mask = s1 > 2\n",
    "print(mask)"
   ]
  },
  {
   "cell_type": "code",
   "execution_count": 29,
   "id": "f665413b",
   "metadata": {},
   "outputs": [
    {
     "data": {
      "text/html": [
       "<table style='border-collapse: collapse;'><tr><td style=''>0</td><td style=''>0</td></tr><tr><td style=''>1</td><td style=''>0</td></tr><tr><td style=''>2</td><td style=''>100</td></tr><tr><td style=''>3</td><td style=''>100</td></tr><tr><td colspan='2' style='font-style: bold; font-size:1.1rem;'>Name: (numbers > 2), dtype: int</td></tr></table>"
      ],
      "text/plain": [
       "0   0\n",
       "1   0\n",
       "2   100\n",
       "3   100\n",
       "Name: (numbers > 2), dtype: int"
      ]
     },
     "execution_count": 29,
     "metadata": {},
     "output_type": "execute_result"
    }
   ],
   "source": [
    "(s1 > 2).astype('int').apply(lambda x: x * 100)"
   ]
  },
  {
   "cell_type": "code",
   "execution_count": 30,
   "id": "e2d3de62",
   "metadata": {},
   "outputs": [],
   "source": [
    "qty = Atrax.Series([5, 15, 20, 8], name=\"qty\")\n",
    "price = Atrax.Series([4, 6, 3, 5],name=\"price\")"
   ]
  },
  {
   "cell_type": "code",
   "execution_count": 31,
   "id": "2cbbbf53",
   "metadata": {},
   "outputs": [
    {
     "name": "stdout",
     "output_type": "stream",
     "text": [
      "0   False\n",
      "1   False\n",
      "2   True\n",
      "3   False\n",
      "Name: ((qty > 10)) & (price < 5), dtype: int\n"
     ]
    }
   ],
   "source": [
    "mask = (qty > 10) & (price < 5)\n",
    "print(mask)"
   ]
  },
  {
   "cell_type": "code",
   "execution_count": 32,
   "id": "64d25c76",
   "metadata": {},
   "outputs": [
    {
     "name": "stdout",
     "output_type": "stream",
     "text": [
      "0   True\n",
      "1   True\n",
      "2   False\n",
      "3   True\n",
      "Name: (~((qty > 10)) & (price < 5)), dtype: int\n"
     ]
    }
   ],
   "source": [
    "not_mask = ~mask\n",
    "print(not_mask)"
   ]
  },
  {
   "cell_type": "code",
   "execution_count": 33,
   "id": "1a7aff45",
   "metadata": {},
   "outputs": [
    {
     "data": {
      "text/html": [
       "<table style='border-collapse: collapse;'><tr><td style=''>a</td><td style=''>10</td></tr><tr><td style=''>b</td><td style=''>20</td></tr><tr><td style=''>c</td><td style=''>30</td></tr><tr><td colspan='2' style='font-style: bold; font-size:1.1rem;'>Name: sales, dtype: int</td></tr></table>"
      ],
      "text/plain": [
       "a   10\n",
       "b   20\n",
       "c   30\n",
       "Name: sales, dtype: int"
      ]
     },
     "execution_count": 33,
     "metadata": {},
     "output_type": "execute_result"
    }
   ],
   "source": [
    "s = Atrax.Series([10, 20, 30], name=\"sales\", index=[\"a\", \"b\", \"c\"])\n",
    "s"
   ]
  },
  {
   "cell_type": "code",
   "execution_count": 34,
   "id": "85cd0366",
   "metadata": {},
   "outputs": [
    {
     "name": "stdout",
     "output_type": "stream",
     "text": [
      "20\n"
     ]
    }
   ],
   "source": [
    "print(s.loc['b'])"
   ]
  },
  {
   "cell_type": "code",
   "execution_count": 35,
   "id": "5f93eafe",
   "metadata": {},
   "outputs": [
    {
     "name": "stdout",
     "output_type": "stream",
     "text": [
      "20\n"
     ]
    }
   ],
   "source": [
    "print(s.iloc[1])"
   ]
  },
  {
   "cell_type": "code",
   "execution_count": 36,
   "id": "5136dcb6",
   "metadata": {},
   "outputs": [
    {
     "name": "stdout",
     "output_type": "stream",
     "text": [
      "a   10\n",
      "b   20\n",
      "Name: sales, dtype: int\n"
     ]
    }
   ],
   "source": [
    "print(s.loc[['a', 'b']])"
   ]
  },
  {
   "cell_type": "code",
   "execution_count": 37,
   "id": "5e6c3e24",
   "metadata": {},
   "outputs": [
    {
     "name": "stdout",
     "output_type": "stream",
     "text": [
      "a   10\n",
      "b   20\n",
      "Name: sales, dtype: int\n"
     ]
    }
   ],
   "source": [
    "print(s.iloc[0:2])"
   ]
  },
  {
   "cell_type": "code",
   "execution_count": null,
   "id": "82f71322",
   "metadata": {},
   "outputs": [],
   "source": []
  }
 ],
 "metadata": {
  "kernelspec": {
   "display_name": "env",
   "language": "python",
   "name": "python3"
  },
  "language_info": {
   "codemirror_mode": {
    "name": "ipython",
    "version": 3
   },
   "file_extension": ".py",
   "mimetype": "text/x-python",
   "name": "python",
   "nbconvert_exporter": "python",
   "pygments_lexer": "ipython3",
   "version": "3.12.10"
  }
 },
 "nbformat": 4,
 "nbformat_minor": 5
}
