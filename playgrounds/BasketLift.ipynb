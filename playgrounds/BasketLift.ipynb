{
 "cells": [
  {
   "cell_type": "code",
   "execution_count": 11,
   "id": "1ad229c8",
   "metadata": {},
   "outputs": [],
   "source": [
    "import numpy as np\n",
    "import pandas as pd\n",
    "\n",
    "import sys\n",
    "import os\n",
    "\n",
    "sys.path.append(os.path.abspath('..'))\n",
    "from utils.db import get_db\n",
    "from utils.transaction_generator import generate_transactions\n",
    "from utils.basket_lift import BasketLift"
   ]
  },
  {
   "cell_type": "code",
   "execution_count": 13,
   "id": "021d5958",
   "metadata": {},
   "outputs": [],
   "source": [
    "engine = get_db()"
   ]
  },
  {
   "cell_type": "code",
   "execution_count": 14,
   "id": "1aa6a4b2",
   "metadata": {},
   "outputs": [],
   "source": [
    "query = \"\"\"select sale_date, sale_id, product_code, product_description, qty, total_sales, sub_department_description,\n",
    "sale_type, item_ring_type\n",
    "from sales\n",
    "where store_number='440'\n",
    "and sale_date between '5/10/2025' and '5/15/2025'\n",
    "and sale_type in ('Refunded', 'Sale')\n",
    "and item_ring_type in ('ITEM')\"\"\""
   ]
  },
  {
   "cell_type": "code",
   "execution_count": 15,
   "id": "bfd54a3b",
   "metadata": {},
   "outputs": [
    {
     "name": "stdout",
     "output_type": "stream",
     "text": [
      "2025-06-12 12:58:29,216 INFO sqlalchemy.engine.Engine select pg_catalog.version()\n",
      "2025-06-12 12:58:29,217 INFO sqlalchemy.engine.Engine [raw sql] {}\n",
      "2025-06-12 12:58:29,271 INFO sqlalchemy.engine.Engine select current_schema()\n",
      "2025-06-12 12:58:29,271 INFO sqlalchemy.engine.Engine [raw sql] {}\n",
      "2025-06-12 12:58:29,325 INFO sqlalchemy.engine.Engine show standard_conforming_strings\n",
      "2025-06-12 12:58:29,326 INFO sqlalchemy.engine.Engine [raw sql] {}\n",
      "2025-06-12 12:58:29,384 INFO sqlalchemy.engine.Engine BEGIN (implicit)\n",
      "2025-06-12 12:58:29,384 INFO sqlalchemy.engine.Engine SELECT pg_catalog.pg_class.relname \n",
      "FROM pg_catalog.pg_class JOIN pg_catalog.pg_namespace ON pg_catalog.pg_namespace.oid = pg_catalog.pg_class.relnamespace \n",
      "WHERE pg_catalog.pg_class.relname = %(table_name)s AND pg_catalog.pg_class.relkind = ANY (ARRAY[%(param_1)s, %(param_2)s, %(param_3)s, %(param_4)s, %(param_5)s]) AND pg_catalog.pg_table_is_visible(pg_catalog.pg_class.oid) AND pg_catalog.pg_namespace.nspname != %(nspname_1)s\n",
      "2025-06-12 12:58:29,384 INFO sqlalchemy.engine.Engine [generated in 0.00087s] {'table_name': \"select sale_date, sale_id, product_code, product_description, qty, total_sales, sub_department_description,\\nsale_type, item_ring_type\\nfrom sales\\nwhere store_number='440'\\nand sale_date between '5/10/2025' and '5/15/2025'\\nand sale_type in ('Refunded', 'Sale')\\nand item_ring_type in ('ITEM')\", 'param_1': 'r', 'param_2': 'p', 'param_3': 'f', 'param_4': 'v', 'param_5': 'm', 'nspname_1': 'pg_catalog'}\n",
      "2025-06-12 12:58:29,442 INFO sqlalchemy.engine.Engine select sale_date, sale_id, product_code, product_description, qty, total_sales, sub_department_description,\n",
      "sale_type, item_ring_type\n",
      "from sales\n",
      "where store_number='440'\n",
      "and sale_date between '5/10/2025' and '5/15/2025'\n",
      "and sale_type in ('Refunded', 'Sale')\n",
      "and item_ring_type in ('ITEM')\n",
      "2025-06-12 12:58:29,442 INFO sqlalchemy.engine.Engine [raw sql] {}\n",
      "2025-06-12 12:58:32,294 INFO sqlalchemy.engine.Engine ROLLBACK\n"
     ]
    }
   ],
   "source": [
    "ds = pd.read_sql(query,engine)"
   ]
  },
  {
   "cell_type": "code",
   "execution_count": 16,
   "id": "d42849fa",
   "metadata": {},
   "outputs": [],
   "source": [
    "# lets filter this down to just items\n",
    "ds = ds[ds['item_ring_type'] == 'ITEM']"
   ]
  },
  {
   "cell_type": "code",
   "execution_count": 17,
   "id": "c687d014",
   "metadata": {},
   "outputs": [],
   "source": [
    "#now lets get rid of any empty products\n",
    "ds.dropna(subset=['product_description', 'sale_id'], inplace=True)"
   ]
  },
  {
   "cell_type": "code",
   "execution_count": 18,
   "id": "0d571763",
   "metadata": {},
   "outputs": [],
   "source": [
    "# convert sale_id to string\n",
    "ds['sale_id'] = ds['sale_id'].astype(str)"
   ]
  },
  {
   "cell_type": "code",
   "execution_count": 19,
   "id": "f4e56673",
   "metadata": {},
   "outputs": [],
   "source": [
    "transactions = ds.groupby('sale_id')['product_description'].apply(list)"
   ]
  },
  {
   "cell_type": "code",
   "execution_count": 20,
   "id": "fbc6250f",
   "metadata": {},
   "outputs": [
    {
     "data": {
      "text/plain": [
       "sale_id\n",
       "102481     [PREMIUM]\n",
       "102482    [UNLEADED]\n",
       "102483    [UNLEADED]\n",
       "102484    [UNLEADED]\n",
       "102486    [UNLEADED]\n",
       "Name: product_description, dtype: object"
      ]
     },
     "execution_count": 20,
     "metadata": {},
     "output_type": "execute_result"
    }
   ],
   "source": [
    "transactions.head()"
   ]
  },
  {
   "cell_type": "code",
   "execution_count": 21,
   "id": "386faee3",
   "metadata": {},
   "outputs": [],
   "source": [
    "filtered = transactions[transactions.apply(lambda x: len(x) > 1)]\n",
    "transactions = filtered.tolist()"
   ]
  },
  {
   "cell_type": "code",
   "execution_count": null,
   "id": "5aaca778",
   "metadata": {},
   "outputs": [],
   "source": [
    "bl = BasketLift(min_support=0.1, min_confidence=0.5, min_lift=1)\n",
    "bl.fit(transactions)\n",
    "bl.print_rules()"
   ]
  },
  {
   "cell_type": "code",
   "execution_count": null,
   "id": "16a19914",
   "metadata": {},
   "outputs": [],
   "source": []
  }
 ],
 "metadata": {
  "kernelspec": {
   "display_name": "env",
   "language": "python",
   "name": "python3"
  },
  "language_info": {
   "codemirror_mode": {
    "name": "ipython",
    "version": 3
   },
   "file_extension": ".py",
   "mimetype": "text/x-python",
   "name": "python",
   "nbconvert_exporter": "python",
   "pygments_lexer": "ipython3",
   "version": "3.12.10"
  }
 },
 "nbformat": 4,
 "nbformat_minor": 5
}
