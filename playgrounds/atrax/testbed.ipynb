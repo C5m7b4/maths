{
 "cells": [
  {
   "cell_type": "markdown",
   "id": "e4607c5c",
   "metadata": {},
   "source": [
    "## Test Bed"
   ]
  },
  {
   "cell_type": "code",
   "execution_count": 1,
   "id": "fd6f78ec",
   "metadata": {},
   "outputs": [],
   "source": [
    "from datetime import datetime, timedelta\n",
    "import os\n",
    "import sys\n",
    "sys.path.append(os.getcwd())\n",
    "from atrax import Atrax as trax"
   ]
  },
  {
   "cell_type": "markdown",
   "id": "6e68b820",
   "metadata": {},
   "source": [
    "### Data"
   ]
  },
  {
   "cell_type": "code",
   "execution_count": 2,
   "id": "7449840b",
   "metadata": {},
   "outputs": [],
   "source": [
    "data = [\n",
    "    {\n",
    "        'name': 'mike',\n",
    "        'specialty': 'code',\n",
    "        'state': 'tn',\n",
    "        'created_at': datetime.now() - timedelta(days=10),\n",
    "        'magic_number': 42\n",
    "    },\n",
    "    {\n",
    "        'name': 'tommy',\n",
    "        'specialty': 'numbers',\n",
    "        'state': 'tn',\n",
    "        'created_at': datetime.now() - timedelta(days=10),\n",
    "        'magic_number': 15\n",
    "    },  \n",
    "    {\n",
    "        'name': 'stephen',\n",
    "        'specialty': 'typescript',\n",
    "        'state': 'la',\n",
    "        'created_at': datetime.now() - timedelta(days=10),\n",
    "        'magic_number': 21\n",
    "    }, \n",
    "    {\n",
    "        'name': 'tj',\n",
    "        'specialty': 'hardware',\n",
    "        'state': 'tn',\n",
    "        'created_at': datetime.now() - timedelta(days=10),\n",
    "        'magic_number': 4\n",
    "    },  \n",
    "    {\n",
    "        'name': 'jhovani',\n",
    "        'specialty': 'sms',\n",
    "        'state': 'tn',\n",
    "        'created_at': datetime.now() - timedelta(days=30),\n",
    "        'magic_number': 1\n",
    "    },  \n",
    "    {\n",
    "        'name': 'josh',\n",
    "        'specialty': 'sencha',\n",
    "        'state': 'tn',\n",
    "        'created_at': datetime.now() - timedelta(days=30),\n",
    "        'magic_number': 100\n",
    "    },             \n",
    "]"
   ]
  },
  {
   "cell_type": "markdown",
   "id": "dc2e1161",
   "metadata": {},
   "source": [
    "### Implement"
   ]
  },
  {
   "cell_type": "code",
   "execution_count": 3,
   "id": "78e5c415",
   "metadata": {},
   "outputs": [],
   "source": [
    "ds = trax(data)"
   ]
  },
  {
   "cell_type": "code",
   "execution_count": 4,
   "id": "f5f0b286",
   "metadata": {},
   "outputs": [
    {
     "data": {
      "text/html": [
       "<table><thead><tr><th>name</th><th>specialty</th><th>state</th><th>created_at</th><th>magic_number</th></tr></thead><tbody><tr><td>mike</td><td>code</td><td>tn</td><td>2025-06-08 19:57:38.487884</td><td>42</td></tr><tr><td>tommy</td><td>numbers</td><td>tn</td><td>2025-06-08 19:57:38.487884</td><td>15</td></tr><tr><td>stephen</td><td>typescript</td><td>la</td><td>2025-06-08 19:57:38.487884</td><td>21</td></tr><tr><td>tj</td><td>hardware</td><td>tn</td><td>2025-06-08 19:57:38.487884</td><td>4</td></tr><tr><td>jhovani</td><td>sms</td><td>tn</td><td>2025-05-19 19:57:38.487884</td><td>1</td></tr><tr><td>josh</td><td>sencha</td><td>tn</td><td>2025-05-19 19:57:38.487884</td><td>100</td></tr></tbody></table>"
      ],
      "text/plain": [
       "name,specialty,state,created_at,magic_number\n",
       "mike,code,tn,2025-06-08 19:57:38.487884,42\n",
       "tommy,numbers,tn,2025-06-08 19:57:38.487884,15\n",
       "stephen,typescript,la,2025-06-08 19:57:38.487884,21\n",
       "tj,hardware,tn,2025-06-08 19:57:38.487884,4\n",
       "jhovani,sms,tn,2025-05-19 19:57:38.487884,1\n",
       "..."
      ]
     },
     "execution_count": 4,
     "metadata": {},
     "output_type": "execute_result"
    }
   ],
   "source": [
    "ds"
   ]
  },
  {
   "cell_type": "markdown",
   "id": "e952d1be",
   "metadata": {},
   "source": [
    "#### shape"
   ]
  },
  {
   "cell_type": "code",
   "execution_count": 5,
   "id": "c2c6758a",
   "metadata": {},
   "outputs": [
    {
     "data": {
      "text/plain": [
       "(6, 5)"
      ]
     },
     "execution_count": 5,
     "metadata": {},
     "output_type": "execute_result"
    }
   ],
   "source": [
    "ds.shape()"
   ]
  },
  {
   "cell_type": "markdown",
   "id": "a04667d4",
   "metadata": {},
   "source": [
    "#### head"
   ]
  },
  {
   "cell_type": "code",
   "execution_count": 6,
   "id": "1ca7bfb5",
   "metadata": {},
   "outputs": [
    {
     "data": {
      "text/html": [
       "<table><thead><tr><th>name</th><th>specialty</th><th>state</th><th>created_at</th><th>magic_number</th></tr></thead><tbody><tr><td>mike</td><td>code</td><td>tn</td><td>2025-06-08 19:57:38.487884</td><td>42</td></tr><tr><td>tommy</td><td>numbers</td><td>tn</td><td>2025-06-08 19:57:38.487884</td><td>15</td></tr><tr><td>stephen</td><td>typescript</td><td>la</td><td>2025-06-08 19:57:38.487884</td><td>21</td></tr></tbody></table>"
      ],
      "text/plain": [
       "name,specialty,state,created_at,magic_number\n",
       "mike,code,tn,2025-06-08 19:57:38.487884,42\n",
       "tommy,numbers,tn,2025-06-08 19:57:38.487884,15\n",
       "stephen,typescript,la,2025-06-08 19:57:38.487884,21"
      ]
     },
     "execution_count": 6,
     "metadata": {},
     "output_type": "execute_result"
    }
   ],
   "source": [
    "ds.head(3)"
   ]
  },
  {
   "cell_type": "markdown",
   "id": "18dca41c",
   "metadata": {},
   "source": [
    "#### describe"
   ]
  },
  {
   "cell_type": "code",
   "execution_count": 7,
   "id": "2a753758",
   "metadata": {},
   "outputs": [
    {
     "data": {
      "text/html": [
       "<table><thead><tr><th>stat</th><th>magic_number</th></tr></thead><tbody><tr><td>mean</td><td>30.5</td></tr><tr><td>std</td><td>37.05536398417913</td></tr><tr><td>min</td><td>1</td></tr><tr><td>max</td><td>100</td></tr><tr><td>count</td><td>6</td></tr></tbody></table>"
      ],
      "text/plain": [
       "stat,magic_number\n",
       "mean,30.5\n",
       "std,37.05536398417913\n",
       "min,1\n",
       "max,100\n",
       "count,6"
      ]
     },
     "execution_count": 7,
     "metadata": {},
     "output_type": "execute_result"
    }
   ],
   "source": [
    "ds.describe()"
   ]
  },
  {
   "cell_type": "markdown",
   "id": "ebd51e10",
   "metadata": {},
   "source": [
    "#### info"
   ]
  },
  {
   "cell_type": "code",
   "execution_count": 8,
   "id": "3d9aa6b9",
   "metadata": {},
   "outputs": [
    {
     "name": "stdout",
     "output_type": "stream",
     "text": [
      "<class 'atrax.Atrax'>\n",
      "Data columns (total 5):\n",
      "  name            Non-Null Count: 6     Dtype: str\n",
      "  specialty       Non-Null Count: 6     Dtype: str\n",
      "  state           Non-Null Count: 6     Dtype: str\n",
      "  created_at      Non-Null Count: 6     Dtype: datetime\n",
      "  magic_number    Non-Null Count: 6     Dtype: int\n",
      "dtypes: 3\n",
      "Memory usage: 240 bytes (est.)\n"
     ]
    }
   ],
   "source": [
    "ds.info()"
   ]
  },
  {
   "cell_type": "markdown",
   "id": "5f42c45f",
   "metadata": {},
   "source": [
    "#### value_counts"
   ]
  },
  {
   "cell_type": "code",
   "execution_count": 9,
   "id": "3c30b661",
   "metadata": {},
   "outputs": [
    {
     "data": {
      "text/html": [
       "<table><thead><tr><th>value</th><th>count</th></tr></thead><tbody><tr><td>42</td><td>1</td></tr><tr><td>15</td><td>1</td></tr><tr><td>21</td><td>1</td></tr><tr><td>4</td><td>1</td></tr><tr><td>1</td><td>1</td></tr><tr><td>100</td><td>1</td></tr></tbody></table>"
      ],
      "text/plain": [
       "value,count\n",
       "42,1\n",
       "15,1\n",
       "21,1\n",
       "4,1\n",
       "1,1\n",
       "..."
      ]
     },
     "execution_count": 9,
     "metadata": {},
     "output_type": "execute_result"
    }
   ],
   "source": [
    "ds.value_counts('magic_number')"
   ]
  },
  {
   "cell_type": "markdown",
   "id": "e202dfc6",
   "metadata": {},
   "source": [
    "#### getitem\n",
    "\n",
    "this is pretty much our go to functionality"
   ]
  },
  {
   "cell_type": "code",
   "execution_count": 10,
   "id": "baf21b03",
   "metadata": {},
   "outputs": [
    {
     "data": {
      "text/html": [
       "<table><thead><tr><th>state</th></tr></thead><tbody><tr><td>tn</td></tr><tr><td>tn</td></tr><tr><td>la</td></tr><tr><td>tn</td></tr><tr><td>tn</td></tr><tr><td>tn</td></tr></tbody></table>"
      ],
      "text/plain": [
       "state\n",
       "tn\n",
       "tn\n",
       "la\n",
       "tn\n",
       "tn\n",
       "..."
      ]
     },
     "execution_count": 10,
     "metadata": {},
     "output_type": "execute_result"
    }
   ],
   "source": [
    "ds.column('state')"
   ]
  },
  {
   "cell_type": "code",
   "execution_count": 12,
   "id": "a122afae",
   "metadata": {},
   "outputs": [
    {
     "data": {
      "text/plain": [
       "0: tn\n",
       "1: tn\n",
       "2: la\n",
       "3: tn\n",
       "4: tn\n",
       "5: tn"
      ]
     },
     "execution_count": 12,
     "metadata": {},
     "output_type": "execute_result"
    }
   ],
   "source": [
    "ds['state']"
   ]
  },
  {
   "cell_type": "code",
   "execution_count": 11,
   "id": "95691db2",
   "metadata": {},
   "outputs": [
    {
     "ename": "TypeError",
     "evalue": "'list' object is not callable",
     "output_type": "error",
     "traceback": [
      "\u001b[31m---------------------------------------------------------------------------\u001b[39m",
      "\u001b[31mTypeError\u001b[39m                                 Traceback (most recent call last)",
      "\u001b[36mCell\u001b[39m\u001b[36m \u001b[39m\u001b[32mIn[11]\u001b[39m\u001b[32m, line 1\u001b[39m\n\u001b[32m----> \u001b[39m\u001b[32m1\u001b[39m \u001b[43mds\u001b[49m\u001b[43m.\u001b[49m\u001b[43mcolumns\u001b[49m\u001b[43m(\u001b[49m\u001b[43m[\u001b[49m\u001b[33;43m'\u001b[39;49m\u001b[33;43mname\u001b[39;49m\u001b[33;43m'\u001b[39;49m\u001b[43m,\u001b[49m\u001b[43m \u001b[49m\u001b[33;43m'\u001b[39;49m\u001b[33;43mspecialty\u001b[39;49m\u001b[33;43m'\u001b[39;49m\u001b[43m]\u001b[49m\u001b[43m)\u001b[49m\n",
      "\u001b[31mTypeError\u001b[39m: 'list' object is not callable"
     ]
    }
   ],
   "source": [
    "ds.columns(['name', 'specialty'])"
   ]
  },
  {
   "cell_type": "code",
   "execution_count": 26,
   "id": "301ba0c8",
   "metadata": {},
   "outputs": [
    {
     "data": {
      "text/plain": [
       "False"
      ]
     },
     "execution_count": 26,
     "metadata": {},
     "output_type": "execute_result"
    }
   ],
   "source": [
    "mask = ds['state'] == 'tn'\n",
    "mask"
   ]
  },
  {
   "cell_type": "code",
   "execution_count": null,
   "id": "b9a143f1",
   "metadata": {},
   "outputs": [],
   "source": []
  }
 ],
 "metadata": {
  "kernelspec": {
   "display_name": "env",
   "language": "python",
   "name": "python3"
  },
  "language_info": {
   "codemirror_mode": {
    "name": "ipython",
    "version": 3
   },
   "file_extension": ".py",
   "mimetype": "text/x-python",
   "name": "python",
   "nbconvert_exporter": "python",
   "pygments_lexer": "ipython3",
   "version": "3.12.10"
  }
 },
 "nbformat": 4,
 "nbformat_minor": 5
}
