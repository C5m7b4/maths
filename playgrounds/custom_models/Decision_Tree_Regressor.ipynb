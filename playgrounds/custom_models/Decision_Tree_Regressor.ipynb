{
 "cells": [
  {
   "cell_type": "code",
   "execution_count": 25,
   "id": "034507bd",
   "metadata": {},
   "outputs": [],
   "source": [
    "import numpy as np\n",
    "import pandas as pd\n",
    "from sklearn.datasets import fetch_california_housing\n",
    "from sklearn.model_selection import train_test_split\n",
    "from sklearn.metrics import mean_squared_error\n",
    "\n",
    "import matplotlib.pyplot as plt"
   ]
  },
  {
   "cell_type": "code",
   "execution_count": 17,
   "id": "7bc85c8c",
   "metadata": {},
   "outputs": [],
   "source": [
    "# Load the dataset\n",
    "X, y = fetch_california_housing(return_X_y=True)\n",
    "feature_names = fetch_california_housing().feature_names"
   ]
  },
  {
   "cell_type": "code",
   "execution_count": 18,
   "id": "337bfc6c",
   "metadata": {},
   "outputs": [],
   "source": [
    "# Split it up\n",
    "X_train, X_test, y_train, y_test = train_test_split(X, y, test_size=0.2, random_state=42)"
   ]
  },
  {
   "cell_type": "markdown",
   "id": "409a11d3",
   "metadata": {},
   "source": [
    "# Decision Tree Regressor"
   ]
  },
  {
   "cell_type": "code",
   "execution_count": 14,
   "id": "209fb717",
   "metadata": {},
   "outputs": [],
   "source": [
    "class DecisionTreeRegressor:\n",
    "    def __init__(self, max_depth=None, min_sample_split=2):\n",
    "        self.max_depth = max_depth\n",
    "        self.min_sample_split = min_sample_split\n",
    "        self.tree = None\n",
    "\n",
    "    def fit(self, X, y):\n",
    "        self.tree = self._build_tree(X, y)\n",
    "\n",
    "    def predict(self, X):\n",
    "        return np.array([self._predict_sample(x, self.tree) for x in X])\n",
    "    \n",
    "    def _build_tree(self, X, y, depth=0):\n",
    "        num_samples, num_features = X.shape\n",
    "        if (self.max_depth is not None and depth >= self.max_depth) or num_samples < self.min_sample_split:\n",
    "            return np.mean(y)\n",
    "        \n",
    "        best_feat, best_thresh = self._best_split(X, y)\n",
    "        if best_feat is None:\n",
    "            return np.mean(y)\n",
    "        \n",
    "        left_mask = X[:, best_feat] <= best_thresh\n",
    "        right_mask = X[:, best_feat] > best_thresh\n",
    "\n",
    "        left = self._build_tree(X[left_mask], y[left_mask], depth + 1)\n",
    "        right = self._build_tree(X[right_mask], y[right_mask], depth + 1)\n",
    "\n",
    "        return {'feature': best_feat, 'threshold': best_thresh, 'left': left, 'right': right}\n",
    "    \n",
    "    def _best_split(self, X, y):\n",
    "        best_mse = float('inf')\n",
    "        best_feat, best_thresh = None, None\n",
    "\n",
    "        for feat in range(X.shape[1]):\n",
    "            thresholds = np.unique(X[:, feat])\n",
    "            for t in thresholds:\n",
    "                left_mask = X[:, feat] <= t\n",
    "                right_mask = X[:, feat] > t\n",
    "\n",
    "                if len(y[left_mask]) == 0 or len(y[right_mask]) == 0:\n",
    "                    continue\n",
    "\n",
    "                mse = self._calculate_mse(y[left_mask], y[right_mask])\n",
    "                if mse < best_mse:\n",
    "                    best_mse = mse\n",
    "                    best_feat = feat\n",
    "                    best_thresh = t\n",
    "\n",
    "        return best_feat, best_thresh\n",
    "    \n",
    "    def _calculate_mse(self, left_y, right_y):\n",
    "        left_mse = np.var(left_y) * len(left_y)\n",
    "        right_mse = np.var(right_y) * len(right_y)\n",
    "        return (left_mse + right_mse) / (len(left_y) + len(right_y))\n",
    "    \n",
    "    def _predict_sample(self, x, node):\n",
    "        if not isinstance(node, dict):\n",
    "            return node\n",
    "        if x[node['feature']] <= node['threshold']:\n",
    "            return self._predict_sample(x, node['left'])\n",
    "        else:\n",
    "            return self._predict_sample(x, node['right'])\n",
    "        \n",
    "\n",
    "        "
   ]
  },
  {
   "cell_type": "code",
   "execution_count": 21,
   "id": "e0cd3b22",
   "metadata": {},
   "outputs": [],
   "source": [
    "import numpy as np\n",
    "from collections import Counter\n",
    "from copy import deepcopy\n",
    "\n",
    "class RandomForestRegressorFromScratch:\n",
    "    def __init__(self, n_estimators=10, max_depth=None, min_samples_split=2, max_features='sqrt'):\n",
    "        self.n_estimators = n_estimators\n",
    "        self.max_depth = max_depth\n",
    "        self.min_samples_split = min_samples_split\n",
    "        self.max_features = max_features\n",
    "        self.trees = []\n",
    "        self.feature_subsets = []\n",
    "\n",
    "    def _get_feature_indices(self, n_features):\n",
    "        if self.max_features == 'sqrt':\n",
    "            return np.random.choice(n_features, int(np.sqrt(n_features)), replace=False)\n",
    "        elif isinstance(self.max_features, int):\n",
    "            return np.random.choice(n_features, self.max_features, replace=False)\n",
    "        else:\n",
    "            return np.arange(n_features)\n",
    "\n",
    "    def fit(self, X, y):\n",
    "        self.trees = []\n",
    "        self.feature_subsets = []\n",
    "\n",
    "        for _ in range(self.n_estimators):\n",
    "            # Bootstrap sample\n",
    "            indices = np.random.choice(len(X), len(X), replace=True)\n",
    "            X_sample, y_sample = X[indices], y[indices]\n",
    "\n",
    "            # Feature subset\n",
    "            feature_idx = self._get_feature_indices(X.shape[1])\n",
    "            self.feature_subsets.append(feature_idx)\n",
    "\n",
    "            # Train tree\n",
    "            tree = DecisionTreeRegressor(\n",
    "                max_depth=self.max_depth,\n",
    "                min_sample_split=self.min_samples_split\n",
    "            )\n",
    "            tree.fit(X_sample[:, feature_idx], y_sample)\n",
    "            self.trees.append(tree)\n",
    "\n",
    "    def predict(self, X):\n",
    "        preds = np.array([\n",
    "            tree.predict(X[:, feat_idx]) for tree, feat_idx in zip(self.trees, self.feature_subsets)\n",
    "        ])\n",
    "        return np.mean(preds, axis=0)\n",
    "\n",
    "    def feature_importances_(self, feature_names):\n",
    "        # Count how often features were used across trees\n",
    "        importances = Counter()\n",
    "        total_splits = 0\n",
    "\n",
    "        for tree, feat_idx in zip(self.trees, self.feature_subsets):\n",
    "            stack = [tree.tree]\n",
    "            while stack:\n",
    "                node = stack.pop()\n",
    "                if isinstance(node, dict):\n",
    "                    importances[feature_names[feat_idx[node['feature']]]] += 1\n",
    "                    total_splits += 1\n",
    "                    stack.extend([node['left'], node['right']])\n",
    "\n",
    "        # Normalize\n",
    "        return {feat: count / total_splits for feat, count in importances.items()}\n",
    "\n"
   ]
  },
  {
   "cell_type": "code",
   "execution_count": 22,
   "id": "5bab30f7",
   "metadata": {},
   "outputs": [],
   "source": [
    "forest = RandomForestRegressorFromScratch(\n",
    "    n_estimators=10,\n",
    "    max_depth=6,\n",
    "    max_features='sqrt'\n",
    ")\n",
    "forest.fit(X_train, y_train)"
   ]
  },
  {
   "cell_type": "code",
   "execution_count": 23,
   "id": "9e3c4fbd",
   "metadata": {},
   "outputs": [
    {
     "name": "stdout",
     "output_type": "stream",
     "text": [
      "Mean Squared Error: 0.7713643429344356\n"
     ]
    }
   ],
   "source": [
    "preds = forest.predict(X_test)\n",
    "mse = mean_squared_error(y_test, preds)\n",
    "print(f\"Mean Squared Error: {mse}\")"
   ]
  },
  {
   "cell_type": "code",
   "execution_count": 34,
   "id": "04e4c543",
   "metadata": {},
   "outputs": [
    {
     "name": "stdout",
     "output_type": "stream",
     "text": [
      "Feature Importances:\n",
      "AveOccup: 0.209\n",
      "Population: 0.202\n",
      "Latitude: 0.187\n",
      "AveRooms: 0.123\n",
      "MedInc: 0.090\n",
      "AveBedrms: 0.090\n",
      "Longitude: 0.078\n",
      "HouseAge: 0.022\n"
     ]
    }
   ],
   "source": [
    "importances = forest.feature_importances_(feature_names)\n",
    "features_list = []\n",
    "print(\"Feature Importances:\")\n",
    "for feat, score in sorted(importances.items(), key=lambda x: -x[1]):\n",
    "    print(f\"{feat}: {score:.3f}\")\n",
    "    features_list.append({'feature': feat, 'importance': score})"
   ]
  },
  {
   "cell_type": "code",
   "execution_count": 35,
   "id": "8a940680",
   "metadata": {},
   "outputs": [
    {
     "data": {
      "text/html": [
       "<div>\n",
       "<style scoped>\n",
       "    .dataframe tbody tr th:only-of-type {\n",
       "        vertical-align: middle;\n",
       "    }\n",
       "\n",
       "    .dataframe tbody tr th {\n",
       "        vertical-align: top;\n",
       "    }\n",
       "\n",
       "    .dataframe thead th {\n",
       "        text-align: right;\n",
       "    }\n",
       "</style>\n",
       "<table border=\"1\" class=\"dataframe\">\n",
       "  <thead>\n",
       "    <tr style=\"text-align: right;\">\n",
       "      <th></th>\n",
       "      <th>feature</th>\n",
       "      <th>importance</th>\n",
       "    </tr>\n",
       "  </thead>\n",
       "  <tbody>\n",
       "    <tr>\n",
       "      <th>0</th>\n",
       "      <td>AveOccup</td>\n",
       "      <td>0.208981</td>\n",
       "    </tr>\n",
       "    <tr>\n",
       "      <th>1</th>\n",
       "      <td>Population</td>\n",
       "      <td>0.202073</td>\n",
       "    </tr>\n",
       "    <tr>\n",
       "      <th>2</th>\n",
       "      <td>Latitude</td>\n",
       "      <td>0.186528</td>\n",
       "    </tr>\n",
       "    <tr>\n",
       "      <th>3</th>\n",
       "      <td>AveRooms</td>\n",
       "      <td>0.122625</td>\n",
       "    </tr>\n",
       "    <tr>\n",
       "      <th>4</th>\n",
       "      <td>MedInc</td>\n",
       "      <td>0.089810</td>\n",
       "    </tr>\n",
       "    <tr>\n",
       "      <th>5</th>\n",
       "      <td>AveBedrms</td>\n",
       "      <td>0.089810</td>\n",
       "    </tr>\n",
       "    <tr>\n",
       "      <th>6</th>\n",
       "      <td>Longitude</td>\n",
       "      <td>0.077720</td>\n",
       "    </tr>\n",
       "    <tr>\n",
       "      <th>7</th>\n",
       "      <td>HouseAge</td>\n",
       "      <td>0.022453</td>\n",
       "    </tr>\n",
       "  </tbody>\n",
       "</table>\n",
       "</div>"
      ],
      "text/plain": [
       "      feature  importance\n",
       "0    AveOccup    0.208981\n",
       "1  Population    0.202073\n",
       "2    Latitude    0.186528\n",
       "3    AveRooms    0.122625\n",
       "4      MedInc    0.089810\n",
       "5   AveBedrms    0.089810\n",
       "6   Longitude    0.077720\n",
       "7    HouseAge    0.022453"
      ]
     },
     "execution_count": 35,
     "metadata": {},
     "output_type": "execute_result"
    }
   ],
   "source": [
    "feature_importance_ds = pd.DataFrame(features_list)\n",
    "feature_importance_ds"
   ]
  },
  {
   "cell_type": "code",
   "execution_count": 36,
   "id": "5930bca7",
   "metadata": {},
   "outputs": [
    {
     "data": {
      "image/png": "[encoded data removed]",
      "text/plain": [
       "<Figure size 1000x500 with 1 Axes>"
      ]
     },
     "metadata": {},
     "output_type": "display_data"
    }
   ],
   "source": [
    "# feature_importance_df = pd.DataFrame({\n",
    "#     'AveOccup': importances['AveOccup'],\n",
    "# })\n",
    "\n",
    "#Plot feature importances\n",
    "plt.figure(figsize=(10, 5))\n",
    "plt.barh(feature_importance_ds['feature'], feature_importance_ds['importance'], color='teal')\n",
    "plt.xlabel('Importance')\n",
    "plt.title('Random Forest Feature Importances')\n",
    "plt.gca().invert_yaxis()\n",
    "plt.grid(True, axis='x')\n",
    "plt.tight_layout()\n",
    "plt.show()"
   ]
  }
 ],
 "metadata": {
  "kernelspec": {
   "display_name": "env",
   "language": "python",
   "name": "python3"
  },
  "language_info": {
   "codemirror_mode": {
    "name": "ipython",
    "version": 3
   },
   "file_extension": ".py",
   "mimetype": "text/x-python",
   "name": "python",
   "nbconvert_exporter": "python",
   "pygments_lexer": "ipython3",
   "version": "3.12.10"
  }
 },
 "nbformat": 4,
 "nbformat_minor": 5
}
