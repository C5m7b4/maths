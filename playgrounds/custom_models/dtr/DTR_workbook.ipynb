{
 "cells": [
  {
   "cell_type": "markdown",
   "id": "ebb48919",
   "metadata": {},
   "source": [
    "# Queston 1"
   ]
  },
  {
   "cell_type": "markdown",
   "id": "6c24937c",
   "metadata": {},
   "source": [
    "First let's look at this line of code that happens right as you call fit\n",
    "\n",
    "🧠 What are we doing here?\n",
    "\n",
    "Bootstrap sample\n",
    "indices = np.random.choice(len(X), len(X), replace=True)"
   ]
  },
  {
   "cell_type": "markdown",
   "id": "26225d9e",
   "metadata": {},
   "source": [
    "📦 What is a Bootstrap Sample?\n",
    "\n",
    "\n",
    "You're randomly sampling n rows from your dataset of size n (same size), with replacement.\n",
    "\n",
    "That means:\n",
    "\n",
    "- Some rows get picked multiple times.\n",
    "\n",
    "- Some rows don't get picked at all.\n",
    "\n",
    "It's like making a \"slightly distorted\" view of the dataset for each tree."
   ]
  },
  {
   "cell_type": "markdown",
   "id": "58d9415f",
   "metadata": {},
   "source": [
    "This way every tree sees a different dataset\n",
    "\n",
    "- Injects variance\n",
    "- Reduces overfitting\n",
    "- enables OOB (Out-of-the-bag) data that wasn't picked by that tree"
   ]
  },
  {
   "cell_type": "markdown",
   "id": "7c0ea74f",
   "metadata": {},
   "source": []
  }
 ],
 "metadata": {
  "language_info": {
   "name": "python"
  }
 },
 "nbformat": 4,
 "nbformat_minor": 5
}
