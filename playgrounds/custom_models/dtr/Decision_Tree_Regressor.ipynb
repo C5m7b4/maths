{
 "cells": [
  {
   "cell_type": "code",
   "execution_count": 6,
   "id": "034507bd",
   "metadata": {},
   "outputs": [],
   "source": [
    "import numpy as np\n",
    "import pandas as pd\n",
    "from sklearn.datasets import fetch_california_housing\n",
    "from sklearn.model_selection import train_test_split\n",
    "from sklearn.metrics import mean_squared_error\n",
    "from collections import Counter\n",
    "from copy import deepcopy\n",
    "\n",
    "import matplotlib.pyplot as plt\n",
    "\n",
    "import os\n",
    "import sys\n",
    "from datetime import datetime, timedelta\n",
    "sys.path.append(os.path.abspath('../../..'))\n",
    "from utils.metrics import MAPE, MSE\n",
    "from utils.db import get_db\n",
    "from utils.rolling_mean import custom_rolling_mean\n",
    "\n",
    "from visualizers import visualize_tree_pdf, visualize_tree_basic"
   ]
  },
  {
   "cell_type": "code",
   "execution_count": 7,
   "id": "e46b660b",
   "metadata": {},
   "outputs": [],
   "source": [
    "engine = get_db()"
   ]
  },
  {
   "cell_type": "code",
   "execution_count": 8,
   "id": "10791068",
   "metadata": {},
   "outputs": [
    {
     "name": "stdout",
     "output_type": "stream",
     "text": [
      "yesterday: 06/17/2025\n"
     ]
    }
   ],
   "source": [
    "yesterday = datetime.now() - timedelta(days=1)\n",
    "print(f'yesterday: {yesterday.strftime('%m/%d/%Y')}')"
   ]
  },
  {
   "cell_type": "code",
   "execution_count": 9,
   "id": "fb8d4032",
   "metadata": {},
   "outputs": [],
   "source": [
    "query = f\"\"\"\n",
    "select sale_date, sum(total_sales) as sales\n",
    "    from sales\n",
    "    where store_number='440'\n",
    "    and sale_type in ('Sale')\n",
    "    and item_ring_type in ('ITEM', 'SUBD')\n",
    "    and sale_date between '1/1/2024' and '{yesterday.strftime('%m/%d/%Y')}'\n",
    "group by sale_date\n",
    "order by sale_date\n",
    "\n",
    "\"\"\""
   ]
  },
  {
   "cell_type": "code",
   "execution_count": 10,
   "id": "970aff29",
   "metadata": {},
   "outputs": [
    {
     "name": "stdout",
     "output_type": "stream",
     "text": [
      "2025-06-18 16:04:24,424 INFO sqlalchemy.engine.Engine select pg_catalog.version()\n",
      "2025-06-18 16:04:24,425 INFO sqlalchemy.engine.Engine [raw sql] {}\n",
      "2025-06-18 16:04:24,480 INFO sqlalchemy.engine.Engine select current_schema()\n",
      "2025-06-18 16:04:24,480 INFO sqlalchemy.engine.Engine [raw sql] {}\n",
      "2025-06-18 16:04:24,537 INFO sqlalchemy.engine.Engine show standard_conforming_strings\n",
      "2025-06-18 16:04:24,537 INFO sqlalchemy.engine.Engine [raw sql] {}\n",
      "2025-06-18 16:04:24,594 INFO sqlalchemy.engine.Engine BEGIN (implicit)\n",
      "2025-06-18 16:04:24,595 INFO sqlalchemy.engine.Engine SELECT pg_catalog.pg_class.relname \n",
      "FROM pg_catalog.pg_class JOIN pg_catalog.pg_namespace ON pg_catalog.pg_namespace.oid = pg_catalog.pg_class.relnamespace \n",
      "WHERE pg_catalog.pg_class.relname = %(table_name)s AND pg_catalog.pg_class.relkind = ANY (ARRAY[%(param_1)s, %(param_2)s, %(param_3)s, %(param_4)s, %(param_5)s]) AND pg_catalog.pg_table_is_visible(pg_catalog.pg_class.oid) AND pg_catalog.pg_namespace.nspname != %(nspname_1)s\n",
      "2025-06-18 16:04:24,595 INFO sqlalchemy.engine.Engine [generated in 0.00074s] {'table_name': \"\\nselect sale_date, sum(total_sales) as sales\\n    from sales\\n    where store_number='440'\\n    and sale_type in ('Sale')\\n    and item_ring_type in ('ITEM', 'SUBD')\\n    and sale_date between '1/1/2024' and '06/17/2025'\\ngroup by sale_date\\norder by sale_date\\n\\n\", 'param_1': 'r', 'param_2': 'p', 'param_3': 'f', 'param_4': 'v', 'param_5': 'm', 'nspname_1': 'pg_catalog'}\n",
      "2025-06-18 16:04:24,650 INFO sqlalchemy.engine.Engine \n",
      "select sale_date, sum(total_sales) as sales\n",
      "    from sales\n",
      "    where store_number='440'\n",
      "    and sale_type in ('Sale')\n",
      "    and item_ring_type in ('ITEM', 'SUBD')\n",
      "    and sale_date between '1/1/2024' and '06/17/2025'\n",
      "group by sale_date\n",
      "order by sale_date\n",
      "\n",
      "\n",
      "2025-06-18 16:04:24,650 INFO sqlalchemy.engine.Engine [raw sql] {}\n",
      "2025-06-18 16:04:28,745 INFO sqlalchemy.engine.Engine ROLLBACK\n"
     ]
    }
   ],
   "source": [
    "ds = pd.read_sql(query, engine)"
   ]
  },
  {
   "cell_type": "markdown",
   "id": "f134c2a7",
   "metadata": {},
   "source": [
    "## prep the data"
   ]
  },
  {
   "cell_type": "code",
   "execution_count": 11,
   "id": "984d5783",
   "metadata": {},
   "outputs": [],
   "source": [
    "ds['sale_date'] = pd.to_datetime(ds['sale_date'])\n",
    "ds = ds.sort_values('sale_date').reset_index(drop=True)"
   ]
  },
  {
   "cell_type": "markdown",
   "id": "d60a705c",
   "metadata": {},
   "source": [
    "### feature engineering"
   ]
  },
  {
   "cell_type": "code",
   "execution_count": 14,
   "id": "b793af37",
   "metadata": {},
   "outputs": [],
   "source": [
    "ds['trend'] = custom_rolling_mean(ds['sales'], window=7)\n",
    "ds['day_of_week'] = ds['sale_date'].dt.dayofweek\n",
    "ds['is_weekend'] = ds['day_of_week'].isin([5, 6]).astype(int)\n",
    "ds['lag_1'] = ds['sales'].shift(1)\n",
    "ds['lag_7'] = ds['sales'].shift(7)\n",
    "ds['lag_mean_1_7'] = ds[['lag_1', 'lag_7']].mean(axis=1)"
   ]
  },
  {
   "cell_type": "code",
   "execution_count": 16,
   "id": "70ed5932",
   "metadata": {},
   "outputs": [
    {
     "data": {
      "text/html": [
       "<div>\n",
       "<style scoped>\n",
       "    .dataframe tbody tr th:only-of-type {\n",
       "        vertical-align: middle;\n",
       "    }\n",
       "\n",
       "    .dataframe tbody tr th {\n",
       "        vertical-align: top;\n",
       "    }\n",
       "\n",
       "    .dataframe thead th {\n",
       "        text-align: right;\n",
       "    }\n",
       "</style>\n",
       "<table border=\"1\" class=\"dataframe\">\n",
       "  <thead>\n",
       "    <tr style=\"text-align: right;\">\n",
       "      <th></th>\n",
       "      <th>sale_date</th>\n",
       "      <th>sales</th>\n",
       "      <th>trend</th>\n",
       "      <th>day_of_week</th>\n",
       "      <th>is_weekend</th>\n",
       "      <th>lag_1</th>\n",
       "      <th>lag_7</th>\n",
       "      <th>lag_mean_1_7</th>\n",
       "    </tr>\n",
       "  </thead>\n",
       "  <tbody>\n",
       "    <tr>\n",
       "      <th>0</th>\n",
       "      <td>2024-02-22</td>\n",
       "      <td>26794.41</td>\n",
       "      <td>NaN</td>\n",
       "      <td>3</td>\n",
       "      <td>0</td>\n",
       "      <td>NaN</td>\n",
       "      <td>NaN</td>\n",
       "      <td>NaN</td>\n",
       "    </tr>\n",
       "    <tr>\n",
       "      <th>1</th>\n",
       "      <td>2024-02-23</td>\n",
       "      <td>32036.08</td>\n",
       "      <td>NaN</td>\n",
       "      <td>4</td>\n",
       "      <td>0</td>\n",
       "      <td>26794.41</td>\n",
       "      <td>NaN</td>\n",
       "      <td>26794.41</td>\n",
       "    </tr>\n",
       "    <tr>\n",
       "      <th>2</th>\n",
       "      <td>2024-02-24</td>\n",
       "      <td>27247.97</td>\n",
       "      <td>NaN</td>\n",
       "      <td>5</td>\n",
       "      <td>1</td>\n",
       "      <td>32036.08</td>\n",
       "      <td>NaN</td>\n",
       "      <td>32036.08</td>\n",
       "    </tr>\n",
       "    <tr>\n",
       "      <th>3</th>\n",
       "      <td>2024-02-25</td>\n",
       "      <td>32901.66</td>\n",
       "      <td>NaN</td>\n",
       "      <td>6</td>\n",
       "      <td>1</td>\n",
       "      <td>27247.97</td>\n",
       "      <td>NaN</td>\n",
       "      <td>27247.97</td>\n",
       "    </tr>\n",
       "    <tr>\n",
       "      <th>4</th>\n",
       "      <td>2024-02-26</td>\n",
       "      <td>24476.21</td>\n",
       "      <td>NaN</td>\n",
       "      <td>0</td>\n",
       "      <td>0</td>\n",
       "      <td>32901.66</td>\n",
       "      <td>NaN</td>\n",
       "      <td>32901.66</td>\n",
       "    </tr>\n",
       "  </tbody>\n",
       "</table>\n",
       "</div>"
      ],
      "text/plain": [
       "   sale_date     sales  trend  day_of_week  is_weekend     lag_1  lag_7  \\\n",
       "0 2024-02-22  26794.41    NaN            3           0       NaN    NaN   \n",
       "1 2024-02-23  32036.08    NaN            4           0  26794.41    NaN   \n",
       "2 2024-02-24  27247.97    NaN            5           1  32036.08    NaN   \n",
       "3 2024-02-25  32901.66    NaN            6           1  27247.97    NaN   \n",
       "4 2024-02-26  24476.21    NaN            0           0  32901.66    NaN   \n",
       "\n",
       "   lag_mean_1_7  \n",
       "0           NaN  \n",
       "1      26794.41  \n",
       "2      32036.08  \n",
       "3      27247.97  \n",
       "4      32901.66  "
      ]
     },
     "execution_count": 16,
     "metadata": {},
     "output_type": "execute_result"
    }
   ],
   "source": [
    "ds.head()"
   ]
  },
  {
   "cell_type": "code",
   "execution_count": 17,
   "id": "3654acd2",
   "metadata": {},
   "outputs": [],
   "source": [
    "# drop na rows\n",
    "ds_model = ds.dropna().reset_index(drop=True)"
   ]
  },
  {
   "cell_type": "code",
   "execution_count": 18,
   "id": "a69906d8",
   "metadata": {},
   "outputs": [],
   "source": [
    "features = ['day_of_week', 'is_weekend', 'lag_1', 'lag_7', 'trend', 'lag_mean_1_7']\n",
    "X = ds_model[features].values\n",
    "y = ds_model['sales'].values"
   ]
  },
  {
   "cell_type": "code",
   "execution_count": 19,
   "id": "dca01623",
   "metadata": {},
   "outputs": [
    {
     "data": {
      "text/plain": [
       "((473, 6),\n",
       " (473,),\n",
       "    day_of_week  is_weekend     lag_1     lag_7         trend  lag_mean_1_7  \\\n",
       " 0            3           0  24238.68  26794.41  29610.214286     25516.545   \n",
       " 1            4           0  31872.72  32036.08  29149.371429     31954.400   \n",
       " 2            5           1  28810.18  27247.97  29448.677143     28029.075   \n",
       " 3            6           1  29343.11  32901.66  29719.888571     31122.385   \n",
       " 4            0           0  34800.14  24476.21  30301.155714     29638.175   \n",
       " \n",
       "       sales  \n",
       " 0  31872.72  \n",
       " 1  28810.18  \n",
       " 2  29343.11  \n",
       " 3  34800.14  \n",
       " 4  28545.08  )"
      ]
     },
     "execution_count": 19,
     "metadata": {},
     "output_type": "execute_result"
    }
   ],
   "source": [
    "X.shape, y.shape, ds_model[features + ['sales']].head()"
   ]
  },
  {
   "cell_type": "markdown",
   "id": "289f812c",
   "metadata": {},
   "source": [
    "### 😀 We should be set. Let's see what we have\n",
    "- ✅ 473 samples\n",
    "- ✅ 6 features\n",
    "    - day_of_week, is_weekend, lag_1, lag_7, trend\n",
    "- ✅ Target: sales"
   ]
  },
  {
   "cell_type": "markdown",
   "id": "44321b93",
   "metadata": {},
   "source": [
    "### Train Data"
   ]
  },
  {
   "cell_type": "code",
   "execution_count": 20,
   "id": "950d6b15",
   "metadata": {},
   "outputs": [],
   "source": [
    "X_train, X_test, y_train, y_test = train_test_split(X, y, test_size=0.2, random_state=42)"
   ]
  },
  {
   "cell_type": "markdown",
   "id": "409a11d3",
   "metadata": {},
   "source": [
    "## Decision Tree Regressor"
   ]
  },
  {
   "cell_type": "code",
   "execution_count": 24,
   "id": "209fb717",
   "metadata": {},
   "outputs": [],
   "source": [
    "class DecisionTreeRegressor:\n",
    "    def __init__(self, max_depth=None, min_sample_split=2):\n",
    "        self.max_depth = max_depth\n",
    "        self.min_sample_split = min_sample_split\n",
    "        self.tree = None\n",
    "\n",
    "    def fit(self, X, y):\n",
    "        self.tree = self._build_tree(X, y)\n",
    "\n",
    "    def predict(self, X):\n",
    "        result = np.array([self._predict_sample(x, self.tree) for x in X])\n",
    "        return result\n",
    "    \n",
    "    def _build_tree(self, X, y, depth=0):\n",
    "        num_samples, num_features = X.shape\n",
    "        if (self.max_depth is not None and depth >= self.max_depth) or num_samples < self.min_sample_split:\n",
    "            return np.mean(y)\n",
    "        \n",
    "        best_feat, best_thresh = self._best_split(X, y)\n",
    "        if best_feat is None:\n",
    "            return np.mean(y)\n",
    "        \n",
    "        left_mask = X[:, best_feat] <= best_thresh\n",
    "        right_mask = X[:, best_feat] > best_thresh\n",
    "\n",
    "        left = self._build_tree(X[left_mask], y[left_mask], depth + 1)\n",
    "        right = self._build_tree(X[right_mask], y[right_mask], depth + 1)\n",
    "\n",
    "        return {'feature': best_feat, 'threshold': best_thresh, 'left': left, 'right': right}\n",
    "    \n",
    "    def _best_split(self, X, y):\n",
    "        best_mse = float('inf')\n",
    "        best_feat, best_thresh = None, None\n",
    "\n",
    "        for feat in range(X.shape[1]):\n",
    "            thresholds = np.unique(X[:, feat])\n",
    "            for t in thresholds:\n",
    "                left_mask = X[:, feat] <= t\n",
    "                right_mask = X[:, feat] > t\n",
    "\n",
    "                if len(y[left_mask]) == 0 or len(y[right_mask]) == 0:\n",
    "                    continue\n",
    "\n",
    "                mse = self._calculate_mse(y[left_mask], y[right_mask])\n",
    "                if mse < best_mse:\n",
    "                    best_mse = mse\n",
    "                    best_feat = feat\n",
    "                    best_thresh = t\n",
    "\n",
    "        return best_feat, best_thresh\n",
    "    \n",
    "    def _calculate_mse(self, left_y, right_y):\n",
    "        left_mse = np.var(left_y) * len(left_y)\n",
    "        right_mse = np.var(right_y) * len(right_y)\n",
    "        return (left_mse + right_mse) / (len(left_y) + len(right_y))\n",
    "    \n",
    "    def _predict_sample(self, x, node):\n",
    "        if not isinstance(node, dict):\n",
    "            return node\n",
    "        if x[node['feature']] <= node['threshold']:\n",
    "            return self._predict_sample(x, node['left'])\n",
    "        else:\n",
    "            return self._predict_sample(x, node['right'])\n",
    "        \n",
    "\n",
    "        "
   ]
  },
  {
   "cell_type": "markdown",
   "id": "f7ebcbc5",
   "metadata": {},
   "source": [
    "## RandomForestRegressorFromScratch"
   ]
  },
  {
   "cell_type": "code",
   "execution_count": 22,
   "id": "e0cd3b22",
   "metadata": {},
   "outputs": [],
   "source": [
    "class RandomForestRegressorFromScratch:\n",
    "    def __init__(self, n_estimators=10, max_depth=None, min_samples_split=2, max_features='sqrt'):\n",
    "        self.n_estimators = n_estimators\n",
    "        self.max_depth = max_depth\n",
    "        self.min_samples_split = min_samples_split\n",
    "        self.max_features = max_features\n",
    "        self.trees = []\n",
    "        self.feature_subsets = []\n",
    "\n",
    "    def _get_feature_indices(self, n_features):\n",
    "        if self.max_features == 'sqrt':\n",
    "            return np.random.choice(n_features, int(np.sqrt(n_features)), replace=False)\n",
    "        elif isinstance(self.max_features, int):\n",
    "            return np.random.choice(n_features, self.max_features, replace=False)\n",
    "        else:\n",
    "            return np.arange(n_features)\n",
    "\n",
    "    def fit(self, X, y):\n",
    "        self.trees = []\n",
    "        self.feature_subsets = []\n",
    "\n",
    "        for _ in range(self.n_estimators):\n",
    "            # Bootstrap sample\n",
    "            indices = np.random.choice(len(X), len(X), replace=True)\n",
    "            X_sample, y_sample = X[indices], y[indices]\n",
    "\n",
    "            # Feature subset\n",
    "            feature_idx = self._get_feature_indices(X.shape[1])\n",
    "            self.feature_subsets.append(feature_idx)\n",
    "\n",
    "            # Train tree\n",
    "            tree = DecisionTreeRegressor(\n",
    "                max_depth=self.max_depth,\n",
    "                min_sample_split=self.min_samples_split\n",
    "            )\n",
    "            tree.fit(X_sample[:, feature_idx], y_sample)\n",
    "            self.trees.append(tree)\n",
    "\n",
    "    def predict(self, X):\n",
    "        preds = np.array([\n",
    "            tree.predict(X[:, feat_idx]) for tree, feat_idx in zip(self.trees, self.feature_subsets)\n",
    "        ])\n",
    "        return np.mean(preds, axis=0)\n",
    "\n",
    "    def feature_importances_(self, feature_names):\n",
    "        # Count how often features were used across trees\n",
    "        importances = Counter()\n",
    "        total_splits = 0\n",
    "\n",
    "        for tree, feat_idx in zip(self.trees, self.feature_subsets):\n",
    "            stack = [tree.tree]\n",
    "            while stack:\n",
    "                node = stack.pop()\n",
    "                if isinstance(node, dict):\n",
    "                    importances[feature_names[feat_idx[node['feature']]]] += 1\n",
    "                    total_splits += 1\n",
    "                    stack.extend([node['left'], node['right']])\n",
    "\n",
    "        # Normalize\n",
    "        return {feat: count / total_splits for feat, count in importances.items()}\n",
    "\n"
   ]
  },
  {
   "cell_type": "markdown",
   "id": "b98561b0",
   "metadata": {},
   "source": [
    "## Test"
   ]
  },
  {
   "cell_type": "code",
   "execution_count": 17,
   "id": "73d1abf5",
   "metadata": {},
   "outputs": [],
   "source": [
    "X_small = np.array([\n",
    "    [1, 10],   # A\n",
    "    [2, 20],   # B\n",
    "    [3, 30],   # C\n",
    "    [4, 40],   # D\n",
    "    [5, 50]    # E\n",
    "])\n",
    "y_small = np.array([100, 200, 300, 400, 500]) "
   ]
  },
  {
   "cell_type": "code",
   "execution_count": null,
   "id": "1af6d89b",
   "metadata": {},
   "outputs": [],
   "source": [
    "debug_tree = DecisionTreeRegressor(max_depth=2)\n",
    "debug_tree.fit(X_small, y_small)"
   ]
  },
  {
   "cell_type": "code",
   "execution_count": 25,
   "id": "e424b467",
   "metadata": {},
   "outputs": [],
   "source": [
    "forest = RandomForestRegressorFromScratch(\n",
    "    n_estimators=10,\n",
    "    max_depth=6,\n",
    "    max_features='sqrt'\n",
    ")\n",
    "forest.fit(X_train, y_train)"
   ]
  },
  {
   "cell_type": "code",
   "execution_count": 27,
   "id": "0ea78120",
   "metadata": {},
   "outputs": [
    {
     "name": "stdout",
     "output_type": "stream",
     "text": [
      "Random Forest MSE: 25796820.83, MAPE: 11.38%\n"
     ]
    }
   ],
   "source": [
    "y_pred = forest.predict(X_test)\n",
    "mse = MSE(y_test, y_pred)\n",
    "mape = MAPE(y_test, y_pred)\n",
    "print(f'Random Forest MSE: {mse:.2f}, MAPE: {(mape*100):.2f}%')"
   ]
  },
  {
   "cell_type": "code",
   "execution_count": 28,
   "id": "4c509109",
   "metadata": {},
   "outputs": [],
   "source": [
    "importances = forest.feature_importances_(features)"
   ]
  },
  {
   "cell_type": "code",
   "execution_count": 29,
   "id": "2c99b9e2",
   "metadata": {},
   "outputs": [
    {
     "data": {
      "text/plain": [
       "{'lag_mean_1_7': 0.21973094170403587,\n",
       " 'trend': 0.2914798206278027,\n",
       " 'lag_1': 0.13901345291479822,\n",
       " 'day_of_week': 0.08520179372197309,\n",
       " 'lag_7': 0.22869955156950672,\n",
       " 'is_weekend': 0.03587443946188341}"
      ]
     },
     "execution_count": 29,
     "metadata": {},
     "output_type": "execute_result"
    }
   ],
   "source": [
    "importances"
   ]
  },
  {
   "cell_type": "code",
   "execution_count": 30,
   "id": "ded98d11",
   "metadata": {},
   "outputs": [
    {
     "data": {
      "image/png": "[encoded data removed]",
      "text/plain": [
       "<Figure size 800x500 with 1 Axes>"
      ]
     },
     "metadata": {},
     "output_type": "display_data"
    }
   ],
   "source": [
    "plt.figure(figsize=(8, 5))\n",
    "sorted_items = sorted(importances.items(), key=lambda x: -x[1])\n",
    "features_sorted, scores_sorted = zip(*sorted_items)\n",
    "\n",
    "plt.bar(features_sorted, scores_sorted)\n",
    "plt.title(\"Feature Importances from Custom Random Forest\")\n",
    "plt.ylabel(\"Importance\")\n",
    "plt.xlabel(\"Feature\")\n",
    "plt.grid(True)\n",
    "plt.tight_layout()\n",
    "plt.show()"
   ]
  },
  {
   "cell_type": "code",
   "execution_count": 31,
   "id": "b00bd536",
   "metadata": {},
   "outputs": [
    {
     "data": {
      "image/png": "[encoded data removed]",
      "text/plain": [
       "<Figure size 1000x500 with 1 Axes>"
      ]
     },
     "metadata": {},
     "output_type": "display_data"
    }
   ],
   "source": [
    "# --- Line Plot: Predictions vs Actuals ---\n",
    "plt.figure(figsize=(10, 5))\n",
    "plt.plot(y_test[:50], label='Actual', marker='o')\n",
    "plt.plot(y_pred[:50], label='Predicted', marker='x')\n",
    "plt.title(\"Random Forest Predictions vs Actual Sales\")\n",
    "plt.ylabel(\"Sales\")\n",
    "plt.xlabel(\"Sample Index\")\n",
    "plt.legend()\n",
    "plt.grid(True)\n",
    "plt.tight_layout()\n",
    "plt.show()"
   ]
  },
  {
   "cell_type": "markdown",
   "id": "61ee0f27",
   "metadata": {},
   "source": [
    "### Visual all trees in the forest"
   ]
  },
  {
   "cell_type": "code",
   "execution_count": 36,
   "id": "85e10d17",
   "metadata": {},
   "outputs": [
    {
     "data": {
      "text/plain": [
       "['trees/forest_tree_0.pdf',\n",
       " 'trees/forest_tree_1.pdf',\n",
       " 'trees/forest_tree_2.pdf',\n",
       " 'trees/forest_tree_3.pdf',\n",
       " 'trees/forest_tree_4.pdf',\n",
       " 'trees/forest_tree_5.pdf',\n",
       " 'trees/forest_tree_6.pdf',\n",
       " 'trees/forest_tree_7.pdf',\n",
       " 'trees/forest_tree_8.pdf',\n",
       " 'trees/forest_tree_9.pdf']"
      ]
     },
     "execution_count": 36,
     "metadata": {},
     "output_type": "execute_result"
    }
   ],
   "source": [
    "# Visualize all trees from the forest and save them as separate PDFs\n",
    "visualized_paths = []\n",
    "\n",
    "for idx, tree_model in enumerate(forest.trees):\n",
    "    dot = visualize_tree_pdf(tree_model.tree, feature_names=features)\n",
    "    path = f\"trees/forest_tree_{idx}.pdf\"\n",
    "    dot.render(path, format='pdf', cleanup=False)\n",
    "    visualized_paths.append(path)\n",
    "\n",
    "visualized_paths\n"
   ]
  },
  {
   "cell_type": "code",
   "execution_count": 37,
   "id": "81e6de6a",
   "metadata": {},
   "outputs": [],
   "source": [
    "def hyperparameter_search(X, y, param_grid, metric='mape'):\n",
    "    results = []\n",
    "\n",
    "    for n_estimators in param_grid['n_estimators']:\n",
    "        for max_depth in param_grid['max_depth']:\n",
    "            for max_features in param_grid['max_features']:\n",
    "                # Train/test split\n",
    "                indices = np.arange(len(X))\n",
    "                np.random.shuffle(indices)\n",
    "                split = int(0.8 * len(X))\n",
    "                train_idx, test_idx = indices[:split], indices[split:]\n",
    "                X_train, y_train = X[train_idx], y[train_idx]\n",
    "                X_test, y_test = X[test_idx], y[test_idx]\n",
    "\n",
    "                # Train the model\n",
    "                forest = RandomForestRegressorFromScratch(\n",
    "                    n_estimators=n_estimators,\n",
    "                    max_depth=max_depth,\n",
    "                    max_features=max_features\n",
    "                )\n",
    "                forest.fit(X_train, y_train)\n",
    "                y_pred = forest.predict(X_test)\n",
    "\n",
    "                # Calculate metrics\n",
    "                mape = MAPE(y_test, y_pred)\n",
    "\n",
    "                results.append({\n",
    "                    'n_estimators': n_estimators,\n",
    "                    'max_depth': max_depth,\n",
    "                    'max_features': max_features,\n",
    "                    'MAPE': mape\n",
    "                })\n",
    "\n",
    "    return results\n"
   ]
  },
  {
   "cell_type": "code",
   "execution_count": 39,
   "id": "aa8d6593",
   "metadata": {},
   "outputs": [],
   "source": [
    "param_grid = {\n",
    "    'n_estimators': [3, 5, 7],\n",
    "    'max_depth': [1, 2, 3],\n",
    "    'max_features': ['sqrt', 1, 2]\n",
    "}"
   ]
  },
  {
   "cell_type": "code",
   "execution_count": 40,
   "id": "7f5eded5",
   "metadata": {},
   "outputs": [],
   "source": [
    "search_results = hyperparameter_search(X_train, y_train, param_grid)"
   ]
  },
  {
   "cell_type": "code",
   "execution_count": 41,
   "id": "d70f1943",
   "metadata": {},
   "outputs": [],
   "source": [
    "results_ds = pd.DataFrame(search_results)"
   ]
  },
  {
   "cell_type": "code",
   "execution_count": 43,
   "id": "1c0a5a9c",
   "metadata": {},
   "outputs": [
    {
     "data": {
      "text/html": [
       "<div>\n",
       "<style scoped>\n",
       "    .dataframe tbody tr th:only-of-type {\n",
       "        vertical-align: middle;\n",
       "    }\n",
       "\n",
       "    .dataframe tbody tr th {\n",
       "        vertical-align: top;\n",
       "    }\n",
       "\n",
       "    .dataframe thead th {\n",
       "        text-align: right;\n",
       "    }\n",
       "</style>\n",
       "<table border=\"1\" class=\"dataframe\">\n",
       "  <thead>\n",
       "    <tr style=\"text-align: right;\">\n",
       "      <th></th>\n",
       "      <th>n_estimators</th>\n",
       "      <th>max_depth</th>\n",
       "      <th>max_features</th>\n",
       "      <th>MAPE</th>\n",
       "    </tr>\n",
       "  </thead>\n",
       "  <tbody>\n",
       "    <tr>\n",
       "      <th>7</th>\n",
       "      <td>3</td>\n",
       "      <td>3</td>\n",
       "      <td>1</td>\n",
       "      <td>0.105492</td>\n",
       "    </tr>\n",
       "    <tr>\n",
       "      <th>16</th>\n",
       "      <td>5</td>\n",
       "      <td>3</td>\n",
       "      <td>1</td>\n",
       "      <td>0.105520</td>\n",
       "    </tr>\n",
       "    <tr>\n",
       "      <th>24</th>\n",
       "      <td>7</td>\n",
       "      <td>3</td>\n",
       "      <td>sqrt</td>\n",
       "      <td>0.112065</td>\n",
       "    </tr>\n",
       "    <tr>\n",
       "      <th>1</th>\n",
       "      <td>3</td>\n",
       "      <td>1</td>\n",
       "      <td>1</td>\n",
       "      <td>0.116658</td>\n",
       "    </tr>\n",
       "    <tr>\n",
       "      <th>17</th>\n",
       "      <td>5</td>\n",
       "      <td>3</td>\n",
       "      <td>2</td>\n",
       "      <td>0.116964</td>\n",
       "    </tr>\n",
       "    <tr>\n",
       "      <th>0</th>\n",
       "      <td>3</td>\n",
       "      <td>1</td>\n",
       "      <td>sqrt</td>\n",
       "      <td>0.124058</td>\n",
       "    </tr>\n",
       "    <tr>\n",
       "      <th>23</th>\n",
       "      <td>7</td>\n",
       "      <td>2</td>\n",
       "      <td>2</td>\n",
       "      <td>0.126110</td>\n",
       "    </tr>\n",
       "    <tr>\n",
       "      <th>10</th>\n",
       "      <td>5</td>\n",
       "      <td>1</td>\n",
       "      <td>1</td>\n",
       "      <td>0.126956</td>\n",
       "    </tr>\n",
       "    <tr>\n",
       "      <th>3</th>\n",
       "      <td>3</td>\n",
       "      <td>2</td>\n",
       "      <td>sqrt</td>\n",
       "      <td>0.131876</td>\n",
       "    </tr>\n",
       "    <tr>\n",
       "      <th>25</th>\n",
       "      <td>7</td>\n",
       "      <td>3</td>\n",
       "      <td>1</td>\n",
       "      <td>0.132544</td>\n",
       "    </tr>\n",
       "    <tr>\n",
       "      <th>15</th>\n",
       "      <td>5</td>\n",
       "      <td>3</td>\n",
       "      <td>sqrt</td>\n",
       "      <td>0.134671</td>\n",
       "    </tr>\n",
       "    <tr>\n",
       "      <th>19</th>\n",
       "      <td>7</td>\n",
       "      <td>1</td>\n",
       "      <td>1</td>\n",
       "      <td>0.135574</td>\n",
       "    </tr>\n",
       "    <tr>\n",
       "      <th>4</th>\n",
       "      <td>3</td>\n",
       "      <td>2</td>\n",
       "      <td>1</td>\n",
       "      <td>0.138932</td>\n",
       "    </tr>\n",
       "    <tr>\n",
       "      <th>8</th>\n",
       "      <td>3</td>\n",
       "      <td>3</td>\n",
       "      <td>2</td>\n",
       "      <td>0.150948</td>\n",
       "    </tr>\n",
       "    <tr>\n",
       "      <th>9</th>\n",
       "      <td>5</td>\n",
       "      <td>1</td>\n",
       "      <td>sqrt</td>\n",
       "      <td>0.152651</td>\n",
       "    </tr>\n",
       "    <tr>\n",
       "      <th>26</th>\n",
       "      <td>7</td>\n",
       "      <td>3</td>\n",
       "      <td>2</td>\n",
       "      <td>0.167355</td>\n",
       "    </tr>\n",
       "    <tr>\n",
       "      <th>6</th>\n",
       "      <td>3</td>\n",
       "      <td>3</td>\n",
       "      <td>sqrt</td>\n",
       "      <td>0.589525</td>\n",
       "    </tr>\n",
       "    <tr>\n",
       "      <th>21</th>\n",
       "      <td>7</td>\n",
       "      <td>2</td>\n",
       "      <td>sqrt</td>\n",
       "      <td>0.776339</td>\n",
       "    </tr>\n",
       "    <tr>\n",
       "      <th>22</th>\n",
       "      <td>7</td>\n",
       "      <td>2</td>\n",
       "      <td>1</td>\n",
       "      <td>0.789840</td>\n",
       "    </tr>\n",
       "    <tr>\n",
       "      <th>11</th>\n",
       "      <td>5</td>\n",
       "      <td>1</td>\n",
       "      <td>2</td>\n",
       "      <td>0.873524</td>\n",
       "    </tr>\n",
       "    <tr>\n",
       "      <th>20</th>\n",
       "      <td>7</td>\n",
       "      <td>1</td>\n",
       "      <td>2</td>\n",
       "      <td>1.017546</td>\n",
       "    </tr>\n",
       "    <tr>\n",
       "      <th>18</th>\n",
       "      <td>7</td>\n",
       "      <td>1</td>\n",
       "      <td>sqrt</td>\n",
       "      <td>1.049566</td>\n",
       "    </tr>\n",
       "    <tr>\n",
       "      <th>14</th>\n",
       "      <td>5</td>\n",
       "      <td>2</td>\n",
       "      <td>2</td>\n",
       "      <td>1.472969</td>\n",
       "    </tr>\n",
       "    <tr>\n",
       "      <th>2</th>\n",
       "      <td>3</td>\n",
       "      <td>1</td>\n",
       "      <td>2</td>\n",
       "      <td>1.524940</td>\n",
       "    </tr>\n",
       "    <tr>\n",
       "      <th>5</th>\n",
       "      <td>3</td>\n",
       "      <td>2</td>\n",
       "      <td>2</td>\n",
       "      <td>1.738977</td>\n",
       "    </tr>\n",
       "    <tr>\n",
       "      <th>12</th>\n",
       "      <td>5</td>\n",
       "      <td>2</td>\n",
       "      <td>sqrt</td>\n",
       "      <td>1.913956</td>\n",
       "    </tr>\n",
       "    <tr>\n",
       "      <th>13</th>\n",
       "      <td>5</td>\n",
       "      <td>2</td>\n",
       "      <td>1</td>\n",
       "      <td>2.109459</td>\n",
       "    </tr>\n",
       "  </tbody>\n",
       "</table>\n",
       "</div>"
      ],
      "text/plain": [
       "    n_estimators  max_depth max_features      MAPE\n",
       "7              3          3            1  0.105492\n",
       "16             5          3            1  0.105520\n",
       "24             7          3         sqrt  0.112065\n",
       "1              3          1            1  0.116658\n",
       "17             5          3            2  0.116964\n",
       "0              3          1         sqrt  0.124058\n",
       "23             7          2            2  0.126110\n",
       "10             5          1            1  0.126956\n",
       "3              3          2         sqrt  0.131876\n",
       "25             7          3            1  0.132544\n",
       "15             5          3         sqrt  0.134671\n",
       "19             7          1            1  0.135574\n",
       "4              3          2            1  0.138932\n",
       "8              3          3            2  0.150948\n",
       "9              5          1         sqrt  0.152651\n",
       "26             7          3            2  0.167355\n",
       "6              3          3         sqrt  0.589525\n",
       "21             7          2         sqrt  0.776339\n",
       "22             7          2            1  0.789840\n",
       "11             5          1            2  0.873524\n",
       "20             7          1            2  1.017546\n",
       "18             7          1         sqrt  1.049566\n",
       "14             5          2            2  1.472969\n",
       "2              3          1            2  1.524940\n",
       "5              3          2            2  1.738977\n",
       "12             5          2         sqrt  1.913956\n",
       "13             5          2            1  2.109459"
      ]
     },
     "execution_count": 43,
     "metadata": {},
     "output_type": "execute_result"
    }
   ],
   "source": [
    "results_ds.sort_values(by='MAPE', ascending=True)"
   ]
  },
  {
   "cell_type": "code",
   "execution_count": null,
   "id": "72ecb702",
   "metadata": {},
   "outputs": [],
   "source": []
  }
 ],
 "metadata": {
  "kernelspec": {
   "display_name": "env",
   "language": "python",
   "name": "python3"
  },
  "language_info": {
   "codemirror_mode": {
    "name": "ipython",
    "version": 3
   },
   "file_extension": ".py",
   "mimetype": "text/x-python",
   "name": "python",
   "nbconvert_exporter": "python",
   "pygments_lexer": "ipython3",
   "version": "3.12.10"
  }
 },
 "nbformat": 4,
 "nbformat_minor": 5
}
