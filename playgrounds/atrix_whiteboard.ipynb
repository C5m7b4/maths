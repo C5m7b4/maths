{
 "cells": [
  {
   "cell_type": "markdown",
   "id": "7db0b08e",
   "metadata": {},
   "source": [
    "# Atrax"
   ]
  },
  {
   "cell_type": "markdown",
   "id": "2a034a0b",
   "metadata": {},
   "source": [
    "### Import Libraries"
   ]
  },
  {
   "cell_type": "code",
   "execution_count": 1,
   "id": "b8db09e6",
   "metadata": {},
   "outputs": [],
   "source": [
    "from atrax import Atrax"
   ]
  },
  {
   "cell_type": "markdown",
   "id": "be1f2881",
   "metadata": {},
   "source": [
    "### Create fake data"
   ]
  },
  {
   "cell_type": "code",
   "execution_count": 4,
   "id": "45fd0398",
   "metadata": {},
   "outputs": [],
   "source": [
    "data = [\n",
    "    {'name': 'Alice', 'age': 30, 'salary': 100000},\n",
    "    {'name': 'Bob', 'age': 25, 'salary': 80000},\n",
    "    {'name': 'Charlie', 'age': 35, 'salary': 120000},\n",
    "    {'name': 'David', 'age': 28, 'salary': 85000},\n",
    "    {'name': 'Eva', 'age': 40, 'salary': 130000},\n",
    "    {'name': 'Frank', 'age': 38, 'salary': 125000}\n",
    "]"
   ]
  },
  {
   "cell_type": "markdown",
   "id": "41e3d64a",
   "metadata": {},
   "source": [
    "### Series tests"
   ]
  },
  {
   "cell_type": "markdown",
   "id": "d2c096f2",
   "metadata": {},
   "source": [
    "#### Printing"
   ]
  },
  {
   "cell_type": "code",
   "execution_count": 2,
   "id": "35abd43e",
   "metadata": {},
   "outputs": [],
   "source": [
    "s = Atrax.Series([1,2,3,4,5,6,7,8,9,10,11], name=\"numbers\")"
   ]
  },
  {
   "cell_type": "code",
   "execution_count": 4,
   "id": "b1159c5d",
   "metadata": {},
   "outputs": [
    {
     "data": {
      "text/html": [
       "<table style='border-collapse: collapse;'><tr><td style=''>0</td><td style=''>1</td></tr><tr><td style=''>1</td><td style=''>2</td></tr><tr><td style=''>2</td><td style=''>3</td></tr><tr><td style=''>3</td><td style=''>4</td></tr><tr><td style=''>4</td><td style=''>5</td></tr><tr><td style=''>5</td><td style=''>6</td></tr><tr><td style=''>6</td><td style=''>7</td></tr><tr><td colspan='2' style='font-style: bold; font-size:1.1rem;'>Name: numbers, dtype: int</td></tr></table>"
      ],
      "text/plain": [
       "0   1\n",
       "1   2\n",
       "2   3\n",
       "3   4\n",
       "4   5\n",
       "5   6\n",
       "6   7\n",
       "Name: numbers, dtype: int"
      ]
     },
     "execution_count": 4,
     "metadata": {},
     "output_type": "execute_result"
    }
   ],
   "source": [
    "s.head(7)"
   ]
  },
  {
   "cell_type": "code",
   "execution_count": 5,
   "id": "f50161db",
   "metadata": {},
   "outputs": [
    {
     "data": {
      "text/html": [
       "<table style='border-collapse: collapse;'><tr><td style=''>8</td><td style=''>9</td></tr><tr><td style=''>9</td><td style=''>10</td></tr><tr><td style=''>10</td><td style=''>11</td></tr><tr><td colspan='2' style='font-style: bold; font-size:1.1rem;'>Name: numbers, dtype: int</td></tr></table>"
      ],
      "text/plain": [
       "8   9\n",
       "9   10\n",
       "10   11\n",
       "Name: numbers, dtype: int"
      ]
     },
     "execution_count": 5,
     "metadata": {},
     "output_type": "execute_result"
    }
   ],
   "source": [
    "s.tail(3)"
   ]
  },
  {
   "cell_type": "code",
   "execution_count": 3,
   "id": "a9419723",
   "metadata": {},
   "outputs": [
    {
     "data": {
      "text/html": [
       "<table style='border-collapse: collapse;'><tr><td style='padding:4px;'>0</td><td style='padding:4px; '>1</td></tr><tr><td style='padding:4px;'>1</td><td style='padding:4px; '>2</td></tr><tr><td style='padding:4px;'>2</td><td style='padding:4px; '>3</td></tr><tr><td style='padding:4px;'>3</td><td style='padding:4px; '>4</td></tr><tr><td style='padding:4px;'>4</td><td style='padding:4px; '>5</td></tr><tr><td style='padding:4px;'>5</td><td style='padding:4px; '>6</td></tr><tr><td style='padding:4px;'>6</td><td style='padding:4px; '>7</td></tr><tr><td style='padding:4px;'>7</td><td style='padding:4px; '>8</td></tr><tr><td style='padding:4px;'>8</td><td style='padding:4px; '>9</td></tr><tr><td style='padding:4px;'>9</td><td style='padding:4px; '>10</td></tr><tr><td>Name: </td><td>numbers</td><td>dtype: </td><td>int</td></tr><tr><td colspan='2'><i>...1 more</i></td></tr></table>"
      ],
      "text/plain": [
       "0: 1\n",
       "1: 2\n",
       "2: 3\n",
       "3: 4\n",
       "4: 5\n",
       "5: 6\n",
       "6: 7\n",
       "7: 8\n",
       "8: 9\n",
       "9: 10\n",
       "...(11 total)\n",
       "Name: numbers, dtype: int"
      ]
     },
     "execution_count": 3,
     "metadata": {},
     "output_type": "execute_result"
    }
   ],
   "source": [
    "s"
   ]
  },
  {
   "cell_type": "code",
   "execution_count": 4,
   "id": "2e51255d",
   "metadata": {},
   "outputs": [
    {
     "name": "stdout",
     "output_type": "stream",
     "text": [
      "0: 1\n",
      "1: 2\n",
      "2: 3\n",
      "3: 4\n",
      "4: 5\n",
      "5: 6\n",
      "6: 7\n",
      "7: 8\n",
      "8: 9\n",
      "9: 10\n",
      "...(11 total)\n",
      "Name: numbers, dtype: int\n"
     ]
    }
   ],
   "source": [
    "print(s)"
   ]
  },
  {
   "cell_type": "code",
   "execution_count": 5,
   "id": "5e52c88a",
   "metadata": {},
   "outputs": [
    {
     "data": {
      "text/plain": [
       "atrax.core.series.Series"
      ]
     },
     "execution_count": 5,
     "metadata": {},
     "output_type": "execute_result"
    }
   ],
   "source": [
    "type(s)"
   ]
  },
  {
   "cell_type": "code",
   "execution_count": 6,
   "id": "cfddf98a",
   "metadata": {},
   "outputs": [
    {
     "data": {
      "text/html": [
       "<table style='border-collapse: collapse;'><tr><td style='padding:4px;'>0</td><td style='padding:4px; '>1.5</td></tr><tr><td style='padding:4px;'>1</td><td style='padding:4px; '>2.5</td></tr><tr><td style='padding:4px;'>2</td><td style='padding:4px; '>3.25</td></tr><tr><td>dtype: </td><td>float</td></tr></table>"
      ],
      "text/plain": [
       "0: 1.5\n",
       "1: 2.5\n",
       "2: 3.25\n",
       "Name: , dtype: float"
      ]
     },
     "execution_count": 6,
     "metadata": {},
     "output_type": "execute_result"
    }
   ],
   "source": [
    "Atrax.Series([1.5, 2.5, 3.25])"
   ]
  },
  {
   "cell_type": "code",
   "execution_count": 7,
   "id": "fe6e6385",
   "metadata": {},
   "outputs": [
    {
     "data": {
      "text/html": [
       "<table style='border-collapse: collapse;'><tr><td style='padding:4px;'>0</td><td style='padding:4px; '>1</td></tr><tr><td style='padding:4px;'>1</td><td style='padding:4px; '>2.5</td></tr><tr><td style='padding:4px;'>2</td><td style='padding:4px; '>True</td></tr><tr><td style='padding:4px;'>3</td><td style='padding:4px; '>hello</td></tr><tr><td>Name: </td><td>mixed</td><td>dtype: </td><td>object</td></tr></table>"
      ],
      "text/plain": [
       "0: 1\n",
       "1: 2.5\n",
       "2: True\n",
       "3: hello\n",
       "Name: mixed, dtype: object"
      ]
     },
     "execution_count": 7,
     "metadata": {},
     "output_type": "execute_result"
    }
   ],
   "source": [
    "Atrax.Series([1, 2.5, True, 'hello'], name='mixed')"
   ]
  },
  {
   "cell_type": "markdown",
   "id": "ddd9cbf1",
   "metadata": {},
   "source": [
    "#### astype"
   ]
  },
  {
   "cell_type": "code",
   "execution_count": 2,
   "id": "078dfe42",
   "metadata": {},
   "outputs": [
    {
     "data": {
      "text/html": [
       "<table style='border-collapse: collapse;'><tr><td style='padding:4px;'>0</td><td style='padding:4px; '>1</td></tr><tr><td style='padding:4px;'>1</td><td style='padding:4px; '>2</td></tr><tr><td style='padding:4px;'>2</td><td style='padding:4px; '>3</td></tr><tr><td style='padding:4px;'>3</td><td style='padding:4px; '>4</td></tr><tr><td>dtype: </td><td>int</td></tr></table>"
      ],
      "text/plain": [
       "0: 1\n",
       "1: 2\n",
       "2: 3\n",
       "3: 4\n",
       "Name: , dtype: int"
      ]
     },
     "execution_count": 2,
     "metadata": {},
     "output_type": "execute_result"
    }
   ],
   "source": [
    "s = Atrax.Series([\"1\", \"2\", \"3\", \"4\"])\n",
    "s.astype('int')"
   ]
  },
  {
   "cell_type": "markdown",
   "id": "baf733c6",
   "metadata": {},
   "source": [
    "#### apply"
   ]
  },
  {
   "cell_type": "code",
   "execution_count": 2,
   "id": "0545697b",
   "metadata": {},
   "outputs": [
    {
     "data": {
      "text/html": [
       "<table style='border-collapse: collapse;'><tr><td style='padding:4px;'>0</td><td style='padding:4px; '>2</td></tr><tr><td style='padding:4px;'>1</td><td style='padding:4px; '>4</td></tr><tr><td style='padding:4px;'>2</td><td style='padding:4px; '>6</td></tr><tr><td style='padding:4px;'>3</td><td style='padding:4px; '>8</td></tr><tr><td>dtype: </td><td>int</td></tr></table>"
      ],
      "text/plain": [
       "0: 2\n",
       "1: 4\n",
       "2: 6\n",
       "3: 8\n",
       "Name: , dtype: int"
      ]
     },
     "execution_count": 2,
     "metadata": {},
     "output_type": "execute_result"
    }
   ],
   "source": [
    "s = Atrax.Series([1,2,3,4])\n",
    "s.apply(lambda x: x * 2)"
   ]
  },
  {
   "cell_type": "code",
   "execution_count": 3,
   "id": "ae352a31",
   "metadata": {},
   "outputs": [],
   "source": [
    "def square(x):\n",
    "    return x * x"
   ]
  },
  {
   "cell_type": "code",
   "execution_count": 4,
   "id": "cd0fed36",
   "metadata": {},
   "outputs": [
    {
     "data": {
      "text/html": [
       "<table style='border-collapse: collapse;'><tr><td style='padding:4px;'>0</td><td style='padding:4px; '>1</td></tr><tr><td style='padding:4px;'>1</td><td style='padding:4px; '>4</td></tr><tr><td style='padding:4px;'>2</td><td style='padding:4px; '>9</td></tr><tr><td style='padding:4px;'>3</td><td style='padding:4px; '>16</td></tr><tr><td>dtype: </td><td>int</td></tr></table>"
      ],
      "text/plain": [
       "0: 1\n",
       "1: 4\n",
       "2: 9\n",
       "3: 16\n",
       "Name: , dtype: int"
      ]
     },
     "execution_count": 4,
     "metadata": {},
     "output_type": "execute_result"
    }
   ],
   "source": [
    "s1 = Atrax.Series([1,2,3,4])\n",
    "s.apply(square)"
   ]
  },
  {
   "cell_type": "markdown",
   "id": "9894ae85",
   "metadata": {},
   "source": [
    "#### arithmetic\n"
   ]
  },
  {
   "cell_type": "code",
   "execution_count": 2,
   "id": "132fc4c2",
   "metadata": {},
   "outputs": [],
   "source": [
    "s1 = Atrax.Series([1,2,3,4])\n",
    "s2 = Atrax.Series([5,6,7,8])"
   ]
  },
  {
   "cell_type": "markdown",
   "id": "99a48559",
   "metadata": {},
   "source": [
    "##### addition"
   ]
  },
  {
   "cell_type": "code",
   "execution_count": 3,
   "id": "961213e7",
   "metadata": {},
   "outputs": [
    {
     "data": {
      "text/html": [
       "<table style='border-collapse: collapse;'><tr><td style='padding:4px;'>0</td><td style='padding:4px; '>11</td></tr><tr><td style='padding:4px;'>1</td><td style='padding:4px; '>12</td></tr><tr><td style='padding:4px;'>2</td><td style='padding:4px; '>13</td></tr><tr><td style='padding:4px;'>3</td><td style='padding:4px; '>14</td></tr><tr><td>dtype: </td><td>int</td></tr></table>"
      ],
      "text/plain": [
       "0: 11\n",
       "1: 12\n",
       "2: 13\n",
       "3: 14\n",
       "Name: , dtype: int"
      ]
     },
     "execution_count": 3,
     "metadata": {},
     "output_type": "execute_result"
    }
   ],
   "source": [
    "s1 + 10"
   ]
  },
  {
   "cell_type": "code",
   "execution_count": 4,
   "id": "3d738ba1",
   "metadata": {},
   "outputs": [
    {
     "data": {
      "text/html": [
       "<table style='border-collapse: collapse;'><tr><td style='padding:4px;'>0</td><td style='padding:4px; '>6</td></tr><tr><td style='padding:4px;'>1</td><td style='padding:4px; '>8</td></tr><tr><td style='padding:4px;'>2</td><td style='padding:4px; '>10</td></tr><tr><td style='padding:4px;'>3</td><td style='padding:4px; '>12</td></tr><tr><td>dtype: </td><td>int</td></tr></table>"
      ],
      "text/plain": [
       "0: 6\n",
       "1: 8\n",
       "2: 10\n",
       "3: 12\n",
       "Name: , dtype: int"
      ]
     },
     "execution_count": 4,
     "metadata": {},
     "output_type": "execute_result"
    }
   ],
   "source": [
    "s1 + s2"
   ]
  },
  {
   "cell_type": "markdown",
   "id": "8f71111d",
   "metadata": {},
   "source": [
    "##### subtraction"
   ]
  },
  {
   "cell_type": "code",
   "execution_count": 5,
   "id": "c0584362",
   "metadata": {},
   "outputs": [
    {
     "data": {
      "text/html": [
       "<table style='border-collapse: collapse;'><tr><td style='padding:4px;'>0</td><td style='padding:4px; '>-1</td></tr><tr><td style='padding:4px;'>1</td><td style='padding:4px; '>0</td></tr><tr><td style='padding:4px;'>2</td><td style='padding:4px; '>1</td></tr><tr><td style='padding:4px;'>3</td><td style='padding:4px; '>2</td></tr><tr><td>dtype: </td><td>int</td></tr></table>"
      ],
      "text/plain": [
       "0: -1\n",
       "1: 0\n",
       "2: 1\n",
       "3: 2\n",
       "Name: , dtype: int"
      ]
     },
     "execution_count": 5,
     "metadata": {},
     "output_type": "execute_result"
    }
   ],
   "source": [
    "s1 - 2"
   ]
  },
  {
   "cell_type": "markdown",
   "id": "9ab20d96",
   "metadata": {},
   "source": [
    "##### multiplication"
   ]
  },
  {
   "cell_type": "code",
   "execution_count": 6,
   "id": "bbd21d81",
   "metadata": {},
   "outputs": [
    {
     "data": {
      "text/html": [
       "<table style='border-collapse: collapse;'><tr><td style='padding:4px;'>0</td><td style='padding:4px; '>2</td></tr><tr><td style='padding:4px;'>1</td><td style='padding:4px; '>4</td></tr><tr><td style='padding:4px;'>2</td><td style='padding:4px; '>6</td></tr><tr><td style='padding:4px;'>3</td><td style='padding:4px; '>8</td></tr><tr><td>dtype: </td><td>int</td></tr></table>"
      ],
      "text/plain": [
       "0: 2\n",
       "1: 4\n",
       "2: 6\n",
       "3: 8\n",
       "Name: , dtype: int"
      ]
     },
     "execution_count": 6,
     "metadata": {},
     "output_type": "execute_result"
    }
   ],
   "source": [
    "s1 * 2"
   ]
  },
  {
   "cell_type": "markdown",
   "id": "4bc49baf",
   "metadata": {},
   "source": [
    "##### division"
   ]
  },
  {
   "cell_type": "code",
   "execution_count": 7,
   "id": "12e772c7",
   "metadata": {},
   "outputs": [
    {
     "data": {
      "text/html": [
       "<table style='border-collapse: collapse;'><tr><td style='padding:4px;'>0</td><td style='padding:4px; '>0.5</td></tr><tr><td style='padding:4px;'>1</td><td style='padding:4px; '>1.0</td></tr><tr><td style='padding:4px;'>2</td><td style='padding:4px; '>1.5</td></tr><tr><td style='padding:4px;'>3</td><td style='padding:4px; '>2.0</td></tr><tr><td>dtype: </td><td>float</td></tr></table>"
      ],
      "text/plain": [
       "0: 0.5\n",
       "1: 1.0\n",
       "2: 1.5\n",
       "3: 2.0\n",
       "Name: , dtype: float"
      ]
     },
     "execution_count": 7,
     "metadata": {},
     "output_type": "execute_result"
    }
   ],
   "source": [
    "s1/2"
   ]
  },
  {
   "cell_type": "markdown",
   "id": "a6afe1bc",
   "metadata": {},
   "source": [
    "##### modulus"
   ]
  },
  {
   "cell_type": "code",
   "execution_count": 8,
   "id": "106b7f0f",
   "metadata": {},
   "outputs": [
    {
     "data": {
      "text/html": [
       "<table style='border-collapse: collapse;'><tr><td style='padding:4px;'>0</td><td style='padding:4px; '>1</td></tr><tr><td style='padding:4px;'>1</td><td style='padding:4px; '>0</td></tr><tr><td style='padding:4px;'>2</td><td style='padding:4px; '>1</td></tr><tr><td style='padding:4px;'>3</td><td style='padding:4px; '>0</td></tr><tr><td>dtype: </td><td>int</td></tr></table>"
      ],
      "text/plain": [
       "0: 1\n",
       "1: 0\n",
       "2: 1\n",
       "3: 0\n",
       "Name: , dtype: int"
      ]
     },
     "execution_count": 8,
     "metadata": {},
     "output_type": "execute_result"
    }
   ],
   "source": [
    "s1%2"
   ]
  },
  {
   "cell_type": "markdown",
   "id": "7b30935d",
   "metadata": {},
   "source": [
    "##### floor division"
   ]
  },
  {
   "cell_type": "code",
   "execution_count": 9,
   "id": "d996b0c1",
   "metadata": {},
   "outputs": [
    {
     "data": {
      "text/html": [
       "<table style='border-collapse: collapse;'><tr><td style='padding:4px;'>0</td><td style='padding:4px; '>0</td></tr><tr><td style='padding:4px;'>1</td><td style='padding:4px; '>1</td></tr><tr><td style='padding:4px;'>2</td><td style='padding:4px; '>1</td></tr><tr><td style='padding:4px;'>3</td><td style='padding:4px; '>2</td></tr><tr><td>dtype: </td><td>int</td></tr></table>"
      ],
      "text/plain": [
       "0: 0\n",
       "1: 1\n",
       "2: 1\n",
       "3: 2\n",
       "Name: , dtype: int"
      ]
     },
     "execution_count": 9,
     "metadata": {},
     "output_type": "execute_result"
    }
   ],
   "source": [
    "s1//2"
   ]
  },
  {
   "cell_type": "markdown",
   "id": "99ffe59b",
   "metadata": {},
   "source": [
    "##### pow"
   ]
  },
  {
   "cell_type": "code",
   "execution_count": 10,
   "id": "cee2d181",
   "metadata": {},
   "outputs": [
    {
     "data": {
      "text/html": [
       "<table style='border-collapse: collapse;'><tr><td style='padding:4px;'>0</td><td style='padding:4px; '>1</td></tr><tr><td style='padding:4px;'>1</td><td style='padding:4px; '>4</td></tr><tr><td style='padding:4px;'>2</td><td style='padding:4px; '>9</td></tr><tr><td style='padding:4px;'>3</td><td style='padding:4px; '>16</td></tr><tr><td>dtype: </td><td>int</td></tr></table>"
      ],
      "text/plain": [
       "0: 1\n",
       "1: 4\n",
       "2: 9\n",
       "3: 16\n",
       "Name: , dtype: int"
      ]
     },
     "execution_count": 10,
     "metadata": {},
     "output_type": "execute_result"
    }
   ],
   "source": [
    "s1**2"
   ]
  },
  {
   "cell_type": "markdown",
   "id": "0edb94f1",
   "metadata": {},
   "source": [
    "#### Boolean operators"
   ]
  },
  {
   "cell_type": "code",
   "execution_count": 3,
   "id": "8913ab57",
   "metadata": {},
   "outputs": [
    {
     "name": "stdout",
     "output_type": "stream",
     "text": [
      "0: False\n",
      "1: False\n",
      "2: True\n",
      "3: True\n",
      "Name: (s1 > 2), dtype: int\n"
     ]
    }
   ],
   "source": [
    "s1 = Atrax.Series([1,2,3,4], name=\"s1\")\n",
    "mask = s1 > 2\n",
    "print(mask)"
   ]
  },
  {
   "cell_type": "code",
   "execution_count": 4,
   "id": "ef9a6b4b",
   "metadata": {},
   "outputs": [
    {
     "data": {
      "text/html": [
       "<table style='border-collapse: collapse;'><tr><td style='padding:4px;'>0</td><td style='padding:4px; '>0</td></tr><tr><td style='padding:4px;'>1</td><td style='padding:4px; '>0</td></tr><tr><td style='padding:4px;'>2</td><td style='padding:4px; '>100</td></tr><tr><td style='padding:4px;'>3</td><td style='padding:4px; '>100</td></tr><tr><td>Name: </td><td>(s1 > 2)</td><td>dtype: </td><td>int</td></tr></table>"
      ],
      "text/plain": [
       "0: 0\n",
       "1: 0\n",
       "2: 100\n",
       "3: 100\n",
       "Name: (s1 > 2), dtype: int"
      ]
     },
     "execution_count": 4,
     "metadata": {},
     "output_type": "execute_result"
    }
   ],
   "source": [
    "(s1 > 2).astype('int').apply(lambda x: x * 100)"
   ]
  },
  {
   "cell_type": "code",
   "execution_count": 2,
   "id": "ca5bec27",
   "metadata": {},
   "outputs": [],
   "source": [
    "qty = Atrax.Series([5, 15, 20, 8], name=\"qty\")\n",
    "price = Atrax.Series([4, 6, 3, 5], name=\"price\")"
   ]
  },
  {
   "cell_type": "code",
   "execution_count": 3,
   "id": "5e557a18",
   "metadata": {},
   "outputs": [
    {
     "name": "stdout",
     "output_type": "stream",
     "text": [
      "0: False\n",
      "1: False\n",
      "2: True\n",
      "3: False\n",
      "Name: ((qty > 10)) & (price < 5), dtype: int\n"
     ]
    }
   ],
   "source": [
    "# filter mask\n",
    "mask = (qty > 10) & (price < 5)\n",
    "print(mask)"
   ]
  },
  {
   "cell_type": "code",
   "execution_count": 4,
   "id": "3c4c5928",
   "metadata": {},
   "outputs": [
    {
     "name": "stdout",
     "output_type": "stream",
     "text": [
      "0: True\n",
      "1: True\n",
      "2: False\n",
      "3: True\n",
      "Name: (~((qty > 10)) & (price < 5)), dtype: int\n"
     ]
    }
   ],
   "source": [
    "not_mask = ~mask\n",
    "print(not_mask)"
   ]
  },
  {
   "cell_type": "markdown",
   "id": "9dd7e4e5",
   "metadata": {},
   "source": [
    "#### Locators"
   ]
  },
  {
   "cell_type": "code",
   "execution_count": 2,
   "id": "644ddf5a",
   "metadata": {},
   "outputs": [],
   "source": [
    "s = Atrax.Series([10, 20, 30], name=\"sales\", index=[\"a\", \"b\", \"b\"])"
   ]
  },
  {
   "cell_type": "code",
   "execution_count": 3,
   "id": "6e8224c1",
   "metadata": {},
   "outputs": [
    {
     "data": {
      "text/html": [
       "<table style='border-collapse: collapse;'><tr><td style='padding:4px;'>a</td><td style='padding:4px; '>10</td></tr><tr><td style='padding:4px;'>b</td><td style='padding:4px; '>20</td></tr><tr><td style='padding:4px;'>b</td><td style='padding:4px; '>30</td></tr><tr><td colspan='1'>Name: sales, dtype: int</td></tr></table>"
      ],
      "text/plain": [
       "a   10\n",
       "b   20\n",
       "b   30\n",
       "Name: sales, dtype: int"
      ]
     },
     "execution_count": 3,
     "metadata": {},
     "output_type": "execute_result"
    }
   ],
   "source": [
    "s"
   ]
  },
  {
   "cell_type": "code",
   "execution_count": 5,
   "id": "edeecd6f",
   "metadata": {},
   "outputs": [
    {
     "name": "stdout",
     "output_type": "stream",
     "text": [
      "20\n",
      "20\n"
     ]
    }
   ],
   "source": [
    "print(s.loc[\"b\"])\n",
    "print(s.iloc[1])"
   ]
  },
  {
   "cell_type": "code",
   "execution_count": 6,
   "id": "302c8337",
   "metadata": {},
   "outputs": [
    {
     "name": "stdout",
     "output_type": "stream",
     "text": [
      "a   10\n",
      "b   30\n",
      "Name: sales, dtype: int\n"
     ]
    }
   ],
   "source": [
    "print(s.loc[[\"a\", \"b\"]])"
   ]
  },
  {
   "cell_type": "code",
   "execution_count": 7,
   "id": "a6faa048",
   "metadata": {},
   "outputs": [
    {
     "name": "stdout",
     "output_type": "stream",
     "text": [
      "a   10\n",
      "b   20\n",
      "Name: sales, dtype: int\n"
     ]
    }
   ],
   "source": [
    "print(s.iloc[0:2])"
   ]
  },
  {
   "cell_type": "code",
   "execution_count": 2,
   "id": "69df8d2b",
   "metadata": {},
   "outputs": [
    {
     "data": {
      "text/html": [
       "<table style='border-collapse: collapse;'><tr><td style=''>0</td><td style=''>1</td></tr><tr><td style=''>1</td><td style=''>2</td></tr><tr><td style=''>2</td><td style=''>3</td></tr><tr><td style=''>3</td><td style=''>4</td></tr><tr><td colspan='2' style='font-style: bold; font-size:1.2rem;'>Name: , dtype: int</td></tr></table>"
      ],
      "text/plain": [
       "0   1\n",
       "1   2\n",
       "2   3\n",
       "3   4\n",
       "Name: , dtype: int"
      ]
     },
     "execution_count": 2,
     "metadata": {},
     "output_type": "execute_result"
    }
   ],
   "source": [
    "s1 = Atrax.Series([1,2,3,4])\n",
    "s1"
   ]
  },
  {
   "cell_type": "markdown",
   "id": "1fda4a1f",
   "metadata": {},
   "source": [
    "### DataSet"
   ]
  },
  {
   "cell_type": "code",
   "execution_count": 2,
   "id": "8fb24c35",
   "metadata": {},
   "outputs": [],
   "source": [
    "ds = Atrax.DataSet([\n",
    "    {'name': 'candy', 'qty': 2, 'price': 3.5, 'dept': 'grocery'},\n",
    "    {'name': 'food', 'qty': 5, 'price': 4.0, 'dept': 'grocery'},\n",
    "    {'name': 'drinks', 'qty': 1, 'price': 10.0, 'dept': 'soft drinks'},\n",
    "    {'name': 'chips', 'qty': 4, 'price': 2.5, 'dept': 'snacks'},\n",
    "    {'name': \"chocolate\", 'qty': 6, 'price': 5.75, 'dept': 'snacks'}\n",
    "])"
   ]
  },
  {
   "cell_type": "markdown",
   "id": "1b72bdc7",
   "metadata": {},
   "source": [
    "#### helpers"
   ]
  },
  {
   "cell_type": "code",
   "execution_count": 3,
   "id": "ade01d80",
   "metadata": {},
   "outputs": [
    {
     "name": "stdout",
     "output_type": "stream",
     "text": [
      "<class 'atrax.Atrax'>\n",
      "Data columns (total 2):\n",
      "  qty             Non-Null Count: 3     Dtype: int\n",
      "  price           Non-Null Count: 3     Dtype: float\n",
      "dtypes: 2\n",
      "Memory usage: 48 bytes (est.)\n"
     ]
    }
   ],
   "source": [
    "ds.info()"
   ]
  },
  {
   "cell_type": "code",
   "execution_count": 4,
   "id": "6fa29126",
   "metadata": {},
   "outputs": [
    {
     "data": {
      "text/html": [
       "<table style='border-collapse: collapse;'><thead><tr><th>stat</th><th>qty</th><th>price</th></tr></thead><tbody><tr><td>mean</td><td>2.67</td><td>5.83</td></tr><tr><td>std</td><td>2.08</td><td>3.62</td></tr><tr><td>min</td><td>1</td><td>3.5</td></tr><tr><td>Q1</td><td>1</td><td>3.5</td></tr><tr><td>median</td><td>2</td><td>4.0</td></tr><tr><td>Q3</td><td>5</td><td>10.0</td></tr><tr><td>max</td><td>5</td><td>10.0</td></tr><tr><td>count</td><td>3</td><td>3</td></tr></tbody></table>"
      ],
      "text/plain": [
       "stat, qty, price\n",
       "mean, 2.67, 5.83\n",
       "std, 2.08, 3.62\n",
       "min, 1, 3.5\n",
       "Q1, 1, 3.5\n",
       "median, 2, 4.0\n",
       "Q3, 5, 10.0\n",
       "max, 5, 10.0\n",
       "count, 3, 3"
      ]
     },
     "execution_count": 4,
     "metadata": {},
     "output_type": "execute_result"
    }
   ],
   "source": [
    "ds.describe()"
   ]
  },
  {
   "cell_type": "code",
   "execution_count": 6,
   "id": "04b20c82",
   "metadata": {},
   "outputs": [
    {
     "data": {
      "text/html": [
       "<table style='border-collapse: collapse;'><thead><tr><th>qty</th><th>price</th></tr></thead><tbody><tr><td>2</td><td>3.5</td></tr><tr><td>5</td><td>4.0</td></tr><tr><td>1</td><td>10.0</td></tr></tbody></table>"
      ],
      "text/plain": [
       "qty, price\n",
       "2, 3.5\n",
       "5, 4.0\n",
       "1, 10.0"
      ]
     },
     "execution_count": 6,
     "metadata": {},
     "output_type": "execute_result"
    }
   ],
   "source": [
    "ds.head()"
   ]
  },
  {
   "cell_type": "code",
   "execution_count": 8,
   "id": "52d108a1",
   "metadata": {},
   "outputs": [
    {
     "data": {
      "text/plain": [
       "(3, 2)"
      ]
     },
     "execution_count": 8,
     "metadata": {},
     "output_type": "execute_result"
    }
   ],
   "source": [
    "ds.shape()"
   ]
  },
  {
   "cell_type": "markdown",
   "id": "f8162f58",
   "metadata": {},
   "source": [
    "#### apply"
   ]
  },
  {
   "cell_type": "code",
   "execution_count": 3,
   "id": "d72e5048",
   "metadata": {},
   "outputs": [
    {
     "data": {
      "text/html": [
       "<table style='border-collapse: collapse;'><thead><tr><th>name</th><th>qty</th><th>price</th><th>dept</th></tr></thead><tbody><tr><td>candy</td><td>2</td><td>3.5</td><td>grocery</td></tr><tr><td>food</td><td>5</td><td>4.0</td><td>grocery</td></tr><tr><td>drinks</td><td>1</td><td>10.0</td><td>soft drinks</td></tr></tbody></table>"
      ],
      "text/plain": [
       "name, qty, price, dept\n",
       "candy, 2, 3.5, grocery\n",
       "food, 5, 4.0, grocery\n",
       "drinks, 1, 10.0, soft drinks"
      ]
     },
     "execution_count": 3,
     "metadata": {},
     "output_type": "execute_result"
    }
   ],
   "source": [
    "ds"
   ]
  },
  {
   "cell_type": "code",
   "execution_count": 4,
   "id": "f67c7635",
   "metadata": {},
   "outputs": [
    {
     "data": {
      "text/plain": [
       "[7.0, 20.0, 10.0]"
      ]
     },
     "execution_count": 4,
     "metadata": {},
     "output_type": "execute_result"
    }
   ],
   "source": [
    "total = ds.apply(lambda x: x['qty'] * x['price'])\n",
    "total\n"
   ]
  },
  {
   "cell_type": "code",
   "execution_count": 5,
   "id": "e7cd361c",
   "metadata": {},
   "outputs": [
    {
     "data": {
      "text/html": [
       "<table style='border-collapse: collapse;'><thead><tr><th>item</th><th>total</th></tr></thead><tbody><tr><td>candy</td><td>7.0</td></tr><tr><td>food</td><td>20.0</td></tr><tr><td>drinks</td><td>10.0</td></tr></tbody></table>"
      ],
      "text/plain": [
       "item, total\n",
       "candy, 7.0\n",
       "food, 20.0\n",
       "drinks, 10.0"
      ]
     },
     "execution_count": 5,
     "metadata": {},
     "output_type": "execute_result"
    }
   ],
   "source": [
    "# create a new dataset\n",
    "new_ds = ds.apply(lambda row: {\n",
    "    'item': row['name'],\n",
    "    'total': row['qty'] * row['price']\n",
    "})\n",
    "new_ds"
   ]
  },
  {
   "cell_type": "markdown",
   "id": "df947170",
   "metadata": {},
   "source": [
    "#### groupby"
   ]
  },
  {
   "cell_type": "code",
   "execution_count": 10,
   "id": "aa3ba196",
   "metadata": {},
   "outputs": [
    {
     "data": {
      "text/html": [
       "<table style='border-collapse: collapse;'><thead><tr><th>qty</th><th>price</th><th>dept</th></tr></thead><tbody><tr><td>7</td><td>7.5</td><td>grocery</td></tr><tr><td>1</td><td>10.0</td><td>soft drinks</td></tr></tbody></table>"
      ],
      "text/plain": [
       "qty, price, dept\n",
       "7, 7.5, grocery\n",
       "1, 10.0, soft drinks"
      ]
     },
     "execution_count": 10,
     "metadata": {},
     "output_type": "execute_result"
    }
   ],
   "source": [
    "t = ds.groupby('dept').sum()\n",
    "t"
   ]
  },
  {
   "cell_type": "code",
   "execution_count": 4,
   "id": "2b4abb4c",
   "metadata": {},
   "outputs": [
    {
     "data": {
      "text/html": [
       "<table style='border-collapse: collapse;'><thead><tr><th>qty</th><th>price</th><th>dept</th></tr></thead><tbody><tr><td>3.5</td><td>3.75</td><td>grocery</td></tr><tr><td>1.0</td><td>10.0</td><td>soft drinks</td></tr></tbody></table>"
      ],
      "text/plain": [
       "qty, price, dept\n",
       "3.5, 3.75, grocery\n",
       "1.0, 10.0, soft drinks"
      ]
     },
     "execution_count": 4,
     "metadata": {},
     "output_type": "execute_result"
    }
   ],
   "source": [
    "m = ds.groupby('dept').mean()\n",
    "m"
   ]
  },
  {
   "cell_type": "code",
   "execution_count": 5,
   "id": "6b74a940",
   "metadata": {},
   "outputs": [
    {
     "data": {
      "text/html": [
       "<table style='border-collapse: collapse;'><thead><tr><th>qty</th><th>price</th><th>dept</th></tr></thead><tbody><tr><td>3.5</td><td>3.75</td><td>grocery</td></tr><tr><td>1.0</td><td>10.0</td><td>soft drinks</td></tr></tbody></table>"
      ],
      "text/plain": [
       "qty, price, dept\n",
       "3.5, 3.75, grocery\n",
       "1.0, 10.0, soft drinks"
      ]
     },
     "execution_count": 5,
     "metadata": {},
     "output_type": "execute_result"
    }
   ],
   "source": [
    "n = ds.groupby(['dept']).mean()\n",
    "n"
   ]
  },
  {
   "cell_type": "code",
   "execution_count": 6,
   "id": "4a026617",
   "metadata": {},
   "outputs": [
    {
     "data": {
      "text/html": [
       "<table style='border-collapse: collapse;'><thead><tr><th>qty</th><th>price</th><th>dept</th></tr></thead><tbody><tr><td>3.5</td><td>3.75</td><td>grocery</td></tr><tr><td>1.0</td><td>10.0</td><td>soft drinks</td></tr></tbody></table>"
      ],
      "text/plain": [
       "qty, price, dept\n",
       "3.5, 3.75, grocery\n",
       "1.0, 10.0, soft drinks"
      ]
     },
     "execution_count": 6,
     "metadata": {},
     "output_type": "execute_result"
    }
   ],
   "source": [
    "n = ds.groupby(by=['dept']).mean()\n",
    "n"
   ]
  },
  {
   "cell_type": "code",
   "execution_count": 7,
   "id": "f3419300",
   "metadata": {},
   "outputs": [
    {
     "data": {
      "text/html": [
       "<table style='border-collapse: collapse;'><thead><tr><th>name</th><th>qty</th><th>price</th><th>dept</th></tr></thead><tbody><tr><td>candy</td><td>2</td><td>3.5</td><td>grocery</td></tr><tr><td>food</td><td>5</td><td>4.0</td><td>grocery</td></tr><tr><td>drinks</td><td>1</td><td>10.0</td><td>soft drinks</td></tr></tbody></table>"
      ],
      "text/plain": [
       "name, qty, price, dept\n",
       "candy, 2, 3.5, grocery\n",
       "food, 5, 4.0, grocery\n",
       "drinks, 1, 10.0, soft drinks"
      ]
     },
     "execution_count": 7,
     "metadata": {},
     "output_type": "execute_result"
    }
   ],
   "source": [
    "ds"
   ]
  },
  {
   "cell_type": "code",
   "execution_count": 8,
   "id": "41612fe0",
   "metadata": {},
   "outputs": [
    {
     "data": {
      "text/html": [
       "<table style='border-collapse: collapse;'><thead><tr><th>qty_count</th><th>price_sum</th><th>dept</th></tr></thead><tbody><tr><td>2</td><td>7.5</td><td>grocery</td></tr><tr><td>1</td><td>10.0</td><td>soft drinks</td></tr></tbody></table>"
      ],
      "text/plain": [
       "qty_count, price_sum, dept\n",
       "2, 7.5, grocery\n",
       "1, 10.0, soft drinks"
      ]
     },
     "execution_count": 8,
     "metadata": {},
     "output_type": "execute_result"
    }
   ],
   "source": [
    "g = ds.groupby(by=['dept']).agg({\n",
    "    'qty': 'count',\n",
    "    'price': 'sum'\n",
    "})\n",
    "g"
   ]
  },
  {
   "cell_type": "code",
   "execution_count": 9,
   "id": "3445a069",
   "metadata": {},
   "outputs": [
    {
     "data": {
      "text/html": [
       "<table style='border-collapse: collapse;'><thead><tr><th>qty_sum</th><th>qty_mean</th><th>qty_count</th><th>price_sum</th><th>price_max</th><th>price_min</th><th>dept</th></tr></thead><tbody><tr><td>7</td><td>3.5</td><td>2</td><td>7.5</td><td>4.0</td><td>3.5</td><td>grocery</td></tr><tr><td>1</td><td>1.0</td><td>1</td><td>10.0</td><td>10.0</td><td>10.0</td><td>soft drinks</td></tr></tbody></table>"
      ],
      "text/plain": [
       "qty_sum, qty_mean, qty_count, price_sum, price_max, price_min, dept\n",
       "7, 3.5, 2, 7.5, 4.0, 3.5, grocery\n",
       "1, 1.0, 1, 10.0, 10.0, 10.0, soft drinks"
      ]
     },
     "execution_count": 9,
     "metadata": {},
     "output_type": "execute_result"
    }
   ],
   "source": [
    "g = ds.groupby(by=['dept']).agg({\n",
    "    'qty': ['sum', 'mean', 'count'],\n",
    "    'price': ['sum', 'max', 'min']\n",
    "})\n",
    "g"
   ]
  },
  {
   "cell_type": "markdown",
   "id": "a3a14af7",
   "metadata": {},
   "source": [
    "#### sort"
   ]
  },
  {
   "cell_type": "code",
   "execution_count": 10,
   "id": "adee3e29",
   "metadata": {},
   "outputs": [
    {
     "data": {
      "text/html": [
       "<table style='border-collapse: collapse;'><thead><tr><th>name</th><th>qty</th><th>price</th><th>dept</th></tr></thead><tbody><tr><td>drinks</td><td>1</td><td>10.0</td><td>soft drinks</td></tr><tr><td>candy</td><td>2</td><td>3.5</td><td>grocery</td></tr><tr><td>chips</td><td>4</td><td>2.5</td><td>snacks</td></tr><tr><td>food</td><td>5</td><td>4.0</td><td>grocery</td></tr><tr><td>chocolate</td><td>6</td><td>5.75</td><td>snacks</td></tr></tbody></table>"
      ],
      "text/plain": [
       "name, qty, price, dept\n",
       "drinks, 1, 10.0, soft drinks\n",
       "candy, 2, 3.5, grocery\n",
       "chips, 4, 2.5, snacks\n",
       "food, 5, 4.0, grocery\n",
       "chocolate, 6, 5.75, snacks"
      ]
     },
     "execution_count": 10,
     "metadata": {},
     "output_type": "execute_result"
    }
   ],
   "source": [
    "ds.sort(by='qty', ascending=True)"
   ]
  },
  {
   "cell_type": "markdown",
   "id": "d20c194b",
   "metadata": {},
   "source": [
    "#### basics"
   ]
  },
  {
   "cell_type": "code",
   "execution_count": 4,
   "id": "8897184b",
   "metadata": {},
   "outputs": [],
   "source": [
    "ds['total'] = ds['qty'] * ds['price']"
   ]
  },
  {
   "cell_type": "code",
   "execution_count": 5,
   "id": "6b1e9519",
   "metadata": {},
   "outputs": [
    {
     "data": {
      "text/html": [
       "<table style='border-collapse: collapse;'><tr><td style=''>0</td><td style=''>False</td></tr><tr><td style=''>1</td><td style=''>True</td></tr><tr><td style=''>2</td><td style=''>False</td></tr><tr><td colspan='2' style='font-style: bold; font-size:1.1rem;'>Name: (qty > 2), dtype: int</td></tr></table>"
      ],
      "text/plain": [
       "0   False\n",
       "1   True\n",
       "2   False\n",
       "Name: (qty > 2), dtype: int"
      ]
     },
     "execution_count": 5,
     "metadata": {},
     "output_type": "execute_result"
    }
   ],
   "source": [
    "ds['qty'] > 2"
   ]
  },
  {
   "cell_type": "code",
   "execution_count": 6,
   "id": "d8a513f6",
   "metadata": {},
   "outputs": [
    {
     "data": {
      "text/html": [
       "<table style='border-collapse: collapse;'><thead><tr><th>qty</th><th>price</th><th>total</th></tr></thead><tbody><tr><td>5</td><td>4.0</td><td>20.0</td></tr></tbody></table>"
      ],
      "text/plain": [
       "qty, price, total\n",
       "5, 4.0, 20.0"
      ]
     },
     "execution_count": 6,
     "metadata": {},
     "output_type": "execute_result"
    }
   ],
   "source": [
    "ds[ds['qty'] > 2]"
   ]
  },
  {
   "cell_type": "code",
   "execution_count": null,
   "id": "f2a93369",
   "metadata": {},
   "outputs": [
    {
     "data": {
      "text/html": [
       "<table style='border-collapse: collapse;'><thead><tr><th>name</th><th>qty</th><th>price</th></tr></thead><tbody><tr><td>food</td><td>5</td><td>4.0</td></tr><tr><td>chips</td><td>4</td><td>2.5</td></tr><tr><td>chocolate</td><td>6</td><td>5.75</td></tr></tbody></table>"
      ],
      "text/plain": [
       "name, qty, price\n",
       "food, 5, 4.0\n",
       "chips, 4, 2.5\n",
       "chocolate, 6, 5.75"
      ]
     },
     "execution_count": 4,
     "metadata": {},
     "output_type": "execute_result"
    }
   ],
   "source": [
    "# string based lookup\n",
    "ds.loc[ds['qty'] > 2, ['name', 'qty', 'price']]"
   ]
  },
  {
   "cell_type": "code",
   "execution_count": 5,
   "id": "0eecd1e7",
   "metadata": {},
   "outputs": [
    {
     "data": {
      "text/html": [
       "<table style='border-collapse: collapse;'><thead><tr><th>name</th><th>price</th></tr></thead><tbody><tr><td>candy</td><td>3.5</td></tr><tr><td>food</td><td>4.0</td></tr></tbody></table>"
      ],
      "text/plain": [
       "name, price\n",
       "candy, 3.5\n",
       "food, 4.0"
      ]
     },
     "execution_count": 5,
     "metadata": {},
     "output_type": "execute_result"
    }
   ],
   "source": [
    "ds.iloc[0:2, [0,2]] # first 2 rows, 1rs and third columns"
   ]
  },
  {
   "cell_type": "markdown",
   "id": "9cdd2020",
   "metadata": {},
   "source": [
    "#### filter"
   ]
  },
  {
   "cell_type": "code",
   "execution_count": null,
   "id": "31a103a9",
   "metadata": {},
   "outputs": [
    {
     "data": {
      "text/html": [
       "<table style='border-collapse: collapse;'><thead><tr><th>qty</th><th>price</th></tr></thead><tbody><tr><td>2</td><td>3.5</td></tr><tr><td>5</td><td>4.0</td></tr><tr><td>1</td><td>10.0</td></tr></tbody></table>"
      ],
      "text/plain": [
       "qty, price\n",
       "2, 3.5\n",
       "5, 4.0\n",
       "1, 10.0"
      ]
     },
     "execution_count": 3,
     "metadata": {},
     "output_type": "execute_result"
    }
   ],
   "source": [
    "# keep only these columns\n",
    "r = ds.filter(items=['qty', 'price'])\n",
    "r"
   ]
  },
  {
   "cell_type": "code",
   "execution_count": null,
   "id": "1312b2a4",
   "metadata": {},
   "outputs": [
    {
     "data": {
      "text/html": [
       "<table style='border-collapse: collapse;'><thead><tr><th>price</th></tr></thead><tbody><tr><td>3.5</td></tr><tr><td>4.0</td></tr><tr><td>10.0</td></tr></tbody></table>"
      ],
      "text/plain": [
       "price\n",
       "3.5\n",
       "4.0\n",
       "10.0"
      ]
     },
     "execution_count": 5,
     "metadata": {},
     "output_type": "execute_result"
    }
   ],
   "source": [
    "# keep columns with expression in the column name\n",
    "r = ds.filter(like='pri')\n",
    "r"
   ]
  },
  {
   "cell_type": "markdown",
   "id": "41385e77",
   "metadata": {},
   "source": [
    "#### isin"
   ]
  },
  {
   "cell_type": "code",
   "execution_count": 4,
   "id": "5feeaf99",
   "metadata": {},
   "outputs": [
    {
     "data": {
      "text/html": [
       "<table style='border-collapse: collapse;'><thead><tr><th>name</th><th>qty</th><th>price</th><th>dept</th></tr></thead><tbody><tr><td>candy</td><td>2</td><td>3.5</td><td>grocery</td></tr><tr><td>food</td><td>5</td><td>4.0</td><td>grocery</td></tr><tr><td>chips</td><td>4</td><td>2.5</td><td>snacks</td></tr><tr><td>chocolate</td><td>6</td><td>5.75</td><td>snacks</td></tr></tbody></table>"
      ],
      "text/plain": [
       "name, qty, price, dept\n",
       "candy, 2, 3.5, grocery\n",
       "food, 5, 4.0, grocery\n",
       "chips, 4, 2.5, snacks\n",
       "chocolate, 6, 5.75, snacks"
      ]
     },
     "execution_count": 4,
     "metadata": {},
     "output_type": "execute_result"
    }
   ],
   "source": [
    "ds.loc[ds['dept'].isin(['grocery', 'snacks']), ['name', 'qty', 'price', 'dept']]"
   ]
  },
  {
   "cell_type": "markdown",
   "id": "1539c999",
   "metadata": {},
   "source": [
    "#### between"
   ]
  },
  {
   "cell_type": "code",
   "execution_count": 5,
   "id": "e8563617",
   "metadata": {},
   "outputs": [
    {
     "data": {
      "text/html": [
       "<table style='border-collapse: collapse;'><thead><tr><th>name</th><th>qty</th><th>price</th><th>dept</th></tr></thead><tbody><tr><td>candy</td><td>2</td><td>3.5</td><td>grocery</td></tr><tr><td>food</td><td>5</td><td>4.0</td><td>grocery</td></tr><tr><td>chips</td><td>4</td><td>2.5</td><td>snacks</td></tr></tbody></table>"
      ],
      "text/plain": [
       "name, qty, price, dept\n",
       "candy, 2, 3.5, grocery\n",
       "food, 5, 4.0, grocery\n",
       "chips, 4, 2.5, snacks"
      ]
     },
     "execution_count": 5,
     "metadata": {},
     "output_type": "execute_result"
    }
   ],
   "source": [
    "ds.loc[ds['price'].between(2,5), ['name', 'qty', 'price', 'dept']]"
   ]
  },
  {
   "cell_type": "markdown",
   "id": "b8e8c0b5",
   "metadata": {},
   "source": [
    "#### unique"
   ]
  },
  {
   "cell_type": "code",
   "execution_count": 6,
   "id": "977c1fbf",
   "metadata": {},
   "outputs": [
    {
     "data": {
      "text/html": [
       "<table style='border-collapse: collapse;'><tr><td style=''>0</td><td style=''>snacks</td></tr><tr><td style=''>1</td><td style=''>grocery</td></tr><tr><td style=''>2</td><td style=''>soft drinks</td></tr><tr><td colspan='2' style='font-style: bold; font-size:1.1rem;'>Name: Unique(dept), dtype: object</td></tr></table>"
      ],
      "text/plain": [
       "0   snacks\n",
       "1   grocery\n",
       "2   soft drinks\n",
       "Name: Unique(dept), dtype: object"
      ]
     },
     "execution_count": 6,
     "metadata": {},
     "output_type": "execute_result"
    }
   ],
   "source": [
    "ds['dept'].unique()"
   ]
  },
  {
   "cell_type": "code",
   "execution_count": 8,
   "id": "1fe9ae7e",
   "metadata": {},
   "outputs": [
    {
     "data": {
      "text/plain": [
       "3"
      ]
     },
     "execution_count": 8,
     "metadata": {},
     "output_type": "execute_result"
    }
   ],
   "source": [
    "ds['dept'].nunique()"
   ]
  },
  {
   "cell_type": "markdown",
   "id": "759d03d8",
   "metadata": {},
   "source": [
    "#### rename"
   ]
  },
  {
   "cell_type": "code",
   "execution_count": 4,
   "id": "4bc0f6c8",
   "metadata": {},
   "outputs": [
    {
     "data": {
      "text/html": [
       "<table style='border-collapse: collapse;'><thead><tr><th>name</th><th>quantity</th><th>prices</th><th>dept</th></tr></thead><tbody><tr><td>candy</td><td>2</td><td>3.5</td><td>grocery</td></tr><tr><td>food</td><td>5</td><td>4.0</td><td>grocery</td></tr><tr><td>drinks</td><td>1</td><td>10.0</td><td>soft drinks</td></tr><tr><td>chips</td><td>4</td><td>2.5</td><td>snacks</td></tr><tr><td>chocolate</td><td>6</td><td>5.75</td><td>snacks</td></tr></tbody></table>"
      ],
      "text/plain": [
       "name, quantity, prices, dept\n",
       "candy, 2, 3.5, grocery\n",
       "food, 5, 4.0, grocery\n",
       "drinks, 1, 10.0, soft drinks\n",
       "chips, 4, 2.5, snacks\n",
       "chocolate, 6, 5.75, snacks"
      ]
     },
     "execution_count": 4,
     "metadata": {},
     "output_type": "execute_result"
    }
   ],
   "source": [
    "ds1 = ds.rename(columns={'qty': 'quantity', 'price': 'prices'})\n",
    "ds1"
   ]
  },
  {
   "cell_type": "code",
   "execution_count": 5,
   "id": "177f2dbb",
   "metadata": {},
   "outputs": [
    {
     "data": {
      "text/html": [
       "<table style='border-collapse: collapse;'><thead><tr><th>name</th><th>quantity</th><th>prices</th><th>dept</th></tr></thead><tbody><tr><td>candy</td><td>2</td><td>3.5</td><td>grocery</td></tr><tr><td>food</td><td>5</td><td>4.0</td><td>grocery</td></tr><tr><td>drinks</td><td>1</td><td>10.0</td><td>soft drinks</td></tr><tr><td>chips</td><td>4</td><td>2.5</td><td>snacks</td></tr><tr><td>chocolate</td><td>6</td><td>5.75</td><td>snacks</td></tr></tbody></table>"
      ],
      "text/plain": [
       "name, quantity, prices, dept\n",
       "candy, 2, 3.5, grocery\n",
       "food, 5, 4.0, grocery\n",
       "drinks, 1, 10.0, soft drinks\n",
       "chips, 4, 2.5, snacks\n",
       "chocolate, 6, 5.75, snacks"
      ]
     },
     "execution_count": 5,
     "metadata": {},
     "output_type": "execute_result"
    }
   ],
   "source": [
    "ds1"
   ]
  },
  {
   "cell_type": "code",
   "execution_count": 6,
   "id": "78049870",
   "metadata": {},
   "outputs": [
    {
     "data": {
      "text/html": [
       "<table style='border-collapse: collapse;'><thead><tr><th>name</th><th>quantity</th><th>price</th><th>dept</th></tr></thead><tbody><tr><td>candy</td><td>2</td><td>3.5</td><td>grocery</td></tr><tr><td>food</td><td>5</td><td>4.0</td><td>grocery</td></tr><tr><td>drinks</td><td>1</td><td>10.0</td><td>soft drinks</td></tr><tr><td>chips</td><td>4</td><td>2.5</td><td>snacks</td></tr><tr><td>chocolate</td><td>6</td><td>5.75</td><td>snacks</td></tr></tbody></table>"
      ],
      "text/plain": [
       "name, quantity, price, dept\n",
       "candy, 2, 3.5, grocery\n",
       "food, 5, 4.0, grocery\n",
       "drinks, 1, 10.0, soft drinks\n",
       "chips, 4, 2.5, snacks\n",
       "chocolate, 6, 5.75, snacks"
      ]
     },
     "execution_count": 6,
     "metadata": {},
     "output_type": "execute_result"
    }
   ],
   "source": [
    "ds1.rename(columns={'prices': 'price'}, inplace=True)\n",
    "ds1"
   ]
  },
  {
   "cell_type": "markdown",
   "id": "c12bc27a",
   "metadata": {},
   "source": [
    "#### drop"
   ]
  },
  {
   "cell_type": "code",
   "execution_count": 3,
   "id": "71d877b1",
   "metadata": {},
   "outputs": [
    {
     "data": {
      "text/html": [
       "<table style='border-collapse: collapse;'><thead><tr><th>name</th><th>dept</th></tr></thead><tbody><tr><td>candy</td><td>grocery</td></tr><tr><td>food</td><td>grocery</td></tr><tr><td>drinks</td><td>soft drinks</td></tr><tr><td>chips</td><td>snacks</td></tr><tr><td>chocolate</td><td>snacks</td></tr></tbody></table>"
      ],
      "text/plain": [
       "name, dept\n",
       "candy, grocery\n",
       "food, grocery\n",
       "drinks, soft drinks\n",
       "chips, snacks\n",
       "chocolate, snacks"
      ]
     },
     "execution_count": 3,
     "metadata": {},
     "output_type": "execute_result"
    }
   ],
   "source": [
    "ds2 = ds.drop(columns=['price', 'qty'])\n",
    "ds2"
   ]
  },
  {
   "cell_type": "code",
   "execution_count": 4,
   "id": "20ff406d",
   "metadata": {},
   "outputs": [
    {
     "data": {
      "text/html": [
       "<table style='border-collapse: collapse;'><thead><tr><th>name</th></tr></thead><tbody><tr><td>candy</td></tr><tr><td>food</td></tr><tr><td>drinks</td></tr><tr><td>chips</td></tr><tr><td>chocolate</td></tr></tbody></table>"
      ],
      "text/plain": [
       "name\n",
       "candy\n",
       "food\n",
       "drinks\n",
       "chips\n",
       "chocolate"
      ]
     },
     "execution_count": 4,
     "metadata": {},
     "output_type": "execute_result"
    }
   ],
   "source": [
    "ds2.drop(columns=['dept'], inplace=True)\n",
    "ds2"
   ]
  },
  {
   "cell_type": "code",
   "execution_count": 5,
   "id": "0dd4fec7",
   "metadata": {},
   "outputs": [
    {
     "data": {
      "text/html": [
       "<table style='border-collapse: collapse;'><thead><tr><th>name</th><th>qty</th><th>price</th><th>dept</th></tr></thead><tbody><tr><td>candy</td><td>2</td><td>3.5</td><td>grocery</td></tr><tr><td>food</td><td>5</td><td>4.0</td><td>grocery</td></tr><tr><td>drinks</td><td>1</td><td>10.0</td><td>soft drinks</td></tr><tr><td>chips</td><td>4</td><td>2.5</td><td>snacks</td></tr><tr><td>chocolate</td><td>6</td><td>5.75</td><td>snacks</td></tr></tbody></table>"
      ],
      "text/plain": [
       "name, qty, price, dept\n",
       "candy, 2, 3.5, grocery\n",
       "food, 5, 4.0, grocery\n",
       "drinks, 1, 10.0, soft drinks\n",
       "chips, 4, 2.5, snacks\n",
       "chocolate, 6, 5.75, snacks"
      ]
     },
     "execution_count": 5,
     "metadata": {},
     "output_type": "execute_result"
    }
   ],
   "source": [
    "ds2 = ds.copy()\n",
    "ds2"
   ]
  },
  {
   "cell_type": "code",
   "execution_count": 6,
   "id": "fde8e4fa",
   "metadata": {},
   "outputs": [
    {
     "data": {
      "text/html": [
       "<table style='border-collapse: collapse;'><thead><tr><th>name</th><th>qty</th><th>price</th><th>dept</th></tr></thead><tbody><tr><td>food</td><td>5</td><td>4.0</td><td>grocery</td></tr><tr><td>chips</td><td>4</td><td>2.5</td><td>snacks</td></tr><tr><td>chocolate</td><td>6</td><td>5.75</td><td>snacks</td></tr></tbody></table>"
      ],
      "text/plain": [
       "name, qty, price, dept\n",
       "food, 5, 4.0, grocery\n",
       "chips, 4, 2.5, snacks\n",
       "chocolate, 6, 5.75, snacks"
      ]
     },
     "execution_count": 6,
     "metadata": {},
     "output_type": "execute_result"
    }
   ],
   "source": [
    "ds3 = ds2.drop(index=[0,2])\n",
    "ds3"
   ]
  },
  {
   "cell_type": "code",
   "execution_count": null,
   "id": "60a2744a",
   "metadata": {},
   "outputs": [
    {
     "data": {
      "text/html": [
       "<table style='border-collapse: collapse;'><thead><tr><th>name</th><th>qty</th><th>dept</th></tr></thead><tbody><tr><td>food</td><td>5</td><td>grocery</td></tr><tr><td>chocolate</td><td>6</td><td>snacks</td></tr></tbody></table>"
      ],
      "text/plain": [
       "name, qty, dept\n",
       "food, 5, grocery\n",
       "chocolate, 6, snacks"
      ]
     },
     "execution_count": 7,
     "metadata": {},
     "output_type": "execute_result"
    }
   ],
   "source": [
    "ds3.drop(columns=['price'], index=[1], inplace=True) # remove the price column and drop the second row\n",
    "ds3"
   ]
  },
  {
   "cell_type": "code",
   "execution_count": null,
   "id": "fd8434b7",
   "metadata": {},
   "outputs": [],
   "source": []
  }
 ],
 "metadata": {
  "kernelspec": {
   "display_name": "env",
   "language": "python",
   "name": "python3"
  },
  "language_info": {
   "codemirror_mode": {
    "name": "ipython",
    "version": 3
   },
   "file_extension": ".py",
   "mimetype": "text/x-python",
   "name": "python",
   "nbconvert_exporter": "python",
   "pygments_lexer": "ipython3",
   "version": "3.12.10"
  }
 },
 "nbformat": 4,
 "nbformat_minor": 5
}
