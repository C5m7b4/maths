{
 "cells": [
  {
   "cell_type": "markdown",
   "id": "7db0b08e",
   "metadata": {},
   "source": [
    "# Atrax"
   ]
  },
  {
   "cell_type": "markdown",
   "id": "2a034a0b",
   "metadata": {},
   "source": [
    "### Import Libraries"
   ]
  },
  {
   "cell_type": "code",
   "execution_count": 1,
   "id": "b8db09e6",
   "metadata": {},
   "outputs": [],
   "source": [
    "from atrax import Atrax\n",
    "import pandas as pd\n",
    "import random"
   ]
  },
  {
   "cell_type": "markdown",
   "id": "be1f2881",
   "metadata": {},
   "source": [
    "### Create fake data"
   ]
  },
  {
   "cell_type": "code",
   "execution_count": 4,
   "id": "45fd0398",
   "metadata": {},
   "outputs": [],
   "source": [
    "data = [\n",
    "    {'name': 'Alice', 'age': 30, 'salary': 100000},\n",
    "    {'name': 'Bob', 'age': 25, 'salary': 80000},\n",
    "    {'name': 'Charlie', 'age': 35, 'salary': 120000},\n",
    "    {'name': 'David', 'age': 28, 'salary': 85000},\n",
    "    {'name': 'Eva', 'age': 40, 'salary': 130000},\n",
    "    {'name': 'Frank', 'age': 38, 'salary': 125000}\n",
    "]"
   ]
  },
  {
   "cell_type": "markdown",
   "id": "41e3d64a",
   "metadata": {},
   "source": [
    "### Series tests"
   ]
  },
  {
   "cell_type": "markdown",
   "id": "d2c096f2",
   "metadata": {},
   "source": [
    "#### Printing"
   ]
  },
  {
   "cell_type": "code",
   "execution_count": 2,
   "id": "35abd43e",
   "metadata": {},
   "outputs": [],
   "source": [
    "s = Atrax.Series([1,2,3,4,5,6,7,8,9,10,11], name=\"numbers\")"
   ]
  },
  {
   "cell_type": "code",
   "execution_count": 4,
   "id": "b1159c5d",
   "metadata": {},
   "outputs": [
    {
     "data": {
      "text/html": [
       "<table style='border-collapse: collapse;'><tr><td style=''>0</td><td style=''>1</td></tr><tr><td style=''>1</td><td style=''>2</td></tr><tr><td style=''>2</td><td style=''>3</td></tr><tr><td style=''>3</td><td style=''>4</td></tr><tr><td style=''>4</td><td style=''>5</td></tr><tr><td style=''>5</td><td style=''>6</td></tr><tr><td style=''>6</td><td style=''>7</td></tr><tr><td colspan='2' style='font-style: bold; font-size:1.1rem;'>Name: numbers, dtype: int</td></tr></table>"
      ],
      "text/plain": [
       "0   1\n",
       "1   2\n",
       "2   3\n",
       "3   4\n",
       "4   5\n",
       "5   6\n",
       "6   7\n",
       "Name: numbers, dtype: int"
      ]
     },
     "execution_count": 4,
     "metadata": {},
     "output_type": "execute_result"
    }
   ],
   "source": [
    "s.head(7)"
   ]
  },
  {
   "cell_type": "code",
   "execution_count": 5,
   "id": "f50161db",
   "metadata": {},
   "outputs": [
    {
     "data": {
      "text/html": [
       "<table style='border-collapse: collapse;'><tr><td style=''>8</td><td style=''>9</td></tr><tr><td style=''>9</td><td style=''>10</td></tr><tr><td style=''>10</td><td style=''>11</td></tr><tr><td colspan='2' style='font-style: bold; font-size:1.1rem;'>Name: numbers, dtype: int</td></tr></table>"
      ],
      "text/plain": [
       "8   9\n",
       "9   10\n",
       "10   11\n",
       "Name: numbers, dtype: int"
      ]
     },
     "execution_count": 5,
     "metadata": {},
     "output_type": "execute_result"
    }
   ],
   "source": [
    "s.tail(3)"
   ]
  },
  {
   "cell_type": "code",
   "execution_count": 3,
   "id": "a9419723",
   "metadata": {},
   "outputs": [
    {
     "data": {
      "text/html": [
       "<table style='border-collapse: collapse;'><tr><td style='padding:4px;'>0</td><td style='padding:4px; '>1</td></tr><tr><td style='padding:4px;'>1</td><td style='padding:4px; '>2</td></tr><tr><td style='padding:4px;'>2</td><td style='padding:4px; '>3</td></tr><tr><td style='padding:4px;'>3</td><td style='padding:4px; '>4</td></tr><tr><td style='padding:4px;'>4</td><td style='padding:4px; '>5</td></tr><tr><td style='padding:4px;'>5</td><td style='padding:4px; '>6</td></tr><tr><td style='padding:4px;'>6</td><td style='padding:4px; '>7</td></tr><tr><td style='padding:4px;'>7</td><td style='padding:4px; '>8</td></tr><tr><td style='padding:4px;'>8</td><td style='padding:4px; '>9</td></tr><tr><td style='padding:4px;'>9</td><td style='padding:4px; '>10</td></tr><tr><td>Name: </td><td>numbers</td><td>dtype: </td><td>int</td></tr><tr><td colspan='2'><i>...1 more</i></td></tr></table>"
      ],
      "text/plain": [
       "0: 1\n",
       "1: 2\n",
       "2: 3\n",
       "3: 4\n",
       "4: 5\n",
       "5: 6\n",
       "6: 7\n",
       "7: 8\n",
       "8: 9\n",
       "9: 10\n",
       "...(11 total)\n",
       "Name: numbers, dtype: int"
      ]
     },
     "execution_count": 3,
     "metadata": {},
     "output_type": "execute_result"
    }
   ],
   "source": [
    "s"
   ]
  },
  {
   "cell_type": "code",
   "execution_count": 4,
   "id": "2e51255d",
   "metadata": {},
   "outputs": [
    {
     "name": "stdout",
     "output_type": "stream",
     "text": [
      "0: 1\n",
      "1: 2\n",
      "2: 3\n",
      "3: 4\n",
      "4: 5\n",
      "5: 6\n",
      "6: 7\n",
      "7: 8\n",
      "8: 9\n",
      "9: 10\n",
      "...(11 total)\n",
      "Name: numbers, dtype: int\n"
     ]
    }
   ],
   "source": [
    "print(s)"
   ]
  },
  {
   "cell_type": "code",
   "execution_count": 5,
   "id": "5e52c88a",
   "metadata": {},
   "outputs": [
    {
     "data": {
      "text/plain": [
       "atrax.core.series.Series"
      ]
     },
     "execution_count": 5,
     "metadata": {},
     "output_type": "execute_result"
    }
   ],
   "source": [
    "type(s)"
   ]
  },
  {
   "cell_type": "code",
   "execution_count": 6,
   "id": "cfddf98a",
   "metadata": {},
   "outputs": [
    {
     "data": {
      "text/html": [
       "<table style='border-collapse: collapse;'><tr><td style='padding:4px;'>0</td><td style='padding:4px; '>1.5</td></tr><tr><td style='padding:4px;'>1</td><td style='padding:4px; '>2.5</td></tr><tr><td style='padding:4px;'>2</td><td style='padding:4px; '>3.25</td></tr><tr><td>dtype: </td><td>float</td></tr></table>"
      ],
      "text/plain": [
       "0: 1.5\n",
       "1: 2.5\n",
       "2: 3.25\n",
       "Name: , dtype: float"
      ]
     },
     "execution_count": 6,
     "metadata": {},
     "output_type": "execute_result"
    }
   ],
   "source": [
    "Atrax.Series([1.5, 2.5, 3.25])"
   ]
  },
  {
   "cell_type": "code",
   "execution_count": 7,
   "id": "fe6e6385",
   "metadata": {},
   "outputs": [
    {
     "data": {
      "text/html": [
       "<table style='border-collapse: collapse;'><tr><td style='padding:4px;'>0</td><td style='padding:4px; '>1</td></tr><tr><td style='padding:4px;'>1</td><td style='padding:4px; '>2.5</td></tr><tr><td style='padding:4px;'>2</td><td style='padding:4px; '>True</td></tr><tr><td style='padding:4px;'>3</td><td style='padding:4px; '>hello</td></tr><tr><td>Name: </td><td>mixed</td><td>dtype: </td><td>object</td></tr></table>"
      ],
      "text/plain": [
       "0: 1\n",
       "1: 2.5\n",
       "2: True\n",
       "3: hello\n",
       "Name: mixed, dtype: object"
      ]
     },
     "execution_count": 7,
     "metadata": {},
     "output_type": "execute_result"
    }
   ],
   "source": [
    "Atrax.Series([1, 2.5, True, 'hello'], name='mixed')"
   ]
  },
  {
   "cell_type": "markdown",
   "id": "ddd9cbf1",
   "metadata": {},
   "source": [
    "#### astype"
   ]
  },
  {
   "cell_type": "code",
   "execution_count": 2,
   "id": "078dfe42",
   "metadata": {},
   "outputs": [
    {
     "data": {
      "text/html": [
       "<table style='border-collapse: collapse;'><tr><td style='padding:4px;'>0</td><td style='padding:4px; '>1</td></tr><tr><td style='padding:4px;'>1</td><td style='padding:4px; '>2</td></tr><tr><td style='padding:4px;'>2</td><td style='padding:4px; '>3</td></tr><tr><td style='padding:4px;'>3</td><td style='padding:4px; '>4</td></tr><tr><td>dtype: </td><td>int</td></tr></table>"
      ],
      "text/plain": [
       "0: 1\n",
       "1: 2\n",
       "2: 3\n",
       "3: 4\n",
       "Name: , dtype: int"
      ]
     },
     "execution_count": 2,
     "metadata": {},
     "output_type": "execute_result"
    }
   ],
   "source": [
    "s = Atrax.Series([\"1\", \"2\", \"3\", \"4\"])\n",
    "s.astype('int')"
   ]
  },
  {
   "cell_type": "markdown",
   "id": "baf733c6",
   "metadata": {},
   "source": [
    "#### apply"
   ]
  },
  {
   "cell_type": "code",
   "execution_count": 2,
   "id": "0545697b",
   "metadata": {},
   "outputs": [
    {
     "data": {
      "text/html": [
       "<table style='border-collapse: collapse;'><tr><td style='padding:4px;'>0</td><td style='padding:4px; '>2</td></tr><tr><td style='padding:4px;'>1</td><td style='padding:4px; '>4</td></tr><tr><td style='padding:4px;'>2</td><td style='padding:4px; '>6</td></tr><tr><td style='padding:4px;'>3</td><td style='padding:4px; '>8</td></tr><tr><td>dtype: </td><td>int</td></tr></table>"
      ],
      "text/plain": [
       "0: 2\n",
       "1: 4\n",
       "2: 6\n",
       "3: 8\n",
       "Name: , dtype: int"
      ]
     },
     "execution_count": 2,
     "metadata": {},
     "output_type": "execute_result"
    }
   ],
   "source": [
    "s = Atrax.Series([1,2,3,4])\n",
    "s.apply(lambda x: x * 2)"
   ]
  },
  {
   "cell_type": "code",
   "execution_count": 3,
   "id": "ae352a31",
   "metadata": {},
   "outputs": [],
   "source": [
    "def square(x):\n",
    "    return x * x"
   ]
  },
  {
   "cell_type": "code",
   "execution_count": 4,
   "id": "cd0fed36",
   "metadata": {},
   "outputs": [
    {
     "data": {
      "text/html": [
       "<table style='border-collapse: collapse;'><tr><td style='padding:4px;'>0</td><td style='padding:4px; '>1</td></tr><tr><td style='padding:4px;'>1</td><td style='padding:4px; '>4</td></tr><tr><td style='padding:4px;'>2</td><td style='padding:4px; '>9</td></tr><tr><td style='padding:4px;'>3</td><td style='padding:4px; '>16</td></tr><tr><td>dtype: </td><td>int</td></tr></table>"
      ],
      "text/plain": [
       "0: 1\n",
       "1: 4\n",
       "2: 9\n",
       "3: 16\n",
       "Name: , dtype: int"
      ]
     },
     "execution_count": 4,
     "metadata": {},
     "output_type": "execute_result"
    }
   ],
   "source": [
    "s1 = Atrax.Series([1,2,3,4])\n",
    "s.apply(square)"
   ]
  },
  {
   "cell_type": "markdown",
   "id": "9894ae85",
   "metadata": {},
   "source": [
    "#### arithmetic\n"
   ]
  },
  {
   "cell_type": "code",
   "execution_count": 2,
   "id": "132fc4c2",
   "metadata": {},
   "outputs": [],
   "source": [
    "s1 = Atrax.Series([1,2,3,4])\n",
    "s2 = Atrax.Series([5,6,7,8])"
   ]
  },
  {
   "cell_type": "markdown",
   "id": "99a48559",
   "metadata": {},
   "source": [
    "##### addition"
   ]
  },
  {
   "cell_type": "code",
   "execution_count": 3,
   "id": "961213e7",
   "metadata": {},
   "outputs": [
    {
     "data": {
      "text/html": [
       "<table style='border-collapse: collapse;'><tr><td style='padding:4px;'>0</td><td style='padding:4px; '>11</td></tr><tr><td style='padding:4px;'>1</td><td style='padding:4px; '>12</td></tr><tr><td style='padding:4px;'>2</td><td style='padding:4px; '>13</td></tr><tr><td style='padding:4px;'>3</td><td style='padding:4px; '>14</td></tr><tr><td>dtype: </td><td>int</td></tr></table>"
      ],
      "text/plain": [
       "0: 11\n",
       "1: 12\n",
       "2: 13\n",
       "3: 14\n",
       "Name: , dtype: int"
      ]
     },
     "execution_count": 3,
     "metadata": {},
     "output_type": "execute_result"
    }
   ],
   "source": [
    "s1 + 10"
   ]
  },
  {
   "cell_type": "code",
   "execution_count": 4,
   "id": "3d738ba1",
   "metadata": {},
   "outputs": [
    {
     "data": {
      "text/html": [
       "<table style='border-collapse: collapse;'><tr><td style='padding:4px;'>0</td><td style='padding:4px; '>6</td></tr><tr><td style='padding:4px;'>1</td><td style='padding:4px; '>8</td></tr><tr><td style='padding:4px;'>2</td><td style='padding:4px; '>10</td></tr><tr><td style='padding:4px;'>3</td><td style='padding:4px; '>12</td></tr><tr><td>dtype: </td><td>int</td></tr></table>"
      ],
      "text/plain": [
       "0: 6\n",
       "1: 8\n",
       "2: 10\n",
       "3: 12\n",
       "Name: , dtype: int"
      ]
     },
     "execution_count": 4,
     "metadata": {},
     "output_type": "execute_result"
    }
   ],
   "source": [
    "s1 + s2"
   ]
  },
  {
   "cell_type": "markdown",
   "id": "8f71111d",
   "metadata": {},
   "source": [
    "##### subtraction"
   ]
  },
  {
   "cell_type": "code",
   "execution_count": 5,
   "id": "c0584362",
   "metadata": {},
   "outputs": [
    {
     "data": {
      "text/html": [
       "<table style='border-collapse: collapse;'><tr><td style='padding:4px;'>0</td><td style='padding:4px; '>-1</td></tr><tr><td style='padding:4px;'>1</td><td style='padding:4px; '>0</td></tr><tr><td style='padding:4px;'>2</td><td style='padding:4px; '>1</td></tr><tr><td style='padding:4px;'>3</td><td style='padding:4px; '>2</td></tr><tr><td>dtype: </td><td>int</td></tr></table>"
      ],
      "text/plain": [
       "0: -1\n",
       "1: 0\n",
       "2: 1\n",
       "3: 2\n",
       "Name: , dtype: int"
      ]
     },
     "execution_count": 5,
     "metadata": {},
     "output_type": "execute_result"
    }
   ],
   "source": [
    "s1 - 2"
   ]
  },
  {
   "cell_type": "markdown",
   "id": "9ab20d96",
   "metadata": {},
   "source": [
    "##### multiplication"
   ]
  },
  {
   "cell_type": "code",
   "execution_count": 6,
   "id": "bbd21d81",
   "metadata": {},
   "outputs": [
    {
     "data": {
      "text/html": [
       "<table style='border-collapse: collapse;'><tr><td style='padding:4px;'>0</td><td style='padding:4px; '>2</td></tr><tr><td style='padding:4px;'>1</td><td style='padding:4px; '>4</td></tr><tr><td style='padding:4px;'>2</td><td style='padding:4px; '>6</td></tr><tr><td style='padding:4px;'>3</td><td style='padding:4px; '>8</td></tr><tr><td>dtype: </td><td>int</td></tr></table>"
      ],
      "text/plain": [
       "0: 2\n",
       "1: 4\n",
       "2: 6\n",
       "3: 8\n",
       "Name: , dtype: int"
      ]
     },
     "execution_count": 6,
     "metadata": {},
     "output_type": "execute_result"
    }
   ],
   "source": [
    "s1 * 2"
   ]
  },
  {
   "cell_type": "markdown",
   "id": "4bc49baf",
   "metadata": {},
   "source": [
    "##### division"
   ]
  },
  {
   "cell_type": "code",
   "execution_count": 7,
   "id": "12e772c7",
   "metadata": {},
   "outputs": [
    {
     "data": {
      "text/html": [
       "<table style='border-collapse: collapse;'><tr><td style='padding:4px;'>0</td><td style='padding:4px; '>0.5</td></tr><tr><td style='padding:4px;'>1</td><td style='padding:4px; '>1.0</td></tr><tr><td style='padding:4px;'>2</td><td style='padding:4px; '>1.5</td></tr><tr><td style='padding:4px;'>3</td><td style='padding:4px; '>2.0</td></tr><tr><td>dtype: </td><td>float</td></tr></table>"
      ],
      "text/plain": [
       "0: 0.5\n",
       "1: 1.0\n",
       "2: 1.5\n",
       "3: 2.0\n",
       "Name: , dtype: float"
      ]
     },
     "execution_count": 7,
     "metadata": {},
     "output_type": "execute_result"
    }
   ],
   "source": [
    "s1/2"
   ]
  },
  {
   "cell_type": "markdown",
   "id": "a6afe1bc",
   "metadata": {},
   "source": [
    "##### modulus"
   ]
  },
  {
   "cell_type": "code",
   "execution_count": 8,
   "id": "106b7f0f",
   "metadata": {},
   "outputs": [
    {
     "data": {
      "text/html": [
       "<table style='border-collapse: collapse;'><tr><td style='padding:4px;'>0</td><td style='padding:4px; '>1</td></tr><tr><td style='padding:4px;'>1</td><td style='padding:4px; '>0</td></tr><tr><td style='padding:4px;'>2</td><td style='padding:4px; '>1</td></tr><tr><td style='padding:4px;'>3</td><td style='padding:4px; '>0</td></tr><tr><td>dtype: </td><td>int</td></tr></table>"
      ],
      "text/plain": [
       "0: 1\n",
       "1: 0\n",
       "2: 1\n",
       "3: 0\n",
       "Name: , dtype: int"
      ]
     },
     "execution_count": 8,
     "metadata": {},
     "output_type": "execute_result"
    }
   ],
   "source": [
    "s1%2"
   ]
  },
  {
   "cell_type": "markdown",
   "id": "7b30935d",
   "metadata": {},
   "source": [
    "##### floor division"
   ]
  },
  {
   "cell_type": "code",
   "execution_count": 9,
   "id": "d996b0c1",
   "metadata": {},
   "outputs": [
    {
     "data": {
      "text/html": [
       "<table style='border-collapse: collapse;'><tr><td style='padding:4px;'>0</td><td style='padding:4px; '>0</td></tr><tr><td style='padding:4px;'>1</td><td style='padding:4px; '>1</td></tr><tr><td style='padding:4px;'>2</td><td style='padding:4px; '>1</td></tr><tr><td style='padding:4px;'>3</td><td style='padding:4px; '>2</td></tr><tr><td>dtype: </td><td>int</td></tr></table>"
      ],
      "text/plain": [
       "0: 0\n",
       "1: 1\n",
       "2: 1\n",
       "3: 2\n",
       "Name: , dtype: int"
      ]
     },
     "execution_count": 9,
     "metadata": {},
     "output_type": "execute_result"
    }
   ],
   "source": [
    "s1//2"
   ]
  },
  {
   "cell_type": "markdown",
   "id": "99ffe59b",
   "metadata": {},
   "source": [
    "##### pow"
   ]
  },
  {
   "cell_type": "code",
   "execution_count": 10,
   "id": "cee2d181",
   "metadata": {},
   "outputs": [
    {
     "data": {
      "text/html": [
       "<table style='border-collapse: collapse;'><tr><td style='padding:4px;'>0</td><td style='padding:4px; '>1</td></tr><tr><td style='padding:4px;'>1</td><td style='padding:4px; '>4</td></tr><tr><td style='padding:4px;'>2</td><td style='padding:4px; '>9</td></tr><tr><td style='padding:4px;'>3</td><td style='padding:4px; '>16</td></tr><tr><td>dtype: </td><td>int</td></tr></table>"
      ],
      "text/plain": [
       "0: 1\n",
       "1: 4\n",
       "2: 9\n",
       "3: 16\n",
       "Name: , dtype: int"
      ]
     },
     "execution_count": 10,
     "metadata": {},
     "output_type": "execute_result"
    }
   ],
   "source": [
    "s1**2"
   ]
  },
  {
   "cell_type": "markdown",
   "id": "0edb94f1",
   "metadata": {},
   "source": [
    "#### Boolean operators"
   ]
  },
  {
   "cell_type": "code",
   "execution_count": 3,
   "id": "8913ab57",
   "metadata": {},
   "outputs": [
    {
     "name": "stdout",
     "output_type": "stream",
     "text": [
      "0: False\n",
      "1: False\n",
      "2: True\n",
      "3: True\n",
      "Name: (s1 > 2), dtype: int\n"
     ]
    }
   ],
   "source": [
    "s1 = Atrax.Series([1,2,3,4], name=\"s1\")\n",
    "mask = s1 > 2\n",
    "print(mask)"
   ]
  },
  {
   "cell_type": "code",
   "execution_count": 4,
   "id": "ef9a6b4b",
   "metadata": {},
   "outputs": [
    {
     "data": {
      "text/html": [
       "<table style='border-collapse: collapse;'><tr><td style='padding:4px;'>0</td><td style='padding:4px; '>0</td></tr><tr><td style='padding:4px;'>1</td><td style='padding:4px; '>0</td></tr><tr><td style='padding:4px;'>2</td><td style='padding:4px; '>100</td></tr><tr><td style='padding:4px;'>3</td><td style='padding:4px; '>100</td></tr><tr><td>Name: </td><td>(s1 > 2)</td><td>dtype: </td><td>int</td></tr></table>"
      ],
      "text/plain": [
       "0: 0\n",
       "1: 0\n",
       "2: 100\n",
       "3: 100\n",
       "Name: (s1 > 2), dtype: int"
      ]
     },
     "execution_count": 4,
     "metadata": {},
     "output_type": "execute_result"
    }
   ],
   "source": [
    "(s1 > 2).astype('int').apply(lambda x: x * 100)"
   ]
  },
  {
   "cell_type": "code",
   "execution_count": 2,
   "id": "ca5bec27",
   "metadata": {},
   "outputs": [],
   "source": [
    "qty = Atrax.Series([5, 15, 20, 8], name=\"qty\")\n",
    "price = Atrax.Series([4, 6, 3, 5], name=\"price\")"
   ]
  },
  {
   "cell_type": "code",
   "execution_count": 3,
   "id": "5e557a18",
   "metadata": {},
   "outputs": [
    {
     "name": "stdout",
     "output_type": "stream",
     "text": [
      "0: False\n",
      "1: False\n",
      "2: True\n",
      "3: False\n",
      "Name: ((qty > 10)) & (price < 5), dtype: int\n"
     ]
    }
   ],
   "source": [
    "# filter mask\n",
    "mask = (qty > 10) & (price < 5)\n",
    "print(mask)"
   ]
  },
  {
   "cell_type": "code",
   "execution_count": 4,
   "id": "3c4c5928",
   "metadata": {},
   "outputs": [
    {
     "name": "stdout",
     "output_type": "stream",
     "text": [
      "0: True\n",
      "1: True\n",
      "2: False\n",
      "3: True\n",
      "Name: (~((qty > 10)) & (price < 5)), dtype: int\n"
     ]
    }
   ],
   "source": [
    "not_mask = ~mask\n",
    "print(not_mask)"
   ]
  },
  {
   "cell_type": "markdown",
   "id": "9dd7e4e5",
   "metadata": {},
   "source": [
    "#### Locators"
   ]
  },
  {
   "cell_type": "code",
   "execution_count": 2,
   "id": "644ddf5a",
   "metadata": {},
   "outputs": [],
   "source": [
    "s = Atrax.Series([10, 20, 30], name=\"sales\", index=[\"a\", \"b\", \"b\"])"
   ]
  },
  {
   "cell_type": "code",
   "execution_count": 3,
   "id": "6e8224c1",
   "metadata": {},
   "outputs": [
    {
     "data": {
      "text/html": [
       "<table style='border-collapse: collapse;'><tr><td style='padding:4px;'>a</td><td style='padding:4px; '>10</td></tr><tr><td style='padding:4px;'>b</td><td style='padding:4px; '>20</td></tr><tr><td style='padding:4px;'>b</td><td style='padding:4px; '>30</td></tr><tr><td colspan='1'>Name: sales, dtype: int</td></tr></table>"
      ],
      "text/plain": [
       "a   10\n",
       "b   20\n",
       "b   30\n",
       "Name: sales, dtype: int"
      ]
     },
     "execution_count": 3,
     "metadata": {},
     "output_type": "execute_result"
    }
   ],
   "source": [
    "s"
   ]
  },
  {
   "cell_type": "code",
   "execution_count": 5,
   "id": "edeecd6f",
   "metadata": {},
   "outputs": [
    {
     "name": "stdout",
     "output_type": "stream",
     "text": [
      "20\n",
      "20\n"
     ]
    }
   ],
   "source": [
    "print(s.loc[\"b\"])\n",
    "print(s.iloc[1])"
   ]
  },
  {
   "cell_type": "code",
   "execution_count": 6,
   "id": "302c8337",
   "metadata": {},
   "outputs": [
    {
     "name": "stdout",
     "output_type": "stream",
     "text": [
      "a   10\n",
      "b   30\n",
      "Name: sales, dtype: int\n"
     ]
    }
   ],
   "source": [
    "print(s.loc[[\"a\", \"b\"]])"
   ]
  },
  {
   "cell_type": "code",
   "execution_count": 7,
   "id": "a6faa048",
   "metadata": {},
   "outputs": [
    {
     "name": "stdout",
     "output_type": "stream",
     "text": [
      "a   10\n",
      "b   20\n",
      "Name: sales, dtype: int\n"
     ]
    }
   ],
   "source": [
    "print(s.iloc[0:2])"
   ]
  },
  {
   "cell_type": "code",
   "execution_count": 2,
   "id": "69df8d2b",
   "metadata": {},
   "outputs": [
    {
     "data": {
      "text/html": [
       "<table style='border-collapse: collapse;'><tr><td style=''>0</td><td style=''>1</td></tr><tr><td style=''>1</td><td style=''>2</td></tr><tr><td style=''>2</td><td style=''>3</td></tr><tr><td style=''>3</td><td style=''>4</td></tr><tr><td colspan='2' style='font-style: bold; font-size:1.2rem;'>Name: , dtype: int</td></tr></table>"
      ],
      "text/plain": [
       "0   1\n",
       "1   2\n",
       "2   3\n",
       "3   4\n",
       "Name: , dtype: int"
      ]
     },
     "execution_count": 2,
     "metadata": {},
     "output_type": "execute_result"
    }
   ],
   "source": [
    "s1 = Atrax.Series([1,2,3,4])\n",
    "s1"
   ]
  },
  {
   "cell_type": "markdown",
   "id": "1fda4a1f",
   "metadata": {},
   "source": [
    "### DataSet"
   ]
  },
  {
   "cell_type": "code",
   "execution_count": 2,
   "id": "8fb24c35",
   "metadata": {},
   "outputs": [],
   "source": [
    "ds = Atrax.DataSet([\n",
    "    {'name': 'candy', 'qty': 2, 'price': 3.5, 'dept': 'grocery', 'date': '2025-01-01'},\n",
    "    {'name': 'food', 'qty': 5, 'price': 4.0, 'dept': 'grocery', 'date': '2025-02-01'},\n",
    "    {'name': 'drinks', 'qty': 1, 'price': 10.0, 'dept': 'soft drinks', 'date': '2025-06-05'},\n",
    "    {'name': 'chips', 'qty': 4, 'price': 2.5, 'dept': 'snacks', 'date': '2025-03-02'},\n",
    "    {'name': \"chocolate\", 'qty': 6, 'price': 5.75, 'dept': 'snacks', 'date': '2025-06-05'}\n",
    "])"
   ]
  },
  {
   "cell_type": "markdown",
   "id": "1b72bdc7",
   "metadata": {},
   "source": [
    "#### helpers"
   ]
  },
  {
   "cell_type": "code",
   "execution_count": 3,
   "id": "ade01d80",
   "metadata": {},
   "outputs": [
    {
     "name": "stdout",
     "output_type": "stream",
     "text": [
      "<class 'atrax.Atrax'>\n",
      "Data columns (total 2):\n",
      "  qty             Non-Null Count: 3     Dtype: int\n",
      "  price           Non-Null Count: 3     Dtype: float\n",
      "dtypes: 2\n",
      "Memory usage: 48 bytes (est.)\n"
     ]
    }
   ],
   "source": [
    "ds.info()"
   ]
  },
  {
   "cell_type": "code",
   "execution_count": 4,
   "id": "6fa29126",
   "metadata": {},
   "outputs": [
    {
     "data": {
      "text/html": [
       "<table style='border-collapse: collapse;'><thead><tr><th>stat</th><th>qty</th><th>price</th></tr></thead><tbody><tr><td>mean</td><td>2.67</td><td>5.83</td></tr><tr><td>std</td><td>2.08</td><td>3.62</td></tr><tr><td>min</td><td>1</td><td>3.5</td></tr><tr><td>Q1</td><td>1</td><td>3.5</td></tr><tr><td>median</td><td>2</td><td>4.0</td></tr><tr><td>Q3</td><td>5</td><td>10.0</td></tr><tr><td>max</td><td>5</td><td>10.0</td></tr><tr><td>count</td><td>3</td><td>3</td></tr></tbody></table>"
      ],
      "text/plain": [
       "stat, qty, price\n",
       "mean, 2.67, 5.83\n",
       "std, 2.08, 3.62\n",
       "min, 1, 3.5\n",
       "Q1, 1, 3.5\n",
       "median, 2, 4.0\n",
       "Q3, 5, 10.0\n",
       "max, 5, 10.0\n",
       "count, 3, 3"
      ]
     },
     "execution_count": 4,
     "metadata": {},
     "output_type": "execute_result"
    }
   ],
   "source": [
    "ds.describe()"
   ]
  },
  {
   "cell_type": "code",
   "execution_count": 6,
   "id": "04b20c82",
   "metadata": {},
   "outputs": [
    {
     "data": {
      "text/html": [
       "<table style='border-collapse: collapse;'><thead><tr><th>qty</th><th>price</th></tr></thead><tbody><tr><td>2</td><td>3.5</td></tr><tr><td>5</td><td>4.0</td></tr><tr><td>1</td><td>10.0</td></tr></tbody></table>"
      ],
      "text/plain": [
       "qty, price\n",
       "2, 3.5\n",
       "5, 4.0\n",
       "1, 10.0"
      ]
     },
     "execution_count": 6,
     "metadata": {},
     "output_type": "execute_result"
    }
   ],
   "source": [
    "ds.head()"
   ]
  },
  {
   "cell_type": "code",
   "execution_count": 8,
   "id": "52d108a1",
   "metadata": {},
   "outputs": [
    {
     "data": {
      "text/plain": [
       "(3, 2)"
      ]
     },
     "execution_count": 8,
     "metadata": {},
     "output_type": "execute_result"
    }
   ],
   "source": [
    "ds.shape()"
   ]
  },
  {
   "cell_type": "markdown",
   "id": "f8162f58",
   "metadata": {},
   "source": [
    "#### apply"
   ]
  },
  {
   "cell_type": "code",
   "execution_count": 3,
   "id": "d72e5048",
   "metadata": {},
   "outputs": [
    {
     "data": {
      "text/html": [
       "<table style='border-collapse: collapse;'><thead><tr><th>name</th><th>qty</th><th>price</th><th>dept</th></tr></thead><tbody><tr><td>candy</td><td>2</td><td>3.5</td><td>grocery</td></tr><tr><td>food</td><td>5</td><td>4.0</td><td>grocery</td></tr><tr><td>drinks</td><td>1</td><td>10.0</td><td>soft drinks</td></tr></tbody></table>"
      ],
      "text/plain": [
       "name, qty, price, dept\n",
       "candy, 2, 3.5, grocery\n",
       "food, 5, 4.0, grocery\n",
       "drinks, 1, 10.0, soft drinks"
      ]
     },
     "execution_count": 3,
     "metadata": {},
     "output_type": "execute_result"
    }
   ],
   "source": [
    "ds"
   ]
  },
  {
   "cell_type": "code",
   "execution_count": 4,
   "id": "f67c7635",
   "metadata": {},
   "outputs": [
    {
     "data": {
      "text/plain": [
       "[7.0, 20.0, 10.0]"
      ]
     },
     "execution_count": 4,
     "metadata": {},
     "output_type": "execute_result"
    }
   ],
   "source": [
    "total = ds.apply(lambda x: x['qty'] * x['price'])\n",
    "total\n"
   ]
  },
  {
   "cell_type": "code",
   "execution_count": 5,
   "id": "e7cd361c",
   "metadata": {},
   "outputs": [
    {
     "data": {
      "text/html": [
       "<table style='border-collapse: collapse;'><thead><tr><th>item</th><th>total</th></tr></thead><tbody><tr><td>candy</td><td>7.0</td></tr><tr><td>food</td><td>20.0</td></tr><tr><td>drinks</td><td>10.0</td></tr></tbody></table>"
      ],
      "text/plain": [
       "item, total\n",
       "candy, 7.0\n",
       "food, 20.0\n",
       "drinks, 10.0"
      ]
     },
     "execution_count": 5,
     "metadata": {},
     "output_type": "execute_result"
    }
   ],
   "source": [
    "# create a new dataset\n",
    "new_ds = ds.apply(lambda row: {\n",
    "    'item': row['name'],\n",
    "    'total': row['qty'] * row['price']\n",
    "})\n",
    "new_ds"
   ]
  },
  {
   "cell_type": "markdown",
   "id": "df947170",
   "metadata": {},
   "source": [
    "#### groupby"
   ]
  },
  {
   "cell_type": "code",
   "execution_count": 10,
   "id": "aa3ba196",
   "metadata": {},
   "outputs": [
    {
     "data": {
      "text/html": [
       "<table style='border-collapse: collapse;'><thead><tr><th>qty</th><th>price</th><th>dept</th></tr></thead><tbody><tr><td>7</td><td>7.5</td><td>grocery</td></tr><tr><td>1</td><td>10.0</td><td>soft drinks</td></tr></tbody></table>"
      ],
      "text/plain": [
       "qty, price, dept\n",
       "7, 7.5, grocery\n",
       "1, 10.0, soft drinks"
      ]
     },
     "execution_count": 10,
     "metadata": {},
     "output_type": "execute_result"
    }
   ],
   "source": [
    "t = ds.groupby('dept').sum()\n",
    "t"
   ]
  },
  {
   "cell_type": "code",
   "execution_count": 4,
   "id": "2b4abb4c",
   "metadata": {},
   "outputs": [
    {
     "data": {
      "text/html": [
       "<table style='border-collapse: collapse;'><thead><tr><th>qty</th><th>price</th><th>dept</th></tr></thead><tbody><tr><td>3.5</td><td>3.75</td><td>grocery</td></tr><tr><td>1.0</td><td>10.0</td><td>soft drinks</td></tr></tbody></table>"
      ],
      "text/plain": [
       "qty, price, dept\n",
       "3.5, 3.75, grocery\n",
       "1.0, 10.0, soft drinks"
      ]
     },
     "execution_count": 4,
     "metadata": {},
     "output_type": "execute_result"
    }
   ],
   "source": [
    "m = ds.groupby('dept').mean()\n",
    "m"
   ]
  },
  {
   "cell_type": "code",
   "execution_count": 5,
   "id": "6b74a940",
   "metadata": {},
   "outputs": [
    {
     "data": {
      "text/html": [
       "<table style='border-collapse: collapse;'><thead><tr><th>qty</th><th>price</th><th>dept</th></tr></thead><tbody><tr><td>3.5</td><td>3.75</td><td>grocery</td></tr><tr><td>1.0</td><td>10.0</td><td>soft drinks</td></tr></tbody></table>"
      ],
      "text/plain": [
       "qty, price, dept\n",
       "3.5, 3.75, grocery\n",
       "1.0, 10.0, soft drinks"
      ]
     },
     "execution_count": 5,
     "metadata": {},
     "output_type": "execute_result"
    }
   ],
   "source": [
    "n = ds.groupby(['dept']).mean()\n",
    "n"
   ]
  },
  {
   "cell_type": "code",
   "execution_count": 6,
   "id": "4a026617",
   "metadata": {},
   "outputs": [
    {
     "data": {
      "text/html": [
       "<table style='border-collapse: collapse;'><thead><tr><th>qty</th><th>price</th><th>dept</th></tr></thead><tbody><tr><td>3.5</td><td>3.75</td><td>grocery</td></tr><tr><td>1.0</td><td>10.0</td><td>soft drinks</td></tr></tbody></table>"
      ],
      "text/plain": [
       "qty, price, dept\n",
       "3.5, 3.75, grocery\n",
       "1.0, 10.0, soft drinks"
      ]
     },
     "execution_count": 6,
     "metadata": {},
     "output_type": "execute_result"
    }
   ],
   "source": [
    "n = ds.groupby(by=['dept']).mean()\n",
    "n"
   ]
  },
  {
   "cell_type": "code",
   "execution_count": 7,
   "id": "f3419300",
   "metadata": {},
   "outputs": [
    {
     "data": {
      "text/html": [
       "<table style='border-collapse: collapse;'><thead><tr><th>name</th><th>qty</th><th>price</th><th>dept</th></tr></thead><tbody><tr><td>candy</td><td>2</td><td>3.5</td><td>grocery</td></tr><tr><td>food</td><td>5</td><td>4.0</td><td>grocery</td></tr><tr><td>drinks</td><td>1</td><td>10.0</td><td>soft drinks</td></tr></tbody></table>"
      ],
      "text/plain": [
       "name, qty, price, dept\n",
       "candy, 2, 3.5, grocery\n",
       "food, 5, 4.0, grocery\n",
       "drinks, 1, 10.0, soft drinks"
      ]
     },
     "execution_count": 7,
     "metadata": {},
     "output_type": "execute_result"
    }
   ],
   "source": [
    "ds"
   ]
  },
  {
   "cell_type": "code",
   "execution_count": 8,
   "id": "41612fe0",
   "metadata": {},
   "outputs": [
    {
     "data": {
      "text/html": [
       "<table style='border-collapse: collapse;'><thead><tr><th>qty_count</th><th>price_sum</th><th>dept</th></tr></thead><tbody><tr><td>2</td><td>7.5</td><td>grocery</td></tr><tr><td>1</td><td>10.0</td><td>soft drinks</td></tr></tbody></table>"
      ],
      "text/plain": [
       "qty_count, price_sum, dept\n",
       "2, 7.5, grocery\n",
       "1, 10.0, soft drinks"
      ]
     },
     "execution_count": 8,
     "metadata": {},
     "output_type": "execute_result"
    }
   ],
   "source": [
    "g = ds.groupby(by=['dept']).agg({\n",
    "    'qty': 'count',\n",
    "    'price': 'sum'\n",
    "})\n",
    "g"
   ]
  },
  {
   "cell_type": "code",
   "execution_count": 9,
   "id": "3445a069",
   "metadata": {},
   "outputs": [
    {
     "data": {
      "text/html": [
       "<table style='border-collapse: collapse;'><thead><tr><th>qty_sum</th><th>qty_mean</th><th>qty_count</th><th>price_sum</th><th>price_max</th><th>price_min</th><th>dept</th></tr></thead><tbody><tr><td>7</td><td>3.5</td><td>2</td><td>7.5</td><td>4.0</td><td>3.5</td><td>grocery</td></tr><tr><td>1</td><td>1.0</td><td>1</td><td>10.0</td><td>10.0</td><td>10.0</td><td>soft drinks</td></tr></tbody></table>"
      ],
      "text/plain": [
       "qty_sum, qty_mean, qty_count, price_sum, price_max, price_min, dept\n",
       "7, 3.5, 2, 7.5, 4.0, 3.5, grocery\n",
       "1, 1.0, 1, 10.0, 10.0, 10.0, soft drinks"
      ]
     },
     "execution_count": 9,
     "metadata": {},
     "output_type": "execute_result"
    }
   ],
   "source": [
    "g = ds.groupby(by=['dept']).agg({\n",
    "    'qty': ['sum', 'mean', 'count'],\n",
    "    'price': ['sum', 'max', 'min']\n",
    "})\n",
    "g"
   ]
  },
  {
   "cell_type": "markdown",
   "id": "a3a14af7",
   "metadata": {},
   "source": [
    "#### sort"
   ]
  },
  {
   "cell_type": "code",
   "execution_count": 10,
   "id": "adee3e29",
   "metadata": {},
   "outputs": [
    {
     "data": {
      "text/html": [
       "<table style='border-collapse: collapse;'><thead><tr><th>name</th><th>qty</th><th>price</th><th>dept</th></tr></thead><tbody><tr><td>drinks</td><td>1</td><td>10.0</td><td>soft drinks</td></tr><tr><td>candy</td><td>2</td><td>3.5</td><td>grocery</td></tr><tr><td>chips</td><td>4</td><td>2.5</td><td>snacks</td></tr><tr><td>food</td><td>5</td><td>4.0</td><td>grocery</td></tr><tr><td>chocolate</td><td>6</td><td>5.75</td><td>snacks</td></tr></tbody></table>"
      ],
      "text/plain": [
       "name, qty, price, dept\n",
       "drinks, 1, 10.0, soft drinks\n",
       "candy, 2, 3.5, grocery\n",
       "chips, 4, 2.5, snacks\n",
       "food, 5, 4.0, grocery\n",
       "chocolate, 6, 5.75, snacks"
      ]
     },
     "execution_count": 10,
     "metadata": {},
     "output_type": "execute_result"
    }
   ],
   "source": [
    "ds.sort(by='qty', ascending=True)"
   ]
  },
  {
   "cell_type": "markdown",
   "id": "d20c194b",
   "metadata": {},
   "source": [
    "#### basics"
   ]
  },
  {
   "cell_type": "code",
   "execution_count": 4,
   "id": "8897184b",
   "metadata": {},
   "outputs": [],
   "source": [
    "ds['total'] = ds['qty'] * ds['price']"
   ]
  },
  {
   "cell_type": "code",
   "execution_count": 5,
   "id": "6b1e9519",
   "metadata": {},
   "outputs": [
    {
     "data": {
      "text/html": [
       "<table style='border-collapse: collapse;'><tr><td style=''>0</td><td style=''>False</td></tr><tr><td style=''>1</td><td style=''>True</td></tr><tr><td style=''>2</td><td style=''>False</td></tr><tr><td colspan='2' style='font-style: bold; font-size:1.1rem;'>Name: (qty > 2), dtype: int</td></tr></table>"
      ],
      "text/plain": [
       "0   False\n",
       "1   True\n",
       "2   False\n",
       "Name: (qty > 2), dtype: int"
      ]
     },
     "execution_count": 5,
     "metadata": {},
     "output_type": "execute_result"
    }
   ],
   "source": [
    "ds['qty'] > 2"
   ]
  },
  {
   "cell_type": "code",
   "execution_count": 6,
   "id": "d8a513f6",
   "metadata": {},
   "outputs": [
    {
     "data": {
      "text/html": [
       "<table style='border-collapse: collapse;'><thead><tr><th>qty</th><th>price</th><th>total</th></tr></thead><tbody><tr><td>5</td><td>4.0</td><td>20.0</td></tr></tbody></table>"
      ],
      "text/plain": [
       "qty, price, total\n",
       "5, 4.0, 20.0"
      ]
     },
     "execution_count": 6,
     "metadata": {},
     "output_type": "execute_result"
    }
   ],
   "source": [
    "ds[ds['qty'] > 2]"
   ]
  },
  {
   "cell_type": "code",
   "execution_count": 4,
   "id": "f2a93369",
   "metadata": {},
   "outputs": [
    {
     "data": {
      "text/html": [
       "<table style='border-collapse: collapse;'><thead><tr><th>name</th><th>qty</th><th>price</th></tr></thead><tbody><tr><td>food</td><td>5</td><td>4.0</td></tr><tr><td>chips</td><td>4</td><td>2.5</td></tr><tr><td>chocolate</td><td>6</td><td>5.75</td></tr></tbody></table>"
      ],
      "text/plain": [
       "name, qty, price\n",
       "food, 5, 4.0\n",
       "chips, 4, 2.5\n",
       "chocolate, 6, 5.75"
      ]
     },
     "execution_count": 4,
     "metadata": {},
     "output_type": "execute_result"
    }
   ],
   "source": [
    "# string based lookup\n",
    "ds.loc[ds['qty'] > 2, ['name', 'qty', 'price']]"
   ]
  },
  {
   "cell_type": "code",
   "execution_count": 5,
   "id": "0eecd1e7",
   "metadata": {},
   "outputs": [
    {
     "data": {
      "text/html": [
       "<table style='border-collapse: collapse;'><thead><tr><th>name</th><th>price</th></tr></thead><tbody><tr><td>candy</td><td>3.5</td></tr><tr><td>food</td><td>4.0</td></tr></tbody></table>"
      ],
      "text/plain": [
       "name, price\n",
       "candy, 3.5\n",
       "food, 4.0"
      ]
     },
     "execution_count": 5,
     "metadata": {},
     "output_type": "execute_result"
    }
   ],
   "source": [
    "ds.iloc[0:2, [0,2]] # first 2 rows, 1rs and third columns"
   ]
  },
  {
   "cell_type": "markdown",
   "id": "9cdd2020",
   "metadata": {},
   "source": [
    "#### filter"
   ]
  },
  {
   "cell_type": "code",
   "execution_count": 3,
   "id": "31a103a9",
   "metadata": {},
   "outputs": [
    {
     "data": {
      "text/html": [
       "<table style='border-collapse: collapse;'><thead><tr><th>qty</th><th>price</th></tr></thead><tbody><tr><td>2</td><td>3.5</td></tr><tr><td>5</td><td>4.0</td></tr><tr><td>1</td><td>10.0</td></tr></tbody></table>"
      ],
      "text/plain": [
       "qty, price\n",
       "2, 3.5\n",
       "5, 4.0\n",
       "1, 10.0"
      ]
     },
     "execution_count": 3,
     "metadata": {},
     "output_type": "execute_result"
    }
   ],
   "source": [
    "# keep only these columns\n",
    "r = ds.filter(items=['qty', 'price'])\n",
    "r"
   ]
  },
  {
   "cell_type": "code",
   "execution_count": 5,
   "id": "1312b2a4",
   "metadata": {},
   "outputs": [
    {
     "data": {
      "text/html": [
       "<table style='border-collapse: collapse;'><thead><tr><th>price</th></tr></thead><tbody><tr><td>3.5</td></tr><tr><td>4.0</td></tr><tr><td>10.0</td></tr></tbody></table>"
      ],
      "text/plain": [
       "price\n",
       "3.5\n",
       "4.0\n",
       "10.0"
      ]
     },
     "execution_count": 5,
     "metadata": {},
     "output_type": "execute_result"
    }
   ],
   "source": [
    "# keep columns with expression in the column name\n",
    "r = ds.filter(like='pri')\n",
    "r"
   ]
  },
  {
   "cell_type": "markdown",
   "id": "41385e77",
   "metadata": {},
   "source": [
    "#### isin"
   ]
  },
  {
   "cell_type": "code",
   "execution_count": 4,
   "id": "5feeaf99",
   "metadata": {},
   "outputs": [
    {
     "data": {
      "text/html": [
       "<table style='border-collapse: collapse;'><thead><tr><th>name</th><th>qty</th><th>price</th><th>dept</th></tr></thead><tbody><tr><td>candy</td><td>2</td><td>3.5</td><td>grocery</td></tr><tr><td>food</td><td>5</td><td>4.0</td><td>grocery</td></tr><tr><td>chips</td><td>4</td><td>2.5</td><td>snacks</td></tr><tr><td>chocolate</td><td>6</td><td>5.75</td><td>snacks</td></tr></tbody></table>"
      ],
      "text/plain": [
       "name, qty, price, dept\n",
       "candy, 2, 3.5, grocery\n",
       "food, 5, 4.0, grocery\n",
       "chips, 4, 2.5, snacks\n",
       "chocolate, 6, 5.75, snacks"
      ]
     },
     "execution_count": 4,
     "metadata": {},
     "output_type": "execute_result"
    }
   ],
   "source": [
    "ds.loc[ds['dept'].isin(['grocery', 'snacks']), ['name', 'qty', 'price', 'dept']]"
   ]
  },
  {
   "cell_type": "markdown",
   "id": "1539c999",
   "metadata": {},
   "source": [
    "#### between"
   ]
  },
  {
   "cell_type": "code",
   "execution_count": 5,
   "id": "e8563617",
   "metadata": {},
   "outputs": [
    {
     "data": {
      "text/html": [
       "<table style='border-collapse: collapse;'><thead><tr><th>name</th><th>qty</th><th>price</th><th>dept</th></tr></thead><tbody><tr><td>candy</td><td>2</td><td>3.5</td><td>grocery</td></tr><tr><td>food</td><td>5</td><td>4.0</td><td>grocery</td></tr><tr><td>chips</td><td>4</td><td>2.5</td><td>snacks</td></tr></tbody></table>"
      ],
      "text/plain": [
       "name, qty, price, dept\n",
       "candy, 2, 3.5, grocery\n",
       "food, 5, 4.0, grocery\n",
       "chips, 4, 2.5, snacks"
      ]
     },
     "execution_count": 5,
     "metadata": {},
     "output_type": "execute_result"
    }
   ],
   "source": [
    "ds.loc[ds['price'].between(2,5), ['name', 'qty', 'price', 'dept']]"
   ]
  },
  {
   "cell_type": "markdown",
   "id": "b8e8c0b5",
   "metadata": {},
   "source": [
    "#### unique"
   ]
  },
  {
   "cell_type": "code",
   "execution_count": 6,
   "id": "977c1fbf",
   "metadata": {},
   "outputs": [
    {
     "data": {
      "text/html": [
       "<table style='border-collapse: collapse;'><tr><td style=''>0</td><td style=''>snacks</td></tr><tr><td style=''>1</td><td style=''>grocery</td></tr><tr><td style=''>2</td><td style=''>soft drinks</td></tr><tr><td colspan='2' style='font-style: bold; font-size:1.1rem;'>Name: Unique(dept), dtype: object</td></tr></table>"
      ],
      "text/plain": [
       "0   snacks\n",
       "1   grocery\n",
       "2   soft drinks\n",
       "Name: Unique(dept), dtype: object"
      ]
     },
     "execution_count": 6,
     "metadata": {},
     "output_type": "execute_result"
    }
   ],
   "source": [
    "ds['dept'].unique()"
   ]
  },
  {
   "cell_type": "code",
   "execution_count": 8,
   "id": "1fe9ae7e",
   "metadata": {},
   "outputs": [
    {
     "data": {
      "text/plain": [
       "3"
      ]
     },
     "execution_count": 8,
     "metadata": {},
     "output_type": "execute_result"
    }
   ],
   "source": [
    "ds['dept'].nunique()"
   ]
  },
  {
   "cell_type": "markdown",
   "id": "759d03d8",
   "metadata": {},
   "source": [
    "#### rename"
   ]
  },
  {
   "cell_type": "code",
   "execution_count": 4,
   "id": "4bc0f6c8",
   "metadata": {},
   "outputs": [
    {
     "data": {
      "text/html": [
       "<table style='border-collapse: collapse;'><thead><tr><th>name</th><th>quantity</th><th>prices</th><th>dept</th></tr></thead><tbody><tr><td>candy</td><td>2</td><td>3.5</td><td>grocery</td></tr><tr><td>food</td><td>5</td><td>4.0</td><td>grocery</td></tr><tr><td>drinks</td><td>1</td><td>10.0</td><td>soft drinks</td></tr><tr><td>chips</td><td>4</td><td>2.5</td><td>snacks</td></tr><tr><td>chocolate</td><td>6</td><td>5.75</td><td>snacks</td></tr></tbody></table>"
      ],
      "text/plain": [
       "name, quantity, prices, dept\n",
       "candy, 2, 3.5, grocery\n",
       "food, 5, 4.0, grocery\n",
       "drinks, 1, 10.0, soft drinks\n",
       "chips, 4, 2.5, snacks\n",
       "chocolate, 6, 5.75, snacks"
      ]
     },
     "execution_count": 4,
     "metadata": {},
     "output_type": "execute_result"
    }
   ],
   "source": [
    "ds1 = ds.rename(columns={'qty': 'quantity', 'price': 'prices'})\n",
    "ds1"
   ]
  },
  {
   "cell_type": "code",
   "execution_count": 5,
   "id": "177f2dbb",
   "metadata": {},
   "outputs": [
    {
     "data": {
      "text/html": [
       "<table style='border-collapse: collapse;'><thead><tr><th>name</th><th>quantity</th><th>prices</th><th>dept</th></tr></thead><tbody><tr><td>candy</td><td>2</td><td>3.5</td><td>grocery</td></tr><tr><td>food</td><td>5</td><td>4.0</td><td>grocery</td></tr><tr><td>drinks</td><td>1</td><td>10.0</td><td>soft drinks</td></tr><tr><td>chips</td><td>4</td><td>2.5</td><td>snacks</td></tr><tr><td>chocolate</td><td>6</td><td>5.75</td><td>snacks</td></tr></tbody></table>"
      ],
      "text/plain": [
       "name, quantity, prices, dept\n",
       "candy, 2, 3.5, grocery\n",
       "food, 5, 4.0, grocery\n",
       "drinks, 1, 10.0, soft drinks\n",
       "chips, 4, 2.5, snacks\n",
       "chocolate, 6, 5.75, snacks"
      ]
     },
     "execution_count": 5,
     "metadata": {},
     "output_type": "execute_result"
    }
   ],
   "source": [
    "ds1"
   ]
  },
  {
   "cell_type": "code",
   "execution_count": 6,
   "id": "78049870",
   "metadata": {},
   "outputs": [
    {
     "data": {
      "text/html": [
       "<table style='border-collapse: collapse;'><thead><tr><th>name</th><th>quantity</th><th>price</th><th>dept</th></tr></thead><tbody><tr><td>candy</td><td>2</td><td>3.5</td><td>grocery</td></tr><tr><td>food</td><td>5</td><td>4.0</td><td>grocery</td></tr><tr><td>drinks</td><td>1</td><td>10.0</td><td>soft drinks</td></tr><tr><td>chips</td><td>4</td><td>2.5</td><td>snacks</td></tr><tr><td>chocolate</td><td>6</td><td>5.75</td><td>snacks</td></tr></tbody></table>"
      ],
      "text/plain": [
       "name, quantity, price, dept\n",
       "candy, 2, 3.5, grocery\n",
       "food, 5, 4.0, grocery\n",
       "drinks, 1, 10.0, soft drinks\n",
       "chips, 4, 2.5, snacks\n",
       "chocolate, 6, 5.75, snacks"
      ]
     },
     "execution_count": 6,
     "metadata": {},
     "output_type": "execute_result"
    }
   ],
   "source": [
    "ds1.rename(columns={'prices': 'price'}, inplace=True)\n",
    "ds1"
   ]
  },
  {
   "cell_type": "markdown",
   "id": "c12bc27a",
   "metadata": {},
   "source": [
    "#### drop"
   ]
  },
  {
   "cell_type": "code",
   "execution_count": 3,
   "id": "71d877b1",
   "metadata": {},
   "outputs": [
    {
     "data": {
      "text/html": [
       "<table style='border-collapse: collapse;'><thead><tr><th>name</th><th>dept</th></tr></thead><tbody><tr><td>candy</td><td>grocery</td></tr><tr><td>food</td><td>grocery</td></tr><tr><td>drinks</td><td>soft drinks</td></tr><tr><td>chips</td><td>snacks</td></tr><tr><td>chocolate</td><td>snacks</td></tr></tbody></table>"
      ],
      "text/plain": [
       "name, dept\n",
       "candy, grocery\n",
       "food, grocery\n",
       "drinks, soft drinks\n",
       "chips, snacks\n",
       "chocolate, snacks"
      ]
     },
     "execution_count": 3,
     "metadata": {},
     "output_type": "execute_result"
    }
   ],
   "source": [
    "ds2 = ds.drop(columns=['price', 'qty'])\n",
    "ds2"
   ]
  },
  {
   "cell_type": "code",
   "execution_count": 4,
   "id": "20ff406d",
   "metadata": {},
   "outputs": [
    {
     "data": {
      "text/html": [
       "<table style='border-collapse: collapse;'><thead><tr><th>name</th></tr></thead><tbody><tr><td>candy</td></tr><tr><td>food</td></tr><tr><td>drinks</td></tr><tr><td>chips</td></tr><tr><td>chocolate</td></tr></tbody></table>"
      ],
      "text/plain": [
       "name\n",
       "candy\n",
       "food\n",
       "drinks\n",
       "chips\n",
       "chocolate"
      ]
     },
     "execution_count": 4,
     "metadata": {},
     "output_type": "execute_result"
    }
   ],
   "source": [
    "ds2.drop(columns=['dept'], inplace=True)\n",
    "ds2"
   ]
  },
  {
   "cell_type": "code",
   "execution_count": 5,
   "id": "0dd4fec7",
   "metadata": {},
   "outputs": [
    {
     "data": {
      "text/html": [
       "<table style='border-collapse: collapse;'><thead><tr><th>name</th><th>qty</th><th>price</th><th>dept</th></tr></thead><tbody><tr><td>candy</td><td>2</td><td>3.5</td><td>grocery</td></tr><tr><td>food</td><td>5</td><td>4.0</td><td>grocery</td></tr><tr><td>drinks</td><td>1</td><td>10.0</td><td>soft drinks</td></tr><tr><td>chips</td><td>4</td><td>2.5</td><td>snacks</td></tr><tr><td>chocolate</td><td>6</td><td>5.75</td><td>snacks</td></tr></tbody></table>"
      ],
      "text/plain": [
       "name, qty, price, dept\n",
       "candy, 2, 3.5, grocery\n",
       "food, 5, 4.0, grocery\n",
       "drinks, 1, 10.0, soft drinks\n",
       "chips, 4, 2.5, snacks\n",
       "chocolate, 6, 5.75, snacks"
      ]
     },
     "execution_count": 5,
     "metadata": {},
     "output_type": "execute_result"
    }
   ],
   "source": [
    "ds2 = ds.copy()\n",
    "ds2"
   ]
  },
  {
   "cell_type": "code",
   "execution_count": 6,
   "id": "fde8e4fa",
   "metadata": {},
   "outputs": [
    {
     "data": {
      "text/html": [
       "<table style='border-collapse: collapse;'><thead><tr><th>name</th><th>qty</th><th>price</th><th>dept</th></tr></thead><tbody><tr><td>food</td><td>5</td><td>4.0</td><td>grocery</td></tr><tr><td>chips</td><td>4</td><td>2.5</td><td>snacks</td></tr><tr><td>chocolate</td><td>6</td><td>5.75</td><td>snacks</td></tr></tbody></table>"
      ],
      "text/plain": [
       "name, qty, price, dept\n",
       "food, 5, 4.0, grocery\n",
       "chips, 4, 2.5, snacks\n",
       "chocolate, 6, 5.75, snacks"
      ]
     },
     "execution_count": 6,
     "metadata": {},
     "output_type": "execute_result"
    }
   ],
   "source": [
    "ds3 = ds2.drop(index=[0,2])\n",
    "ds3"
   ]
  },
  {
   "cell_type": "code",
   "execution_count": 7,
   "id": "60a2744a",
   "metadata": {},
   "outputs": [
    {
     "data": {
      "text/html": [
       "<table style='border-collapse: collapse;'><thead><tr><th>name</th><th>qty</th><th>dept</th></tr></thead><tbody><tr><td>food</td><td>5</td><td>grocery</td></tr><tr><td>chocolate</td><td>6</td><td>snacks</td></tr></tbody></table>"
      ],
      "text/plain": [
       "name, qty, dept\n",
       "food, 5, grocery\n",
       "chocolate, 6, snacks"
      ]
     },
     "execution_count": 7,
     "metadata": {},
     "output_type": "execute_result"
    }
   ],
   "source": [
    "ds3.drop(columns=['price'], index=[1], inplace=True) # remove the price column and drop the second row\n",
    "ds3"
   ]
  },
  {
   "cell_type": "markdown",
   "id": "d1f6271d",
   "metadata": {},
   "source": [
    "#### reset_index"
   ]
  },
  {
   "cell_type": "code",
   "execution_count": 4,
   "id": "e206774b",
   "metadata": {},
   "outputs": [
    {
     "data": {
      "text/html": [
       "<table style='border-collapse: collapse;'><thead><tr><th>name</th><th>qty</th><th>price</th><th>dept</th></tr></thead><tbody><tr><td>candy</td><td>2</td><td>3.5</td><td>grocery</td></tr><tr><td>food</td><td>5</td><td>4.0</td><td>grocery</td></tr><tr><td>drinks</td><td>1</td><td>10.0</td><td>soft drinks</td></tr><tr><td>chips</td><td>4</td><td>2.5</td><td>snacks</td></tr><tr><td>chocolate</td><td>6</td><td>5.75</td><td>snacks</td></tr></tbody></table>"
      ],
      "text/plain": [
       "name, qty, price, dept\n",
       "candy, 2, 3.5, grocery\n",
       "food, 5, 4.0, grocery\n",
       "drinks, 1, 10.0, soft drinks\n",
       "chips, 4, 2.5, snacks\n",
       "chocolate, 6, 5.75, snacks"
      ]
     },
     "execution_count": 4,
     "metadata": {},
     "output_type": "execute_result"
    }
   ],
   "source": [
    "ds2 = ds.copy()\n",
    "ds.reset_index(inplace=True)\n",
    "ds2"
   ]
  },
  {
   "cell_type": "markdown",
   "id": "f6757d3d",
   "metadata": {},
   "source": [
    "#### to_dict"
   ]
  },
  {
   "cell_type": "code",
   "execution_count": 4,
   "id": "23428cf4",
   "metadata": {},
   "outputs": [
    {
     "data": {
      "text/plain": [
       "[{'name': 'candy', 'qty': 2, 'price': 3.5, 'dept': 'grocery'},\n",
       " {'name': 'food', 'qty': 5, 'price': 4.0, 'dept': 'grocery'},\n",
       " {'name': 'drinks', 'qty': 1, 'price': 10.0, 'dept': 'soft drinks'},\n",
       " {'name': 'chips', 'qty': 4, 'price': 2.5, 'dept': 'snacks'},\n",
       " {'name': 'chocolate', 'qty': 6, 'price': 5.75, 'dept': 'snacks'}]"
      ]
     },
     "execution_count": 4,
     "metadata": {},
     "output_type": "execute_result"
    }
   ],
   "source": [
    "rows = ds.to_dict()\n",
    "rows"
   ]
  },
  {
   "cell_type": "markdown",
   "id": "3aef6396",
   "metadata": {},
   "source": [
    "#### to_csv"
   ]
  },
  {
   "cell_type": "code",
   "execution_count": 3,
   "id": "641d065c",
   "metadata": {},
   "outputs": [],
   "source": [
    "ds.to_csv('test.csv')"
   ]
  },
  {
   "cell_type": "markdown",
   "id": "4541d80f",
   "metadata": {},
   "source": [
    "#### read_csv"
   ]
  },
  {
   "cell_type": "code",
   "execution_count": 4,
   "id": "93dedbfa",
   "metadata": {},
   "outputs": [
    {
     "data": {
      "text/html": [
       "<table style='border-collapse: collapse;'><thead><tr><th>name</th><th>qty</th><th>price</th><th>dept</th><th>date</th></tr></thead><tbody><tr><td>candy</td><td>2</td><td>3.5</td><td>grocery</td><td>2025-01-01</td></tr><tr><td>food</td><td>5</td><td>4.0</td><td>grocery</td><td>2025-02-01</td></tr><tr><td>drinks</td><td>1</td><td>10.0</td><td>soft drinks</td><td>2025-06-05</td></tr><tr><td>chips</td><td>4</td><td>2.5</td><td>snacks</td><td>2025-03-02</td></tr><tr><td>chocolate</td><td>6</td><td>5.75</td><td>snacks</td><td>2025-06-05</td></tr></tbody></table>"
      ],
      "text/plain": [
       "name, qty, price, dept, date\n",
       "candy, 2, 3.5, grocery, 2025-01-01\n",
       "food, 5, 4.0, grocery, 2025-02-01\n",
       "drinks, 1, 10.0, soft drinks, 2025-06-05\n",
       "chips, 4, 2.5, snacks, 2025-03-02\n",
       "chocolate, 6, 5.75, snacks, 2025-06-05"
      ]
     },
     "execution_count": 4,
     "metadata": {},
     "output_type": "execute_result"
    }
   ],
   "source": [
    "ds_csv = Atrax.read_csv(\"test.csv\")\n",
    "ds_csv"
   ]
  },
  {
   "cell_type": "code",
   "execution_count": 5,
   "id": "6bc5fdee",
   "metadata": {},
   "outputs": [
    {
     "name": "stdout",
     "output_type": "stream",
     "text": [
      "<class 'atrax.Atrax'>\n",
      "Data columns (total 5):\n",
      "  name            Non-Null Count: 5     Dtype: str\n",
      "  qty             Non-Null Count: 5     Dtype: int\n",
      "  price           Non-Null Count: 5     Dtype: float\n",
      "  dept            Non-Null Count: 5     Dtype: str\n",
      "  date            Non-Null Count: 5     Dtype: str\n",
      "dtypes: 3\n",
      "Memory usage: 200 bytes (est.)\n"
     ]
    }
   ],
   "source": [
    "ds.info()"
   ]
  },
  {
   "cell_type": "code",
   "execution_count": 4,
   "id": "047a2dae",
   "metadata": {},
   "outputs": [
    {
     "data": {
      "text/html": [
       "<table style='border-collapse: collapse;'><thead><tr><th>name</th><th>qty</th><th>dept</th></tr></thead><tbody><tr><td>candy</td><td>2</td><td>GROCERY</td></tr><tr><td>food</td><td>5</td><td>GROCERY</td></tr><tr><td>drinks</td><td>1</td><td>SOFT DRINKS</td></tr><tr><td>chips</td><td>4</td><td>SNACKS</td></tr><tr><td>chocolate</td><td>6</td><td>SNACKS</td></tr></tbody></table>"
      ],
      "text/plain": [
       "name, qty, dept\n",
       "candy, 2, GROCERY\n",
       "food, 5, GROCERY\n",
       "drinks, 1, SOFT DRINKS\n",
       "chips, 4, SNACKS\n",
       "chocolate, 6, SNACKS"
      ]
     },
     "execution_count": 4,
     "metadata": {},
     "output_type": "execute_result"
    }
   ],
   "source": [
    "temp = Atrax.read_csv('test.csv', encoding='utf-8', converters={'dept': lambda x: x.upper()}, usecols=['name', 'qty', 'dept'])\n",
    "temp"
   ]
  },
  {
   "cell_type": "code",
   "execution_count": 3,
   "id": "b88678f3",
   "metadata": {},
   "outputs": [
    {
     "data": {
      "text/html": [
       "<table style='border-collapse: collapse;'><thead><tr><th>name</th><th>qty</th><th>price</th><th>dept</th><th>date</th></tr></thead><tbody><tr><td>candy</td><td>2</td><td>3.5</td><td>grocery</td><td>2025-01-01 00:00:00</td></tr><tr><td>food</td><td>5</td><td>4.0</td><td>grocery</td><td>2025-02-01 00:00:00</td></tr><tr><td>drinks</td><td>1</td><td>10.0</td><td>soft drinks</td><td>2025-06-05 00:00:00</td></tr><tr><td>chips</td><td>4</td><td>2.5</td><td>snacks</td><td>2025-03-02 00:00:00</td></tr><tr><td>chocolate</td><td>6</td><td>5.75</td><td>snacks</td><td>2025-06-05 00:00:00</td></tr></tbody></table>"
      ],
      "text/plain": [
       "name, qty, price, dept, date\n",
       "candy, 2, 3.5, grocery, 2025-01-01 00:00:00\n",
       "food, 5, 4.0, grocery, 2025-02-01 00:00:00\n",
       "drinks, 1, 10.0, soft drinks, 2025-06-05 00:00:00\n",
       "chips, 4, 2.5, snacks, 2025-03-02 00:00:00\n",
       "chocolate, 6, 5.75, snacks, 2025-06-05 00:00:00"
      ]
     },
     "execution_count": 3,
     "metadata": {},
     "output_type": "execute_result"
    }
   ],
   "source": [
    "dsd = Atrax.read_csv('test.csv', encoding='utf-8', parse_dates=['date'])\n",
    "dsd"
   ]
  },
  {
   "cell_type": "code",
   "execution_count": 5,
   "id": "98f9bd2a",
   "metadata": {},
   "outputs": [
    {
     "name": "stdout",
     "output_type": "stream",
     "text": [
      "<class 'atrax.Atrax'>\n",
      "Data columns (total 5):\n",
      "name            | str        | 5 non-null | 5 total\n",
      "qty             | int        | 5 non-null | 5 total\n",
      "price           | float      | 5 non-null | 5 total\n",
      "dept            | str        | 5 non-null | 5 total\n",
      "date            | str        | 5 non-null | 5 total\n",
      "dtypes: 3\n",
      "Memory usage: 200 bytes (est.)\n"
     ]
    }
   ],
   "source": [
    "ds.info()"
   ]
  },
  {
   "cell_type": "markdown",
   "id": "50f382ce",
   "metadata": {},
   "source": [
    "#### set_index"
   ]
  },
  {
   "cell_type": "code",
   "execution_count": 3,
   "id": "89e55a52",
   "metadata": {},
   "outputs": [
    {
     "data": {
      "text/html": [
       "\n",
       "        <table>\n",
       "            <thead><tr><th>name</th><th>qty</th><th>price</th><th>dept</th><th>date</th></tr></thead>\n",
       "            <tbody><tr><td>candy</td><td>2</td><td>3.5</td><td>grocery</td><td>2025-01-01</td></tr><tr><td>food</td><td>5</td><td>4.0</td><td>grocery</td><td>2025-02-01</td></tr><tr><td>drinks</td><td>1</td><td>10.0</td><td>soft drinks</td><td>2025-06-05</td></tr><tr><td>chips</td><td>4</td><td>2.5</td><td>snacks</td><td>2025-03-02</td></tr><tr><td>chocolate</td><td>6</td><td>5.75</td><td>snacks</td><td>2025-06-05</td></tr></tbody>\n",
       "        </table>\n",
       "        "
      ],
      "text/plain": [
       "name, qty, price, dept, date\n",
       "candy, 2, 3.5, grocery, 2025-01-01\n",
       "food, 5, 4.0, grocery, 2025-02-01\n",
       "drinks, 1, 10.0, soft drinks, 2025-06-05\n",
       "chips, 4, 2.5, snacks, 2025-03-02\n",
       "chocolate, 6, 5.75, snacks, 2025-06-05"
      ]
     },
     "execution_count": 3,
     "metadata": {},
     "output_type": "execute_result"
    }
   ],
   "source": [
    "ds"
   ]
  },
  {
   "cell_type": "code",
   "execution_count": 4,
   "id": "9cc4d954",
   "metadata": {},
   "outputs": [
    {
     "name": "stdout",
     "output_type": "stream",
     "text": [
      "<class 'atrax.Atrax'>\n",
      "columns (total 5):\n",
      "Column          | Type       | Non-Null   | Total     \n",
      "--------------------------------------------------\n",
      "name            | str        | 5          | 5\n",
      "qty             | int        | 5          | 5\n",
      "price           | float      | 5          | 5\n",
      "dept            | str        | 5          | 5\n",
      "date            | str        | 5          | 5\n"
     ]
    }
   ],
   "source": [
    "ds.info()"
   ]
  },
  {
   "cell_type": "code",
   "execution_count": 5,
   "id": "458a0365",
   "metadata": {},
   "outputs": [],
   "source": [
    "# newest feature\n",
    "ds['date'] = ds['date'].to_datetime()"
   ]
  },
  {
   "cell_type": "code",
   "execution_count": 6,
   "id": "96ad800e",
   "metadata": {},
   "outputs": [
    {
     "data": {
      "text/html": [
       "\n",
       "        <table>\n",
       "            <thead><tr><th></th><th>name</th><th>qty</th><th>price</th><th>dept</th><th>date</th></tr></thead>\n",
       "            <tbody><tr><td><strong>2025-01-01<strong></td><td>candy</td><td>2</td><td>3.5</td><td>grocery</td><td>2025-01-01 00:00:00</td></tr><tr><td><strong>2025-02-01<strong></td><td>food</td><td>5</td><td>4.0</td><td>grocery</td><td>2025-02-01 00:00:00</td></tr><tr><td><strong>2025-06-05<strong></td><td>drinks</td><td>1</td><td>10.0</td><td>soft drinks</td><td>2025-06-05 00:00:00</td></tr><tr><td><strong>2025-03-02<strong></td><td>chips</td><td>4</td><td>2.5</td><td>snacks</td><td>2025-03-02 00:00:00</td></tr><tr><td><strong>2025-06-05<strong></td><td>chocolate</td><td>6</td><td>5.75</td><td>snacks</td><td>2025-06-05 00:00:00</td></tr></tbody>\n",
       "        </table>\n",
       "        "
      ],
      "text/plain": [
       "name, qty, price, dept, date\n",
       "candy, 2, 3.5, grocery, 2025-01-01 00:00:00\n",
       "food, 5, 4.0, grocery, 2025-02-01 00:00:00\n",
       "drinks, 1, 10.0, soft drinks, 2025-06-05 00:00:00\n",
       "chips, 4, 2.5, snacks, 2025-03-02 00:00:00\n",
       "chocolate, 6, 5.75, snacks, 2025-06-05 00:00:00"
      ]
     },
     "execution_count": 6,
     "metadata": {},
     "output_type": "execute_result"
    }
   ],
   "source": [
    "ds.set_index('date', inplace=True, drop=False)\n",
    "ds"
   ]
  },
  {
   "cell_type": "code",
   "execution_count": 7,
   "id": "7566cb80",
   "metadata": {},
   "outputs": [
    {
     "data": {
      "text/plain": [
       "[datetime.datetime(2025, 1, 1, 0, 0),\n",
       " datetime.datetime(2025, 2, 1, 0, 0),\n",
       " datetime.datetime(2025, 6, 5, 0, 0),\n",
       " datetime.datetime(2025, 3, 2, 0, 0),\n",
       " datetime.datetime(2025, 6, 5, 0, 0)]"
      ]
     },
     "execution_count": 7,
     "metadata": {},
     "output_type": "execute_result"
    }
   ],
   "source": [
    "ds.index"
   ]
  },
  {
   "cell_type": "code",
   "execution_count": 8,
   "id": "3c210d63",
   "metadata": {},
   "outputs": [
    {
     "name": "stdout",
     "output_type": "stream",
     "text": [
      "<class 'atrax.Atrax'>\n",
      "columns (total 5):\n",
      "Index: 5 entries\n",
      "  name: date\n",
      "  dtype: datetime\n",
      "\n",
      "Column          | Type       | Non-Null   | Total     \n",
      "--------------------------------------------------\n",
      "name            | str        | 5          | 5\n",
      "qty             | int        | 5          | 5\n",
      "price           | float      | 5          | 5\n",
      "dept            | str        | 5          | 5\n",
      "date            | datetime   | 5          | 5\n"
     ]
    }
   ],
   "source": [
    "ds.info()"
   ]
  },
  {
   "cell_type": "code",
   "execution_count": 9,
   "id": "679e5412",
   "metadata": {},
   "outputs": [
    {
     "data": {
      "text/html": [
       "\n",
       "        <table>\n",
       "            <thead><tr><th>name</th><th>qty</th><th>price</th><th>dept</th><th>date</th></tr></thead>\n",
       "            <tbody><tr><td>chips</td><td>4</td><td>2.5</td><td>snacks</td><td>2025-03-02 00:00:00</td></tr></tbody>\n",
       "        </table>\n",
       "        "
      ],
      "text/plain": [
       "name, qty, price, dept, date\n",
       "chips, 4, 2.5, snacks, 2025-03-02 00:00:00"
      ]
     },
     "execution_count": 9,
     "metadata": {},
     "output_type": "execute_result"
    }
   ],
   "source": [
    "day = ds.loc['3/2/2025']\n",
    "day"
   ]
  },
  {
   "cell_type": "code",
   "execution_count": 10,
   "id": "0072f069",
   "metadata": {},
   "outputs": [
    {
     "data": {
      "text/html": [
       "\n",
       "        <table>\n",
       "            <thead><tr><th>name</th><th>qty</th><th>price</th><th>dept</th><th>date</th></tr></thead>\n",
       "            <tbody><tr><td>chips</td><td>4</td><td>2.5</td><td>snacks</td><td>2025-03-02 00:00:00</td></tr></tbody>\n",
       "        </table>\n",
       "        "
      ],
      "text/plain": [
       "name, qty, price, dept, date\n",
       "chips, 4, 2.5, snacks, 2025-03-02 00:00:00"
      ]
     },
     "execution_count": 10,
     "metadata": {},
     "output_type": "execute_result"
    }
   ],
   "source": [
    "ds.loc['2025-03-02']"
   ]
  },
  {
   "cell_type": "code",
   "execution_count": 11,
   "id": "9cda7d8a",
   "metadata": {},
   "outputs": [
    {
     "data": {
      "text/html": [
       "\n",
       "        <table>\n",
       "            <thead><tr><th>name</th><th>qty</th></tr></thead>\n",
       "            <tbody><tr><td>food</td><td>5</td></tr><tr><td>chips</td><td>4</td></tr><tr><td>chocolate</td><td>6</td></tr></tbody>\n",
       "        </table>\n",
       "        "
      ],
      "text/plain": [
       "name, qty\n",
       "food, 5\n",
       "chips, 4\n",
       "chocolate, 6"
      ]
     },
     "execution_count": 11,
     "metadata": {},
     "output_type": "execute_result"
    }
   ],
   "source": [
    "ds.loc[lambda x: x['qty'] > 2, ['name', 'qty']]"
   ]
  },
  {
   "cell_type": "code",
   "execution_count": 12,
   "id": "feca808e",
   "metadata": {},
   "outputs": [
    {
     "data": {
      "text/html": [
       "\n",
       "        <table>\n",
       "            <thead><tr><th>name</th><th>qty</th><th>price</th><th>dept</th><th>date</th></tr></thead>\n",
       "            <tbody><tr><td>food</td><td>5</td><td>4.0</td><td>grocery</td><td>2025-02-01 00:00:00</td></tr><tr><td>chips</td><td>4</td><td>2.5</td><td>snacks</td><td>2025-03-02 00:00:00</td></tr><tr><td>chocolate</td><td>6</td><td>5.75</td><td>snacks</td><td>2025-06-05 00:00:00</td></tr></tbody>\n",
       "        </table>\n",
       "        "
      ],
      "text/plain": [
       "name, qty, price, dept, date\n",
       "food, 5, 4.0, grocery, 2025-02-01 00:00:00\n",
       "chips, 4, 2.5, snacks, 2025-03-02 00:00:00\n",
       "chocolate, 6, 5.75, snacks, 2025-06-05 00:00:00"
      ]
     },
     "execution_count": 12,
     "metadata": {},
     "output_type": "execute_result"
    }
   ],
   "source": [
    "ds.loc[lambda x: x['qty'] > 2]"
   ]
  },
  {
   "cell_type": "markdown",
   "id": "9482100d",
   "metadata": {},
   "source": [
    "#### read_pandas"
   ]
  },
  {
   "cell_type": "code",
   "execution_count": 2,
   "id": "2b99a300",
   "metadata": {},
   "outputs": [],
   "source": [
    "import pandas as pd"
   ]
  },
  {
   "cell_type": "code",
   "execution_count": 3,
   "id": "16e4049d",
   "metadata": {},
   "outputs": [],
   "source": [
    "pdf = pd.DataFrame({\n",
    "    'name': ['candy', 'drinks'],\n",
    "    'qty': [2, 3],\n",
    "    'price': [1.5, 4.0]\n",
    "}, index=pd.to_datetime(['2025-01-01', '2025-01-02']))\n",
    "pdf.index.name = 'date'"
   ]
  },
  {
   "cell_type": "code",
   "execution_count": 4,
   "id": "fca42e1d",
   "metadata": {},
   "outputs": [
    {
     "data": {
      "text/html": [
       "\n",
       "        <table>\n",
       "            <thead><tr><th></th><th>name</th><th>qty</th><th>price</th></tr></thead>\n",
       "            <tbody><tr><td><strong>2025-01-01<strong></td><td>candy</td><td>2</td><td>1.5</td></tr><tr><td><strong>2025-01-02<strong></td><td>drinks</td><td>3</td><td>4.0</td></tr></tbody>\n",
       "        </table>\n",
       "        "
      ],
      "text/plain": [
       "name, qty, price\n",
       "candy, 2, 1.5\n",
       "drinks, 3, 4.0"
      ]
     },
     "execution_count": 4,
     "metadata": {},
     "output_type": "execute_result"
    }
   ],
   "source": [
    "dsp = Atrax.read_pandas(pdf)\n",
    "dsp"
   ]
  },
  {
   "cell_type": "markdown",
   "id": "e2a10178",
   "metadata": {},
   "source": [
    "#### to_pandas"
   ]
  },
  {
   "cell_type": "code",
   "execution_count": 5,
   "id": "ad358929",
   "metadata": {},
   "outputs": [
    {
     "name": "stdout",
     "output_type": "stream",
     "text": [
      "<class 'pandas.core.frame.DataFrame'>\n"
     ]
    }
   ],
   "source": [
    "df_out = dsp.to_pandas()\n",
    "print(type(df_out))\n"
   ]
  },
  {
   "cell_type": "code",
   "execution_count": 7,
   "id": "cc225fb0",
   "metadata": {},
   "outputs": [
    {
     "data": {
      "text/html": [
       "<div>\n",
       "<style scoped>\n",
       "    .dataframe tbody tr th:only-of-type {\n",
       "        vertical-align: middle;\n",
       "    }\n",
       "\n",
       "    .dataframe tbody tr th {\n",
       "        vertical-align: top;\n",
       "    }\n",
       "\n",
       "    .dataframe thead th {\n",
       "        text-align: right;\n",
       "    }\n",
       "</style>\n",
       "<table border=\"1\" class=\"dataframe\">\n",
       "  <thead>\n",
       "    <tr style=\"text-align: right;\">\n",
       "      <th></th>\n",
       "      <th>name</th>\n",
       "      <th>qty</th>\n",
       "      <th>price</th>\n",
       "    </tr>\n",
       "    <tr>\n",
       "      <th>date</th>\n",
       "      <th></th>\n",
       "      <th></th>\n",
       "      <th></th>\n",
       "    </tr>\n",
       "  </thead>\n",
       "  <tbody>\n",
       "    <tr>\n",
       "      <th>2025-01-01</th>\n",
       "      <td>candy</td>\n",
       "      <td>2</td>\n",
       "      <td>1.5</td>\n",
       "    </tr>\n",
       "    <tr>\n",
       "      <th>2025-01-02</th>\n",
       "      <td>drinks</td>\n",
       "      <td>3</td>\n",
       "      <td>4.0</td>\n",
       "    </tr>\n",
       "  </tbody>\n",
       "</table>\n",
       "</div>"
      ],
      "text/plain": [
       "              name  qty  price\n",
       "date                          \n",
       "2025-01-01   candy    2    1.5\n",
       "2025-01-02  drinks    3    4.0"
      ]
     },
     "execution_count": 7,
     "metadata": {},
     "output_type": "execute_result"
    }
   ],
   "source": [
    "df_out"
   ]
  },
  {
   "cell_type": "markdown",
   "id": "05ce135f",
   "metadata": {},
   "source": [
    "#### read_sql"
   ]
  },
  {
   "cell_type": "code",
   "execution_count": 3,
   "id": "5685c5e2",
   "metadata": {},
   "outputs": [
    {
     "name": "stdout",
     "output_type": "stream",
     "text": [
      "2025-06-19 18:55:26,500 INFO sqlalchemy.engine.Engine select pg_catalog.version()\n",
      "2025-06-19 18:55:26,500 INFO sqlalchemy.engine.Engine [raw sql] {}\n",
      "2025-06-19 18:55:26,555 INFO sqlalchemy.engine.Engine select current_schema()\n",
      "2025-06-19 18:55:26,555 INFO sqlalchemy.engine.Engine [raw sql] {}\n",
      "2025-06-19 18:55:26,610 INFO sqlalchemy.engine.Engine show standard_conforming_strings\n",
      "2025-06-19 18:55:26,611 INFO sqlalchemy.engine.Engine [raw sql] {}\n",
      "2025-06-19 18:55:26,666 INFO sqlalchemy.engine.Engine BEGIN (implicit)\n",
      "2025-06-19 18:55:26,667 INFO sqlalchemy.engine.Engine select distinct(storeid) as storeid, store_number, store_name from sales\n",
      "2025-06-19 18:55:26,667 INFO sqlalchemy.engine.Engine [raw sql] {}\n",
      "2025-06-19 18:55:30,239 INFO sqlalchemy.engine.Engine ROLLBACK\n"
     ]
    },
    {
     "data": {
      "text/html": [
       "\n",
       "        <table>\n",
       "            <thead><tr><th>storeid</th><th>store_number</th><th>store_name</th></tr></thead>\n",
       "            <tbody><tr><td>36</td><td>2</td><td>IGA #002</td></tr><tr><td>83</td><td>813</td><td>Jr Food 813</td></tr><tr><td>86</td><td>828</td><td>JR Food 828</td></tr><tr><td>111</td><td>1</td><td>IGA 1</td></tr><tr><td>194</td><td>496</td><td>Priceless Foods 496</td></tr><tr><td>202</td><td>860</td><td>SHELL 860</td></tr><tr><td>224</td><td>508</td><td>SAVE A LOT 508</td></tr><tr><td>251</td><td>493</td><td>Priceless Foods 493</td></tr><tr><td>277</td><td>150</td><td>SAVE A LOT 150</td></tr><tr><td>460</td><td>773</td><td>Crossroads #773</td></tr><tr><td>595</td><td>487</td><td>Priceless Foods 487</td></tr><tr><td>676</td><td>490</td><td>Priceless IGA 490</td></tr><tr><td>710</td><td>473</td><td>Priceless Foods 473</td></tr><tr><td>715</td><td>495</td><td>PRICE LESS IGA #495</td></tr><tr><td>773</td><td>65</td><td>Priceless Foods 65</td></tr><tr><td>774</td><td>478</td><td>Priceless Foods 478</td></tr><tr><td>818</td><td>494</td><td>Priceless IGA 494</td></tr><tr><td>826</td><td>447</td><td>Price Less IGA #447</td></tr><tr><td>836</td><td>580</td><td>Priceless IGA 580</td></tr><tr><td>836</td><td>580</td><td>Price Less IGA 580</td></tr><tr><td>844</td><td>590</td><td>Priceless IGA 590</td></tr><tr><td>893</td><td>591</td><td>Priceless IGA 591</td></tr><tr><td>969</td><td>585</td><td>Priceless IGA 585</td></tr><tr><td>996</td><td>44</td><td>PRICE LESS IGA #044</td></tr><tr><td>1127</td><td>474</td><td>Priceless Foods 474</td></tr><tr><td>1150</td><td>489</td><td>Priceless Foods 489</td></tr><tr><td>1158</td><td>476</td><td>Priceless Foods 476</td></tr><tr><td>1185</td><td>484</td><td>Price Less IGA #484</td></tr><tr><td>1186</td><td>410</td><td>SAVE-A-LOT 410</td></tr><tr><td>1354</td><td>762</td><td>Crossroads IGA Shell #762</td></tr><tr><td>1384</td><td>761</td><td>Crossroads IGA 761</td></tr><tr><td>1396</td><td>465</td><td>Hometown IGA #465</td></tr><tr><td>1397</td><td>440</td><td>Buy Low #440</td></tr><tr><td>1400</td><td>453</td><td>Hometown IGA #453</td></tr><tr><td>1494</td><td>756</td><td>Riverside Marketplace #756</td></tr><tr><td>1499</td><td>759</td><td>Crossroads IGA 759</td></tr></tbody>\n",
       "        </table>\n",
       "        "
      ],
      "text/plain": [
       "storeid, store_number, store_name\n",
       "36, 2, IGA #002\n",
       "83, 813, Jr Food 813\n",
       "86, 828, JR Food 828\n",
       "111, 1, IGA 1\n",
       "194, 496, Priceless Foods 496\n",
       "202, 860, SHELL 860\n",
       "224, 508, SAVE A LOT 508\n",
       "251, 493, Priceless Foods 493\n",
       "277, 150, SAVE A LOT 150\n",
       "460, 773, Crossroads #773\n",
       "... (36 rows total)"
      ]
     },
     "execution_count": 3,
     "metadata": {},
     "output_type": "execute_result"
    }
   ],
   "source": [
    "import sys\n",
    "import os\n",
    "\n",
    "sys.path.append(os.path.abspath('..'))\n",
    "from utils.db import get_db\n",
    "\n",
    "engine = get_db()\n",
    "\n",
    "\n",
    "query = \"select distinct(storeid) as storeid, store_number, store_name from sales\"\n",
    "\n",
    "ds_sql = Atrax.read_sql(query, engine)\n",
    "ds_sql"
   ]
  },
  {
   "cell_type": "markdown",
   "id": "27c31723",
   "metadata": {},
   "source": [
    "#### astype"
   ]
  },
  {
   "cell_type": "code",
   "execution_count": 3,
   "id": "76fd4236",
   "metadata": {},
   "outputs": [
    {
     "data": {
      "text/html": [
       "\n",
       "        <table>\n",
       "            <thead><tr><th>name</th><th>qty</th><th>price</th><th>dept</th><th>date</th></tr></thead>\n",
       "            <tbody><tr><td>candy</td><td>2.0</td><td>3.5</td><td>grocery</td><td>2025-01-01</td></tr><tr><td>food</td><td>5.0</td><td>4.0</td><td>grocery</td><td>2025-02-01</td></tr><tr><td>drinks</td><td>1.0</td><td>10.0</td><td>soft drinks</td><td>2025-06-05</td></tr><tr><td>chips</td><td>4.0</td><td>2.5</td><td>snacks</td><td>2025-03-02</td></tr><tr><td>chocolate</td><td>6.0</td><td>5.75</td><td>snacks</td><td>2025-06-05</td></tr></tbody>\n",
       "        </table>\n",
       "        "
      ],
      "text/plain": [
       "name, qty, price, dept, date\n",
       "candy, 2.0, 3.5, grocery, 2025-01-01\n",
       "food, 5.0, 4.0, grocery, 2025-02-01\n",
       "drinks, 1.0, 10.0, soft drinks, 2025-06-05\n",
       "chips, 4.0, 2.5, snacks, 2025-03-02\n",
       "chocolate, 6.0, 5.75, snacks, 2025-06-05"
      ]
     },
     "execution_count": 3,
     "metadata": {},
     "output_type": "execute_result"
    }
   ],
   "source": [
    "ds1 = ds.astype({'qty': float, 'price': str})\n",
    "ds1"
   ]
  },
  {
   "cell_type": "code",
   "execution_count": 4,
   "id": "28d717fc",
   "metadata": {},
   "outputs": [
    {
     "data": {
      "text/html": [
       "\n",
       "        <table>\n",
       "            <thead><tr><th>name</th><th>qty</th><th>price</th><th>dept</th><th>date</th></tr></thead>\n",
       "            <tbody><tr><td>candy</td><td>2.0</td><td>3.5</td><td>grocery</td><td>2025-01-01</td></tr><tr><td>food</td><td>5.0</td><td>4.0</td><td>grocery</td><td>2025-02-01</td></tr><tr><td>drinks</td><td>1.0</td><td>10.0</td><td>soft drinks</td><td>2025-06-05</td></tr><tr><td>chips</td><td>4.0</td><td>2.5</td><td>snacks</td><td>2025-03-02</td></tr><tr><td>chocolate</td><td>6.0</td><td>5.75</td><td>snacks</td><td>2025-06-05</td></tr></tbody>\n",
       "        </table>\n",
       "        "
      ],
      "text/plain": [
       "name, qty, price, dept, date\n",
       "candy, 2.0, 3.5, grocery, 2025-01-01\n",
       "food, 5.0, 4.0, grocery, 2025-02-01\n",
       "drinks, 1.0, 10.0, soft drinks, 2025-06-05\n",
       "chips, 4.0, 2.5, snacks, 2025-03-02\n",
       "chocolate, 6.0, 5.75, snacks, 2025-06-05"
      ]
     },
     "execution_count": 4,
     "metadata": {},
     "output_type": "execute_result"
    }
   ],
   "source": [
    "ds['qty'] = ds['qty'].astype(float)\n",
    "ds"
   ]
  },
  {
   "cell_type": "code",
   "execution_count": 5,
   "id": "7f5688c5",
   "metadata": {},
   "outputs": [
    {
     "data": {
      "text/html": [
       "\n",
       "        <table>\n",
       "            <thead><tr><th>name</th><th>qty</th><th>price</th><th>dept</th><th>date</th></tr></thead>\n",
       "            <tbody><tr><td>candy</td><td>2</td><td>3.5</td><td>grocery</td><td>2025-01-01</td></tr><tr><td>food</td><td>5</td><td>4.0</td><td>grocery</td><td>2025-02-01</td></tr><tr><td>drinks</td><td>1</td><td>10.0</td><td>soft drinks</td><td>2025-06-05</td></tr><tr><td>chips</td><td>4</td><td>2.5</td><td>snacks</td><td>2025-03-02</td></tr><tr><td>chocolate</td><td>6</td><td>5.75</td><td>snacks</td><td>2025-06-05</td></tr></tbody>\n",
       "        </table>\n",
       "        "
      ],
      "text/plain": [
       "name, qty, price, dept, date\n",
       "candy, 2, 3.5, grocery, 2025-01-01\n",
       "food, 5, 4.0, grocery, 2025-02-01\n",
       "drinks, 1, 10.0, soft drinks, 2025-06-05\n",
       "chips, 4, 2.5, snacks, 2025-03-02\n",
       "chocolate, 6, 5.75, snacks, 2025-06-05"
      ]
     },
     "execution_count": 5,
     "metadata": {},
     "output_type": "execute_result"
    }
   ],
   "source": [
    "ds['qty'] = ds['qty'].astype(int)\n",
    "ds"
   ]
  },
  {
   "cell_type": "markdown",
   "id": "ce5c9373",
   "metadata": {},
   "source": [
    "#### date_range"
   ]
  },
  {
   "cell_type": "code",
   "execution_count": 12,
   "id": "26ae1e24",
   "metadata": {},
   "outputs": [
    {
     "data": {
      "text/plain": [
       "DatetimeIndex(['2025-01-01', '2025-01-02', '2025-01-03', '2025-01-04',\n",
       "               '2025-01-05'],\n",
       "              dtype='datetime64[ns]', freq='D')"
      ]
     },
     "execution_count": 12,
     "metadata": {},
     "output_type": "execute_result"
    }
   ],
   "source": [
    "r = Atrax.date_range(start=\"2025-01-01\", end=\"2025-01-05\")\n",
    "r"
   ]
  },
  {
   "cell_type": "markdown",
   "id": "b90506c3",
   "metadata": {},
   "source": [
    "#### qcut"
   ]
  },
  {
   "cell_type": "code",
   "execution_count": 2,
   "id": "ded2ba5a",
   "metadata": {},
   "outputs": [
    {
     "data": {
      "text/plain": [
       "['Low', 'Med', 'Low', 'Low', 'High', 'Med', 'Top', 'High']"
      ]
     },
     "execution_count": 2,
     "metadata": {},
     "output_type": "execute_result"
    }
   ],
   "source": [
    "values = [10, 20, 15, 12, 30, 22, 40, 35]\n",
    "binned = Atrax.qcut(values, q=4, labels=['Low', 'Med', 'High', 'Top'])\n",
    "binned"
   ]
  },
  {
   "cell_type": "code",
   "execution_count": null,
   "id": "b412aa73",
   "metadata": {},
   "outputs": [
    {
     "data": {
      "text/plain": [
       "{'customer_id': [1031, 1010, 1050, 1048, 1017],\n",
       " 'transaction_date': [Timestamp('2025-01-03 00:00:00'),\n",
       "  Timestamp('2025-01-05 00:00:00'),\n",
       "  Timestamp('2025-01-04 00:00:00'),\n",
       "  Timestamp('2025-01-05 00:00:00'),\n",
       "  Timestamp('2025-01-03 00:00:00')],\n",
       " 'sales_amount': [41.34, 25.78, 31.54, 81.86, 55.48]}"
      ]
     },
     "execution_count": 15,
     "metadata": {},
     "output_type": "execute_result"
    }
   ],
   "source": [
    "num_customers = 5\n",
    "num_transactions = 5\n",
    "date_range = Atrax.date_range(start=\"2025-01-01\", end=\"2025-01-05\")\n",
    "\n",
    "# Generate data\n",
    "data = {\n",
    "    'customer_id': [random.randint(1000, 1050) for _ in range(num_transactions)],\n",
    "    'transaction_date': [random.choice(date_range) for _ in range(num_transactions)],\n",
    "    'sales_amount': [round(random.uniform(5.0, 100.0), 2) for _ in range(num_transactions)]\n",
    "}\n",
    "\n",
    "ds = Atrax.DataSet(data)\n",
    "#ds['transaction_date'] = pd.to_datetime(ds['transaction_date'])\n",
    "\n",
    "#ds.head()"
   ]
  },
  {
   "cell_type": "code",
   "execution_count": null,
   "id": "c13e6093",
   "metadata": {},
   "outputs": [],
   "source": []
  }
 ],
 "metadata": {
  "kernelspec": {
   "display_name": "env",
   "language": "python",
   "name": "python3"
  },
  "language_info": {
   "codemirror_mode": {
    "name": "ipython",
    "version": 3
   },
   "file_extension": ".py",
   "mimetype": "text/x-python",
   "name": "python",
   "nbconvert_exporter": "python",
   "pygments_lexer": "ipython3",
   "version": "3.12.10"
  }
 },
 "nbformat": 4,
 "nbformat_minor": 5
}
