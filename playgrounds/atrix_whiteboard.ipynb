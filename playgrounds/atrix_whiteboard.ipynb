{
 "cells": [
  {
   "cell_type": "markdown",
   "id": "7db0b08e",
   "metadata": {},
   "source": [
    "# Atrax"
   ]
  },
  {
   "cell_type": "markdown",
   "id": "2a034a0b",
   "metadata": {},
   "source": [
    "### Import Libraries"
   ]
  },
  {
   "cell_type": "code",
   "execution_count": 1,
   "id": "b8db09e6",
   "metadata": {},
   "outputs": [],
   "source": [
    "from atrax import Atrax"
   ]
  },
  {
   "cell_type": "markdown",
   "id": "be1f2881",
   "metadata": {},
   "source": [
    "### Create fake data"
   ]
  },
  {
   "cell_type": "code",
   "execution_count": 4,
   "id": "45fd0398",
   "metadata": {},
   "outputs": [],
   "source": [
    "data = [\n",
    "    {'name': 'Alice', 'age': 30, 'salary': 100000},\n",
    "    {'name': 'Bob', 'age': 25, 'salary': 80000},\n",
    "    {'name': 'Charlie', 'age': 35, 'salary': 120000},\n",
    "    {'name': 'David', 'age': 28, 'salary': 85000},\n",
    "    {'name': 'Eva', 'age': 40, 'salary': 130000},\n",
    "    {'name': 'Frank', 'age': 38, 'salary': 125000}\n",
    "]"
   ]
  },
  {
   "cell_type": "markdown",
   "id": "41e3d64a",
   "metadata": {},
   "source": [
    "### Series tests"
   ]
  },
  {
   "cell_type": "markdown",
   "id": "d2c096f2",
   "metadata": {},
   "source": [
    "#### Printing"
   ]
  },
  {
   "cell_type": "code",
   "execution_count": 2,
   "id": "35abd43e",
   "metadata": {},
   "outputs": [],
   "source": [
    "s = Atrax.Series([1,2,3,4,5,6,7,8,9,10,11], name=\"numbers\")"
   ]
  },
  {
   "cell_type": "code",
   "execution_count": 3,
   "id": "a9419723",
   "metadata": {},
   "outputs": [
    {
     "data": {
      "text/html": [
       "<table style='border-collapse: collapse;'><tr><td style='padding:4px;'>0</td><td style='padding:4px; '>1</td></tr><tr><td style='padding:4px;'>1</td><td style='padding:4px; '>2</td></tr><tr><td style='padding:4px;'>2</td><td style='padding:4px; '>3</td></tr><tr><td style='padding:4px;'>3</td><td style='padding:4px; '>4</td></tr><tr><td style='padding:4px;'>4</td><td style='padding:4px; '>5</td></tr><tr><td style='padding:4px;'>5</td><td style='padding:4px; '>6</td></tr><tr><td style='padding:4px;'>6</td><td style='padding:4px; '>7</td></tr><tr><td style='padding:4px;'>7</td><td style='padding:4px; '>8</td></tr><tr><td style='padding:4px;'>8</td><td style='padding:4px; '>9</td></tr><tr><td style='padding:4px;'>9</td><td style='padding:4px; '>10</td></tr><tr><td>Name: </td><td>numbers</td><td>dtype: </td><td>int</td></tr><tr><td colspan='2'><i>...1 more</i></td></tr></table>"
      ],
      "text/plain": [
       "0: 1\n",
       "1: 2\n",
       "2: 3\n",
       "3: 4\n",
       "4: 5\n",
       "5: 6\n",
       "6: 7\n",
       "7: 8\n",
       "8: 9\n",
       "9: 10\n",
       "...(11 total)\n",
       "Name: numbers, dtype: int"
      ]
     },
     "execution_count": 3,
     "metadata": {},
     "output_type": "execute_result"
    }
   ],
   "source": [
    "s"
   ]
  },
  {
   "cell_type": "code",
   "execution_count": 4,
   "id": "2e51255d",
   "metadata": {},
   "outputs": [
    {
     "name": "stdout",
     "output_type": "stream",
     "text": [
      "0: 1\n",
      "1: 2\n",
      "2: 3\n",
      "3: 4\n",
      "4: 5\n",
      "5: 6\n",
      "6: 7\n",
      "7: 8\n",
      "8: 9\n",
      "9: 10\n",
      "...(11 total)\n",
      "Name: numbers, dtype: int\n"
     ]
    }
   ],
   "source": [
    "print(s)"
   ]
  },
  {
   "cell_type": "code",
   "execution_count": 5,
   "id": "5e52c88a",
   "metadata": {},
   "outputs": [
    {
     "data": {
      "text/plain": [
       "atrax.core.series.Series"
      ]
     },
     "execution_count": 5,
     "metadata": {},
     "output_type": "execute_result"
    }
   ],
   "source": [
    "type(s)"
   ]
  },
  {
   "cell_type": "code",
   "execution_count": 6,
   "id": "cfddf98a",
   "metadata": {},
   "outputs": [
    {
     "data": {
      "text/html": [
       "<table style='border-collapse: collapse;'><tr><td style='padding:4px;'>0</td><td style='padding:4px; '>1.5</td></tr><tr><td style='padding:4px;'>1</td><td style='padding:4px; '>2.5</td></tr><tr><td style='padding:4px;'>2</td><td style='padding:4px; '>3.25</td></tr><tr><td>dtype: </td><td>float</td></tr></table>"
      ],
      "text/plain": [
       "0: 1.5\n",
       "1: 2.5\n",
       "2: 3.25\n",
       "Name: , dtype: float"
      ]
     },
     "execution_count": 6,
     "metadata": {},
     "output_type": "execute_result"
    }
   ],
   "source": [
    "Atrax.Series([1.5, 2.5, 3.25])"
   ]
  },
  {
   "cell_type": "code",
   "execution_count": 7,
   "id": "fe6e6385",
   "metadata": {},
   "outputs": [
    {
     "data": {
      "text/html": [
       "<table style='border-collapse: collapse;'><tr><td style='padding:4px;'>0</td><td style='padding:4px; '>1</td></tr><tr><td style='padding:4px;'>1</td><td style='padding:4px; '>2.5</td></tr><tr><td style='padding:4px;'>2</td><td style='padding:4px; '>True</td></tr><tr><td style='padding:4px;'>3</td><td style='padding:4px; '>hello</td></tr><tr><td>Name: </td><td>mixed</td><td>dtype: </td><td>object</td></tr></table>"
      ],
      "text/plain": [
       "0: 1\n",
       "1: 2.5\n",
       "2: True\n",
       "3: hello\n",
       "Name: mixed, dtype: object"
      ]
     },
     "execution_count": 7,
     "metadata": {},
     "output_type": "execute_result"
    }
   ],
   "source": [
    "Atrax.Series([1, 2.5, True, 'hello'], name='mixed')"
   ]
  },
  {
   "cell_type": "markdown",
   "id": "ddd9cbf1",
   "metadata": {},
   "source": [
    "#### astype"
   ]
  },
  {
   "cell_type": "code",
   "execution_count": 2,
   "id": "078dfe42",
   "metadata": {},
   "outputs": [
    {
     "data": {
      "text/html": [
       "<table style='border-collapse: collapse;'><tr><td style='padding:4px;'>0</td><td style='padding:4px; '>1</td></tr><tr><td style='padding:4px;'>1</td><td style='padding:4px; '>2</td></tr><tr><td style='padding:4px;'>2</td><td style='padding:4px; '>3</td></tr><tr><td style='padding:4px;'>3</td><td style='padding:4px; '>4</td></tr><tr><td>dtype: </td><td>int</td></tr></table>"
      ],
      "text/plain": [
       "0: 1\n",
       "1: 2\n",
       "2: 3\n",
       "3: 4\n",
       "Name: , dtype: int"
      ]
     },
     "execution_count": 2,
     "metadata": {},
     "output_type": "execute_result"
    }
   ],
   "source": [
    "s = Atrax.Series([\"1\", \"2\", \"3\", \"4\"])\n",
    "s.astype('int')"
   ]
  },
  {
   "cell_type": "markdown",
   "id": "baf733c6",
   "metadata": {},
   "source": [
    "#### apply"
   ]
  },
  {
   "cell_type": "code",
   "execution_count": 2,
   "id": "0545697b",
   "metadata": {},
   "outputs": [
    {
     "data": {
      "text/html": [
       "<table style='border-collapse: collapse;'><tr><td style='padding:4px;'>0</td><td style='padding:4px; '>2</td></tr><tr><td style='padding:4px;'>1</td><td style='padding:4px; '>4</td></tr><tr><td style='padding:4px;'>2</td><td style='padding:4px; '>6</td></tr><tr><td style='padding:4px;'>3</td><td style='padding:4px; '>8</td></tr><tr><td>dtype: </td><td>int</td></tr></table>"
      ],
      "text/plain": [
       "0: 2\n",
       "1: 4\n",
       "2: 6\n",
       "3: 8\n",
       "Name: , dtype: int"
      ]
     },
     "execution_count": 2,
     "metadata": {},
     "output_type": "execute_result"
    }
   ],
   "source": [
    "s = Atrax.Series([1,2,3,4])\n",
    "s.apply(lambda x: x * 2)"
   ]
  },
  {
   "cell_type": "code",
   "execution_count": 3,
   "id": "ae352a31",
   "metadata": {},
   "outputs": [],
   "source": [
    "def square(x):\n",
    "    return x * x"
   ]
  },
  {
   "cell_type": "code",
   "execution_count": 4,
   "id": "cd0fed36",
   "metadata": {},
   "outputs": [
    {
     "data": {
      "text/html": [
       "<table style='border-collapse: collapse;'><tr><td style='padding:4px;'>0</td><td style='padding:4px; '>1</td></tr><tr><td style='padding:4px;'>1</td><td style='padding:4px; '>4</td></tr><tr><td style='padding:4px;'>2</td><td style='padding:4px; '>9</td></tr><tr><td style='padding:4px;'>3</td><td style='padding:4px; '>16</td></tr><tr><td>dtype: </td><td>int</td></tr></table>"
      ],
      "text/plain": [
       "0: 1\n",
       "1: 4\n",
       "2: 9\n",
       "3: 16\n",
       "Name: , dtype: int"
      ]
     },
     "execution_count": 4,
     "metadata": {},
     "output_type": "execute_result"
    }
   ],
   "source": [
    "s1 = Atrax.Series([1,2,3,4])\n",
    "s.apply(square)"
   ]
  },
  {
   "cell_type": "markdown",
   "id": "9894ae85",
   "metadata": {},
   "source": [
    "#### arithmetic\n"
   ]
  },
  {
   "cell_type": "code",
   "execution_count": 2,
   "id": "132fc4c2",
   "metadata": {},
   "outputs": [],
   "source": [
    "s1 = Atrax.Series([1,2,3,4])\n",
    "s2 = Atrax.Series([5,6,7,8])"
   ]
  },
  {
   "cell_type": "markdown",
   "id": "99a48559",
   "metadata": {},
   "source": [
    "##### addition"
   ]
  },
  {
   "cell_type": "code",
   "execution_count": 3,
   "id": "961213e7",
   "metadata": {},
   "outputs": [
    {
     "data": {
      "text/html": [
       "<table style='border-collapse: collapse;'><tr><td style='padding:4px;'>0</td><td style='padding:4px; '>11</td></tr><tr><td style='padding:4px;'>1</td><td style='padding:4px; '>12</td></tr><tr><td style='padding:4px;'>2</td><td style='padding:4px; '>13</td></tr><tr><td style='padding:4px;'>3</td><td style='padding:4px; '>14</td></tr><tr><td>dtype: </td><td>int</td></tr></table>"
      ],
      "text/plain": [
       "0: 11\n",
       "1: 12\n",
       "2: 13\n",
       "3: 14\n",
       "Name: , dtype: int"
      ]
     },
     "execution_count": 3,
     "metadata": {},
     "output_type": "execute_result"
    }
   ],
   "source": [
    "s1 + 10"
   ]
  },
  {
   "cell_type": "code",
   "execution_count": 4,
   "id": "3d738ba1",
   "metadata": {},
   "outputs": [
    {
     "data": {
      "text/html": [
       "<table style='border-collapse: collapse;'><tr><td style='padding:4px;'>0</td><td style='padding:4px; '>6</td></tr><tr><td style='padding:4px;'>1</td><td style='padding:4px; '>8</td></tr><tr><td style='padding:4px;'>2</td><td style='padding:4px; '>10</td></tr><tr><td style='padding:4px;'>3</td><td style='padding:4px; '>12</td></tr><tr><td>dtype: </td><td>int</td></tr></table>"
      ],
      "text/plain": [
       "0: 6\n",
       "1: 8\n",
       "2: 10\n",
       "3: 12\n",
       "Name: , dtype: int"
      ]
     },
     "execution_count": 4,
     "metadata": {},
     "output_type": "execute_result"
    }
   ],
   "source": [
    "s1 + s2"
   ]
  },
  {
   "cell_type": "markdown",
   "id": "8f71111d",
   "metadata": {},
   "source": [
    "##### subtraction"
   ]
  },
  {
   "cell_type": "code",
   "execution_count": 5,
   "id": "c0584362",
   "metadata": {},
   "outputs": [
    {
     "data": {
      "text/html": [
       "<table style='border-collapse: collapse;'><tr><td style='padding:4px;'>0</td><td style='padding:4px; '>-1</td></tr><tr><td style='padding:4px;'>1</td><td style='padding:4px; '>0</td></tr><tr><td style='padding:4px;'>2</td><td style='padding:4px; '>1</td></tr><tr><td style='padding:4px;'>3</td><td style='padding:4px; '>2</td></tr><tr><td>dtype: </td><td>int</td></tr></table>"
      ],
      "text/plain": [
       "0: -1\n",
       "1: 0\n",
       "2: 1\n",
       "3: 2\n",
       "Name: , dtype: int"
      ]
     },
     "execution_count": 5,
     "metadata": {},
     "output_type": "execute_result"
    }
   ],
   "source": [
    "s1 - 2"
   ]
  },
  {
   "cell_type": "markdown",
   "id": "9ab20d96",
   "metadata": {},
   "source": [
    "##### multiplication"
   ]
  },
  {
   "cell_type": "code",
   "execution_count": 6,
   "id": "bbd21d81",
   "metadata": {},
   "outputs": [
    {
     "data": {
      "text/html": [
       "<table style='border-collapse: collapse;'><tr><td style='padding:4px;'>0</td><td style='padding:4px; '>2</td></tr><tr><td style='padding:4px;'>1</td><td style='padding:4px; '>4</td></tr><tr><td style='padding:4px;'>2</td><td style='padding:4px; '>6</td></tr><tr><td style='padding:4px;'>3</td><td style='padding:4px; '>8</td></tr><tr><td>dtype: </td><td>int</td></tr></table>"
      ],
      "text/plain": [
       "0: 2\n",
       "1: 4\n",
       "2: 6\n",
       "3: 8\n",
       "Name: , dtype: int"
      ]
     },
     "execution_count": 6,
     "metadata": {},
     "output_type": "execute_result"
    }
   ],
   "source": [
    "s1 * 2"
   ]
  },
  {
   "cell_type": "markdown",
   "id": "4bc49baf",
   "metadata": {},
   "source": [
    "##### division"
   ]
  },
  {
   "cell_type": "code",
   "execution_count": 7,
   "id": "12e772c7",
   "metadata": {},
   "outputs": [
    {
     "data": {
      "text/html": [
       "<table style='border-collapse: collapse;'><tr><td style='padding:4px;'>0</td><td style='padding:4px; '>0.5</td></tr><tr><td style='padding:4px;'>1</td><td style='padding:4px; '>1.0</td></tr><tr><td style='padding:4px;'>2</td><td style='padding:4px; '>1.5</td></tr><tr><td style='padding:4px;'>3</td><td style='padding:4px; '>2.0</td></tr><tr><td>dtype: </td><td>float</td></tr></table>"
      ],
      "text/plain": [
       "0: 0.5\n",
       "1: 1.0\n",
       "2: 1.5\n",
       "3: 2.0\n",
       "Name: , dtype: float"
      ]
     },
     "execution_count": 7,
     "metadata": {},
     "output_type": "execute_result"
    }
   ],
   "source": [
    "s1/2"
   ]
  },
  {
   "cell_type": "markdown",
   "id": "a6afe1bc",
   "metadata": {},
   "source": [
    "##### modulus"
   ]
  },
  {
   "cell_type": "code",
   "execution_count": 8,
   "id": "106b7f0f",
   "metadata": {},
   "outputs": [
    {
     "data": {
      "text/html": [
       "<table style='border-collapse: collapse;'><tr><td style='padding:4px;'>0</td><td style='padding:4px; '>1</td></tr><tr><td style='padding:4px;'>1</td><td style='padding:4px; '>0</td></tr><tr><td style='padding:4px;'>2</td><td style='padding:4px; '>1</td></tr><tr><td style='padding:4px;'>3</td><td style='padding:4px; '>0</td></tr><tr><td>dtype: </td><td>int</td></tr></table>"
      ],
      "text/plain": [
       "0: 1\n",
       "1: 0\n",
       "2: 1\n",
       "3: 0\n",
       "Name: , dtype: int"
      ]
     },
     "execution_count": 8,
     "metadata": {},
     "output_type": "execute_result"
    }
   ],
   "source": [
    "s1%2"
   ]
  },
  {
   "cell_type": "markdown",
   "id": "7b30935d",
   "metadata": {},
   "source": [
    "##### floor division"
   ]
  },
  {
   "cell_type": "code",
   "execution_count": 9,
   "id": "d996b0c1",
   "metadata": {},
   "outputs": [
    {
     "data": {
      "text/html": [
       "<table style='border-collapse: collapse;'><tr><td style='padding:4px;'>0</td><td style='padding:4px; '>0</td></tr><tr><td style='padding:4px;'>1</td><td style='padding:4px; '>1</td></tr><tr><td style='padding:4px;'>2</td><td style='padding:4px; '>1</td></tr><tr><td style='padding:4px;'>3</td><td style='padding:4px; '>2</td></tr><tr><td>dtype: </td><td>int</td></tr></table>"
      ],
      "text/plain": [
       "0: 0\n",
       "1: 1\n",
       "2: 1\n",
       "3: 2\n",
       "Name: , dtype: int"
      ]
     },
     "execution_count": 9,
     "metadata": {},
     "output_type": "execute_result"
    }
   ],
   "source": [
    "s1//2"
   ]
  },
  {
   "cell_type": "markdown",
   "id": "99ffe59b",
   "metadata": {},
   "source": [
    "##### pow"
   ]
  },
  {
   "cell_type": "code",
   "execution_count": 10,
   "id": "cee2d181",
   "metadata": {},
   "outputs": [
    {
     "data": {
      "text/html": [
       "<table style='border-collapse: collapse;'><tr><td style='padding:4px;'>0</td><td style='padding:4px; '>1</td></tr><tr><td style='padding:4px;'>1</td><td style='padding:4px; '>4</td></tr><tr><td style='padding:4px;'>2</td><td style='padding:4px; '>9</td></tr><tr><td style='padding:4px;'>3</td><td style='padding:4px; '>16</td></tr><tr><td>dtype: </td><td>int</td></tr></table>"
      ],
      "text/plain": [
       "0: 1\n",
       "1: 4\n",
       "2: 9\n",
       "3: 16\n",
       "Name: , dtype: int"
      ]
     },
     "execution_count": 10,
     "metadata": {},
     "output_type": "execute_result"
    }
   ],
   "source": [
    "s1**2"
   ]
  },
  {
   "cell_type": "markdown",
   "id": "0edb94f1",
   "metadata": {},
   "source": [
    "#### Boolean operators"
   ]
  },
  {
   "cell_type": "code",
   "execution_count": 3,
   "id": "8913ab57",
   "metadata": {},
   "outputs": [
    {
     "name": "stdout",
     "output_type": "stream",
     "text": [
      "0: False\n",
      "1: False\n",
      "2: True\n",
      "3: True\n",
      "Name: (s1 > 2), dtype: int\n"
     ]
    }
   ],
   "source": [
    "s1 = Atrax.Series([1,2,3,4], name=\"s1\")\n",
    "mask = s1 > 2\n",
    "print(mask)"
   ]
  },
  {
   "cell_type": "code",
   "execution_count": 4,
   "id": "ef9a6b4b",
   "metadata": {},
   "outputs": [
    {
     "data": {
      "text/html": [
       "<table style='border-collapse: collapse;'><tr><td style='padding:4px;'>0</td><td style='padding:4px; '>0</td></tr><tr><td style='padding:4px;'>1</td><td style='padding:4px; '>0</td></tr><tr><td style='padding:4px;'>2</td><td style='padding:4px; '>100</td></tr><tr><td style='padding:4px;'>3</td><td style='padding:4px; '>100</td></tr><tr><td>Name: </td><td>(s1 > 2)</td><td>dtype: </td><td>int</td></tr></table>"
      ],
      "text/plain": [
       "0: 0\n",
       "1: 0\n",
       "2: 100\n",
       "3: 100\n",
       "Name: (s1 > 2), dtype: int"
      ]
     },
     "execution_count": 4,
     "metadata": {},
     "output_type": "execute_result"
    }
   ],
   "source": [
    "(s1 > 2).astype('int').apply(lambda x: x * 100)"
   ]
  },
  {
   "cell_type": "code",
   "execution_count": 2,
   "id": "ca5bec27",
   "metadata": {},
   "outputs": [],
   "source": [
    "qty = Atrax.Series([5, 15, 20, 8], name=\"qty\")\n",
    "price = Atrax.Series([4, 6, 3, 5], name=\"price\")"
   ]
  },
  {
   "cell_type": "code",
   "execution_count": 3,
   "id": "5e557a18",
   "metadata": {},
   "outputs": [
    {
     "name": "stdout",
     "output_type": "stream",
     "text": [
      "0: False\n",
      "1: False\n",
      "2: True\n",
      "3: False\n",
      "Name: ((qty > 10)) & (price < 5), dtype: int\n"
     ]
    }
   ],
   "source": [
    "# filter mask\n",
    "mask = (qty > 10) & (price < 5)\n",
    "print(mask)"
   ]
  },
  {
   "cell_type": "code",
   "execution_count": 4,
   "id": "3c4c5928",
   "metadata": {},
   "outputs": [
    {
     "name": "stdout",
     "output_type": "stream",
     "text": [
      "0: True\n",
      "1: True\n",
      "2: False\n",
      "3: True\n",
      "Name: (~((qty > 10)) & (price < 5)), dtype: int\n"
     ]
    }
   ],
   "source": [
    "not_mask = ~mask\n",
    "print(not_mask)"
   ]
  },
  {
   "cell_type": "markdown",
   "id": "9dd7e4e5",
   "metadata": {},
   "source": [
    "#### Locators"
   ]
  },
  {
   "cell_type": "code",
   "execution_count": 2,
   "id": "644ddf5a",
   "metadata": {},
   "outputs": [],
   "source": [
    "s = Atrax.Series([10, 20, 30], name=\"sales\", index=[\"a\", \"b\", \"b\"])"
   ]
  },
  {
   "cell_type": "code",
   "execution_count": 3,
   "id": "6e8224c1",
   "metadata": {},
   "outputs": [
    {
     "data": {
      "text/html": [
       "<table style='border-collapse: collapse;'><tr><td style='padding:4px;'>a</td><td style='padding:4px; '>10</td></tr><tr><td style='padding:4px;'>b</td><td style='padding:4px; '>20</td></tr><tr><td style='padding:4px;'>b</td><td style='padding:4px; '>30</td></tr><tr><td colspan='1'>Name: sales, dtype: int</td></tr></table>"
      ],
      "text/plain": [
       "a   10\n",
       "b   20\n",
       "b   30\n",
       "Name: sales, dtype: int"
      ]
     },
     "execution_count": 3,
     "metadata": {},
     "output_type": "execute_result"
    }
   ],
   "source": [
    "s"
   ]
  },
  {
   "cell_type": "code",
   "execution_count": 5,
   "id": "edeecd6f",
   "metadata": {},
   "outputs": [
    {
     "name": "stdout",
     "output_type": "stream",
     "text": [
      "20\n",
      "20\n"
     ]
    }
   ],
   "source": [
    "print(s.loc[\"b\"])\n",
    "print(s.iloc[1])"
   ]
  },
  {
   "cell_type": "code",
   "execution_count": 6,
   "id": "302c8337",
   "metadata": {},
   "outputs": [
    {
     "name": "stdout",
     "output_type": "stream",
     "text": [
      "a   10\n",
      "b   30\n",
      "Name: sales, dtype: int\n"
     ]
    }
   ],
   "source": [
    "print(s.loc[[\"a\", \"b\"]])"
   ]
  },
  {
   "cell_type": "code",
   "execution_count": 7,
   "id": "a6faa048",
   "metadata": {},
   "outputs": [
    {
     "name": "stdout",
     "output_type": "stream",
     "text": [
      "a   10\n",
      "b   20\n",
      "Name: sales, dtype: int\n"
     ]
    }
   ],
   "source": [
    "print(s.iloc[0:2])"
   ]
  },
  {
   "cell_type": "code",
   "execution_count": 2,
   "id": "69df8d2b",
   "metadata": {},
   "outputs": [
    {
     "data": {
      "text/html": [
       "<table style='border-collapse: collapse;'><tr><td style=''>0</td><td style=''>1</td></tr><tr><td style=''>1</td><td style=''>2</td></tr><tr><td style=''>2</td><td style=''>3</td></tr><tr><td style=''>3</td><td style=''>4</td></tr><tr><td colspan='2' style='font-style: bold; font-size:1.2rem;'>Name: , dtype: int</td></tr></table>"
      ],
      "text/plain": [
       "0   1\n",
       "1   2\n",
       "2   3\n",
       "3   4\n",
       "Name: , dtype: int"
      ]
     },
     "execution_count": 2,
     "metadata": {},
     "output_type": "execute_result"
    }
   ],
   "source": [
    "s1 = Atrax.Series([1,2,3,4])\n",
    "s1"
   ]
  },
  {
   "cell_type": "markdown",
   "id": "1fda4a1f",
   "metadata": {},
   "source": [
    "### DataSet"
   ]
  },
  {
   "cell_type": "code",
   "execution_count": null,
   "id": "8fb24c35",
   "metadata": {},
   "outputs": [],
   "source": [
    "ds = Atrax.DataSet([\n",
    "    {'name': 'candy', 'qty': 2, 'price': 3.5, 'dept': 'grocery'},\n",
    "    {'name': 'food', 'qty': 5, 'price': 4.0, 'dept': 'grocery'},\n",
    "    {'name': 'drinks', 'qty': 1, 'price': 10.0, 'dept': 'soft drinks'}\n",
    "])"
   ]
  },
  {
   "cell_type": "markdown",
   "id": "1b72bdc7",
   "metadata": {},
   "source": [
    "#### helpers"
   ]
  },
  {
   "cell_type": "code",
   "execution_count": 3,
   "id": "ade01d80",
   "metadata": {},
   "outputs": [
    {
     "name": "stdout",
     "output_type": "stream",
     "text": [
      "<class 'atrax.Atrax'>\n",
      "Data columns (total 2):\n",
      "  qty             Non-Null Count: 3     Dtype: int\n",
      "  price           Non-Null Count: 3     Dtype: float\n",
      "dtypes: 2\n",
      "Memory usage: 48 bytes (est.)\n"
     ]
    }
   ],
   "source": [
    "ds.info()"
   ]
  },
  {
   "cell_type": "code",
   "execution_count": 4,
   "id": "6fa29126",
   "metadata": {},
   "outputs": [
    {
     "data": {
      "text/html": [
       "<table style='border-collapse: collapse;'><thead><tr><th>stat</th><th>qty</th><th>price</th></tr></thead><tbody><tr><td>mean</td><td>2.67</td><td>5.83</td></tr><tr><td>std</td><td>2.08</td><td>3.62</td></tr><tr><td>min</td><td>1</td><td>3.5</td></tr><tr><td>Q1</td><td>1</td><td>3.5</td></tr><tr><td>median</td><td>2</td><td>4.0</td></tr><tr><td>Q3</td><td>5</td><td>10.0</td></tr><tr><td>max</td><td>5</td><td>10.0</td></tr><tr><td>count</td><td>3</td><td>3</td></tr></tbody></table>"
      ],
      "text/plain": [
       "stat, qty, price\n",
       "mean, 2.67, 5.83\n",
       "std, 2.08, 3.62\n",
       "min, 1, 3.5\n",
       "Q1, 1, 3.5\n",
       "median, 2, 4.0\n",
       "Q3, 5, 10.0\n",
       "max, 5, 10.0\n",
       "count, 3, 3"
      ]
     },
     "execution_count": 4,
     "metadata": {},
     "output_type": "execute_result"
    }
   ],
   "source": [
    "ds.describe()"
   ]
  },
  {
   "cell_type": "code",
   "execution_count": 6,
   "id": "04b20c82",
   "metadata": {},
   "outputs": [
    {
     "data": {
      "text/html": [
       "<table style='border-collapse: collapse;'><thead><tr><th>qty</th><th>price</th></tr></thead><tbody><tr><td>2</td><td>3.5</td></tr><tr><td>5</td><td>4.0</td></tr><tr><td>1</td><td>10.0</td></tr></tbody></table>"
      ],
      "text/plain": [
       "qty, price\n",
       "2, 3.5\n",
       "5, 4.0\n",
       "1, 10.0"
      ]
     },
     "execution_count": 6,
     "metadata": {},
     "output_type": "execute_result"
    }
   ],
   "source": [
    "ds.head()"
   ]
  },
  {
   "cell_type": "code",
   "execution_count": 8,
   "id": "52d108a1",
   "metadata": {},
   "outputs": [
    {
     "data": {
      "text/plain": [
       "(3, 2)"
      ]
     },
     "execution_count": 8,
     "metadata": {},
     "output_type": "execute_result"
    }
   ],
   "source": [
    "ds.shape()"
   ]
  },
  {
   "cell_type": "markdown",
   "id": "f8162f58",
   "metadata": {},
   "source": [
    "#### apply"
   ]
  },
  {
   "cell_type": "code",
   "execution_count": 16,
   "id": "d72e5048",
   "metadata": {},
   "outputs": [
    {
     "data": {
      "text/html": [
       "<table style='border-collapse: collapse;'><thead><tr><th>name</th><th>qty</th><th>price</th></tr></thead><tbody><tr><td>candy</td><td>2</td><td>3.5</td></tr><tr><td>food</td><td>5</td><td>4.0</td></tr><tr><td>drinks</td><td>1</td><td>10.0</td></tr></tbody></table>"
      ],
      "text/plain": [
       "name, qty, price\n",
       "candy, 2, 3.5\n",
       "food, 5, 4.0\n",
       "drinks, 1, 10.0"
      ]
     },
     "execution_count": 16,
     "metadata": {},
     "output_type": "execute_result"
    }
   ],
   "source": [
    "ds"
   ]
  },
  {
   "cell_type": "code",
   "execution_count": 17,
   "id": "f67c7635",
   "metadata": {},
   "outputs": [
    {
     "data": {
      "text/plain": [
       "[7.0, 20.0, 10.0]"
      ]
     },
     "execution_count": 17,
     "metadata": {},
     "output_type": "execute_result"
    }
   ],
   "source": [
    "total = ds.apply(lambda x: x['qty'] * x['price'])\n",
    "total\n"
   ]
  },
  {
   "cell_type": "code",
   "execution_count": 19,
   "id": "e7cd361c",
   "metadata": {},
   "outputs": [
    {
     "data": {
      "text/html": [
       "<table style='border-collapse: collapse;'><thead><tr><th>item</th><th>total</th></tr></thead><tbody><tr><td>candy</td><td>7.0</td></tr><tr><td>food</td><td>20.0</td></tr><tr><td>drinks</td><td>10.0</td></tr></tbody></table>"
      ],
      "text/plain": [
       "item, total\n",
       "candy, 7.0\n",
       "food, 20.0\n",
       "drinks, 10.0"
      ]
     },
     "execution_count": 19,
     "metadata": {},
     "output_type": "execute_result"
    }
   ],
   "source": [
    "# create a new dataset\n",
    "new_ds = ds.apply(lambda row: {\n",
    "    'item': row['name'],\n",
    "    'total': row['qty'] * row['price']\n",
    "})\n",
    "new_ds"
   ]
  },
  {
   "cell_type": "markdown",
   "id": "df947170",
   "metadata": {},
   "source": [
    "#### groupby"
   ]
  },
  {
   "cell_type": "code",
   "execution_count": null,
   "id": "aa3ba196",
   "metadata": {},
   "outputs": [],
   "source": []
  },
  {
   "cell_type": "markdown",
   "id": "d20c194b",
   "metadata": {},
   "source": [
    "#### basics"
   ]
  },
  {
   "cell_type": "code",
   "execution_count": 4,
   "id": "8897184b",
   "metadata": {},
   "outputs": [],
   "source": [
    "ds['total'] = ds['qty'] * ds['price']"
   ]
  },
  {
   "cell_type": "code",
   "execution_count": 5,
   "id": "6b1e9519",
   "metadata": {},
   "outputs": [
    {
     "data": {
      "text/html": [
       "<table style='border-collapse: collapse;'><tr><td style=''>0</td><td style=''>False</td></tr><tr><td style=''>1</td><td style=''>True</td></tr><tr><td style=''>2</td><td style=''>False</td></tr><tr><td colspan='2' style='font-style: bold; font-size:1.1rem;'>Name: (qty > 2), dtype: int</td></tr></table>"
      ],
      "text/plain": [
       "0   False\n",
       "1   True\n",
       "2   False\n",
       "Name: (qty > 2), dtype: int"
      ]
     },
     "execution_count": 5,
     "metadata": {},
     "output_type": "execute_result"
    }
   ],
   "source": [
    "ds['qty'] > 2"
   ]
  },
  {
   "cell_type": "code",
   "execution_count": 6,
   "id": "d8a513f6",
   "metadata": {},
   "outputs": [
    {
     "data": {
      "text/html": [
       "<table style='border-collapse: collapse;'><thead><tr><th>qty</th><th>price</th><th>total</th></tr></thead><tbody><tr><td>5</td><td>4.0</td><td>20.0</td></tr></tbody></table>"
      ],
      "text/plain": [
       "qty, price, total\n",
       "5, 4.0, 20.0"
      ]
     },
     "execution_count": 6,
     "metadata": {},
     "output_type": "execute_result"
    }
   ],
   "source": [
    "ds[ds['qty'] > 2]"
   ]
  }
 ],
 "metadata": {
  "kernelspec": {
   "display_name": "env",
   "language": "python",
   "name": "python3"
  },
  "language_info": {
   "codemirror_mode": {
    "name": "ipython",
    "version": 3
   },
   "file_extension": ".py",
   "mimetype": "text/x-python",
   "name": "python",
   "nbconvert_exporter": "python",
   "pygments_lexer": "ipython3",
   "version": "3.12.10"
  }
 },
 "nbformat": 4,
 "nbformat_minor": 5
}
