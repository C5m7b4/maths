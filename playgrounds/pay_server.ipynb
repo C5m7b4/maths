{
 "cells": [
  {
   "cell_type": "code",
   "execution_count": 1,
   "id": "74fd6d30",
   "metadata": {},
   "outputs": [],
   "source": [
    "import pandas as pd"
   ]
  },
  {
   "cell_type": "code",
   "execution_count": 5,
   "id": "21b2aad8",
   "metadata": {},
   "outputs": [],
   "source": [
    "ds = pd.read_csv('../data/pay_server.csv')"
   ]
  },
  {
   "cell_type": "code",
   "execution_count": 6,
   "id": "5a89c663",
   "metadata": {},
   "outputs": [
    {
     "data": {
      "text/html": [
       "<div>\n",
       "<style scoped>\n",
       "    .dataframe tbody tr th:only-of-type {\n",
       "        vertical-align: middle;\n",
       "    }\n",
       "\n",
       "    .dataframe tbody tr th {\n",
       "        vertical-align: top;\n",
       "    }\n",
       "\n",
       "    .dataframe thead th {\n",
       "        text-align: right;\n",
       "    }\n",
       "</style>\n",
       "<table border=\"1\" class=\"dataframe\">\n",
       "  <thead>\n",
       "    <tr style=\"text-align: right;\">\n",
       "      <th></th>\n",
       "      <th>F254</th>\n",
       "      <th>F1056</th>\n",
       "      <th>F1057</th>\n",
       "      <th>F1148</th>\n",
       "      <th>F1032</th>\n",
       "      <th>F1034</th>\n",
       "      <th>F1101</th>\n",
       "      <th>F64</th>\n",
       "      <th>F65</th>\n",
       "      <th>F67</th>\n",
       "      <th>F253</th>\n",
       "      <th>F1036</th>\n",
       "      <th>F1079</th>\n",
       "      <th>F1100</th>\n",
       "      <th>F1765</th>\n",
       "      <th>expire_date</th>\n",
       "      <th>isexpired</th>\n",
       "      <th>Unnamed: 17</th>\n",
       "      <th>Unnamed: 18</th>\n",
       "    </tr>\n",
       "  </thead>\n",
       "  <tbody>\n",
       "    <tr>\n",
       "      <th>0</th>\n",
       "      <td>9/29/2024</td>\n",
       "      <td>450</td>\n",
       "      <td>2</td>\n",
       "      <td>44000351300</td>\n",
       "      <td>200051</td>\n",
       "      <td>7701</td>\n",
       "      <td>0</td>\n",
       "      <td>15</td>\n",
       "      <td>0</td>\n",
       "      <td>0</td>\n",
       "      <td>32:46.1</td>\n",
       "      <td>153135</td>\n",
       "      <td>4058176625</td>\n",
       "      <td>0.0</td>\n",
       "      <td>NaN</td>\n",
       "      <td>NaN</td>\n",
       "      <td>NaN</td>\n",
       "      <td>NaN</td>\n",
       "      <td>NaN</td>\n",
       "    </tr>\n",
       "    <tr>\n",
       "      <th>1</th>\n",
       "      <td>10/20/2024</td>\n",
       "      <td>450</td>\n",
       "      <td>23</td>\n",
       "      <td>44000351300</td>\n",
       "      <td>172570</td>\n",
       "      <td>7701</td>\n",
       "      <td>0</td>\n",
       "      <td>17</td>\n",
       "      <td>0</td>\n",
       "      <td>0</td>\n",
       "      <td>58:33.4</td>\n",
       "      <td>125617</td>\n",
       "      <td>4069616481</td>\n",
       "      <td>0.0</td>\n",
       "      <td>NaN</td>\n",
       "      <td>NaN</td>\n",
       "      <td>NaN</td>\n",
       "      <td>NaN</td>\n",
       "      <td>NaN</td>\n",
       "    </tr>\n",
       "    <tr>\n",
       "      <th>2</th>\n",
       "      <td>10/31/2024</td>\n",
       "      <td>999</td>\n",
       "      <td>901</td>\n",
       "      <td>44000351300</td>\n",
       "      <td>0</td>\n",
       "      <td>7701</td>\n",
       "      <td>0</td>\n",
       "      <td>-15</td>\n",
       "      <td>0</td>\n",
       "      <td>0</td>\n",
       "      <td>04:52.6</td>\n",
       "      <td>0</td>\n",
       "      <td>expired</td>\n",
       "      <td>NaN</td>\n",
       "      <td>NaN</td>\n",
       "      <td>NaN</td>\n",
       "      <td>NaN</td>\n",
       "      <td>NaN</td>\n",
       "      <td>NaN</td>\n",
       "    </tr>\n",
       "    <tr>\n",
       "      <th>3</th>\n",
       "      <td>11/30/2024</td>\n",
       "      <td>999</td>\n",
       "      <td>901</td>\n",
       "      <td>44000351300</td>\n",
       "      <td>0</td>\n",
       "      <td>7701</td>\n",
       "      <td>0</td>\n",
       "      <td>-17</td>\n",
       "      <td>0</td>\n",
       "      <td>0</td>\n",
       "      <td>00:46.5</td>\n",
       "      <td>0</td>\n",
       "      <td>expired</td>\n",
       "      <td>NaN</td>\n",
       "      <td>NaN</td>\n",
       "      <td>NaN</td>\n",
       "      <td>NaN</td>\n",
       "      <td>NaN</td>\n",
       "      <td>NaN</td>\n",
       "    </tr>\n",
       "    <tr>\n",
       "      <th>4</th>\n",
       "      <td>12/3/2024</td>\n",
       "      <td>450</td>\n",
       "      <td>10</td>\n",
       "      <td>44000351300</td>\n",
       "      <td>244958</td>\n",
       "      <td>7701</td>\n",
       "      <td>0</td>\n",
       "      <td>34</td>\n",
       "      <td>0</td>\n",
       "      <td>0</td>\n",
       "      <td>02:41.7</td>\n",
       "      <td>135924</td>\n",
       "      <td>4054101473</td>\n",
       "      <td>0.0</td>\n",
       "      <td>NaN</td>\n",
       "      <td>NaN</td>\n",
       "      <td>NaN</td>\n",
       "      <td>NaN</td>\n",
       "      <td>NaN</td>\n",
       "    </tr>\n",
       "  </tbody>\n",
       "</table>\n",
       "</div>"
      ],
      "text/plain": [
       "         F254  F1056  F1057        F1148   F1032  F1034  F1101  F64  F65  F67  \\\n",
       "0   9/29/2024    450      2  44000351300  200051   7701      0   15    0    0   \n",
       "1  10/20/2024    450     23  44000351300  172570   7701      0   17    0    0   \n",
       "2  10/31/2024    999    901  44000351300       0   7701      0  -15    0    0   \n",
       "3  11/30/2024    999    901  44000351300       0   7701      0  -17    0    0   \n",
       "4   12/3/2024    450     10  44000351300  244958   7701      0   34    0    0   \n",
       "\n",
       "      F253   F1036       F1079  F1100  F1765  expire_date  isexpired  \\\n",
       "0  32:46.1  153135  4058176625    0.0    NaN          NaN        NaN   \n",
       "1  58:33.4  125617  4069616481    0.0    NaN          NaN        NaN   \n",
       "2  04:52.6       0     expired    NaN    NaN          NaN        NaN   \n",
       "3  00:46.5       0     expired    NaN    NaN          NaN        NaN   \n",
       "4  02:41.7  135924  4054101473    0.0    NaN          NaN        NaN   \n",
       "\n",
       "   Unnamed: 17  Unnamed: 18  \n",
       "0          NaN          NaN  \n",
       "1          NaN          NaN  \n",
       "2          NaN          NaN  \n",
       "3          NaN          NaN  \n",
       "4          NaN          NaN  "
      ]
     },
     "execution_count": 6,
     "metadata": {},
     "output_type": "execute_result"
    }
   ],
   "source": [
    "ds.head()"
   ]
  },
  {
   "cell_type": "code",
   "execution_count": 17,
   "id": "077e9ded",
   "metadata": {},
   "outputs": [
    {
     "data": {
      "text/html": [
       "<div>\n",
       "<style scoped>\n",
       "    .dataframe tbody tr th:only-of-type {\n",
       "        vertical-align: middle;\n",
       "    }\n",
       "\n",
       "    .dataframe tbody tr th {\n",
       "        vertical-align: top;\n",
       "    }\n",
       "\n",
       "    .dataframe thead th {\n",
       "        text-align: right;\n",
       "    }\n",
       "</style>\n",
       "<table border=\"1\" class=\"dataframe\">\n",
       "  <thead>\n",
       "    <tr style=\"text-align: right;\">\n",
       "      <th></th>\n",
       "      <th>F254</th>\n",
       "      <th>F1056</th>\n",
       "      <th>F1057</th>\n",
       "      <th>F1148</th>\n",
       "      <th>F1032</th>\n",
       "      <th>F1034</th>\n",
       "      <th>F1101</th>\n",
       "      <th>F64</th>\n",
       "      <th>F65</th>\n",
       "      <th>F67</th>\n",
       "      <th>F253</th>\n",
       "      <th>F1036</th>\n",
       "      <th>F1079</th>\n",
       "      <th>F1100</th>\n",
       "      <th>F1765</th>\n",
       "      <th>expire_date</th>\n",
       "      <th>isexpired</th>\n",
       "      <th>Unnamed: 17</th>\n",
       "      <th>Unnamed: 18</th>\n",
       "    </tr>\n",
       "  </thead>\n",
       "  <tbody>\n",
       "    <tr>\n",
       "      <th>42</th>\n",
       "      <td>5/31/2025</td>\n",
       "      <td>999</td>\n",
       "      <td>901</td>\n",
       "      <td>44000351300</td>\n",
       "      <td>0</td>\n",
       "      <td>7701</td>\n",
       "      <td>0</td>\n",
       "      <td>-11</td>\n",
       "      <td>0</td>\n",
       "      <td>0</td>\n",
       "      <td>00:03.4</td>\n",
       "      <td>0</td>\n",
       "      <td>expired</td>\n",
       "      <td>NaN</td>\n",
       "      <td>NaN</td>\n",
       "      <td>NaN</td>\n",
       "      <td>NaN</td>\n",
       "      <td>NaN</td>\n",
       "      <td>723.0</td>\n",
       "    </tr>\n",
       "    <tr>\n",
       "      <th>43</th>\n",
       "      <td>6/1/2025</td>\n",
       "      <td>450</td>\n",
       "      <td>10</td>\n",
       "      <td>44000351300</td>\n",
       "      <td>265137</td>\n",
       "      <td>7701</td>\n",
       "      <td>0</td>\n",
       "      <td>13</td>\n",
       "      <td>0</td>\n",
       "      <td>0</td>\n",
       "      <td>22:47.4</td>\n",
       "      <td>152008</td>\n",
       "      <td>4052090641</td>\n",
       "      <td>0.0</td>\n",
       "      <td>NaN</td>\n",
       "      <td>NaN</td>\n",
       "      <td>NaN</td>\n",
       "      <td>NaN</td>\n",
       "      <td>NaN</td>\n",
       "    </tr>\n",
       "    <tr>\n",
       "      <th>44</th>\n",
       "      <td>6/1/2025</td>\n",
       "      <td>450</td>\n",
       "      <td>10</td>\n",
       "      <td>44000351300</td>\n",
       "      <td>265137</td>\n",
       "      <td>7801</td>\n",
       "      <td>0</td>\n",
       "      <td>50</td>\n",
       "      <td>0</td>\n",
       "      <td>0</td>\n",
       "      <td>22:47.5</td>\n",
       "      <td>152008</td>\n",
       "      <td>4052090641</td>\n",
       "      <td>0.0</td>\n",
       "      <td>NaN</td>\n",
       "      <td>NaN</td>\n",
       "      <td>NaN</td>\n",
       "      <td>NaN</td>\n",
       "      <td>NaN</td>\n",
       "    </tr>\n",
       "    <tr>\n",
       "      <th>45</th>\n",
       "      <td>6/4/2025</td>\n",
       "      <td>450</td>\n",
       "      <td>10</td>\n",
       "      <td>44000351300</td>\n",
       "      <td>265482</td>\n",
       "      <td>7701</td>\n",
       "      <td>0</td>\n",
       "      <td>29</td>\n",
       "      <td>0</td>\n",
       "      <td>0</td>\n",
       "      <td>50:56.7</td>\n",
       "      <td>204834</td>\n",
       "      <td>4052072769</td>\n",
       "      <td>0.0</td>\n",
       "      <td>NaN</td>\n",
       "      <td>NaN</td>\n",
       "      <td>NaN</td>\n",
       "      <td>NaN</td>\n",
       "      <td>NaN</td>\n",
       "    </tr>\n",
       "    <tr>\n",
       "      <th>46</th>\n",
       "      <td>6/13/2025</td>\n",
       "      <td>450</td>\n",
       "      <td>10</td>\n",
       "      <td>44000351300</td>\n",
       "      <td>266441</td>\n",
       "      <td>7701</td>\n",
       "      <td>0</td>\n",
       "      <td>35</td>\n",
       "      <td>0</td>\n",
       "      <td>0</td>\n",
       "      <td>29:36.4</td>\n",
       "      <td>132715</td>\n",
       "      <td>4052139121</td>\n",
       "      <td>0.0</td>\n",
       "      <td>NaN</td>\n",
       "      <td>NaN</td>\n",
       "      <td>NaN</td>\n",
       "      <td>NaN</td>\n",
       "      <td>NaN</td>\n",
       "    </tr>\n",
       "  </tbody>\n",
       "</table>\n",
       "</div>"
      ],
      "text/plain": [
       "         F254  F1056  F1057        F1148   F1032  F1034  F1101  F64  F65  F67  \\\n",
       "42  5/31/2025    999    901  44000351300       0   7701      0  -11    0    0   \n",
       "43   6/1/2025    450     10  44000351300  265137   7701      0   13    0    0   \n",
       "44   6/1/2025    450     10  44000351300  265137   7801      0   50    0    0   \n",
       "45   6/4/2025    450     10  44000351300  265482   7701      0   29    0    0   \n",
       "46  6/13/2025    450     10  44000351300  266441   7701      0   35    0    0   \n",
       "\n",
       "       F253   F1036       F1079  F1100  F1765  expire_date  isexpired  \\\n",
       "42  00:03.4       0     expired    NaN    NaN          NaN        NaN   \n",
       "43  22:47.4  152008  4052090641    0.0    NaN          NaN        NaN   \n",
       "44  22:47.5  152008  4052090641    0.0    NaN          NaN        NaN   \n",
       "45  50:56.7  204834  4052072769    0.0    NaN          NaN        NaN   \n",
       "46  29:36.4  132715  4052139121    0.0    NaN          NaN        NaN   \n",
       "\n",
       "    Unnamed: 17  Unnamed: 18  \n",
       "42          NaN        723.0  \n",
       "43          NaN          NaN  \n",
       "44          NaN          NaN  \n",
       "45          NaN          NaN  \n",
       "46          NaN          NaN  "
      ]
     },
     "execution_count": 17,
     "metadata": {},
     "output_type": "execute_result"
    }
   ],
   "source": [
    "ds.tail()"
   ]
  },
  {
   "cell_type": "code",
   "execution_count": 19,
   "id": "14214912",
   "metadata": {},
   "outputs": [
    {
     "data": {
      "text/html": [
       "<div>\n",
       "<style scoped>\n",
       "    .dataframe tbody tr th:only-of-type {\n",
       "        vertical-align: middle;\n",
       "    }\n",
       "\n",
       "    .dataframe tbody tr th {\n",
       "        vertical-align: top;\n",
       "    }\n",
       "\n",
       "    .dataframe thead th {\n",
       "        text-align: right;\n",
       "    }\n",
       "</style>\n",
       "<table border=\"1\" class=\"dataframe\">\n",
       "  <thead>\n",
       "    <tr style=\"text-align: right;\">\n",
       "      <th></th>\n",
       "      <th>F254</th>\n",
       "      <th>F1056</th>\n",
       "      <th>F1057</th>\n",
       "      <th>F1148</th>\n",
       "      <th>F1032</th>\n",
       "      <th>F1034</th>\n",
       "      <th>F1101</th>\n",
       "      <th>F64</th>\n",
       "      <th>F65</th>\n",
       "      <th>F67</th>\n",
       "      <th>F253</th>\n",
       "      <th>F1036</th>\n",
       "      <th>F1079</th>\n",
       "      <th>F1100</th>\n",
       "      <th>F1765</th>\n",
       "      <th>expire_date</th>\n",
       "      <th>isexpired</th>\n",
       "      <th>Unnamed: 17</th>\n",
       "      <th>Unnamed: 18</th>\n",
       "    </tr>\n",
       "  </thead>\n",
       "  <tbody>\n",
       "    <tr>\n",
       "      <th>35</th>\n",
       "      <td>3/16/2025</td>\n",
       "      <td>450</td>\n",
       "      <td>10</td>\n",
       "      <td>44000351300</td>\n",
       "      <td>256586</td>\n",
       "      <td>7801</td>\n",
       "      <td>0</td>\n",
       "      <td>50</td>\n",
       "      <td>0</td>\n",
       "      <td>0</td>\n",
       "      <td>05:23.9</td>\n",
       "      <td>210244</td>\n",
       "      <td>4055300353</td>\n",
       "      <td>0.0</td>\n",
       "      <td>NaN</td>\n",
       "      <td>NaN</td>\n",
       "      <td>NaN</td>\n",
       "      <td>NaN</td>\n",
       "      <td>NaN</td>\n",
       "    </tr>\n",
       "    <tr>\n",
       "      <th>36</th>\n",
       "      <td>4/3/2025</td>\n",
       "      <td>450</td>\n",
       "      <td>10</td>\n",
       "      <td>44000351300</td>\n",
       "      <td>258630</td>\n",
       "      <td>7701</td>\n",
       "      <td>0</td>\n",
       "      <td>25</td>\n",
       "      <td>0</td>\n",
       "      <td>0</td>\n",
       "      <td>06:32.3</td>\n",
       "      <td>210430</td>\n",
       "      <td>4055422049</td>\n",
       "      <td>0.0</td>\n",
       "      <td>NaN</td>\n",
       "      <td>NaN</td>\n",
       "      <td>NaN</td>\n",
       "      <td>NaN</td>\n",
       "      <td>NaN</td>\n",
       "    </tr>\n",
       "    <tr>\n",
       "      <th>37</th>\n",
       "      <td>4/25/2025</td>\n",
       "      <td>450</td>\n",
       "      <td>10</td>\n",
       "      <td>44000351300</td>\n",
       "      <td>261196</td>\n",
       "      <td>7701</td>\n",
       "      <td>0</td>\n",
       "      <td>36</td>\n",
       "      <td>0</td>\n",
       "      <td>0</td>\n",
       "      <td>07:42.5</td>\n",
       "      <td>130457</td>\n",
       "      <td>4051816449</td>\n",
       "      <td>0.0</td>\n",
       "      <td>NaN</td>\n",
       "      <td>NaN</td>\n",
       "      <td>NaN</td>\n",
       "      <td>NaN</td>\n",
       "      <td>NaN</td>\n",
       "    </tr>\n",
       "    <tr>\n",
       "      <th>38</th>\n",
       "      <td>4/25/2025</td>\n",
       "      <td>450</td>\n",
       "      <td>10</td>\n",
       "      <td>44000351300</td>\n",
       "      <td>261196</td>\n",
       "      <td>7801</td>\n",
       "      <td>0</td>\n",
       "      <td>50</td>\n",
       "      <td>0</td>\n",
       "      <td>0</td>\n",
       "      <td>07:42.7</td>\n",
       "      <td>130457</td>\n",
       "      <td>4051816449</td>\n",
       "      <td>0.0</td>\n",
       "      <td>NaN</td>\n",
       "      <td>NaN</td>\n",
       "      <td>NaN</td>\n",
       "      <td>NaN</td>\n",
       "      <td>NaN</td>\n",
       "    </tr>\n",
       "    <tr>\n",
       "      <th>39</th>\n",
       "      <td>5/28/2025</td>\n",
       "      <td>450</td>\n",
       "      <td>10</td>\n",
       "      <td>44000351300</td>\n",
       "      <td>264785</td>\n",
       "      <td>7701</td>\n",
       "      <td>0</td>\n",
       "      <td>38</td>\n",
       "      <td>0</td>\n",
       "      <td>0</td>\n",
       "      <td>11:17.0</td>\n",
       "      <td>210758</td>\n",
       "      <td>4051996721</td>\n",
       "      <td>0.0</td>\n",
       "      <td>NaN</td>\n",
       "      <td>NaN</td>\n",
       "      <td>NaN</td>\n",
       "      <td>NaN</td>\n",
       "      <td>1473.0</td>\n",
       "    </tr>\n",
       "  </tbody>\n",
       "</table>\n",
       "</div>"
      ],
      "text/plain": [
       "         F254  F1056  F1057        F1148   F1032  F1034  F1101  F64  F65  F67  \\\n",
       "35  3/16/2025    450     10  44000351300  256586   7801      0   50    0    0   \n",
       "36   4/3/2025    450     10  44000351300  258630   7701      0   25    0    0   \n",
       "37  4/25/2025    450     10  44000351300  261196   7701      0   36    0    0   \n",
       "38  4/25/2025    450     10  44000351300  261196   7801      0   50    0    0   \n",
       "39  5/28/2025    450     10  44000351300  264785   7701      0   38    0    0   \n",
       "\n",
       "       F253   F1036       F1079  F1100  F1765  expire_date  isexpired  \\\n",
       "35  05:23.9  210244  4055300353    0.0    NaN          NaN        NaN   \n",
       "36  06:32.3  210430  4055422049    0.0    NaN          NaN        NaN   \n",
       "37  07:42.5  130457  4051816449    0.0    NaN          NaN        NaN   \n",
       "38  07:42.7  130457  4051816449    0.0    NaN          NaN        NaN   \n",
       "39  11:17.0  210758  4051996721    0.0    NaN          NaN        NaN   \n",
       "\n",
       "    Unnamed: 17  Unnamed: 18  \n",
       "35          NaN          NaN  \n",
       "36          NaN          NaN  \n",
       "37          NaN          NaN  \n",
       "38          NaN          NaN  \n",
       "39          NaN       1473.0  "
      ]
     },
     "execution_count": 19,
     "metadata": {},
     "output_type": "execute_result"
    }
   ],
   "source": [
    "ds1 = ds[:-7]\n",
    "ds1.tail()"
   ]
  },
  {
   "cell_type": "code",
   "execution_count": 42,
   "id": "ac937606",
   "metadata": {},
   "outputs": [
    {
     "name": "stderr",
     "output_type": "stream",
     "text": [
      "C:\\Users\\c5m7b\\AppData\\Local\\Temp\\ipykernel_50944\\3328609236.py:1: UserWarning: Boolean Series key will be reindexed to match DataFrame index.\n",
      "  accrued = ds1[ds['F1034'] == 7701]['F64'].sum()\n"
     ]
    }
   ],
   "source": [
    "accrued = ds1[ds['F1034'] == 7701]['F64'].sum()"
   ]
  },
  {
   "cell_type": "code",
   "execution_count": 43,
   "id": "aa7f3db1",
   "metadata": {},
   "outputs": [
    {
     "name": "stderr",
     "output_type": "stream",
     "text": [
      "C:\\Users\\c5m7b\\AppData\\Local\\Temp\\ipykernel_50944\\1798582488.py:1: UserWarning: Boolean Series key will be reindexed to match DataFrame index.\n",
      "  redeemed = ds1[ds['F1034'] == 7801]['F64'].sum()\n"
     ]
    }
   ],
   "source": [
    "redeemed = ds1[ds['F1034'] == 7801]['F64'].sum()"
   ]
  },
  {
   "cell_type": "markdown",
   "id": "8294e8e2",
   "metadata": {},
   "source": [
    "## last true point balance"
   ]
  },
  {
   "cell_type": "code",
   "execution_count": 44,
   "id": "85c00e3c",
   "metadata": {},
   "outputs": [
    {
     "data": {
      "text/plain": [
       "np.int64(73)"
      ]
     },
     "execution_count": 44,
     "metadata": {},
     "output_type": "execute_result"
    }
   ],
   "source": [
    "accrued - redeemed"
   ]
  },
  {
   "cell_type": "code",
   "execution_count": 16,
   "id": "ec8660e0",
   "metadata": {},
   "outputs": [
    {
     "data": {
      "text/plain": [
       "array([7701, 7801])"
      ]
     },
     "execution_count": 16,
     "metadata": {},
     "output_type": "execute_result"
    }
   ],
   "source": [
    "ds['F1034'].unique()"
   ]
  },
  {
   "cell_type": "markdown",
   "id": "bdcab891",
   "metadata": {},
   "source": [
    "#### start with 73"
   ]
  },
  {
   "cell_type": "code",
   "execution_count": 27,
   "id": "f0d60a1c",
   "metadata": {},
   "outputs": [
    {
     "data": {
      "text/plain": [
       "89"
      ]
     },
     "execution_count": 27,
     "metadata": {},
     "output_type": "execute_result"
    }
   ],
   "source": [
    "73-11+13-50+29+35"
   ]
  },
  {
   "cell_type": "code",
   "execution_count": 48,
   "id": "1f2b6f29",
   "metadata": {},
   "outputs": [
    {
     "data": {
      "text/plain": [
       "89"
      ]
     },
     "execution_count": 48,
     "metadata": {},
     "output_type": "execute_result"
    }
   ],
   "source": [
    "73+1*(-11)+13-50+29+35"
   ]
  },
  {
   "cell_type": "code",
   "execution_count": null,
   "id": "03c736fb",
   "metadata": {},
   "outputs": [
    {
     "data": {
      "text/plain": [
       "66"
      ]
     },
     "execution_count": 25,
     "metadata": {},
     "output_type": "execute_result"
    }
   ],
   "source": [
    "# go backwards\n",
    "93-35-29+50-13"
   ]
  },
  {
   "cell_type": "markdown",
   "id": "ef2186fa",
   "metadata": {},
   "source": [
    "#### start with 85"
   ]
  },
  {
   "cell_type": "code",
   "execution_count": 36,
   "id": "79db15b2",
   "metadata": {},
   "outputs": [
    {
     "data": {
      "text/plain": [
       "90"
      ]
     },
     "execution_count": 36,
     "metadata": {},
     "output_type": "execute_result"
    }
   ],
   "source": [
    "85+2*(-11)+13-50+29+35"
   ]
  },
  {
   "cell_type": "code",
   "execution_count": 49,
   "id": "8f2c5e6b",
   "metadata": {},
   "outputs": [],
   "source": [
    "dsexp = pd.read_csv('../data/expirations.csv')"
   ]
  },
  {
   "cell_type": "code",
   "execution_count": 50,
   "id": "ce45791a",
   "metadata": {},
   "outputs": [
    {
     "data": {
      "text/html": [
       "<div>\n",
       "<style scoped>\n",
       "    .dataframe tbody tr th:only-of-type {\n",
       "        vertical-align: middle;\n",
       "    }\n",
       "\n",
       "    .dataframe tbody tr th {\n",
       "        vertical-align: top;\n",
       "    }\n",
       "\n",
       "    .dataframe thead th {\n",
       "        text-align: right;\n",
       "    }\n",
       "</style>\n",
       "<table border=\"1\" class=\"dataframe\">\n",
       "  <thead>\n",
       "    <tr style=\"text-align: right;\">\n",
       "      <th></th>\n",
       "      <th>id</th>\n",
       "      <th>earned_points</th>\n",
       "      <th>redeemed_points</th>\n",
       "      <th>expired_points</th>\n",
       "      <th>f1148</th>\n",
       "      <th>f254</th>\n",
       "      <th>post_date</th>\n",
       "    </tr>\n",
       "  </thead>\n",
       "  <tbody>\n",
       "    <tr>\n",
       "      <th>0</th>\n",
       "      <td>986209</td>\n",
       "      <td>15</td>\n",
       "      <td>0</td>\n",
       "      <td>15</td>\n",
       "      <td>44000351300</td>\n",
       "      <td>10/31/2024</td>\n",
       "      <td>00:00.0</td>\n",
       "    </tr>\n",
       "    <tr>\n",
       "      <th>1</th>\n",
       "      <td>1010683</td>\n",
       "      <td>15</td>\n",
       "      <td>0</td>\n",
       "      <td>15</td>\n",
       "      <td>44000351300</td>\n",
       "      <td>11/1/2024</td>\n",
       "      <td>00:00.0</td>\n",
       "    </tr>\n",
       "    <tr>\n",
       "      <th>2</th>\n",
       "      <td>1034565</td>\n",
       "      <td>17</td>\n",
       "      <td>0</td>\n",
       "      <td>17</td>\n",
       "      <td>44000351300</td>\n",
       "      <td>11/30/2024</td>\n",
       "      <td>00:00.0</td>\n",
       "    </tr>\n",
       "    <tr>\n",
       "      <th>3</th>\n",
       "      <td>1085367</td>\n",
       "      <td>97</td>\n",
       "      <td>300</td>\n",
       "      <td>0</td>\n",
       "      <td>44000351300</td>\n",
       "      <td>1/31/2025</td>\n",
       "      <td>00:00.0</td>\n",
       "    </tr>\n",
       "    <tr>\n",
       "      <th>4</th>\n",
       "      <td>1111051</td>\n",
       "      <td>262</td>\n",
       "      <td>450</td>\n",
       "      <td>0</td>\n",
       "      <td>44000351300</td>\n",
       "      <td>2/28/2025</td>\n",
       "      <td>00:00.0</td>\n",
       "    </tr>\n",
       "  </tbody>\n",
       "</table>\n",
       "</div>"
      ],
      "text/plain": [
       "        id  earned_points  redeemed_points  expired_points        f1148  \\\n",
       "0   986209             15                0              15  44000351300   \n",
       "1  1010683             15                0              15  44000351300   \n",
       "2  1034565             17                0              17  44000351300   \n",
       "3  1085367             97              300               0  44000351300   \n",
       "4  1111051            262              450               0  44000351300   \n",
       "\n",
       "         f254 post_date  \n",
       "0  10/31/2024   00:00.0  \n",
       "1   11/1/2024   00:00.0  \n",
       "2  11/30/2024   00:00.0  \n",
       "3   1/31/2025   00:00.0  \n",
       "4   2/28/2025   00:00.0  "
      ]
     },
     "execution_count": 50,
     "metadata": {},
     "output_type": "execute_result"
    }
   ],
   "source": [
    "dsexp.head()"
   ]
  },
  {
   "cell_type": "code",
   "execution_count": null,
   "id": "ed915e8e",
   "metadata": {},
   "outputs": [],
   "source": []
  },
  {
   "cell_type": "code",
   "execution_count": 54,
   "id": "3bfe384d",
   "metadata": {},
   "outputs": [
    {
     "name": "stdout",
     "output_type": "stream",
     "text": [
      "earned: 843, redeemed: 1400, expired: 69\n"
     ]
    },
    {
     "data": {
      "text/plain": [
       "np.int64(-626)"
      ]
     },
     "execution_count": 54,
     "metadata": {},
     "output_type": "execute_result"
    }
   ],
   "source": [
    "earned = dsexp['earned_points'].sum()\n",
    "redeemed = dsexp['redeemed_points'].sum()\n",
    "expired = dsexp['expired_points'].sum()\n",
    "print(f'earned: {earned}, redeemed: {redeemed}, expired: {expired}')\n",
    "\n",
    "earned - redeemed - expired"
   ]
  },
  {
   "cell_type": "code",
   "execution_count": 62,
   "id": "6ffd5e36",
   "metadata": {},
   "outputs": [
    {
     "data": {
      "text/plain": [
       "43"
      ]
     },
     "execution_count": 62,
     "metadata": {},
     "output_type": "execute_result"
    }
   ],
   "source": [
    "50+33+23+23-100+27+85+26-150+26+19+25+34+31-100+12+34-50+11-50+34"
   ]
  },
  {
   "cell_type": "code",
   "execution_count": 63,
   "id": "17e922ab",
   "metadata": {},
   "outputs": [
    {
     "name": "stdout",
     "output_type": "stream",
     "text": [
      "<class 'pandas.core.frame.DataFrame'>\n",
      "RangeIndex: 47 entries, 0 to 46\n",
      "Data columns (total 19 columns):\n",
      " #   Column       Non-Null Count  Dtype  \n",
      "---  ------       --------------  -----  \n",
      " 0   F254         47 non-null     object \n",
      " 1   F1056        47 non-null     int64  \n",
      " 2   F1057        47 non-null     int64  \n",
      " 3   F1148        47 non-null     int64  \n",
      " 4   F1032        47 non-null     int64  \n",
      " 5   F1034        47 non-null     int64  \n",
      " 6   F1101        47 non-null     int64  \n",
      " 7   F64          47 non-null     int64  \n",
      " 8   F65          47 non-null     int64  \n",
      " 9   F67          47 non-null     int64  \n",
      " 10  F253         47 non-null     object \n",
      " 11  F1036        47 non-null     int64  \n",
      " 12  F1079        47 non-null     object \n",
      " 13  F1100        42 non-null     float64\n",
      " 14  F1765        0 non-null      float64\n",
      " 15  expire_date  0 non-null      float64\n",
      " 16  isexpired    0 non-null      float64\n",
      " 17  Unnamed: 17  0 non-null      float64\n",
      " 18  Unnamed: 18  3 non-null      float64\n",
      "dtypes: float64(6), int64(10), object(3)\n",
      "memory usage: 7.1+ KB\n"
     ]
    }
   ],
   "source": [
    "ds.info()"
   ]
  },
  {
   "cell_type": "code",
   "execution_count": 64,
   "id": "3e238ca2",
   "metadata": {},
   "outputs": [],
   "source": [
    "ds['f254'] = pd.to_datetime(ds['F254'])"
   ]
  },
  {
   "cell_type": "code",
   "execution_count": 65,
   "id": "86c9bc7d",
   "metadata": {},
   "outputs": [
    {
     "name": "stdout",
     "output_type": "stream",
     "text": [
      "<class 'pandas.core.frame.DataFrame'>\n",
      "RangeIndex: 47 entries, 0 to 46\n",
      "Data columns (total 20 columns):\n",
      " #   Column       Non-Null Count  Dtype         \n",
      "---  ------       --------------  -----         \n",
      " 0   F254         47 non-null     object        \n",
      " 1   F1056        47 non-null     int64         \n",
      " 2   F1057        47 non-null     int64         \n",
      " 3   F1148        47 non-null     int64         \n",
      " 4   F1032        47 non-null     int64         \n",
      " 5   F1034        47 non-null     int64         \n",
      " 6   F1101        47 non-null     int64         \n",
      " 7   F64          47 non-null     int64         \n",
      " 8   F65          47 non-null     int64         \n",
      " 9   F67          47 non-null     int64         \n",
      " 10  F253         47 non-null     object        \n",
      " 11  F1036        47 non-null     int64         \n",
      " 12  F1079        47 non-null     object        \n",
      " 13  F1100        42 non-null     float64       \n",
      " 14  F1765        0 non-null      float64       \n",
      " 15  expire_date  0 non-null      float64       \n",
      " 16  isexpired    0 non-null      float64       \n",
      " 17  Unnamed: 17  0 non-null      float64       \n",
      " 18  Unnamed: 18  3 non-null      float64       \n",
      " 19  f254         47 non-null     datetime64[ns]\n",
      "dtypes: datetime64[ns](1), float64(6), int64(10), object(3)\n",
      "memory usage: 7.5+ KB\n"
     ]
    }
   ],
   "source": [
    "ds.info()"
   ]
  },
  {
   "cell_type": "code",
   "execution_count": 71,
   "id": "785aea27",
   "metadata": {},
   "outputs": [
    {
     "data": {
      "text/html": [
       "<div>\n",
       "<style scoped>\n",
       "    .dataframe tbody tr th:only-of-type {\n",
       "        vertical-align: middle;\n",
       "    }\n",
       "\n",
       "    .dataframe tbody tr th {\n",
       "        vertical-align: top;\n",
       "    }\n",
       "\n",
       "    .dataframe thead th {\n",
       "        text-align: right;\n",
       "    }\n",
       "</style>\n",
       "<table border=\"1\" class=\"dataframe\">\n",
       "  <thead>\n",
       "    <tr style=\"text-align: right;\">\n",
       "      <th></th>\n",
       "      <th>F254</th>\n",
       "      <th>F1056</th>\n",
       "      <th>F1057</th>\n",
       "      <th>F1148</th>\n",
       "      <th>F1032</th>\n",
       "      <th>F1034</th>\n",
       "      <th>F1101</th>\n",
       "      <th>F64</th>\n",
       "      <th>F65</th>\n",
       "      <th>F67</th>\n",
       "      <th>F253</th>\n",
       "      <th>F1036</th>\n",
       "      <th>F1079</th>\n",
       "      <th>F1100</th>\n",
       "      <th>F1765</th>\n",
       "      <th>expire_date</th>\n",
       "      <th>isexpired</th>\n",
       "      <th>Unnamed: 17</th>\n",
       "      <th>Unnamed: 18</th>\n",
       "      <th>f254</th>\n",
       "    </tr>\n",
       "  </thead>\n",
       "  <tbody>\n",
       "    <tr>\n",
       "      <th>0</th>\n",
       "      <td>9/29/2024</td>\n",
       "      <td>450</td>\n",
       "      <td>2</td>\n",
       "      <td>44000351300</td>\n",
       "      <td>200051</td>\n",
       "      <td>7701</td>\n",
       "      <td>0</td>\n",
       "      <td>15</td>\n",
       "      <td>0</td>\n",
       "      <td>0</td>\n",
       "      <td>32:46.1</td>\n",
       "      <td>153135</td>\n",
       "      <td>4058176625</td>\n",
       "      <td>0.0</td>\n",
       "      <td>NaN</td>\n",
       "      <td>NaN</td>\n",
       "      <td>NaN</td>\n",
       "      <td>NaN</td>\n",
       "      <td>NaN</td>\n",
       "      <td>2024-09-29</td>\n",
       "    </tr>\n",
       "    <tr>\n",
       "      <th>4</th>\n",
       "      <td>12/3/2024</td>\n",
       "      <td>450</td>\n",
       "      <td>10</td>\n",
       "      <td>44000351300</td>\n",
       "      <td>244958</td>\n",
       "      <td>7701</td>\n",
       "      <td>0</td>\n",
       "      <td>34</td>\n",
       "      <td>0</td>\n",
       "      <td>0</td>\n",
       "      <td>02:41.7</td>\n",
       "      <td>135924</td>\n",
       "      <td>4054101473</td>\n",
       "      <td>0.0</td>\n",
       "      <td>NaN</td>\n",
       "      <td>NaN</td>\n",
       "      <td>NaN</td>\n",
       "      <td>NaN</td>\n",
       "      <td>NaN</td>\n",
       "      <td>2024-12-03</td>\n",
       "    </tr>\n",
       "    <tr>\n",
       "      <th>5</th>\n",
       "      <td>12/13/2024</td>\n",
       "      <td>450</td>\n",
       "      <td>10</td>\n",
       "      <td>44000351300</td>\n",
       "      <td>246414</td>\n",
       "      <td>7701</td>\n",
       "      <td>0</td>\n",
       "      <td>30</td>\n",
       "      <td>0</td>\n",
       "      <td>0</td>\n",
       "      <td>17:12.0</td>\n",
       "      <td>131452</td>\n",
       "      <td>4054189857</td>\n",
       "      <td>0.0</td>\n",
       "      <td>NaN</td>\n",
       "      <td>NaN</td>\n",
       "      <td>NaN</td>\n",
       "      <td>NaN</td>\n",
       "      <td>NaN</td>\n",
       "      <td>2024-12-13</td>\n",
       "    </tr>\n",
       "    <tr>\n",
       "      <th>6</th>\n",
       "      <td>12/20/2024</td>\n",
       "      <td>450</td>\n",
       "      <td>10</td>\n",
       "      <td>44000351300</td>\n",
       "      <td>247295</td>\n",
       "      <td>7701</td>\n",
       "      <td>0</td>\n",
       "      <td>33</td>\n",
       "      <td>0</td>\n",
       "      <td>0</td>\n",
       "      <td>42:56.9</td>\n",
       "      <td>93927</td>\n",
       "      <td>4054279729</td>\n",
       "      <td>0.0</td>\n",
       "      <td>NaN</td>\n",
       "      <td>NaN</td>\n",
       "      <td>NaN</td>\n",
       "      <td>NaN</td>\n",
       "      <td>NaN</td>\n",
       "      <td>2024-12-20</td>\n",
       "    </tr>\n",
       "    <tr>\n",
       "      <th>7</th>\n",
       "      <td>12/20/2024</td>\n",
       "      <td>450</td>\n",
       "      <td>10</td>\n",
       "      <td>44000351300</td>\n",
       "      <td>247295</td>\n",
       "      <td>7801</td>\n",
       "      <td>0</td>\n",
       "      <td>50</td>\n",
       "      <td>0</td>\n",
       "      <td>0</td>\n",
       "      <td>42:56.9</td>\n",
       "      <td>93927</td>\n",
       "      <td>4054279729</td>\n",
       "      <td>0.0</td>\n",
       "      <td>NaN</td>\n",
       "      <td>NaN</td>\n",
       "      <td>NaN</td>\n",
       "      <td>NaN</td>\n",
       "      <td>NaN</td>\n",
       "      <td>2024-12-20</td>\n",
       "    </tr>\n",
       "  </tbody>\n",
       "</table>\n",
       "</div>"
      ],
      "text/plain": [
       "         F254  F1056  F1057        F1148   F1032  F1034  F1101  F64  F65  F67  \\\n",
       "0   9/29/2024    450      2  44000351300  200051   7701      0   15    0    0   \n",
       "4   12/3/2024    450     10  44000351300  244958   7701      0   34    0    0   \n",
       "5  12/13/2024    450     10  44000351300  246414   7701      0   30    0    0   \n",
       "6  12/20/2024    450     10  44000351300  247295   7701      0   33    0    0   \n",
       "7  12/20/2024    450     10  44000351300  247295   7801      0   50    0    0   \n",
       "\n",
       "      F253   F1036       F1079  F1100  F1765  expire_date  isexpired  \\\n",
       "0  32:46.1  153135  4058176625    0.0    NaN          NaN        NaN   \n",
       "4  02:41.7  135924  4054101473    0.0    NaN          NaN        NaN   \n",
       "5  17:12.0  131452  4054189857    0.0    NaN          NaN        NaN   \n",
       "6  42:56.9   93927  4054279729    0.0    NaN          NaN        NaN   \n",
       "7  42:56.9   93927  4054279729    0.0    NaN          NaN        NaN   \n",
       "\n",
       "   Unnamed: 17  Unnamed: 18       f254  \n",
       "0          NaN          NaN 2024-09-29  \n",
       "4          NaN          NaN 2024-12-03  \n",
       "5          NaN          NaN 2024-12-13  \n",
       "6          NaN          NaN 2024-12-20  \n",
       "7          NaN          NaN 2024-12-20  "
      ]
     },
     "execution_count": 71,
     "metadata": {},
     "output_type": "execute_result"
    }
   ],
   "source": [
    "mask1 = ds['F254'] >='12/1/2024' \n",
    "mask2 = ds['f254'] <= '1/31/2025'\n",
    "ds[mask1 & mask2]"
   ]
  },
  {
   "cell_type": "code",
   "execution_count": 69,
   "id": "c42dd8e6",
   "metadata": {},
   "outputs": [
    {
     "data": {
      "text/plain": [
       "112"
      ]
     },
     "execution_count": 69,
     "metadata": {},
     "output_type": "execute_result"
    }
   ],
   "source": [
    "162-50"
   ]
  },
  {
   "cell_type": "code",
   "execution_count": null,
   "id": "c3e066b6",
   "metadata": {},
   "outputs": [],
   "source": []
  }
 ],
 "metadata": {
  "kernelspec": {
   "display_name": "env",
   "language": "python",
   "name": "python3"
  },
  "language_info": {
   "codemirror_mode": {
    "name": "ipython",
    "version": 3
   },
   "file_extension": ".py",
   "mimetype": "text/x-python",
   "name": "python",
   "nbconvert_exporter": "python",
   "pygments_lexer": "ipython3",
   "version": "3.12.10"
  }
 },
 "nbformat": 4,
 "nbformat_minor": 5
}
