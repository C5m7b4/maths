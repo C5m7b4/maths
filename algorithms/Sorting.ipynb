{
 "cells": [
  {
   "cell_type": "markdown",
   "id": "e03f82a2",
   "metadata": {},
   "source": [
    "# Sorting"
   ]
  },
  {
   "cell_type": "markdown",
   "id": "ca61b31c",
   "metadata": {},
   "source": [
    "We are going to look at the Selection Sort. It's simple, intuative, and show the mechanics of sorting"
   ]
  },
  {
   "cell_type": "markdown",
   "id": "27db1cc3",
   "metadata": {},
   "source": [
    "🥇 Selection Sort: Teaching-Friendly Sorting Algorithm\n",
    "🧠 Idea:\n",
    "Find the smallest item in the list.\n",
    "\n",
    "Swap it with the first item.\n",
    "\n",
    "Repeat for the rest of the list."
   ]
  },
  {
   "cell_type": "code",
   "execution_count": 12,
   "id": "159f9311",
   "metadata": {},
   "outputs": [],
   "source": [
    "def selection_sort(data):\n",
    "    data = data[:] # make a copy\n",
    "    print(f\"data copy: {data}\")\n",
    "    n = len(data)\n",
    "\n",
    "    for i in range(n):\n",
    "        min_index = i\n",
    "        for j in range(i + 1, n):\n",
    "            if data[j] < data[min_index]:\n",
    "                min_index = j\n",
    "        # swap\n",
    "        data[i], data[min_index] = data[min_index], data[i]\n",
    "        print(f\"data after {i+1} iterations: {data}\")\n",
    "\n",
    "    return data"
   ]
  },
  {
   "cell_type": "code",
   "execution_count": 13,
   "id": "50821e54",
   "metadata": {},
   "outputs": [],
   "source": [
    "nums = [36, 48, 7, 15, 2, 48]"
   ]
  },
  {
   "cell_type": "code",
   "execution_count": 14,
   "id": "e2310f22",
   "metadata": {},
   "outputs": [
    {
     "name": "stdout",
     "output_type": "stream",
     "text": [
      "data copy: [36, 48, 7, 15, 2, 48]\n",
      "data after 1 iterations: [2, 48, 7, 15, 36, 48]\n",
      "data after 2 iterations: [2, 7, 48, 15, 36, 48]\n",
      "data after 3 iterations: [2, 7, 15, 48, 36, 48]\n",
      "data after 4 iterations: [2, 7, 15, 36, 48, 48]\n",
      "data after 5 iterations: [2, 7, 15, 36, 48, 48]\n",
      "data after 6 iterations: [2, 7, 15, 36, 48, 48]\n"
     ]
    }
   ],
   "source": [
    "sorted_nums = selection_sort(nums)"
   ]
  },
  {
   "cell_type": "markdown",
   "id": "c476c0bc",
   "metadata": {},
   "source": [
    "Bonus: We can always just this instead"
   ]
  },
  {
   "cell_type": "code",
   "execution_count": 11,
   "id": "f8d2d1d4",
   "metadata": {},
   "outputs": [
    {
     "name": "stdout",
     "output_type": "stream",
     "text": [
      "[2, 7, 15, 36, 48, 48]\n"
     ]
    }
   ],
   "source": [
    "print(sorted(nums))"
   ]
  },
  {
   "cell_type": "code",
   "execution_count": null,
   "id": "391222fe",
   "metadata": {},
   "outputs": [],
   "source": []
  }
 ],
 "metadata": {
  "kernelspec": {
   "display_name": "env",
   "language": "python",
   "name": "python3"
  },
  "language_info": {
   "codemirror_mode": {
    "name": "ipython",
    "version": 3
   },
   "file_extension": ".py",
   "mimetype": "text/x-python",
   "name": "python",
   "nbconvert_exporter": "python",
   "pygments_lexer": "ipython3",
   "version": "3.12.10"
  }
 },
 "nbformat": 4,
 "nbformat_minor": 5
}
