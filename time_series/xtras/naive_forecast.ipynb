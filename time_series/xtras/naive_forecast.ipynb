{
 "cells": [
  {
   "cell_type": "code",
   "execution_count": 3,
   "id": "6877cf16",
   "metadata": {},
   "outputs": [],
   "source": [
    "import numpy as np\n",
    "import pandas as pd\n",
    "from datetime import datetime, timedelta\n",
    "from sklearn.metrics import mean_absolute_percentage_error, mean_absolute_error, r2_score, mean_squared_error, root_mean_squared_error\n",
    "\n",
    "import os\n",
    "import sys\n",
    "\n",
    "sys.path.append(os.path.abspath('../..'))\n",
    "from utils.metrics import SSE, MSE, RMSE, MAE, MAPE, SMAPE\n",
    "from utils.generators import generate_fake_time_series"
   ]
  },
  {
   "cell_type": "code",
   "execution_count": 4,
   "id": "3d65b39d",
   "metadata": {},
   "outputs": [
    {
     "data": {
      "text/html": [
       "<div>\n",
       "<style scoped>\n",
       "    .dataframe tbody tr th:only-of-type {\n",
       "        vertical-align: middle;\n",
       "    }\n",
       "\n",
       "    .dataframe tbody tr th {\n",
       "        vertical-align: top;\n",
       "    }\n",
       "\n",
       "    .dataframe thead th {\n",
       "        text-align: right;\n",
       "    }\n",
       "</style>\n",
       "<table border=\"1\" class=\"dataframe\">\n",
       "  <thead>\n",
       "    <tr style=\"text-align: right;\">\n",
       "      <th></th>\n",
       "      <th>sale_date</th>\n",
       "      <th>sales</th>\n",
       "    </tr>\n",
       "  </thead>\n",
       "  <tbody>\n",
       "    <tr>\n",
       "      <th>0</th>\n",
       "      <td>2025-03-09</td>\n",
       "      <td>97.73</td>\n",
       "    </tr>\n",
       "    <tr>\n",
       "      <th>1</th>\n",
       "      <td>2025-03-10</td>\n",
       "      <td>68.78</td>\n",
       "    </tr>\n",
       "    <tr>\n",
       "      <th>2</th>\n",
       "      <td>2025-03-11</td>\n",
       "      <td>58.83</td>\n",
       "    </tr>\n",
       "    <tr>\n",
       "      <th>3</th>\n",
       "      <td>2025-03-12</td>\n",
       "      <td>29.64</td>\n",
       "    </tr>\n",
       "    <tr>\n",
       "      <th>4</th>\n",
       "      <td>2025-03-13</td>\n",
       "      <td>93.39</td>\n",
       "    </tr>\n",
       "  </tbody>\n",
       "</table>\n",
       "</div>"
      ],
      "text/plain": [
       "   sale_date  sales\n",
       "0 2025-03-09  97.73\n",
       "1 2025-03-10  68.78\n",
       "2 2025-03-11  58.83\n",
       "3 2025-03-12  29.64\n",
       "4 2025-03-13  93.39"
      ]
     },
     "execution_count": 4,
     "metadata": {},
     "output_type": "execute_result"
    }
   ],
   "source": [
    "ds = generate_fake_time_series(90)\n",
    "ds.head()"
   ]
  },
  {
   "cell_type": "code",
   "execution_count": 5,
   "id": "2337cdec",
   "metadata": {},
   "outputs": [
    {
     "name": "stdout",
     "output_type": "stream",
     "text": [
      "<class 'pandas.core.frame.DataFrame'>\n",
      "RangeIndex: 90 entries, 0 to 89\n",
      "Data columns (total 2 columns):\n",
      " #   Column     Non-Null Count  Dtype         \n",
      "---  ------     --------------  -----         \n",
      " 0   sale_date  90 non-null     datetime64[ns]\n",
      " 1   sales      90 non-null     float64       \n",
      "dtypes: datetime64[ns](1), float64(1)\n",
      "memory usage: 1.5 KB\n"
     ]
    }
   ],
   "source": [
    "ds.info()"
   ]
  },
  {
   "cell_type": "code",
   "execution_count": 6,
   "id": "b16db808",
   "metadata": {},
   "outputs": [],
   "source": [
    "# just shift everytyhing by one day\n",
    "# this is our shitty model for predicting time series\n",
    "ds['prediction'] = ds['sales'].shift(1)"
   ]
  },
  {
   "cell_type": "code",
   "execution_count": 7,
   "id": "f8732ad2",
   "metadata": {},
   "outputs": [
    {
     "data": {
      "text/html": [
       "<div>\n",
       "<style scoped>\n",
       "    .dataframe tbody tr th:only-of-type {\n",
       "        vertical-align: middle;\n",
       "    }\n",
       "\n",
       "    .dataframe tbody tr th {\n",
       "        vertical-align: top;\n",
       "    }\n",
       "\n",
       "    .dataframe thead th {\n",
       "        text-align: right;\n",
       "    }\n",
       "</style>\n",
       "<table border=\"1\" class=\"dataframe\">\n",
       "  <thead>\n",
       "    <tr style=\"text-align: right;\">\n",
       "      <th></th>\n",
       "      <th>sale_date</th>\n",
       "      <th>sales</th>\n",
       "      <th>prediction</th>\n",
       "    </tr>\n",
       "  </thead>\n",
       "  <tbody>\n",
       "    <tr>\n",
       "      <th>0</th>\n",
       "      <td>2025-03-09</td>\n",
       "      <td>97.73</td>\n",
       "      <td>NaN</td>\n",
       "    </tr>\n",
       "    <tr>\n",
       "      <th>1</th>\n",
       "      <td>2025-03-10</td>\n",
       "      <td>68.78</td>\n",
       "      <td>97.73</td>\n",
       "    </tr>\n",
       "    <tr>\n",
       "      <th>2</th>\n",
       "      <td>2025-03-11</td>\n",
       "      <td>58.83</td>\n",
       "      <td>68.78</td>\n",
       "    </tr>\n",
       "    <tr>\n",
       "      <th>3</th>\n",
       "      <td>2025-03-12</td>\n",
       "      <td>29.64</td>\n",
       "      <td>58.83</td>\n",
       "    </tr>\n",
       "    <tr>\n",
       "      <th>4</th>\n",
       "      <td>2025-03-13</td>\n",
       "      <td>93.39</td>\n",
       "      <td>29.64</td>\n",
       "    </tr>\n",
       "  </tbody>\n",
       "</table>\n",
       "</div>"
      ],
      "text/plain": [
       "   sale_date  sales  prediction\n",
       "0 2025-03-09  97.73         NaN\n",
       "1 2025-03-10  68.78       97.73\n",
       "2 2025-03-11  58.83       68.78\n",
       "3 2025-03-12  29.64       58.83\n",
       "4 2025-03-13  93.39       29.64"
      ]
     },
     "execution_count": 7,
     "metadata": {},
     "output_type": "execute_result"
    }
   ],
   "source": [
    "ds.head()"
   ]
  },
  {
   "cell_type": "code",
   "execution_count": 8,
   "id": "355eb5c7",
   "metadata": {},
   "outputs": [],
   "source": [
    "# start at the first row. leave at the zero row because it doesnt have the shifted data\n",
    "y_true = ds.iloc[1:]['sales']\n",
    "y_pred = ds.iloc[1:]['prediction']"
   ]
  },
  {
   "cell_type": "markdown",
   "id": "8fdea734",
   "metadata": {},
   "source": [
    "### metrics"
   ]
  },
  {
   "cell_type": "code",
   "execution_count": 10,
   "id": "fa4f9269",
   "metadata": {},
   "outputs": [],
   "source": [
    "# sum of squared errors\n",
    "#(y_true - y_pred).dot(y_true - y_pred)"
   ]
  },
  {
   "cell_type": "code",
   "execution_count": 9,
   "id": "d00bd3c5",
   "metadata": {},
   "outputs": [
    {
     "data": {
      "text/plain": [
       "137276.1412"
      ]
     },
     "execution_count": 9,
     "metadata": {},
     "output_type": "execute_result"
    }
   ],
   "source": [
    "sse_error = SSE(y_true, y_pred)\n",
    "sse_error"
   ]
  },
  {
   "cell_type": "code",
   "execution_count": 14,
   "id": "f77a4cd3",
   "metadata": {},
   "outputs": [],
   "source": [
    "# mean squared error\n",
    "#mean_squared_error(y_true, y_pred)"
   ]
  },
  {
   "cell_type": "code",
   "execution_count": 10,
   "id": "7b314cf8",
   "metadata": {},
   "outputs": [
    {
     "data": {
      "text/plain": [
       "1542.4285528089888"
      ]
     },
     "execution_count": 10,
     "metadata": {},
     "output_type": "execute_result"
    }
   ],
   "source": [
    "mse_error = MSE(y_true, y_pred)\n",
    "mse_error"
   ]
  },
  {
   "cell_type": "code",
   "execution_count": 12,
   "id": "bcf947bf",
   "metadata": {},
   "outputs": [],
   "source": [
    "# rmse = root_mean_squared_error(y_true, y_pred)\n",
    "# rmse"
   ]
  },
  {
   "cell_type": "code",
   "execution_count": 11,
   "id": "cdb9ad5f",
   "metadata": {},
   "outputs": [
    {
     "data": {
      "text/plain": [
       "39.273764179270984"
      ]
     },
     "execution_count": 11,
     "metadata": {},
     "output_type": "execute_result"
    }
   ],
   "source": [
    "rmse_error = RMSE(y_true, y_pred)\n",
    "rmse_error"
   ]
  },
  {
   "cell_type": "code",
   "execution_count": 16,
   "id": "736323db",
   "metadata": {},
   "outputs": [],
   "source": [
    "# mae = mean_absolute_error(y_true, y_pred)\n",
    "# mae"
   ]
  },
  {
   "cell_type": "code",
   "execution_count": 12,
   "id": "3576b7e1",
   "metadata": {},
   "outputs": [
    {
     "data": {
      "text/plain": [
       "32.76898876404494"
      ]
     },
     "execution_count": 12,
     "metadata": {},
     "output_type": "execute_result"
    }
   ],
   "source": [
    "mae_error = MAE(y_true, y_pred)\n",
    "mae_error"
   ]
  },
  {
   "cell_type": "code",
   "execution_count": 18,
   "id": "842e1a6e",
   "metadata": {},
   "outputs": [],
   "source": [
    "# mape = mean_absolute_percentage_error(y_true, y_pred)\n",
    "# mape"
   ]
  },
  {
   "cell_type": "code",
   "execution_count": 13,
   "id": "4ee03c77",
   "metadata": {},
   "outputs": [
    {
     "data": {
      "text/plain": [
       "2.3107329752182824"
      ]
     },
     "execution_count": 13,
     "metadata": {},
     "output_type": "execute_result"
    }
   ],
   "source": [
    "mape_error = MAPE(y_true, y_pred)\n",
    "mape_error"
   ]
  },
  {
   "cell_type": "code",
   "execution_count": 14,
   "id": "a4bcf3b7",
   "metadata": {},
   "outputs": [
    {
     "data": {
      "text/plain": [
       "0.7562901360345969"
      ]
     },
     "execution_count": 14,
     "metadata": {},
     "output_type": "execute_result"
    }
   ],
   "source": [
    "smape_error = SMAPE(y_true, y_pred)\n",
    "smape_error"
   ]
  },
  {
   "cell_type": "code",
   "execution_count": null,
   "id": "f51c8358",
   "metadata": {},
   "outputs": [],
   "source": []
  }
 ],
 "metadata": {
  "kernelspec": {
   "display_name": "env",
   "language": "python",
   "name": "python3"
  },
  "language_info": {
   "codemirror_mode": {
    "name": "ipython",
    "version": 3
   },
   "file_extension": ".py",
   "mimetype": "text/x-python",
   "name": "python",
   "nbconvert_exporter": "python",
   "pygments_lexer": "ipython3",
   "version": "3.12.10"
  }
 },
 "nbformat": 4,
 "nbformat_minor": 5
}
