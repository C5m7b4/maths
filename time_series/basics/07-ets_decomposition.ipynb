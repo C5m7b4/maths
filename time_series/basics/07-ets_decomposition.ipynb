{
 "cells": [
  {
   "cell_type": "markdown",
   "id": "99c26259",
   "metadata": {},
   "source": [
    "## ETS (Error-trend-Seasonality)"
   ]
  },
  {
   "cell_type": "code",
   "execution_count": null,
   "id": "355c9b29",
   "metadata": {
    "vscode": {
     "languageId": "plaintext"
    }
   },
   "outputs": [],
   "source": []
  }
 ],
 "metadata": {
  "language_info": {
   "name": "python"
  }
 },
 "nbformat": 4,
 "nbformat_minor": 5
}
