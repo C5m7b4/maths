{
 "cells": [
  {
   "cell_type": "markdown",
   "id": "235b3ea6",
   "metadata": {},
   "source": [
    "# Autoregression"
   ]
  },
  {
   "cell_type": "markdown",
   "id": "82393971",
   "metadata": {},
   "source": [
    "[Link to the Video](https://www.youtube.com/watch?v=xDVOwL1fAZI&list=PLKmQjl_R9bYd32uHImJxQSFZU5LPuXfQe&index=15)"
   ]
  },
  {
   "cell_type": "markdown",
   "id": "c4308155",
   "metadata": {},
   "source": [
    "## Intro"
   ]
  },
  {
   "cell_type": "markdown",
   "id": "44b543ab",
   "metadata": {},
   "source": [
    "Forecasting is a wide domain with many models available to simulate your time series. In my previous posts, we covered some basic forecasting models and explored the popular family of exponential smoothing models."
   ]
  },
  {
   "cell_type": "markdown",
   "id": "f231cf15",
   "metadata": {},
   "source": [
    "In this post, we will start our journey into another family of forecasting models beginning with autoregression. We will go over the necessary theory and background needed to forecast with this model and then dive into a tutorial with Python."
   ]
  },
  {
   "cell_type": "markdown",
   "id": "7a6e1b20",
   "metadata": {},
   "source": [
    "## What is Autoregression?"
   ]
  },
  {
   "cell_type": "markdown",
   "id": "e2e25faf",
   "metadata": {},
   "source": [
    "Autoregression is when you forecast a time series using some linear weighted combination of the previous values (lags) of that time series. As we are regressing a target value against itself, it is called auto-regression. Mathematically, we can write autoregression as:"
   ]
  },
  {
   "cell_type": "markdown",
   "id": "d9bfb7ad",
   "metadata": {},
   "source": [
    "$$\n",
    "y_t = c + \\phi_1 y_{t-1} + \\phi_2 y_{t-2} + \\cdots + \\phi_p y_{t-p} + \\epsilon_t\n",
    "$$"
   ]
  },
  {
   "cell_type": "markdown",
   "id": "90c26abd",
   "metadata": {},
   "source": [
    "Where y is the time series we are forecasting at various time steps, ϕ are the fitted coefficients of the lags for the time series, ε is the error term (typically normally distributed) and p is the number of lagged components included in the model, this is also known as the order."
   ]
  },
  {
   "cell_type": "markdown",
   "id": "db212770",
   "metadata": {},
   "source": [
    "A few well known models pop out of this autoregression equation:\n",
    "\n",
    "- If we have no coefficients or they are all zero, then this is just white noise\n",
    "- If we only have ϕ_1 = 1 and the other coefficients are zero, then this is a random walk."
   ]
  },
  {
   "cell_type": "markdown",
   "id": "0e0df469",
   "metadata": {},
   "source": [
    "### Requirements"
   ]
  },
  {
   "cell_type": "markdown",
   "id": "63c236c4",
   "metadata": {},
   "source": [
    "To build an autoregressive model, it is recommended to have a stationary time series. Stationarity means the time series doesn’t exhibit any long term trend or obvious seasonality. The reason we need stationarity it to ensure the statistical properties of the time series is consistent through time, rendering it easier to model (explained in more detail later)."
   ]
  },
  {
   "cell_type": "markdown",
   "id": "0e5fe605",
   "metadata": {},
   "source": [
    "Stationarity can be achieved by stabilising the trend through differencing and stabilising the variance through a Logarithm or Box-Cox transform."
   ]
  },
  {
   "cell_type": "markdown",
   "id": "a722510b",
   "metadata": {},
   "source": [
    "### Estimation"
   ]
  },
  {
   "cell_type": "markdown",
   "id": "929e7ac9",
   "metadata": {},
   "source": [
    "The need for stationarity becomes clearer when we are training the model. Stationary data has constant statistical properties such as mean and variance. Therefore, all the data points belong to the same statistical probability distribution that we can base our model on. Furthermore, the forecasts are treated as random variables and will belong to the same distribution as the training data (lags). It basically guarantees the data in the future will be somewhat like the past."
   ]
  },
  {
   "cell_type": "markdown",
   "id": "18dac385",
   "metadata": {},
   "source": [
    "As the stationary data belongs to some distribution (typically the normal distribution), we often estimate the coefficients and parameters of the autoregressive model using Maximum Likelihood Estimation (MLE). MLE deduces the optimal values of the parameters and coefficients that produce the highest probability of obtaining our time series data. The MLE for normally distributed data, is the same result as carrying ordinary least squares. Therefore, least squares is also frequently used."
   ]
  },
  {
   "cell_type": "markdown",
   "id": "df978e04",
   "metadata": {},
   "source": [
    "### Order Selection"
   ]
  },
  {
   "cell_type": "markdown",
   "id": "a9a30027",
   "metadata": {},
   "source": [
    "Before fitting and estimating the model, we need to know how many lags (the order), p, to include. One way of doing this is through plotting the partial autocorrelation function (PACF) of the time series. This measures how much certain lags directly correlate with each other. Hence, we can deduce which lags are most statistically significant and remove the ones that are not when constructing our model. We will go over how to carry out this process in the Python tutorial later in the article."
   ]
  },
  {
   "cell_type": "markdown",
   "id": "eecf2430",
   "metadata": {},
   "source": [
    "However, another more thorough technique is to simply iterate over all the possible combinations of lag components and choose the model with the best score on the AIC. This is analogous to regular hyperparameter tuning and definitely the more robust method, but is subject to computational constraints of course."
   ]
  },
  {
   "cell_type": "code",
   "execution_count": 1,
   "id": "e7992c3d",
   "metadata": {},
   "outputs": [],
   "source": [
    "# Import packages\n",
    "import plotly.express as px\n",
    "import pandas as pd"
   ]
  },
  {
   "cell_type": "code",
   "execution_count": 2,
   "id": "8fa1649f",
   "metadata": {},
   "outputs": [],
   "source": [
    "# Read in the data\n",
    "data = pd.read_csv('../data/airline.csv')\n",
    "data['Month'] = pd.to_datetime(data['Month'])"
   ]
  },
  {
   "cell_type": "code",
   "execution_count": 3,
   "id": "2f310a66",
   "metadata": {},
   "outputs": [],
   "source": [
    "def plot_passenger_volumes(df: pd.DataFrame,\n",
    "                           y: str) -> None:\n",
    "    \"\"\"General function to plot the passenger data.\"\"\"\n",
    "\n",
    "    fig = px.line(df, x='Month', y=y, labels={'Month': 'Date'})\n",
    "    fig.update_layout(template=\"simple_white\", font=dict(size=18), title_text='Airline Passengers',\n",
    "                      width=650, title_x=0.5, height=400)\n",
    "\n",
    "    return fig.show()"
   ]
  },
  {
   "cell_type": "code",
   "execution_count": 4,
   "id": "d9ea4c73",
   "metadata": {},
   "outputs": [
    {
     "data": {
      "application/vnd.plotly.v1+json": {
       "config": {
        "plotlyServerURL": "https://plot.ly"
       },
       "data": [
        {
         "hovertemplate": "Date=%{x}<br>#Passengers=%{y}<extra></extra>",
         "legendgroup": "",
         "line": {
          "color": "#636efa",
          "dash": "solid"
         },
         "marker": {
          "symbol": "circle"
         },
         "mode": "lines",
         "name": "",
         "orientation": "v",
         "showlegend": false,
         "type": "scatter",
         "x": [
          "1949-01-01T00:00:00.000000000",
          "1949-02-01T00:00:00.000000000",
          "1949-03-01T00:00:00.000000000",
          "1949-04-01T00:00:00.000000000",
          "1949-05-01T00:00:00.000000000",
          "1949-06-01T00:00:00.000000000",
          "1949-07-01T00:00:00.000000000",
          "1949-08-01T00:00:00.000000000",
          "1949-09-01T00:00:00.000000000",
          "1949-10-01T00:00:00.000000000",
          "1949-11-01T00:00:00.000000000",
          "1949-12-01T00:00:00.000000000",
          "1950-01-01T00:00:00.000000000",
          "1950-02-01T00:00:00.000000000",
          "1950-03-01T00:00:00.000000000",
          "1950-04-01T00:00:00.000000000",
          "1950-05-01T00:00:00.000000000",
          "1950-06-01T00:00:00.000000000",
          "1950-07-01T00:00:00.000000000",
          "1950-08-01T00:00:00.000000000",
          "1950-09-01T00:00:00.000000000",
          "1950-10-01T00:00:00.000000000",
          "1950-11-01T00:00:00.000000000",
          "1950-12-01T00:00:00.000000000",
          "1951-01-01T00:00:00.000000000",
          "1951-02-01T00:00:00.000000000",
          "1951-03-01T00:00:00.000000000",
          "1951-04-01T00:00:00.000000000",
          "1951-05-01T00:00:00.000000000",
          "1951-06-01T00:00:00.000000000",
          "1951-07-01T00:00:00.000000000",
          "1951-08-01T00:00:00.000000000",
          "1951-09-01T00:00:00.000000000",
          "1951-10-01T00:00:00.000000000",
          "1951-11-01T00:00:00.000000000",
          "1951-12-01T00:00:00.000000000",
          "1952-01-01T00:00:00.000000000",
          "1952-02-01T00:00:00.000000000",
          "1952-03-01T00:00:00.000000000",
          "1952-04-01T00:00:00.000000000",
          "1952-05-01T00:00:00.000000000",
          "1952-06-01T00:00:00.000000000",
          "1952-07-01T00:00:00.000000000",
          "1952-08-01T00:00:00.000000000",
          "1952-09-01T00:00:00.000000000",
          "1952-10-01T00:00:00.000000000",
          "1952-11-01T00:00:00.000000000",
          "1952-12-01T00:00:00.000000000",
          "1953-01-01T00:00:00.000000000",
          "1953-02-01T00:00:00.000000000",
          "1953-03-01T00:00:00.000000000",
          "1953-04-01T00:00:00.000000000",
          "1953-05-01T00:00:00.000000000",
          "1953-06-01T00:00:00.000000000",
          "1953-07-01T00:00:00.000000000",
          "1953-08-01T00:00:00.000000000",
          "1953-09-01T00:00:00.000000000",
          "1953-10-01T00:00:00.000000000",
          "1953-11-01T00:00:00.000000000",
          "1953-12-01T00:00:00.000000000",
          "1954-01-01T00:00:00.000000000",
          "1954-02-01T00:00:00.000000000",
          "1954-03-01T00:00:00.000000000",
          "1954-04-01T00:00:00.000000000",
          "1954-05-01T00:00:00.000000000",
          "1954-06-01T00:00:00.000000000",
          "1954-07-01T00:00:00.000000000",
          "1954-08-01T00:00:00.000000000",
          "1954-09-01T00:00:00.000000000",
          "1954-10-01T00:00:00.000000000",
          "1954-11-01T00:00:00.000000000",
          "1954-12-01T00:00:00.000000000",
          "1955-01-01T00:00:00.000000000",
          "1955-02-01T00:00:00.000000000",
          "1955-03-01T00:00:00.000000000",
          "1955-04-01T00:00:00.000000000",
          "1955-05-01T00:00:00.000000000",
          "1955-06-01T00:00:00.000000000",
          "1955-07-01T00:00:00.000000000",
          "1955-08-01T00:00:00.000000000",
          "1955-09-01T00:00:00.000000000",
          "1955-10-01T00:00:00.000000000",
          "1955-11-01T00:00:00.000000000",
          "1955-12-01T00:00:00.000000000",
          "1956-01-01T00:00:00.000000000",
          "1956-02-01T00:00:00.000000000",
          "1956-03-01T00:00:00.000000000",
          "1956-04-01T00:00:00.000000000",
          "1956-05-01T00:00:00.000000000",
          "1956-06-01T00:00:00.000000000",
          "1956-07-01T00:00:00.000000000",
          "1956-08-01T00:00:00.000000000",
          "1956-09-01T00:00:00.000000000",
          "1956-10-01T00:00:00.000000000",
          "1956-11-01T00:00:00.000000000",
          "1956-12-01T00:00:00.000000000",
          "1957-01-01T00:00:00.000000000",
          "1957-02-01T00:00:00.000000000",
          "1957-03-01T00:00:00.000000000",
          "1957-04-01T00:00:00.000000000",
          "1957-05-01T00:00:00.000000000",
          "1957-06-01T00:00:00.000000000",
          "1957-07-01T00:00:00.000000000",
          "1957-08-01T00:00:00.000000000",
          "1957-09-01T00:00:00.000000000",
          "1957-10-01T00:00:00.000000000",
          "1957-11-01T00:00:00.000000000",
          "1957-12-01T00:00:00.000000000",
          "1958-01-01T00:00:00.000000000",
          "1958-02-01T00:00:00.000000000",
          "1958-03-01T00:00:00.000000000",
          "1958-04-01T00:00:00.000000000",
          "1958-05-01T00:00:00.000000000",
          "1958-06-01T00:00:00.000000000",
          "1958-07-01T00:00:00.000000000",
          "1958-08-01T00:00:00.000000000",
          "1958-09-01T00:00:00.000000000",
          "1958-10-01T00:00:00.000000000",
          "1958-11-01T00:00:00.000000000",
          "1958-12-01T00:00:00.000000000",
          "1959-01-01T00:00:00.000000000",
          "1959-02-01T00:00:00.000000000",
          "1959-03-01T00:00:00.000000000",
          "1959-04-01T00:00:00.000000000",
          "1959-05-01T00:00:00.000000000",
          "1959-06-01T00:00:00.000000000",
          "1959-07-01T00:00:00.000000000",
          "1959-08-01T00:00:00.000000000",
          "1959-09-01T00:00:00.000000000",
          "1959-10-01T00:00:00.000000000",
          "1959-11-01T00:00:00.000000000",
          "1959-12-01T00:00:00.000000000",
          "1960-01-01T00:00:00.000000000",
          "1960-02-01T00:00:00.000000000",
          "1960-03-01T00:00:00.000000000",
          "1960-04-01T00:00:00.000000000",
          "1960-05-01T00:00:00.000000000",
          "1960-06-01T00:00:00.000000000",
          "1960-07-01T00:00:00.000000000",
          "1960-08-01T00:00:00.000000000",
          "1960-09-01T00:00:00.000000000",
          "1960-10-01T00:00:00.000000000",
          "1960-11-01T00:00:00.000000000",
          "1960-12-01T00:00:00.000000000"
         ],
         "xaxis": "x",
         "y": {
          "bdata": "cAB2AIQAgQB5AIcAlACUAIgAdwBoAHYAcwB+AI0AhwB9AJUAqgCqAJ4AhQByAIwAkQCWALIAowCsALIAxwDHALgAogCSAKYAqwC0AMEAtQC3ANoA5gDyANEAvwCsAMIAxADEAOwA6wDlAPMACAEQAe0A0wC0AMkAzAC8AOsA4wDqAAgBLgElAQMB5QDLAOUA8gDpAAsBDQEOATsBbAFbATgBEgHtABYBHAEVAT0BOQE+AXYBnQGVAWMBMgEPATIBOwEtAWQBXAFjAaYB0QHTAZQBWwExAVABVAE+AWoBXAFrAbMB6wH5AZQBZwE2AVEBaAFWAZYBjAGkAdgBJAIvAs8BlwFqAZUBoQGHAaMBzQHYARcCbgJeAvwBzQGGAbAB",
          "dtype": "i2"
         },
         "yaxis": "y"
        }
       ],
       "layout": {
        "font": {
         "size": 18
        },
        "height": 400,
        "legend": {
         "tracegroupgap": 0
        },
        "margin": {
         "t": 60
        },
        "template": {
         "data": {
          "bar": [
           {
            "error_x": {
             "color": "rgb(36,36,36)"
            },
            "error_y": {
             "color": "rgb(36,36,36)"
            },
            "marker": {
             "line": {
              "color": "white",
              "width": 0.5
             },
             "pattern": {
              "fillmode": "overlay",
              "size": 10,
              "solidity": 0.2
             }
            },
            "type": "bar"
           }
          ],
          "barpolar": [
           {
            "marker": {
             "line": {
              "color": "white",
              "width": 0.5
             },
             "pattern": {
              "fillmode": "overlay",
              "size": 10,
              "solidity": 0.2
             }
            },
            "type": "barpolar"
           }
          ],
          "carpet": [
           {
            "aaxis": {
             "endlinecolor": "rgb(36,36,36)",
             "gridcolor": "white",
             "linecolor": "white",
             "minorgridcolor": "white",
             "startlinecolor": "rgb(36,36,36)"
            },
            "baxis": {
             "endlinecolor": "rgb(36,36,36)",
             "gridcolor": "white",
             "linecolor": "white",
             "minorgridcolor": "white",
             "startlinecolor": "rgb(36,36,36)"
            },
            "type": "carpet"
           }
          ],
          "choropleth": [
           {
            "colorbar": {
             "outlinewidth": 1,
             "tickcolor": "rgb(36,36,36)",
             "ticks": "outside"
            },
            "type": "choropleth"
           }
          ],
          "contour": [
           {
            "colorbar": {
             "outlinewidth": 1,
             "tickcolor": "rgb(36,36,36)",
             "ticks": "outside"
            },
            "colorscale": [
             [
              0,
              "#440154"
             ],
             [
              0.1111111111111111,
              "#482878"
             ],
             [
              0.2222222222222222,
              "#3e4989"
             ],
             [
              0.3333333333333333,
              "#31688e"
             ],
             [
              0.4444444444444444,
              "#26828e"
             ],
             [
              0.5555555555555556,
              "#1f9e89"
             ],
             [
              0.6666666666666666,
              "#35b779"
             ],
             [
              0.7777777777777778,
              "#6ece58"
             ],
             [
              0.8888888888888888,
              "#b5de2b"
             ],
             [
              1,
              "#fde725"
             ]
            ],
            "type": "contour"
           }
          ],
          "contourcarpet": [
           {
            "colorbar": {
             "outlinewidth": 1,
             "tickcolor": "rgb(36,36,36)",
             "ticks": "outside"
            },
            "type": "contourcarpet"
           }
          ],
          "heatmap": [
           {
            "colorbar": {
             "outlinewidth": 1,
             "tickcolor": "rgb(36,36,36)",
             "ticks": "outside"
            },
            "colorscale": [
             [
              0,
              "#440154"
             ],
             [
              0.1111111111111111,
              "#482878"
             ],
             [
              0.2222222222222222,
              "#3e4989"
             ],
             [
              0.3333333333333333,
              "#31688e"
             ],
             [
              0.4444444444444444,
              "#26828e"
             ],
             [
              0.5555555555555556,
              "#1f9e89"
             ],
             [
              0.6666666666666666,
              "#35b779"
             ],
             [
              0.7777777777777778,
              "#6ece58"
             ],
             [
              0.8888888888888888,
              "#b5de2b"
             ],
             [
              1,
              "#fde725"
             ]
            ],
            "type": "heatmap"
           }
          ],
          "histogram": [
           {
            "marker": {
             "line": {
              "color": "white",
              "width": 0.6
             }
            },
            "type": "histogram"
           }
          ],
          "histogram2d": [
           {
            "colorbar": {
             "outlinewidth": 1,
             "tickcolor": "rgb(36,36,36)",
             "ticks": "outside"
            },
            "colorscale": [
             [
              0,
              "#440154"
             ],
             [
              0.1111111111111111,
              "#482878"
             ],
             [
              0.2222222222222222,
              "#3e4989"
             ],
             [
              0.3333333333333333,
              "#31688e"
             ],
             [
              0.4444444444444444,
              "#26828e"
             ],
             [
              0.5555555555555556,
              "#1f9e89"
             ],
             [
              0.6666666666666666,
              "#35b779"
             ],
             [
              0.7777777777777778,
              "#6ece58"
             ],
             [
              0.8888888888888888,
              "#b5de2b"
             ],
             [
              1,
              "#fde725"
             ]
            ],
            "type": "histogram2d"
           }
          ],
          "histogram2dcontour": [
           {
            "colorbar": {
             "outlinewidth": 1,
             "tickcolor": "rgb(36,36,36)",
             "ticks": "outside"
            },
            "colorscale": [
             [
              0,
              "#440154"
             ],
             [
              0.1111111111111111,
              "#482878"
             ],
             [
              0.2222222222222222,
              "#3e4989"
             ],
             [
              0.3333333333333333,
              "#31688e"
             ],
             [
              0.4444444444444444,
              "#26828e"
             ],
             [
              0.5555555555555556,
              "#1f9e89"
             ],
             [
              0.6666666666666666,
              "#35b779"
             ],
             [
              0.7777777777777778,
              "#6ece58"
             ],
             [
              0.8888888888888888,
              "#b5de2b"
             ],
             [
              1,
              "#fde725"
             ]
            ],
            "type": "histogram2dcontour"
           }
          ],
          "mesh3d": [
           {
            "colorbar": {
             "outlinewidth": 1,
             "tickcolor": "rgb(36,36,36)",
             "ticks": "outside"
            },
            "type": "mesh3d"
           }
          ],
          "parcoords": [
           {
            "line": {
             "colorbar": {
              "outlinewidth": 1,
              "tickcolor": "rgb(36,36,36)",
              "ticks": "outside"
             }
            },
            "type": "parcoords"
           }
          ],
          "pie": [
           {
            "automargin": true,
            "type": "pie"
           }
          ],
          "scatter": [
           {
            "fillpattern": {
             "fillmode": "overlay",
             "size": 10,
             "solidity": 0.2
            },
            "type": "scatter"
           }
          ],
          "scatter3d": [
           {
            "line": {
             "colorbar": {
              "outlinewidth": 1,
              "tickcolor": "rgb(36,36,36)",
              "ticks": "outside"
             }
            },
            "marker": {
             "colorbar": {
              "outlinewidth": 1,
              "tickcolor": "rgb(36,36,36)",
              "ticks": "outside"
             }
            },
            "type": "scatter3d"
           }
          ],
          "scattercarpet": [
           {
            "marker": {
             "colorbar": {
              "outlinewidth": 1,
              "tickcolor": "rgb(36,36,36)",
              "ticks": "outside"
             }
            },
            "type": "scattercarpet"
           }
          ],
          "scattergeo": [
           {
            "marker": {
             "colorbar": {
              "outlinewidth": 1,
              "tickcolor": "rgb(36,36,36)",
              "ticks": "outside"
             }
            },
            "type": "scattergeo"
           }
          ],
          "scattergl": [
           {
            "marker": {
             "colorbar": {
              "outlinewidth": 1,
              "tickcolor": "rgb(36,36,36)",
              "ticks": "outside"
             }
            },
            "type": "scattergl"
           }
          ],
          "scattermap": [
           {
            "marker": {
             "colorbar": {
              "outlinewidth": 1,
              "tickcolor": "rgb(36,36,36)",
              "ticks": "outside"
             }
            },
            "type": "scattermap"
           }
          ],
          "scattermapbox": [
           {
            "marker": {
             "colorbar": {
              "outlinewidth": 1,
              "tickcolor": "rgb(36,36,36)",
              "ticks": "outside"
             }
            },
            "type": "scattermapbox"
           }
          ],
          "scatterpolar": [
           {
            "marker": {
             "colorbar": {
              "outlinewidth": 1,
              "tickcolor": "rgb(36,36,36)",
              "ticks": "outside"
             }
            },
            "type": "scatterpolar"
           }
          ],
          "scatterpolargl": [
           {
            "marker": {
             "colorbar": {
              "outlinewidth": 1,
              "tickcolor": "rgb(36,36,36)",
              "ticks": "outside"
             }
            },
            "type": "scatterpolargl"
           }
          ],
          "scatterternary": [
           {
            "marker": {
             "colorbar": {
              "outlinewidth": 1,
              "tickcolor": "rgb(36,36,36)",
              "ticks": "outside"
             }
            },
            "type": "scatterternary"
           }
          ],
          "surface": [
           {
            "colorbar": {
             "outlinewidth": 1,
             "tickcolor": "rgb(36,36,36)",
             "ticks": "outside"
            },
            "colorscale": [
             [
              0,
              "#440154"
             ],
             [
              0.1111111111111111,
              "#482878"
             ],
             [
              0.2222222222222222,
              "#3e4989"
             ],
             [
              0.3333333333333333,
              "#31688e"
             ],
             [
              0.4444444444444444,
              "#26828e"
             ],
             [
              0.5555555555555556,
              "#1f9e89"
             ],
             [
              0.6666666666666666,
              "#35b779"
             ],
             [
              0.7777777777777778,
              "#6ece58"
             ],
             [
              0.8888888888888888,
              "#b5de2b"
             ],
             [
              1,
              "#fde725"
             ]
            ],
            "type": "surface"
           }
          ],
          "table": [
           {
            "cells": {
             "fill": {
              "color": "rgb(237,237,237)"
             },
             "line": {
              "color": "white"
             }
            },
            "header": {
             "fill": {
              "color": "rgb(217,217,217)"
             },
             "line": {
              "color": "white"
             }
            },
            "type": "table"
           }
          ]
         },
         "layout": {
          "annotationdefaults": {
           "arrowhead": 0,
           "arrowwidth": 1
          },
          "autotypenumbers": "strict",
          "coloraxis": {
           "colorbar": {
            "outlinewidth": 1,
            "tickcolor": "rgb(36,36,36)",
            "ticks": "outside"
           }
          },
          "colorscale": {
           "diverging": [
            [
             0,
             "rgb(103,0,31)"
            ],
            [
             0.1,
             "rgb(178,24,43)"
            ],
            [
             0.2,
             "rgb(214,96,77)"
            ],
            [
             0.3,
             "rgb(244,165,130)"
            ],
            [
             0.4,
             "rgb(253,219,199)"
            ],
            [
             0.5,
             "rgb(247,247,247)"
            ],
            [
             0.6,
             "rgb(209,229,240)"
            ],
            [
             0.7,
             "rgb(146,197,222)"
            ],
            [
             0.8,
             "rgb(67,147,195)"
            ],
            [
             0.9,
             "rgb(33,102,172)"
            ],
            [
             1,
             "rgb(5,48,97)"
            ]
           ],
           "sequential": [
            [
             0,
             "#440154"
            ],
            [
             0.1111111111111111,
             "#482878"
            ],
            [
             0.2222222222222222,
             "#3e4989"
            ],
            [
             0.3333333333333333,
             "#31688e"
            ],
            [
             0.4444444444444444,
             "#26828e"
            ],
            [
             0.5555555555555556,
             "#1f9e89"
            ],
            [
             0.6666666666666666,
             "#35b779"
            ],
            [
             0.7777777777777778,
             "#6ece58"
            ],
            [
             0.8888888888888888,
             "#b5de2b"
            ],
            [
             1,
             "#fde725"
            ]
           ],
           "sequentialminus": [
            [
             0,
             "#440154"
            ],
            [
             0.1111111111111111,
             "#482878"
            ],
            [
             0.2222222222222222,
             "#3e4989"
            ],
            [
             0.3333333333333333,
             "#31688e"
            ],
            [
             0.4444444444444444,
             "#26828e"
            ],
            [
             0.5555555555555556,
             "#1f9e89"
            ],
            [
             0.6666666666666666,
             "#35b779"
            ],
            [
             0.7777777777777778,
             "#6ece58"
            ],
            [
             0.8888888888888888,
             "#b5de2b"
            ],
            [
             1,
             "#fde725"
            ]
           ]
          },
          "colorway": [
           "#1F77B4",
           "#FF7F0E",
           "#2CA02C",
           "#D62728",
           "#9467BD",
           "#8C564B",
           "#E377C2",
           "#7F7F7F",
           "#BCBD22",
           "#17BECF"
          ],
          "font": {
           "color": "rgb(36,36,36)"
          },
          "geo": {
           "bgcolor": "white",
           "lakecolor": "white",
           "landcolor": "white",
           "showlakes": true,
           "showland": true,
           "subunitcolor": "white"
          },
          "hoverlabel": {
           "align": "left"
          },
          "hovermode": "closest",
          "mapbox": {
           "style": "light"
          },
          "paper_bgcolor": "white",
          "plot_bgcolor": "white",
          "polar": {
           "angularaxis": {
            "gridcolor": "rgb(232,232,232)",
            "linecolor": "rgb(36,36,36)",
            "showgrid": false,
            "showline": true,
            "ticks": "outside"
           },
           "bgcolor": "white",
           "radialaxis": {
            "gridcolor": "rgb(232,232,232)",
            "linecolor": "rgb(36,36,36)",
            "showgrid": false,
            "showline": true,
            "ticks": "outside"
           }
          },
          "scene": {
           "xaxis": {
            "backgroundcolor": "white",
            "gridcolor": "rgb(232,232,232)",
            "gridwidth": 2,
            "linecolor": "rgb(36,36,36)",
            "showbackground": true,
            "showgrid": false,
            "showline": true,
            "ticks": "outside",
            "zeroline": false,
            "zerolinecolor": "rgb(36,36,36)"
           },
           "yaxis": {
            "backgroundcolor": "white",
            "gridcolor": "rgb(232,232,232)",
            "gridwidth": 2,
            "linecolor": "rgb(36,36,36)",
            "showbackground": true,
            "showgrid": false,
            "showline": true,
            "ticks": "outside",
            "zeroline": false,
            "zerolinecolor": "rgb(36,36,36)"
           },
           "zaxis": {
            "backgroundcolor": "white",
            "gridcolor": "rgb(232,232,232)",
            "gridwidth": 2,
            "linecolor": "rgb(36,36,36)",
            "showbackground": true,
            "showgrid": false,
            "showline": true,
            "ticks": "outside",
            "zeroline": false,
            "zerolinecolor": "rgb(36,36,36)"
           }
          },
          "shapedefaults": {
           "fillcolor": "black",
           "line": {
            "width": 0
           },
           "opacity": 0.3
          },
          "ternary": {
           "aaxis": {
            "gridcolor": "rgb(232,232,232)",
            "linecolor": "rgb(36,36,36)",
            "showgrid": false,
            "showline": true,
            "ticks": "outside"
           },
           "baxis": {
            "gridcolor": "rgb(232,232,232)",
            "linecolor": "rgb(36,36,36)",
            "showgrid": false,
            "showline": true,
            "ticks": "outside"
           },
           "bgcolor": "white",
           "caxis": {
            "gridcolor": "rgb(232,232,232)",
            "linecolor": "rgb(36,36,36)",
            "showgrid": false,
            "showline": true,
            "ticks": "outside"
           }
          },
          "title": {
           "x": 0.05
          },
          "xaxis": {
           "automargin": true,
           "gridcolor": "rgb(232,232,232)",
           "linecolor": "rgb(36,36,36)",
           "showgrid": false,
           "showline": true,
           "ticks": "outside",
           "title": {
            "standoff": 15
           },
           "zeroline": false,
           "zerolinecolor": "rgb(36,36,36)"
          },
          "yaxis": {
           "automargin": true,
           "gridcolor": "rgb(232,232,232)",
           "linecolor": "rgb(36,36,36)",
           "showgrid": false,
           "showline": true,
           "ticks": "outside",
           "title": {
            "standoff": 15
           },
           "zeroline": false,
           "zerolinecolor": "rgb(36,36,36)"
          }
         }
        },
        "title": {
         "text": "Airline Passengers",
         "x": 0.5
        },
        "width": 650,
        "xaxis": {
         "anchor": "y",
         "domain": [
          0,
          1
         ],
         "title": {
          "text": "Date"
         }
        },
        "yaxis": {
         "anchor": "x",
         "domain": [
          0,
          1
         ],
         "title": {
          "text": "#Passengers"
         }
        }
       }
      }
     },
     "metadata": {},
     "output_type": "display_data"
    }
   ],
   "source": [
    "# Plot the airline passenger data\n",
    "plot_passenger_volumes(df=data, y='#Passengers')"
   ]
  },
  {
   "cell_type": "markdown",
   "id": "ea2abb2f",
   "metadata": {},
   "source": [
    "The time series has a clear trend and obvious yearly seasonality that is increasing through time. Therefore, we need to make it stationary by carrying out differencing and applying the Box-Cox transform:"
   ]
  },
  {
   "cell_type": "code",
   "execution_count": 5,
   "id": "79c72ec9",
   "metadata": {},
   "outputs": [
    {
     "data": {
      "application/vnd.plotly.v1+json": {
       "config": {
        "plotlyServerURL": "https://plot.ly"
       },
       "data": [
        {
         "hovertemplate": "Date=%{x}<br>Passenger_stationary=%{y}<extra></extra>",
         "legendgroup": "",
         "line": {
          "color": "#636efa",
          "dash": "solid"
         },
         "marker": {
          "symbol": "circle"
         },
         "mode": "lines",
         "name": "",
         "orientation": "v",
         "showlegend": false,
         "type": "scatter",
         "x": [
          "1949-02-01T00:00:00.000000000",
          "1949-03-01T00:00:00.000000000",
          "1949-04-01T00:00:00.000000000",
          "1949-05-01T00:00:00.000000000",
          "1949-06-01T00:00:00.000000000",
          "1949-07-01T00:00:00.000000000",
          "1949-08-01T00:00:00.000000000",
          "1949-09-01T00:00:00.000000000",
          "1949-10-01T00:00:00.000000000",
          "1949-11-01T00:00:00.000000000",
          "1949-12-01T00:00:00.000000000",
          "1950-01-01T00:00:00.000000000",
          "1950-02-01T00:00:00.000000000",
          "1950-03-01T00:00:00.000000000",
          "1950-04-01T00:00:00.000000000",
          "1950-05-01T00:00:00.000000000",
          "1950-06-01T00:00:00.000000000",
          "1950-07-01T00:00:00.000000000",
          "1950-08-01T00:00:00.000000000",
          "1950-09-01T00:00:00.000000000",
          "1950-10-01T00:00:00.000000000",
          "1950-11-01T00:00:00.000000000",
          "1950-12-01T00:00:00.000000000",
          "1951-01-01T00:00:00.000000000",
          "1951-02-01T00:00:00.000000000",
          "1951-03-01T00:00:00.000000000",
          "1951-04-01T00:00:00.000000000",
          "1951-05-01T00:00:00.000000000",
          "1951-06-01T00:00:00.000000000",
          "1951-07-01T00:00:00.000000000",
          "1951-08-01T00:00:00.000000000",
          "1951-09-01T00:00:00.000000000",
          "1951-10-01T00:00:00.000000000",
          "1951-11-01T00:00:00.000000000",
          "1951-12-01T00:00:00.000000000",
          "1952-01-01T00:00:00.000000000",
          "1952-02-01T00:00:00.000000000",
          "1952-03-01T00:00:00.000000000",
          "1952-04-01T00:00:00.000000000",
          "1952-05-01T00:00:00.000000000",
          "1952-06-01T00:00:00.000000000",
          "1952-07-01T00:00:00.000000000",
          "1952-08-01T00:00:00.000000000",
          "1952-09-01T00:00:00.000000000",
          "1952-10-01T00:00:00.000000000",
          "1952-11-01T00:00:00.000000000",
          "1952-12-01T00:00:00.000000000",
          "1953-01-01T00:00:00.000000000",
          "1953-02-01T00:00:00.000000000",
          "1953-03-01T00:00:00.000000000",
          "1953-04-01T00:00:00.000000000",
          "1953-05-01T00:00:00.000000000",
          "1953-06-01T00:00:00.000000000",
          "1953-07-01T00:00:00.000000000",
          "1953-08-01T00:00:00.000000000",
          "1953-09-01T00:00:00.000000000",
          "1953-10-01T00:00:00.000000000",
          "1953-11-01T00:00:00.000000000",
          "1953-12-01T00:00:00.000000000",
          "1954-01-01T00:00:00.000000000",
          "1954-02-01T00:00:00.000000000",
          "1954-03-01T00:00:00.000000000",
          "1954-04-01T00:00:00.000000000",
          "1954-05-01T00:00:00.000000000",
          "1954-06-01T00:00:00.000000000",
          "1954-07-01T00:00:00.000000000",
          "1954-08-01T00:00:00.000000000",
          "1954-09-01T00:00:00.000000000",
          "1954-10-01T00:00:00.000000000",
          "1954-11-01T00:00:00.000000000",
          "1954-12-01T00:00:00.000000000",
          "1955-01-01T00:00:00.000000000",
          "1955-02-01T00:00:00.000000000",
          "1955-03-01T00:00:00.000000000",
          "1955-04-01T00:00:00.000000000",
          "1955-05-01T00:00:00.000000000",
          "1955-06-01T00:00:00.000000000",
          "1955-07-01T00:00:00.000000000",
          "1955-08-01T00:00:00.000000000",
          "1955-09-01T00:00:00.000000000",
          "1955-10-01T00:00:00.000000000",
          "1955-11-01T00:00:00.000000000",
          "1955-12-01T00:00:00.000000000",
          "1956-01-01T00:00:00.000000000",
          "1956-02-01T00:00:00.000000000",
          "1956-03-01T00:00:00.000000000",
          "1956-04-01T00:00:00.000000000",
          "1956-05-01T00:00:00.000000000",
          "1956-06-01T00:00:00.000000000",
          "1956-07-01T00:00:00.000000000",
          "1956-08-01T00:00:00.000000000",
          "1956-09-01T00:00:00.000000000",
          "1956-10-01T00:00:00.000000000",
          "1956-11-01T00:00:00.000000000",
          "1956-12-01T00:00:00.000000000",
          "1957-01-01T00:00:00.000000000",
          "1957-02-01T00:00:00.000000000",
          "1957-03-01T00:00:00.000000000",
          "1957-04-01T00:00:00.000000000",
          "1957-05-01T00:00:00.000000000",
          "1957-06-01T00:00:00.000000000",
          "1957-07-01T00:00:00.000000000",
          "1957-08-01T00:00:00.000000000",
          "1957-09-01T00:00:00.000000000",
          "1957-10-01T00:00:00.000000000",
          "1957-11-01T00:00:00.000000000",
          "1957-12-01T00:00:00.000000000",
          "1958-01-01T00:00:00.000000000",
          "1958-02-01T00:00:00.000000000",
          "1958-03-01T00:00:00.000000000",
          "1958-04-01T00:00:00.000000000",
          "1958-05-01T00:00:00.000000000",
          "1958-06-01T00:00:00.000000000",
          "1958-07-01T00:00:00.000000000",
          "1958-08-01T00:00:00.000000000",
          "1958-09-01T00:00:00.000000000",
          "1958-10-01T00:00:00.000000000",
          "1958-11-01T00:00:00.000000000",
          "1958-12-01T00:00:00.000000000",
          "1959-01-01T00:00:00.000000000",
          "1959-02-01T00:00:00.000000000",
          "1959-03-01T00:00:00.000000000",
          "1959-04-01T00:00:00.000000000",
          "1959-05-01T00:00:00.000000000",
          "1959-06-01T00:00:00.000000000",
          "1959-07-01T00:00:00.000000000",
          "1959-08-01T00:00:00.000000000",
          "1959-09-01T00:00:00.000000000",
          "1959-10-01T00:00:00.000000000",
          "1959-11-01T00:00:00.000000000",
          "1959-12-01T00:00:00.000000000",
          "1960-01-01T00:00:00.000000000",
          "1960-02-01T00:00:00.000000000",
          "1960-03-01T00:00:00.000000000",
          "1960-04-01T00:00:00.000000000",
          "1960-05-01T00:00:00.000000000",
          "1960-06-01T00:00:00.000000000",
          "1960-07-01T00:00:00.000000000",
          "1960-08-01T00:00:00.000000000",
          "1960-09-01T00:00:00.000000000",
          "1960-10-01T00:00:00.000000000",
          "1960-11-01T00:00:00.000000000",
          "1960-12-01T00:00:00.000000000"
         ],
         "xaxis": "x",
         "y": {
          "bdata": "QD44nAz3uj8Ax5H7I1LNP4CXgostNai/4L9SY9a+wL+AgBJStrvMPyAlXj2Vfcg/AAAAAAAAAADAf1WgconGvwDc84iagtG/4Ft/ggNS0b9QdDZ5sDnQPwCEDAJUqqq/oGW0bCDDxz/gEl1J97PNP4DrOlyUFbe/gEHG4RE/xL/A80kmnkXXP3A5nW9w39E/AAAAAAAAAAAAVfnLjO7DvxACOFsnB9e/MCyoLeQd1L9QAfU9uunaP0DkOAeit7I/wFmQ8N4ssj9AqtAsVErXP2C8RUdmG8i/QJxBliJcvT+A3En4qdqyP2A8EmhU/s4/AAAAAAAAAAAgAJ9LVtXFv0DgM/ZleNG/gK7NtpcMzL+gqjCCdFjRP4Bmocf1ObA/AP1iChw3vD9gGyl+GlrDP0D+pm9g0sG/AOMu5KBPmD8Q9KC6v4jYPwCgT8E1j74/gM42Vdw6vT9AOIV/gOrUvyCymw5nQMm/wDitADD1zL+g98VK1qbQPwDjheVW7JY/AAAAAAAAAADAhplfdlLaPwAo1ZjAhIO/AHnOnK6nrb9AHaQpRQ3BP0ByntIfEsg/AH+B6+N7sT+gyYyo+QHUv0ALSzCIkNC/kBUeL+8x1r8g7BmUK7fOPwAFhyIFpqA/IJBNxVfVxr9wA9fWEIXfPwDndon117O/gFH+thhlsT8AniXfc3fRP6BLFQ3f19M/gDd4Nr3+sb8gPh6eTSLSv2BHep+UxdG/4OmOsUUW0b/g6Y6xRRbRPwAmSRtXub8/gDL+y4LNtb+A5GuGsrvTPwD4bfyke5E/AOwgZWZmgT/AkDxt89rWP+CZC3Bm6tU/gGj0Oig1vb8AaJuhOgzQv8DPKHJjQ9O/IIOAB1UV1b9AgnKQ8jbXPwCP/bUZMKk/AJBFJ0purb/g1FhHwgvUPwDYl8saeJ6/ADF714IEoz9g8ZygWqfYPwBHSp3Avc4/ANynB0VkqL9gAe5Qk0/UvyBH77a9bNa/ADJDg7j50b8AMkODuPnRP4CquO7fWbE/AIxd1eUtu78A8/NEsE/ZPwBFWv4RuKu/AKl+W4lIqD8gMw679braP4AYDvj7m84/ABRNCTnThT+gFXEtd8rWvyAv4as/Zte/wFn5Ma1w07+ACl4oPRrNPwBkTMSLsZw/ANrNg/8wxL9gEWXZPabTPwA61x3AFLi/AIPGmEXFuT/AyPI8xhXcP2B84smGONM/ANdYrBsMsj8QWl/tPqbhvwATlUTkNtK/wBWEggEy1r/A6RDxmSTJP4DUHDA1GcQ/gIg3gpBDv78ASUJZp1/aPwCQCG/vAa+/ANQCC+5Vwj8APz8dtGzSP2Cpb8DoCNg/AM0wQfvqqT+g7H7a2lXev2D1wT3HRdS/QC5Pvc8X0r8ACOh0dFPRPwBIpGDsN7I/QJI5Jy8IxL8A5vl7RYfFP0CAgPZxGc4/AEpG0q/7rT8gLFrzQCLUP+BwxxmLttg/gAcid1xBsb9g2Rj5NcTcvwAWEuFpB8+/4L6T09g12r/ABDwFBefPPw==",
          "dtype": "f8"
         },
         "yaxis": "y"
        }
       ],
       "layout": {
        "font": {
         "size": 18
        },
        "height": 400,
        "legend": {
         "tracegroupgap": 0
        },
        "margin": {
         "t": 60
        },
        "template": {
         "data": {
          "bar": [
           {
            "error_x": {
             "color": "rgb(36,36,36)"
            },
            "error_y": {
             "color": "rgb(36,36,36)"
            },
            "marker": {
             "line": {
              "color": "white",
              "width": 0.5
             },
             "pattern": {
              "fillmode": "overlay",
              "size": 10,
              "solidity": 0.2
             }
            },
            "type": "bar"
           }
          ],
          "barpolar": [
           {
            "marker": {
             "line": {
              "color": "white",
              "width": 0.5
             },
             "pattern": {
              "fillmode": "overlay",
              "size": 10,
              "solidity": 0.2
             }
            },
            "type": "barpolar"
           }
          ],
          "carpet": [
           {
            "aaxis": {
             "endlinecolor": "rgb(36,36,36)",
             "gridcolor": "white",
             "linecolor": "white",
             "minorgridcolor": "white",
             "startlinecolor": "rgb(36,36,36)"
            },
            "baxis": {
             "endlinecolor": "rgb(36,36,36)",
             "gridcolor": "white",
             "linecolor": "white",
             "minorgridcolor": "white",
             "startlinecolor": "rgb(36,36,36)"
            },
            "type": "carpet"
           }
          ],
          "choropleth": [
           {
            "colorbar": {
             "outlinewidth": 1,
             "tickcolor": "rgb(36,36,36)",
             "ticks": "outside"
            },
            "type": "choropleth"
           }
          ],
          "contour": [
           {
            "colorbar": {
             "outlinewidth": 1,
             "tickcolor": "rgb(36,36,36)",
             "ticks": "outside"
            },
            "colorscale": [
             [
              0,
              "#440154"
             ],
             [
              0.1111111111111111,
              "#482878"
             ],
             [
              0.2222222222222222,
              "#3e4989"
             ],
             [
              0.3333333333333333,
              "#31688e"
             ],
             [
              0.4444444444444444,
              "#26828e"
             ],
             [
              0.5555555555555556,
              "#1f9e89"
             ],
             [
              0.6666666666666666,
              "#35b779"
             ],
             [
              0.7777777777777778,
              "#6ece58"
             ],
             [
              0.8888888888888888,
              "#b5de2b"
             ],
             [
              1,
              "#fde725"
             ]
            ],
            "type": "contour"
           }
          ],
          "contourcarpet": [
           {
            "colorbar": {
             "outlinewidth": 1,
             "tickcolor": "rgb(36,36,36)",
             "ticks": "outside"
            },
            "type": "contourcarpet"
           }
          ],
          "heatmap": [
           {
            "colorbar": {
             "outlinewidth": 1,
             "tickcolor": "rgb(36,36,36)",
             "ticks": "outside"
            },
            "colorscale": [
             [
              0,
              "#440154"
             ],
             [
              0.1111111111111111,
              "#482878"
             ],
             [
              0.2222222222222222,
              "#3e4989"
             ],
             [
              0.3333333333333333,
              "#31688e"
             ],
             [
              0.4444444444444444,
              "#26828e"
             ],
             [
              0.5555555555555556,
              "#1f9e89"
             ],
             [
              0.6666666666666666,
              "#35b779"
             ],
             [
              0.7777777777777778,
              "#6ece58"
             ],
             [
              0.8888888888888888,
              "#b5de2b"
             ],
             [
              1,
              "#fde725"
             ]
            ],
            "type": "heatmap"
           }
          ],
          "histogram": [
           {
            "marker": {
             "line": {
              "color": "white",
              "width": 0.6
             }
            },
            "type": "histogram"
           }
          ],
          "histogram2d": [
           {
            "colorbar": {
             "outlinewidth": 1,
             "tickcolor": "rgb(36,36,36)",
             "ticks": "outside"
            },
            "colorscale": [
             [
              0,
              "#440154"
             ],
             [
              0.1111111111111111,
              "#482878"
             ],
             [
              0.2222222222222222,
              "#3e4989"
             ],
             [
              0.3333333333333333,
              "#31688e"
             ],
             [
              0.4444444444444444,
              "#26828e"
             ],
             [
              0.5555555555555556,
              "#1f9e89"
             ],
             [
              0.6666666666666666,
              "#35b779"
             ],
             [
              0.7777777777777778,
              "#6ece58"
             ],
             [
              0.8888888888888888,
              "#b5de2b"
             ],
             [
              1,
              "#fde725"
             ]
            ],
            "type": "histogram2d"
           }
          ],
          "histogram2dcontour": [
           {
            "colorbar": {
             "outlinewidth": 1,
             "tickcolor": "rgb(36,36,36)",
             "ticks": "outside"
            },
            "colorscale": [
             [
              0,
              "#440154"
             ],
             [
              0.1111111111111111,
              "#482878"
             ],
             [
              0.2222222222222222,
              "#3e4989"
             ],
             [
              0.3333333333333333,
              "#31688e"
             ],
             [
              0.4444444444444444,
              "#26828e"
             ],
             [
              0.5555555555555556,
              "#1f9e89"
             ],
             [
              0.6666666666666666,
              "#35b779"
             ],
             [
              0.7777777777777778,
              "#6ece58"
             ],
             [
              0.8888888888888888,
              "#b5de2b"
             ],
             [
              1,
              "#fde725"
             ]
            ],
            "type": "histogram2dcontour"
           }
          ],
          "mesh3d": [
           {
            "colorbar": {
             "outlinewidth": 1,
             "tickcolor": "rgb(36,36,36)",
             "ticks": "outside"
            },
            "type": "mesh3d"
           }
          ],
          "parcoords": [
           {
            "line": {
             "colorbar": {
              "outlinewidth": 1,
              "tickcolor": "rgb(36,36,36)",
              "ticks": "outside"
             }
            },
            "type": "parcoords"
           }
          ],
          "pie": [
           {
            "automargin": true,
            "type": "pie"
           }
          ],
          "scatter": [
           {
            "fillpattern": {
             "fillmode": "overlay",
             "size": 10,
             "solidity": 0.2
            },
            "type": "scatter"
           }
          ],
          "scatter3d": [
           {
            "line": {
             "colorbar": {
              "outlinewidth": 1,
              "tickcolor": "rgb(36,36,36)",
              "ticks": "outside"
             }
            },
            "marker": {
             "colorbar": {
              "outlinewidth": 1,
              "tickcolor": "rgb(36,36,36)",
              "ticks": "outside"
             }
            },
            "type": "scatter3d"
           }
          ],
          "scattercarpet": [
           {
            "marker": {
             "colorbar": {
              "outlinewidth": 1,
              "tickcolor": "rgb(36,36,36)",
              "ticks": "outside"
             }
            },
            "type": "scattercarpet"
           }
          ],
          "scattergeo": [
           {
            "marker": {
             "colorbar": {
              "outlinewidth": 1,
              "tickcolor": "rgb(36,36,36)",
              "ticks": "outside"
             }
            },
            "type": "scattergeo"
           }
          ],
          "scattergl": [
           {
            "marker": {
             "colorbar": {
              "outlinewidth": 1,
              "tickcolor": "rgb(36,36,36)",
              "ticks": "outside"
             }
            },
            "type": "scattergl"
           }
          ],
          "scattermap": [
           {
            "marker": {
             "colorbar": {
              "outlinewidth": 1,
              "tickcolor": "rgb(36,36,36)",
              "ticks": "outside"
             }
            },
            "type": "scattermap"
           }
          ],
          "scattermapbox": [
           {
            "marker": {
             "colorbar": {
              "outlinewidth": 1,
              "tickcolor": "rgb(36,36,36)",
              "ticks": "outside"
             }
            },
            "type": "scattermapbox"
           }
          ],
          "scatterpolar": [
           {
            "marker": {
             "colorbar": {
              "outlinewidth": 1,
              "tickcolor": "rgb(36,36,36)",
              "ticks": "outside"
             }
            },
            "type": "scatterpolar"
           }
          ],
          "scatterpolargl": [
           {
            "marker": {
             "colorbar": {
              "outlinewidth": 1,
              "tickcolor": "rgb(36,36,36)",
              "ticks": "outside"
             }
            },
            "type": "scatterpolargl"
           }
          ],
          "scatterternary": [
           {
            "marker": {
             "colorbar": {
              "outlinewidth": 1,
              "tickcolor": "rgb(36,36,36)",
              "ticks": "outside"
             }
            },
            "type": "scatterternary"
           }
          ],
          "surface": [
           {
            "colorbar": {
             "outlinewidth": 1,
             "tickcolor": "rgb(36,36,36)",
             "ticks": "outside"
            },
            "colorscale": [
             [
              0,
              "#440154"
             ],
             [
              0.1111111111111111,
              "#482878"
             ],
             [
              0.2222222222222222,
              "#3e4989"
             ],
             [
              0.3333333333333333,
              "#31688e"
             ],
             [
              0.4444444444444444,
              "#26828e"
             ],
             [
              0.5555555555555556,
              "#1f9e89"
             ],
             [
              0.6666666666666666,
              "#35b779"
             ],
             [
              0.7777777777777778,
              "#6ece58"
             ],
             [
              0.8888888888888888,
              "#b5de2b"
             ],
             [
              1,
              "#fde725"
             ]
            ],
            "type": "surface"
           }
          ],
          "table": [
           {
            "cells": {
             "fill": {
              "color": "rgb(237,237,237)"
             },
             "line": {
              "color": "white"
             }
            },
            "header": {
             "fill": {
              "color": "rgb(217,217,217)"
             },
             "line": {
              "color": "white"
             }
            },
            "type": "table"
           }
          ]
         },
         "layout": {
          "annotationdefaults": {
           "arrowhead": 0,
           "arrowwidth": 1
          },
          "autotypenumbers": "strict",
          "coloraxis": {
           "colorbar": {
            "outlinewidth": 1,
            "tickcolor": "rgb(36,36,36)",
            "ticks": "outside"
           }
          },
          "colorscale": {
           "diverging": [
            [
             0,
             "rgb(103,0,31)"
            ],
            [
             0.1,
             "rgb(178,24,43)"
            ],
            [
             0.2,
             "rgb(214,96,77)"
            ],
            [
             0.3,
             "rgb(244,165,130)"
            ],
            [
             0.4,
             "rgb(253,219,199)"
            ],
            [
             0.5,
             "rgb(247,247,247)"
            ],
            [
             0.6,
             "rgb(209,229,240)"
            ],
            [
             0.7,
             "rgb(146,197,222)"
            ],
            [
             0.8,
             "rgb(67,147,195)"
            ],
            [
             0.9,
             "rgb(33,102,172)"
            ],
            [
             1,
             "rgb(5,48,97)"
            ]
           ],
           "sequential": [
            [
             0,
             "#440154"
            ],
            [
             0.1111111111111111,
             "#482878"
            ],
            [
             0.2222222222222222,
             "#3e4989"
            ],
            [
             0.3333333333333333,
             "#31688e"
            ],
            [
             0.4444444444444444,
             "#26828e"
            ],
            [
             0.5555555555555556,
             "#1f9e89"
            ],
            [
             0.6666666666666666,
             "#35b779"
            ],
            [
             0.7777777777777778,
             "#6ece58"
            ],
            [
             0.8888888888888888,
             "#b5de2b"
            ],
            [
             1,
             "#fde725"
            ]
           ],
           "sequentialminus": [
            [
             0,
             "#440154"
            ],
            [
             0.1111111111111111,
             "#482878"
            ],
            [
             0.2222222222222222,
             "#3e4989"
            ],
            [
             0.3333333333333333,
             "#31688e"
            ],
            [
             0.4444444444444444,
             "#26828e"
            ],
            [
             0.5555555555555556,
             "#1f9e89"
            ],
            [
             0.6666666666666666,
             "#35b779"
            ],
            [
             0.7777777777777778,
             "#6ece58"
            ],
            [
             0.8888888888888888,
             "#b5de2b"
            ],
            [
             1,
             "#fde725"
            ]
           ]
          },
          "colorway": [
           "#1F77B4",
           "#FF7F0E",
           "#2CA02C",
           "#D62728",
           "#9467BD",
           "#8C564B",
           "#E377C2",
           "#7F7F7F",
           "#BCBD22",
           "#17BECF"
          ],
          "font": {
           "color": "rgb(36,36,36)"
          },
          "geo": {
           "bgcolor": "white",
           "lakecolor": "white",
           "landcolor": "white",
           "showlakes": true,
           "showland": true,
           "subunitcolor": "white"
          },
          "hoverlabel": {
           "align": "left"
          },
          "hovermode": "closest",
          "mapbox": {
           "style": "light"
          },
          "paper_bgcolor": "white",
          "plot_bgcolor": "white",
          "polar": {
           "angularaxis": {
            "gridcolor": "rgb(232,232,232)",
            "linecolor": "rgb(36,36,36)",
            "showgrid": false,
            "showline": true,
            "ticks": "outside"
           },
           "bgcolor": "white",
           "radialaxis": {
            "gridcolor": "rgb(232,232,232)",
            "linecolor": "rgb(36,36,36)",
            "showgrid": false,
            "showline": true,
            "ticks": "outside"
           }
          },
          "scene": {
           "xaxis": {
            "backgroundcolor": "white",
            "gridcolor": "rgb(232,232,232)",
            "gridwidth": 2,
            "linecolor": "rgb(36,36,36)",
            "showbackground": true,
            "showgrid": false,
            "showline": true,
            "ticks": "outside",
            "zeroline": false,
            "zerolinecolor": "rgb(36,36,36)"
           },
           "yaxis": {
            "backgroundcolor": "white",
            "gridcolor": "rgb(232,232,232)",
            "gridwidth": 2,
            "linecolor": "rgb(36,36,36)",
            "showbackground": true,
            "showgrid": false,
            "showline": true,
            "ticks": "outside",
            "zeroline": false,
            "zerolinecolor": "rgb(36,36,36)"
           },
           "zaxis": {
            "backgroundcolor": "white",
            "gridcolor": "rgb(232,232,232)",
            "gridwidth": 2,
            "linecolor": "rgb(36,36,36)",
            "showbackground": true,
            "showgrid": false,
            "showline": true,
            "ticks": "outside",
            "zeroline": false,
            "zerolinecolor": "rgb(36,36,36)"
           }
          },
          "shapedefaults": {
           "fillcolor": "black",
           "line": {
            "width": 0
           },
           "opacity": 0.3
          },
          "ternary": {
           "aaxis": {
            "gridcolor": "rgb(232,232,232)",
            "linecolor": "rgb(36,36,36)",
            "showgrid": false,
            "showline": true,
            "ticks": "outside"
           },
           "baxis": {
            "gridcolor": "rgb(232,232,232)",
            "linecolor": "rgb(36,36,36)",
            "showgrid": false,
            "showline": true,
            "ticks": "outside"
           },
           "bgcolor": "white",
           "caxis": {
            "gridcolor": "rgb(232,232,232)",
            "linecolor": "rgb(36,36,36)",
            "showgrid": false,
            "showline": true,
            "ticks": "outside"
           }
          },
          "title": {
           "x": 0.05
          },
          "xaxis": {
           "automargin": true,
           "gridcolor": "rgb(232,232,232)",
           "linecolor": "rgb(36,36,36)",
           "showgrid": false,
           "showline": true,
           "ticks": "outside",
           "title": {
            "standoff": 15
           },
           "zeroline": false,
           "zerolinecolor": "rgb(36,36,36)"
          },
          "yaxis": {
           "automargin": true,
           "gridcolor": "rgb(232,232,232)",
           "linecolor": "rgb(36,36,36)",
           "showgrid": false,
           "showline": true,
           "ticks": "outside",
           "title": {
            "standoff": 15
           },
           "zeroline": false,
           "zerolinecolor": "rgb(36,36,36)"
          }
         }
        },
        "title": {
         "text": "Airline Passengers",
         "x": 0.5
        },
        "width": 650,
        "xaxis": {
         "anchor": "y",
         "domain": [
          0,
          1
         ],
         "title": {
          "text": "Date"
         }
        },
        "yaxis": {
         "anchor": "x",
         "domain": [
          0,
          1
         ],
         "title": {
          "text": "Passenger_stationary"
         }
        }
       }
      }
     },
     "metadata": {},
     "output_type": "display_data"
    }
   ],
   "source": [
    "# Import packages\n",
    "from scipy.stats import boxcox\n",
    "\n",
    "# Make the target stationary\n",
    "data['Passengers_boxcox'], lam = boxcox(data['#Passengers'])\n",
    "data[\"Passenger_stationary\"] = data[\"Passengers_boxcox\"].diff()\n",
    "data.dropna(inplace=True)\n",
    "\n",
    "# Plot the stationary airline passenger data\n",
    "plot_passenger_volumes(df=data, y='Passenger_stationary')"
   ]
  },
  {
   "cell_type": "markdown",
   "id": "24ad900e",
   "metadata": {},
   "source": [
    "### Modeling"
   ]
  },
  {
   "cell_type": "code",
   "execution_count": 6,
   "id": "93ac16d9",
   "metadata": {},
   "outputs": [
    {
     "data": {
      "image/png": "[encoded data removed]",
      "text/plain": [
       "<Figure size 1100x500 with 1 Axes>"
      ]
     },
     "metadata": {},
     "output_type": "display_data"
    }
   ],
   "source": [
    "# Import packages\n",
    "import matplotlib.pyplot as plt\n",
    "from statsmodels.graphics.tsaplots import plot_pacf\n",
    "\n",
    "# Plot partial autocorrelation\n",
    "plt.rc(\"figure\", figsize=(11,5))\n",
    "plot_pacf(data['Passenger_stationary'], method='ywm')\n",
    "plt.xlabel('Lags', fontsize=18)\n",
    "plt.ylabel('Correlation', fontsize=18)\n",
    "plt.xticks(fontsize=18)\n",
    "plt.yticks(fontsize=18)\n",
    "plt.title('Partial Autocorrelation Plot', fontsize=20)\n",
    "plt.tight_layout()\n",
    "plt.show()"
   ]
  },
  {
   "cell_type": "markdown",
   "id": "6968de75",
   "metadata": {},
   "source": [
    "The lags outside the blue shaded region are classed as significantly significant and should be included as the features for our autoregressive model. From the above plot, it seems lags 1, 2, 4, 7, 8, 9, 10, 11, 12 and 13 are significant. Notice how lag 12 has the largest peak. This is because our time series is indexed by month and has a yearly seasonality, hence lag 12 is an exact year difference."
   ]
  },
  {
   "cell_type": "markdown",
   "id": "059ce291",
   "metadata": {},
   "source": [
    "However, for building our model we will use the recommended approach of simply iterating over all the possible combinations of lags and choose the best model from that analysis. As our dataset is quite small, this is easily computationally feasible."
   ]
  },
  {
   "cell_type": "markdown",
   "id": "1ce8d61a",
   "metadata": {},
   "source": [
    "Here we use the statsmodels ar_select_order to determine the optimal number of lags to include in the autoregressive model. In this case, we have set our model to try combinations up to lag 15. The model is then fit with the results from the ar_select_order using the AutoReg class from statsmodels."
   ]
  },
  {
   "cell_type": "code",
   "execution_count": 8,
   "id": "d6174e83",
   "metadata": {},
   "outputs": [
    {
     "name": "stderr",
     "output_type": "stream",
     "text": [
      "i:\\Code_maths\\env\\Lib\\site-packages\\statsmodels\\tsa\\base\\tsa_model.py:473: ValueWarning:\n",
      "\n",
      "An unsupported index was provided. As a result, forecasts cannot be generated. To use the model for forecasting, use one of the supported classes of index.\n",
      "\n",
      "i:\\Code_maths\\env\\Lib\\site-packages\\statsmodels\\tsa\\base\\tsa_model.py:473: ValueWarning:\n",
      "\n",
      "An unsupported index was provided. As a result, forecasts cannot be generated. To use the model for forecasting, use one of the supported classes of index.\n",
      "\n",
      "i:\\Code_maths\\env\\Lib\\site-packages\\statsmodels\\tsa\\base\\tsa_model.py:473: ValueWarning:\n",
      "\n",
      "An unsupported index was provided. As a result, forecasts cannot be generated. To use the model for forecasting, use one of the supported classes of index.\n",
      "\n"
     ]
    }
   ],
   "source": [
    "# Import packages\n",
    "from statsmodels.tsa.ar_model import AutoReg, ar_select_order\n",
    "\n",
    "# Split train and test\n",
    "train = data.iloc[:-int(len(data) * 0.2)]\n",
    "test = data.iloc[-int(len(data) * 0.2):]\n",
    "\n",
    "# Build AR model\n",
    "selector = ar_select_order(train['Passenger_stationary'], 15)\n",
    "model = AutoReg(train['Passenger_stationary'], lags=selector.ar_lags).fit()"
   ]
  },
  {
   "cell_type": "markdown",
   "id": "f9a3abe0",
   "metadata": {},
   "source": [
    "### Results"
   ]
  },
  {
   "cell_type": "markdown",
   "id": "821ed00b",
   "metadata": {},
   "source": [
    "The forecasts produced from this fitted model is for the differenced and Box-Cox transformed time series that we produced earlier. Therefore, we have to un-difference and apply the inverse Box-Cox transform to the predictions to acquire the actual airline passenger forecasted volumes:"
   ]
  },
  {
   "cell_type": "code",
   "execution_count": 10,
   "id": "68f7e55d",
   "metadata": {},
   "outputs": [
    {
     "name": "stderr",
     "output_type": "stream",
     "text": [
      "i:\\Code_maths\\env\\Lib\\site-packages\\statsmodels\\tsa\\base\\tsa_model.py:837: ValueWarning:\n",
      "\n",
      "No supported index is available. Prediction results will be given with an integer index beginning at `start`.\n",
      "\n",
      "i:\\Code_maths\\env\\Lib\\site-packages\\statsmodels\\tsa\\base\\tsa_model.py:837: FutureWarning:\n",
      "\n",
      "No supported index is available. In the next version, calling this method in a model without a supported index will result in an exception.\n",
      "\n"
     ]
    },
    {
     "data": {
      "application/vnd.plotly.v1+json": {
       "config": {
        "plotlyServerURL": "https://plot.ly"
       },
       "data": [
        {
         "name": "Train",
         "type": "scatter",
         "x": [
          "1949-02-01T00:00:00.000000000",
          "1949-03-01T00:00:00.000000000",
          "1949-04-01T00:00:00.000000000",
          "1949-05-01T00:00:00.000000000",
          "1949-06-01T00:00:00.000000000",
          "1949-07-01T00:00:00.000000000",
          "1949-08-01T00:00:00.000000000",
          "1949-09-01T00:00:00.000000000",
          "1949-10-01T00:00:00.000000000",
          "1949-11-01T00:00:00.000000000",
          "1949-12-01T00:00:00.000000000",
          "1950-01-01T00:00:00.000000000",
          "1950-02-01T00:00:00.000000000",
          "1950-03-01T00:00:00.000000000",
          "1950-04-01T00:00:00.000000000",
          "1950-05-01T00:00:00.000000000",
          "1950-06-01T00:00:00.000000000",
          "1950-07-01T00:00:00.000000000",
          "1950-08-01T00:00:00.000000000",
          "1950-09-01T00:00:00.000000000",
          "1950-10-01T00:00:00.000000000",
          "1950-11-01T00:00:00.000000000",
          "1950-12-01T00:00:00.000000000",
          "1951-01-01T00:00:00.000000000",
          "1951-02-01T00:00:00.000000000",
          "1951-03-01T00:00:00.000000000",
          "1951-04-01T00:00:00.000000000",
          "1951-05-01T00:00:00.000000000",
          "1951-06-01T00:00:00.000000000",
          "1951-07-01T00:00:00.000000000",
          "1951-08-01T00:00:00.000000000",
          "1951-09-01T00:00:00.000000000",
          "1951-10-01T00:00:00.000000000",
          "1951-11-01T00:00:00.000000000",
          "1951-12-01T00:00:00.000000000",
          "1952-01-01T00:00:00.000000000",
          "1952-02-01T00:00:00.000000000",
          "1952-03-01T00:00:00.000000000",
          "1952-04-01T00:00:00.000000000",
          "1952-05-01T00:00:00.000000000",
          "1952-06-01T00:00:00.000000000",
          "1952-07-01T00:00:00.000000000",
          "1952-08-01T00:00:00.000000000",
          "1952-09-01T00:00:00.000000000",
          "1952-10-01T00:00:00.000000000",
          "1952-11-01T00:00:00.000000000",
          "1952-12-01T00:00:00.000000000",
          "1953-01-01T00:00:00.000000000",
          "1953-02-01T00:00:00.000000000",
          "1953-03-01T00:00:00.000000000",
          "1953-04-01T00:00:00.000000000",
          "1953-05-01T00:00:00.000000000",
          "1953-06-01T00:00:00.000000000",
          "1953-07-01T00:00:00.000000000",
          "1953-08-01T00:00:00.000000000",
          "1953-09-01T00:00:00.000000000",
          "1953-10-01T00:00:00.000000000",
          "1953-11-01T00:00:00.000000000",
          "1953-12-01T00:00:00.000000000",
          "1954-01-01T00:00:00.000000000",
          "1954-02-01T00:00:00.000000000",
          "1954-03-01T00:00:00.000000000",
          "1954-04-01T00:00:00.000000000",
          "1954-05-01T00:00:00.000000000",
          "1954-06-01T00:00:00.000000000",
          "1954-07-01T00:00:00.000000000",
          "1954-08-01T00:00:00.000000000",
          "1954-09-01T00:00:00.000000000",
          "1954-10-01T00:00:00.000000000",
          "1954-11-01T00:00:00.000000000",
          "1954-12-01T00:00:00.000000000",
          "1955-01-01T00:00:00.000000000",
          "1955-02-01T00:00:00.000000000",
          "1955-03-01T00:00:00.000000000",
          "1955-04-01T00:00:00.000000000",
          "1955-05-01T00:00:00.000000000",
          "1955-06-01T00:00:00.000000000",
          "1955-07-01T00:00:00.000000000",
          "1955-08-01T00:00:00.000000000",
          "1955-09-01T00:00:00.000000000",
          "1955-10-01T00:00:00.000000000",
          "1955-11-01T00:00:00.000000000",
          "1955-12-01T00:00:00.000000000",
          "1956-01-01T00:00:00.000000000",
          "1956-02-01T00:00:00.000000000",
          "1956-03-01T00:00:00.000000000",
          "1956-04-01T00:00:00.000000000",
          "1956-05-01T00:00:00.000000000",
          "1956-06-01T00:00:00.000000000",
          "1956-07-01T00:00:00.000000000",
          "1956-08-01T00:00:00.000000000",
          "1956-09-01T00:00:00.000000000",
          "1956-10-01T00:00:00.000000000",
          "1956-11-01T00:00:00.000000000",
          "1956-12-01T00:00:00.000000000",
          "1957-01-01T00:00:00.000000000",
          "1957-02-01T00:00:00.000000000",
          "1957-03-01T00:00:00.000000000",
          "1957-04-01T00:00:00.000000000",
          "1957-05-01T00:00:00.000000000",
          "1957-06-01T00:00:00.000000000",
          "1957-07-01T00:00:00.000000000",
          "1957-08-01T00:00:00.000000000",
          "1957-09-01T00:00:00.000000000",
          "1957-10-01T00:00:00.000000000",
          "1957-11-01T00:00:00.000000000",
          "1957-12-01T00:00:00.000000000",
          "1958-01-01T00:00:00.000000000",
          "1958-02-01T00:00:00.000000000",
          "1958-03-01T00:00:00.000000000",
          "1958-04-01T00:00:00.000000000",
          "1958-05-01T00:00:00.000000000",
          "1958-06-01T00:00:00.000000000",
          "1958-07-01T00:00:00.000000000",
          "1958-08-01T00:00:00.000000000"
         ],
         "y": {
          "bdata": "dgCEAIEAeQCHAJQAlACIAHcAaAB2AHMAfgCNAIcAfQCVAKoAqgCeAIUAcgCMAJEAlgCyAKMArACyAMcAxwC4AKIAkgCmAKsAtADBALUAtwDaAOYA8gDRAL8ArADCAMQAxADsAOsA5QDzAAgBEAHtANMAtADJAMwAvADrAOMA6gAIAS4BJQEDAeUAywDlAPIA6QALAQ0BDgE7AWwBWwE4ARIB7QAWARwBFQE9ATkBPgF2AZ0BlQFjATIBDwEyATsBLQFkAVwBYwGmAdEB0wGUAVsBMQFQAVQBPgFqAVwBawGzAesB+QE=",
          "dtype": "i2"
         }
        },
        {
         "name": "Test",
         "type": "scatter",
         "x": [
          "1958-09-01T00:00:00.000000000",
          "1958-10-01T00:00:00.000000000",
          "1958-11-01T00:00:00.000000000",
          "1958-12-01T00:00:00.000000000",
          "1959-01-01T00:00:00.000000000",
          "1959-02-01T00:00:00.000000000",
          "1959-03-01T00:00:00.000000000",
          "1959-04-01T00:00:00.000000000",
          "1959-05-01T00:00:00.000000000",
          "1959-06-01T00:00:00.000000000",
          "1959-07-01T00:00:00.000000000",
          "1959-08-01T00:00:00.000000000",
          "1959-09-01T00:00:00.000000000",
          "1959-10-01T00:00:00.000000000",
          "1959-11-01T00:00:00.000000000",
          "1959-12-01T00:00:00.000000000",
          "1960-01-01T00:00:00.000000000",
          "1960-02-01T00:00:00.000000000",
          "1960-03-01T00:00:00.000000000",
          "1960-04-01T00:00:00.000000000",
          "1960-05-01T00:00:00.000000000",
          "1960-06-01T00:00:00.000000000",
          "1960-07-01T00:00:00.000000000",
          "1960-08-01T00:00:00.000000000",
          "1960-09-01T00:00:00.000000000",
          "1960-10-01T00:00:00.000000000",
          "1960-11-01T00:00:00.000000000",
          "1960-12-01T00:00:00.000000000"
         ],
         "y": {
          "bdata": "lAFnATYBUQFoAVYBlgGMAaQB2AEkAi8CzwGXAWoBlQGhAYcBowHNAdgBFwJuAl4C/AHNAYYBsAE=",
          "dtype": "i2"
         }
        },
        {
         "name": "Forecast",
         "type": "scatter",
         "x": [
          "1958-09-01T00:00:00.000000000",
          "1958-10-01T00:00:00.000000000",
          "1958-11-01T00:00:00.000000000",
          "1958-12-01T00:00:00.000000000",
          "1959-01-01T00:00:00.000000000",
          "1959-02-01T00:00:00.000000000",
          "1959-03-01T00:00:00.000000000",
          "1959-04-01T00:00:00.000000000",
          "1959-05-01T00:00:00.000000000",
          "1959-06-01T00:00:00.000000000",
          "1959-07-01T00:00:00.000000000",
          "1959-08-01T00:00:00.000000000",
          "1959-09-01T00:00:00.000000000",
          "1959-10-01T00:00:00.000000000",
          "1959-11-01T00:00:00.000000000",
          "1959-12-01T00:00:00.000000000",
          "1960-01-01T00:00:00.000000000",
          "1960-02-01T00:00:00.000000000",
          "1960-03-01T00:00:00.000000000",
          "1960-04-01T00:00:00.000000000",
          "1960-05-01T00:00:00.000000000",
          "1960-06-01T00:00:00.000000000",
          "1960-07-01T00:00:00.000000000",
          "1960-08-01T00:00:00.000000000",
          "1960-09-01T00:00:00.000000000",
          "1960-10-01T00:00:00.000000000",
          "1960-11-01T00:00:00.000000000",
          "1960-12-01T00:00:00.000000000"
         ],
         "y": {
          "bdata": "wsNdYHDMe0A7NGttMt53QLMbLMkEQ3VA3iqDiatMd0CfPdTvup93QCo8CL1tHXZAxnuaJNt2eEAVuiDxGud3QKbg5ZQiOXlA5vCWQsVSfkBAjXlvWRyBQHtpabt3loFAd7CxEu16f0Bc7Zxc8fd6QGA+YpmIOXhAmmFjyiRQekDzvK9NE556QFYJqr2V3nhAG8kb61jFekCGqV7nqm56QGUH/fbzK3xAbU0M1wb4gECwtnVlTCGDQEc4CvD1o4NA4YwHfnvOgUAACwb7wot+QCwvlGaWoHtA3svwI1u/fUA=",
          "dtype": "f8"
         }
        }
       ],
       "layout": {
        "font": {
         "size": 18
        },
        "height": 400,
        "template": {
         "data": {
          "bar": [
           {
            "error_x": {
             "color": "rgb(36,36,36)"
            },
            "error_y": {
             "color": "rgb(36,36,36)"
            },
            "marker": {
             "line": {
              "color": "white",
              "width": 0.5
             },
             "pattern": {
              "fillmode": "overlay",
              "size": 10,
              "solidity": 0.2
             }
            },
            "type": "bar"
           }
          ],
          "barpolar": [
           {
            "marker": {
             "line": {
              "color": "white",
              "width": 0.5
             },
             "pattern": {
              "fillmode": "overlay",
              "size": 10,
              "solidity": 0.2
             }
            },
            "type": "barpolar"
           }
          ],
          "carpet": [
           {
            "aaxis": {
             "endlinecolor": "rgb(36,36,36)",
             "gridcolor": "white",
             "linecolor": "white",
             "minorgridcolor": "white",
             "startlinecolor": "rgb(36,36,36)"
            },
            "baxis": {
             "endlinecolor": "rgb(36,36,36)",
             "gridcolor": "white",
             "linecolor": "white",
             "minorgridcolor": "white",
             "startlinecolor": "rgb(36,36,36)"
            },
            "type": "carpet"
           }
          ],
          "choropleth": [
           {
            "colorbar": {
             "outlinewidth": 1,
             "tickcolor": "rgb(36,36,36)",
             "ticks": "outside"
            },
            "type": "choropleth"
           }
          ],
          "contour": [
           {
            "colorbar": {
             "outlinewidth": 1,
             "tickcolor": "rgb(36,36,36)",
             "ticks": "outside"
            },
            "colorscale": [
             [
              0,
              "#440154"
             ],
             [
              0.1111111111111111,
              "#482878"
             ],
             [
              0.2222222222222222,
              "#3e4989"
             ],
             [
              0.3333333333333333,
              "#31688e"
             ],
             [
              0.4444444444444444,
              "#26828e"
             ],
             [
              0.5555555555555556,
              "#1f9e89"
             ],
             [
              0.6666666666666666,
              "#35b779"
             ],
             [
              0.7777777777777778,
              "#6ece58"
             ],
             [
              0.8888888888888888,
              "#b5de2b"
             ],
             [
              1,
              "#fde725"
             ]
            ],
            "type": "contour"
           }
          ],
          "contourcarpet": [
           {
            "colorbar": {
             "outlinewidth": 1,
             "tickcolor": "rgb(36,36,36)",
             "ticks": "outside"
            },
            "type": "contourcarpet"
           }
          ],
          "heatmap": [
           {
            "colorbar": {
             "outlinewidth": 1,
             "tickcolor": "rgb(36,36,36)",
             "ticks": "outside"
            },
            "colorscale": [
             [
              0,
              "#440154"
             ],
             [
              0.1111111111111111,
              "#482878"
             ],
             [
              0.2222222222222222,
              "#3e4989"
             ],
             [
              0.3333333333333333,
              "#31688e"
             ],
             [
              0.4444444444444444,
              "#26828e"
             ],
             [
              0.5555555555555556,
              "#1f9e89"
             ],
             [
              0.6666666666666666,
              "#35b779"
             ],
             [
              0.7777777777777778,
              "#6ece58"
             ],
             [
              0.8888888888888888,
              "#b5de2b"
             ],
             [
              1,
              "#fde725"
             ]
            ],
            "type": "heatmap"
           }
          ],
          "histogram": [
           {
            "marker": {
             "line": {
              "color": "white",
              "width": 0.6
             }
            },
            "type": "histogram"
           }
          ],
          "histogram2d": [
           {
            "colorbar": {
             "outlinewidth": 1,
             "tickcolor": "rgb(36,36,36)",
             "ticks": "outside"
            },
            "colorscale": [
             [
              0,
              "#440154"
             ],
             [
              0.1111111111111111,
              "#482878"
             ],
             [
              0.2222222222222222,
              "#3e4989"
             ],
             [
              0.3333333333333333,
              "#31688e"
             ],
             [
              0.4444444444444444,
              "#26828e"
             ],
             [
              0.5555555555555556,
              "#1f9e89"
             ],
             [
              0.6666666666666666,
              "#35b779"
             ],
             [
              0.7777777777777778,
              "#6ece58"
             ],
             [
              0.8888888888888888,
              "#b5de2b"
             ],
             [
              1,
              "#fde725"
             ]
            ],
            "type": "histogram2d"
           }
          ],
          "histogram2dcontour": [
           {
            "colorbar": {
             "outlinewidth": 1,
             "tickcolor": "rgb(36,36,36)",
             "ticks": "outside"
            },
            "colorscale": [
             [
              0,
              "#440154"
             ],
             [
              0.1111111111111111,
              "#482878"
             ],
             [
              0.2222222222222222,
              "#3e4989"
             ],
             [
              0.3333333333333333,
              "#31688e"
             ],
             [
              0.4444444444444444,
              "#26828e"
             ],
             [
              0.5555555555555556,
              "#1f9e89"
             ],
             [
              0.6666666666666666,
              "#35b779"
             ],
             [
              0.7777777777777778,
              "#6ece58"
             ],
             [
              0.8888888888888888,
              "#b5de2b"
             ],
             [
              1,
              "#fde725"
             ]
            ],
            "type": "histogram2dcontour"
           }
          ],
          "mesh3d": [
           {
            "colorbar": {
             "outlinewidth": 1,
             "tickcolor": "rgb(36,36,36)",
             "ticks": "outside"
            },
            "type": "mesh3d"
           }
          ],
          "parcoords": [
           {
            "line": {
             "colorbar": {
              "outlinewidth": 1,
              "tickcolor": "rgb(36,36,36)",
              "ticks": "outside"
             }
            },
            "type": "parcoords"
           }
          ],
          "pie": [
           {
            "automargin": true,
            "type": "pie"
           }
          ],
          "scatter": [
           {
            "fillpattern": {
             "fillmode": "overlay",
             "size": 10,
             "solidity": 0.2
            },
            "type": "scatter"
           }
          ],
          "scatter3d": [
           {
            "line": {
             "colorbar": {
              "outlinewidth": 1,
              "tickcolor": "rgb(36,36,36)",
              "ticks": "outside"
             }
            },
            "marker": {
             "colorbar": {
              "outlinewidth": 1,
              "tickcolor": "rgb(36,36,36)",
              "ticks": "outside"
             }
            },
            "type": "scatter3d"
           }
          ],
          "scattercarpet": [
           {
            "marker": {
             "colorbar": {
              "outlinewidth": 1,
              "tickcolor": "rgb(36,36,36)",
              "ticks": "outside"
             }
            },
            "type": "scattercarpet"
           }
          ],
          "scattergeo": [
           {
            "marker": {
             "colorbar": {
              "outlinewidth": 1,
              "tickcolor": "rgb(36,36,36)",
              "ticks": "outside"
             }
            },
            "type": "scattergeo"
           }
          ],
          "scattergl": [
           {
            "marker": {
             "colorbar": {
              "outlinewidth": 1,
              "tickcolor": "rgb(36,36,36)",
              "ticks": "outside"
             }
            },
            "type": "scattergl"
           }
          ],
          "scattermap": [
           {
            "marker": {
             "colorbar": {
              "outlinewidth": 1,
              "tickcolor": "rgb(36,36,36)",
              "ticks": "outside"
             }
            },
            "type": "scattermap"
           }
          ],
          "scattermapbox": [
           {
            "marker": {
             "colorbar": {
              "outlinewidth": 1,
              "tickcolor": "rgb(36,36,36)",
              "ticks": "outside"
             }
            },
            "type": "scattermapbox"
           }
          ],
          "scatterpolar": [
           {
            "marker": {
             "colorbar": {
              "outlinewidth": 1,
              "tickcolor": "rgb(36,36,36)",
              "ticks": "outside"
             }
            },
            "type": "scatterpolar"
           }
          ],
          "scatterpolargl": [
           {
            "marker": {
             "colorbar": {
              "outlinewidth": 1,
              "tickcolor": "rgb(36,36,36)",
              "ticks": "outside"
             }
            },
            "type": "scatterpolargl"
           }
          ],
          "scatterternary": [
           {
            "marker": {
             "colorbar": {
              "outlinewidth": 1,
              "tickcolor": "rgb(36,36,36)",
              "ticks": "outside"
             }
            },
            "type": "scatterternary"
           }
          ],
          "surface": [
           {
            "colorbar": {
             "outlinewidth": 1,
             "tickcolor": "rgb(36,36,36)",
             "ticks": "outside"
            },
            "colorscale": [
             [
              0,
              "#440154"
             ],
             [
              0.1111111111111111,
              "#482878"
             ],
             [
              0.2222222222222222,
              "#3e4989"
             ],
             [
              0.3333333333333333,
              "#31688e"
             ],
             [
              0.4444444444444444,
              "#26828e"
             ],
             [
              0.5555555555555556,
              "#1f9e89"
             ],
             [
              0.6666666666666666,
              "#35b779"
             ],
             [
              0.7777777777777778,
              "#6ece58"
             ],
             [
              0.8888888888888888,
              "#b5de2b"
             ],
             [
              1,
              "#fde725"
             ]
            ],
            "type": "surface"
           }
          ],
          "table": [
           {
            "cells": {
             "fill": {
              "color": "rgb(237,237,237)"
             },
             "line": {
              "color": "white"
             }
            },
            "header": {
             "fill": {
              "color": "rgb(217,217,217)"
             },
             "line": {
              "color": "white"
             }
            },
            "type": "table"
           }
          ]
         },
         "layout": {
          "annotationdefaults": {
           "arrowhead": 0,
           "arrowwidth": 1
          },
          "autotypenumbers": "strict",
          "coloraxis": {
           "colorbar": {
            "outlinewidth": 1,
            "tickcolor": "rgb(36,36,36)",
            "ticks": "outside"
           }
          },
          "colorscale": {
           "diverging": [
            [
             0,
             "rgb(103,0,31)"
            ],
            [
             0.1,
             "rgb(178,24,43)"
            ],
            [
             0.2,
             "rgb(214,96,77)"
            ],
            [
             0.3,
             "rgb(244,165,130)"
            ],
            [
             0.4,
             "rgb(253,219,199)"
            ],
            [
             0.5,
             "rgb(247,247,247)"
            ],
            [
             0.6,
             "rgb(209,229,240)"
            ],
            [
             0.7,
             "rgb(146,197,222)"
            ],
            [
             0.8,
             "rgb(67,147,195)"
            ],
            [
             0.9,
             "rgb(33,102,172)"
            ],
            [
             1,
             "rgb(5,48,97)"
            ]
           ],
           "sequential": [
            [
             0,
             "#440154"
            ],
            [
             0.1111111111111111,
             "#482878"
            ],
            [
             0.2222222222222222,
             "#3e4989"
            ],
            [
             0.3333333333333333,
             "#31688e"
            ],
            [
             0.4444444444444444,
             "#26828e"
            ],
            [
             0.5555555555555556,
             "#1f9e89"
            ],
            [
             0.6666666666666666,
             "#35b779"
            ],
            [
             0.7777777777777778,
             "#6ece58"
            ],
            [
             0.8888888888888888,
             "#b5de2b"
            ],
            [
             1,
             "#fde725"
            ]
           ],
           "sequentialminus": [
            [
             0,
             "#440154"
            ],
            [
             0.1111111111111111,
             "#482878"
            ],
            [
             0.2222222222222222,
             "#3e4989"
            ],
            [
             0.3333333333333333,
             "#31688e"
            ],
            [
             0.4444444444444444,
             "#26828e"
            ],
            [
             0.5555555555555556,
             "#1f9e89"
            ],
            [
             0.6666666666666666,
             "#35b779"
            ],
            [
             0.7777777777777778,
             "#6ece58"
            ],
            [
             0.8888888888888888,
             "#b5de2b"
            ],
            [
             1,
             "#fde725"
            ]
           ]
          },
          "colorway": [
           "#1F77B4",
           "#FF7F0E",
           "#2CA02C",
           "#D62728",
           "#9467BD",
           "#8C564B",
           "#E377C2",
           "#7F7F7F",
           "#BCBD22",
           "#17BECF"
          ],
          "font": {
           "color": "rgb(36,36,36)"
          },
          "geo": {
           "bgcolor": "white",
           "lakecolor": "white",
           "landcolor": "white",
           "showlakes": true,
           "showland": true,
           "subunitcolor": "white"
          },
          "hoverlabel": {
           "align": "left"
          },
          "hovermode": "closest",
          "mapbox": {
           "style": "light"
          },
          "paper_bgcolor": "white",
          "plot_bgcolor": "white",
          "polar": {
           "angularaxis": {
            "gridcolor": "rgb(232,232,232)",
            "linecolor": "rgb(36,36,36)",
            "showgrid": false,
            "showline": true,
            "ticks": "outside"
           },
           "bgcolor": "white",
           "radialaxis": {
            "gridcolor": "rgb(232,232,232)",
            "linecolor": "rgb(36,36,36)",
            "showgrid": false,
            "showline": true,
            "ticks": "outside"
           }
          },
          "scene": {
           "xaxis": {
            "backgroundcolor": "white",
            "gridcolor": "rgb(232,232,232)",
            "gridwidth": 2,
            "linecolor": "rgb(36,36,36)",
            "showbackground": true,
            "showgrid": false,
            "showline": true,
            "ticks": "outside",
            "zeroline": false,
            "zerolinecolor": "rgb(36,36,36)"
           },
           "yaxis": {
            "backgroundcolor": "white",
            "gridcolor": "rgb(232,232,232)",
            "gridwidth": 2,
            "linecolor": "rgb(36,36,36)",
            "showbackground": true,
            "showgrid": false,
            "showline": true,
            "ticks": "outside",
            "zeroline": false,
            "zerolinecolor": "rgb(36,36,36)"
           },
           "zaxis": {
            "backgroundcolor": "white",
            "gridcolor": "rgb(232,232,232)",
            "gridwidth": 2,
            "linecolor": "rgb(36,36,36)",
            "showbackground": true,
            "showgrid": false,
            "showline": true,
            "ticks": "outside",
            "zeroline": false,
            "zerolinecolor": "rgb(36,36,36)"
           }
          },
          "shapedefaults": {
           "fillcolor": "black",
           "line": {
            "width": 0
           },
           "opacity": 0.3
          },
          "ternary": {
           "aaxis": {
            "gridcolor": "rgb(232,232,232)",
            "linecolor": "rgb(36,36,36)",
            "showgrid": false,
            "showline": true,
            "ticks": "outside"
           },
           "baxis": {
            "gridcolor": "rgb(232,232,232)",
            "linecolor": "rgb(36,36,36)",
            "showgrid": false,
            "showline": true,
            "ticks": "outside"
           },
           "bgcolor": "white",
           "caxis": {
            "gridcolor": "rgb(232,232,232)",
            "linecolor": "rgb(36,36,36)",
            "showgrid": false,
            "showline": true,
            "ticks": "outside"
           }
          },
          "title": {
           "x": 0.05
          },
          "xaxis": {
           "automargin": true,
           "gridcolor": "rgb(232,232,232)",
           "linecolor": "rgb(36,36,36)",
           "showgrid": false,
           "showline": true,
           "ticks": "outside",
           "title": {
            "standoff": 15
           },
           "zeroline": false,
           "zerolinecolor": "rgb(36,36,36)"
          },
          "yaxis": {
           "automargin": true,
           "gridcolor": "rgb(232,232,232)",
           "linecolor": "rgb(36,36,36)",
           "showgrid": false,
           "showline": true,
           "ticks": "outside",
           "title": {
            "standoff": 15
           },
           "zeroline": false,
           "zerolinecolor": "rgb(36,36,36)"
          }
         }
        },
        "title": {
         "text": "Autoregression",
         "x": 0.5
        },
        "width": 650,
        "xaxis": {
         "title": {
          "text": "Date"
         }
        },
        "yaxis": {
         "title": {
          "text": "Passenger Volume"
         }
        }
       }
      }
     },
     "metadata": {},
     "output_type": "display_data"
    }
   ],
   "source": [
    "# Import packages\n",
    "from scipy.special import inv_boxcox\n",
    "import plotly.graph_objects as go\n",
    "\n",
    "# Get forecasts and convert to actual passenger volumes\n",
    "transformed_forecasts = list(model.forecast(steps=len(test)))\n",
    "boxcox_forecasts = []\n",
    "for idx in range(len(test)):\n",
    "    if idx == 0:\n",
    "        boxcox_forecast = transformed_forecasts[idx] + train['Passengers_boxcox'].iloc[-1]\n",
    "    else:\n",
    "        boxcox_forecast = transformed_forecasts[idx] + boxcox_forecasts[idx-1]\n",
    "\n",
    "    boxcox_forecasts.append(boxcox_forecast)\n",
    "\n",
    "forecasts = inv_boxcox(boxcox_forecasts, lam)\n",
    "\n",
    "\n",
    "def plot_forecasts(forecasts: list[float],\n",
    "                   title: str) -> None:\n",
    "    \"\"\"Function to plot the forecasts.\"\"\"\n",
    "    fig = go.Figure()\n",
    "    fig.add_trace(go.Scatter(x=train['Month'], y=train['#Passengers'], name='Train'))\n",
    "    fig.add_trace(go.Scatter(x=test['Month'], y=test['#Passengers'], name='Test'))\n",
    "    fig.add_trace(go.Scatter(x=test['Month'], y=forecasts, name='Forecast'))\n",
    "    fig.update_layout(template=\"simple_white\", font=dict(size=18), title_text=title,\n",
    "                      width=650, title_x=0.5, height=400, xaxis_title='Date',\n",
    "                      yaxis_title='Passenger Volume')\n",
    "\n",
    "    return fig.show()\n",
    "\n",
    "\n",
    "# Plot the forecasts\n",
    "plot_forecasts(forecasts, 'Autoregression')"
   ]
  },
  {
   "cell_type": "markdown",
   "id": "f2554277",
   "metadata": {},
   "source": [
    "Our autoregressive model forecasts have adequately captured the trend and seasonality in the time series. However, the seasonality was captured as a result of the model having an order (lags) of 13. This means it includes all the lags in the past year (one for each month) to forecast, which leads it easily pick-up the seasonality due to how regular it is."
   ]
  },
  {
   "cell_type": "markdown",
   "id": "e8e0f158",
   "metadata": {},
   "source": []
  }
 ],
 "metadata": {
  "kernelspec": {
   "display_name": "env",
   "language": "python",
   "name": "python3"
  },
  "language_info": {
   "codemirror_mode": {
    "name": "ipython",
    "version": 3
   },
   "file_extension": ".py",
   "mimetype": "text/x-python",
   "name": "python",
   "nbconvert_exporter": "python",
   "pygments_lexer": "ipython3",
   "version": "3.12.10"
  }
 },
 "nbformat": 4,
 "nbformat_minor": 5
}
