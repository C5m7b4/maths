{
 "cells": [
  {
   "cell_type": "markdown",
   "id": "0598cc70",
   "metadata": {},
   "source": [
    "# Forecasting Metrics"
   ]
  },
  {
   "cell_type": "markdown",
   "id": "4eea2f72",
   "metadata": {},
   "source": [
    "[Link to the video](https://www.youtube.com/watch?v=jhh4tHYmVew&list=PLKmQjl_R9bYd32uHImJxQSFZU5LPuXfQe&index=8)"
   ]
  },
  {
   "cell_type": "markdown",
   "id": "363eb40c",
   "metadata": {},
   "source": [
    "- [Mean Absolute Error](#mean-absolute-error)\n",
    "- [Mean Squared Error](#mean-squared-error)\n",
    "- [Root Mean Square Error](#root-mean-square-error)\n",
    "- [Mean Absolute Percentage Error](#mean-absolute-percentage-error)\n",
    "- [Symmetric Mean Absolute Percentage Error](#symmetric-mean-absolute-percentage-error)\n",
    "- [Mean Squared Logarithm Error](#mean-squared-logarithm-error)"
   ]
  },
  {
   "cell_type": "markdown",
   "id": "0d2e463c",
   "metadata": {},
   "source": [
    "## Mean Absolute Error"
   ]
  },
  {
   "cell_type": "markdown",
   "id": "fb69e7f9",
   "metadata": {},
   "source": [
    "$\n",
    "MAE = \\frac{1}{n} \\sum_{i=1}^{n} \\left| y_i - \\hat{y}_i \\right|\n",
    "$"
   ]
  },
  {
   "cell_type": "markdown",
   "id": "c754ad61",
   "metadata": {},
   "source": [
    "### 🔍 Where\n",
    "- n = number of data point\n",
    "- $ y_i $ = Actual Value\n",
    "- $ \\hat{y}_i $ = predicted value\n",
    "- $ |y_i - \\hat{y}_i| $ = absolute error for each point"
   ]
  },
  {
   "cell_type": "markdown",
   "id": "57f21bc8",
   "metadata": {},
   "source": [
    "### ⁉️ Pros"
   ]
  },
  {
   "cell_type": "markdown",
   "id": "cf328e5b",
   "metadata": {},
   "source": [
    "- Intuative\n",
    "- erros in same units as forecast"
   ]
  },
  {
   "cell_type": "markdown",
   "id": "739ddfd5",
   "metadata": {},
   "source": [
    "### ⚠️ Cons\n",
    "- doesnt penalize outliers\n",
    "- scale dependent"
   ]
  },
  {
   "cell_type": "markdown",
   "id": "fa20f8a3",
   "metadata": {},
   "source": [
    "## Mean Squared Error"
   ]
  },
  {
   "cell_type": "markdown",
   "id": "2ea7175a",
   "metadata": {},
   "source": [
    "$MSE = \\frac{1}{n} \\sum_{i=1}^{n} (y_i - \\hat{y}_i)^2$"
   ]
  },
  {
   "cell_type": "markdown",
   "id": "4c8627c1",
   "metadata": {},
   "source": [
    "### 🔍 Where\n",
    "- n = number of data point\n",
    "- $ y_i $ = Actual Value of the  $ i^{\\text{th}} $ observations (data points)\n",
    "- $ \\hat{y}_i $ = predicted value of the $ i^{\\text{th}} $ observation\n",
    "- $  y_i - \\hat{y}_i $ = The error for the $ i^{\\text{th}} $ point (difference between actual and predicted)\n",
    "- $ (y_i - \\hat{y}_i)^2$ = The squared error, which ensures all errors are positive and penalizes large errors more heavily\n",
    "\n",
    "- $  \\sum_{i=1}^{n}$ =  Sum all squared errors over all n observations\n",
    "- $ \\frac{1}{n} $ = Take the mean (average) of the squared errors"
   ]
  },
  {
   "cell_type": "markdown",
   "id": "6b532817",
   "metadata": {},
   "source": [
    "### ⁉️ Pros\n",
    "- penalizes outliers"
   ]
  },
  {
   "cell_type": "markdown",
   "id": "06a4d5c4",
   "metadata": {},
   "source": [
    "### ⚠️ Cons\n",
    "- less predicable\n",
    "- scale dependent"
   ]
  },
  {
   "cell_type": "markdown",
   "id": "d5b90705",
   "metadata": {},
   "source": [
    "## Root Mean Square Error"
   ]
  },
  {
   "cell_type": "markdown",
   "id": "0022dbc1",
   "metadata": {},
   "source": [
    "$\\text{RMSE} = \\sqrt{ \\frac{1}{n} \\sum_{i=1}^{n} (y_i - \\hat{y}_i)^2 }$"
   ]
  },
  {
   "cell_type": "markdown",
   "id": "277cb0f3",
   "metadata": {},
   "source": [
    "### 🔍 Where\n",
    "- n = Number of observations\n",
    "- $ y_i $ = Actual Value\n",
    "- $ \\hat{y}_i $ = Predicted Value\n",
    "- $(y_i - \\hat{y}_i)^2 $ = Squared error for each prediction\n",
    "- $  \\sum_{i=1}^{n}$ =  Sum all squared errors\n",
    "- $ \\frac{1}{n} $ = Mean of squared errors (this is the MSE)\n",
    "- $ \\sqrt{ ... } $ = Take the squrae root of the MSE"
   ]
  },
  {
   "cell_type": "markdown",
   "id": "c91da368",
   "metadata": {},
   "source": [
    "### ⁉️ Pros\n",
    "- punishes outliers\n",
    "- error in forecast units\n",
    "- best of both worlds of MSE and MAE"
   ]
  },
  {
   "cell_type": "markdown",
   "id": "b072eecd",
   "metadata": {},
   "source": [
    "### ⚠️ Cons\n",
    "- less interpretable\n",
    "- scale dependent"
   ]
  },
  {
   "cell_type": "markdown",
   "id": "6902ed08",
   "metadata": {},
   "source": [
    "##  Mean Absolute Percentage Error"
   ]
  },
  {
   "cell_type": "markdown",
   "id": "74f00732",
   "metadata": {},
   "source": [
    "$\n",
    "\\text{MAPE} = \\frac{100\\%}{n} \\sum_{i=1}^{n} \\left| \\frac{y_i - \\hat{y}_i}{y_i} \\right|\n",
    "$"
   ]
  },
  {
   "cell_type": "markdown",
   "id": "addbcc6a",
   "metadata": {},
   "source": [
    "### 🔍 Where\n",
    "- n = Number of observations\n",
    "- $ y_i $ = Actual Value\n",
    "- $ \\hat{y}_i $ = Predicted Value\n",
    "- $y_i - \\hat{y}_i $ = Prediction error\n",
    "- $  \\sum$ =  Sum all absolute percentage erros\n",
    "- $  \\frac{100\\%}{n} $ = Take the mean and express as a percentage\n"
   ]
  },
  {
   "cell_type": "markdown",
   "id": "4d1e6e2d",
   "metadata": {},
   "source": [
    "### ⁉️ Pros\n",
    "- easy to interpret\n",
    "- scale independent"
   ]
  },
  {
   "cell_type": "markdown",
   "id": "6f5a834e",
   "metadata": {},
   "source": [
    "### ⚠️ Cons\n",
    "- infinite error if the actual value is near zero\n",
    "- biased to under-forecast"
   ]
  },
  {
   "cell_type": "markdown",
   "id": "63069632",
   "metadata": {},
   "source": [
    "### 📐 What it tells you"
   ]
  },
  {
   "cell_type": "markdown",
   "id": "d3fd0652",
   "metadata": {},
   "source": [
    "        “On average, my prediction was X% off from the actual value.”"
   ]
  },
  {
   "cell_type": "markdown",
   "id": "821b53fe",
   "metadata": {},
   "source": [
    "### ⚠️ Caution\n",
    "MAPE can be misleading when:\n",
    "- $ y_i = 0 $ (division by zero -- boom 💥)\n",
    "- the actual values are very small - huge percentage swings\n"
   ]
  },
  {
   "cell_type": "markdown",
   "id": "0dde5eac",
   "metadata": {},
   "source": []
  },
  {
   "cell_type": "markdown",
   "id": "59f5db11",
   "metadata": {},
   "source": [
    "## Symmetric Mean Absolute Percentage Error"
   ]
  },
  {
   "cell_type": "markdown",
   "id": "c861f04c",
   "metadata": {},
   "source": [
    "$\n",
    "\\text{SMAPE} = \\frac{100\\%}{n} \\sum_{i=1}^{n} \\frac{ \\left| y_i - \\hat{y}_i \\right| }{ \\left( \\left| y_i \\right| + \\left| \\hat{y}_i \\right| \\right) / 2 }\n",
    "$"
   ]
  },
  {
   "cell_type": "markdown",
   "id": "69668e5e",
   "metadata": {},
   "source": [
    "### 🔍 Where\n",
    "- n = Number of data points\n",
    "- $ y_i $ = Actual Value\n",
    "- $ \\hat{y}_i $ = Predicted Value\n",
    "- $ 100\\% $ = Convert it into a percentage\n",
    "- ⛵ = Symmetric - handles over-and under-predictions more fairly\n",
    "- 💣 Does not explode when actual is near zero, like MAPE can"
   ]
  },
  {
   "cell_type": "markdown",
   "id": "2510b970",
   "metadata": {},
   "source": [
    "### ⁉️ Pros\n",
    "- no longer favors under forecasting"
   ]
  },
  {
   "cell_type": "markdown",
   "id": "fc1ad9f6",
   "metadata": {},
   "source": [
    "### ⚠️ Caution\n",
    "- MAPE: Biased when actual values are near 0\n",
    "- SMAPE: fixes that by dividing by average magnitude\n",
    "- values range from 0% to 200%"
   ]
  },
  {
   "cell_type": "markdown",
   "id": "c16c5b5a",
   "metadata": {},
   "source": [
    "## Mean Squared Logarithm Error"
   ]
  },
  {
   "cell_type": "markdown",
   "id": "25801f72",
   "metadata": {},
   "source": [
    "$\n",
    "\\text{MSLE} = \\frac{1}{n} \\sum_{i=1}^{n} \\left( \\log(1 + y_i) - \\log(1 + \\hat{y}_i) \\right)^2\n",
    "$"
   ]
  },
  {
   "cell_type": "markdown",
   "id": "3b1d1c4d",
   "metadata": {},
   "source": [
    "### 🔍 Where\n",
    "- n = Number of data points\n",
    "- $ y_i $ = Actual Value\n",
    "- $ \\hat{y}_i $ = Predicted Value\n",
    "- $\\log_e(1 + x)$ = natural log (base e) of x + 1, prevents log(0)\n",
    "- $\\left( \\log(1 + y_i) - \\log(1 + \\hat{y}_i) \\right)^2$ = Squared log difference\n",
    "- $  \\sum$ = Sum of all data points\n",
    "- $ \\frac{1}{n} $ Average the squared difference"
   ]
  },
  {
   "cell_type": "markdown",
   "id": "dd62e78d",
   "metadata": {},
   "source": [
    "### ⁉️ Explanation"
   ]
  },
  {
   "cell_type": "markdown",
   "id": "6a143984",
   "metadata": {},
   "source": [
    "- Less sensitive to large absolute errors — great when you don’t want to penalize big predictions too harshly.\n",
    "\n",
    "- Emphasizes underestimates more than overestimates (log difference squashes large values).\n",
    "\n",
    "- Works best when both actual and predicted values are non-negative."
   ]
  },
  {
   "cell_type": "markdown",
   "id": "d0341d9f",
   "metadata": {},
   "source": []
  }
 ],
 "metadata": {
  "language_info": {
   "name": "python"
  }
 },
 "nbformat": 4,
 "nbformat_minor": 5
}
