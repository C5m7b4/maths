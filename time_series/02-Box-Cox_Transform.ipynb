{
 "cells": [
  {
   "cell_type": "markdown",
   "id": "9608af08",
   "metadata": {},
   "source": [
    "# Box Cox Transform"
   ]
  },
  {
   "cell_type": "code",
   "execution_count": 1,
   "id": "df04d337",
   "metadata": {},
   "outputs": [],
   "source": [
    "import sympy as sym\n",
    "import pandas as pd\n",
    "import numpy as np\n",
    "import plotly.express as px\n",
    "from statsmodels.tsa.stattools import adfuller\n",
    "sym.init_printing()\n",
    "from IPython.display import display, Math"
   ]
  }
 ],
 "metadata": {
  "kernelspec": {
   "display_name": "env",
   "language": "python",
   "name": "python3"
  },
  "language_info": {
   "codemirror_mode": {
    "name": "ipython",
    "version": 3
   },
   "file_extension": ".py",
   "mimetype": "text/x-python",
   "name": "python",
   "nbconvert_exporter": "python",
   "pygments_lexer": "ipython3",
   "version": "3.12.10"
  }
 },
 "nbformat": 4,
 "nbformat_minor": 5
}
