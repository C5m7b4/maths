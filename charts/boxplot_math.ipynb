{
 "cells": [
  {
   "cell_type": "markdown",
   "id": "7da2d5e5",
   "metadata": {},
   "source": [
    "# Boxplot Math"
   ]
  },
  {
   "cell_type": "markdown",
   "id": "7caf5b71",
   "metadata": {},
   "source": [
    "## Import Libraries"
   ]
  },
  {
   "cell_type": "code",
   "execution_count": 72,
   "id": "a94bb52b",
   "metadata": {},
   "outputs": [],
   "source": [
    "import pandas as pd\n",
    "from IPython.display import display, Math"
   ]
  },
  {
   "cell_type": "markdown",
   "id": "66be65e2",
   "metadata": {},
   "source": [
    "Here we are going to cover some basic math concepts like:\n",
    "\n",
    "- Max\n",
    "- Min\n",
    "- Mean\n",
    "- Median\n",
    "- quartiles"
   ]
  },
  {
   "cell_type": "markdown",
   "id": "2531608e",
   "metadata": {},
   "source": [
    "## Build our Sample Data"
   ]
  },
  {
   "cell_type": "code",
   "execution_count": 2,
   "id": "eb97e66c",
   "metadata": {},
   "outputs": [],
   "source": [
    "# lets say that this is our sample data\n",
    "data = [90, 25, 14, 26, 14, 12, 5, 8, 2, 6, 4, 13, 75]"
   ]
  },
  {
   "cell_type": "markdown",
   "id": "165e8adc",
   "metadata": {},
   "source": [
    "## Build our functions"
   ]
  },
  {
   "cell_type": "markdown",
   "id": "2210546c",
   "metadata": {},
   "source": [
    "### Min"
   ]
  },
  {
   "cell_type": "code",
   "execution_count": 3,
   "id": "614e146a",
   "metadata": {},
   "outputs": [],
   "source": [
    "def custom_min(data):\n",
    "    \"\"\"custom function to explain a basic min function\"\"\"\n",
    "    # in case we dont know what we got\n",
    "    if not isinstance(data, (list, tuple)):\n",
    "        raise TypeError(\"Input must be a list or tuple\")\n",
    "    if len(data) == 0:\n",
    "        raise ValueError(\"Cannot find the min of an empty sequence\")\n",
    "    \n",
    "    minimum = data[0]\n",
    "    for value in data[1:]:\n",
    "        if value < minimum:\n",
    "            minimum = value\n",
    "    return minimum\n"
   ]
  },
  {
   "cell_type": "code",
   "execution_count": 4,
   "id": "d9d4d0ef",
   "metadata": {},
   "outputs": [
    {
     "name": "stdout",
     "output_type": "stream",
     "text": [
      "The custom min of the data is: 2\n"
     ]
    }
   ],
   "source": [
    "print(f\"The custom min of the data is: {custom_min(data)}\")"
   ]
  },
  {
   "cell_type": "markdown",
   "id": "4084371c",
   "metadata": {},
   "source": [
    "#### Explanation"
   ]
  },
  {
   "cell_type": "code",
   "execution_count": 5,
   "id": "3e97acf0",
   "metadata": {},
   "outputs": [
    {
     "name": "stdout",
     "output_type": "stream",
     "text": [
      "Step 1: [25, 14, 26, 14, 12, 5, 8, 2, 6, 4, 13, 75] - this is the data without the first element\n",
      "Step 2: [14, 26, 14, 12, 5, 8, 2, 6, 4, 13, 75] - now we are stepping through removing the first element again\n",
      "Step 3: [26, 14, 12, 5, 8, 2, 6, 4, 13, 75] - and again...\n"
     ]
    }
   ],
   "source": [
    "## lets break down the slicing. when we see data[1:], what is that doing?\n",
    "# let's simulate the loop. We dont want the first element since we already plugged that in as the minimum\n",
    "# so we take the first element to the rest of the list\n",
    "step1 = data[1:]  # this is equivalent to data[1:len(data)]\n",
    "print(f\"Step 1: {step1} - this is the data without the first element\")\n",
    "step2 = step1[1:]\n",
    "print(f\"Step 2: {step2} - now we are stepping through removing the first element again\")\n",
    "step3 = step2[1:]\n",
    "print(f\"Step 3: {step3} - and again...\")\n",
    "# etc..."
   ]
  },
  {
   "cell_type": "code",
   "execution_count": 6,
   "id": "5c870038",
   "metadata": {},
   "outputs": [
    {
     "name": "stdout",
     "output_type": "stream",
     "text": [
      "value is : 1\n",
      "value is : 2\n",
      "value is : 3\n"
     ]
    }
   ],
   "source": [
    "# when we run the loop, we are taking the first element of the newly generate list\n",
    "test_data = [1, 2, 3]\n",
    "for value in test_data:\n",
    "    print(f\"value is : {value}\")"
   ]
  },
  {
   "cell_type": "markdown",
   "id": "6f8e94a4",
   "metadata": {},
   "source": [
    "#### Pandas version"
   ]
  },
  {
   "cell_type": "markdown",
   "id": "3b06dd90",
   "metadata": {},
   "source": [
    "Now that we understand the basic python concept of min, let's look at how we are really going to use it.\n",
    "Pandas dataframes..."
   ]
  },
  {
   "cell_type": "code",
   "execution_count": 7,
   "id": "ee82fcdc",
   "metadata": {},
   "outputs": [],
   "source": [
    "# we are going to start with a dictionary. \n",
    "# we are going to include each data element as a Pandas Series or list or array...\n",
    "# each list needs to have the same shape/length\n",
    "# we are going to use .25 for each error correct amount\n",
    "d = {\n",
    "    'transaction_ids': [1, 2, 3, 4, 5, 6],\n",
    "    'error_correct_counts': [4, 7, 10, 5, 0, 2],\n",
    "    'error_correct_amounts': [1, 1.75, 2.50, 1.25, 0, .5]\n",
    "}"
   ]
  },
  {
   "cell_type": "code",
   "execution_count": 8,
   "id": "18085fbf",
   "metadata": {},
   "outputs": [
    {
     "data": {
      "text/html": [
       "<div>\n",
       "<style scoped>\n",
       "    .dataframe tbody tr th:only-of-type {\n",
       "        vertical-align: middle;\n",
       "    }\n",
       "\n",
       "    .dataframe tbody tr th {\n",
       "        vertical-align: top;\n",
       "    }\n",
       "\n",
       "    .dataframe thead th {\n",
       "        text-align: right;\n",
       "    }\n",
       "</style>\n",
       "<table border=\"1\" class=\"dataframe\">\n",
       "  <thead>\n",
       "    <tr style=\"text-align: right;\">\n",
       "      <th></th>\n",
       "      <th>transaction_ids</th>\n",
       "      <th>error_correct_counts</th>\n",
       "      <th>error_correct_amounts</th>\n",
       "    </tr>\n",
       "  </thead>\n",
       "  <tbody>\n",
       "    <tr>\n",
       "      <th>0</th>\n",
       "      <td>1</td>\n",
       "      <td>4</td>\n",
       "      <td>1.00</td>\n",
       "    </tr>\n",
       "    <tr>\n",
       "      <th>1</th>\n",
       "      <td>2</td>\n",
       "      <td>7</td>\n",
       "      <td>1.75</td>\n",
       "    </tr>\n",
       "    <tr>\n",
       "      <th>2</th>\n",
       "      <td>3</td>\n",
       "      <td>10</td>\n",
       "      <td>2.50</td>\n",
       "    </tr>\n",
       "    <tr>\n",
       "      <th>3</th>\n",
       "      <td>4</td>\n",
       "      <td>5</td>\n",
       "      <td>1.25</td>\n",
       "    </tr>\n",
       "    <tr>\n",
       "      <th>4</th>\n",
       "      <td>5</td>\n",
       "      <td>0</td>\n",
       "      <td>0.00</td>\n",
       "    </tr>\n",
       "  </tbody>\n",
       "</table>\n",
       "</div>"
      ],
      "text/plain": [
       "   transaction_ids  error_correct_counts  error_correct_amounts\n",
       "0                1                     4                   1.00\n",
       "1                2                     7                   1.75\n",
       "2                3                    10                   2.50\n",
       "3                4                     5                   1.25\n",
       "4                5                     0                   0.00"
      ]
     },
     "execution_count": 8,
     "metadata": {},
     "output_type": "execute_result"
    }
   ],
   "source": [
    "# create a dataframe\n",
    "ds = pd.DataFrame(d)\n",
    "ds.head()"
   ]
  },
  {
   "cell_type": "code",
   "execution_count": 9,
   "id": "c5774b3f",
   "metadata": {},
   "outputs": [
    {
     "name": "stdout",
     "output_type": "stream",
     "text": [
      "The minimum error correct count is: 0\n"
     ]
    }
   ],
   "source": [
    "min_error_correct_count = ds['error_correct_counts'].min()\n",
    "print(f\"The minimum error correct count is: {min_error_correct_count}\")"
   ]
  },
  {
   "cell_type": "code",
   "execution_count": 10,
   "id": "6ea72619",
   "metadata": {},
   "outputs": [
    {
     "name": "stdout",
     "output_type": "stream",
     "text": [
      "The minimum error correct amount is: 0.0\n"
     ]
    }
   ],
   "source": [
    "min_error_correct_amount = ds['error_correct_amounts'].min()\n",
    "print(f\"The minimum error correct amount is: {min_error_correct_amount}\")"
   ]
  },
  {
   "cell_type": "code",
   "execution_count": 11,
   "id": "bde04bb4",
   "metadata": {},
   "outputs": [
    {
     "name": "stdout",
     "output_type": "stream",
     "text": [
      "Minimum values for each column:\n",
      "transaction_ids          1.0\n",
      "error_correct_counts     0.0\n",
      "error_correct_amounts    0.0\n",
      "dtype: float64\n"
     ]
    }
   ],
   "source": [
    "# this will get the minimum for every column\n",
    "min_values = ds.min()\n",
    "print(\"Minimum values for each column:\")\n",
    "print(min_values)"
   ]
  },
  {
   "cell_type": "code",
   "execution_count": 12,
   "id": "809f731c",
   "metadata": {},
   "outputs": [
    {
     "data": {
      "text/plain": [
       "0    1.00\n",
       "1    1.75\n",
       "2    2.50\n",
       "3    1.25\n",
       "4    0.00\n",
       "5    0.50\n",
       "dtype: float64"
      ]
     },
     "execution_count": 12,
     "metadata": {},
     "output_type": "execute_result"
    }
   ],
   "source": [
    "# get the min across columns for each row\n",
    "ds.min(axis=1)"
   ]
  },
  {
   "cell_type": "markdown",
   "id": "3c1d5fcd",
   "metadata": {},
   "source": [
    "### Max"
   ]
  },
  {
   "cell_type": "markdown",
   "id": "51680310",
   "metadata": {},
   "source": [
    "#### Explanation"
   ]
  },
  {
   "cell_type": "code",
   "execution_count": 13,
   "id": "cffcdf05",
   "metadata": {},
   "outputs": [],
   "source": [
    "# this is how pandas creates a funcy wrapper over a smart loop\n",
    "# each series gets passed in\n",
    "def custom_max(series):\n",
    "    max_val = series.iloc[0]\n",
    "    for val in series.iloc[1:]:\n",
    "        if val > max_val:\n",
    "            max_val = val\n",
    "    return max_val"
   ]
  },
  {
   "cell_type": "code",
   "execution_count": 14,
   "id": "133476b1",
   "metadata": {},
   "outputs": [
    {
     "name": "stdout",
     "output_type": "stream",
     "text": [
      "Custom max of error_correct_amounts: 2.5\n"
     ]
    }
   ],
   "source": [
    "print(f\"Custom max of error_correct_amounts: {custom_max(ds['error_correct_amounts'])}\")"
   ]
  },
  {
   "cell_type": "code",
   "execution_count": 15,
   "id": "9bce4806",
   "metadata": {},
   "outputs": [
    {
     "data": {
      "text/plain": [
       "0    1.00\n",
       "1    1.75\n",
       "2    2.50\n",
       "3    1.25\n",
       "4    0.00\n",
       "5    0.50\n",
       "Name: error_correct_amounts, dtype: float64"
      ]
     },
     "execution_count": 15,
     "metadata": {},
     "output_type": "execute_result"
    }
   ],
   "source": [
    "# lets grab a single series from our dataset\n",
    "series = ds['error_correct_amounts']\n",
    "series"
   ]
  },
  {
   "cell_type": "code",
   "execution_count": 16,
   "id": "5088ed06",
   "metadata": {},
   "outputs": [
    {
     "name": "stdout",
     "output_type": "stream",
     "text": [
      "<class 'pandas.core.series.Series'>\n"
     ]
    }
   ],
   "source": [
    "print(type(series))"
   ]
  },
  {
   "cell_type": "markdown",
   "id": "26c24bc9",
   "metadata": {},
   "source": [
    "lets look at iloc"
   ]
  },
  {
   "cell_type": "code",
   "execution_count": 17,
   "id": "511a5b51",
   "metadata": {},
   "outputs": [
    {
     "name": "stdout",
     "output_type": "stream",
     "text": [
      "2.5\n"
     ]
    }
   ],
   "source": [
    "print(series.iloc[2]) # we are just getting the index of the element here"
   ]
  },
  {
   "cell_type": "markdown",
   "id": "a681a7b7",
   "metadata": {},
   "source": [
    "series.iloc[1:]: is the same as what we did earlier with the data"
   ]
  },
  {
   "cell_type": "code",
   "execution_count": 18,
   "id": "0df75ddd",
   "metadata": {},
   "outputs": [
    {
     "data": {
      "text/plain": [
       "1    1.75\n",
       "2    2.50\n",
       "3    1.25\n",
       "4    0.00\n",
       "5    0.50\n",
       "Name: error_correct_amounts, dtype: float64"
      ]
     },
     "execution_count": 18,
     "metadata": {},
     "output_type": "execute_result"
    }
   ],
   "source": [
    "series.iloc[1:] # we have removed the first element"
   ]
  },
  {
   "cell_type": "markdown",
   "id": "db0bbd01",
   "metadata": {},
   "source": [
    "#### Pandas version"
   ]
  },
  {
   "cell_type": "code",
   "execution_count": 19,
   "id": "631057f8",
   "metadata": {},
   "outputs": [
    {
     "name": "stdout",
     "output_type": "stream",
     "text": [
      "The maximum error correct count is: 10\n"
     ]
    }
   ],
   "source": [
    "max_error_correct_count = ds['error_correct_counts'].max()\n",
    "print(f\"The maximum error correct count is: {max_error_correct_count}\")"
   ]
  },
  {
   "cell_type": "code",
   "execution_count": 20,
   "id": "39d285bd",
   "metadata": {},
   "outputs": [
    {
     "name": "stdout",
     "output_type": "stream",
     "text": [
      "The maximum error correct amount is: 2.5\n"
     ]
    }
   ],
   "source": [
    "max_error_correct_amount = ds['error_correct_amounts'].max()\n",
    "print(f\"The maximum error correct amount is: {max_error_correct_amount}\")"
   ]
  },
  {
   "cell_type": "markdown",
   "id": "d934a2fe",
   "metadata": {},
   "source": [
    "You can see that these do match up. We have 10 error corrects for 2.50 in transaction id 3"
   ]
  },
  {
   "cell_type": "markdown",
   "id": "e461178d",
   "metadata": {},
   "source": [
    "### Mean"
   ]
  },
  {
   "cell_type": "markdown",
   "id": "e98999f2",
   "metadata": {},
   "source": [
    "#### Explanation"
   ]
  },
  {
   "cell_type": "code",
   "execution_count": 30,
   "id": "8c942d18",
   "metadata": {},
   "outputs": [],
   "source": [
    "# first lets break down a sum function\n",
    "def custom_sum(series):\n",
    "    \"\"\"Custom function to explain a basic sum function\"\"\"\n",
    "    if not isinstance(series, (pd.Series, list)):\n",
    "        raise TypeError(\"Input must be a Pandas Series or a list\")\n",
    "    if len(series) == 0:\n",
    "        raise ValueError(\"Cannot sum an empty series or list\")\n",
    "    \n",
    "    total = 0\n",
    "    for value in series:\n",
    "        total += value\n",
    "    return total"
   ]
  },
  {
   "cell_type": "code",
   "execution_count": 31,
   "id": "0018a4c1",
   "metadata": {},
   "outputs": [
    {
     "name": "stdout",
     "output_type": "stream",
     "text": [
      "The Length of our data is 13 and the total is 294\n"
     ]
    }
   ],
   "source": [
    "# we just need to take the total of all elements and divide by the number of elements\n",
    "length = len(data)\n",
    "total = sum(data) # using the built-in sum function\n",
    "print(f\"The Length of our data is {length} and the total is {total}\")"
   ]
  },
  {
   "cell_type": "code",
   "execution_count": 32,
   "id": "e3e098a6",
   "metadata": {},
   "outputs": [
    {
     "name": "stdout",
     "output_type": "stream",
     "text": [
      "The custom sum of our data is: 294\n"
     ]
    }
   ],
   "source": [
    "# now lets test our custom sum function to see if it matches\n",
    "c_total = custom_sum(data)\n",
    "print(f\"The custom sum of our data is: {c_total}\")"
   ]
  },
  {
   "cell_type": "code",
   "execution_count": 27,
   "id": "b4042bdf",
   "metadata": {},
   "outputs": [
    {
     "name": "stdout",
     "output_type": "stream",
     "text": [
      "The mean of our data is: 22.615384615384617\n"
     ]
    }
   ],
   "source": [
    "# to calculate the mean or average, we just divide the total by the length\n",
    "mean = total / length\n",
    "print(f\"The mean of our data is: {mean}\")"
   ]
  },
  {
   "cell_type": "code",
   "execution_count": 28,
   "id": "e8374be1",
   "metadata": {},
   "outputs": [
    {
     "name": "stdout",
     "output_type": "stream",
     "text": [
      "The mean using the statistics module is: 22.615384615384617\n"
     ]
    }
   ],
   "source": [
    "# in python, we can import the statistics module to get the mean\n",
    "import statistics\n",
    "mean_stat = statistics.mean(data)\n",
    "print(f\"The mean using the statistics module is: {mean_stat}\")"
   ]
  },
  {
   "cell_type": "markdown",
   "id": "98aebc40",
   "metadata": {},
   "source": [
    "#### Pandas"
   ]
  },
  {
   "cell_type": "code",
   "execution_count": 33,
   "id": "979df86d",
   "metadata": {},
   "outputs": [
    {
     "name": "stdout",
     "output_type": "stream",
     "text": [
      "The mean error correct count is: 4.666666666666667\n"
     ]
    }
   ],
   "source": [
    "error_correct_count_mean = ds['error_correct_counts'].mean()\n",
    "print(f\"The mean error correct count is: {error_correct_count_mean}\")"
   ]
  },
  {
   "cell_type": "code",
   "execution_count": 34,
   "id": "69e3636d",
   "metadata": {},
   "outputs": [
    {
     "name": "stdout",
     "output_type": "stream",
     "text": [
      "The mean error correct amount is: 1.1666666666666667\n"
     ]
    }
   ],
   "source": [
    "error_correct_amount_mean = ds['error_correct_amounts'].mean()\n",
    "print(f\"The mean error correct amount is: {error_correct_amount_mean}\")"
   ]
  },
  {
   "cell_type": "markdown",
   "id": "9d8f512c",
   "metadata": {},
   "source": [
    "### Median"
   ]
  },
  {
   "cell_type": "markdown",
   "id": "c2e3cf36",
   "metadata": {},
   "source": [
    "#### Explanation"
   ]
  },
  {
   "cell_type": "markdown",
   "id": "1a844d86",
   "metadata": {},
   "source": [
    "The median is a little different. The basic principal of a median is just simply finding the middle number in a series of list. The trick is that we have to sort it first otherwise it wouldn't make any sense. Let's take a look at an example using our original data"
   ]
  },
  {
   "cell_type": "code",
   "execution_count": 35,
   "id": "a72b4307",
   "metadata": {},
   "outputs": [
    {
     "name": "stdout",
     "output_type": "stream",
     "text": [
      "[90, 25, 14, 26, 14, 12, 5, 8, 2, 6, 4, 13, 75]\n"
     ]
    }
   ],
   "source": [
    "print(data)"
   ]
  },
  {
   "cell_type": "markdown",
   "id": "24439627",
   "metadata": {},
   "source": [
    "#### Sorting"
   ]
  },
  {
   "cell_type": "code",
   "execution_count": 38,
   "id": "78c718d7",
   "metadata": {},
   "outputs": [
    {
     "name": "stdout",
     "output_type": "stream",
     "text": [
      "[2, 4, 5, 6, 8, 12, 13, 14, 14, 25, 26, 75, 90]\n"
     ]
    }
   ],
   "source": [
    "# sort the data first\n",
    "sorted_data = sorted(data)\n",
    "print(sorted(data))"
   ]
  },
  {
   "cell_type": "markdown",
   "id": "9969e97c",
   "metadata": {},
   "source": [
    "![median](images/median_1.png)"
   ]
  },
  {
   "cell_type": "markdown",
   "id": "4984a4d3",
   "metadata": {},
   "source": [
    "#### data has odd length"
   ]
  },
  {
   "cell_type": "code",
   "execution_count": 57,
   "id": "6ce6c466",
   "metadata": {},
   "outputs": [
    {
     "name": "stdout",
     "output_type": "stream",
     "text": [
      "the list is odd so we need to take the length of 5 and get the middle index of 2 to get the median result of 3\n"
     ]
    }
   ],
   "source": [
    "#if we take the length of our data and we mod by 2, we can determine if the length is even or odd\n",
    "# if its false, then we have an odd length\n",
    "sorted_test = [1,2,3,4,5]\n",
    "is_even = len(sorted_test) % 2 == 0\n",
    "sorted_result = 'even' if is_even else 'odd'\n",
    "n = len(sorted_test)\n",
    "mid = n // 2 # this divides by 2 and returns the integer part\n",
    "sorted_median = sorted_test[mid]\n",
    "print(f\"the list is {sorted_result} so we need to take the length of {n} and get the middle index of {mid} to get the median result of {sorted_median}\")"
   ]
  },
  {
   "cell_type": "code",
   "execution_count": 58,
   "id": "472ee220",
   "metadata": {},
   "outputs": [
    {
     "name": "stdout",
     "output_type": "stream",
     "text": [
      "3\n"
     ]
    }
   ],
   "source": [
    "print(sorted_test[mid])"
   ]
  },
  {
   "cell_type": "markdown",
   "id": "04aaf48f",
   "metadata": {},
   "source": [
    "#### data has even length"
   ]
  },
  {
   "cell_type": "code",
   "execution_count": 82,
   "id": "a346aa01",
   "metadata": {},
   "outputs": [
    {
     "name": "stdout",
     "output_type": "stream",
     "text": [
      "The list is even so we need to take the length of 6 and the middle index of 3. \n",
      "      This actually gives us two numbers. We have the numbers 3 and 4.\n",
      "      To get the median we need to get the mean of these two numbers to get a result of 3.5\n"
     ]
    }
   ],
   "source": [
    "even_test = [1,2,3,4,5,6]\n",
    "n = len(even_test)\n",
    "is_even = n % 2 == 0\n",
    "sorted_even_result = 'even' if is_even else 'odd'\n",
    "even_mid = n // 2\n",
    "even_median = (even_test[even_mid - 1] + even_test[even_mid]) / 2\n",
    "print(f\"\"\"The list is {sorted_even_result} so we need to take the length of {n} and the middle index of {even_mid}. \n",
    "      This actually gives us two numbers. We have the numbers 3 and 4.\n",
    "      To get the median we need to get the mean of these two numbers to get a result of {even_median}\"\"\")\n"
   ]
  },
  {
   "cell_type": "code",
   "execution_count": 83,
   "id": "f3f6e42e",
   "metadata": {},
   "outputs": [
    {
     "name": "stdout",
     "output_type": "stream",
     "text": [
      "The first number is 3 and the second number is 4.\n"
     ]
    },
    {
     "data": {
      "text/latex": [
       "$\\displaystyle (3+4)/2=3.5$"
      ],
      "text/plain": [
       "<IPython.core.display.Math object>"
      ]
     },
     "metadata": {},
     "output_type": "display_data"
    }
   ],
   "source": [
    "first_number = even_test[even_mid-1]\n",
    "second_number = even_test[even_mid]\n",
    "test_result = (first_number + second_number) / 2\n",
    "print(f\"The first number is {first_number} and the second number is {second_number}.\")\n",
    "\n",
    "display(Math(f'(%s+%s)/2=%s' %(first_number, second_number, test_result)))"
   ]
  },
  {
   "cell_type": "code",
   "execution_count": 84,
   "id": "8aeec264",
   "metadata": {},
   "outputs": [],
   "source": [
    "# let's build a custom median functio\n",
    "def custom_median(data):\n",
    "    sorted_data = sorted(data)\n",
    "    n = len(sorted_data)\n",
    "    mid = n // 2\n",
    "\n",
    "    if n % 2 == 0:  # even length\n",
    "        return (sorted_data[mid - 1] + sorted_data[mid]) / 2\n",
    "    else:\n",
    "        return sorted_data[mid]"
   ]
  },
  {
   "cell_type": "code",
   "execution_count": 85,
   "id": "19e48c72",
   "metadata": {},
   "outputs": [
    {
     "name": "stdout",
     "output_type": "stream",
     "text": [
      "The custom median of the data is: 13\n"
     ]
    }
   ],
   "source": [
    "# now if we go back to our original dataset, we can get the median\n",
    "median_value = custom_median(data)\n",
    "print(f\"The custom median of the data is: {median_value}\")"
   ]
  },
  {
   "cell_type": "markdown",
   "id": "61e8aedb",
   "metadata": {},
   "source": [
    "#### Pandas"
   ]
  },
  {
   "cell_type": "code",
   "execution_count": 86,
   "id": "217b2618",
   "metadata": {},
   "outputs": [
    {
     "name": "stdout",
     "output_type": "stream",
     "text": [
      "The median error correct count is: 4.5\n"
     ]
    }
   ],
   "source": [
    "error_correct_count_median = ds['error_correct_counts'].median()\n",
    "print(f\"The median error correct count is: {error_correct_count_median}\")"
   ]
  },
  {
   "cell_type": "code",
   "execution_count": 87,
   "id": "4979806c",
   "metadata": {},
   "outputs": [
    {
     "name": "stdout",
     "output_type": "stream",
     "text": [
      "The median error correct amount is: 1.125\n"
     ]
    }
   ],
   "source": [
    "error_correct_amount_median = ds['error_correct_amounts'].median()\n",
    "print(f\"The median error correct amount is: {error_correct_amount_median}\")"
   ]
  },
  {
   "cell_type": "code",
   "execution_count": 91,
   "id": "2164fc38",
   "metadata": {},
   "outputs": [
    {
     "data": {
      "text/html": [
       "<div>\n",
       "<style scoped>\n",
       "    .dataframe tbody tr th:only-of-type {\n",
       "        vertical-align: middle;\n",
       "    }\n",
       "\n",
       "    .dataframe tbody tr th {\n",
       "        vertical-align: top;\n",
       "    }\n",
       "\n",
       "    .dataframe thead th {\n",
       "        text-align: right;\n",
       "    }\n",
       "</style>\n",
       "<table border=\"1\" class=\"dataframe\">\n",
       "  <thead>\n",
       "    <tr style=\"text-align: right;\">\n",
       "      <th></th>\n",
       "      <th>transaction_ids</th>\n",
       "      <th>error_correct_counts</th>\n",
       "      <th>error_correct_amounts</th>\n",
       "    </tr>\n",
       "  </thead>\n",
       "  <tbody>\n",
       "    <tr>\n",
       "      <th>0</th>\n",
       "      <td>1</td>\n",
       "      <td>4</td>\n",
       "      <td>1.00</td>\n",
       "    </tr>\n",
       "    <tr>\n",
       "      <th>1</th>\n",
       "      <td>2</td>\n",
       "      <td>7</td>\n",
       "      <td>1.75</td>\n",
       "    </tr>\n",
       "    <tr>\n",
       "      <th>2</th>\n",
       "      <td>3</td>\n",
       "      <td>10</td>\n",
       "      <td>2.50</td>\n",
       "    </tr>\n",
       "    <tr>\n",
       "      <th>3</th>\n",
       "      <td>4</td>\n",
       "      <td>5</td>\n",
       "      <td>1.25</td>\n",
       "    </tr>\n",
       "    <tr>\n",
       "      <th>4</th>\n",
       "      <td>5</td>\n",
       "      <td>0</td>\n",
       "      <td>0.00</td>\n",
       "    </tr>\n",
       "    <tr>\n",
       "      <th>5</th>\n",
       "      <td>6</td>\n",
       "      <td>2</td>\n",
       "      <td>0.50</td>\n",
       "    </tr>\n",
       "  </tbody>\n",
       "</table>\n",
       "</div>"
      ],
      "text/plain": [
       "   transaction_ids  error_correct_counts  error_correct_amounts\n",
       "0                1                     4                   1.00\n",
       "1                2                     7                   1.75\n",
       "2                3                    10                   2.50\n",
       "3                4                     5                   1.25\n",
       "4                5                     0                   0.00\n",
       "5                6                     2                   0.50"
      ]
     },
     "execution_count": 91,
     "metadata": {},
     "output_type": "execute_result"
    }
   ],
   "source": [
    "ds"
   ]
  },
  {
   "cell_type": "code",
   "execution_count": 94,
   "id": "8c820ca4",
   "metadata": {},
   "outputs": [
    {
     "data": {
      "text/plain": [
       "transaction_ids          3.500\n",
       "error_correct_counts     4.500\n",
       "error_correct_amounts    1.125\n",
       "dtype: float64"
      ]
     },
     "execution_count": 94,
     "metadata": {},
     "output_type": "execute_result"
    }
   ],
   "source": [
    "# lets test that with our custom function\n",
    "column_medians = ds.apply(custom_median, axis=0)\n",
    "column_medians"
   ]
  },
  {
   "cell_type": "code",
   "execution_count": 95,
   "id": "08c4b50b",
   "metadata": {},
   "outputs": [
    {
     "data": {
      "text/plain": [
       "0    1.0\n",
       "1    2.0\n",
       "2    3.0\n",
       "3    4.0\n",
       "4    0.0\n",
       "5    2.0\n",
       "dtype: float64"
      ]
     },
     "execution_count": 95,
     "metadata": {},
     "output_type": "execute_result"
    }
   ],
   "source": [
    "# if we want row medians\n",
    "row_medians = ds.apply(custom_median, axis=1)\n",
    "row_medians"
   ]
  },
  {
   "cell_type": "code",
   "execution_count": 100,
   "id": "50615182",
   "metadata": {},
   "outputs": [
    {
     "name": "stdout",
     "output_type": "stream",
     "text": [
      "1.0\n",
      "2.0\n",
      "3.0\n",
      "4.0\n",
      "0.0\n",
      "2.0\n"
     ]
    }
   ],
   "source": [
    "print(pd.Series([1,4,1]).median())\n",
    "print(pd.Series([2,7,1.75]).median())\n",
    "print(pd.Series([3,10,2.50]).median())\n",
    "print(pd.Series([4,5,1.25]).median())\n",
    "print(pd.Series([5,0,0]).median())\n",
    "print(pd.Series([6,2,0.5]).median())"
   ]
  },
  {
   "cell_type": "markdown",
   "id": "713dd570",
   "metadata": {},
   "source": [
    "### quantile"
   ]
  },
  {
   "cell_type": "markdown",
   "id": "dbe3bb6a",
   "metadata": {},
   "source": [
    "### describe"
   ]
  }
 ],
 "metadata": {
  "kernelspec": {
   "display_name": "env",
   "language": "python",
   "name": "python3"
  },
  "language_info": {
   "codemirror_mode": {
    "name": "ipython",
    "version": 3
   },
   "file_extension": ".py",
   "mimetype": "text/x-python",
   "name": "python",
   "nbconvert_exporter": "python",
   "pygments_lexer": "ipython3",
   "version": "3.12.10"
  }
 },
 "nbformat": 4,
 "nbformat_minor": 5
}
