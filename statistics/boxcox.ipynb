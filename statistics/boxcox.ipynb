{
 "cells": [
  {
   "cell_type": "markdown",
   "id": "dbef90d1",
   "metadata": {},
   "source": [
    "# Box-Cox"
   ]
  },
  {
   "cell_type": "markdown",
   "id": "35b14f00",
   "metadata": {},
   "source": [
    "## What is Box-Cox (and why use it)?"
   ]
  },
  {
   "cell_type": "markdown",
   "id": "137ed3b4",
   "metadata": {},
   "source": [
    "Box–Cox is a power‐transform designed to make a strictly positive dataset more “Gaussian” (i.e. closer to normality) and stabilize variance. In practical terms:"
   ]
  },
  {
   "cell_type": "markdown",
   "id": "66bf69e5",
   "metadata": {},
   "source": [
    "- if your raw data are skewed heteroscedastic, Box-Cox can ofter pull things toward symmetry and constant variance\n",
    "- it does this by finding a power such that the transformed values are 'as normal as possible' (in the ML sense)"
   ]
  },
  {
   "cell_type": "markdown",
   "id": "92a7c2d9",
   "metadata": {},
   "source": [
    "$$\n",
    "y_i \\;=\\;\n",
    "\\begin{cases}\n",
    "\\dfrac{x_i^{\\lambda} - 1}{\\lambda}, & \\lambda \\neq 0,\\\\[0.75em]\n",
    "\\log\\bigl(x_i\\bigr),             & \\lambda = 0.\n",
    "\\end{cases}\n",
    "$$"
   ]
  },
  {
   "cell_type": "markdown",
   "id": "2954a759",
   "metadata": {},
   "source": [
    "In statistics, heteroscedasticity (also spelled heteroskedasticity) refers to a situation where the variance of the residuals (errors) in a regression model is not constant across all levels of the independent variable. Essentially, the spread of the data points around the regression line is not uniform; it changes as the value of the independent variable changes"
   ]
  },
  {
   "cell_type": "markdown",
   "id": "9cc7b227",
   "metadata": {},
   "source": [
    "### Key requirements"
   ]
  },
  {
   "cell_type": "markdown",
   "id": "01d9b7f2",
   "metadata": {},
   "source": [
    "- Strictly positive data. If and values are less than zero you must shift (e.g. add a constant) to that everything is >0\n",
    "- Goal: choose sigma to maximize the log-likelihood under the assumption that yi comes from a normal"
   ]
  },
  {
   "cell_type": "markdown",
   "id": "0f722de6",
   "metadata": {},
   "source": [
    "$$\n",
    "(\\mu, \\sigma^2)\n",
    "$$"
   ]
  },
  {
   "cell_type": "markdown",
   "id": "715eeef3",
   "metadata": {},
   "source": [
    "## The Box-Cox transformation formula"
   ]
  },
  {
   "cell_type": "markdown",
   "id": "6ebf4c54",
   "metadata": {},
   "source": [
    "For a positive x and parameter $\\lambda$:"
   ]
  },
  {
   "cell_type": "markdown",
   "id": "ce8abf65",
   "metadata": {},
   "source": []
  }
 ],
 "metadata": {
  "language_info": {
   "name": "python"
  }
 },
 "nbformat": 4,
 "nbformat_minor": 5
}
