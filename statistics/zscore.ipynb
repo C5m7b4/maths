{
 "cells": [
  {
   "cell_type": "markdown",
   "id": "0a1409af",
   "metadata": {},
   "source": [
    "# ZScore"
   ]
  },
  {
   "cell_type": "markdown",
   "id": "7e747c1e",
   "metadata": {},
   "source": [
    "## Import Libraries"
   ]
  },
  {
   "cell_type": "code",
   "execution_count": 1,
   "id": "1587d794",
   "metadata": {},
   "outputs": [],
   "source": [
    "import pandas as pd\n",
    "import numpy as np"
   ]
  },
  {
   "cell_type": "markdown",
   "id": "37e26c75",
   "metadata": {},
   "source": [
    "## Generate sample Data"
   ]
  },
  {
   "cell_type": "code",
   "execution_count": 3,
   "id": "cde56b64",
   "metadata": {},
   "outputs": [],
   "source": [
    "# this is a list\n",
    "data = [12, 15, 18, 21, 24, 27, 30, 33, 36, 39]"
   ]
  },
  {
   "cell_type": "code",
   "execution_count": 4,
   "id": "4acbf573",
   "metadata": {},
   "outputs": [],
   "source": [
    "# if we have a list, its easiest to just put in a pandas series\n",
    "series = pd.Series(data)"
   ]
  },
  {
   "cell_type": "markdown",
   "id": "3006182e",
   "metadata": {},
   "source": [
    "## Generate with scipy"
   ]
  },
  {
   "cell_type": "code",
   "execution_count": 20,
   "id": "4cb9e0b2",
   "metadata": {},
   "outputs": [
    {
     "name": "stdout",
     "output_type": "stream",
     "text": [
      "Z-scores: [-1.5666989  -1.21854359 -0.87038828 -0.52223297 -0.17407766  0.17407766\n",
      "  0.52223297  0.87038828  1.21854359  1.5666989 ]\n"
     ]
    }
   ],
   "source": [
    "# this is the function that we want to recreate on our own\n",
    "from scipy import stats\n",
    "sci_data = np.array(data)\n",
    "zscores = stats.zscore(sci_data)\n",
    "print(\"Z-scores:\", zscores)"
   ]
  },
  {
   "cell_type": "markdown",
   "id": "3b7032e9",
   "metadata": {},
   "source": [
    "## The Formula"
   ]
  },
  {
   "cell_type": "markdown",
   "id": "d60f4012",
   "metadata": {},
   "source": [
    "### Calculate the mean and Standard deviation"
   ]
  },
  {
   "cell_type": "code",
   "execution_count": 29,
   "id": "769c5413",
   "metadata": {},
   "outputs": [],
   "source": [
    "mean = series.mean()\n",
    "std_dev = series.std() # note, this is using Bessels's correction (ddof=1) which calculates the sample standard deviation\n",
    "# but scipy.stsats.zscore uses the population standard deviation (ddof=0)\n",
    "# its the same as this\n",
    "sample_std_dev = series.std(ddof=1)"
   ]
  },
  {
   "cell_type": "code",
   "execution_count": 30,
   "id": "cb6434b9",
   "metadata": {},
   "outputs": [
    {
     "name": "stdout",
     "output_type": "stream",
     "text": [
      "mean: 25.5, std_dev: 9.082951062292475, sample_std_dev: 9.082951062292475\n"
     ]
    }
   ],
   "source": [
    "print(f\"mean: {mean}, std_dev: {std_dev}, sample_std_dev: {sample_std_dev}\")    "
   ]
  },
  {
   "cell_type": "code",
   "execution_count": 21,
   "id": "88f615c7",
   "metadata": {},
   "outputs": [
    {
     "name": "stdout",
     "output_type": "stream",
     "text": [
      "Population standard deviation: 8.616843969807043\n"
     ]
    }
   ],
   "source": [
    "# standard deviation using the population\n",
    "pop_std_dev = series.std(ddof=0)  # ddof=0 for population standard deviation\n",
    "print(f\"Population standard deviation: {pop_std_dev}\")"
   ]
  },
  {
   "cell_type": "markdown",
   "id": "ae323bab",
   "metadata": {},
   "source": [
    "### Calculate the ZScore"
   ]
  },
  {
   "cell_type": "code",
   "execution_count": null,
   "id": "24546270",
   "metadata": {},
   "outputs": [
    {
     "name": "stdout",
     "output_type": "stream",
     "text": [
      "zscore: 0   -1.486301\n",
      "1   -1.156012\n",
      "2   -0.825723\n",
      "3   -0.495434\n",
      "4   -0.165145\n",
      "5    0.165145\n",
      "6    0.495434\n",
      "7    0.825723\n",
      "8    1.156012\n",
      "9    1.486301\n",
      "dtype: float64\n"
     ]
    }
   ],
   "source": [
    "# this calculation would be using a sample instead of a population\n",
    "zscore = (series - mean) / std_dev\n",
    "print(f\"zscore: {zscore}\")"
   ]
  },
  {
   "cell_type": "code",
   "execution_count": 31,
   "id": "10f7e79a",
   "metadata": {},
   "outputs": [
    {
     "name": "stdout",
     "output_type": "stream",
     "text": [
      "zscore using population std dev: 0   -1.566699\n",
      "1   -1.218544\n",
      "2   -0.870388\n",
      "3   -0.522233\n",
      "4   -0.174078\n",
      "5    0.174078\n",
      "6    0.522233\n",
      "7    0.870388\n",
      "8    1.218544\n",
      "9    1.566699\n",
      "dtype: float64\n"
     ]
    }
   ],
   "source": [
    "# here is the breakdown using the population\n",
    "zscore_pop = (series - mean) / pop_std_dev\n",
    "print(f\"zscore using population std dev: {zscore_pop}\")\n",
    "# this is the one that we want to match with scipy.stats.zscore"
   ]
  },
  {
   "cell_type": "markdown",
   "id": "53f0cb88",
   "metadata": {},
   "source": [
    "### Manually Calculate the zscore"
   ]
  },
  {
   "cell_type": "code",
   "execution_count": 10,
   "id": "78dbd83a",
   "metadata": {},
   "outputs": [
    {
     "name": "stdout",
     "output_type": "stream",
     "text": [
      "mean: 25.5\n"
     ]
    }
   ],
   "source": [
    "mean = sum(series) / len(series)\n",
    "print(f\"mean: {mean}\")"
   ]
  },
  {
   "cell_type": "code",
   "execution_count": 11,
   "id": "36752e5c",
   "metadata": {},
   "outputs": [
    {
     "name": "stdout",
     "output_type": "stream",
     "text": [
      "differences: [-13.5, -10.5, -7.5, -4.5, -1.5, 1.5, 4.5, 7.5, 10.5, 13.5]\n"
     ]
    }
   ],
   "source": [
    "differences = [(x - mean) for x in series]\n",
    "print(f\"differences: {differences}\")"
   ]
  },
  {
   "cell_type": "code",
   "execution_count": 22,
   "id": "020bf432",
   "metadata": {},
   "outputs": [
    {
     "name": "stdout",
     "output_type": "stream",
     "text": [
      "std_dev: 8.616843969807043\n"
     ]
    }
   ],
   "source": [
    "std_dev = (sum([diff ** 2 for diff in differences]) / len(series)) ** 0.5\n",
    "print(f\"std_dev: {std_dev}\")\n",
    "# this matches the standard deviation that we calculated manually above using population instead of sample"
   ]
  },
  {
   "cell_type": "code",
   "execution_count": 18,
   "id": "a360f78b",
   "metadata": {},
   "outputs": [
    {
     "name": "stdout",
     "output_type": "stream",
     "text": [
      "zscores: [-1.5666989036012806, -1.2185435916898848, -0.8703882797784892, -0.5222329678670935, -0.17407765595569785, 0.17407765595569785, 0.5222329678670935, 0.8703882797784892, 1.2185435916898848, 1.5666989036012806]\n"
     ]
    }
   ],
   "source": [
    "zscores = [(x - mean) / std_dev for x in series]\n",
    "print(f\"zscores: {zscores}\")"
   ]
  },
  {
   "cell_type": "code",
   "execution_count": null,
   "id": "c5bace64",
   "metadata": {},
   "outputs": [],
   "source": []
  }
 ],
 "metadata": {
  "kernelspec": {
   "display_name": "env",
   "language": "python",
   "name": "python3"
  },
  "language_info": {
   "codemirror_mode": {
    "name": "ipython",
    "version": 3
   },
   "file_extension": ".py",
   "mimetype": "text/x-python",
   "name": "python",
   "nbconvert_exporter": "python",
   "pygments_lexer": "ipython3",
   "version": "3.12.10"
  }
 },
 "nbformat": 4,
 "nbformat_minor": 5
}
