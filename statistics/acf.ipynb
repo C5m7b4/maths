{
 "cells": [
  {
   "cell_type": "code",
   "execution_count": 1,
   "id": "893fd552",
   "metadata": {},
   "outputs": [],
   "source": [
    "import pandas as pd\n",
    "import numpy as np"
   ]
  },
  {
   "cell_type": "markdown",
   "id": "e1550a4e",
   "metadata": {},
   "source": [
    "## create a time series"
   ]
  },
  {
   "cell_type": "code",
   "execution_count": 4,
   "id": "1e4f8f3f",
   "metadata": {},
   "outputs": [
    {
     "data": {
      "text/plain": [
       "array([ 0.        , -0.1382643 ,  0.55090353,  1.90866233,  1.10191025,\n",
       "        0.53720022,  1.95525297,  2.13611181,  1.02580388,  1.26062276,\n",
       "        0.41901824, -0.17241699,  0.12127038, -1.82839098, -3.00479152,\n",
       "       -2.66564159, -2.87878023, -1.70089883, -2.09865326, -2.88136098,\n",
       "       -0.55130392, -0.61168904, -0.36065413, -1.67720607, -1.71842698,\n",
       "       -1.09197629, -1.91537698, -0.96506587, -1.2761848 , -1.18502311,\n",
       "       -1.43122279,  0.85042223,  0.58179834, -0.65045209,  0.36722845,\n",
       "       -0.96378374, -0.46578502, -2.28571964, -2.9281898 , -1.85287162,\n",
       "       -0.55854355, -0.21961221, -0.26937683, -0.48966747, -1.82128922,\n",
       "       -1.99474666, -1.85696144, -0.24275078,  0.17369274, -1.64145523,\n",
       "       -0.82493469, -0.96253657, -1.3506976 , -0.33381203,  0.7973311 ,\n",
       "        1.48941189,  0.2033708 , -0.16685282,  0.21446646,  1.12567165,\n",
       "        0.30879592,  0.03049817, -1.08498626, -1.95569701, -0.55646208,\n",
       "        0.96671657,  0.60469148,  1.42681693,  1.36040788,  0.30716576,\n",
       "        0.57641164,  1.94152471,  1.32324126,  2.49091254, -0.87610633,\n",
       "        0.20862807,  0.23308672, -0.13584665, -0.00333188, -1.98990123,\n",
       "       -1.61260275, -0.77170935,  0.9376975 ,  0.13811803, -0.71181098,\n",
       "       -1.00002473,  0.21538481,  0.47952047, -0.19409587,  0.37740032,\n",
       "        0.36125778,  1.22152543,  0.15301471, -0.22055185, -0.54649445,\n",
       "       -1.84606106, -0.99612247, -0.43623045, -0.30024786, -0.44476064])"
      ]
     },
     "execution_count": 4,
     "metadata": {},
     "output_type": "execute_result"
    }
   ],
   "source": [
    "np.random.seed(42)\n",
    "N = 100\n",
    "phi = 0.7\n",
    "eps = np.random.normal(size=N)\n",
    "ts = np.zeros(N)\n",
    "for t in range(1, N):\n",
    "    ts[t] = phi * ts[t-1] + eps[t]\n",
    "\n",
    "ts"
   ]
  },
  {
   "cell_type": "markdown",
   "id": "904a903d",
   "metadata": {},
   "source": [
    "## our custom code"
   ]
  },
  {
   "cell_type": "code",
   "execution_count": 5,
   "id": "b07f3981",
   "metadata": {},
   "outputs": [],
   "source": [
    "nlags = 10"
   ]
  },
  {
   "cell_type": "code",
   "execution_count": 6,
   "id": "a9290d83",
   "metadata": {},
   "outputs": [],
   "source": [
    "arr = np.asarray(ts, dtype=float)\n",
    "N = len(arr)\n",
    "if nlags >= N:\n",
    "    raise ValueError('nlags must be strictly less than the length of the series')"
   ]
  },
  {
   "cell_type": "code",
   "execution_count": 8,
   "id": "199d637a",
   "metadata": {},
   "outputs": [],
   "source": [
    "# compute the mean, then center the series\n",
    "mu = arr.mean()\n",
    "y = arr - mu # y_t - x_t - mu"
   ]
  },
  {
   "cell_type": "code",
   "execution_count": 14,
   "id": "f6022801",
   "metadata": {},
   "outputs": [],
   "source": [
    "gamma0 = (y * y).sum() / N\n",
    "if gamma0 == 0:\n",
    "    # perfectly constant series - all acfs undefined except at lag 0\n",
    "    acf_all = np.zeros(nlags + 1, dtype=float)\n",
    "    acf_all[0] = 1.0\n",
    "    print(f'acf_all: {acf_all}')\n"
   ]
  },
  {
   "cell_type": "code",
   "execution_count": 15,
   "id": "023774a9",
   "metadata": {},
   "outputs": [],
   "source": [
    "acf_vals = np.empty(nlags + 1, dtype=float)\n",
    "for k in range(nlags + 1):\n",
    "    numerator = np.dot(y[:N-k], y[k: N]) / N\n",
    "    acf_vals[k] = numerator / gamma0"
   ]
  },
  {
   "cell_type": "code",
   "execution_count": null,
   "id": "2cca5742",
   "metadata": {},
   "outputs": [],
   "source": []
  }
 ],
 "metadata": {
  "kernelspec": {
   "display_name": "env",
   "language": "python",
   "name": "python3"
  },
  "language_info": {
   "codemirror_mode": {
    "name": "ipython",
    "version": 3
   },
   "file_extension": ".py",
   "mimetype": "text/x-python",
   "name": "python",
   "nbconvert_exporter": "python",
   "pygments_lexer": "ipython3",
   "version": "3.12.10"
  }
 },
 "nbformat": 4,
 "nbformat_minor": 5
}
