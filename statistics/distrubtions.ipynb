{
 "cells": [
  {
   "cell_type": "code",
   "execution_count": 1,
   "id": "a1d9323c",
   "metadata": {},
   "outputs": [],
   "source": [
    "import numpy as np\n",
    "import pandas as pd\n",
    "import matplotlib.pyplot as plt\n",
    "import seaborn as sns\n",
    "import scipy.stats as ss"
   ]
  },
  {
   "cell_type": "code",
   "execution_count": 2,
   "id": "ec2e44bc",
   "metadata": {},
   "outputs": [],
   "source": [
    "movies = pd.read_csv('../data/movies.csv')"
   ]
  },
  {
   "cell_type": "code",
   "execution_count": 3,
   "id": "47646954",
   "metadata": {},
   "outputs": [
    {
     "data": {
      "text/html": [
       "<div>\n",
       "<style scoped>\n",
       "    .dataframe tbody tr th:only-of-type {\n",
       "        vertical-align: middle;\n",
       "    }\n",
       "\n",
       "    .dataframe tbody tr th {\n",
       "        vertical-align: top;\n",
       "    }\n",
       "\n",
       "    .dataframe thead th {\n",
       "        text-align: right;\n",
       "    }\n",
       "</style>\n",
       "<table border=\"1\" class=\"dataframe\">\n",
       "  <thead>\n",
       "    <tr style=\"text-align: right;\">\n",
       "      <th></th>\n",
       "      <th>Title</th>\n",
       "      <th>Year</th>\n",
       "      <th>Genre</th>\n",
       "      <th>Duration</th>\n",
       "      <th>Director</th>\n",
       "      <th>Rating</th>\n",
       "      <th>Popularity</th>\n",
       "    </tr>\n",
       "  </thead>\n",
       "  <tbody>\n",
       "    <tr>\n",
       "      <th>0</th>\n",
       "      <td>What Is It?</td>\n",
       "      <td>2005</td>\n",
       "      <td>Drama</td>\n",
       "      <td>72</td>\n",
       "      <td>Crispin Glover</td>\n",
       "      <td>5.6</td>\n",
       "      <td>21.83</td>\n",
       "    </tr>\n",
       "    <tr>\n",
       "      <th>1</th>\n",
       "      <td>Glitter</td>\n",
       "      <td>2001</td>\n",
       "      <td>Drama</td>\n",
       "      <td>104</td>\n",
       "      <td>Vondie Curtis-Hall</td>\n",
       "      <td>2.2</td>\n",
       "      <td>81.69</td>\n",
       "    </tr>\n",
       "    <tr>\n",
       "      <th>2</th>\n",
       "      <td>The Attic Expeditions</td>\n",
       "      <td>2001</td>\n",
       "      <td>Comedy</td>\n",
       "      <td>100</td>\n",
       "      <td>Jeremy Kasten</td>\n",
       "      <td>5.0</td>\n",
       "      <td>42.08</td>\n",
       "    </tr>\n",
       "    <tr>\n",
       "      <th>3</th>\n",
       "      <td>Men in Black II</td>\n",
       "      <td>2002</td>\n",
       "      <td>Action</td>\n",
       "      <td>88</td>\n",
       "      <td>Barry Sonnenfeld</td>\n",
       "      <td>6.2</td>\n",
       "      <td>98.60</td>\n",
       "    </tr>\n",
       "    <tr>\n",
       "      <th>4</th>\n",
       "      <td>Star Wars: Episode II - Attack of the Clones</td>\n",
       "      <td>2002</td>\n",
       "      <td>Action</td>\n",
       "      <td>142</td>\n",
       "      <td>George Lucas</td>\n",
       "      <td>6.5</td>\n",
       "      <td>99.58</td>\n",
       "    </tr>\n",
       "  </tbody>\n",
       "</table>\n",
       "</div>"
      ],
      "text/plain": [
       "                                          Title  Year   Genre  Duration  \\\n",
       "0                                   What Is It?  2005   Drama        72   \n",
       "1                                       Glitter  2001   Drama       104   \n",
       "2                         The Attic Expeditions  2001  Comedy       100   \n",
       "3                               Men in Black II  2002  Action        88   \n",
       "4  Star Wars: Episode II - Attack of the Clones  2002  Action       142   \n",
       "\n",
       "             Director  Rating  Popularity  \n",
       "0      Crispin Glover     5.6       21.83  \n",
       "1  Vondie Curtis-Hall     2.2       81.69  \n",
       "2       Jeremy Kasten     5.0       42.08  \n",
       "3    Barry Sonnenfeld     6.2       98.60  \n",
       "4        George Lucas     6.5       99.58  "
      ]
     },
     "execution_count": 3,
     "metadata": {},
     "output_type": "execute_result"
    }
   ],
   "source": [
    "movies.head()"
   ]
  },
  {
   "cell_type": "code",
   "execution_count": 4,
   "id": "1ff8cb7e",
   "metadata": {},
   "outputs": [
    {
     "data": {
      "text/plain": [
       "np.float64(5.379981042654029)"
      ]
     },
     "execution_count": 4,
     "metadata": {},
     "output_type": "execute_result"
    }
   ],
   "source": [
    "movies['Rating'].mean()"
   ]
  },
  {
   "cell_type": "code",
   "execution_count": 5,
   "id": "6a18f0fc",
   "metadata": {},
   "outputs": [
    {
     "data": {
      "text/plain": [
       "np.float64(5.5)"
      ]
     },
     "execution_count": 5,
     "metadata": {},
     "output_type": "execute_result"
    }
   ],
   "source": [
    "movies['Rating'].median()"
   ]
  },
  {
   "cell_type": "code",
   "execution_count": 7,
   "id": "57579c57",
   "metadata": {},
   "outputs": [
    {
     "data": {
      "text/plain": [
       "np.float64(1.2481025415142355)"
      ]
     },
     "execution_count": 7,
     "metadata": {},
     "output_type": "execute_result"
    }
   ],
   "source": [
    "movies['Rating'].std()"
   ]
  },
  {
   "cell_type": "code",
   "execution_count": 8,
   "id": "045b8058",
   "metadata": {},
   "outputs": [
    {
     "data": {
      "text/plain": [
       "np.float64(0.6900527945273304)"
      ]
     },
     "execution_count": 8,
     "metadata": {},
     "output_type": "execute_result"
    }
   ],
   "source": [
    "ss.norm.cdf(x = 6, loc=5.38, scale=1.25)"
   ]
  },
  {
   "cell_type": "code",
   "execution_count": 9,
   "id": "8678fdd7",
   "metadata": {},
   "outputs": [
    {
     "data": {
      "text/plain": [
       "np.float64(0.30994720547266963)"
      ]
     },
     "execution_count": 9,
     "metadata": {},
     "output_type": "execute_result"
    }
   ],
   "source": [
    "1-ss.norm.cdf(x = 6, loc=5.38, scale=1.25)"
   ]
  },
  {
   "cell_type": "code",
   "execution_count": 6,
   "id": "e1fcaf4e",
   "metadata": {},
   "outputs": [
    {
     "data": {
      "text/plain": [
       "np.float64(32.81516587677725)"
      ]
     },
     "execution_count": 6,
     "metadata": {},
     "output_type": "execute_result"
    }
   ],
   "source": [
    "(movies['Rating'] > 6).sum()/len(movies['Rating'])*100"
   ]
  },
  {
   "cell_type": "markdown",
   "id": "11299e44",
   "metadata": {},
   "source": [
    "## Using Normal Distribution"
   ]
  },
  {
   "cell_type": "code",
   "execution_count": 9,
   "id": "dc1c2839",
   "metadata": {},
   "outputs": [
    {
     "data": {
      "text/plain": [
       "np.float64(1.2481025415142355)"
      ]
     },
     "execution_count": 9,
     "metadata": {},
     "output_type": "execute_result"
    }
   ],
   "source": [
    "movies['Rating'].std()"
   ]
  },
  {
   "cell_type": "code",
   "execution_count": 10,
   "id": "b052035c",
   "metadata": {},
   "outputs": [
    {
     "data": {
      "text/plain": [
       "array([ 7.41418825,  4.64142205,  4.74506703,  4.06951891,  6.47310546,\n",
       "        2.54609202,  7.56356659,  4.45610344,  5.79560848,  5.09078073,\n",
       "        7.21301384,  2.84542552,  5.00020267,  4.9237726 ,  6.80587411,\n",
       "        4.03613483,  5.18618902,  4.31145556,  5.45234505,  6.12269087,\n",
       "        4.03523222,  6.8194574 ,  6.51797249,  6.02309298,  6.51706138,\n",
       "        4.55217745,  5.24761612,  4.2396459 ,  5.06781878,  6.05764078,\n",
       "        4.54234067,  4.90802563,  4.54790585,  4.351945  ,  4.5676548 ,\n",
       "        5.3842959 ,  4.01453517,  5.69067547,  7.4581547 ,  6.32013476,\n",
       "        5.16212392,  4.29934008,  4.47352372,  7.49864371,  5.46300162,\n",
       "        4.6101254 ,  5.6367352 ,  8.00431637,  5.5489971 ,  6.16533186,\n",
       "        5.7722112 ,  4.96321019,  3.98327743,  4.96681502,  5.14097115,\n",
       "        6.12741276,  6.44033943,  6.55456658,  5.75412828,  6.49757504,\n",
       "        4.46454655,  6.95355651,  6.03603298,  5.03036488,  6.0057625 ,\n",
       "        5.30629108,  6.80322044,  7.28457285,  8.1101135 ,  3.66834454,\n",
       "        3.60929888,  4.77446233,  5.59844597,  6.48644946,  5.79138733,\n",
       "        2.89247049,  5.02030702,  6.42668856,  5.68531747,  6.34489386,\n",
       "        5.1243131 ,  5.15105999,  5.63133612,  5.90846404,  5.64589165,\n",
       "        5.54757072,  4.56837877,  5.8681791 ,  5.55105838,  6.80056005,\n",
       "        6.88665817,  5.62959396,  4.93464666,  4.60797429,  5.925133  ,\n",
       "        5.49590168,  4.97362144,  5.4540601 ,  4.63119895,  6.26555972,\n",
       "        4.84556058,  6.91838955,  5.90032964,  6.13603737,  4.04230931,\n",
       "        5.61003422,  6.31829   ,  4.21741125,  5.06988905,  5.44044204,\n",
       "        3.69733452,  5.79079765,  6.4492392 ,  4.33420023,  5.83467701,\n",
       "        3.77276857,  5.35201757,  3.39644228,  6.79055796,  5.90703667,\n",
       "        5.36947497,  4.43879959,  6.97945735,  7.83920617,  3.09610249,\n",
       "        6.9328434 ,  7.41828693,  5.8191345 ,  3.91290764,  6.47054819,\n",
       "        5.17565883,  4.65113842,  3.87472791,  6.0826665 ,  6.38308051,\n",
       "        4.6268219 ,  6.04551466,  3.98101668,  6.39430768,  5.45774345,\n",
       "        5.16865348,  5.27383512,  6.47741883,  6.33051043,  6.056537  ,\n",
       "        5.5707495 ,  5.4964982 ,  6.16679152,  5.68829325,  6.24636374,\n",
       "        5.0154552 ,  2.38080117,  6.68814251,  8.11185476,  5.94729191,\n",
       "        5.27580751,  5.23080852,  5.25237281,  5.42158767,  4.00869678,\n",
       "        4.75880287,  4.16368673,  5.70851096,  5.03216497,  6.01406204,\n",
       "        5.18336808,  6.62305563,  5.66478204,  8.11646766,  3.04851246,\n",
       "        4.59782331,  6.51784375,  8.53512388,  5.09169288,  5.45414955,\n",
       "        5.11937034,  7.05100682,  5.04373825,  6.2432866 ,  5.00344602,\n",
       "        3.82202714,  5.78879917,  6.02394917,  7.00360009,  5.26304569,\n",
       "        4.63447104,  6.09782376,  5.69851399,  5.7480247 ,  5.30934025,\n",
       "        6.83881983,  5.85817097,  7.7617768 ,  6.77771031,  6.21722175,\n",
       "        3.38197646,  6.14687591,  5.92114993,  6.40558007,  6.6951082 ,\n",
       "        4.90291104,  6.42176697,  4.70274127,  7.82404881,  3.74837993,\n",
       "        3.21674619,  3.35310563,  4.29571108,  4.01229691,  7.82553784,\n",
       "        4.99514062,  3.73508202,  6.78183489,  4.67271032,  3.86630181,\n",
       "        6.48604027,  6.1729691 ,  4.86065371,  7.1453496 ,  5.56008596,\n",
       "        7.4050175 ,  6.02339869,  7.33291887,  5.53565934,  3.88751695,\n",
       "        8.43721712,  4.72324003,  5.15344105,  4.53150585,  5.14779088,\n",
       "        5.70091011,  5.65026942,  6.21966516,  7.62227618,  5.25062393,\n",
       "        3.87093029,  3.93392552,  4.5744644 ,  3.3239972 ,  6.42303698,\n",
       "        4.78221518,  5.01437863,  5.39765456,  3.66819067,  4.33196771,\n",
       "        6.23664229,  6.16698852,  4.85046681,  7.64506329,  3.78089862,\n",
       "        4.97221586,  5.11375872,  1.9365746 ,  7.80253573,  5.8542517 ,\n",
       "        4.10470917,  7.94345507,  6.12622088,  5.93261241,  4.64732199,\n",
       "        5.53171618,  3.50815641,  6.38583236,  4.93569648,  5.56621976,\n",
       "        6.89054803,  5.75308766,  5.72545963,  5.74285914,  4.49074321,\n",
       "        6.43664585,  7.3137653 ,  6.34091902,  6.49728693,  4.31217092,\n",
       "        4.32394384,  3.61331373,  6.92799381,  5.08481696,  7.13580649,\n",
       "        4.43042951,  4.85748886,  5.51832711,  6.54259809,  5.47533024,\n",
       "        5.6617947 ,  5.42049418,  5.61971277,  4.01557718,  5.50034961,\n",
       "        5.16864205,  5.32953764,  6.01049733,  4.55595911,  5.29521005,\n",
       "        5.03127127,  5.91745449,  6.37311561,  4.21527267,  6.12652893,\n",
       "        7.96157132,  3.57576541,  4.37058685,  4.30808378,  5.05391883,\n",
       "        7.41233287,  5.41655732,  4.53857994,  6.17103635,  4.65624238,\n",
       "        6.79303108,  5.77853113,  7.12208645,  4.57993314,  9.15826282,\n",
       "        6.42248494,  6.21167939,  5.33652632,  4.50025957,  4.32396684,\n",
       "        5.23138812,  4.41138547,  5.75051788,  4.37563918,  6.17014255,\n",
       "        6.58559091,  4.52475777,  6.87893072,  5.104952  ,  6.83255698,\n",
       "        5.94332627,  6.79168712,  4.16369545,  5.26757546,  7.19977228,\n",
       "        4.63363431,  2.87387048,  2.99118941,  2.29201359,  2.77843674,\n",
       "        4.88956744,  6.98537482,  4.85163569,  5.80117392,  5.26361055,\n",
       "        5.41060069,  5.19143344,  5.18401637,  5.97184348,  3.94178149,\n",
       "        6.6525577 ,  6.54082224,  5.1581289 ,  6.39868785,  4.53033291,\n",
       "        4.73384345,  5.59376717,  5.16412593,  4.84356484,  4.56616443,\n",
       "        4.70870654,  6.56456924,  2.99027898,  5.83709301,  5.10681818,\n",
       "        6.30248874,  6.03869128,  1.94965726,  6.1249618 ,  5.80210006,\n",
       "        5.42710992,  4.81884447,  6.45806872,  4.88784366,  7.67504986,\n",
       "        6.09983474,  8.0509068 ,  4.42593784,  3.22265221,  6.2863391 ,\n",
       "        6.45735304,  5.44384652,  3.49189638,  4.84460997,  6.16630206,\n",
       "        5.17162136,  5.25617837,  5.18243088,  4.24194583,  4.7390548 ,\n",
       "        3.63107128,  7.59227034,  4.81053763,  5.99223663,  4.13286143,\n",
       "        6.38521502,  3.07728039,  6.54156275,  5.35614377,  8.01715027,\n",
       "        3.77989775,  5.4947118 ,  5.85536745,  6.928795  ,  4.87565737,\n",
       "        5.50721586,  2.74334126,  4.37059061,  5.96000378,  6.76917616,\n",
       "        5.05064703,  7.94988085,  7.58270904,  5.32479091,  2.40725628,\n",
       "        3.19581769,  4.43545505,  6.78364297,  5.78473764,  2.80313271,\n",
       "        5.11633037,  7.4005681 ,  4.93524219,  4.47003767,  7.94773389,\n",
       "        5.46622783,  4.8058452 ,  5.83420728,  5.42128426,  4.86786357,\n",
       "        6.89848585,  6.78347024,  6.44266833,  5.27241985,  6.82215647,\n",
       "        5.3383688 ,  5.97863765,  6.68177172,  6.40296701,  7.61929581,\n",
       "        5.95959218,  3.31176562,  3.96138907,  7.07413246,  4.98920887,\n",
       "        5.87930854,  4.34419499,  6.64109297,  4.92280801,  7.20805422,\n",
       "        4.74002981,  6.78648541,  6.23625117,  4.50423404,  6.76275545,\n",
       "        4.28197323,  4.38014069,  6.294922  ,  4.62457592,  4.6636346 ,\n",
       "        4.97356312,  4.1597902 ,  6.69579307,  6.15455823,  5.31403242,\n",
       "        5.26559384,  5.95819284,  7.58901552,  6.48000256,  4.76951315,\n",
       "        6.36399981,  5.25272375,  5.15324225,  7.71442451,  4.88051701,\n",
       "        4.80581071,  2.97938944,  3.66111186,  5.95939244,  4.53829808,\n",
       "        6.03911311,  4.0175599 ,  4.44853582,  6.23646768,  7.21150655,\n",
       "        6.13466627,  6.88531024,  7.51369677,  6.68971055,  4.26113435,\n",
       "        5.26937256,  6.18144263,  4.88558984,  5.96041309,  3.44184621,\n",
       "        4.37250131,  6.05581088,  2.62601273,  4.0264365 ,  5.37802929,\n",
       "        3.26795085,  5.47083004,  4.40856111,  5.0384227 ,  5.07886126,\n",
       "        5.63472356,  4.70090197,  5.51121115,  4.65456557,  6.08953115,\n",
       "        7.5003233 ,  5.64411853,  5.61063788,  3.95663012,  6.25977412,\n",
       "        4.45999651,  4.39702948,  6.09122492,  5.62448804,  6.77289756,\n",
       "        7.18916739,  4.73079486,  5.55918747,  7.58291483,  6.59850867,\n",
       "        6.28418082,  7.01969552,  4.65029232,  6.18936343,  7.1474742 ,\n",
       "        7.40993123,  4.40033083,  5.08792398,  5.87456682,  5.04164329,\n",
       "        4.91414786,  6.24816165,  4.96177162,  3.18298801,  5.84869067,\n",
       "        4.87362894,  4.49290158,  3.45848469,  6.65713986,  2.63838034,\n",
       "        3.29282633,  5.05795088,  6.92390493,  7.02403532,  3.96782153,\n",
       "        5.17973608,  3.52703409,  6.65389676,  3.5690623 ,  5.22243728,\n",
       "        6.68089989,  5.1242066 ,  7.22299883,  4.3211898 ,  5.85779618,\n",
       "        6.45806991,  5.22675745,  7.11902969,  6.07968069,  3.3695625 ,\n",
       "       10.30866735,  6.20431812,  5.53310568,  3.6654721 ,  5.5013921 ,\n",
       "        4.82967089,  6.19899855,  5.86087116,  7.69773176,  5.5763917 ,\n",
       "        6.0367468 ,  5.8618465 ,  5.21587264,  5.17258376,  6.76524025,\n",
       "        6.36723365,  4.61949241,  4.01933923,  5.31641157,  6.84018558,\n",
       "        5.36586356,  7.56557951,  4.43891284,  5.57563427,  2.27978321,\n",
       "        4.66137183,  5.01668956,  6.03356284,  7.52122068,  5.44333005,\n",
       "        7.2028578 ,  6.22048453,  6.6230767 ,  4.82196798,  7.11738927,\n",
       "        4.06952429,  6.01399668,  4.219443  ,  4.75749952,  3.58785953,\n",
       "        4.75972859,  5.83538495,  5.31472463,  3.72877147,  7.22371742,\n",
       "        5.81815396,  6.65000114,  6.37368138,  4.57556397,  2.98814177,\n",
       "        4.26487378,  6.91919325,  4.09360287,  6.41189417,  4.64061535,\n",
       "        5.88745546,  3.13833938,  6.84717321,  5.35081081,  6.49842399,\n",
       "        5.63542845,  6.38959911,  5.27360427,  6.32176211,  3.52812987,\n",
       "        4.05991874,  6.29958777,  5.35141896,  5.11634483,  5.17728075,\n",
       "        6.02213914,  4.66425374,  6.03278142,  4.26441811,  4.89500747,\n",
       "        6.62134007,  6.72835301,  4.03952859,  6.43990709,  4.11141392,\n",
       "        6.30894881,  3.04547305,  4.01478274,  4.76887438,  5.19355742,\n",
       "        7.16528189,  6.52095898,  7.35358021,  6.89619379,  5.0492492 ,\n",
       "        5.06975466,  6.72552481,  5.45006057,  5.20532785,  3.74434862,\n",
       "        5.26798945,  1.93916446,  4.83441423,  4.18493609,  6.25879219,\n",
       "        4.80644628,  4.99197608,  7.07041078,  4.099156  ,  5.79265703,\n",
       "        3.04986899,  5.51126411,  5.90872952,  6.46624001,  4.28563284,\n",
       "        5.79637461,  5.79451121,  5.37615277,  5.58602019,  5.97478256,\n",
       "        5.89337173,  4.1649465 ,  3.91713173,  8.50741555,  7.78054244,\n",
       "        3.67429959,  5.95827   ,  6.17802198,  6.33165817,  5.57409034,\n",
       "        4.2506788 ,  5.1737987 ,  4.79100483,  5.56662266,  5.06721958,\n",
       "        5.23672222,  6.66300507,  6.92589217,  3.93543207,  4.82968667,\n",
       "        4.41940806,  6.91741554,  5.3263838 ,  7.19674686,  4.80779974,\n",
       "        5.43223999,  3.72761641,  7.01514407,  4.95036101,  3.558406  ,\n",
       "        4.66534801,  2.54191416,  5.36054671,  5.5394848 ,  5.75721693,\n",
       "        7.25765415,  5.02678957,  6.40124534,  5.78717597,  5.16028117,\n",
       "        2.82476549,  6.57490145,  4.7750723 ,  5.42226531,  3.82462864,\n",
       "        5.75091446,  5.53395821,  5.43647785,  5.23285652,  6.70103068,\n",
       "        6.59811387,  6.3001369 ,  9.51813766,  4.65572059,  4.92939828,\n",
       "        4.14164342,  5.94062288,  4.54751563,  2.05403144,  3.89546072,\n",
       "        5.48959235,  6.6521363 ,  3.46939247,  4.64057176,  5.22720376,\n",
       "        4.49661351,  6.0586431 ,  5.40496104,  5.79836973,  4.50073349,\n",
       "        7.30530505,  5.39953499,  7.00400153,  4.8556429 ,  6.13164894,\n",
       "        4.55756411,  4.22087253,  4.52660559,  5.34312531,  5.12877051,\n",
       "        7.30861669,  3.97560676,  4.04798047,  7.5082333 ,  6.15489174,\n",
       "        3.06705052,  6.01661368,  5.69429255,  2.74088938,  4.94174259,\n",
       "        5.37835586,  6.30693912,  6.58357463,  5.518726  ,  6.681479  ,\n",
       "        5.21862114,  4.33670394,  4.24161451,  6.07288017,  2.97187033,\n",
       "        6.24048139,  4.0278494 ,  4.95456212,  6.02667356,  6.91024672,\n",
       "        2.9935556 ,  4.40033902,  5.4608365 ,  4.66085295,  6.46841265,\n",
       "        2.8128757 ,  5.84863403,  5.92814102,  5.46085969,  6.76677355,\n",
       "        3.87532793,  6.77468478,  4.5283787 ,  6.29968264,  4.99798677,\n",
       "        6.40978548,  6.36778271,  3.58457357,  5.20843092,  5.28538393,\n",
       "        5.10503467,  4.46297817,  7.69578299,  5.65927988,  7.32821983,\n",
       "        4.69425567,  4.08337202,  5.56398725,  4.70158661,  8.36378099,\n",
       "        5.70432433,  6.82922293,  5.12194764,  4.99568398,  5.36166984,\n",
       "        5.8410894 ,  6.45348769,  5.24852902,  4.55574405,  4.07583305,\n",
       "        5.30491759,  6.11047378,  5.96785437,  5.37790624,  4.65582789,\n",
       "        5.58198893,  6.10903805,  5.35434611,  5.53933693,  5.21337464,\n",
       "        6.53521909,  4.85663167,  5.63006417,  5.88909076,  6.29964797,\n",
       "        7.25489711,  6.23756272,  6.14302441,  3.57690601,  6.15194089,\n",
       "        8.24420984,  4.37078638,  4.13579539,  5.13382924,  6.66634768,\n",
       "        6.05069061,  4.80836598,  5.35537217,  6.68592834,  6.23404849,\n",
       "        8.41180744,  6.64705148,  5.83842335,  6.16226058,  4.9672596 ,\n",
       "        4.18756148,  5.61322684,  6.00829569,  3.66984905,  4.75227798,\n",
       "        4.94212268,  5.72939658,  5.07702209,  5.95191992,  5.52165919,\n",
       "        6.71480611,  3.2781521 ,  7.45483455,  7.15791578,  5.46239319,\n",
       "        6.20640079,  6.15212002,  4.48576086,  5.60418468,  6.36493598,\n",
       "        5.78417278,  6.70363775,  5.51779518,  5.50013123,  4.44792335,\n",
       "        4.94797282,  4.82995008,  7.51479956,  5.69822688,  4.16071114,\n",
       "        5.894262  ,  5.16191542,  1.61333217,  5.99501694,  3.47465351,\n",
       "        6.11729588,  4.20803314,  3.59167767,  6.01298365,  3.54719973,\n",
       "        4.84609299,  5.65342797,  6.15916833,  6.32365683,  5.3550112 ,\n",
       "        4.36782977,  7.78553113,  4.64858316,  7.63645034,  4.83886903,\n",
       "        6.83999426,  6.72675727,  4.10353753,  5.84055279,  6.33668612,\n",
       "        6.26921783,  5.15331756,  5.77443046,  4.9105848 ,  3.94695141,\n",
       "        6.62017517,  4.70599504,  7.11090016,  6.14703912,  4.29311812,\n",
       "        5.20011408,  5.0448827 ,  4.32009931,  6.02177269,  4.80651855,\n",
       "        7.42329748,  6.46750514,  4.30856556,  5.37643935,  5.11881736,\n",
       "        3.46001026,  6.55475704,  6.57776293,  6.54762151,  4.83333506,\n",
       "        6.7255426 ,  5.13990636,  6.55958325,  7.64753449,  5.57373625,\n",
       "        3.64025552,  5.00704252,  6.19482247,  6.91264423,  3.99409788,\n",
       "        5.16372011,  5.68934052,  5.93939792,  6.52892527,  4.22393483,\n",
       "        4.87488691,  6.64987843,  5.88649529,  5.95599201,  6.79540114,\n",
       "        5.5290262 ,  6.05472424,  5.00994081,  3.73218757,  3.79388022,\n",
       "        5.49215749,  5.15254471,  4.58829207,  5.79433773,  4.29606328,\n",
       "        5.53805821,  5.37579203,  4.35841375,  2.55022471,  7.20609396,\n",
       "        5.79263017,  2.09648384,  4.87122851,  5.88829679,  5.11710554,\n",
       "        6.11960934,  4.19314819,  5.61720798,  5.33368022,  5.17300314,\n",
       "        5.12592416,  5.64770185,  6.55657455,  4.74265145,  4.89502237,\n",
       "        5.59910059,  5.25101403,  5.87814684,  6.29068051,  7.00107424,\n",
       "        5.25560926,  2.57615048,  5.31366557,  5.83879933,  5.16817578])"
      ]
     },
     "execution_count": 10,
     "metadata": {},
     "output_type": "execute_result"
    }
   ],
   "source": [
    "values = ss.norm.rvs(loc=5.4, scale=1.24, size=1000, random_state=1)\n",
    "values"
   ]
  },
  {
   "cell_type": "markdown",
   "id": "ac3aff5d",
   "metadata": {},
   "source": []
  },
  {
   "cell_type": "code",
   "execution_count": 12,
   "id": "7a685a37",
   "metadata": {},
   "outputs": [
    {
     "data": {
      "text/plain": [
       "<Axes: xlabel='Rating', ylabel='Density'>"
      ]
     },
     "execution_count": 12,
     "metadata": {},
     "output_type": "execute_result"
    },
    {
     "data": {
      "image/png": "[encoded data removed]",
      "text/plain": [
       "<Figure size 640x480 with 1 Axes>"
      ]
     },
     "metadata": {},
     "output_type": "display_data"
    }
   ],
   "source": [
    "sns.kdeplot(movies['Rating'])\n",
    "sns.kdeplot(values)"
   ]
  },
  {
   "cell_type": "code",
   "execution_count": 15,
   "id": "81b9d00c",
   "metadata": {},
   "outputs": [
    {
     "data": {
      "text/plain": [
       "np.float64(33.5)"
      ]
     },
     "execution_count": 15,
     "metadata": {},
     "output_type": "execute_result"
    }
   ],
   "source": [
    "(values > 6).sum()/len(values)*100"
   ]
  },
  {
   "cell_type": "markdown",
   "id": "151c457b",
   "metadata": {},
   "source": [
    "$\n",
    "\\Large\n",
    "f(x) = \\frac{1}{\\sigma \\sqrt{2\\pi}} \\cdot e^{ - [ \\frac{(x - \\mu)^2}{2 \\cdot \\sigma^2} ] }\n",
    "$"
   ]
  },
  {
   "cell_type": "markdown",
   "id": "81323f3d",
   "metadata": {},
   "source": [
    "$ \\mu $ = mean value of the population\n",
    "\n",
    "$ \\sigma $ = standard deviation of the population"
   ]
  },
  {
   "cell_type": "markdown",
   "id": "cca0d2ac",
   "metadata": {},
   "source": []
  },
  {
   "cell_type": "markdown",
   "id": "fff560a9",
   "metadata": {},
   "source": [
    "### standard normal distribution"
   ]
  },
  {
   "cell_type": "markdown",
   "id": "6fc56c6e",
   "metadata": {},
   "source": [
    "$ \n",
    "\\Large\n",
    "z = \\frac{x - \\mu}{\\sigma} \n",
    "$\n"
   ]
  },
  {
   "cell_type": "markdown",
   "id": "883ca393",
   "metadata": {},
   "source": []
  }
 ],
 "metadata": {
  "kernelspec": {
   "display_name": "env",
   "language": "python",
   "name": "python3"
  },
  "language_info": {
   "codemirror_mode": {
    "name": "ipython",
    "version": 3
   },
   "file_extension": ".py",
   "mimetype": "text/x-python",
   "name": "python",
   "nbconvert_exporter": "python",
   "pygments_lexer": "ipython3",
   "version": "3.12.10"
  }
 },
 "nbformat": 4,
 "nbformat_minor": 5
}
