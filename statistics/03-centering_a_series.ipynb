{
 "cells": [
  {
   "cell_type": "code",
   "execution_count": 5,
   "id": "8fd2a74a",
   "metadata": {},
   "outputs": [],
   "source": [
    "from IPython.display import display, Math"
   ]
  },
  {
   "cell_type": "markdown",
   "id": "894d22c8",
   "metadata": {},
   "source": [
    "# Centering a Series"
   ]
  },
  {
   "cell_type": "markdown",
   "id": "346987b0",
   "metadata": {},
   "source": [
    "When constructing a custom ACF (Auto Correlation) function, i was a little puzzled about centering a series. \n",
    "In this example, we are asked to compute the mean and then center the series"
   ]
  },
  {
   "cell_type": "markdown",
   "id": "d5fab581",
   "metadata": {},
   "source": [
    "    # 1) Compute the mean, then center the series\n",
    "    # to see more about centering the series, check out he notebook on centering_a_series.ipynb\n",
    "    mu = arr.mean()\n",
    "    y = arr - mu              # y_t = x_t - mu"
   ]
  },
  {
   "cell_type": "markdown",
   "id": "a6ec2fee",
   "metadata": {},
   "source": [
    "suppose you have a 1D array"
   ]
  },
  {
   "cell_type": "code",
   "execution_count": 1,
   "id": "1e29dfeb",
   "metadata": {},
   "outputs": [],
   "source": [
    "arr = [2, 5, 7, 10]"
   ]
  },
  {
   "cell_type": "markdown",
   "id": "8940fec3",
   "metadata": {},
   "source": [
    "To get the mean:"
   ]
  },
  {
   "cell_type": "markdown",
   "id": "afeebc62",
   "metadata": {},
   "source": [
    "$\n",
    "\\mu = \\frac{2+5+7+10}{4}=6\n",
    "$"
   ]
  },
  {
   "cell_type": "code",
   "execution_count": 7,
   "id": "38a04034",
   "metadata": {},
   "outputs": [
    {
     "data": {
      "text/latex": [
       "$\\displaystyle \\mu = \\frac{2+5+7+10}{4}=6$"
      ],
      "text/plain": [
       "<IPython.core.display.Math object>"
      ]
     },
     "metadata": {},
     "output_type": "display_data"
    }
   ],
   "source": [
    "exp = 2 + 5 + 7 + 10\n",
    "div = 4\n",
    "display( Math( '\\\\mu = \\\\frac{2+5+7+10}{4}=%g' %(exp/div)) )"
   ]
  },
  {
   "cell_type": "code",
   "execution_count": 11,
   "id": "a9c6bbee",
   "metadata": {},
   "outputs": [
    {
     "data": {
      "text/plain": [
       "6.0"
      ]
     },
     "execution_count": 11,
     "metadata": {},
     "output_type": "execute_result"
    }
   ],
   "source": [
    "mean = sum(arr) / len(arr)\n",
    "mean"
   ]
  },
  {
   "cell_type": "markdown",
   "id": "b7420d0b",
   "metadata": {},
   "source": [
    "Subtracting the mean (\"centering\") gives:"
   ]
  },
  {
   "cell_type": "markdown",
   "id": "52765efe",
   "metadata": {},
   "source": [
    "$ \n",
    "y_i = x_i - \\mu => y = [2-6, 5-6, 7-6, 10-6] = [-4, -1, 1, 4]\n",
    "$"
   ]
  },
  {
   "cell_type": "code",
   "execution_count": 12,
   "id": "bbfffcc8",
   "metadata": {},
   "outputs": [
    {
     "data": {
      "text/plain": [
       "[-4.0, -1.0, 1.0, 4.0]"
      ]
     },
     "execution_count": 12,
     "metadata": {},
     "output_type": "execute_result"
    }
   ],
   "source": [
    "yi = [x-mean for x in arr]\n",
    "yi  # this is our centered series. centered around 0"
   ]
  },
  {
   "cell_type": "code",
   "execution_count": null,
   "id": "35cd90dd",
   "metadata": {},
   "outputs": [],
   "source": []
  }
 ],
 "metadata": {
  "kernelspec": {
   "display_name": "env",
   "language": "python",
   "name": "python3"
  },
  "language_info": {
   "codemirror_mode": {
    "name": "ipython",
    "version": 3
   },
   "file_extension": ".py",
   "mimetype": "text/x-python",
   "name": "python",
   "nbconvert_exporter": "python",
   "pygments_lexer": "ipython3",
   "version": "3.12.10"
  }
 },
 "nbformat": 4,
 "nbformat_minor": 5
}
