{
 "cells": [
  {
   "cell_type": "markdown",
   "id": "ff775e48",
   "metadata": {},
   "source": [
    "# ACF Auto Correlation Function"
   ]
  },
  {
   "cell_type": "code",
   "execution_count": 4,
   "id": "893fd552",
   "metadata": {},
   "outputs": [],
   "source": [
    "import pandas as pd\n",
    "import numpy as np"
   ]
  },
  {
   "cell_type": "markdown",
   "id": "e1550a4e",
   "metadata": {},
   "source": [
    "## create a time series"
   ]
  },
  {
   "cell_type": "code",
   "execution_count": 5,
   "id": "1e4f8f3f",
   "metadata": {},
   "outputs": [
    {
     "data": {
      "text/plain": [
       "array([ 0.        , -0.1382643 ,  0.55090353,  1.90866233,  1.10191025,\n",
       "        0.53720022,  1.95525297,  2.13611181,  1.02580388,  1.26062276])"
      ]
     },
     "execution_count": 5,
     "metadata": {},
     "output_type": "execute_result"
    }
   ],
   "source": [
    "np.random.seed(42)\n",
    "N = 10\n",
    "phi = 0.7\n",
    "eps = np.random.normal(size=N)\n",
    "ts = np.zeros(N)\n",
    "for t in range(1, N):\n",
    "    ts[t] = phi * ts[t-1] + eps[t]\n",
    "\n",
    "ts"
   ]
  },
  {
   "cell_type": "code",
   "execution_count": 6,
   "id": "b07f3981",
   "metadata": {},
   "outputs": [],
   "source": [
    "nlags = 5"
   ]
  },
  {
   "cell_type": "markdown",
   "id": "e40add14",
   "metadata": {},
   "source": [
    "## 1. Compute the mean"
   ]
  },
  {
   "cell_type": "markdown",
   "id": "edda29ab",
   "metadata": {},
   "source": [
    "$\n",
    "    \\mu = \\frac{1}{N} \\sum_{t=0}^{N-1} x_t\n",
    "$"
   ]
  },
  {
   "cell_type": "code",
   "execution_count": 18,
   "id": "6a081b4d",
   "metadata": {},
   "outputs": [],
   "source": [
    "def compute_mean(x):\n",
    "    \"\"\"\n",
    "    Compute mu = (1/N) * sum(x_t) for a list or iterable x\n",
    "    \"\"\"\n",
    "    N = len(x)\n",
    "    return sum(x) / N"
   ]
  },
  {
   "cell_type": "code",
   "execution_count": 17,
   "id": "199d637a",
   "metadata": {},
   "outputs": [
    {
     "data": {
      "text/plain": [
       "np.float64(1.0338203441518252)"
      ]
     },
     "execution_count": 17,
     "metadata": {},
     "output_type": "execute_result"
    }
   ],
   "source": [
    "mean = compute_mean(ts)\n",
    "mean"
   ]
  },
  {
   "cell_type": "markdown",
   "id": "622dba6f",
   "metadata": {},
   "source": [
    "## 2. Center the Series"
   ]
  },
  {
   "cell_type": "markdown",
   "id": "1d9e8423",
   "metadata": {},
   "source": [
    "$\n",
    "    y_t = x_t - \\mu  \\text{   for } t = 0,...,N-1\n",
    "$"
   ]
  },
  {
   "cell_type": "markdown",
   "id": "87ed9f87",
   "metadata": {},
   "source": [
    "from now on, we'll think in terms of $y_t$, which has a mean zero"
   ]
  },
  {
   "cell_type": "markdown",
   "id": "b84246ca",
   "metadata": {},
   "source": [
    "If you are unsure about centering a series, there is a notebook in the statistics folder called centering_a_series.ipynb"
   ]
  },
  {
   "cell_type": "code",
   "execution_count": 13,
   "id": "559a71d6",
   "metadata": {},
   "outputs": [
    {
     "data": {
      "text/plain": [
       "[np.float64(-1.0338203441518252),\n",
       " np.float64(-1.1720846453230098),\n",
       " np.float64(-0.482916816870962),\n",
       " np.float64(0.8748419813528043),\n",
       " np.float64(0.06808990897807932),\n",
       " np.float64(-0.4966201239100727),\n",
       " np.float64(0.9214326255247931),\n",
       " np.float64(1.102291463774716),\n",
       " np.float64(-0.008016464538198598),\n",
       " np.float64(0.22680241516367805)]"
      ]
     },
     "execution_count": 13,
     "metadata": {},
     "output_type": "execute_result"
    }
   ],
   "source": [
    "yt = [x-mean for x in ts]\n",
    "yt"
   ]
  },
  {
   "cell_type": "markdown",
   "id": "4418f546",
   "metadata": {},
   "source": [
    "the (biased) autocovariance at log k is:"
   ]
  },
  {
   "cell_type": "markdown",
   "id": "c67b24bb",
   "metadata": {},
   "source": [
    "$\n",
    "  \\gamma(k) = \\frac{1}{N} \\sum_{t=0}^{N-1-k} y_t\\,y_{t+k}  \n",
    "$"
   ]
  },
  {
   "cell_type": "markdown",
   "id": "24894804",
   "metadata": {},
   "source": [
    "Note that if k = , this reduces to the variance"
   ]
  },
  {
   "cell_type": "markdown",
   "id": "02322ff0",
   "metadata": {},
   "source": [
    "$\n",
    "  \\gamma(0) = \\frac{1}{N} \\sum_{t=0}^{N-1} y^2_t  \n",
    "$"
   ]
  },
  {
   "cell_type": "markdown",
   "id": "70c05dcf",
   "metadata": {},
   "source": [
    "for k > 0, you only sum up to N - 1 - k so that t + k is still in range"
   ]
  },
  {
   "cell_type": "markdown",
   "id": "4b4f1f6f",
   "metadata": {},
   "source": [
    "Finally, the autocorrelation at lag k is"
   ]
  },
  {
   "cell_type": "markdown",
   "id": "443ed81a",
   "metadata": {},
   "source": [
    "$\n",
    "    p(k) = \\frac{\\gamma_{k}}{\\gamma_{0}}\n",
    "$"
   ]
  },
  {
   "cell_type": "markdown",
   "id": "6f53e0b0",
   "metadata": {},
   "source": [
    "By construction, p(0) = 1.0, and p(k) (for k > 0) tells you how 'similar' the series is to itself k steps"
   ]
  },
  {
   "cell_type": "code",
   "execution_count": null,
   "id": "6a3a1801",
   "metadata": {},
   "outputs": [],
   "source": []
  }
 ],
 "metadata": {
  "kernelspec": {
   "display_name": "env",
   "language": "python",
   "name": "python3"
  },
  "language_info": {
   "codemirror_mode": {
    "name": "ipython",
    "version": 3
   },
   "file_extension": ".py",
   "mimetype": "text/x-python",
   "name": "python",
   "nbconvert_exporter": "python",
   "pygments_lexer": "ipython3",
   "version": "3.12.10"
  }
 },
 "nbformat": 4,
 "nbformat_minor": 5
}
