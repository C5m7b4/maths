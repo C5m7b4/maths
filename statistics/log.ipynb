{
 "cells": [
  {
   "cell_type": "markdown",
   "id": "5c2d9c59",
   "metadata": {},
   "source": [
    "# Natural Logarithm"
   ]
  },
  {
   "cell_type": "markdown",
   "id": "b55d746a",
   "metadata": {},
   "source": [
    "This is often used for:\n",
    "- Compressing large numbers\n",
    "- Making trends more linear\n",
    "- Stabilizing variance (especially when values grow exponentially)"
   ]
  },
  {
   "cell_type": "code",
   "execution_count": 1,
   "id": "243709ec",
   "metadata": {},
   "outputs": [],
   "source": [
    "import math\n",
    "\n",
    "def custom_log(values):\n",
    "    return [math.log(x) if x > 0 else float('nan') for x in values]"
   ]
  },
  {
   "cell_type": "code",
   "execution_count": 2,
   "id": "cf8a1dfd",
   "metadata": {},
   "outputs": [
    {
     "name": "stdout",
     "output_type": "stream",
     "text": [
      "[4.605170185988092, 5.298317366548036, 5.703782474656201]\n"
     ]
    }
   ],
   "source": [
    "sales = [100, 200, 300]\n",
    "log_values = custom_log(sales)\n",
    "print(log_values)\n",
    "# Output: [4.6051..., 5.2983..., 5.7037...]\n"
   ]
  },
  {
   "cell_type": "markdown",
   "id": "5374440e",
   "metadata": {},
   "source": [
    "### Dislaimer ⁉️ \n",
    "\n",
    "≈ is approxiamately equal to"
   ]
  },
  {
   "cell_type": "markdown",
   "id": "647cc886",
   "metadata": {},
   "source": [
    "### 🧮 What it's doing mathematically"
   ]
  },
  {
   "cell_type": "markdown",
   "id": "638a07dd",
   "metadata": {},
   "source": [
    "$\n",
    "\\ln(x) = (x - 1) - \\frac{(x - 1)^2}{2} + \\frac{(x - 1)^3}{3} - \\frac{(x - 1)^4}{4} + \\cdots\n",
    "$"
   ]
  },
  {
   "cell_type": "markdown",
   "id": "60902686",
   "metadata": {},
   "source": [
    "💡 What math.log(x) Really Means"
   ]
  },
  {
   "cell_type": "markdown",
   "id": "9ebabca4",
   "metadata": {},
   "source": [
    "returns the natural logarithm of x, which is"
   ]
  },
  {
   "cell_type": "markdown",
   "id": "19f40e02",
   "metadata": {},
   "source": [
    "logₑ(x) = ln(x)"
   ]
  },
  {
   "cell_type": "markdown",
   "id": "de81ea8e",
   "metadata": {},
   "source": [
    "This asks:\n",
    "\"To what power do I need raise e(≈ 2.71828...) to get x\""
   ]
  },
  {
   "cell_type": "markdown",
   "id": "db19b3f0",
   "metadata": {},
   "source": [
    "math.log(10) ≈ 2.302  → because e².³⁰² ≈ 10"
   ]
  },
  {
   "cell_type": "markdown",
   "id": "7ba89d62",
   "metadata": {},
   "source": [
    "🧠 The Real Math Behind It"
   ]
  },
  {
   "cell_type": "markdown",
   "id": "553ce53f",
   "metadata": {},
   "source": [
    "There’s no simple algebraic formula for computing ln(x) exactly — it's an infinite series. The most famous one is the Taylor series expansion for ln(x) around 1:"
   ]
  },
  {
   "cell_type": "markdown",
   "id": "35c635d5",
   "metadata": {},
   "source": [
    "ln(x) = (x - 1) - (x - 1)²/2 + (x - 1)³/3 - (x - 1)⁴/4 + ..."
   ]
  },
  {
   "cell_type": "markdown",
   "id": "95bcecde",
   "metadata": {},
   "source": [
    "### Our crude version"
   ]
  },
  {
   "cell_type": "code",
   "execution_count": 13,
   "id": "6fde0d1d",
   "metadata": {},
   "outputs": [],
   "source": [
    "def custom_ln(x, terms=100):\n",
    "    if x <= 0:\n",
    "        raise ValueError(\"x must be > 0\")\n",
    "\n",
    "    y = (x - 1) / (x + 1)\n",
    "    print(f\"y: {y}\")\n",
    "    result = 0\n",
    "    for n in range(1, terms * 2, 2):\n",
    "        result += (1 / n) * (y ** n)\n",
    "        #print(f\"n: {n}, term: {(1 / n) * (y ** n)}, result: {result}\")\n",
    "        #print(f\"Intermediate result: {2 * result}\")\n",
    "    return 2 * result"
   ]
  },
  {
   "cell_type": "markdown",
   "id": "9f888d70",
   "metadata": {},
   "source": [
    "This is a version of the Mercator series, but more stable numerically."
   ]
  },
  {
   "cell_type": "markdown",
   "id": "a224912f",
   "metadata": {},
   "source": [
    "### Test it"
   ]
  },
  {
   "cell_type": "code",
   "execution_count": 14,
   "id": "93ece938",
   "metadata": {},
   "outputs": [
    {
     "name": "stdout",
     "output_type": "stream",
     "text": [
      "math.log(x): 2.302585092994046\n",
      "y: 0.8181818181818182\n",
      "custom_ln(x): 2.3025850929940455\n"
     ]
    }
   ],
   "source": [
    "import math\n",
    "\n",
    "x = 10\n",
    "print(\"math.log(x):\", math.log(x))\n",
    "print(\"custom_ln(x):\", custom_ln(x))"
   ]
  },
  {
   "cell_type": "code",
   "execution_count": null,
   "id": "f6ab997d",
   "metadata": {},
   "outputs": [],
   "source": []
  }
 ],
 "metadata": {
  "kernelspec": {
   "display_name": "env",
   "language": "python",
   "name": "python3"
  },
  "language_info": {
   "codemirror_mode": {
    "name": "ipython",
    "version": 3
   },
   "file_extension": ".py",
   "mimetype": "text/x-python",
   "name": "python",
   "nbconvert_exporter": "python",
   "pygments_lexer": "ipython3",
   "version": "3.12.10"
  }
 },
 "nbformat": 4,
 "nbformat_minor": 5
}
