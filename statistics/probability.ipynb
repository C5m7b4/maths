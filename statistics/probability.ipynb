{
 "cells": [
  {
   "cell_type": "code",
   "execution_count": 4,
   "id": "7ba000b3",
   "metadata": {},
   "outputs": [],
   "source": [
    "import numpy as np\n",
    "import pandas as pd\n",
    "import matplotlib.pyplot as plt\n",
    "import seaborn as sns"
   ]
  },
  {
   "cell_type": "code",
   "execution_count": 5,
   "id": "6ddf49b3",
   "metadata": {},
   "outputs": [
    {
     "data": {
      "text/plain": [
       "np.float64(0.2)"
      ]
     },
     "execution_count": 5,
     "metadata": {},
     "output_type": "execute_result"
    }
   ],
   "source": [
    "np.random.seed(1)\n",
    "np.random.uniform(size=10).round(0).mean()"
   ]
  },
  {
   "cell_type": "code",
   "execution_count": 6,
   "id": "f53fb999",
   "metadata": {},
   "outputs": [
    {
     "data": {
      "text/plain": [
       "np.float64(0.49)"
      ]
     },
     "execution_count": 6,
     "metadata": {},
     "output_type": "execute_result"
    }
   ],
   "source": [
    "np.random.seed(1)\n",
    "np.random.uniform(size=100).round(0).mean()"
   ]
  },
  {
   "cell_type": "code",
   "execution_count": 7,
   "id": "1eb8e327",
   "metadata": {},
   "outputs": [
    {
     "data": {
      "text/plain": [
       "np.float64(0.506)"
      ]
     },
     "execution_count": 7,
     "metadata": {},
     "output_type": "execute_result"
    }
   ],
   "source": [
    "np.random.seed(1)\n",
    "np.random.uniform(size=1000).round(0).mean()"
   ]
  },
  {
   "cell_type": "code",
   "execution_count": 8,
   "id": "044d9284",
   "metadata": {},
   "outputs": [
    {
     "data": {
      "text/plain": [
       "np.float64(0.501)"
      ]
     },
     "execution_count": 8,
     "metadata": {},
     "output_type": "execute_result"
    }
   ],
   "source": [
    "np.random.seed(1)\n",
    "np.random.uniform(size=10000).round(0).mean()"
   ]
  },
  {
   "cell_type": "markdown",
   "id": "7a16c08e",
   "metadata": {},
   "source": [
    "# Conditional Probability"
   ]
  },
  {
   "cell_type": "markdown",
   "id": "ab781029",
   "metadata": {},
   "source": [
    "## Titanic Analysis 1"
   ]
  },
  {
   "cell_type": "code",
   "execution_count": 9,
   "id": "854ce0b1",
   "metadata": {},
   "outputs": [],
   "source": [
    "titanic_survivors = [\n",
    "    {\n",
    "        'gender': 'Male', 'survived': 161, 'did_not_survive': 682\n",
    "    },\n",
    "    {\n",
    "        'gender': 'Female', 'survived': 339, 'did_not_survive': 127\n",
    "    }\n",
    "]"
   ]
  },
  {
   "cell_type": "code",
   "execution_count": 10,
   "id": "4cdf59a6",
   "metadata": {},
   "outputs": [
    {
     "data": {
      "text/html": [
       "<div>\n",
       "<style scoped>\n",
       "    .dataframe tbody tr th:only-of-type {\n",
       "        vertical-align: middle;\n",
       "    }\n",
       "\n",
       "    .dataframe tbody tr th {\n",
       "        vertical-align: top;\n",
       "    }\n",
       "\n",
       "    .dataframe thead th {\n",
       "        text-align: right;\n",
       "    }\n",
       "</style>\n",
       "<table border=\"1\" class=\"dataframe\">\n",
       "  <thead>\n",
       "    <tr style=\"text-align: right;\">\n",
       "      <th></th>\n",
       "      <th>gender</th>\n",
       "      <th>survived</th>\n",
       "      <th>did_not_survive</th>\n",
       "    </tr>\n",
       "  </thead>\n",
       "  <tbody>\n",
       "    <tr>\n",
       "      <th>0</th>\n",
       "      <td>Male</td>\n",
       "      <td>161</td>\n",
       "      <td>682</td>\n",
       "    </tr>\n",
       "    <tr>\n",
       "      <th>1</th>\n",
       "      <td>Female</td>\n",
       "      <td>339</td>\n",
       "      <td>127</td>\n",
       "    </tr>\n",
       "  </tbody>\n",
       "</table>\n",
       "</div>"
      ],
      "text/plain": [
       "   gender  survived  did_not_survive\n",
       "0    Male       161              682\n",
       "1  Female       339              127"
      ]
     },
     "execution_count": 10,
     "metadata": {},
     "output_type": "execute_result"
    }
   ],
   "source": [
    "titanic = pd.DataFrame(titanic_survivors)\n",
    "titanic"
   ]
  },
  {
   "cell_type": "code",
   "execution_count": 11,
   "id": "e1d7b388",
   "metadata": {},
   "outputs": [
    {
     "name": "stdout",
     "output_type": "stream",
     "text": [
      "<class 'pandas.core.frame.DataFrame'>\n",
      "RangeIndex: 2 entries, 0 to 1\n",
      "Data columns (total 3 columns):\n",
      " #   Column           Non-Null Count  Dtype \n",
      "---  ------           --------------  ----- \n",
      " 0   gender           2 non-null      object\n",
      " 1   survived         2 non-null      int64 \n",
      " 2   did_not_survive  2 non-null      int64 \n",
      "dtypes: int64(2), object(1)\n",
      "memory usage: 180.0+ bytes\n"
     ]
    }
   ],
   "source": [
    "titanic.info()"
   ]
  },
  {
   "cell_type": "code",
   "execution_count": 12,
   "id": "e92abc34",
   "metadata": {},
   "outputs": [
    {
     "data": {
      "text/html": [
       "<div>\n",
       "<style scoped>\n",
       "    .dataframe tbody tr th:only-of-type {\n",
       "        vertical-align: middle;\n",
       "    }\n",
       "\n",
       "    .dataframe tbody tr th {\n",
       "        vertical-align: top;\n",
       "    }\n",
       "\n",
       "    .dataframe thead th {\n",
       "        text-align: right;\n",
       "    }\n",
       "</style>\n",
       "<table border=\"1\" class=\"dataframe\">\n",
       "  <thead>\n",
       "    <tr style=\"text-align: right;\">\n",
       "      <th></th>\n",
       "      <th>gender</th>\n",
       "      <th>survived</th>\n",
       "      <th>did_not_survive</th>\n",
       "      <th>total</th>\n",
       "    </tr>\n",
       "  </thead>\n",
       "  <tbody>\n",
       "    <tr>\n",
       "      <th>0</th>\n",
       "      <td>Male</td>\n",
       "      <td>161</td>\n",
       "      <td>682</td>\n",
       "      <td>843</td>\n",
       "    </tr>\n",
       "    <tr>\n",
       "      <th>1</th>\n",
       "      <td>Female</td>\n",
       "      <td>339</td>\n",
       "      <td>127</td>\n",
       "      <td>466</td>\n",
       "    </tr>\n",
       "  </tbody>\n",
       "</table>\n",
       "</div>"
      ],
      "text/plain": [
       "   gender  survived  did_not_survive  total\n",
       "0    Male       161              682    843\n",
       "1  Female       339              127    466"
      ]
     },
     "execution_count": 12,
     "metadata": {},
     "output_type": "execute_result"
    }
   ],
   "source": [
    "titanic['total'] = titanic['survived'] + titanic['did_not_survive']\n",
    "titanic"
   ]
  },
  {
   "cell_type": "code",
   "execution_count": 13,
   "id": "4a73b061",
   "metadata": {},
   "outputs": [
    {
     "data": {
      "text/plain": [
       "np.int64(1309)"
      ]
     },
     "execution_count": 13,
     "metadata": {},
     "output_type": "execute_result"
    }
   ],
   "source": [
    "total_passengers = titanic['total'].sum()\n",
    "total_passengers"
   ]
  },
  {
   "cell_type": "code",
   "execution_count": 14,
   "id": "675d2722",
   "metadata": {},
   "outputs": [
    {
     "name": "stdout",
     "output_type": "stream",
     "text": [
      "total passengers that survived is: 500\n"
     ]
    },
    {
     "data": {
      "text/plain": [
       "np.float64(0.3819709702062643)"
      ]
     },
     "execution_count": 14,
     "metadata": {},
     "output_type": "execute_result"
    }
   ],
   "source": [
    "# whats the probability of a passenger surviving?\n",
    "total_survived = titanic['survived'].sum()\n",
    "print(f'total passengers that survived is: {total_survived}')\n",
    "total_survived / total_passengers"
   ]
  },
  {
   "cell_type": "code",
   "execution_count": 15,
   "id": "b0912188",
   "metadata": {},
   "outputs": [
    {
     "data": {
      "text/plain": [
       "np.int64(843)"
      ]
     },
     "execution_count": 15,
     "metadata": {},
     "output_type": "execute_result"
    }
   ],
   "source": [
    "# what the probability of a passenger being male\n",
    "male_passengers = titanic[titanic['gender'] == 'Male']['total'].sum()\n",
    "male_passengers"
   ]
  },
  {
   "cell_type": "code",
   "execution_count": 16,
   "id": "110e78b1",
   "metadata": {},
   "outputs": [
    {
     "name": "stdout",
     "output_type": "stream",
     "text": [
      "surviving males = 161\n"
     ]
    },
    {
     "data": {
      "text/plain": [
       "np.float64(0.19098457888493475)"
      ]
     },
     "execution_count": 16,
     "metadata": {},
     "output_type": "execute_result"
    }
   ],
   "source": [
    "# what the probability that a passenger survived given that they are male?\n",
    "surviving_males = titanic[titanic['gender'] == 'Male']['survived'].sum()\n",
    "print(f'surviving males = {surviving_males}')\n",
    "surviving_males / male_passengers"
   ]
  },
  {
   "cell_type": "code",
   "execution_count": 17,
   "id": "739dc720",
   "metadata": {},
   "outputs": [
    {
     "data": {
      "text/plain": [
       "np.float64(0.3559969442322384)"
      ]
     },
     "execution_count": 17,
     "metadata": {},
     "output_type": "execute_result"
    }
   ],
   "source": [
    "# what is the probability of a passenger being female\n",
    "female_passengers = titanic[titanic['gender'] == 'Female']['total'].sum()\n",
    "female_passengers / total_passengers"
   ]
  },
  {
   "cell_type": "code",
   "execution_count": 18,
   "id": "b9434a05",
   "metadata": {},
   "outputs": [
    {
     "data": {
      "text/plain": [
       "1    0.727468\n",
       "Name: survived, dtype: float64"
      ]
     },
     "execution_count": 18,
     "metadata": {},
     "output_type": "execute_result"
    }
   ],
   "source": [
    "# what is the probability that a passenger survived given that they are female?\n",
    "surviving_females = titanic[titanic['gender'] == 'Female']['survived']\n",
    "surviving_females / female_passengers"
   ]
  },
  {
   "cell_type": "markdown",
   "id": "f4de21af",
   "metadata": {},
   "source": [
    "my take on this, is that if you are a passenger in general, your chance of survival is 38%, but if you are a chick, then your chances of surviving increase to 72%. If your a dude, your chances are 20%.\n",
    "\n",
    "Luckily or unluckily for you, your chances of being a female are 36%.\n",
    "\n",
    "better be a bitch on the boat"
   ]
  },
  {
   "cell_type": "markdown",
   "id": "f9e93f3e",
   "metadata": {},
   "source": [
    "## Titanic Analysis 2"
   ]
  },
  {
   "cell_type": "code",
   "execution_count": 19,
   "id": "add5b1fd",
   "metadata": {},
   "outputs": [],
   "source": [
    "data2 = [\n",
    "    {\n",
    "        'class': '1rst', 'survived': 200, 'did_not_survive': 123\n",
    "    },\n",
    "    {\n",
    "        'class': '2nd', 'survived': 119, 'did_not_survive': 158\n",
    "    },\n",
    "    {\n",
    "        'class': '3rd', 'survived': 181, 'did_not_survive': 528\n",
    "    }\n",
    "]"
   ]
  },
  {
   "cell_type": "code",
   "execution_count": 20,
   "id": "00bee952",
   "metadata": {},
   "outputs": [
    {
     "data": {
      "text/html": [
       "<div>\n",
       "<style scoped>\n",
       "    .dataframe tbody tr th:only-of-type {\n",
       "        vertical-align: middle;\n",
       "    }\n",
       "\n",
       "    .dataframe tbody tr th {\n",
       "        vertical-align: top;\n",
       "    }\n",
       "\n",
       "    .dataframe thead th {\n",
       "        text-align: right;\n",
       "    }\n",
       "</style>\n",
       "<table border=\"1\" class=\"dataframe\">\n",
       "  <thead>\n",
       "    <tr style=\"text-align: right;\">\n",
       "      <th></th>\n",
       "      <th>class</th>\n",
       "      <th>survived</th>\n",
       "      <th>did_not_survive</th>\n",
       "    </tr>\n",
       "  </thead>\n",
       "  <tbody>\n",
       "    <tr>\n",
       "      <th>0</th>\n",
       "      <td>1rst</td>\n",
       "      <td>200</td>\n",
       "      <td>123</td>\n",
       "    </tr>\n",
       "    <tr>\n",
       "      <th>1</th>\n",
       "      <td>2nd</td>\n",
       "      <td>119</td>\n",
       "      <td>158</td>\n",
       "    </tr>\n",
       "    <tr>\n",
       "      <th>2</th>\n",
       "      <td>3rd</td>\n",
       "      <td>181</td>\n",
       "      <td>528</td>\n",
       "    </tr>\n",
       "  </tbody>\n",
       "</table>\n",
       "</div>"
      ],
      "text/plain": [
       "  class  survived  did_not_survive\n",
       "0  1rst       200              123\n",
       "1   2nd       119              158\n",
       "2   3rd       181              528"
      ]
     },
     "execution_count": 20,
     "metadata": {},
     "output_type": "execute_result"
    }
   ],
   "source": [
    "t2 = pd.DataFrame(data2)\n",
    "t2.head()"
   ]
  },
  {
   "cell_type": "code",
   "execution_count": 21,
   "id": "fc93398c",
   "metadata": {},
   "outputs": [],
   "source": [
    "t2['total'] = t2['survived'] + t2['did_not_survive']"
   ]
  },
  {
   "cell_type": "code",
   "execution_count": 23,
   "id": "5139aca3",
   "metadata": {},
   "outputs": [
    {
     "data": {
      "text/html": [
       "<div>\n",
       "<style scoped>\n",
       "    .dataframe tbody tr th:only-of-type {\n",
       "        vertical-align: middle;\n",
       "    }\n",
       "\n",
       "    .dataframe tbody tr th {\n",
       "        vertical-align: top;\n",
       "    }\n",
       "\n",
       "    .dataframe thead th {\n",
       "        text-align: right;\n",
       "    }\n",
       "</style>\n",
       "<table border=\"1\" class=\"dataframe\">\n",
       "  <thead>\n",
       "    <tr style=\"text-align: right;\">\n",
       "      <th></th>\n",
       "      <th>class</th>\n",
       "      <th>survived</th>\n",
       "      <th>did_not_survive</th>\n",
       "      <th>total</th>\n",
       "    </tr>\n",
       "  </thead>\n",
       "  <tbody>\n",
       "    <tr>\n",
       "      <th>0</th>\n",
       "      <td>1rst</td>\n",
       "      <td>200</td>\n",
       "      <td>123</td>\n",
       "      <td>323</td>\n",
       "    </tr>\n",
       "    <tr>\n",
       "      <th>1</th>\n",
       "      <td>2nd</td>\n",
       "      <td>119</td>\n",
       "      <td>158</td>\n",
       "      <td>277</td>\n",
       "    </tr>\n",
       "    <tr>\n",
       "      <th>2</th>\n",
       "      <td>3rd</td>\n",
       "      <td>181</td>\n",
       "      <td>528</td>\n",
       "      <td>709</td>\n",
       "    </tr>\n",
       "  </tbody>\n",
       "</table>\n",
       "</div>"
      ],
      "text/plain": [
       "  class  survived  did_not_survive  total\n",
       "0  1rst       200              123    323\n",
       "1   2nd       119              158    277\n",
       "2   3rd       181              528    709"
      ]
     },
     "execution_count": 23,
     "metadata": {},
     "output_type": "execute_result"
    }
   ],
   "source": [
    "t2.head()"
   ]
  },
  {
   "cell_type": "code",
   "execution_count": 22,
   "id": "3636060a",
   "metadata": {},
   "outputs": [
    {
     "data": {
      "text/plain": [
       "np.int64(1309)"
      ]
     },
     "execution_count": 22,
     "metadata": {},
     "output_type": "execute_result"
    }
   ],
   "source": [
    "# get the total number of passengers\n",
    "total_passengers = t2['total'].sum()\n",
    "total_passengers"
   ]
  },
  {
   "cell_type": "code",
   "execution_count": 23,
   "id": "55576787",
   "metadata": {},
   "outputs": [
    {
     "name": "stdout",
     "output_type": "stream",
     "text": [
      "first class passengers = 323\n",
      "first class survivors = 200\n"
     ]
    },
    {
     "data": {
      "text/plain": [
       "np.float64(0.6191950464396285)"
      ]
     },
     "execution_count": 23,
     "metadata": {},
     "output_type": "execute_result"
    }
   ],
   "source": [
    "# how many first class passengers survived?\n",
    "first_class_passengers = t2[t2['class'] == '1rst']['total'].sum()\n",
    "print(f'first class passengers = {first_class_passengers}')\n",
    "first_class_survivors = t2[t2['class'] == '1rst']['survived'].sum()\n",
    "print(f'first class survivors = {first_class_survivors}')\n",
    "first_class_survivors / first_class_passengers"
   ]
  },
  {
   "cell_type": "code",
   "execution_count": 24,
   "id": "9f23eb27",
   "metadata": {},
   "outputs": [
    {
     "name": "stdout",
     "output_type": "stream",
     "text": [
      "second class passengers = 277\n",
      "second class survivors = 119\n"
     ]
    },
    {
     "data": {
      "text/plain": [
       "np.float64(0.4296028880866426)"
      ]
     },
     "execution_count": 24,
     "metadata": {},
     "output_type": "execute_result"
    }
   ],
   "source": [
    "# how many second class passengers survived?\n",
    "second_class_passengers = t2[t2['class'] == '2nd']['total'].sum()\n",
    "print(f'second class passengers = {second_class_passengers}')\n",
    "second_class_survivors = t2[t2['class'] == '2nd']['survived'].sum()\n",
    "print(f'second class survivors = {second_class_survivors}')\n",
    "second_class_survivors / second_class_passengers"
   ]
  },
  {
   "cell_type": "code",
   "execution_count": 25,
   "id": "7a4104a1",
   "metadata": {},
   "outputs": [
    {
     "name": "stdout",
     "output_type": "stream",
     "text": [
      "thirs class passengers = 709\n",
      "third class survivors = 709\n"
     ]
    },
    {
     "data": {
      "text/plain": [
       "np.float64(0.2552891396332863)"
      ]
     },
     "execution_count": 25,
     "metadata": {},
     "output_type": "execute_result"
    }
   ],
   "source": [
    "# how many third class passengers survived?\n",
    "third_class_passengers =  t2[t2['class'] == '3rd']['total'].sum()\n",
    "print(f'thirs class passengers = {third_class_passengers}')\n",
    "third_class_survivors = t2[t2['class'] == '3rd']['survived'].sum()\n",
    "print(f'third class survivors = {third_class_passengers}')\n",
    "third_class_survivors / third_class_passengers"
   ]
  },
  {
   "cell_type": "markdown",
   "id": "9762422f",
   "metadata": {},
   "source": [
    "- 1rst class chances are 61%\n",
    "- 2nd class chances are 42%\n",
    "- 3rs class chances are 25%"
   ]
  },
  {
   "cell_type": "markdown",
   "id": "ccb9b49d",
   "metadata": {},
   "source": [
    "## Titanic Analysis 3"
   ]
  },
  {
   "cell_type": "code",
   "execution_count": 26,
   "id": "1a21efd9",
   "metadata": {},
   "outputs": [
    {
     "data": {
      "text/html": [
       "<div>\n",
       "<style scoped>\n",
       "    .dataframe tbody tr th:only-of-type {\n",
       "        vertical-align: middle;\n",
       "    }\n",
       "\n",
       "    .dataframe tbody tr th {\n",
       "        vertical-align: top;\n",
       "    }\n",
       "\n",
       "    .dataframe thead th {\n",
       "        text-align: right;\n",
       "    }\n",
       "</style>\n",
       "<table border=\"1\" class=\"dataframe\">\n",
       "  <thead>\n",
       "    <tr style=\"text-align: right;\">\n",
       "      <th></th>\n",
       "      <th>gender</th>\n",
       "      <th>survived</th>\n",
       "      <th>did_not_survive</th>\n",
       "      <th>total</th>\n",
       "    </tr>\n",
       "  </thead>\n",
       "  <tbody>\n",
       "    <tr>\n",
       "      <th>0</th>\n",
       "      <td>Male</td>\n",
       "      <td>161</td>\n",
       "      <td>682</td>\n",
       "      <td>843</td>\n",
       "    </tr>\n",
       "    <tr>\n",
       "      <th>1</th>\n",
       "      <td>Female</td>\n",
       "      <td>339</td>\n",
       "      <td>127</td>\n",
       "      <td>466</td>\n",
       "    </tr>\n",
       "  </tbody>\n",
       "</table>\n",
       "</div>"
      ],
      "text/plain": [
       "   gender  survived  did_not_survive  total\n",
       "0    Male       161              682    843\n",
       "1  Female       339              127    466"
      ]
     },
     "execution_count": 26,
     "metadata": {},
     "output_type": "execute_result"
    }
   ],
   "source": [
    "titanic"
   ]
  },
  {
   "cell_type": "code",
   "execution_count": 27,
   "id": "3a0119f2",
   "metadata": {},
   "outputs": [
    {
     "data": {
      "text/html": [
       "<div>\n",
       "<style scoped>\n",
       "    .dataframe tbody tr th:only-of-type {\n",
       "        vertical-align: middle;\n",
       "    }\n",
       "\n",
       "    .dataframe tbody tr th {\n",
       "        vertical-align: top;\n",
       "    }\n",
       "\n",
       "    .dataframe thead th {\n",
       "        text-align: right;\n",
       "    }\n",
       "</style>\n",
       "<table border=\"1\" class=\"dataframe\">\n",
       "  <thead>\n",
       "    <tr style=\"text-align: right;\">\n",
       "      <th></th>\n",
       "      <th>class</th>\n",
       "      <th>survived</th>\n",
       "      <th>did_not_survive</th>\n",
       "      <th>total</th>\n",
       "    </tr>\n",
       "  </thead>\n",
       "  <tbody>\n",
       "    <tr>\n",
       "      <th>0</th>\n",
       "      <td>1rst</td>\n",
       "      <td>200</td>\n",
       "      <td>123</td>\n",
       "      <td>323</td>\n",
       "    </tr>\n",
       "    <tr>\n",
       "      <th>1</th>\n",
       "      <td>2nd</td>\n",
       "      <td>119</td>\n",
       "      <td>158</td>\n",
       "      <td>277</td>\n",
       "    </tr>\n",
       "    <tr>\n",
       "      <th>2</th>\n",
       "      <td>3rd</td>\n",
       "      <td>181</td>\n",
       "      <td>528</td>\n",
       "      <td>709</td>\n",
       "    </tr>\n",
       "  </tbody>\n",
       "</table>\n",
       "</div>"
      ],
      "text/plain": [
       "  class  survived  did_not_survive  total\n",
       "0  1rst       200              123    323\n",
       "1   2nd       119              158    277\n",
       "2   3rd       181              528    709"
      ]
     },
     "execution_count": 27,
     "metadata": {},
     "output_type": "execute_result"
    }
   ],
   "source": [
    "t2"
   ]
  },
  {
   "cell_type": "code",
   "execution_count": 28,
   "id": "5381b537",
   "metadata": {},
   "outputs": [],
   "source": [
    "index = pd.MultiIndex.from_tuples([\n",
    "    ('Male', '1st'),\n",
    "    ('Male', '2nd'),\n",
    "    ('Male', '3rd'),\n",
    "    ('Female', '1st'),\n",
    "    ('Female', '2nd'),\n",
    "    ('Female', '3rd'),\n",
    "], names=['gender', 'class'])\n",
    "\n",
    "data = [\n",
    "    [61, 118, 179],\n",
    "    [25, 146, 171],\n",
    "    [75, 418, 493],\n",
    "    [139, 5, 144],\n",
    "    [94, 12, 106],\n",
    "    [106, 110, 216]\n",
    "]\n",
    "columns = ['survived', 'did_not_survive', 'total']\n",
    "\n",
    "t3 = pd.DataFrame(data, index=index, columns=columns)\n"
   ]
  },
  {
   "cell_type": "code",
   "execution_count": 29,
   "id": "ff3cfc45",
   "metadata": {},
   "outputs": [
    {
     "data": {
      "text/html": [
       "<div>\n",
       "<style scoped>\n",
       "    .dataframe tbody tr th:only-of-type {\n",
       "        vertical-align: middle;\n",
       "    }\n",
       "\n",
       "    .dataframe tbody tr th {\n",
       "        vertical-align: top;\n",
       "    }\n",
       "\n",
       "    .dataframe thead th {\n",
       "        text-align: right;\n",
       "    }\n",
       "</style>\n",
       "<table border=\"1\" class=\"dataframe\">\n",
       "  <thead>\n",
       "    <tr style=\"text-align: right;\">\n",
       "      <th></th>\n",
       "      <th></th>\n",
       "      <th>survived</th>\n",
       "      <th>did_not_survive</th>\n",
       "      <th>total</th>\n",
       "    </tr>\n",
       "    <tr>\n",
       "      <th>gender</th>\n",
       "      <th>class</th>\n",
       "      <th></th>\n",
       "      <th></th>\n",
       "      <th></th>\n",
       "    </tr>\n",
       "  </thead>\n",
       "  <tbody>\n",
       "    <tr>\n",
       "      <th rowspan=\"3\" valign=\"top\">Male</th>\n",
       "      <th>1st</th>\n",
       "      <td>61</td>\n",
       "      <td>118</td>\n",
       "      <td>179</td>\n",
       "    </tr>\n",
       "    <tr>\n",
       "      <th>2nd</th>\n",
       "      <td>25</td>\n",
       "      <td>146</td>\n",
       "      <td>171</td>\n",
       "    </tr>\n",
       "    <tr>\n",
       "      <th>3rd</th>\n",
       "      <td>75</td>\n",
       "      <td>418</td>\n",
       "      <td>493</td>\n",
       "    </tr>\n",
       "    <tr>\n",
       "      <th rowspan=\"3\" valign=\"top\">Female</th>\n",
       "      <th>1st</th>\n",
       "      <td>139</td>\n",
       "      <td>5</td>\n",
       "      <td>144</td>\n",
       "    </tr>\n",
       "    <tr>\n",
       "      <th>2nd</th>\n",
       "      <td>94</td>\n",
       "      <td>12</td>\n",
       "      <td>106</td>\n",
       "    </tr>\n",
       "    <tr>\n",
       "      <th>3rd</th>\n",
       "      <td>106</td>\n",
       "      <td>110</td>\n",
       "      <td>216</td>\n",
       "    </tr>\n",
       "  </tbody>\n",
       "</table>\n",
       "</div>"
      ],
      "text/plain": [
       "              survived  did_not_survive  total\n",
       "gender class                                  \n",
       "Male   1st          61              118    179\n",
       "       2nd          25              146    171\n",
       "       3rd          75              418    493\n",
       "Female 1st         139                5    144\n",
       "       2nd          94               12    106\n",
       "       3rd         106              110    216"
      ]
     },
     "execution_count": 29,
     "metadata": {},
     "output_type": "execute_result"
    }
   ],
   "source": [
    "t3"
   ]
  },
  {
   "cell_type": "code",
   "execution_count": 30,
   "id": "cfd70a8a",
   "metadata": {},
   "outputs": [
    {
     "data": {
      "text/plain": [
       "MultiIndex([(  'Male', '1st'),\n",
       "            (  'Male', '2nd'),\n",
       "            (  'Male', '3rd'),\n",
       "            ('Female', '1st'),\n",
       "            ('Female', '2nd'),\n",
       "            ('Female', '3rd')],\n",
       "           names=['gender', 'class'])"
      ]
     },
     "execution_count": 30,
     "metadata": {},
     "output_type": "execute_result"
    }
   ],
   "source": [
    "t3.index"
   ]
  },
  {
   "cell_type": "code",
   "execution_count": 37,
   "id": "49cd724e",
   "metadata": {},
   "outputs": [
    {
     "name": "stdout",
     "output_type": "stream",
     "text": [
      "first class female count is : 144\n",
      "first class female survivors count is 139\n"
     ]
    },
    {
     "data": {
      "text/plain": [
       "np.float64(0.9652777777777778)"
      ]
     },
     "execution_count": 37,
     "metadata": {},
     "output_type": "execute_result"
    }
   ],
   "source": [
    "# what is the probability of surviving given a passenger is femaale and first class?\n",
    "first_class_females = t3.loc[('Female', '1st')]['total'].sum()\n",
    "print(f'first class female count is : {first_class_females}')\n",
    "first_class_females_that_survived = t3.loc[('Female', '1st')]['survived'].sum()\n",
    "print(f'first class female survivors count is { first_class_females_that_survived}')\n",
    "first_class_females_that_survived / first_class_females"
   ]
  },
  {
   "cell_type": "markdown",
   "id": "39531957",
   "metadata": {},
   "source": [
    "## Multiplication and Addition properties"
   ]
  },
  {
   "cell_type": "markdown",
   "id": "a0262761",
   "metadata": {},
   "source": [
    "### Multiplication"
   ]
  },
  {
   "cell_type": "markdown",
   "id": "aaf2a581",
   "metadata": {},
   "source": [
    "If we have independent events and we want to know if both events happen we use multiplication"
   ]
  },
  {
   "cell_type": "markdown",
   "id": "0429e066",
   "metadata": {},
   "source": [
    "$\n",
    "P(E_1 and E_2) = P(E_1) \\times P(E_2)\n",
    "$"
   ]
  },
  {
   "cell_type": "markdown",
   "id": "e9c16a34",
   "metadata": {},
   "source": [
    "### Addition"
   ]
  },
  {
   "cell_type": "markdown",
   "id": "108b91c4",
   "metadata": {},
   "source": [
    "If we have not mutually exclusive events and we want to know if either occured, we use addition but with a catch"
   ]
  },
  {
   "cell_type": "markdown",
   "id": "a417a58b",
   "metadata": {},
   "source": [
    "$\n",
    "P(E_1 \\text{ or }  E_2) = P(E_1 \\cup E_2) = P(E_1) + P(E_2) - P(E_1 \\cap E_2)\n",
    "$"
   ]
  },
  {
   "cell_type": "markdown",
   "id": "0180230c",
   "metadata": {},
   "source": [
    "![probability1](../images/probability_1.png)"
   ]
  },
  {
   "cell_type": "markdown",
   "id": "a0040804",
   "metadata": {},
   "source": [
    "If we just add A and B, then we are double counting the intersection between the two so that is why we need to subtract it\n",
    "\n",
    "$ \\cup $ = Union\n",
    "\n",
    "$ \\cap $ = Intersection"
   ]
  },
  {
   "cell_type": "markdown",
   "id": "a150bf32",
   "metadata": {},
   "source": [
    "If you have a mutally exclusive events, then the intersection would always be zero\n",
    "\n",
    "This makes the equation simpler becuase we no longer need to subract the intersection so we would have this:"
   ]
  },
  {
   "cell_type": "markdown",
   "id": "d637bbdd",
   "metadata": {},
   "source": [
    "$\n",
    "P(E_1 or E_2) = P(E_1 \\cup E_2) = P(E_1) + P(E_2)\n",
    "$"
   ]
  },
  {
   "cell_type": "markdown",
   "id": "d76a24f0",
   "metadata": {},
   "source": [
    "Mutually exclusive event - Occurance of event A excludes the occurence of event B\n",
    "\n",
    "Independent Events - Occurance of event A is not way influenced by the occurance of event B"
   ]
  },
  {
   "cell_type": "markdown",
   "id": "c5386f4e",
   "metadata": {},
   "source": [
    "![p1](../images/probability_2.png)"
   ]
  },
  {
   "cell_type": "markdown",
   "id": "4e6bd368",
   "metadata": {},
   "source": []
  }
 ],
 "metadata": {
  "kernelspec": {
   "display_name": "env",
   "language": "python",
   "name": "python3"
  },
  "language_info": {
   "codemirror_mode": {
    "name": "ipython",
    "version": 3
   },
   "file_extension": ".py",
   "mimetype": "text/x-python",
   "name": "python",
   "nbconvert_exporter": "python",
   "pygments_lexer": "ipython3",
   "version": "3.12.10"
  }
 },
 "nbformat": 4,
 "nbformat_minor": 5
}
