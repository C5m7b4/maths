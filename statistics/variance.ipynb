{
 "cells": [
  {
   "cell_type": "markdown",
   "id": "c4ba0c5a",
   "metadata": {},
   "source": [
    "## 1. What isVariance"
   ]
  },
  {
   "cell_type": "markdown",
   "id": "96a66ec6",
   "metadata": {},
   "source": [
    "Variance measures how far a set of numbers are spread out from their average value (mean)"
   ]
  },
  {
   "cell_type": "markdown",
   "id": "2a70c91a",
   "metadata": {},
   "source": [
    "The equation for population variance looks like this:"
   ]
  },
  {
   "cell_type": "markdown",
   "id": "246fb91f",
   "metadata": {},
   "source": [
    "$\n",
    "\\sigma^2 = \\frac{1}{N} \\sum_{i=1}^{N} (x_i - \\mu)^2\n",
    "$"
   ]
  },
  {
   "cell_type": "markdown",
   "id": "2da88eec",
   "metadata": {},
   "source": [
    "### Where\n",
    "- $ x_i $ = each value\n",
    "- $ \\mu $ = mean (average)\n",
    "- N = total number of values"
   ]
  },
  {
   "cell_type": "markdown",
   "id": "6543e036",
   "metadata": {},
   "source": [
    "The equation for the sample variance looks like this:"
   ]
  },
  {
   "cell_type": "markdown",
   "id": "7781e41c",
   "metadata": {},
   "source": [
    "$\n",
    "s^2 = \\frac{1}{N-1} \\sum_{i=1}^{N} (x_i - \\bar{x})^2\n",
    "$"
   ]
  },
  {
   "cell_type": "markdown",
   "id": "b72f20e2",
   "metadata": {},
   "source": [
    "Where $ \\bar{x} $ is the sample mean"
   ]
  },
  {
   "cell_type": "markdown",
   "id": "36d6f083",
   "metadata": {},
   "source": [
    "## What is Standard Deviation"
   ]
  },
  {
   "cell_type": "markdown",
   "id": "8641f65a",
   "metadata": {},
   "source": [
    "The standard deviation is just the sqare root of the variance:"
   ]
  },
  {
   "cell_type": "markdown",
   "id": "8ebfe09d",
   "metadata": {},
   "source": [
    "$\n",
    "\\sigma = \\sqrt{\\sigma^2}\n",
    "$"
   ]
  },
  {
   "cell_type": "markdown",
   "id": "964e622d",
   "metadata": {},
   "source": [
    "or"
   ]
  },
  {
   "cell_type": "markdown",
   "id": "6d904df0",
   "metadata": {},
   "source": [
    "$\n",
    "s = \\sqrt{s^2}\n",
    "$"
   ]
  },
  {
   "cell_type": "markdown",
   "id": "c7dbf87c",
   "metadata": {},
   "source": [
    "## 3. Python step by step"
   ]
  },
  {
   "cell_type": "code",
   "execution_count": 1,
   "id": "fa4370af",
   "metadata": {},
   "outputs": [],
   "source": [
    "# sample data in heights (cm)\n",
    "data = [150, 160, 170, 180, 190]"
   ]
  },
  {
   "cell_type": "markdown",
   "id": "403b321d",
   "metadata": {},
   "source": [
    "#### a) Find the mean"
   ]
  },
  {
   "cell_type": "code",
   "execution_count": 2,
   "id": "d23ee486",
   "metadata": {},
   "outputs": [
    {
     "name": "stdout",
     "output_type": "stream",
     "text": [
      "mean: 170.00\n"
     ]
    }
   ],
   "source": [
    "N = len(data)\n",
    "mean = sum(data) / N\n",
    "print(f\"mean: {mean:.2f}\")"
   ]
  },
  {
   "cell_type": "markdown",
   "id": "046b2f3c",
   "metadata": {},
   "source": [
    "#### b) Find the sqared deviation"
   ]
  },
  {
   "cell_type": "code",
   "execution_count": 3,
   "id": "74269399",
   "metadata": {},
   "outputs": [
    {
     "name": "stdout",
     "output_type": "stream",
     "text": [
      "squared deviations: [400.0, 100.0, 0.0, 100.0, 400.0]\n"
     ]
    }
   ],
   "source": [
    "squared_deviations = [(x - mean) **2 for x in data]\n",
    "print(f\"squared deviations: {squared_deviations}\")"
   ]
  },
  {
   "cell_type": "markdown",
   "id": "fd38f26f",
   "metadata": {},
   "source": [
    "#### c) Calculate the variance(Population)"
   ]
  },
  {
   "cell_type": "code",
   "execution_count": 5,
   "id": "08ff3e24",
   "metadata": {},
   "outputs": [
    {
     "name": "stdout",
     "output_type": "stream",
     "text": [
      "variance: 200.00\n"
     ]
    }
   ],
   "source": [
    "variance = sum(squared_deviations) / N\n",
    "print(f\"variance: {variance:.2f}\")"
   ]
  },
  {
   "cell_type": "markdown",
   "id": "71bb9313",
   "metadata": {},
   "source": [
    "#### d) Calculcate the variance (Sample)"
   ]
  },
  {
   "cell_type": "code",
   "execution_count": 6,
   "id": "441c71e1",
   "metadata": {},
   "outputs": [
    {
     "name": "stdout",
     "output_type": "stream",
     "text": [
      "sample variance: 250.00\n"
     ]
    }
   ],
   "source": [
    "variance_sample = sum(squared_deviations) / (N - 1)\n",
    "print(f\"sample variance: {variance_sample:.2f}\")"
   ]
  },
  {
   "cell_type": "markdown",
   "id": "7419dc1c",
   "metadata": {},
   "source": [
    "## 4. See the numbers"
   ]
  },
  {
   "cell_type": "markdown",
   "id": "da5e04f8",
   "metadata": {},
   "source": [
    "- data: [150, 160, 170, 180, 190]\n",
    "- N = 5\n",
    "- Mean: (150 + 160 + 170 + 180 + 190) / 5 = 170\n",
    "- Squared deviations\n",
    "  - $(150 - 170)^2 = 400$\n",
    "  - $(160 - 170)^2 = 100$\n",
    "  - $(170-170)^2 = 0$\n",
    "  - $(180 - 170)^2 = 100$\n",
    "  - $(190 - 170)^2 = 400$\n",
    "- Sum: $400 + 100 + 0 + 100 + 400 = 1000$\n",
    "- Sample variance $1000/(5-1) = 1000/4 = 250$\n",
    "- Sample Std Dev: $\\sqrt{250} \\approx 15.81$"
   ]
  },
  {
   "cell_type": "markdown",
   "id": "e3365ea9",
   "metadata": {},
   "source": []
  }
 ],
 "metadata": {
  "kernelspec": {
   "display_name": "env",
   "language": "python",
   "name": "python3"
  },
  "language_info": {
   "codemirror_mode": {
    "name": "ipython",
    "version": 3
   },
   "file_extension": ".py",
   "mimetype": "text/x-python",
   "name": "python",
   "nbconvert_exporter": "python",
   "pygments_lexer": "ipython3",
   "version": "3.12.10"
  }
 },
 "nbformat": 4,
 "nbformat_minor": 5
}
