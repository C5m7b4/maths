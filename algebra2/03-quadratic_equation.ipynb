{
 "cells": [
  {
   "cell_type": "code",
   "execution_count": 16,
   "id": "e6e8c794",
   "metadata": {},
   "outputs": [],
   "source": [
    "import numpy as np\n",
    "import scipy as sp\n",
    "import sympy as sym\n",
    "import matplotlib.pyplot as plt\n",
    "from IPython.display import display, Math"
   ]
  },
  {
   "cell_type": "markdown",
   "id": "adff594a",
   "metadata": {},
   "source": [
    "$\n",
    "    ax^2 + bx + c = 0\n",
    "$"
   ]
  },
  {
   "cell_type": "code",
   "execution_count": 2,
   "id": "dbcda9df",
   "metadata": {},
   "outputs": [],
   "source": [
    "a = 2\n",
    "b = 7\n",
    "c = 5"
   ]
  },
  {
   "cell_type": "code",
   "execution_count": 19,
   "id": "13a28dfe",
   "metadata": {},
   "outputs": [
    {
     "name": "stdout",
     "output_type": "stream",
     "text": [
      "(-1+0j) (-2.5+0j)\n"
     ]
    }
   ],
   "source": [
    "quadeqP = (-b + np.sqrt(b**2 - 4*a*c, dtype=complex)) / (2*a)\n",
    "quadeqN = (-b - np.sqrt(b**2 - 4*a*c, dtype=complex)) / (2*a)\n",
    "\n",
    "print(quadeqP, quadeqN)"
   ]
  },
  {
   "cell_type": "code",
   "execution_count": 20,
   "id": "43f05b54",
   "metadata": {},
   "outputs": [
    {
     "data": {
      "text/plain": [
       "0"
      ]
     },
     "execution_count": 20,
     "metadata": {},
     "output_type": "execute_result"
    }
   ],
   "source": [
    "resulta = -1\n",
    "a * resulta**2 + b * resulta + c"
   ]
  },
  {
   "cell_type": "code",
   "execution_count": 27,
   "id": "41e67865",
   "metadata": {},
   "outputs": [],
   "source": [
    "def quad_eq(a, b, c):\n",
    "    out = np.zeros(2, dtype=complex)\n",
    "    out[0] = (-b + np.sqrt(b**2 - 4*a*c, dtype=complex)) / (2*a)\n",
    "    out[1] = (-b - np.sqrt(b**2 - 4*a*c, dtype=complex)) / (2*a)  \n",
    "    return out "
   ]
  },
  {
   "cell_type": "code",
   "execution_count": 29,
   "id": "dc8ffe50",
   "metadata": {},
   "outputs": [],
   "source": [
    "sol = quad_eq(2,7, 5)"
   ]
  },
  {
   "cell_type": "code",
   "execution_count": 30,
   "id": "99dfb175",
   "metadata": {},
   "outputs": [
    {
     "data": {
      "text/plain": [
       "array([-1. +0.j, -2.5+0.j])"
      ]
     },
     "execution_count": 30,
     "metadata": {},
     "output_type": "execute_result"
    }
   ],
   "source": [
    "sol"
   ]
  },
  {
   "cell_type": "code",
   "execution_count": 31,
   "id": "07a26b58",
   "metadata": {},
   "outputs": [],
   "source": [
    "a = 1\n",
    "b = range(-5, 6)\n",
    "c = range(-2, 10)"
   ]
  },
  {
   "cell_type": "code",
   "execution_count": 32,
   "id": "6833b51b",
   "metadata": {},
   "outputs": [],
   "source": [
    "M = np.zeros((len(b), len(c)))"
   ]
  },
  {
   "cell_type": "code",
   "execution_count": 33,
   "id": "63bee1f8",
   "metadata": {},
   "outputs": [
    {
     "data": {
      "text/plain": [
       "array([[0., 0., 0., 0., 0., 0., 0., 0., 0., 0., 0., 0.],\n",
       "       [0., 0., 0., 0., 0., 0., 0., 0., 0., 0., 0., 0.],\n",
       "       [0., 0., 0., 0., 0., 0., 0., 0., 0., 0., 0., 0.],\n",
       "       [0., 0., 0., 0., 0., 0., 0., 0., 0., 0., 0., 0.],\n",
       "       [0., 0., 0., 0., 0., 0., 0., 0., 0., 0., 0., 0.],\n",
       "       [0., 0., 0., 0., 0., 0., 0., 0., 0., 0., 0., 0.],\n",
       "       [0., 0., 0., 0., 0., 0., 0., 0., 0., 0., 0., 0.],\n",
       "       [0., 0., 0., 0., 0., 0., 0., 0., 0., 0., 0., 0.],\n",
       "       [0., 0., 0., 0., 0., 0., 0., 0., 0., 0., 0., 0.],\n",
       "       [0., 0., 0., 0., 0., 0., 0., 0., 0., 0., 0., 0.],\n",
       "       [0., 0., 0., 0., 0., 0., 0., 0., 0., 0., 0., 0.]])"
      ]
     },
     "execution_count": 33,
     "metadata": {},
     "output_type": "execute_result"
    }
   ],
   "source": [
    "M"
   ]
  },
  {
   "cell_type": "code",
   "execution_count": 40,
   "id": "f0d9080c",
   "metadata": {},
   "outputs": [
    {
     "name": "stderr",
     "output_type": "stream",
     "text": [
      "C:\\Users\\c5m7b\\AppData\\Local\\Temp\\ipykernel_16924\\222686699.py:3: ComplexWarning: Casting complex values to real discards the imaginary part\n",
      "  M[bi, ci] = quad_eq(a, b[bi], c[ci])[0]\n"
     ]
    },
    {
     "data": {
      "image/png": "[encoded data removed]",
      "text/plain": [
       "<Figure size 640x480 with 2 Axes>"
      ]
     },
     "metadata": {},
     "output_type": "display_data"
    }
   ],
   "source": [
    "for bi in range(0, len(b)):\n",
    "    for ci in range(0, len(c)):\n",
    "        M[bi, ci] = quad_eq(a, b[bi], c[ci])[0]\n",
    "\n",
    "plt.imshow(M, extent=[c[0], c[-1], b[0], b[-1]])\n",
    "plt.xlabel(\"c\")\n",
    "plt.ylabel(\"b\")\n",
    "plt.colorbar()\n",
    "plt.show()        "
   ]
  },
  {
   "cell_type": "code",
   "execution_count": null,
   "id": "7f06c72b",
   "metadata": {},
   "outputs": [],
   "source": []
  }
 ],
 "metadata": {
  "kernelspec": {
   "display_name": "env",
   "language": "python",
   "name": "python3"
  },
  "language_info": {
   "codemirror_mode": {
    "name": "ipython",
    "version": 3
   },
   "file_extension": ".py",
   "mimetype": "text/x-python",
   "name": "python",
   "nbconvert_exporter": "python",
   "pygments_lexer": "ipython3",
   "version": "3.12.10"
  }
 },
 "nbformat": 4,
 "nbformat_minor": 5
}
