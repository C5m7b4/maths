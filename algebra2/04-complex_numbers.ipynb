{
 "cells": [
  {
   "cell_type": "code",
   "execution_count": 46,
   "id": "e72ff4c8",
   "metadata": {},
   "outputs": [],
   "source": [
    "import numpy as np\n",
    "import sympy as sym\n",
    "from IPython.display import display, Math\n",
    "import matplotlib.pyplot as plt"
   ]
  },
  {
   "cell_type": "markdown",
   "id": "de9538f7",
   "metadata": {},
   "source": [
    "## j is the imaginary operator"
   ]
  },
  {
   "cell_type": "code",
   "execution_count": 2,
   "id": "b139a816",
   "metadata": {},
   "outputs": [
    {
     "name": "stdout",
     "output_type": "stream",
     "text": [
      "1j\n"
     ]
    }
   ],
   "source": [
    "print(1j)"
   ]
  },
  {
   "cell_type": "code",
   "execution_count": 6,
   "id": "f6daadb4",
   "metadata": {},
   "outputs": [
    {
     "name": "stderr",
     "output_type": "stream",
     "text": [
      "C:\\Users\\c5m7b\\AppData\\Local\\Temp\\ipykernel_12436\\3438155168.py:1: RuntimeWarning: invalid value encountered in sqrt\n",
      "  np.sqrt(-1)\n"
     ]
    },
    {
     "data": {
      "text/plain": [
       "np.float64(nan)"
      ]
     },
     "execution_count": 6,
     "metadata": {},
     "output_type": "execute_result"
    }
   ],
   "source": [
    "np.sqrt(-1)"
   ]
  },
  {
   "cell_type": "code",
   "execution_count": 5,
   "id": "fd8e2cd5",
   "metadata": {},
   "outputs": [
    {
     "data": {
      "text/plain": [
       "np.complex128(1j)"
      ]
     },
     "execution_count": 5,
     "metadata": {},
     "output_type": "execute_result"
    }
   ],
   "source": [
    "np.sqrt(-1, dtype=complex)"
   ]
  },
  {
   "cell_type": "code",
   "execution_count": 9,
   "id": "37972aa6",
   "metadata": {},
   "outputs": [
    {
     "data": {
      "text/latex": [
       "$\\displaystyle i$"
      ],
      "text/plain": [
       "I"
      ]
     },
     "execution_count": 9,
     "metadata": {},
     "output_type": "execute_result"
    }
   ],
   "source": [
    "sym.I # also imaginary operator"
   ]
  },
  {
   "cell_type": "code",
   "execution_count": 11,
   "id": "39944afb",
   "metadata": {},
   "outputs": [],
   "source": [
    "real_part = 4\n",
    "imag_part = -5\n",
    "\n",
    "cn1 = complex(real_part,imag_part)"
   ]
  },
  {
   "cell_type": "code",
   "execution_count": 12,
   "id": "80664bd8",
   "metadata": {},
   "outputs": [
    {
     "data": {
      "text/plain": [
       "(4-5j)"
      ]
     },
     "execution_count": 12,
     "metadata": {},
     "output_type": "execute_result"
    }
   ],
   "source": [
    "cn1"
   ]
  },
  {
   "cell_type": "code",
   "execution_count": 15,
   "id": "3d62638a",
   "metadata": {},
   "outputs": [
    {
     "data": {
      "text/plain": [
       "(1+3j)"
      ]
     },
     "execution_count": 15,
     "metadata": {},
     "output_type": "execute_result"
    }
   ],
   "source": [
    "z1 = complex(4, 5)\n",
    "z2 = complex(3, 2)\n",
    "\n",
    "z1 - z2"
   ]
  },
  {
   "cell_type": "code",
   "execution_count": 16,
   "id": "3150e93b",
   "metadata": {},
   "outputs": [
    {
     "data": {
      "text/plain": [
       "4.0"
      ]
     },
     "execution_count": 16,
     "metadata": {},
     "output_type": "execute_result"
    }
   ],
   "source": [
    "np.real(z1)"
   ]
  },
  {
   "cell_type": "code",
   "execution_count": 17,
   "id": "11836e61",
   "metadata": {},
   "outputs": [
    {
     "data": {
      "text/plain": [
       "5.0"
      ]
     },
     "execution_count": 17,
     "metadata": {},
     "output_type": "execute_result"
    }
   ],
   "source": [
    "np.imag(z1)"
   ]
  },
  {
   "cell_type": "code",
   "execution_count": 18,
   "id": "dc6a57cd",
   "metadata": {},
   "outputs": [
    {
     "data": {
      "text/plain": [
       "((7+10j), (7+10j))"
      ]
     },
     "execution_count": 18,
     "metadata": {},
     "output_type": "execute_result"
    }
   ],
   "source": [
    "w =complex(2, 4)\n",
    "z = complex(5, 6)\n",
    "\n",
    "realsum = np.real(w) + np.real(z)\n",
    "imagsum = np.imag(w) + np.imag(z)\n",
    "\n",
    "wPlus_sep = complex(realsum, imagsum)\n",
    "wPlusZ_direct = w + z\n",
    "\n",
    "wPlus_sep, wPlusZ_direct"
   ]
  },
  {
   "cell_type": "markdown",
   "id": "233d2b13",
   "metadata": {},
   "source": [
    "## multiplication"
   ]
  },
  {
   "cell_type": "code",
   "execution_count": 19,
   "id": "f15867ef",
   "metadata": {},
   "outputs": [],
   "source": [
    "z1 = complex(4, 5)\n",
    "z2 = complex(6, -2)"
   ]
  },
  {
   "cell_type": "code",
   "execution_count": 20,
   "id": "a5d2a76c",
   "metadata": {},
   "outputs": [
    {
     "data": {
      "text/plain": [
       "(34+22j)"
      ]
     },
     "execution_count": 20,
     "metadata": {},
     "output_type": "execute_result"
    }
   ],
   "source": [
    "z1 * z2"
   ]
  },
  {
   "cell_type": "code",
   "execution_count": 21,
   "id": "4c9af234",
   "metadata": {},
   "outputs": [
    {
     "data": {
      "text/latex": [
       "$\\displaystyle 34.0 + 22.0 i$"
      ],
      "text/plain": [
       "34.0 + 22.0*I"
      ]
     },
     "execution_count": 21,
     "metadata": {},
     "output_type": "execute_result"
    }
   ],
   "source": [
    "sym.sympify(z1*z2)"
   ]
  },
  {
   "cell_type": "code",
   "execution_count": 22,
   "id": "4f0baca8",
   "metadata": {},
   "outputs": [
    {
     "data": {
      "text/plain": [
       "np.complex128(4-5j)"
      ]
     },
     "execution_count": 22,
     "metadata": {},
     "output_type": "execute_result"
    }
   ],
   "source": [
    "np.conj(z1)"
   ]
  },
  {
   "cell_type": "code",
   "execution_count": 23,
   "id": "eb22a6cd",
   "metadata": {},
   "outputs": [
    {
     "data": {
      "text/plain": [
       "np.complex128(6+2j)"
      ]
     },
     "execution_count": 23,
     "metadata": {},
     "output_type": "execute_result"
    }
   ],
   "source": [
    "np.conj(z2)"
   ]
  },
  {
   "cell_type": "code",
   "execution_count": 30,
   "id": "3aac3c3e",
   "metadata": {},
   "outputs": [],
   "source": [
    "a, b = sym.symbols('a, b', real=True)"
   ]
  },
  {
   "cell_type": "code",
   "execution_count": 31,
   "id": "2f61fc20",
   "metadata": {},
   "outputs": [
    {
     "data": {
      "text/latex": [
       "$\\displaystyle a + i b$"
      ],
      "text/plain": [
       "a + I*b"
      ]
     },
     "execution_count": 31,
     "metadata": {},
     "output_type": "execute_result"
    }
   ],
   "source": [
    "z = a + b*sym.I\n",
    "z"
   ]
  },
  {
   "cell_type": "code",
   "execution_count": 32,
   "id": "13221baa",
   "metadata": {},
   "outputs": [
    {
     "data": {
      "text/latex": [
       "$\\displaystyle a - i b$"
      ],
      "text/plain": [
       "a - I*b"
      ]
     },
     "execution_count": 32,
     "metadata": {},
     "output_type": "execute_result"
    }
   ],
   "source": [
    "np.conj(z)"
   ]
  },
  {
   "cell_type": "code",
   "execution_count": 33,
   "id": "8c1b8c13",
   "metadata": {},
   "outputs": [
    {
     "data": {
      "text/latex": [
       "$\\displaystyle a - i b$"
      ],
      "text/plain": [
       "a - I*b"
      ]
     },
     "execution_count": 33,
     "metadata": {},
     "output_type": "execute_result"
    }
   ],
   "source": [
    "sym.conjugate(z)"
   ]
  },
  {
   "cell_type": "code",
   "execution_count": 34,
   "id": "0ea50834",
   "metadata": {},
   "outputs": [
    {
     "data": {
      "text/latex": [
       "$\\displaystyle a - i b$"
      ],
      "text/plain": [
       "a - I*b"
      ]
     },
     "execution_count": 34,
     "metadata": {},
     "output_type": "execute_result"
    }
   ],
   "source": [
    "sym.expand(sym.conjugate(z))"
   ]
  },
  {
   "cell_type": "markdown",
   "id": "9a841380",
   "metadata": {},
   "source": [
    "## division"
   ]
  },
  {
   "cell_type": "code",
   "execution_count": 38,
   "id": "637550a3",
   "metadata": {},
   "outputs": [
    {
     "data": {
      "text/latex": [
       "$\\displaystyle \\frac{(4+2j)}{2} = (2+1j)$"
      ],
      "text/plain": [
       "<IPython.core.display.Math object>"
      ]
     },
     "metadata": {},
     "output_type": "display_data"
    }
   ],
   "source": [
    "z = complex(4, 2)\n",
    "\n",
    "display( Math( '\\\\frac{%s}{2} = %s' %(z, z/2)))"
   ]
  },
  {
   "cell_type": "code",
   "execution_count": 45,
   "id": "c8073c21",
   "metadata": {},
   "outputs": [
    {
     "data": {
      "text/latex": [
       "$\\displaystyle \\frac{(4+2j)}{(2-3j)} = \\frac{(4+2j)\\times (2+3j)}{(2-3j) \\times (2+3j)} = (0.15384615384615383+1.2307692307692308j)$"
      ],
      "text/plain": [
       "<IPython.core.display.Math object>"
      ]
     },
     "metadata": {},
     "output_type": "display_data"
    }
   ],
   "source": [
    "z1 = complex(4, 2)\n",
    "z2 = complex(2, -3)\n",
    "\n",
    "display( Math( '\\\\frac{%s}{%s} = \\\\frac{%s\\\\times %s}{%s \\\\times %s} = %s' \n",
    "              %(z1, z2, \n",
    "                z1, np.conj(z2), \n",
    "                z2, np.conj(z2),\n",
    "                z1/z2\n",
    "    )))"
   ]
  },
  {
   "cell_type": "markdown",
   "id": "12d30274",
   "metadata": {},
   "source": [
    "## graphing"
   ]
  },
  {
   "cell_type": "code",
   "execution_count": 59,
   "id": "eab817d0",
   "metadata": {},
   "outputs": [
    {
     "data": {
      "image/png": "[encoded data removed]",
      "text/plain": [
       "<Figure size 640x480 with 1 Axes>"
      ]
     },
     "metadata": {},
     "output_type": "display_data"
    }
   ],
   "source": [
    "z = complex(2, 3)\n",
    "\n",
    "\n",
    "\n",
    "plt.plot(np.real(z), np.imag(z), 'ro')\n",
    "plt.plot([0, np.real(z)], [0, np.imag(z)], 'r--')\n",
    "\n",
    "plt.plot([-4, 4], [0, 0], 'k')\n",
    "plt.plot([0, 0], [-4, 4], 'k')\n",
    "\n",
    "\n",
    "plt.xlabel('Real')\n",
    "plt.ylabel('Img')\n",
    "plt.grid()\n",
    "plt.axis([-4, 4, -4, 4])\n",
    "plt.show()"
   ]
  },
  {
   "cell_type": "markdown",
   "id": "be99a917",
   "metadata": {},
   "source": [
    "## quadratic equation"
   ]
  },
  {
   "cell_type": "code",
   "execution_count": null,
   "id": "a356134b",
   "metadata": {},
   "outputs": [],
   "source": []
  }
 ],
 "metadata": {
  "kernelspec": {
   "display_name": "env",
   "language": "python",
   "name": "python3"
  },
  "language_info": {
   "codemirror_mode": {
    "name": "ipython",
    "version": 3
   },
   "file_extension": ".py",
   "mimetype": "text/x-python",
   "name": "python",
   "nbconvert_exporter": "python",
   "pygments_lexer": "ipython3",
   "version": "3.12.10"
  }
 },
 "nbformat": 4,
 "nbformat_minor": 5
}
