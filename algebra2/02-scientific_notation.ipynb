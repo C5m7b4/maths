{
 "cells": [
  {
   "cell_type": "code",
   "execution_count": 2,
   "id": "84c9e13e",
   "metadata": {},
   "outputs": [],
   "source": [
    "import numpy as np\n",
    "from IPython.display import display, Math, Latex"
   ]
  },
  {
   "cell_type": "code",
   "execution_count": 14,
   "id": "67276583",
   "metadata": {},
   "outputs": [
    {
     "data": {
      "text/latex": [
       "$\\displaystyle 10^{-2} = 0.01$"
      ],
      "text/plain": [
       "<IPython.core.display.Math object>"
      ]
     },
     "metadata": {},
     "output_type": "display_data"
    },
    {
     "data": {
      "text/latex": [
       "$\\displaystyle 10^{-1} = 0.1$"
      ],
      "text/plain": [
       "<IPython.core.display.Math object>"
      ]
     },
     "metadata": {},
     "output_type": "display_data"
    },
    {
     "data": {
      "text/latex": [
       "$\\displaystyle 10^{0} = 1$"
      ],
      "text/plain": [
       "<IPython.core.display.Math object>"
      ]
     },
     "metadata": {},
     "output_type": "display_data"
    },
    {
     "data": {
      "text/latex": [
       "$\\displaystyle 10^{1} = 10$"
      ],
      "text/plain": [
       "<IPython.core.display.Math object>"
      ]
     },
     "metadata": {},
     "output_type": "display_data"
    },
    {
     "data": {
      "text/latex": [
       "$\\displaystyle 10^{2} = 100$"
      ],
      "text/plain": [
       "<IPython.core.display.Math object>"
      ]
     },
     "metadata": {},
     "output_type": "display_data"
    },
    {
     "data": {
      "text/latex": [
       "$\\displaystyle 10^{3} = 1000$"
      ],
      "text/plain": [
       "<IPython.core.display.Math object>"
      ]
     },
     "metadata": {},
     "output_type": "display_data"
    },
    {
     "data": {
      "text/latex": [
       "$\\displaystyle 10^{4} = 10000$"
      ],
      "text/plain": [
       "<IPython.core.display.Math object>"
      ]
     },
     "metadata": {},
     "output_type": "display_data"
    }
   ],
   "source": [
    "for i in range(-2, 5):\n",
    "    display( Math( '10^{%g} = %g' %(i, 10**i)))"
   ]
  },
  {
   "cell_type": "code",
   "execution_count": 15,
   "id": "bf585a29",
   "metadata": {},
   "outputs": [
    {
     "data": {
      "text/plain": [
       "'3.984579e+08'"
      ]
     },
     "execution_count": 15,
     "metadata": {},
     "output_type": "execute_result"
    }
   ],
   "source": [
    "x = 398457945\n",
    "\n",
    "'{:,e}'.format(x)"
   ]
  },
  {
   "cell_type": "code",
   "execution_count": 18,
   "id": "cb618ded",
   "metadata": {},
   "outputs": [
    {
     "data": {
      "text/plain": [
       "390000000.0"
      ]
     },
     "execution_count": 18,
     "metadata": {},
     "output_type": "execute_result"
    }
   ],
   "source": [
    "3.9* 10**8"
   ]
  },
  {
   "cell_type": "code",
   "execution_count": 20,
   "id": "93beef4e",
   "metadata": {},
   "outputs": [
    {
     "data": {
      "text/plain": [
       "'398457945'"
      ]
     },
     "execution_count": 20,
     "metadata": {},
     "output_type": "execute_result"
    }
   ],
   "source": [
    "'{:d}'.format(x)"
   ]
  },
  {
   "cell_type": "code",
   "execution_count": 21,
   "id": "f4bb4c91",
   "metadata": {},
   "outputs": [
    {
     "data": {
      "text/plain": [
       "'398457945'"
      ]
     },
     "execution_count": 21,
     "metadata": {},
     "output_type": "execute_result"
    }
   ],
   "source": [
    "'%s' %x"
   ]
  },
  {
   "cell_type": "code",
   "execution_count": 22,
   "id": "905e0ffb",
   "metadata": {},
   "outputs": [
    {
     "data": {
      "text/plain": [
       "'3.984579e+08'"
      ]
     },
     "execution_count": 22,
     "metadata": {},
     "output_type": "execute_result"
    }
   ],
   "source": [
    "'%e' %x"
   ]
  },
  {
   "cell_type": "code",
   "execution_count": null,
   "id": "8388e3c2",
   "metadata": {},
   "outputs": [
    {
     "data": {
      "text/plain": [
       "'3.98e+08'"
      ]
     },
     "execution_count": 23,
     "metadata": {},
     "output_type": "execute_result"
    }
   ],
   "source": [
    "'%.2e' %x"
   ]
  },
  {
   "cell_type": "code",
   "execution_count": 24,
   "id": "09854455",
   "metadata": {},
   "outputs": [
    {
     "data": {
      "text/plain": [
       "'3.9846e+08'"
      ]
     },
     "execution_count": 24,
     "metadata": {},
     "output_type": "execute_result"
    }
   ],
   "source": [
    "'%.4e' %x"
   ]
  },
  {
   "cell_type": "code",
   "execution_count": 28,
   "id": "702f575c",
   "metadata": {},
   "outputs": [],
   "source": [
    "s = '%.4e' %x\n"
   ]
  },
  {
   "cell_type": "code",
   "execution_count": 29,
   "id": "48649687",
   "metadata": {},
   "outputs": [
    {
     "data": {
      "text/plain": [
       "str"
      ]
     },
     "execution_count": 29,
     "metadata": {},
     "output_type": "execute_result"
    }
   ],
   "source": [
    "type(s)"
   ]
  },
  {
   "cell_type": "code",
   "execution_count": 30,
   "id": "c09c7aec",
   "metadata": {},
   "outputs": [
    {
     "data": {
      "text/plain": [
       "'3.9846e+08'"
      ]
     },
     "execution_count": 30,
     "metadata": {},
     "output_type": "execute_result"
    }
   ],
   "source": [
    "s"
   ]
  },
  {
   "cell_type": "code",
   "execution_count": 31,
   "id": "63e4718a",
   "metadata": {},
   "outputs": [
    {
     "data": {
      "text/plain": [
       "'3'"
      ]
     },
     "execution_count": 31,
     "metadata": {},
     "output_type": "execute_result"
    }
   ],
   "source": [
    "s[0]"
   ]
  },
  {
   "cell_type": "code",
   "execution_count": 52,
   "id": "938cb181",
   "metadata": {},
   "outputs": [
    {
     "name": "stdout",
     "output_type": "stream",
     "text": [
      "3\n"
     ]
    }
   ],
   "source": [
    "num = -2342\n",
    "\n",
    "# get the order of magnitude\n",
    "order_of_mag = int(np.floor(np.log10(abs(num))))\n",
    "\n",
    "print(order_of_mag)"
   ]
  },
  {
   "cell_type": "code",
   "execution_count": 55,
   "id": "25af93d1",
   "metadata": {},
   "outputs": [
    {
     "name": "stdout",
     "output_type": "stream",
     "text": [
      "2\n",
      "-2.342000e+03\n",
      "-2\n"
     ]
    }
   ],
   "source": [
    "# scientific notation\n",
    "numstr = '{:,e}'.format(num)\n",
    "\n",
    "wherdot = numstr.find('.')\n",
    "print(wherdot)\n",
    "print(numstr)\n",
    "print(numstr[0:wherdot])\n",
    "scinot = numstr[0:wherdot]"
   ]
  },
  {
   "cell_type": "code",
   "execution_count": 57,
   "id": "a7707990",
   "metadata": {},
   "outputs": [
    {
     "data": {
      "text/latex": [
       "$\\displaystyle -2342 \\text{ is } 3 \\text{ orders of magnitude} \\approx -2 \\times 10^3$"
      ],
      "text/plain": [
       "<IPython.core.display.Math object>"
      ]
     },
     "metadata": {},
     "output_type": "display_data"
    }
   ],
   "source": [
    "display( Math( '%s \\\\text{ is } %s \\\\text{ orders of magnitude} \\\\approx %s \\\\times 10^%s' \n",
    "              %(num, order_of_mag, scinot, order_of_mag)))"
   ]
  },
  {
   "cell_type": "code",
   "execution_count": null,
   "id": "9a4f16e2",
   "metadata": {},
   "outputs": [],
   "source": []
  }
 ],
 "metadata": {
  "kernelspec": {
   "display_name": "env",
   "language": "python",
   "name": "python3"
  },
  "language_info": {
   "codemirror_mode": {
    "name": "ipython",
    "version": 3
   },
   "file_extension": ".py",
   "mimetype": "text/x-python",
   "name": "python",
   "nbconvert_exporter": "python",
   "pygments_lexer": "ipython3",
   "version": "3.12.10"
  }
 },
 "nbformat": 4,
 "nbformat_minor": 5
}
