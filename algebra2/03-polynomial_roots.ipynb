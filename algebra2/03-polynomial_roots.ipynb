{
 "cells": [
  {
   "cell_type": "code",
   "execution_count": 1,
   "id": "1dbfee35",
   "metadata": {},
   "outputs": [],
   "source": [
    "import numpy as np\n",
    "import sympy as sym\n",
    "from IPython.display import display, Math\n",
    "from matplotlib import pyplot as plt"
   ]
  },
  {
   "cell_type": "code",
   "execution_count": 2,
   "id": "6943bfe4",
   "metadata": {},
   "outputs": [
    {
     "data": {
      "text/plain": [
       "array([-1.        ,  0.33333333])"
      ]
     },
     "execution_count": 2,
     "metadata": {},
     "output_type": "execute_result"
    }
   ],
   "source": [
    "## polynomial\n",
    "# 3x^2 + 2x - 1\n",
    "\n",
    "coefs = [3, 2, -1]\n",
    "\n",
    "roots = np.roots(coefs)\n",
    "roots"
   ]
  },
  {
   "cell_type": "code",
   "execution_count": 4,
   "id": "e3a0a34c",
   "metadata": {},
   "outputs": [],
   "source": [
    "x = sym.symbols('x')"
   ]
  },
  {
   "cell_type": "code",
   "execution_count": 5,
   "id": "fcbb841b",
   "metadata": {},
   "outputs": [],
   "source": [
    "pn = 3*x**2 + 2 * x - 1"
   ]
  },
  {
   "cell_type": "code",
   "execution_count": 9,
   "id": "ee8a3764",
   "metadata": {},
   "outputs": [
    {
     "data": {
      "text/latex": [
       "$\\displaystyle \\text{At } x=-1, \\quad 3 x^{2} + 2 x - 1 = 0$"
      ],
      "text/plain": [
       "<IPython.core.display.Math object>"
      ]
     },
     "metadata": {},
     "output_type": "display_data"
    },
    {
     "data": {
      "text/latex": [
       "$\\displaystyle \\text{At } x=0.333333, \\quad 3 x^{2} + 2 x - 1 = -5.55112e-17$"
      ],
      "text/plain": [
       "<IPython.core.display.Math object>"
      ]
     },
     "metadata": {},
     "output_type": "display_data"
    }
   ],
   "source": [
    "for i in roots:\n",
    "    display( Math( '\\\\text{At } x=%g, \\\\quad %s = %g' %(i, sym.latex(pn), pn.subs(x, i))))"
   ]
  },
  {
   "cell_type": "code",
   "execution_count": 14,
   "id": "4e93e22f",
   "metadata": {},
   "outputs": [
    {
     "name": "stdout",
     "output_type": "stream",
     "text": [
      "a degree-0 polynomial has 0 roots\n",
      "a degree-1 polynomial has 1 roots\n",
      "a degree-2 polynomial has 2 roots\n",
      "a degree-3 polynomial has 3 roots\n",
      "a degree-4 polynomial has 4 roots\n",
      "a degree-5 polynomial has 5 roots\n",
      "a degree-6 polynomial has 6 roots\n",
      "a degree-7 polynomial has 7 roots\n",
      "a degree-8 polynomial has 8 roots\n",
      "a degree-9 polynomial has 9 roots\n"
     ]
    }
   ],
   "source": [
    "\n",
    "\n",
    "for i in range(1, 11):\n",
    "    coefs = np.arange(1, i+1)\n",
    "    print('a degree-%s polynomial has %s roots' %(len(coefs)-1, len(np.roots(coefs))))"
   ]
  },
  {
   "cell_type": "code",
   "execution_count": null,
   "id": "c1cb2d2d",
   "metadata": {},
   "outputs": [],
   "source": []
  }
 ],
 "metadata": {
  "kernelspec": {
   "display_name": "env",
   "language": "python",
   "name": "python3"
  },
  "language_info": {
   "codemirror_mode": {
    "name": "ipython",
    "version": 3
   },
   "file_extension": ".py",
   "mimetype": "text/x-python",
   "name": "python",
   "nbconvert_exporter": "python",
   "pygments_lexer": "ipython3",
   "version": "3.12.10"
  }
 },
 "nbformat": 4,
 "nbformat_minor": 5
}
