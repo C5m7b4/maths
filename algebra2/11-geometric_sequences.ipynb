{
 "cells": [
  {
   "cell_type": "code",
   "execution_count": 1,
   "id": "94308e17",
   "metadata": {},
   "outputs": [],
   "source": [
    "import numpy as np\n",
    "import matplotlib.pyplot as plt\n",
    "import sympy as sym"
   ]
  },
  {
   "cell_type": "markdown",
   "id": "061806f0",
   "metadata": {},
   "source": [
    "$\n",
    "\\text{arithmatic sequence } = a_n = a_0 + d(n-1)\n",
    "$\n",
    "\n",
    "$\n",
    "\\text{geometric sequence } = g_n = g{_o}r^{(n-1)}\n",
    "$"
   ]
  },
  {
   "cell_type": "code",
   "execution_count": 20,
   "id": "270ffb34",
   "metadata": {},
   "outputs": [
    {
     "data": {
      "text/plain": [
       "array([0, 1, 2, 3, 4, 5])"
      ]
     },
     "execution_count": 20,
     "metadata": {},
     "output_type": "execute_result"
    }
   ],
   "source": [
    "a = 2\n",
    "d = 3 # numbers to skip\n",
    "maxn = 6\n",
    "np.arange(0, maxn)\n"
   ]
  },
  {
   "cell_type": "code",
   "execution_count": 21,
   "id": "e0552693",
   "metadata": {},
   "outputs": [
    {
     "data": {
      "text/plain": [
       "array([ 2,  5,  8, 11, 14, 17])"
      ]
     },
     "execution_count": 21,
     "metadata": {},
     "output_type": "execute_result"
    }
   ],
   "source": [
    "ar = a + d*np.arange(0, maxn)\n",
    "ar"
   ]
  },
  {
   "cell_type": "code",
   "execution_count": 22,
   "id": "d5d1c61b",
   "metadata": {},
   "outputs": [
    {
     "data": {
      "text/plain": [
       "array([  2,   6,  18,  54, 162, 486])"
      ]
     },
     "execution_count": 22,
     "metadata": {},
     "output_type": "execute_result"
    }
   ],
   "source": [
    "a = 2\n",
    "r = 3\n",
    "\n",
    "gs = a * r**np.arange(0, maxn)\n",
    "gs"
   ]
  },
  {
   "cell_type": "code",
   "execution_count": 23,
   "id": "9f6d1f3f",
   "metadata": {},
   "outputs": [
    {
     "data": {
      "image/png": "[encoded data removed]",
      "text/plain": [
       "<Figure size 640x480 with 1 Axes>"
      ]
     },
     "metadata": {},
     "output_type": "display_data"
    }
   ],
   "source": [
    "plt.plot(ar, 'ks', label='arithmetic')\n",
    "plt.plot(gs, 'ro', label='geometric')\n",
    "plt.legend()\n",
    "plt.show()"
   ]
  },
  {
   "cell_type": "code",
   "execution_count": 28,
   "id": "2eeabbf9",
   "metadata": {},
   "outputs": [
    {
     "data": {
      "text/plain": [
       "(17, np.int64(17))"
      ]
     },
     "execution_count": 28,
     "metadata": {},
     "output_type": "execute_result"
    }
   ],
   "source": [
    "a = 2\n",
    "d = 3\n",
    "maxn = 10\n",
    "\n",
    "nth = 6\n",
    "\n",
    "ar = a + d*np.arange(0, maxn)\n",
    "gs = a * d**np.arange(0, maxn)\n",
    "\n",
    "ariDirect = a + d*(nth-1)\n",
    "gsDirect = a * d**(nth-1)\n",
    "\n",
    "ariDirect, ar[nth-1]"
   ]
  },
  {
   "cell_type": "code",
   "execution_count": null,
   "id": "a039b89d",
   "metadata": {},
   "outputs": [],
   "source": []
  }
 ],
 "metadata": {
  "kernelspec": {
   "display_name": "env",
   "language": "python",
   "name": "python3"
  },
  "language_info": {
   "codemirror_mode": {
    "name": "ipython",
    "version": 3
   },
   "file_extension": ".py",
   "mimetype": "text/x-python",
   "name": "python",
   "nbconvert_exporter": "python",
   "pygments_lexer": "ipython3",
   "version": "3.12.10"
  }
 },
 "nbformat": 4,
 "nbformat_minor": 5
}
