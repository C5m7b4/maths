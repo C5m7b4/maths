{
 "cells": [
  {
   "cell_type": "code",
   "execution_count": 5,
   "id": "d0674311",
   "metadata": {},
   "outputs": [],
   "source": [
    "import numpy as np\n",
    "import matplotlib.pyplot as plt\n",
    "from IPython.display import display, Math"
   ]
  },
  {
   "cell_type": "code",
   "execution_count": null,
   "id": "134b5c28",
   "metadata": {},
   "outputs": [],
   "source": []
  },
  {
   "cell_type": "code",
   "execution_count": 12,
   "id": "d196daf8",
   "metadata": {},
   "outputs": [
    {
     "data": {
      "text/latex": [
       "$\\displaystyle \\log(3 \\times 4) = 2.48491$"
      ],
      "text/plain": [
       "<IPython.core.display.Math object>"
      ]
     },
     "metadata": {},
     "output_type": "display_data"
    },
    {
     "data": {
      "text/latex": [
       "$\\displaystyle \\log(3) \\times \\log(4) = 1.523$"
      ],
      "text/plain": [
       "<IPython.core.display.Math object>"
      ]
     },
     "metadata": {},
     "output_type": "display_data"
    },
    {
     "data": {
      "text/latex": [
       "$\\displaystyle \\log(3) + \\log(4) = 2.48491$"
      ],
      "text/plain": [
       "<IPython.core.display.Math object>"
      ]
     },
     "metadata": {},
     "output_type": "display_data"
    },
    {
     "data": {
      "text/latex": [
       "$\\displaystyle \\log(3) + \\log(4) = \\log(3) + \\log(4)$"
      ],
      "text/plain": [
       "<IPython.core.display.Math object>"
      ]
     },
     "metadata": {},
     "output_type": "display_data"
    },
    {
     "data": {
      "text/latex": [
       "$\\displaystyle \\log(3) + \\log(4) \\neq \\log(3) \\times \\log(4)$"
      ],
      "text/plain": [
       "<IPython.core.display.Math object>"
      ]
     },
     "metadata": {},
     "output_type": "display_data"
    }
   ],
   "source": [
    "a = 3\n",
    "b = 4\n",
    "\n",
    "res1 = np.log(a *b)\n",
    "res2 = np.log(a) * np.log(b)\n",
    "res3 = np.log(a) + np.log(b)\n",
    "\n",
    "display( Math( '\\\\log(%g \\\\times %g) = %g' %(a, b, res1)))\n",
    "display( Math( '\\\\log(%g) \\\\times \\\\log(%g) = %g' %(a, b, res2)))\n",
    "display( Math( '\\\\log(%g) + \\\\log(%g) = %g' %(a, b, res3)))\n",
    "\n",
    "display( Math( '\\\\log(%g) + \\\\log(%g) = \\\\log(%g) + \\\\log(%g)' %(a, b, a, b)))\n",
    "display( Math( '\\\\log(%g) + \\\\log(%g) \\\\neq \\\\log(%g) \\\\times \\\\log(%g)' %(a, b, a, b)))"
   ]
  },
  {
   "cell_type": "code",
   "execution_count": 25,
   "id": "0920e59c",
   "metadata": {},
   "outputs": [
    {
     "data": {
      "text/latex": [
       "$\\displaystyle \\log \\left( \\frac{3}{4} \\right)= -0.287682$"
      ],
      "text/plain": [
       "<IPython.core.display.Math object>"
      ]
     },
     "metadata": {},
     "output_type": "display_data"
    },
    {
     "data": {
      "text/latex": [
       "$\\displaystyle \\log(3) / \\log(4) = 0.792481$"
      ],
      "text/plain": [
       "<IPython.core.display.Math object>"
      ]
     },
     "metadata": {},
     "output_type": "display_data"
    },
    {
     "data": {
      "text/latex": [
       "$\\displaystyle \\log(3) - \\log(4) = -0.287682$"
      ],
      "text/plain": [
       "<IPython.core.display.Math object>"
      ]
     },
     "metadata": {},
     "output_type": "display_data"
    },
    {
     "data": {
      "text/latex": [
       "$\\displaystyle \\log \\left( \\frac{3}{4} \\right) = \\log(3) - \\log(4)$"
      ],
      "text/plain": [
       "<IPython.core.display.Math object>"
      ]
     },
     "metadata": {},
     "output_type": "display_data"
    },
    {
     "data": {
      "text/latex": [
       "$\\displaystyle \\log \\left( \\frac{3}{4} \\right) \\neq \\frac{\\log(3)}{\\log(4)}$"
      ],
      "text/plain": [
       "<IPython.core.display.Math object>"
      ]
     },
     "metadata": {},
     "output_type": "display_data"
    }
   ],
   "source": [
    "a = 3\n",
    "b = 4\n",
    "\n",
    "res1 = np.log(a / b)\n",
    "res2 = np.log(a) / np.log(b)\n",
    "res3 = np.log(a) - np.log(b)\n",
    "\n",
    "display( Math( '\\\\log \\\\left( \\\\frac{%g}{%g} \\\\right)= %g' %(a, b, res1)))\n",
    "display( Math( '\\\\log(%g) / \\\\log(%g) = %g' %(a, b, res2)))\n",
    "display( Math( '\\\\log(%g) - \\\\log(%g) = %g' %(a, b, res3)))\n",
    "\n",
    "display( Math( '\\\\log \\\\left( \\\\frac{%g}{%g} \\\\right) = \\\\log(%g) - \\\\log(%g)' %(a, b, a, b)))\n",
    "display( Math( '\\\\log \\\\left( \\\\frac{%g}{%g} \\\\right) \\\\neq \\\\frac{\\\\log(%g)}{\\\\log(%g)}' %(a, b, a, b)))"
   ]
  },
  {
   "cell_type": "code",
   "execution_count": 27,
   "id": "69a13883",
   "metadata": {},
   "outputs": [
    {
     "data": {
      "text/plain": [
       "np.float64(0.0)"
      ]
     },
     "execution_count": 27,
     "metadata": {},
     "output_type": "execute_result"
    }
   ],
   "source": [
    "exp1 = np.log(a**b)\n",
    "exp2 = b * np.log(a)\n",
    "exp3 = np.log(a) + np.log(a) + np.log(a) + np.log(a)\n",
    "\n",
    "exp1 - exp2"
   ]
  },
  {
   "cell_type": "code",
   "execution_count": 29,
   "id": "b62c4356",
   "metadata": {},
   "outputs": [
    {
     "data": {
      "text/plain": [
       "(np.float64(4.394449154672439),\n",
       " np.float64(4.394449154672439),\n",
       " np.float64(4.394449154672439))"
      ]
     },
     "execution_count": 29,
     "metadata": {},
     "output_type": "execute_result"
    }
   ],
   "source": [
    "exp1, exp2, exp3"
   ]
  },
  {
   "cell_type": "code",
   "execution_count": null,
   "id": "960f7c12",
   "metadata": {},
   "outputs": [],
   "source": []
  }
 ],
 "metadata": {
  "kernelspec": {
   "display_name": "env",
   "language": "python",
   "name": "python3"
  },
  "language_info": {
   "codemirror_mode": {
    "name": "ipython",
    "version": 3
   },
   "file_extension": ".py",
   "mimetype": "text/x-python",
   "name": "python",
   "nbconvert_exporter": "python",
   "pygments_lexer": "ipython3",
   "version": "3.12.10"
  }
 },
 "nbformat": 4,
 "nbformat_minor": 5
}
