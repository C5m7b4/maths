{
 "cells": [
  {
   "cell_type": "code",
   "execution_count": 1,
   "id": "3fcfb860",
   "metadata": {},
   "outputs": [],
   "source": [
    "from IPython.display import display, Math"
   ]
  },
  {
   "cell_type": "code",
   "execution_count": 2,
   "id": "b57357a5",
   "metadata": {},
   "outputs": [
    {
     "data": {
      "text/plain": [
       "9"
      ]
     },
     "execution_count": 2,
     "metadata": {},
     "output_type": "execute_result"
    }
   ],
   "source": [
    "3**2"
   ]
  },
  {
   "cell_type": "markdown",
   "id": "6dc977b5",
   "metadata": {},
   "source": [
    "### law of exponents"
   ]
  },
  {
   "cell_type": "code",
   "execution_count": 3,
   "id": "d0d57f45",
   "metadata": {},
   "outputs": [
    {
     "name": "stdout",
     "output_type": "stream",
     "text": [
      "27\n",
      "27\n"
     ]
    }
   ],
   "source": [
    "print( 3**3 )\n",
    "print( 3*3*3 )"
   ]
  },
  {
   "cell_type": "code",
   "execution_count": 4,
   "id": "f6b6378d",
   "metadata": {},
   "outputs": [
    {
     "name": "stdout",
     "output_type": "stream",
     "text": [
      "729\n",
      "729\n"
     ]
    }
   ],
   "source": [
    "print( 3**2 * 3**4 )\n",
    "print( 3**(2+4) )"
   ]
  },
  {
   "cell_type": "code",
   "execution_count": 5,
   "id": "9bde6904",
   "metadata": {},
   "outputs": [
    {
     "data": {
      "text/plain": [
       "2.0"
      ]
     },
     "execution_count": 5,
     "metadata": {},
     "output_type": "execute_result"
    }
   ],
   "source": [
    "4 ** (1/2) # this gives you the square root"
   ]
  },
  {
   "cell_type": "code",
   "execution_count": 6,
   "id": "ad2ec7f4",
   "metadata": {},
   "outputs": [
    {
     "data": {
      "text/plain": [
       "2.0"
      ]
     },
     "execution_count": 6,
     "metadata": {},
     "output_type": "execute_result"
    }
   ],
   "source": [
    "4 ** .5"
   ]
  },
  {
   "cell_type": "code",
   "execution_count": 13,
   "id": "b46e401c",
   "metadata": {},
   "outputs": [
    {
     "data": {
      "text/latex": [
       "$\\displaystyle 3^2 \\times 3^4 = 3^{2+4}$"
      ],
      "text/plain": [
       "<IPython.core.display.Math object>"
      ]
     },
     "metadata": {},
     "output_type": "display_data"
    }
   ],
   "source": [
    "display( Math( '3^2 \\\\times 3^4 = 3^{2+4}') )"
   ]
  },
  {
   "cell_type": "code",
   "execution_count": 14,
   "id": "36ec9eb8",
   "metadata": {},
   "outputs": [],
   "source": [
    "x = 5\n",
    "y = 5.1"
   ]
  },
  {
   "cell_type": "code",
   "execution_count": 20,
   "id": "c90fe2e0",
   "metadata": {},
   "outputs": [
    {
     "data": {
      "text/plain": [
       "3933.086147822751"
      ]
     },
     "execution_count": 20,
     "metadata": {},
     "output_type": "execute_result"
    }
   ],
   "source": [
    "result1 = x**(3/4) * 4**y\n",
    "result1"
   ]
  },
  {
   "cell_type": "code",
   "execution_count": 28,
   "id": "92205ec8",
   "metadata": {},
   "outputs": [
    {
     "data": {
      "text/latex": [
       "$\\displaystyle x^{3/4} \\times 4^y = 3933.09$"
      ],
      "text/plain": [
       "<IPython.core.display.Math object>"
      ]
     },
     "metadata": {},
     "output_type": "display_data"
    }
   ],
   "source": [
    "\n",
    "display( Math( 'x^{3/4} \\\\times 4^y = %g' %(result1) ) )"
   ]
  },
  {
   "cell_type": "code",
   "execution_count": 30,
   "id": "6212988d",
   "metadata": {},
   "outputs": [
    {
     "data": {
      "text/plain": [
       "0.007355576930579584"
      ]
     },
     "execution_count": 30,
     "metadata": {},
     "output_type": "execute_result"
    }
   ],
   "source": [
    "result2 = 3**3 / x**y\n",
    "result2"
   ]
  },
  {
   "cell_type": "code",
   "execution_count": 31,
   "id": "74439b62",
   "metadata": {},
   "outputs": [
    {
     "data": {
      "text/latex": [
       "$\\displaystyle \\frac{3^3}{x^y} = 0.00735558$"
      ],
      "text/plain": [
       "<IPython.core.display.Math object>"
      ]
     },
     "metadata": {},
     "output_type": "display_data"
    }
   ],
   "source": [
    "display( Math( '\\\\frac{3^3}{x^y} = %g' %(result2) ) )"
   ]
  },
  {
   "cell_type": "code",
   "execution_count": 24,
   "id": "75e16630",
   "metadata": {},
   "outputs": [
    {
     "data": {
      "text/plain": [
       "10"
      ]
     },
     "execution_count": 24,
     "metadata": {},
     "output_type": "execute_result"
    }
   ],
   "source": [
    "result3 = 10**(x-4)\n",
    "result3"
   ]
  },
  {
   "cell_type": "code",
   "execution_count": 35,
   "id": "2ede4210",
   "metadata": {},
   "outputs": [
    {
     "data": {
      "text/latex": [
       "$\\displaystyle 10^{x-4} = 10$"
      ],
      "text/plain": [
       "<IPython.core.display.Math object>"
      ]
     },
     "metadata": {},
     "output_type": "display_data"
    }
   ],
   "source": [
    "display( Math( '10^{x-4} = %g' %(result3)))"
   ]
  },
  {
   "cell_type": "code",
   "execution_count": null,
   "id": "2d4dbc8f",
   "metadata": {},
   "outputs": [],
   "source": []
  }
 ],
 "metadata": {
  "kernelspec": {
   "display_name": "env",
   "language": "python",
   "name": "python3"
  },
  "language_info": {
   "codemirror_mode": {
    "name": "ipython",
    "version": 3
   },
   "file_extension": ".py",
   "mimetype": "text/x-python",
   "name": "python",
   "nbconvert_exporter": "python",
   "pygments_lexer": "ipython3",
   "version": "3.12.10"
  }
 },
 "nbformat": 4,
 "nbformat_minor": 5
}
