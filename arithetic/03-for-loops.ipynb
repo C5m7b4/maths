{
 "cells": [
  {
   "cell_type": "code",
   "execution_count": 2,
   "id": "5fe354c8",
   "metadata": {},
   "outputs": [],
   "source": [
    "from IPython.display import display, Math"
   ]
  },
  {
   "cell_type": "code",
   "execution_count": 4,
   "id": "c686f197",
   "metadata": {},
   "outputs": [
    {
     "name": "stdout",
     "output_type": "stream",
     "text": [
      "This is the 0th iteration\n",
      "This is the 1th iteration\n",
      "This is the 2th iteration\n"
     ]
    }
   ],
   "source": [
    "for querty in range(0, 3):\n",
    "    print('This is the %gth iteration' %querty)"
   ]
  },
  {
   "cell_type": "code",
   "execution_count": 6,
   "id": "3983fba8",
   "metadata": {},
   "outputs": [
    {
     "name": "stdout",
     "output_type": "stream",
     "text": [
      "num = 0\n",
      "num = 1\n",
      "num = 4\n",
      "num = 9\n",
      "num = 16\n"
     ]
    }
   ],
   "source": [
    "for t in range(0, 5):\n",
    "    num = t**2\n",
    "    print(f'num = {num}')"
   ]
  },
  {
   "cell_type": "code",
   "execution_count": 12,
   "id": "91e76213",
   "metadata": {},
   "outputs": [
    {
     "name": "stdout",
     "output_type": "stream",
     "text": [
      "4 to the power of 0 is 1\n",
      "4 to the power of 1 is 4\n",
      "4 to the power of 2 is 16\n",
      "4 to the power of 3 is 64\n",
      "4 to the power of 4 is 256\n",
      "4 to the power of 5 is 1024\n",
      "4 to the power of 6 is 4096\n",
      "4 to the power of 7 is 16384\n",
      "4 to the power of 8 is 65536\n",
      "4 to the power of 9 is 262144\n"
     ]
    }
   ],
   "source": [
    "base = 4\n",
    "\n",
    "for i in range(0, 10):\n",
    "    print(f'%g to the power of %g is %g' %(base, i, base**i))"
   ]
  },
  {
   "cell_type": "code",
   "execution_count": null,
   "id": "8f869fc4",
   "metadata": {},
   "outputs": [],
   "source": []
  }
 ],
 "metadata": {
  "kernelspec": {
   "display_name": "env",
   "language": "python",
   "name": "python3"
  },
  "language_info": {
   "codemirror_mode": {
    "name": "ipython",
    "version": 3
   },
   "file_extension": ".py",
   "mimetype": "text/x-python",
   "name": "python",
   "nbconvert_exporter": "python",
   "pygments_lexer": "ipython3",
   "version": "3.12.10"
  }
 },
 "nbformat": 4,
 "nbformat_minor": 5
}
