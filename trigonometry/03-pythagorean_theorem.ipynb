{
 "cells": [
  {
   "cell_type": "code",
   "execution_count": 1,
   "id": "1797e795",
   "metadata": {},
   "outputs": [],
   "source": [
    "import numpy as np\n",
    "import matplotlib.pyplot as plt"
   ]
  },
  {
   "cell_type": "code",
   "execution_count": 33,
   "id": "f7610e1e",
   "metadata": {},
   "outputs": [
    {
     "data": {
      "image/png": "[encoded data removed]",
      "text/plain": [
       "<Figure size 640x480 with 1 Axes>"
      ]
     },
     "metadata": {},
     "output_type": "display_data"
    }
   ],
   "source": [
    "a = 3\n",
    "b = 4\n",
    "c = np.sqrt(a**2 + b**2)\n",
    "\n",
    "# draw the triangle\n",
    "plt.plot([0, a], [0, 0], 'k')\n",
    "plt.plot([0, 0], [0, b], 'k')\n",
    "plt.plot([0, a], [b, 0], 'k')\n",
    "\n",
    "plt.plot([.2, .2], [.3,0], 'k')\n",
    "plt.plot([0, .2], [.3, .3], 'k')\n",
    "\n",
    "plt.text(a/3,-.45, 'a=%g' %a, fontsize=15)\n",
    "plt.text(.1, b/3, 'b=%g' %b, fontsize=15)\n",
    "plt.text(a/2+.25, b/2, 'c=%g' %c, fontsize=15)\n",
    "\n",
    "plt.axis('square')\n",
    "axlim = np.max((a,b)) + .5\n",
    "plt.axis([-.5, axlim, -0.5, axlim])\n",
    "plt.axis('off')\n",
    "plt.show()\n"
   ]
  },
  {
   "cell_type": "markdown",
   "id": "46f6058e",
   "metadata": {},
   "source": [
    "## complex numbers"
   ]
  },
  {
   "cell_type": "code",
   "execution_count": 34,
   "id": "bafe17f9",
   "metadata": {},
   "outputs": [
    {
     "data": {
      "text/plain": [
       "(np.float64(5.0), np.float64(5.0))"
      ]
     },
     "execution_count": 34,
     "metadata": {},
     "output_type": "execute_result"
    }
   ],
   "source": [
    "z = complex(3, 4)\n",
    "\n",
    "mag1 = np.sqrt(np.real(z)**2 + np.imag(z)**2)\n",
    "mag2 = np.abs(z)\n",
    "\n",
    "mag1, mag2"
   ]
  },
  {
   "cell_type": "code",
   "execution_count": 36,
   "id": "a1f78f8d",
   "metadata": {},
   "outputs": [
    {
     "data": {
      "text/plain": [
       "(np.float64(0.9272952180016122), np.float64(0.9272952180016122))"
      ]
     },
     "execution_count": 36,
     "metadata": {},
     "output_type": "execute_result"
    }
   ],
   "source": [
    "ang1 = np.arctan2(np.imag(z), np.real(z))\n",
    "ang2 = np.angle(z)\n",
    "\n",
    "ang1, ang2"
   ]
  },
  {
   "cell_type": "code",
   "execution_count": null,
   "id": "58133ba0",
   "metadata": {},
   "outputs": [],
   "source": []
  }
 ],
 "metadata": {
  "kernelspec": {
   "display_name": "env",
   "language": "python",
   "name": "python3"
  },
  "language_info": {
   "codemirror_mode": {
    "name": "ipython",
    "version": 3
   },
   "file_extension": ".py",
   "mimetype": "text/x-python",
   "name": "python",
   "nbconvert_exporter": "python",
   "pygments_lexer": "ipython3",
   "version": "3.12.10"
  }
 },
 "nbformat": 4,
 "nbformat_minor": 5
}
