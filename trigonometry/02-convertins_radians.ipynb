{
 "cells": [
  {
   "cell_type": "code",
   "execution_count": 27,
   "id": "aa64f9d6",
   "metadata": {},
   "outputs": [],
   "source": [
    "import numpy as np\n",
    "import matplotlib.pyplot as plt"
   ]
  },
  {
   "cell_type": "markdown",
   "id": "8e69be00",
   "metadata": {},
   "source": [
    "## degrees to radians"
   ]
  },
  {
   "cell_type": "code",
   "execution_count": 14,
   "id": "e3a84492",
   "metadata": {},
   "outputs": [
    {
     "name": "stdout",
     "output_type": "stream",
     "text": [
      "180 degrees is 3.14159 radians\n"
     ]
    }
   ],
   "source": [
    "deg = 180\n",
    "rad = deg * np.pi / 180\n",
    "rad = rad%(2*np.pi)\n",
    "\n",
    "rad = np.deg2rad(deg)%(2*np.pi)\n",
    "print('%g degrees is %g radians' %(deg, rad))"
   ]
  },
  {
   "cell_type": "markdown",
   "id": "2e807eb1",
   "metadata": {},
   "source": [
    "## radians to degress"
   ]
  },
  {
   "cell_type": "code",
   "execution_count": 15,
   "id": "59589af1",
   "metadata": {},
   "outputs": [
    {
     "data": {
      "text/plain": [
       "np.float64(180.0)"
      ]
     },
     "execution_count": 15,
     "metadata": {},
     "output_type": "execute_result"
    }
   ],
   "source": [
    "rad = np.pi\n",
    "\n",
    "deg = 180 * rad/np.pi\n",
    "deg = np.rad2deg(rad)\n",
    "deg"
   ]
  },
  {
   "cell_type": "code",
   "execution_count": 36,
   "id": "61e6f035",
   "metadata": {},
   "outputs": [],
   "source": [
    "def angle_convert_plot():\n",
    "    try:\n",
    "        # get the inputs from the user\n",
    "        angle = eval(input('What angle to convert? '))\n",
    "        unit = input('Which unit did you input (radians or degrees)? ')\n",
    "\n",
    "        print(' angle is %s and degree is %s' %(angle, unit))\n",
    "        if unit[0].lower() == 'r':\n",
    "            rad = angle\n",
    "            deg = np.rad2deg(rad)\n",
    "        else:\n",
    "            deg = angle\n",
    "            rad = np.deg2rad(deg)\n",
    "        print('%g degrees is %g radians' %(deg, rad))\n",
    "        plt.plot([0, 1], [0, 0], 'r', linewidth=2)\n",
    "        plt.plot([0, np.cos(rad)], [0, np.sin(rad)], 'r', linewidth=2)\n",
    "\n",
    "        plt.axis('square')\n",
    "        plt.axis([-1, 1, -1, 1])\n",
    "        plt.grid()\n",
    "        plt.title('Angle is %s$^o$ or %s rad.' %(deg,rad))\n",
    "        plt.show()\n",
    "    except Exception as e:\n",
    "        print('An error occured: %s' %e)"
   ]
  },
  {
   "cell_type": "code",
   "execution_count": 38,
   "id": "80640f75",
   "metadata": {},
   "outputs": [
    {
     "name": "stdout",
     "output_type": "stream",
     "text": [
      " angle is 97 and degree is d\n",
      "97 degrees is 1.69297 radians\n"
     ]
    },
    {
     "data": {
      "image/png": "[encoded data removed]",
      "text/plain": [
       "<Figure size 640x480 with 1 Axes>"
      ]
     },
     "metadata": {},
     "output_type": "display_data"
    }
   ],
   "source": [
    "angle_convert_plot()"
   ]
  },
  {
   "cell_type": "code",
   "execution_count": null,
   "id": "29e758ff",
   "metadata": {},
   "outputs": [],
   "source": []
  }
 ],
 "metadata": {
  "kernelspec": {
   "display_name": "env",
   "language": "python",
   "name": "python3"
  },
  "language_info": {
   "codemirror_mode": {
    "name": "ipython",
    "version": 3
   },
   "file_extension": ".py",
   "mimetype": "text/x-python",
   "name": "python",
   "nbconvert_exporter": "python",
   "pygments_lexer": "ipython3",
   "version": "3.12.10"
  }
 },
 "nbformat": 4,
 "nbformat_minor": 5
}
