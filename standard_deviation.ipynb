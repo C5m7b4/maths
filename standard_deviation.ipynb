{
 "cells": [
  {
   "cell_type": "markdown",
   "id": "58fa0238",
   "metadata": {},
   "source": [
    "# Import Libraries"
   ]
  },
  {
   "cell_type": "code",
   "execution_count": 1,
   "id": "97cf21b8",
   "metadata": {},
   "outputs": [],
   "source": [
    "import pandas as pd\n",
    "import numpy as np"
   ]
  },
  {
   "cell_type": "markdown",
   "id": "6e73b10d",
   "metadata": {},
   "source": [
    "# Describe the Problem/Solution\n",
    "\n",
    "### 💡 what is standard deviation and how do I get that information from just some raw data?"
   ]
  },
  {
   "cell_type": "markdown",
   "id": "3a9b2214",
   "metadata": {},
   "source": [
    "🧪 Step-by-step Walkthrough (Reverse Engineering Style)\n",
    "Let’s assume you’re given just this:\n",
    "\n",
    "Person\tHeight (cm)\n",
    "Person1\t173\n",
    "Person2\t147\n",
    "Person3\t140\n",
    "Person4\t163\n",
    "Person5\t146\n",
    "Person6\t161"
   ]
  },
  {
   "cell_type": "markdown",
   "id": "cba37305",
   "metadata": {},
   "source": [
    "Now, we’ll turn this into a pandas DataFrame and then slowly calculate:\n",
    "\n",
    "Mean height\n",
    "\n",
    "Deviation from mean\n",
    "\n",
    "Squared deviation\n",
    "\n",
    "Variance\n",
    "\n",
    "Standard deviation"
   ]
  },
  {
   "cell_type": "markdown",
   "id": "412a0710",
   "metadata": {},
   "source": [
    "# Solution"
   ]
  },
  {
   "cell_type": "markdown",
   "id": "c0dddf51",
   "metadata": {},
   "source": [
    "## Step 1: get the data"
   ]
  },
  {
   "cell_type": "code",
   "execution_count": 70,
   "id": "625d3193",
   "metadata": {},
   "outputs": [],
   "source": [
    "# create a dictionary with sample data\n",
    "# key: string\n",
    "# value: list\n",
    "data = {\n",
    "    'Person': ['Person1', 'Person2', 'Person3', 'Person4', 'Person5', 'Person6'],\n",
    "    'height_cm': [173, 147, 140, 163, 146, 161]\n",
    "}"
   ]
  },
  {
   "cell_type": "markdown",
   "id": "e8cae855",
   "metadata": {},
   "source": [
    "## Step 2: Create the DataFrame"
   ]
  },
  {
   "cell_type": "code",
   "execution_count": 71,
   "id": "0f264a82",
   "metadata": {},
   "outputs": [],
   "source": [
    "# its just that easy if you just pass in a dictionary\"\n",
    "# Im calling this ds because my head hurts if im not dealing with datasets\n",
    "# you'll see df all over the code world, but my fingers prefer ds to df\n",
    "ds = pd.DataFrame(data)"
   ]
  },
  {
   "cell_type": "markdown",
   "id": "0b67dc6b",
   "metadata": {},
   "source": [
    "## Step 3: Calculate Mean height"
   ]
  },
  {
   "cell_type": "code",
   "execution_count": 72,
   "id": "e0a7e29a",
   "metadata": {},
   "outputs": [],
   "source": [
    "# this is a build in function and I would like to see the math isolated out.\n",
    "mean_height = ds['height_cm'].mean()"
   ]
  },
  {
   "cell_type": "code",
   "execution_count": 73,
   "id": "512242b6",
   "metadata": {},
   "outputs": [
    {
     "name": "stdout",
     "output_type": "stream",
     "text": [
      "mean_height: 155.0\n"
     ]
    }
   ],
   "source": [
    "print(f\"mean_height: {mean_height}\")"
   ]
  },
  {
   "cell_type": "code",
   "execution_count": 74,
   "metadata": {},
   "outputs": [],
   "source": [
    "# add it to the dataset, what I like to call a DataFrame\n",
    "ds['mean_height'] = mean_height"
   ]
  },
  {
   "cell_type": "markdown",
   "id": "98bafade",
   "metadata": {},
   "source": [
    "## Step 4: Calculate the deviation from the mean"
   ]
  },
  {
   "cell_type": "code",
   "execution_count": 75,
   "metadata": {},
   "outputs": [],
   "source": [
    "# how far off is each person from the mean height?\n",
    "# and when i say mean I mean average, lol\n",
    "# take the height of each person(height_cm) and subtract the mean height of all the peeps and then put that into a new column called deviation\n",
    "ds['deviation'] = ds['height_cm'] - ds['mean_height']"
   ]
  },
  {
   "cell_type": "code",
   "execution_count": 78,
   "id": "776b1956",
   "metadata": {},
   "outputs": [
    {
     "data": {
      "text/html": [
       "<div>\n",
       "<style scoped>\n",
       "    .dataframe tbody tr th:only-of-type {\n",
       "        vertical-align: middle;\n",
       "    }\n",
       "\n",
       "    .dataframe tbody tr th {\n",
       "        vertical-align: top;\n",
       "    }\n",
       "\n",
       "    .dataframe thead th {\n",
       "        text-align: right;\n",
       "    }\n",
       "</style>\n",
       "<table border=\"1\" class=\"dataframe\">\n",
       "  <thead>\n",
       "    <tr style=\"text-align: right;\">\n",
       "      <th></th>\n",
       "      <th>Person</th>\n",
       "      <th>height_cm</th>\n",
       "      <th>mean_height</th>\n",
       "      <th>deviation</th>\n",
       "      <th>squared_deviation</th>\n",
       "    </tr>\n",
       "  </thead>\n",
       "  <tbody>\n",
       "    <tr>\n",
       "      <th>0</th>\n",
       "      <td>Person1</td>\n",
       "      <td>173</td>\n",
       "      <td>155.0</td>\n",
       "      <td>18.0</td>\n",
       "      <td>324.0</td>\n",
       "    </tr>\n",
       "    <tr>\n",
       "      <th>1</th>\n",
       "      <td>Person2</td>\n",
       "      <td>147</td>\n",
       "      <td>155.0</td>\n",
       "      <td>-8.0</td>\n",
       "      <td>64.0</td>\n",
       "    </tr>\n",
       "    <tr>\n",
       "      <th>2</th>\n",
       "      <td>Person3</td>\n",
       "      <td>140</td>\n",
       "      <td>155.0</td>\n",
       "      <td>-15.0</td>\n",
       "      <td>225.0</td>\n",
       "    </tr>\n",
       "    <tr>\n",
       "      <th>3</th>\n",
       "      <td>Person4</td>\n",
       "      <td>163</td>\n",
       "      <td>155.0</td>\n",
       "      <td>8.0</td>\n",
       "      <td>64.0</td>\n",
       "    </tr>\n",
       "    <tr>\n",
       "      <th>4</th>\n",
       "      <td>Person5</td>\n",
       "      <td>146</td>\n",
       "      <td>155.0</td>\n",
       "      <td>-9.0</td>\n",
       "      <td>81.0</td>\n",
       "    </tr>\n",
       "    <tr>\n",
       "      <th>5</th>\n",
       "      <td>Person6</td>\n",
       "      <td>161</td>\n",
       "      <td>155.0</td>\n",
       "      <td>6.0</td>\n",
       "      <td>36.0</td>\n",
       "    </tr>\n",
       "  </tbody>\n",
       "</table>\n",
       "</div>"
      ],
      "text/plain": [
       "    Person  height_cm  mean_height  deviation  squared_deviation\n",
       "0  Person1        173        155.0       18.0              324.0\n",
       "1  Person2        147        155.0       -8.0               64.0\n",
       "2  Person3        140        155.0      -15.0              225.0\n",
       "3  Person4        163        155.0        8.0               64.0\n",
       "4  Person5        146        155.0       -9.0               81.0\n",
       "5  Person6        161        155.0        6.0               36.0"
      ]
     },
     "execution_count": 78,
     "metadata": {},
     "output_type": "execute_result"
    }
   ],
   "source": [
    "ds"
   ]
  },
  {
   "cell_type": "markdown",
   "id": "9f548e1a",
   "metadata": {},
   "source": [
    "## Step 5: Square the deviation"
   ]
  },
  {
   "cell_type": "code",
   "execution_count": 79,
   "id": "c8a18be3",
   "metadata": {},
   "outputs": [],
   "source": [
    "# weird to me, but I love the **2 means square that shit and save it to a new column called squared_deviation\n",
    "# this is each persons contribution to the total variance\n",
    "ds['squared_deviation'] = ds['deviation'] ** 2"
   ]
  },
  {
   "cell_type": "markdown",
   "id": "49a2ba37",
   "metadata": {},
   "source": [
    "## Step 6: Calculate variance and standard deviation"
   ]
  },
  {
   "cell_type": "code",
   "execution_count": 80,
   "id": "38d195b9",
   "metadata": {},
   "outputs": [],
   "source": [
    "# this is my interpretation:\n",
    "# this is the average of how bad everybodys shit is as a whole, or good...\n",
    "# Uses N-1 in the denominator (Bessel’s correction).\n",
    "# proper definition: the overall variance is the average of those squared deviations (or slightly inflated is your using sample variance)\n",
    "population_variance = ds['squared_deviation'].mean()\n",
    "sample_variance = ds['squared_deviation'].sum() / (len(ds) - 1)\n",
    "variance = ds['squared_deviation'].sum() / (len(ds) - 1)\n"
   ]
  },
  {
   "cell_type": "code",
   "execution_count": null,
   "id": "5ebf3c36",
   "metadata": {},
   "outputs": [],
   "source": [
    "# calculate the standard deviation by taking the square root of the variance\n",
    "std_dev = np.sqrt(variance)"
   ]
  },
  {
   "cell_type": "code",
   "execution_count": 44,
   "id": "c57c76c9",
   "metadata": {},
   "outputs": [
    {
     "name": "stdout",
     "output_type": "stream",
     "text": [
      "\n",
      "Mean height: 155.00 cm\n",
      "Standard Deviation: 12.60 cm\n"
     ]
    }
   ],
   "source": [
    "\n",
    "print(f\"\\nMean height: {ds['mean_height'].iloc[0]:.2f} cm\")\n",
    "print(f\"Standard Deviation: {std_dev:.2f} cm\")"
   ]
  },
  {
   "cell_type": "code",
   "execution_count": 45,
   "id": "615583b2",
   "metadata": {},
   "outputs": [
    {
     "data": {
      "text/html": [
       "<div>\n",
       "<style scoped>\n",
       "    .dataframe tbody tr th:only-of-type {\n",
       "        vertical-align: middle;\n",
       "    }\n",
       "\n",
       "    .dataframe tbody tr th {\n",
       "        vertical-align: top;\n",
       "    }\n",
       "\n",
       "    .dataframe thead th {\n",
       "        text-align: right;\n",
       "    }\n",
       "</style>\n",
       "<table border=\"1\" class=\"dataframe\">\n",
       "  <thead>\n",
       "    <tr style=\"text-align: right;\">\n",
       "      <th></th>\n",
       "      <th>Person</th>\n",
       "      <th>height_cm</th>\n",
       "      <th>mean_height</th>\n",
       "      <th>deviation</th>\n",
       "      <th>squared_deviation</th>\n",
       "      <th>variance</th>\n",
       "      <th>std_dev</th>\n",
       "    </tr>\n",
       "  </thead>\n",
       "  <tbody>\n",
       "    <tr>\n",
       "      <th>0</th>\n",
       "      <td>Person1</td>\n",
       "      <td>173</td>\n",
       "      <td>155.0</td>\n",
       "      <td>18.0</td>\n",
       "      <td>324.0</td>\n",
       "      <td>158.8</td>\n",
       "      <td>12.601587</td>\n",
       "    </tr>\n",
       "    <tr>\n",
       "      <th>1</th>\n",
       "      <td>Person2</td>\n",
       "      <td>147</td>\n",
       "      <td>155.0</td>\n",
       "      <td>-8.0</td>\n",
       "      <td>64.0</td>\n",
       "      <td>158.8</td>\n",
       "      <td>12.601587</td>\n",
       "    </tr>\n",
       "    <tr>\n",
       "      <th>2</th>\n",
       "      <td>Person3</td>\n",
       "      <td>140</td>\n",
       "      <td>155.0</td>\n",
       "      <td>-15.0</td>\n",
       "      <td>225.0</td>\n",
       "      <td>158.8</td>\n",
       "      <td>12.601587</td>\n",
       "    </tr>\n",
       "    <tr>\n",
       "      <th>3</th>\n",
       "      <td>Person4</td>\n",
       "      <td>163</td>\n",
       "      <td>155.0</td>\n",
       "      <td>8.0</td>\n",
       "      <td>64.0</td>\n",
       "      <td>158.8</td>\n",
       "      <td>12.601587</td>\n",
       "    </tr>\n",
       "    <tr>\n",
       "      <th>4</th>\n",
       "      <td>Person5</td>\n",
       "      <td>146</td>\n",
       "      <td>155.0</td>\n",
       "      <td>-9.0</td>\n",
       "      <td>81.0</td>\n",
       "      <td>158.8</td>\n",
       "      <td>12.601587</td>\n",
       "    </tr>\n",
       "  </tbody>\n",
       "</table>\n",
       "</div>"
      ],
      "text/plain": [
       "    Person  height_cm  mean_height  deviation  squared_deviation  variance  \\\n",
       "0  Person1        173        155.0       18.0              324.0     158.8   \n",
       "1  Person2        147        155.0       -8.0               64.0     158.8   \n",
       "2  Person3        140        155.0      -15.0              225.0     158.8   \n",
       "3  Person4        163        155.0        8.0               64.0     158.8   \n",
       "4  Person5        146        155.0       -9.0               81.0     158.8   \n",
       "\n",
       "     std_dev  \n",
       "0  12.601587  \n",
       "1  12.601587  \n",
       "2  12.601587  \n",
       "3  12.601587  \n",
       "4  12.601587  "
      ]
     },
     "execution_count": 45,
     "metadata": {},
     "output_type": "execute_result"
    }
   ],
   "source": [
    "ds.head()"
   ]
  },
  {
   "cell_type": "code",
   "execution_count": null,
   "id": "c42f4a73",
   "metadata": {},
   "outputs": [],
   "source": []
  }
 ],
 "metadata": {
  "kernelspec": {
   "display_name": "env",
   "language": "python",
   "name": "python3"
  },
  "language_info": {
   "codemirror_mode": {
    "name": "ipython",
    "version": 3
   },
   "file_extension": ".py",
   "mimetype": "text/x-python",
   "name": "python",
   "nbconvert_exporter": "python",
   "pygments_lexer": "ipython3",
   "version": "3.12.10"
  }
 },
 "nbformat": 4,
 "nbformat_minor": 5
}
