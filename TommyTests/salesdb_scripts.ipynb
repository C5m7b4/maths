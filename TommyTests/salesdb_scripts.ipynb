{
 "cells": [
  {
   "cell_type": "markdown",
   "id": "a7c59a36",
   "metadata": {},
   "source": []
  },
  {
   "cell_type": "code",
   "execution_count": 1,
   "id": "99598b82",
   "metadata": {},
   "outputs": [],
   "source": [
    "import pandas as pd\n",
    "import numpy as np\n",
    "import random\n",
    "import sys\n",
    "import os\n",
    "\n",
    "sys.path.append(os.path.abspath('..'))\n",
    "from utils.db import get_db"
   ]
  },
  {
   "cell_type": "code",
   "execution_count": 2,
   "id": "565760c1",
   "metadata": {},
   "outputs": [],
   "source": [
    "engine = get_db()\n",
    "start_date = '5/05/2025'\n",
    "end_date = '6/23/2025'"
   ]
  },
  {
   "cell_type": "markdown",
   "id": "c0c04d8a",
   "metadata": {},
   "source": [
    "#### Get the Query of base data for everything"
   ]
  },
  {
   "cell_type": "code",
   "execution_count": null,
   "id": "22c57b4f",
   "metadata": {},
   "outputs": [],
   "source": [
    "query = f\"\"\"SELECT \n",
    "    storeid,\n",
    "    sale_date,\n",
    "    product_code,\n",
    "    price,\n",
    "    cost,\n",
    "    case_size,\n",
    "    qty,\n",
    "    total_sales\n",
    "FROM sales\n",
    "WHERE sale_date BETWEEN '{start_date}' and '{end_date}'\n",
    "  AND store_number IN ('440')\n",
    "\"\"\""
   ]
  },
  {
   "cell_type": "code",
   "execution_count": 4,
   "id": "55f63e0e",
   "metadata": {},
   "outputs": [
    {
     "name": "stdout",
     "output_type": "stream",
     "text": [
      "2025-06-30 15:57:48,458 INFO sqlalchemy.engine.Engine select pg_catalog.version()\n",
      "2025-06-30 15:57:48,459 INFO sqlalchemy.engine.Engine [raw sql] {}\n",
      "2025-06-30 15:57:48,515 INFO sqlalchemy.engine.Engine select current_schema()\n",
      "2025-06-30 15:57:48,516 INFO sqlalchemy.engine.Engine [raw sql] {}\n",
      "2025-06-30 15:57:48,571 INFO sqlalchemy.engine.Engine show standard_conforming_strings\n",
      "2025-06-30 15:57:48,571 INFO sqlalchemy.engine.Engine [raw sql] {}\n",
      "2025-06-30 15:57:48,630 INFO sqlalchemy.engine.Engine BEGIN (implicit)\n",
      "2025-06-30 15:57:48,631 INFO sqlalchemy.engine.Engine SELECT pg_catalog.pg_class.relname \n",
      "FROM pg_catalog.pg_class JOIN pg_catalog.pg_namespace ON pg_catalog.pg_namespace.oid = pg_catalog.pg_class.relnamespace \n",
      "WHERE pg_catalog.pg_class.relname = %(table_name)s AND pg_catalog.pg_class.relkind = ANY (ARRAY[%(param_1)s, %(param_2)s, %(param_3)s, %(param_4)s, %(param_5)s]) AND pg_catalog.pg_table_is_visible(pg_catalog.pg_class.oid) AND pg_catalog.pg_namespace.nspname != %(nspname_1)s\n",
      "2025-06-30 15:57:48,632 INFO sqlalchemy.engine.Engine [generated in 0.00235s] {'table_name': \"SELECT \\n    storeid,\\n    sale_date,\\n    category,\\n    product_code,\\n    price,\\n    cost,\\n    case_size,\\n    qty,\\n    total_sales\\nFROM sales\\nWHERE sale_date BETWEEN '5/05/2025' and '6/23/2025'\\n  AND store_number IN ('440')\\n\", 'param_1': 'r', 'param_2': 'p', 'param_3': 'f', 'param_4': 'v', 'param_5': 'm', 'nspname_1': 'pg_catalog'}\n",
      "2025-06-30 15:57:48,714 INFO sqlalchemy.engine.Engine SELECT \n",
      "    storeid,\n",
      "    sale_date,\n",
      "    category,\n",
      "    product_code,\n",
      "    price,\n",
      "    cost,\n",
      "    case_size,\n",
      "    qty,\n",
      "    total_sales\n",
      "FROM sales\n",
      "WHERE sale_date BETWEEN '5/05/2025' and '6/23/2025'\n",
      "  AND store_number IN ('440')\n",
      "\n",
      "2025-06-30 15:57:48,715 INFO sqlalchemy.engine.Engine [raw sql] {}\n",
      "2025-06-30 15:58:05,923 INFO sqlalchemy.engine.Engine ROLLBACK\n"
     ]
    }
   ],
   "source": [
    "ds = pd.read_sql(query, engine)\n",
    "\n",
    "#ensure it is datetime format\n",
    "\n",
    "ds[\"sale_date\"] = pd.to_datetime(ds[\"sale_date\"])"
   ]
  },
  {
   "cell_type": "code",
   "execution_count": 5,
   "id": "f329eedb",
   "metadata": {},
   "outputs": [
    {
     "data": {
      "text/html": [
       "<div>\n",
       "<style scoped>\n",
       "    .dataframe tbody tr th:only-of-type {\n",
       "        vertical-align: middle;\n",
       "    }\n",
       "\n",
       "    .dataframe tbody tr th {\n",
       "        vertical-align: top;\n",
       "    }\n",
       "\n",
       "    .dataframe thead th {\n",
       "        text-align: right;\n",
       "    }\n",
       "</style>\n",
       "<table border=\"1\" class=\"dataframe\">\n",
       "  <thead>\n",
       "    <tr style=\"text-align: right;\">\n",
       "      <th></th>\n",
       "      <th>storeid</th>\n",
       "      <th>sale_date</th>\n",
       "      <th>category</th>\n",
       "      <th>product_code</th>\n",
       "      <th>price</th>\n",
       "      <th>cost</th>\n",
       "      <th>case_size</th>\n",
       "      <th>qty</th>\n",
       "      <th>total_sales</th>\n",
       "    </tr>\n",
       "  </thead>\n",
       "  <tbody>\n",
       "    <tr>\n",
       "      <th>0</th>\n",
       "      <td>1397</td>\n",
       "      <td>2025-05-25</td>\n",
       "      <td>999996.0</td>\n",
       "      <td>28500700000.0</td>\n",
       "      <td>4.81</td>\n",
       "      <td>0.010000</td>\n",
       "      <td>1.0</td>\n",
       "      <td>1.0</td>\n",
       "      <td>4.81</td>\n",
       "    </tr>\n",
       "    <tr>\n",
       "      <th>1</th>\n",
       "      <td>1397</td>\n",
       "      <td>2025-05-25</td>\n",
       "      <td>56000.0</td>\n",
       "      <td>28525900000.0</td>\n",
       "      <td>5.19</td>\n",
       "      <td>0.010000</td>\n",
       "      <td>1.0</td>\n",
       "      <td>1.0</td>\n",
       "      <td>5.19</td>\n",
       "    </tr>\n",
       "    <tr>\n",
       "      <th>2</th>\n",
       "      <td>1397</td>\n",
       "      <td>2025-05-25</td>\n",
       "      <td>56000.0</td>\n",
       "      <td>28525900000.0</td>\n",
       "      <td>3.54</td>\n",
       "      <td>0.010000</td>\n",
       "      <td>1.0</td>\n",
       "      <td>1.0</td>\n",
       "      <td>3.54</td>\n",
       "    </tr>\n",
       "    <tr>\n",
       "      <th>3</th>\n",
       "      <td>1397</td>\n",
       "      <td>2025-05-25</td>\n",
       "      <td>99995.0</td>\n",
       "      <td>28541300000.0</td>\n",
       "      <td>13.74</td>\n",
       "      <td>0.010000</td>\n",
       "      <td>1.0</td>\n",
       "      <td>1.0</td>\n",
       "      <td>13.74</td>\n",
       "    </tr>\n",
       "    <tr>\n",
       "      <th>4</th>\n",
       "      <td>1397</td>\n",
       "      <td>2025-05-25</td>\n",
       "      <td>99995.0</td>\n",
       "      <td>28541300000.0</td>\n",
       "      <td>11.23</td>\n",
       "      <td>0.010000</td>\n",
       "      <td>1.0</td>\n",
       "      <td>1.0</td>\n",
       "      <td>11.23</td>\n",
       "    </tr>\n",
       "    <tr>\n",
       "      <th>5</th>\n",
       "      <td>1397</td>\n",
       "      <td>2025-05-25</td>\n",
       "      <td>99995.0</td>\n",
       "      <td>28541300000.0</td>\n",
       "      <td>4.87</td>\n",
       "      <td>0.010000</td>\n",
       "      <td>1.0</td>\n",
       "      <td>1.0</td>\n",
       "      <td>4.87</td>\n",
       "    </tr>\n",
       "    <tr>\n",
       "      <th>6</th>\n",
       "      <td>1397</td>\n",
       "      <td>2025-05-24</td>\n",
       "      <td>24003.0</td>\n",
       "      <td>7003859100.0</td>\n",
       "      <td>4.69</td>\n",
       "      <td>2.501667</td>\n",
       "      <td>12.0</td>\n",
       "      <td>1.0</td>\n",
       "      <td>4.69</td>\n",
       "    </tr>\n",
       "    <tr>\n",
       "      <th>7</th>\n",
       "      <td>1397</td>\n",
       "      <td>2025-05-24</td>\n",
       "      <td>91201.0</td>\n",
       "      <td>4660000090.0</td>\n",
       "      <td>2.79</td>\n",
       "      <td>1.618333</td>\n",
       "      <td>12.0</td>\n",
       "      <td>1.0</td>\n",
       "      <td>0.99</td>\n",
       "    </tr>\n",
       "    <tr>\n",
       "      <th>8</th>\n",
       "      <td>1397</td>\n",
       "      <td>2025-05-24</td>\n",
       "      <td>4001.0</td>\n",
       "      <td>7062243101.0</td>\n",
       "      <td>0.59</td>\n",
       "      <td>0.260000</td>\n",
       "      <td>36.0</td>\n",
       "      <td>1.0</td>\n",
       "      <td>0.59</td>\n",
       "    </tr>\n",
       "    <tr>\n",
       "      <th>9</th>\n",
       "      <td>1397</td>\n",
       "      <td>2025-05-24</td>\n",
       "      <td>55001.0</td>\n",
       "      <td>7273033110.0</td>\n",
       "      <td>3.69</td>\n",
       "      <td>2.500000</td>\n",
       "      <td>1.0</td>\n",
       "      <td>1.0</td>\n",
       "      <td>3.69</td>\n",
       "    </tr>\n",
       "  </tbody>\n",
       "</table>\n",
       "</div>"
      ],
      "text/plain": [
       "   storeid  sale_date  category   product_code  price      cost  case_size  \\\n",
       "0     1397 2025-05-25  999996.0  28500700000.0   4.81  0.010000        1.0   \n",
       "1     1397 2025-05-25   56000.0  28525900000.0   5.19  0.010000        1.0   \n",
       "2     1397 2025-05-25   56000.0  28525900000.0   3.54  0.010000        1.0   \n",
       "3     1397 2025-05-25   99995.0  28541300000.0  13.74  0.010000        1.0   \n",
       "4     1397 2025-05-25   99995.0  28541300000.0  11.23  0.010000        1.0   \n",
       "5     1397 2025-05-25   99995.0  28541300000.0   4.87  0.010000        1.0   \n",
       "6     1397 2025-05-24   24003.0   7003859100.0   4.69  2.501667       12.0   \n",
       "7     1397 2025-05-24   91201.0   4660000090.0   2.79  1.618333       12.0   \n",
       "8     1397 2025-05-24    4001.0   7062243101.0   0.59  0.260000       36.0   \n",
       "9     1397 2025-05-24   55001.0   7273033110.0   3.69  2.500000        1.0   \n",
       "\n",
       "   qty  total_sales  \n",
       "0  1.0         4.81  \n",
       "1  1.0         5.19  \n",
       "2  1.0         3.54  \n",
       "3  1.0        13.74  \n",
       "4  1.0        11.23  \n",
       "5  1.0         4.87  \n",
       "6  1.0         4.69  \n",
       "7  1.0         0.99  \n",
       "8  1.0         0.59  \n",
       "9  1.0         3.69  "
      ]
     },
     "execution_count": 5,
     "metadata": {},
     "output_type": "execute_result"
    }
   ],
   "source": [
    "ds = ds.dropna(subset=['price', 'cost', 'qty','case_size'])\n",
    "ds = ds[ds['qty'] > 0]\n",
    "\n",
    "ds[\"cost\"] = (ds[\"cost\"])/(ds[\"case_size\"])\n",
    "ds.head(10)"
   ]
  },
  {
   "cell_type": "markdown",
   "id": "92d3c387",
   "metadata": {},
   "source": [
    "##### Set Day for periods, monday"
   ]
  },
  {
   "cell_type": "code",
   "execution_count": 6,
   "id": "0b7d7e31",
   "metadata": {},
   "outputs": [],
   "source": [
    "ds['week_start'] = ds['sale_date'] - pd.to_timedelta(ds['sale_date'].dt.dayofweek, unit='d') \n"
   ]
  },
  {
   "cell_type": "markdown",
   "id": "dc82fb75",
   "metadata": {},
   "source": [
    "#### Weekly Sales"
   ]
  },
  {
   "cell_type": "code",
   "execution_count": 11,
   "id": "bf129433",
   "metadata": {},
   "outputs": [],
   "source": [
    "# Group by week, storeid, product_code to get weekly sales\n",
    "weekly_sales = ds.groupby(['storeid', 'product_code', 'week_start']).agg(\n",
    "    current_week_sales=('price', 'sum')\n",
    ").reset_index()"
   ]
  },
  {
   "cell_type": "code",
   "execution_count": 12,
   "id": "ab8a87cf",
   "metadata": {},
   "outputs": [
    {
     "data": {
      "text/html": [
       "<div>\n",
       "<style scoped>\n",
       "    .dataframe tbody tr th:only-of-type {\n",
       "        vertical-align: middle;\n",
       "    }\n",
       "\n",
       "    .dataframe tbody tr th {\n",
       "        vertical-align: top;\n",
       "    }\n",
       "\n",
       "    .dataframe thead th {\n",
       "        text-align: right;\n",
       "    }\n",
       "</style>\n",
       "<table border=\"1\" class=\"dataframe\">\n",
       "  <thead>\n",
       "    <tr style=\"text-align: right;\">\n",
       "      <th></th>\n",
       "      <th>storeid</th>\n",
       "      <th>product_code</th>\n",
       "      <th>week_start</th>\n",
       "      <th>current_week_sales</th>\n",
       "    </tr>\n",
       "  </thead>\n",
       "  <tbody>\n",
       "    <tr>\n",
       "      <th>0</th>\n",
       "      <td>1397</td>\n",
       "      <td>1018677323.0</td>\n",
       "      <td>2025-05-12</td>\n",
       "      <td>9.99</td>\n",
       "    </tr>\n",
       "    <tr>\n",
       "      <th>1</th>\n",
       "      <td>1397</td>\n",
       "      <td>1022810403.0</td>\n",
       "      <td>2025-05-12</td>\n",
       "      <td>3.00</td>\n",
       "    </tr>\n",
       "    <tr>\n",
       "      <th>2</th>\n",
       "      <td>1397</td>\n",
       "      <td>1022810403.0</td>\n",
       "      <td>2025-05-26</td>\n",
       "      <td>3.00</td>\n",
       "    </tr>\n",
       "    <tr>\n",
       "      <th>3</th>\n",
       "      <td>1397</td>\n",
       "      <td>1022810404.0</td>\n",
       "      <td>2025-05-05</td>\n",
       "      <td>5.00</td>\n",
       "    </tr>\n",
       "    <tr>\n",
       "      <th>4</th>\n",
       "      <td>1397</td>\n",
       "      <td>1022810404.0</td>\n",
       "      <td>2025-06-02</td>\n",
       "      <td>10.00</td>\n",
       "    </tr>\n",
       "    <tr>\n",
       "      <th>5</th>\n",
       "      <td>1397</td>\n",
       "      <td>1037416200.0</td>\n",
       "      <td>2025-05-05</td>\n",
       "      <td>7.99</td>\n",
       "    </tr>\n",
       "    <tr>\n",
       "      <th>6</th>\n",
       "      <td>1397</td>\n",
       "      <td>1037416200.0</td>\n",
       "      <td>2025-05-19</td>\n",
       "      <td>15.98</td>\n",
       "    </tr>\n",
       "    <tr>\n",
       "      <th>7</th>\n",
       "      <td>1397</td>\n",
       "      <td>1037416200.0</td>\n",
       "      <td>2025-06-02</td>\n",
       "      <td>7.99</td>\n",
       "    </tr>\n",
       "    <tr>\n",
       "      <th>8</th>\n",
       "      <td>1397</td>\n",
       "      <td>1037416200.0</td>\n",
       "      <td>2025-06-09</td>\n",
       "      <td>7.99</td>\n",
       "    </tr>\n",
       "    <tr>\n",
       "      <th>9</th>\n",
       "      <td>1397</td>\n",
       "      <td>1037416200.0</td>\n",
       "      <td>2025-06-16</td>\n",
       "      <td>7.99</td>\n",
       "    </tr>\n",
       "  </tbody>\n",
       "</table>\n",
       "</div>"
      ],
      "text/plain": [
       "   storeid  product_code week_start  current_week_sales\n",
       "0     1397  1018677323.0 2025-05-12                9.99\n",
       "1     1397  1022810403.0 2025-05-12                3.00\n",
       "2     1397  1022810403.0 2025-05-26                3.00\n",
       "3     1397  1022810404.0 2025-05-05                5.00\n",
       "4     1397  1022810404.0 2025-06-02               10.00\n",
       "5     1397  1037416200.0 2025-05-05                7.99\n",
       "6     1397  1037416200.0 2025-05-19               15.98\n",
       "7     1397  1037416200.0 2025-06-02                7.99\n",
       "8     1397  1037416200.0 2025-06-09                7.99\n",
       "9     1397  1037416200.0 2025-06-16                7.99"
      ]
     },
     "execution_count": 12,
     "metadata": {},
     "output_type": "execute_result"
    }
   ],
   "source": [
    "weekly_sales.head(10)"
   ]
  },
  {
   "cell_type": "markdown",
   "id": "7931e2f3",
   "metadata": {},
   "source": [
    "#### Lets get Lagging ..."
   ]
  },
  {
   "cell_type": "code",
   "execution_count": 13,
   "id": "3eaa2e1e",
   "metadata": {},
   "outputs": [],
   "source": [
    "# Sort to prepare for lag comparison\n",
    "weekly_sales = weekly_sales.sort_values(by=['storeid', 'product_code', 'week_start'])"
   ]
  },
  {
   "cell_type": "markdown",
   "id": "ac2fef5c",
   "metadata": {},
   "source": [
    "##### We got to get periods, so lets use shift"
   ]
  },
  {
   "cell_type": "code",
   "execution_count": 14,
   "id": "f0e697e5",
   "metadata": {},
   "outputs": [],
   "source": [
    "weekly_sales['prev_week_1_sales'] = weekly_sales.groupby(['storeid', 'product_code'])['current_week_sales'].shift(1)\n",
    "weekly_sales['prev_week_2_sales'] = weekly_sales.groupby(['storeid', 'product_code'])['current_week_sales'].shift(2)\n"
   ]
  },
  {
   "cell_type": "code",
   "execution_count": 15,
   "id": "c7ded9f3",
   "metadata": {},
   "outputs": [],
   "source": [
    "# Replace NaNs in lag columns with 0.00\n",
    "weekly_sales[['prev_week_1_sales', 'prev_week_2_sales']] = weekly_sales[['prev_week_1_sales', 'prev_week_2_sales']].fillna(0.00)\n",
    "\n",
    "# Calculate percentage movement (handle divide-by-zero safely)\n",
    "weekly_sales['movement_vs_prev_week_1'] = weekly_sales.apply(\n",
    "    lambda row: ((row['current_week_sales'] - row['prev_week_1_sales']) / row['prev_week_1_sales'] * 100)\n",
    "    if row['prev_week_1_sales'] != 0 else 0.00,\n",
    "    axis=1\n",
    ")\n",
    "\n",
    "weekly_sales['movement_vs_prev_week_2'] = weekly_sales.apply(\n",
    "    lambda row: ((row['current_week_sales'] - row['prev_week_2_sales']) / row['prev_week_2_sales'] * 100)\n",
    "    if row['prev_week_2_sales'] != 0 else 0.00,\n",
    "    axis=1\n",
    ")"
   ]
  },
  {
   "cell_type": "code",
   "execution_count": 16,
   "id": "fe0ea4d8",
   "metadata": {},
   "outputs": [
    {
     "name": "stdout",
     "output_type": "stream",
     "text": [
      "   storeid  product_code week_start  current_week_sales  prev_week_1_sales  \\\n",
      "0     1397  1018677323.0 2025-05-12                9.99               0.00   \n",
      "1     1397  1022810403.0 2025-05-12                3.00               0.00   \n",
      "2     1397  1022810403.0 2025-05-26                3.00               3.00   \n",
      "3     1397  1022810404.0 2025-05-05                5.00               0.00   \n",
      "4     1397  1022810404.0 2025-06-02               10.00               5.00   \n",
      "5     1397  1037416200.0 2025-05-05                7.99               0.00   \n",
      "6     1397  1037416200.0 2025-05-19               15.98               7.99   \n",
      "7     1397  1037416200.0 2025-06-02                7.99              15.98   \n",
      "8     1397  1037416200.0 2025-06-09                7.99               7.99   \n",
      "9     1397  1037416200.0 2025-06-16                7.99               7.99   \n",
      "\n",
      "   prev_week_2_sales  movement_vs_prev_week_1  movement_vs_prev_week_2  \n",
      "0               0.00                      0.0                      0.0  \n",
      "1               0.00                      0.0                      0.0  \n",
      "2               0.00                      0.0                      0.0  \n",
      "3               0.00                      0.0                      0.0  \n",
      "4               0.00                    100.0                      0.0  \n",
      "5               0.00                      0.0                      0.0  \n",
      "6               0.00                    100.0                      0.0  \n",
      "7               7.99                    -50.0                      0.0  \n",
      "8              15.98                      0.0                    -50.0  \n",
      "9               7.99                      0.0                      0.0  \n"
     ]
    }
   ],
   "source": [
    "# Optional: round for neatness\n",
    "weekly_sales = weekly_sales.round(2)\n",
    "\n",
    "# Preview\n",
    "print(weekly_sales.head(10))"
   ]
  },
  {
   "cell_type": "markdown",
   "id": "65864d1d",
   "metadata": {},
   "source": [
    "#### Define our Summary of the data and previous data totals"
   ]
  },
  {
   "cell_type": "code",
   "execution_count": 17,
   "id": "77cdd952",
   "metadata": {},
   "outputs": [],
   "source": [
    "summary = weekly_sales.groupby(['storeid', 'product_code']).agg(\n",
    "    total_sales=('current_week_sales', 'sum'),\n",
    "    total_prev_week_1_sales=('prev_week_1_sales', 'sum'),\n",
    "    total_prev_week_2_sales=('prev_week_2_sales', 'sum'),\n",
    "    avg_movement_vs_prev_week_1=('movement_vs_prev_week_1', 'mean'),\n",
    "    avg_movement_vs_prev_week_2=('movement_vs_prev_week_2', 'mean'),\n",
    "    total_weeks=('week_start', 'count')  # Optional, to see how many weeks data exists\n",
    ").reset_index()\n"
   ]
  },
  {
   "cell_type": "code",
   "execution_count": 18,
   "id": "b401c839",
   "metadata": {},
   "outputs": [
    {
     "name": "stdout",
     "output_type": "stream",
     "text": [
      "   storeid  product_code  total_sales  total_prev_week_1_sales  \\\n",
      "0     1397  1018677323.0         9.99                     0.00   \n",
      "1     1397  1022810403.0         6.00                     3.00   \n",
      "2     1397  1022810404.0        15.00                     5.00   \n",
      "3     1397  1037416200.0        47.94                    39.95   \n",
      "4     1397  1037416201.0        63.92                    39.95   \n",
      "5     1397  1037416205.0       111.86                    63.92   \n",
      "6     1397  1037416270.0        23.97                    15.98   \n",
      "7     1397  1037422282.0        53.91                    47.92   \n",
      "8     1397  1037422284.0        11.98                     5.99   \n",
      "9     1397  1037422285.0        47.92                    35.94   \n",
      "\n",
      "   total_prev_week_2_sales  avg_movement_vs_prev_week_1  \\\n",
      "0                     0.00                         0.00   \n",
      "1                     0.00                         0.00   \n",
      "2                     0.00                        50.00   \n",
      "3                    31.96                        10.00   \n",
      "4                    23.97                        25.00   \n",
      "5                    47.94                        38.89   \n",
      "6                     0.00                       -25.00   \n",
      "7                    41.93                        26.67   \n",
      "8                     0.00                         0.00   \n",
      "9                    23.96                        20.00   \n",
      "\n",
      "   avg_movement_vs_prev_week_2  total_weeks  \n",
      "0                         0.00            1  \n",
      "1                         0.00            2  \n",
      "2                         0.00            2  \n",
      "3                       -10.00            5  \n",
      "4                        50.00            4  \n",
      "5                        88.89            6  \n",
      "6                         0.00            2  \n",
      "7                        13.33            5  \n",
      "8                         0.00            2  \n",
      "9                        40.00            5  \n"
     ]
    }
   ],
   "source": [
    "summary = summary.round(2)\n",
    "print(summary.head(10))"
   ]
  },
  {
   "cell_type": "code",
   "execution_count": 19,
   "id": "01ce0eb3",
   "metadata": {},
   "outputs": [
    {
     "name": "stdout",
     "output_type": "stream",
     "text": [
      "product_code  total_sales  total_prev_week_1_sales  total_prev_week_2_sales  total_weeks\n",
      "1018677323.0         9.99                     0.00                     0.00            1\n",
      "1022810403.0         6.00                     3.00                     0.00            2\n",
      "1022810404.0        15.00                     5.00                     0.00            2\n",
      "1037416200.0        47.94                    39.95                    31.96            5\n",
      "1037416201.0        63.92                    39.95                    23.97            4\n",
      "1037416205.0       111.86                    63.92                    47.94            6\n",
      "1037416270.0        23.97                    15.98                     0.00            2\n",
      "1037422282.0        53.91                    47.92                    41.93            5\n",
      "1037422284.0        11.98                     5.99                     0.00            2\n",
      "1037422285.0        47.92                    35.94                    23.96            5\n"
     ]
    }
   ],
   "source": [
    "print(summary[['product_code', 'total_sales', 'total_prev_week_1_sales', \n",
    "               'total_prev_week_2_sales', 'total_weeks']].head(10).to_string(index=False))"
   ]
  },
  {
   "cell_type": "markdown",
   "id": "27e0193a",
   "metadata": {},
   "source": [
    "#### This is the magic sauce right here. Need to take the spread of the data somehow for sales trend of rise or fall.  with Mike lol"
   ]
  },
  {
   "cell_type": "markdown",
   "id": "26a6f0c4",
   "metadata": {},
   "source": [
    "\n",
    "###### If: W-2 <  W-1  < Current = Rise\n",
    "###### If: W-2 >  W-1  >Current = Faling\n",
    "###### If: W-2 =< W-1  >=Current = Stable\n",
    "###### IF: W-2 => W-1  <=Current = Stable \n",
    "###### Else: = Stable"
   ]
  },
  {
   "cell_type": "markdown",
   "id": "fccd8fc7",
   "metadata": {},
   "source": [
    "###### This continues to be fun, we made logic and tested by the results did not turn out correct. So the suggestion is to use the and word instead of linking 3 conditions"
   ]
  },
  {
   "cell_type": "code",
   "execution_count": 20,
   "id": "766736d0",
   "metadata": {},
   "outputs": [],
   "source": [
    "def classify_sales_trend(row):\n",
    "    w2 = row['total_prev_week_2_sales']\n",
    "    w1 = row['total_prev_week_1_sales']\n",
    "    current = row['total_sales']\n",
    "    \n",
    "    if w1 >= current:\n",
    "        return 'Falling'\n",
    "    elif  w2 < w1 < current :\n",
    "        return 'Rising'\n",
    "    elif w2 <= w1 >= current:\n",
    "        return 'Close'\n",
    "    elif w2 >= w1 <= current:\n",
    "        return 'Almost'\n",
    "    else:\n",
    "        return 'Other'\n",
    "    \n",
    "\n"
   ]
  },
  {
   "cell_type": "code",
   "execution_count": 21,
   "id": "bf037d50",
   "metadata": {},
   "outputs": [],
   "source": [
    "# Make sure no NaNs exist in these columns\n",
    "summary[['total_prev_week_2_sales', 'total_prev_week_1_sales', 'total_sales']] = summary[\n",
    "    ['total_prev_week_2_sales', 'total_prev_week_1_sales', 'total_sales']\n",
    "].fillna(0.00)\n",
    "\n",
    "\n",
    "# Apply classify_sales_trend classification\n",
    "summary['sales_trend'] = summary.apply(classify_sales_trend, axis=1)\n"
   ]
  },
  {
   "cell_type": "markdown",
   "id": "965de02a",
   "metadata": {},
   "source": [
    "##### Debug this thing becuase we arent getting it still"
   ]
  },
  {
   "cell_type": "code",
   "execution_count": 22,
   "id": "f19fbf82",
   "metadata": {},
   "outputs": [
    {
     "name": "stderr",
     "output_type": "stream",
     "text": [
      "C:\\Users\\tadaur\\AppData\\Local\\Temp\\ipykernel_39376\\2953675238.py:2: FutureWarning: Series.__getitem__ treating keys as positions is deprecated. In a future version, integer keys will always be treated as labels (consistent with DataFrame behavior). To access a value by position, use `ser.iloc[pos]`\n",
      "  lambda x: f\"W2={x[0]} W1={x[1]} Cur={x[2]}\", axis=1\n"
     ]
    },
    {
     "name": "stdout",
     "output_type": "stream",
     "text": [
      "   product_code                   debug_tuple sales_trend\n",
      "0  1018677323.0        W2=0.0 W1=0.0 Cur=9.99      Almost\n",
      "1  1022810403.0         W2=0.0 W1=3.0 Cur=6.0      Rising\n",
      "2  1022810404.0        W2=0.0 W1=5.0 Cur=15.0      Rising\n",
      "3  1037416200.0   W2=31.96 W1=39.95 Cur=47.94      Rising\n",
      "4  1037416201.0   W2=23.97 W1=39.95 Cur=63.92      Rising\n",
      "5  1037416205.0  W2=47.94 W1=63.92 Cur=111.86      Rising\n",
      "6  1037416270.0     W2=0.0 W1=15.98 Cur=23.97      Rising\n",
      "7  1037422282.0   W2=41.93 W1=47.92 Cur=53.91      Rising\n",
      "8  1037422284.0      W2=0.0 W1=5.99 Cur=11.98      Rising\n",
      "9  1037422285.0   W2=23.96 W1=35.94 Cur=47.92      Rising\n"
     ]
    }
   ],
   "source": [
    "summary['debug_tuple'] = summary[['total_prev_week_2_sales', 'total_prev_week_1_sales', 'total_sales']].apply(\n",
    "    lambda x: f\"W2={x[0]} W1={x[1]} Cur={x[2]}\", axis=1\n",
    ")\n",
    "\n",
    "print(summary[['product_code', 'debug_tuple', 'sales_trend']].head(10))"
   ]
  },
  {
   "cell_type": "markdown",
   "id": "6daa0595",
   "metadata": {},
   "source": [
    "##### Now we need to count the Sales trend Types"
   ]
  },
  {
   "cell_type": "code",
   "execution_count": 23,
   "id": "4fe0e47a",
   "metadata": {},
   "outputs": [
    {
     "name": "stdout",
     "output_type": "stream",
     "text": [
      "=== Trend Summary ===\n",
      "  Sales Trend  Count\n",
      "0      Rising  12274\n",
      "1      Almost   4542\n"
     ]
    }
   ],
   "source": [
    "trend_summary = summary['sales_trend'].value_counts().reset_index()\n",
    "trend_summary.columns = ['Sales Trend', 'Count']\n",
    "\n",
    "print(\"=== Trend Summary ===\")\n",
    "print(trend_summary)"
   ]
  },
  {
   "cell_type": "markdown",
   "id": "7e1199ff",
   "metadata": {},
   "source": [
    "##### We are getting any \"Falling'  Sales_trends for some reason.. not sure if I believe that"
   ]
  },
  {
   "cell_type": "code",
   "execution_count": null,
   "id": "f09dcac5",
   "metadata": {},
   "outputs": [],
   "source": []
  },
  {
   "cell_type": "code",
   "execution_count": 24,
   "id": "38e13b23",
   "metadata": {},
   "outputs": [
    {
     "name": "stdout",
     "output_type": "stream",
     "text": [
      "product_code  total_sales  total_prev_week_1_sales  total_prev_week_2_sales  total_weeks sales_trend\n",
      "1018677323.0         9.99                     0.00                     0.00            1      Almost\n",
      "1022810403.0         6.00                     3.00                     0.00            2      Rising\n",
      "1022810404.0        15.00                     5.00                     0.00            2      Rising\n",
      "1037416200.0        47.94                    39.95                    31.96            5      Rising\n",
      "1037416201.0        63.92                    39.95                    23.97            4      Rising\n",
      "1037416205.0       111.86                    63.92                    47.94            6      Rising\n",
      "1037416270.0        23.97                    15.98                     0.00            2      Rising\n",
      "1037422282.0        53.91                    47.92                    41.93            5      Rising\n",
      "1037422284.0        11.98                     5.99                     0.00            2      Rising\n",
      "1037422285.0        47.92                    35.94                    23.96            5      Rising\n"
     ]
    }
   ],
   "source": [
    "print(summary[['product_code', 'total_sales', 'total_prev_week_1_sales', \n",
    "               'total_prev_week_2_sales', 'total_weeks', 'sales_trend']].head(10).to_string(index=False))"
   ]
  },
  {
   "cell_type": "markdown",
   "id": "a1e207e9",
   "metadata": {},
   "source": [
    "#### You got Trends right here for 3 weeks comparison for all itesm.  Lets try to get it grouped and assigned with only what we want "
   ]
  },
  {
   "cell_type": "markdown",
   "id": "25d5efdf",
   "metadata": {},
   "source": [
    "#### This are differnt export types, it can take all of them together and we can move throught the data."
   ]
  },
  {
   "cell_type": "code",
   "execution_count": null,
   "id": "cb25b705",
   "metadata": {},
   "outputs": [],
   "source": [
    "# Sales Trend Summary\n",
    "summary_subset = summary[['product_code', 'total_sales', 'total_prev_week_1_sales', \n",
    "                          'total_prev_week_2_sales', 'total_weeks', 'sales_trend']]\n",
    "\n",
    "summary_subset.to_csv(\"summary_by_product.csv\", index=False)"
   ]
  },
  {
   "cell_type": "code",
   "execution_count": 27,
   "id": "9945b4bd",
   "metadata": {},
   "outputs": [],
   "source": [
    "# Add Percent Change Columns \n",
    "\n",
    "summary['pct_change_w2_to_w1'] = (\n",
    "    (summary['total_prev_week_1_sales'] - summary['total_prev_week_2_sales']) /\n",
    "    summary['total_prev_week_2_sales'].replace(0, np.nan)\n",
    ") * 100\n",
    "\n",
    "summary['pct_change_w1_to_current'] = (\n",
    "    (summary['total_sales'] - summary['total_prev_week_1_sales']) /\n",
    "    summary['total_prev_week_1_sales'].replace(0, np.nan)\n",
    ") * 100"
   ]
  },
  {
   "cell_type": "code",
   "execution_count": null,
   "id": "9b713aa0",
   "metadata": {},
   "outputs": [],
   "source": [
    "summary['avg_trend_score'] = (\n",
    "    (summary['pct_change_w2_to_w1'] + summary['pct_change_w1_to_current']) / 2\n",
    ")"
   ]
  },
  {
   "cell_type": "code",
   "execution_count": 28,
   "id": "8a5813b3",
   "metadata": {},
   "outputs": [],
   "source": [
    "summary_subset = summary[['product_code', 'total_sales', 'total_prev_week_1_sales',\n",
    "                          'total_prev_week_2_sales', 'total_weeks', 'sales_trend',\n",
    "                          'pct_change_w2_to_w1', 'pct_change_w1_to_current']]\n",
    "\n",
    "summary_subset.to_csv(\"summary_by_product_with_percent_change.csv\", index=False)"
   ]
  },
  {
   "cell_type": "markdown",
   "id": "408a7be7",
   "metadata": {},
   "source": [
    "##### Might be bad 6/29 4:14 and below"
   ]
  },
  {
   "cell_type": "code",
   "execution_count": 85,
   "id": "7a0db1d3",
   "metadata": {},
   "outputs": [],
   "source": [
    "# Helper: get the min and max sale dates per product/store\n",
    "date_range = weekly_sales.groupby(['product_code']).agg(\n",
    "    start_date=('week_start', 'min'),\n",
    "    end_date=('week_start', 'max')\n",
    ").reset_index()"
   ]
  },
  {
   "cell_type": "code",
   "execution_count": 86,
   "id": "e5358b94",
   "metadata": {},
   "outputs": [],
   "source": [
    "# Merge trend labels and date range back into summary\n",
    "# Group by what you want\n",
    "raw_grouped = weekly_sales.groupby([ 'product_code', 'sales_trend']).agg(\n",
    "    total_sales=('current_week_sales', 'sum'),\n",
    "    total_prev_week_1_sales=('prev_week_1_sales', 'sum'),\n",
    "    total_prev_week_2_sales=('prev_week_2_sales', 'sum'),\n",
    "    avg_movement_vs_prev_week_1=('movement_vs_prev_week_1', 'mean'),\n",
    "    avg_movement_vs_prev_week_2=('movement_vs_prev_week_2', 'mean'),\n",
    "    week_count=('week_start', 'count')\n",
    ").reset_index()\n",
    "\n",
    "# Merge in the date range\n",
    "raw_grouped = raw_grouped.merge(date_range, on=['product_code'])"
   ]
  },
  {
   "cell_type": "code",
   "execution_count": 87,
   "id": "e877847e",
   "metadata": {},
   "outputs": [],
   "source": [
    "# Optional: format the date range as a single column\n",
    "raw_grouped['date_range'] = raw_grouped['start_date'].dt.strftime('%Y-%m-%d') + \" to \" + raw_grouped['end_date'].dt.strftime('%Y-%m-%d')\n",
    "raw_grouped = raw_grouped.drop(columns=['start_date', 'end_date'])  # drop separate date cols if not needed\n",
    "\n",
    "# Split by sales trend\n",
    "rising_grouped = raw_grouped[raw_grouped['sales_trend'] == 'Rising']\n",
    "falling_grouped = raw_grouped[raw_grouped['sales_trend'] == 'Falling']\n",
    "stable_grouped = raw_grouped[raw_grouped['sales_trend'] == 'Stable']"
   ]
  },
  {
   "cell_type": "code",
   "execution_count": 88,
   "id": "c4d9ab6e",
   "metadata": {},
   "outputs": [
    {
     "data": {
      "text/html": [
       "<div>\n",
       "<style scoped>\n",
       "    .dataframe tbody tr th:only-of-type {\n",
       "        vertical-align: middle;\n",
       "    }\n",
       "\n",
       "    .dataframe tbody tr th {\n",
       "        vertical-align: top;\n",
       "    }\n",
       "\n",
       "    .dataframe thead th {\n",
       "        text-align: right;\n",
       "    }\n",
       "</style>\n",
       "<table border=\"1\" class=\"dataframe\">\n",
       "  <thead>\n",
       "    <tr style=\"text-align: right;\">\n",
       "      <th></th>\n",
       "      <th>product_code</th>\n",
       "      <th>sales_trend</th>\n",
       "      <th>total_sales</th>\n",
       "      <th>total_prev_week_1_sales</th>\n",
       "      <th>total_prev_week_2_sales</th>\n",
       "      <th>avg_movement_vs_prev_week_1</th>\n",
       "      <th>avg_movement_vs_prev_week_2</th>\n",
       "      <th>week_count</th>\n",
       "      <th>date_range</th>\n",
       "    </tr>\n",
       "  </thead>\n",
       "  <tbody>\n",
       "    <tr>\n",
       "      <th>2</th>\n",
       "      <td>1022810404.0</td>\n",
       "      <td>Rising</td>\n",
       "      <td>15.00</td>\n",
       "      <td>5.00</td>\n",
       "      <td>0.00</td>\n",
       "      <td>50.000000</td>\n",
       "      <td>0.000000</td>\n",
       "      <td>2</td>\n",
       "      <td>2025-05-05 to 2025-06-02</td>\n",
       "    </tr>\n",
       "    <tr>\n",
       "      <th>3</th>\n",
       "      <td>1037416200.0</td>\n",
       "      <td>Rising</td>\n",
       "      <td>47.94</td>\n",
       "      <td>39.95</td>\n",
       "      <td>31.96</td>\n",
       "      <td>10.000000</td>\n",
       "      <td>-10.000000</td>\n",
       "      <td>5</td>\n",
       "      <td>2025-05-05 to 2025-06-16</td>\n",
       "    </tr>\n",
       "    <tr>\n",
       "      <th>4</th>\n",
       "      <td>1037416201.0</td>\n",
       "      <td>Rising</td>\n",
       "      <td>63.92</td>\n",
       "      <td>39.95</td>\n",
       "      <td>23.97</td>\n",
       "      <td>25.000000</td>\n",
       "      <td>50.000000</td>\n",
       "      <td>4</td>\n",
       "      <td>2025-05-05 to 2025-06-09</td>\n",
       "    </tr>\n",
       "    <tr>\n",
       "      <th>5</th>\n",
       "      <td>1037416205.0</td>\n",
       "      <td>Rising</td>\n",
       "      <td>111.86</td>\n",
       "      <td>63.92</td>\n",
       "      <td>47.94</td>\n",
       "      <td>38.888333</td>\n",
       "      <td>88.888333</td>\n",
       "      <td>6</td>\n",
       "      <td>2025-05-05 to 2025-06-09</td>\n",
       "    </tr>\n",
       "    <tr>\n",
       "      <th>7</th>\n",
       "      <td>1037422282.0</td>\n",
       "      <td>Rising</td>\n",
       "      <td>53.91</td>\n",
       "      <td>47.92</td>\n",
       "      <td>41.93</td>\n",
       "      <td>26.666000</td>\n",
       "      <td>13.332000</td>\n",
       "      <td>5</td>\n",
       "      <td>2025-04-28 to 2025-06-09</td>\n",
       "    </tr>\n",
       "    <tr>\n",
       "      <th>9</th>\n",
       "      <td>1037422285.0</td>\n",
       "      <td>Rising</td>\n",
       "      <td>47.92</td>\n",
       "      <td>35.94</td>\n",
       "      <td>23.96</td>\n",
       "      <td>20.000000</td>\n",
       "      <td>40.000000</td>\n",
       "      <td>5</td>\n",
       "      <td>2025-05-05 to 2025-06-09</td>\n",
       "    </tr>\n",
       "    <tr>\n",
       "      <th>10</th>\n",
       "      <td>1037442060.0</td>\n",
       "      <td>Rising</td>\n",
       "      <td>154.90</td>\n",
       "      <td>122.92</td>\n",
       "      <td>106.93</td>\n",
       "      <td>3.335000</td>\n",
       "      <td>-1.850000</td>\n",
       "      <td>6</td>\n",
       "      <td>2025-05-05 to 2025-06-09</td>\n",
       "    </tr>\n",
       "    <tr>\n",
       "      <th>11</th>\n",
       "      <td>1037442063.0</td>\n",
       "      <td>Rising</td>\n",
       "      <td>59.96</td>\n",
       "      <td>14.99</td>\n",
       "      <td>0.00</td>\n",
       "      <td>100.000000</td>\n",
       "      <td>0.000000</td>\n",
       "      <td>2</td>\n",
       "      <td>2025-05-12 to 2025-05-26</td>\n",
       "    </tr>\n",
       "    <tr>\n",
       "      <th>14</th>\n",
       "      <td>1066807502.0</td>\n",
       "      <td>Rising</td>\n",
       "      <td>77.85</td>\n",
       "      <td>43.25</td>\n",
       "      <td>34.60</td>\n",
       "      <td>108.332500</td>\n",
       "      <td>8.332500</td>\n",
       "      <td>4</td>\n",
       "      <td>2025-04-28 to 2025-06-02</td>\n",
       "    </tr>\n",
       "    <tr>\n",
       "      <th>16</th>\n",
       "      <td>1066807519.0</td>\n",
       "      <td>Rising</td>\n",
       "      <td>60.55</td>\n",
       "      <td>51.90</td>\n",
       "      <td>34.60</td>\n",
       "      <td>29.167500</td>\n",
       "      <td>8.332500</td>\n",
       "      <td>4</td>\n",
       "      <td>2025-04-28 to 2025-06-16</td>\n",
       "    </tr>\n",
       "  </tbody>\n",
       "</table>\n",
       "</div>"
      ],
      "text/plain": [
       "    product_code sales_trend  total_sales  total_prev_week_1_sales  \\\n",
       "2   1022810404.0      Rising        15.00                     5.00   \n",
       "3   1037416200.0      Rising        47.94                    39.95   \n",
       "4   1037416201.0      Rising        63.92                    39.95   \n",
       "5   1037416205.0      Rising       111.86                    63.92   \n",
       "7   1037422282.0      Rising        53.91                    47.92   \n",
       "9   1037422285.0      Rising        47.92                    35.94   \n",
       "10  1037442060.0      Rising       154.90                   122.92   \n",
       "11  1037442063.0      Rising        59.96                    14.99   \n",
       "14  1066807502.0      Rising        77.85                    43.25   \n",
       "16  1066807519.0      Rising        60.55                    51.90   \n",
       "\n",
       "    total_prev_week_2_sales  avg_movement_vs_prev_week_1  \\\n",
       "2                      0.00                    50.000000   \n",
       "3                     31.96                    10.000000   \n",
       "4                     23.97                    25.000000   \n",
       "5                     47.94                    38.888333   \n",
       "7                     41.93                    26.666000   \n",
       "9                     23.96                    20.000000   \n",
       "10                   106.93                     3.335000   \n",
       "11                     0.00                   100.000000   \n",
       "14                    34.60                   108.332500   \n",
       "16                    34.60                    29.167500   \n",
       "\n",
       "    avg_movement_vs_prev_week_2  week_count                date_range  \n",
       "2                      0.000000           2  2025-05-05 to 2025-06-02  \n",
       "3                    -10.000000           5  2025-05-05 to 2025-06-16  \n",
       "4                     50.000000           4  2025-05-05 to 2025-06-09  \n",
       "5                     88.888333           6  2025-05-05 to 2025-06-09  \n",
       "7                     13.332000           5  2025-04-28 to 2025-06-09  \n",
       "9                     40.000000           5  2025-05-05 to 2025-06-09  \n",
       "10                    -1.850000           6  2025-05-05 to 2025-06-09  \n",
       "11                     0.000000           2  2025-05-12 to 2025-05-26  \n",
       "14                     8.332500           4  2025-04-28 to 2025-06-02  \n",
       "16                     8.332500           4  2025-04-28 to 2025-06-16  "
      ]
     },
     "execution_count": 88,
     "metadata": {},
     "output_type": "execute_result"
    }
   ],
   "source": [
    "rising_grouped.head(10)"
   ]
  },
  {
   "cell_type": "code",
   "execution_count": null,
   "id": "478a0a2a",
   "metadata": {},
   "outputs": [],
   "source": []
  },
  {
   "cell_type": "code",
   "execution_count": 90,
   "id": "301fb6a5",
   "metadata": {},
   "outputs": [],
   "source": [
    "from sklearn.preprocessing import MinMaxScaler\n",
    "\n",
    "# Create a working copy of the grouped data\n",
    "scalable_df = raw_grouped.copy()\n",
    "\n",
    "# Optional: Replace inf/nan if any anomalies remain\n",
    "scalable_df['avg_movement_vs_prev_week_1'] = scalable_df['avg_movement_vs_prev_week_1'].replace([np.inf, -np.inf], np.nan).fillna(0)\n",
    "\n",
    "# Initialize the scaler\n",
    "scaler = MinMaxScaler(feature_range=(-1, 1))  # Use (0, 1) if you want only positive values\n",
    "\n",
    "# Fit and transform based on avg_movement\n",
    "scalable_df['growth_score'] = scaler.fit_transform(\n",
    "    scalable_df[['avg_movement_vs_prev_week_1']]\n",
    ")\n",
    "\n",
    "# Merge scaled score back into trend-specific DataFrames\n",
    "rising_grouped = rising_grouped.merge(\n",
    "    scalable_df[['product_code', 'growth_score']],\n",
    "    on='product_code'\n",
    ")\n",
    "\n",
    "falling_grouped = falling_grouped.merge(\n",
    "    scalable_df[['product_code', 'growth_score']],\n",
    "    on='product_code'\n",
    ")\n",
    "\n",
    "stable_grouped = stable_grouped.merge(\n",
    "    scalable_df[['product_code', 'growth_score']],\n",
    "    on='product_code'\n",
    ")"
   ]
  },
  {
   "cell_type": "code",
   "execution_count": 92,
   "id": "96306ab2",
   "metadata": {},
   "outputs": [],
   "source": [
    "rising_grouped.to_csv(\"rising_grouped_raw_records.csv\", index=False)\n",
    "falling_grouped.to_csv(\"falling_grouped_raw_records.csv\", index=False)\n",
    "stable_grouped.to_csv(\"stable_groupd_raw_records.csv\", index=False)"
   ]
  },
  {
   "cell_type": "code",
   "execution_count": null,
   "id": "125503f8",
   "metadata": {},
   "outputs": [],
   "source": []
  }
 ],
 "metadata": {
  "kernelspec": {
   "display_name": "env",
   "language": "python",
   "name": "python3"
  },
  "language_info": {
   "codemirror_mode": {
    "name": "ipython",
    "version": 3
   },
   "file_extension": ".py",
   "mimetype": "text/x-python",
   "name": "python",
   "nbconvert_exporter": "python",
   "pygments_lexer": "ipython3",
   "version": "3.12.10"
  }
 },
 "nbformat": 4,
 "nbformat_minor": 5
}
