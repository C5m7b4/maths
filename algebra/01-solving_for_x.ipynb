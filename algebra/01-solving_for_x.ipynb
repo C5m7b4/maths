{
 "cells": [
  {
   "cell_type": "code",
   "execution_count": 2,
   "id": "ed4edf68",
   "metadata": {},
   "outputs": [],
   "source": [
    "from IPython.display import display, Math\n",
    "import sympy as sym"
   ]
  },
  {
   "cell_type": "code",
   "execution_count": 3,
   "id": "329d43e2",
   "metadata": {},
   "outputs": [],
   "source": [
    "x = sym.symbols('x')"
   ]
  },
  {
   "cell_type": "code",
   "execution_count": 4,
   "id": "ca3e6c5c",
   "metadata": {},
   "outputs": [],
   "source": [
    "expr = 2*x + 4 - 9"
   ]
  },
  {
   "cell_type": "code",
   "execution_count": 5,
   "id": "22f95a6e",
   "metadata": {},
   "outputs": [
    {
     "data": {
      "text/plain": [
       "[5/2]"
      ]
     },
     "execution_count": 5,
     "metadata": {},
     "output_type": "execute_result"
    }
   ],
   "source": [
    "sym.solve(expr)"
   ]
  },
  {
   "cell_type": "code",
   "execution_count": 17,
   "id": "dc0ed9d6",
   "metadata": {},
   "outputs": [
    {
     "data": {
      "text/latex": [
       "$\\displaystyle \\text{The solution to } 2 x - 5 \\text{ is x=} 2.5$"
      ],
      "text/plain": [
       "<IPython.core.display.Math object>"
      ]
     },
     "metadata": {},
     "output_type": "display_data"
    }
   ],
   "source": [
    "display( Math( '\\\\text{The solution to } %s \\\\text{ is x=} %g' %(sym.latex(expr), sym.solve(expr)[0])) )"
   ]
  },
  {
   "cell_type": "code",
   "execution_count": 18,
   "id": "b654b898",
   "metadata": {},
   "outputs": [
    {
     "data": {
      "text/plain": [
       "[20/(4*y - 1)]"
      ]
     },
     "execution_count": 18,
     "metadata": {},
     "output_type": "execute_result"
    }
   ],
   "source": [
    "y = sym.symbols(\"y\")\n",
    "\n",
    "expr = x/4 - x*y + 5\n",
    "\n",
    "sym.solve(expr, x)"
   ]
  },
  {
   "cell_type": "code",
   "execution_count": 20,
   "id": "7dcf5a78",
   "metadata": {},
   "outputs": [],
   "source": [
    "q = sym.symbols('q')\n",
    "\n",
    "eq = 3*q + 4/q + 3 - 5*q - 1/q - 1"
   ]
  },
  {
   "cell_type": "code",
   "execution_count": 22,
   "id": "0f1ba8a9",
   "metadata": {},
   "outputs": [
    {
     "data": {
      "text/latex": [
       "$\\displaystyle - 2 q + 2 + \\frac{3}{q}$"
      ],
      "text/plain": [
       "<IPython.core.display.Math object>"
      ]
     },
     "metadata": {},
     "output_type": "display_data"
    }
   ],
   "source": [
    "display( Math( sym.latex(eq.simplify())))"
   ]
  },
  {
   "cell_type": "code",
   "execution_count": 25,
   "id": "e9b6463e",
   "metadata": {},
   "outputs": [
    {
     "data": {
      "text/latex": [
       "$\\displaystyle q=\\left[ \\frac{1}{2} - \\frac{\\sqrt{7}}{2}, \\  \\frac{1}{2} + \\frac{\\sqrt{7}}{2}\\right]$"
      ],
      "text/plain": [
       "<IPython.core.display.Math object>"
      ]
     },
     "metadata": {},
     "output_type": "display_data"
    }
   ],
   "source": [
    "display( Math( 'q=' + sym.latex(sym.solve(eq, q))))"
   ]
  },
  {
   "cell_type": "code",
   "execution_count": 28,
   "id": "96d9ec18",
   "metadata": {},
   "outputs": [],
   "source": [
    "eq = 2*q + 3*q**2 - 5/q - 4/(q**3)"
   ]
  },
  {
   "cell_type": "code",
   "execution_count": 29,
   "id": "3ceccd23",
   "metadata": {},
   "outputs": [
    {
     "data": {
      "text/latex": [
       "$\\displaystyle 3 q^{2} + 2 q - \\frac{5}{q} - \\frac{4}{q^{3}}$"
      ],
      "text/plain": [
       "<IPython.core.display.Math object>"
      ]
     },
     "metadata": {},
     "output_type": "display_data"
    }
   ],
   "source": [
    "display( Math( sym.latex(eq)))"
   ]
  },
  {
   "cell_type": "code",
   "execution_count": 30,
   "id": "7f8c1b2d",
   "metadata": {},
   "outputs": [
    {
     "data": {
      "text/latex": [
       "$\\displaystyle 3 q^{2} + 2 q - \\frac{5}{q} - \\frac{4}{q^{3}}$"
      ],
      "text/plain": [
       "<IPython.core.display.Math object>"
      ]
     },
     "metadata": {},
     "output_type": "display_data"
    }
   ],
   "source": [
    "display( Math( sym.latex(sym.simplify(eq))))"
   ]
  },
  {
   "cell_type": "code",
   "execution_count": 31,
   "id": "d645fd8c",
   "metadata": {},
   "outputs": [
    {
     "data": {
      "text/latex": [
       "$\\displaystyle \\frac{3 q^{5} + 2 q^{4} - 5 q^{2} - 4}{q^{3}}$"
      ],
      "text/plain": [
       "<IPython.core.display.Math object>"
      ]
     },
     "metadata": {},
     "output_type": "display_data"
    }
   ],
   "source": [
    "display( Math( sym.latex(sym.cancel(eq))))"
   ]
  },
  {
   "cell_type": "code",
   "execution_count": null,
   "id": "27d7914f",
   "metadata": {},
   "outputs": [],
   "source": []
  }
 ],
 "metadata": {
  "kernelspec": {
   "display_name": "env",
   "language": "python",
   "name": "python3"
  },
  "language_info": {
   "codemirror_mode": {
    "name": "ipython",
    "version": 3
   },
   "file_extension": ".py",
   "mimetype": "text/x-python",
   "name": "python",
   "nbconvert_exporter": "python",
   "pygments_lexer": "ipython3",
   "version": "3.12.10"
  }
 },
 "nbformat": 4,
 "nbformat_minor": 5
}
