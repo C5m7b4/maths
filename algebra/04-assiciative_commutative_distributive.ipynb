{
 "cells": [
  {
   "cell_type": "code",
   "execution_count": 2,
   "id": "bfba426f",
   "metadata": {},
   "outputs": [],
   "source": [
    "import numpy as np\n",
    "from IPython.display import display, Math\n",
    "import sympy as sym"
   ]
  },
  {
   "cell_type": "markdown",
   "id": "1c686ff0",
   "metadata": {},
   "source": [
    "## associative"
   ]
  },
  {
   "cell_type": "code",
   "execution_count": 3,
   "id": "5b4c355c",
   "metadata": {},
   "outputs": [],
   "source": [
    "x, y = sym.symbols('x y')"
   ]
  },
  {
   "cell_type": "code",
   "execution_count": 8,
   "id": "3d93fb13",
   "metadata": {},
   "outputs": [],
   "source": [
    "expr1 = x*(4*y)\n",
    "expr2 = (x*4)*y"
   ]
  },
  {
   "cell_type": "code",
   "execution_count": 9,
   "id": "fd4e5b7c",
   "metadata": {},
   "outputs": [
    {
     "data": {
      "text/latex": [
       "$\\displaystyle 0$"
      ],
      "text/plain": [
       "0"
      ]
     },
     "execution_count": 9,
     "metadata": {},
     "output_type": "execute_result"
    }
   ],
   "source": [
    "expr1 - expr2"
   ]
  },
  {
   "cell_type": "markdown",
   "id": "5673813d",
   "metadata": {},
   "source": [
    "## Commutative"
   ]
  },
  {
   "cell_type": "code",
   "execution_count": 12,
   "id": "504a8427",
   "metadata": {},
   "outputs": [],
   "source": [
    "e1 = 4 * x * y\n",
    "e2 = x * 4 * y\n",
    "e3 = y * x * 4"
   ]
  },
  {
   "cell_type": "code",
   "execution_count": 16,
   "id": "9cab4656",
   "metadata": {},
   "outputs": [
    {
     "name": "stdout",
     "output_type": "stream",
     "text": [
      "24\n",
      "24\n",
      "24\n"
     ]
    }
   ],
   "source": [
    "print(e1.subs({x:3, y:2}))\n",
    "print(e2.subs({x:3, y:2}))\n",
    "print(e3.subs({x:3, y:2}))"
   ]
  },
  {
   "cell_type": "markdown",
   "id": "d4ac4996",
   "metadata": {},
   "source": [
    "## Distributive"
   ]
  },
  {
   "cell_type": "code",
   "execution_count": 18,
   "id": "29c5e91c",
   "metadata": {},
   "outputs": [],
   "source": [
    "a,b,c,d = sym.symbols('a,b,c,d')\n"
   ]
  },
  {
   "cell_type": "code",
   "execution_count": 23,
   "id": "bafa1fee",
   "metadata": {},
   "outputs": [
    {
     "data": {
      "text/latex": [
       "$\\displaystyle a c + a d$"
      ],
      "text/plain": [
       "a*c + a*d"
      ]
     },
     "execution_count": 23,
     "metadata": {},
     "output_type": "execute_result"
    }
   ],
   "source": [
    "expr = a * (c + d)\n",
    "sym.expand(expr)"
   ]
  },
  {
   "cell_type": "code",
   "execution_count": 24,
   "id": "a37406e5",
   "metadata": {},
   "outputs": [],
   "source": [
    "x, y, z, w = sym.symbols('x, y, x, w')"
   ]
  },
  {
   "cell_type": "code",
   "execution_count": 26,
   "id": "ea9de6fc",
   "metadata": {},
   "outputs": [],
   "source": [
    "x = w * (4-w) + 1/w**2 * (1+w)\n",
    "\n",
    "f1 = x*(y+z)\n",
    "\n",
    "f2 = 3/x + x**2"
   ]
  },
  {
   "cell_type": "code",
   "execution_count": 28,
   "id": "1cb9b2ae",
   "metadata": {},
   "outputs": [
    {
     "data": {
      "text/latex": [
       "$\\displaystyle \\left(x + y\\right) \\left(w \\left(4 - w\\right) + \\frac{w + 1}{w^{2}}\\right) \\left(\\left(w \\left(4 - w\\right) + \\frac{w + 1}{w^{2}}\\right)^{2} + \\frac{3}{w \\left(4 - w\\right) + \\frac{w + 1}{w^{2}}}\\right)$"
      ],
      "text/plain": [
       "<IPython.core.display.Math object>"
      ]
     },
     "metadata": {},
     "output_type": "display_data"
    }
   ],
   "source": [
    "display( Math( sym.latex(f1 * f2 ) ) )"
   ]
  },
  {
   "cell_type": "code",
   "execution_count": 29,
   "id": "e48c3bea",
   "metadata": {},
   "outputs": [
    {
     "data": {
      "text/latex": [
       "$\\displaystyle \\frac{\\left(3 w^{6} + \\left(- w^{3} \\left(w - 4\\right) + w + 1\\right)^{3}\\right) \\left(x + y\\right)}{w^{6}}$"
      ],
      "text/plain": [
       "<IPython.core.display.Math object>"
      ]
     },
     "metadata": {},
     "output_type": "display_data"
    }
   ],
   "source": [
    "display( Math( sym.latex(sym.simplify(f1 * f2 ) ) ) )"
   ]
  },
  {
   "cell_type": "code",
   "execution_count": 30,
   "id": "1491240f",
   "metadata": {},
   "outputs": [
    {
     "data": {
      "text/latex": [
       "$\\displaystyle 0$"
      ],
      "text/plain": [
       "<IPython.core.display.Math object>"
      ]
     },
     "metadata": {},
     "output_type": "display_data"
    }
   ],
   "source": [
    "display( Math( sym.latex(sym.simplify(f1 * f2 - f2 * f1) ) ) )"
   ]
  },
  {
   "cell_type": "code",
   "execution_count": null,
   "id": "25e04d60",
   "metadata": {},
   "outputs": [],
   "source": []
  }
 ],
 "metadata": {
  "kernelspec": {
   "display_name": "env",
   "language": "python",
   "name": "python3"
  },
  "language_info": {
   "codemirror_mode": {
    "name": "ipython",
    "version": 3
   },
   "file_extension": ".py",
   "mimetype": "text/x-python",
   "name": "python",
   "nbconvert_exporter": "python",
   "pygments_lexer": "ipython3",
   "version": "3.12.10"
  }
 },
 "nbformat": 4,
 "nbformat_minor": 5
}
