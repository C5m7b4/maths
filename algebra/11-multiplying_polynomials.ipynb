{
 "cells": [
  {
   "cell_type": "code",
   "execution_count": 1,
   "id": "426d43e9",
   "metadata": {},
   "outputs": [],
   "source": [
    "import sympy as sym\n",
    "import numpy as np\n",
    "from IPython.display import display, Math"
   ]
  },
  {
   "cell_type": "code",
   "execution_count": 2,
   "id": "36da4e73",
   "metadata": {},
   "outputs": [],
   "source": [
    "x = sym.symbols('x')"
   ]
  },
  {
   "cell_type": "code",
   "execution_count": 6,
   "id": "71d7a2cc",
   "metadata": {},
   "outputs": [
    {
     "data": {
      "text/latex": [
       "$\\displaystyle x^{8}$"
      ],
      "text/plain": [
       "x**8"
      ]
     },
     "execution_count": 6,
     "metadata": {},
     "output_type": "execute_result"
    }
   ],
   "source": [
    "x**5 * x**3"
   ]
  },
  {
   "cell_type": "code",
   "execution_count": 11,
   "id": "7bbf10a5",
   "metadata": {},
   "outputs": [],
   "source": [
    "p1 = 4 * x**2 - 2*x\n",
    "p2 = x**3 - 1"
   ]
  },
  {
   "cell_type": "code",
   "execution_count": 13,
   "id": "140a9378",
   "metadata": {},
   "outputs": [
    {
     "data": {
      "text/latex": [
       "$\\displaystyle 4 x^{2} - 2 x$"
      ],
      "text/plain": [
       "4*x**2 - 2*x"
      ]
     },
     "execution_count": 13,
     "metadata": {},
     "output_type": "execute_result"
    }
   ],
   "source": [
    "p1"
   ]
  },
  {
   "cell_type": "code",
   "execution_count": 14,
   "id": "08692a6f",
   "metadata": {},
   "outputs": [
    {
     "data": {
      "text/latex": [
       "$\\displaystyle x^{3} - 1$"
      ],
      "text/plain": [
       "x**3 - 1"
      ]
     },
     "execution_count": 14,
     "metadata": {},
     "output_type": "execute_result"
    }
   ],
   "source": [
    "p2"
   ]
  },
  {
   "cell_type": "code",
   "execution_count": 17,
   "id": "0bd2cd4a",
   "metadata": {},
   "outputs": [
    {
     "data": {
      "text/latex": [
       "$\\displaystyle \\left(4 x^{2} - 2 x\\right) \\left(x^{3} - 1\\right)$"
      ],
      "text/plain": [
       "(4*x**2 - 2*x)*(x**3 - 1)"
      ]
     },
     "execution_count": 17,
     "metadata": {},
     "output_type": "execute_result"
    }
   ],
   "source": [
    "p1 * p2"
   ]
  },
  {
   "cell_type": "code",
   "execution_count": 19,
   "id": "3a38d57d",
   "metadata": {},
   "outputs": [
    {
     "data": {
      "text/latex": [
       "$\\displaystyle 4 x^{5} - 2 x^{4} - 4 x^{2} + 2 x$"
      ],
      "text/plain": [
       "4*x**5 - 2*x**4 - 4*x**2 + 2*x"
      ]
     },
     "execution_count": 19,
     "metadata": {},
     "output_type": "execute_result"
    }
   ],
   "source": [
    "sym.expand(p1 * p2)"
   ]
  },
  {
   "cell_type": "code",
   "execution_count": 21,
   "id": "1a424c7c",
   "metadata": {},
   "outputs": [
    {
     "data": {
      "text/latex": [
       "$\\displaystyle \\left(4 x^{2} - 2 x\\right) \\left(x^{3} - 1\\right)$"
      ],
      "text/plain": [
       "<IPython.core.display.Math object>"
      ]
     },
     "metadata": {},
     "output_type": "display_data"
    },
    {
     "data": {
      "text/latex": [
       "$\\displaystyle 4 x^{5} - 2 x^{4} - 4 x^{2} + 2 x$"
      ],
      "text/plain": [
       "<IPython.core.display.Math object>"
      ]
     },
     "metadata": {},
     "output_type": "display_data"
    }
   ],
   "source": [
    "display( Math( sym.latex(p1*p2)))\n",
    "display( Math( sym.latex(sym.expand(p1*p2))))"
   ]
  },
  {
   "cell_type": "code",
   "execution_count": 22,
   "id": "5ea2d4be",
   "metadata": {},
   "outputs": [],
   "source": [
    "x, y = sym.symbols('x, y')"
   ]
  },
  {
   "cell_type": "code",
   "execution_count": 23,
   "id": "14b3853a",
   "metadata": {},
   "outputs": [],
   "source": [
    "fxy = 4 * x**4 - 9 * y**3 - 3 * x**2 + x*y**2\n",
    "gxy = .8*y**2 - x**3 + 6 * x**2 * y"
   ]
  },
  {
   "cell_type": "code",
   "execution_count": 24,
   "id": "733caf34",
   "metadata": {},
   "outputs": [
    {
     "data": {
      "text/latex": [
       "$\\displaystyle 4 x^{4} - 3 x^{2} + x y^{2} - 9 y^{3} \\times (- x^{3} + 6 x^{2} y + 0.8 y^{2}) = - 4 x^{7} + 24 x^{6} y + 3 x^{5} + 2.2 x^{4} y^{2} - 18 x^{4} y + 15 x^{3} y^{3} - 54 x^{2} y^{4} - 2.4 x^{2} y^{2} + 0.8 x y^{4} - 7.2 y^{5}$"
      ],
      "text/plain": [
       "<IPython.core.display.Math object>"
      ]
     },
     "metadata": {},
     "output_type": "display_data"
    }
   ],
   "source": [
    "display( Math( '%s \\\\times (%s) = %s' %(sym.latex(fxy), sym.latex(gxy), sym.latex(sym.expand(fxy*gxy)))))"
   ]
  },
  {
   "cell_type": "code",
   "execution_count": 25,
   "id": "9b784909",
   "metadata": {},
   "outputs": [],
   "source": [
    "xval = 5\n",
    "yval = -2"
   ]
  },
  {
   "cell_type": "code",
   "execution_count": 27,
   "id": "a081e819",
   "metadata": {},
   "outputs": [
    {
     "name": "stdout",
     "output_type": "stream",
     "text": [
      "Mutiplied solition is -1061670.60000000\n"
     ]
    }
   ],
   "source": [
    "fg = (fxy * gxy).subs({x: xval, y: yval})\n",
    "print('Mutiplied solition is %s' %fg)"
   ]
  },
  {
   "cell_type": "code",
   "execution_count": 28,
   "id": "9187d674",
   "metadata": {},
   "outputs": [
    {
     "name": "stdout",
     "output_type": "stream",
     "text": [
      "Seperate solutions come to -1061670.60000000\n"
     ]
    }
   ],
   "source": [
    "fxy_ans = fxy.subs({x: xval, y: yval})\n",
    "gxy_ans = gxy.subs({x: xval, y: yval})\n",
    "\n",
    "print('Seperate solutions come to %s' %(fxy_ans * gxy_ans))"
   ]
  },
  {
   "cell_type": "code",
   "execution_count": null,
   "id": "f4de91a0",
   "metadata": {},
   "outputs": [],
   "source": []
  }
 ],
 "metadata": {
  "kernelspec": {
   "display_name": "env",
   "language": "python",
   "name": "python3"
  },
  "language_info": {
   "codemirror_mode": {
    "name": "ipython",
    "version": 3
   },
   "file_extension": ".py",
   "mimetype": "text/x-python",
   "name": "python",
   "nbconvert_exporter": "python",
   "pygments_lexer": "ipython3",
   "version": "3.12.10"
  }
 },
 "nbformat": 4,
 "nbformat_minor": 5
}
