{
 "cells": [
  {
   "cell_type": "code",
   "execution_count": 1,
   "id": "3df17f6a",
   "metadata": {},
   "outputs": [],
   "source": [
    "import sympy as sym\n",
    "from IPython.display import display, Math"
   ]
  },
  {
   "cell_type": "code",
   "execution_count": 2,
   "id": "07f810c5",
   "metadata": {},
   "outputs": [],
   "source": [
    "x, y = sym.symbols(\"x, y\")"
   ]
  },
  {
   "cell_type": "code",
   "execution_count": 9,
   "id": "87898a74",
   "metadata": {},
   "outputs": [],
   "source": [
    "p = x**2 + 4 * x + 3"
   ]
  },
  {
   "cell_type": "code",
   "execution_count": 10,
   "id": "4999149c",
   "metadata": {},
   "outputs": [
    {
     "data": {
      "text/latex": [
       "$\\displaystyle x^{2} + 4 x + 3$"
      ],
      "text/plain": [
       "x**2 + 4*x + 3"
      ]
     },
     "execution_count": 10,
     "metadata": {},
     "output_type": "execute_result"
    }
   ],
   "source": [
    "p"
   ]
  },
  {
   "cell_type": "code",
   "execution_count": 11,
   "id": "d04d303c",
   "metadata": {},
   "outputs": [
    {
     "data": {
      "text/latex": [
       "$\\displaystyle \\left(x + 1\\right) \\left(x + 3\\right)$"
      ],
      "text/plain": [
       "(x + 1)*(x + 3)"
      ]
     },
     "execution_count": 11,
     "metadata": {},
     "output_type": "execute_result"
    }
   ],
   "source": [
    "sym.factor(p)"
   ]
  },
  {
   "cell_type": "code",
   "execution_count": 19,
   "id": "35bad7b9",
   "metadata": {},
   "outputs": [],
   "source": [
    "expr = 2*x**3*y - 2*x**2 + 2*x**2*y + 6*x**2 - 6*x*y + 6*x"
   ]
  },
  {
   "cell_type": "code",
   "execution_count": 20,
   "id": "70c894a0",
   "metadata": {},
   "outputs": [
    {
     "data": {
      "text/latex": [
       "$\\displaystyle 2 x^{3} y + 2 x^{2} y + 4 x^{2} - 6 x y + 6 x$"
      ],
      "text/plain": [
       "2*x**3*y + 2*x**2*y + 4*x**2 - 6*x*y + 6*x"
      ]
     },
     "execution_count": 20,
     "metadata": {},
     "output_type": "execute_result"
    }
   ],
   "source": [
    "expr"
   ]
  },
  {
   "cell_type": "code",
   "execution_count": 21,
   "id": "f3bfab60",
   "metadata": {},
   "outputs": [
    {
     "data": {
      "text/latex": [
       "$\\displaystyle 2 x \\left(x^{2} y + x y + 2 x - 3 y + 3\\right)$"
      ],
      "text/plain": [
       "2*x*(x**2*y + x*y + 2*x - 3*y + 3)"
      ]
     },
     "execution_count": 21,
     "metadata": {},
     "output_type": "execute_result"
    }
   ],
   "source": [
    "sym.factor(expr)"
   ]
  },
  {
   "cell_type": "code",
   "execution_count": 24,
   "id": "7a68193e",
   "metadata": {},
   "outputs": [],
   "source": [
    "name = 'mikei'"
   ]
  },
  {
   "cell_type": "code",
   "execution_count": 27,
   "id": "8f0cbbfd",
   "metadata": {},
   "outputs": [
    {
     "data": {
      "text/plain": [
       "-1"
      ]
     },
     "execution_count": 27,
     "metadata": {},
     "output_type": "execute_result"
    }
   ],
   "source": [
    "name.find('q')"
   ]
  },
  {
   "cell_type": "code",
   "execution_count": 28,
   "id": "42249907",
   "metadata": {},
   "outputs": [],
   "source": [
    "exprs = [x**2 + 4 * x + 3, 2 * y**2 - 1, 3 * y**2 + 12 * y]"
   ]
  },
  {
   "cell_type": "code",
   "execution_count": 34,
   "id": "475d3d7c",
   "metadata": {},
   "outputs": [
    {
     "data": {
      "text/latex": [
       "$\\displaystyle x^{2} + 4 x + 3 \\quad \\Rightarrow \\quad \\left(x + 1\\right) \\left(x + 3\\right)$"
      ],
      "text/plain": [
       "<IPython.core.display.Math object>"
      ]
     },
     "metadata": {},
     "output_type": "display_data"
    },
    {
     "data": {
      "text/latex": [
       "$\\displaystyle 2 y^{2} - 1 \\quad \\Rightarrow \\quad \\text{not factorable}$"
      ],
      "text/plain": [
       "<IPython.core.display.Math object>"
      ]
     },
     "metadata": {},
     "output_type": "display_data"
    },
    {
     "data": {
      "text/latex": [
       "$\\displaystyle 3 y^{2} + 12 y \\quad \\Rightarrow \\quad 3 y \\left(y + 4\\right)$"
      ],
      "text/plain": [
       "<IPython.core.display.Math object>"
      ]
     },
     "metadata": {},
     "output_type": "display_data"
    }
   ],
   "source": [
    "for ei in exprs:\n",
    "    str_fact = str(sym.factor(ei))\n",
    "    if str_fact.find('(') != -1:\n",
    "        display(Math( '%s \\\\quad \\\\Rightarrow \\\\quad %s' %(sym.latex(ei), sym.latex(sym.factor(ei)))))\n",
    "    else:\n",
    "        display(Math( '%s \\\\quad \\\\Rightarrow \\\\quad \\\\text{not factorable}' %(sym.latex(ei))))\n",
    "    "
   ]
  },
  {
   "cell_type": "code",
   "execution_count": null,
   "id": "5fb484ba",
   "metadata": {},
   "outputs": [],
   "source": []
  }
 ],
 "metadata": {
  "kernelspec": {
   "display_name": "env",
   "language": "python",
   "name": "python3"
  },
  "language_info": {
   "codemirror_mode": {
    "name": "ipython",
    "version": 3
   },
   "file_extension": ".py",
   "mimetype": "text/x-python",
   "name": "python",
   "nbconvert_exporter": "python",
   "pygments_lexer": "ipython3",
   "version": "3.12.10"
  }
 },
 "nbformat": 4,
 "nbformat_minor": 5
}
