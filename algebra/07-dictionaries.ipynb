{
 "cells": [
  {
   "cell_type": "code",
   "execution_count": 23,
   "id": "337f9bac",
   "metadata": {},
   "outputs": [],
   "source": [
    "import sympy as sym\n",
    "from IPython.display import display, Math"
   ]
  },
  {
   "cell_type": "code",
   "execution_count": 1,
   "id": "66150307",
   "metadata": {},
   "outputs": [
    {
     "name": "stdout",
     "output_type": "stream",
     "text": [
      "{'fruit': ['bananna', 'apple'], 'numbers': [1, 3, 4, 2, 7]}\n"
     ]
    }
   ],
   "source": [
    "d = dict(fruit=['bananna','apple'], numbers=[1,3,4,2,7])\n",
    "print(d)"
   ]
  },
  {
   "cell_type": "code",
   "execution_count": 7,
   "id": "7092626d",
   "metadata": {},
   "outputs": [
    {
     "data": {
      "text/plain": [
       "dict"
      ]
     },
     "execution_count": 7,
     "metadata": {},
     "output_type": "execute_result"
    }
   ],
   "source": [
    "type(d)"
   ]
  },
  {
   "cell_type": "code",
   "execution_count": 3,
   "id": "65f4a01d",
   "metadata": {},
   "outputs": [
    {
     "data": {
      "text/plain": [
       "dict_keys(['fruit', 'numbers'])"
      ]
     },
     "execution_count": 3,
     "metadata": {},
     "output_type": "execute_result"
    }
   ],
   "source": [
    "d.keys()"
   ]
  },
  {
   "cell_type": "code",
   "execution_count": 4,
   "id": "ff531157",
   "metadata": {},
   "outputs": [
    {
     "data": {
      "text/plain": [
       "['bananna', 'apple']"
      ]
     },
     "execution_count": 4,
     "metadata": {},
     "output_type": "execute_result"
    }
   ],
   "source": [
    "d['fruit']"
   ]
  },
  {
   "cell_type": "code",
   "execution_count": 5,
   "id": "c5db8ee9",
   "metadata": {},
   "outputs": [
    {
     "data": {
      "text/plain": [
       "2"
      ]
     },
     "execution_count": 5,
     "metadata": {},
     "output_type": "execute_result"
    }
   ],
   "source": [
    "len(d)"
   ]
  },
  {
   "cell_type": "code",
   "execution_count": 6,
   "id": "99608154",
   "metadata": {},
   "outputs": [
    {
     "data": {
      "text/plain": [
       "['bananna', 'apple']"
      ]
     },
     "execution_count": 6,
     "metadata": {},
     "output_type": "execute_result"
    }
   ],
   "source": [
    "d.get('fruit')"
   ]
  },
  {
   "cell_type": "code",
   "execution_count": 8,
   "id": "aa4b49b8",
   "metadata": {},
   "outputs": [],
   "source": [
    "d1 = {\n",
    "    'firstname': 'mike',\n",
    "    'lastname': 'bedingfield',\n",
    "    'likes': ['python', 'typescript'],\n",
    "    'projects': ['proj1', 'proj2', 'proj3']\n",
    "}"
   ]
  },
  {
   "cell_type": "code",
   "execution_count": 9,
   "id": "5a953a00",
   "metadata": {},
   "outputs": [
    {
     "data": {
      "text/plain": [
       "dict"
      ]
     },
     "execution_count": 9,
     "metadata": {},
     "output_type": "execute_result"
    }
   ],
   "source": [
    "type(d1)"
   ]
  },
  {
   "cell_type": "code",
   "execution_count": 10,
   "id": "99785196",
   "metadata": {},
   "outputs": [
    {
     "data": {
      "text/plain": [
       "'mike'"
      ]
     },
     "execution_count": 10,
     "metadata": {},
     "output_type": "execute_result"
    }
   ],
   "source": [
    "d1['firstname']"
   ]
  },
  {
   "cell_type": "code",
   "execution_count": 11,
   "id": "25c248e3",
   "metadata": {},
   "outputs": [
    {
     "data": {
      "text/plain": [
       "'mike'"
      ]
     },
     "execution_count": 11,
     "metadata": {},
     "output_type": "execute_result"
    }
   ],
   "source": [
    "d1.get('firstname')"
   ]
  },
  {
   "cell_type": "code",
   "execution_count": 12,
   "id": "b19e4884",
   "metadata": {},
   "outputs": [
    {
     "data": {
      "text/plain": [
       "['python', 'typescript']"
      ]
     },
     "execution_count": 12,
     "metadata": {},
     "output_type": "execute_result"
    }
   ],
   "source": [
    "d1.get('likes')"
   ]
  },
  {
   "cell_type": "code",
   "execution_count": 13,
   "id": "bd80e2d7",
   "metadata": {},
   "outputs": [
    {
     "data": {
      "text/plain": [
       "dict_keys(['firstname', 'lastname', 'likes', 'projects'])"
      ]
     },
     "execution_count": 13,
     "metadata": {},
     "output_type": "execute_result"
    }
   ],
   "source": [
    "d1.keys()"
   ]
  },
  {
   "cell_type": "code",
   "execution_count": 15,
   "id": "e27f818b",
   "metadata": {},
   "outputs": [
    {
     "name": "stdout",
     "output_type": "stream",
     "text": [
      "mike\n",
      "bedingfield\n",
      "['python', 'typescript']\n",
      "['proj1', 'proj2', 'proj3']\n"
     ]
    }
   ],
   "source": [
    "for items in d1:\n",
    "    print(d1[items])"
   ]
  },
  {
   "cell_type": "code",
   "execution_count": 17,
   "id": "6e66766c",
   "metadata": {},
   "outputs": [],
   "source": [
    "x, y = sym.symbols('x, y')"
   ]
  },
  {
   "cell_type": "code",
   "execution_count": 18,
   "id": "5a5ca376",
   "metadata": {},
   "outputs": [],
   "source": [
    "d2 = dict(eqsWithX = [4*x-6, x**2-9], eqsWithY = [sym.sin(y)])"
   ]
  },
  {
   "cell_type": "code",
   "execution_count": 34,
   "id": "d3d997c5",
   "metadata": {},
   "outputs": [
    {
     "name": "stdout",
     "output_type": "stream",
     "text": [
      "solutions for equations involving X:\n"
     ]
    },
    {
     "data": {
      "text/latex": [
       "$\\displaystyle \\quad\\quad 4 x - 6 = 0\\quad \\Rightarrow \\quad X = \\left[ \\frac{3}{2}\\right]$"
      ],
      "text/plain": [
       "<IPython.core.display.Math object>"
      ]
     },
     "metadata": {},
     "output_type": "display_data"
    },
    {
     "data": {
      "text/latex": [
       "$\\displaystyle \\quad\\quad x^{2} - 9 = 0\\quad \\Rightarrow \\quad X = \\left[ -3, \\  3\\right]$"
      ],
      "text/plain": [
       "<IPython.core.display.Math object>"
      ]
     },
     "metadata": {},
     "output_type": "display_data"
    },
    {
     "name": "stdout",
     "output_type": "stream",
     "text": [
      "solutions for equations involving Y:\n"
     ]
    },
    {
     "data": {
      "text/latex": [
       "$\\displaystyle \\quad\\quad \\sin{\\left(y \\right)} = 0\\quad \\Rightarrow \\quad Y = \\left[ 0, \\  \\pi\\right]$"
      ],
      "text/plain": [
       "<IPython.core.display.Math object>"
      ]
     },
     "metadata": {},
     "output_type": "display_data"
    }
   ],
   "source": [
    "for keyi in d2:\n",
    "    print('solutions for equations involving ' + keyi[-1] + ':')\n",
    "\n",
    "    for eqi in d2[keyi]:\n",
    "\n",
    "        leftpart = sym.latex(eqi) + ' = 0'\n",
    "        middlepart = '\\\\quad \\\\Rightarrow \\\\quad ' + keyi[-1] + ' = '\n",
    "        rightpart = sym.latex(sym.solve(eqi))\n",
    "        display( Math( '\\\\quad\\\\quad ' + leftpart + middlepart + rightpart))"
   ]
  },
  {
   "cell_type": "code",
   "execution_count": null,
   "id": "5f7c2a79",
   "metadata": {},
   "outputs": [],
   "source": []
  }
 ],
 "metadata": {
  "kernelspec": {
   "display_name": "env",
   "language": "python",
   "name": "python3"
  },
  "language_info": {
   "codemirror_mode": {
    "name": "ipython",
    "version": 3
   },
   "file_extension": ".py",
   "mimetype": "text/x-python",
   "name": "python",
   "nbconvert_exporter": "python",
   "pygments_lexer": "ipython3",
   "version": "3.12.10"
  }
 },
 "nbformat": 4,
 "nbformat_minor": 5
}
