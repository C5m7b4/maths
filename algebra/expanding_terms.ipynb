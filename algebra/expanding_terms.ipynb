{
 "cells": [
  {
   "cell_type": "code",
   "execution_count": 17,
   "id": "84cf8561",
   "metadata": {},
   "outputs": [],
   "source": [
    "from IPython.display import display, Math\n",
    "import sympy as sym\n",
    "import numpy as np"
   ]
  },
  {
   "cell_type": "code",
   "execution_count": 3,
   "id": "ff139e17",
   "metadata": {},
   "outputs": [],
   "source": [
    "from sympy.abc import x"
   ]
  },
  {
   "cell_type": "code",
   "execution_count": 4,
   "id": "1c9c684f",
   "metadata": {},
   "outputs": [
    {
     "name": "stdout",
     "output_type": "stream",
     "text": [
      "x*(4*x + 5)\n"
     ]
    }
   ],
   "source": [
    "term1 = (4*x + 5)\n",
    "term2 = x\n",
    "print(term1 * term2)"
   ]
  },
  {
   "cell_type": "code",
   "execution_count": 5,
   "id": "0063d032",
   "metadata": {},
   "outputs": [
    {
     "name": "stdout",
     "output_type": "stream",
     "text": [
      "4*x**2 + 5*x\n"
     ]
    }
   ],
   "source": [
    "print(sym.expand(term1 * term2))"
   ]
  },
  {
   "cell_type": "code",
   "execution_count": 7,
   "id": "0851af73",
   "metadata": {},
   "outputs": [
    {
     "data": {
      "text/latex": [
       "$\\displaystyle 4 x^{2} + 5 x$"
      ],
      "text/plain": [
       "<IPython.core.display.Math object>"
      ]
     },
     "metadata": {},
     "output_type": "display_data"
    }
   ],
   "source": [
    "display(Math(sym.latex(sym.expand(term1 * term2))))"
   ]
  },
  {
   "cell_type": "code",
   "execution_count": 9,
   "id": "e5529406",
   "metadata": {},
   "outputs": [
    {
     "data": {
      "text/latex": [
       "$\\displaystyle \\left(x - 7\\right) \\left(4 x + 5\\right)$"
      ],
      "text/plain": [
       "<IPython.core.display.Math object>"
      ]
     },
     "metadata": {},
     "output_type": "display_data"
    },
    {
     "data": {
      "text/latex": [
       "$\\displaystyle 4 x^{2} - 23 x - 35$"
      ],
      "text/plain": [
       "<IPython.core.display.Math object>"
      ]
     },
     "metadata": {},
     "output_type": "display_data"
    }
   ],
   "source": [
    "term3 = x - 7\n",
    "display(Math(sym.latex(term1 * term3)))\n",
    "display(Math(sym.latex(sym.expand(term1 * term3))))"
   ]
  },
  {
   "cell_type": "code",
   "execution_count": 11,
   "id": "82ea7da5",
   "metadata": {},
   "outputs": [
    {
     "data": {
      "text/latex": [
       "$\\displaystyle x \\left(- \\frac{5^{x}}{x} + 2 y^{2}\\right)$"
      ],
      "text/plain": [
       "<IPython.core.display.Math object>"
      ]
     },
     "metadata": {},
     "output_type": "display_data"
    },
    {
     "data": {
      "text/latex": [
       "$\\displaystyle - 5^{x} + 2 x y^{2}$"
      ],
      "text/plain": [
       "<IPython.core.display.Math object>"
      ]
     },
     "metadata": {},
     "output_type": "display_data"
    }
   ],
   "source": [
    "from sympy.abc import y\n",
    "\n",
    "expr = x * (2 * y**2 - 5**x/x)\n",
    "display(Math(sym.latex(expr)))\n",
    "display(Math(sym.latex(sym.expand(expr))))"
   ]
  },
  {
   "cell_type": "code",
   "execution_count": 12,
   "id": "44466b98",
   "metadata": {},
   "outputs": [
    {
     "name": "stdout",
     "output_type": "stream",
     "text": [
      "Variable   Type        Data/Info\n",
      "--------------------------------\n",
      "Math       type        <class 'IPython.core.display.Math'>\n",
      "display    function    <function display at 0x00000204F6C80D60>\n",
      "expr       Mul         x*(-5**x/x + 2*y**2)\n",
      "sym        module      <module 'sympy' from 'i:\\<...>ges\\\\sympy\\\\__init__.py'>\n",
      "term1      Add         4*x + 5\n",
      "term2      Symbol      x\n",
      "term3      Add         x - 7\n",
      "x          Symbol      x\n",
      "y          Symbol      y\n"
     ]
    }
   ],
   "source": [
    "%whos"
   ]
  },
  {
   "cell_type": "code",
   "execution_count": 23,
   "id": "169bbbc3",
   "metadata": {},
   "outputs": [
    {
     "name": "stdout",
     "output_type": "stream",
     "text": [
      "When x = 0 and y = 0, then f(x,y) = 8\n",
      "When x = 0 and y = 1, then f(x,y) = 4\n",
      "When x = 0 and y = 2, then f(x,y) = 0\n",
      "When x = 1 and y = 0, then f(x,y) = 10\n",
      "When x = 1 and y = 1, then f(x,y) = 5\n",
      "When x = 1 and y = 2, then f(x,y) = 0\n",
      "When x = 2 and y = 0, then f(x,y) = 12\n",
      "When x = 2 and y = 1, then f(x,y) = 6\n",
      "When x = 2 and y = 2, then f(x,y) = 0\n"
     ]
    },
    {
     "data": {
      "text/latex": [
       "$\\displaystyle 10$"
      ],
      "text/plain": [
       "10"
      ]
     },
     "execution_count": 23,
     "metadata": {},
     "output_type": "execute_result"
    }
   ],
   "source": [
    "Fxy = (4 + x) * (2 - y)\n",
    "\n",
    "numrange = range(0, 3)\n",
    "\n",
    "for xi in numrange:\n",
    "    for yi in numrange:\n",
    "        print(f'When x = %g and y = %g, then f(x,y) = %g' %(xi, yi, Fxy.subs({x: xi, y: yi})))\n",
    "\n",
    "Fxy.subs({x: 1, y: 0})"
   ]
  },
  {
   "cell_type": "code",
   "execution_count": 20,
   "id": "15777e26",
   "metadata": {},
   "outputs": [
    {
     "name": "stdout",
     "output_type": "stream",
     "text": [
      "n=0.0\n",
      "n=0.25\n",
      "n=0.5\n",
      "n=0.75\n",
      "n=1.0\n",
      "n=1.25\n",
      "n=1.5\n",
      "n=1.75\n",
      "n=2.0\n",
      "n=2.25\n",
      "n=2.5\n",
      "n=2.75\n",
      "n=3.0\n"
     ]
    }
   ],
   "source": [
    "for n in np.arange(0, 3.25, .25):\n",
    "    print(f'n={n}')"
   ]
  },
  {
   "cell_type": "code",
   "execution_count": null,
   "id": "71763f06",
   "metadata": {},
   "outputs": [],
   "source": []
  }
 ],
 "metadata": {
  "kernelspec": {
   "display_name": "env",
   "language": "python",
   "name": "python3"
  },
  "language_info": {
   "codemirror_mode": {
    "name": "ipython",
    "version": 3
   },
   "file_extension": ".py",
   "mimetype": "text/x-python",
   "name": "python",
   "nbconvert_exporter": "python",
   "pygments_lexer": "ipython3",
   "version": "3.12.10"
  }
 },
 "nbformat": 4,
 "nbformat_minor": 5
}
