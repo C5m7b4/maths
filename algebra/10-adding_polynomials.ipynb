{
 "cells": [
  {
   "cell_type": "code",
   "execution_count": 1,
   "id": "5e04e444",
   "metadata": {},
   "outputs": [],
   "source": [
    "import sympy as sym\n",
    "from IPython.display import display, Math"
   ]
  },
  {
   "cell_type": "code",
   "execution_count": 2,
   "id": "352a3bfb",
   "metadata": {},
   "outputs": [],
   "source": [
    "x = sym.symbols('x')"
   ]
  },
  {
   "cell_type": "code",
   "execution_count": 5,
   "id": "6cd1942f",
   "metadata": {},
   "outputs": [],
   "source": [
    "p1 = 2*x**3 + x**2 - x\n",
    "p2 = x**3 - x**4 - 4*x**2"
   ]
  },
  {
   "cell_type": "code",
   "execution_count": 6,
   "id": "8194c907",
   "metadata": {},
   "outputs": [
    {
     "data": {
      "text/latex": [
       "$\\displaystyle 2 x^{3} + x^{2} - x$"
      ],
      "text/plain": [
       "<IPython.core.display.Math object>"
      ]
     },
     "metadata": {},
     "output_type": "display_data"
    }
   ],
   "source": [
    "display( Math( sym.latex(p1)))"
   ]
  },
  {
   "cell_type": "code",
   "execution_count": 7,
   "id": "22d23a34",
   "metadata": {},
   "outputs": [
    {
     "data": {
      "text/latex": [
       "$\\displaystyle - x^{4} + x^{3} - 4 x^{2}$"
      ],
      "text/plain": [
       "<IPython.core.display.Math object>"
      ]
     },
     "metadata": {},
     "output_type": "display_data"
    }
   ],
   "source": [
    "display( Math( sym.latex(p2)))"
   ]
  },
  {
   "cell_type": "code",
   "execution_count": 8,
   "id": "ab9221a7",
   "metadata": {},
   "outputs": [
    {
     "data": {
      "text/latex": [
       "$\\displaystyle - x^{4} + 3 x^{3} - 3 x^{2} - x$"
      ],
      "text/plain": [
       "<IPython.core.display.Math object>"
      ]
     },
     "metadata": {},
     "output_type": "display_data"
    }
   ],
   "source": [
    "display( Math( sym.latex(p1+p2)))"
   ]
  },
  {
   "cell_type": "code",
   "execution_count": 11,
   "id": "da0af6d4",
   "metadata": {},
   "outputs": [
    {
     "data": {
      "text/latex": [
       "$\\displaystyle (2 x^{3} + x^{2} - x) - (- x^{4} + x^{3} - 4 x^{2}) = x^{4} + x^{3} + 5 x^{2} - x$"
      ],
      "text/plain": [
       "<IPython.core.display.Math object>"
      ]
     },
     "metadata": {},
     "output_type": "display_data"
    }
   ],
   "source": [
    "display( Math( '(%s) - (%s) = %s' %(sym.latex(p1), sym.latex(p2), sym.latex(p1-p2))))"
   ]
  },
  {
   "cell_type": "code",
   "execution_count": 12,
   "id": "daca981d",
   "metadata": {},
   "outputs": [],
   "source": [
    "pi = sym.Poly(2*x**3 + x**2 - x)"
   ]
  },
  {
   "cell_type": "code",
   "execution_count": 13,
   "id": "79f0bff5",
   "metadata": {},
   "outputs": [
    {
     "data": {
      "text/latex": [
       "$\\displaystyle \\operatorname{Poly}{\\left( 2 x^{3} + x^{2} - x, x, domain=\\mathbb{Z} \\right)}$"
      ],
      "text/plain": [
       "Poly(2*x**3 + x**2 - x, x, domain='ZZ')"
      ]
     },
     "execution_count": 13,
     "metadata": {},
     "output_type": "execute_result"
    }
   ],
   "source": [
    "pi"
   ]
  },
  {
   "cell_type": "code",
   "execution_count": 14,
   "id": "77f89c89",
   "metadata": {},
   "outputs": [
    {
     "data": {
      "text/plain": [
       "sympy.polys.polytools.Poly"
      ]
     },
     "execution_count": 14,
     "metadata": {},
     "output_type": "execute_result"
    }
   ],
   "source": [
    "type(pi)"
   ]
  },
  {
   "cell_type": "code",
   "execution_count": 15,
   "id": "11dae315",
   "metadata": {},
   "outputs": [
    {
     "data": {
      "text/latex": [
       "$\\displaystyle 0$"
      ],
      "text/plain": [
       "0"
      ]
     },
     "execution_count": 15,
     "metadata": {},
     "output_type": "execute_result"
    }
   ],
   "source": [
    "pi.eval(0)"
   ]
  },
  {
   "cell_type": "code",
   "execution_count": 16,
   "id": "1ca9f2c7",
   "metadata": {},
   "outputs": [
    {
     "data": {
      "text/latex": [
       "$\\displaystyle 140$"
      ],
      "text/plain": [
       "140"
      ]
     },
     "execution_count": 16,
     "metadata": {},
     "output_type": "execute_result"
    }
   ],
   "source": [
    "pi.eval(4)"
   ]
  },
  {
   "cell_type": "code",
   "execution_count": 17,
   "id": "141cb975",
   "metadata": {},
   "outputs": [
    {
     "data": {
      "text/plain": [
       "[2, 1, -1]"
      ]
     },
     "execution_count": 17,
     "metadata": {},
     "output_type": "execute_result"
    }
   ],
   "source": [
    "pi.coeffs()"
   ]
  },
  {
   "cell_type": "code",
   "execution_count": 12,
   "id": "eca96902",
   "metadata": {},
   "outputs": [],
   "source": [
    "p1 = sym.Poly(x**2 + 2 * x)\n",
    "p2 = sym.Poly(-x**3 + 4*x)\n",
    "p3 = sym.Poly(x**5 - x**4 + (x/4) + 4)"
   ]
  },
  {
   "cell_type": "code",
   "execution_count": 25,
   "id": "b5b57e7c",
   "metadata": {},
   "outputs": [
    {
     "data": {
      "text/latex": [
       "$\\displaystyle \\operatorname{Poly}{\\left( x^{2} + 2 x, x, domain=\\mathbb{Z} \\right)}$"
      ],
      "text/plain": [
       "<IPython.core.display.Math object>"
      ]
     },
     "metadata": {},
     "output_type": "display_data"
    }
   ],
   "source": [
    "display( Math( sym.latex(p1)))"
   ]
  },
  {
   "cell_type": "code",
   "execution_count": 26,
   "id": "40ad8633",
   "metadata": {},
   "outputs": [
    {
     "data": {
      "text/plain": [
       "[1, 2]"
      ]
     },
     "execution_count": 26,
     "metadata": {},
     "output_type": "execute_result"
    }
   ],
   "source": [
    "p1.coeffs()"
   ]
  },
  {
   "cell_type": "code",
   "execution_count": 27,
   "id": "79b8633d",
   "metadata": {},
   "outputs": [
    {
     "data": {
      "text/plain": [
       "2"
      ]
     },
     "execution_count": 27,
     "metadata": {},
     "output_type": "execute_result"
    }
   ],
   "source": [
    "p1.degree()"
   ]
  },
  {
   "cell_type": "code",
   "execution_count": 32,
   "id": "7003f9fb",
   "metadata": {},
   "outputs": [
    {
     "data": {
      "text/latex": [
       "$\\displaystyle \\operatorname{Poly}{\\left( -x^{3} + 4 x, x, domain=\\mathbb{Z} \\right)}$"
      ],
      "text/plain": [
       "<IPython.core.display.Math object>"
      ]
     },
     "metadata": {},
     "output_type": "display_data"
    },
    {
     "data": {
      "text/latex": [
       "$\\displaystyle - x^{3} + 4 x$"
      ],
      "text/plain": [
       "<IPython.core.display.Math object>"
      ]
     },
     "metadata": {},
     "output_type": "display_data"
    }
   ],
   "source": [
    "display( Math( sym.latex(p2)))\n",
    "display( Math( sym.latex(p2.as_expr())))"
   ]
  },
  {
   "cell_type": "code",
   "execution_count": 31,
   "id": "b96f3e03",
   "metadata": {},
   "outputs": [
    {
     "data": {
      "text/plain": [
       "[-1, 4]"
      ]
     },
     "execution_count": 31,
     "metadata": {},
     "output_type": "execute_result"
    }
   ],
   "source": [
    "p2.coeffs()"
   ]
  },
  {
   "cell_type": "code",
   "execution_count": 33,
   "id": "49896693",
   "metadata": {},
   "outputs": [
    {
     "data": {
      "text/plain": [
       "3"
      ]
     },
     "execution_count": 33,
     "metadata": {},
     "output_type": "execute_result"
    }
   ],
   "source": [
    "p2.degree()"
   ]
  },
  {
   "cell_type": "code",
   "execution_count": 34,
   "id": "746475b8",
   "metadata": {},
   "outputs": [
    {
     "data": {
      "text/latex": [
       "$\\displaystyle x^{5} - x^{4} + \\frac{x}{4} + 4$"
      ],
      "text/plain": [
       "<IPython.core.display.Math object>"
      ]
     },
     "metadata": {},
     "output_type": "display_data"
    }
   ],
   "source": [
    "display( Math( sym.latex(p3.as_expr())))"
   ]
  },
  {
   "cell_type": "code",
   "execution_count": 35,
   "id": "9cb783b2",
   "metadata": {},
   "outputs": [
    {
     "data": {
      "text/plain": [
       "[1, -1, 1/4, 4]"
      ]
     },
     "execution_count": 35,
     "metadata": {},
     "output_type": "execute_result"
    }
   ],
   "source": [
    "p3.coeffs()"
   ]
  },
  {
   "cell_type": "code",
   "execution_count": 36,
   "id": "38d777ad",
   "metadata": {},
   "outputs": [
    {
     "data": {
      "text/plain": [
       "5"
      ]
     },
     "execution_count": 36,
     "metadata": {},
     "output_type": "execute_result"
    }
   ],
   "source": [
    "p3.degree()"
   ]
  },
  {
   "cell_type": "code",
   "execution_count": 13,
   "id": "864bf07f",
   "metadata": {},
   "outputs": [],
   "source": [
    "plist = [p1, p2, p3]"
   ]
  },
  {
   "cell_type": "code",
   "execution_count": 43,
   "id": "5c837a2c",
   "metadata": {},
   "outputs": [
    {
     "data": {
      "text/latex": [
       "$\\displaystyle \\text{the degree of } x^{2} + 2 x \\text{ is even, and the coefficients sum to } 3$"
      ],
      "text/plain": [
       "<IPython.core.display.Math object>"
      ]
     },
     "metadata": {},
     "output_type": "display_data"
    },
    {
     "data": {
      "text/latex": [
       "$\\displaystyle \\text{the degree of } - x^{3} + 4 x \\text{ is odd, and there are 2 coefficients }$"
      ],
      "text/plain": [
       "<IPython.core.display.Math object>"
      ]
     },
     "metadata": {},
     "output_type": "display_data"
    },
    {
     "data": {
      "text/latex": [
       "$\\displaystyle \\text{the degree of } x^{5} - x^{4} + \\frac{x}{4} + 4 \\text{ is odd, and there are 4 coefficients }$"
      ],
      "text/plain": [
       "<IPython.core.display.Math object>"
      ]
     },
     "metadata": {},
     "output_type": "display_data"
    }
   ],
   "source": [
    "for poli in plist:\n",
    "    if poli.degree() % 2 == 0:\n",
    "        display( Math('\\\\text{the degree of } %s \\\\text{ is even, and the coefficients sum to } %g' % (sym.latex(poli.as_expr()), sum(poli.coeffs()))))\n",
    "    else:\n",
    "        display(Math('\\\\text{the degree of } %s \\\\text{ is odd, and there are %g coefficients }' %(sym.latex(poli.as_expr()), len(poli.coeffs()))))"
   ]
  },
  {
   "cell_type": "code",
   "execution_count": null,
   "id": "ae27d4eb",
   "metadata": {},
   "outputs": [],
   "source": []
  }
 ],
 "metadata": {
  "kernelspec": {
   "display_name": "env",
   "language": "python",
   "name": "python3"
  },
  "language_info": {
   "codemirror_mode": {
    "name": "ipython",
    "version": 3
   },
   "file_extension": ".py",
   "mimetype": "text/x-python",
   "name": "python",
   "nbconvert_exporter": "python",
   "pygments_lexer": "ipython3",
   "version": "3.12.10"
  }
 },
 "nbformat": 4,
 "nbformat_minor": 5
}
