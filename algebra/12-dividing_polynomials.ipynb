{
 "cells": [
  {
   "cell_type": "code",
   "execution_count": 1,
   "id": "1062ce6b",
   "metadata": {},
   "outputs": [],
   "source": [
    "import sympy as sym\n",
    "from IPython.display import display, Math"
   ]
  },
  {
   "cell_type": "code",
   "execution_count": 9,
   "id": "ea1d3648",
   "metadata": {},
   "outputs": [],
   "source": [
    "x, y = sym.symbols('x, y')"
   ]
  },
  {
   "cell_type": "code",
   "execution_count": 3,
   "id": "75246a4b",
   "metadata": {},
   "outputs": [],
   "source": [
    "p1 = 4 * x**5 - x\n",
    "p2 = 2 * x**3 - x"
   ]
  },
  {
   "cell_type": "code",
   "execution_count": 4,
   "id": "bf44ddb5",
   "metadata": {},
   "outputs": [
    {
     "data": {
      "text/latex": [
       "$\\displaystyle \\frac{4 x^{5} - x}{2 x^{3} - x} = \\frac{4 x^{5} - x}{2 x^{3} - x}$"
      ],
      "text/plain": [
       "<IPython.core.display.Math object>"
      ]
     },
     "metadata": {},
     "output_type": "display_data"
    }
   ],
   "source": [
    "display( Math( '\\\\frac{%s}{%s} = %s' %(sym.latex(p1), sym.latex(p2), sym.latex(p1/p2))))"
   ]
  },
  {
   "cell_type": "code",
   "execution_count": 5,
   "id": "0248d6ed",
   "metadata": {},
   "outputs": [
    {
     "data": {
      "text/latex": [
       "$\\displaystyle \\frac{4 x^{5} - x}{2 x^{3} - x} = \\frac{4 x^{5}}{2 x^{3} - x} - \\frac{x}{2 x^{3} - x}$"
      ],
      "text/plain": [
       "<IPython.core.display.Math object>"
      ]
     },
     "metadata": {},
     "output_type": "display_data"
    }
   ],
   "source": [
    "display( Math( '\\\\frac{%s}{%s} = %s' %(sym.latex(p1), sym.latex(p2), sym.latex(sym.expand(p1/p2)))))"
   ]
  },
  {
   "cell_type": "code",
   "execution_count": 6,
   "id": "770545f3",
   "metadata": {},
   "outputs": [
    {
     "data": {
      "text/latex": [
       "$\\displaystyle \\frac{4 x^{5} - x}{2 x^{3} - x} = 2 x^{2} + 1$"
      ],
      "text/plain": [
       "<IPython.core.display.Math object>"
      ]
     },
     "metadata": {},
     "output_type": "display_data"
    }
   ],
   "source": [
    "display( Math( '\\\\frac{%s}{%s} = %s' %(sym.latex(p1), sym.latex(p2), sym.latex(sym.simplify(p1/p2)))))"
   ]
  },
  {
   "cell_type": "code",
   "execution_count": 26,
   "id": "f7db2684",
   "metadata": {},
   "outputs": [],
   "source": [
    "p3 = x**6 + 2 * x**4 + 6*x - y\n",
    "p4 = x**3 + 3"
   ]
  },
  {
   "cell_type": "code",
   "execution_count": 20,
   "id": "309ba865",
   "metadata": {},
   "outputs": [],
   "source": [
    "f = sym.sympify(3)"
   ]
  },
  {
   "cell_type": "code",
   "execution_count": 21,
   "id": "9376b15c",
   "metadata": {},
   "outputs": [
    {
     "data": {
      "text/latex": [
       "$\\displaystyle 3$"
      ],
      "text/plain": [
       "3"
      ]
     },
     "execution_count": 21,
     "metadata": {},
     "output_type": "execute_result"
    }
   ],
   "source": [
    "f"
   ]
  },
  {
   "cell_type": "code",
   "execution_count": 22,
   "id": "35cfd899",
   "metadata": {},
   "outputs": [],
   "source": [
    "finfo = sym.fraction(f)"
   ]
  },
  {
   "cell_type": "code",
   "execution_count": 23,
   "id": "d8d33db4",
   "metadata": {},
   "outputs": [
    {
     "data": {
      "text/plain": [
       "(3, 1)"
      ]
     },
     "execution_count": 23,
     "metadata": {},
     "output_type": "execute_result"
    }
   ],
   "source": [
    "finfo"
   ]
  },
  {
   "cell_type": "code",
   "execution_count": 25,
   "id": "1d0b1778",
   "metadata": {},
   "outputs": [
    {
     "data": {
      "text/latex": [
       "$\\displaystyle 1$"
      ],
      "text/plain": [
       "1"
      ]
     },
     "execution_count": 25,
     "metadata": {},
     "output_type": "execute_result"
    }
   ],
   "source": [
    "finfo[1]"
   ]
  },
  {
   "cell_type": "code",
   "execution_count": 30,
   "id": "73a23e8f",
   "metadata": {},
   "outputs": [
    {
     "data": {
      "text/latex": [
       "$\\displaystyle \\frac{x^{6} + 2 x^{4} + 6 x - 5}{x^{3} + 3} = \\frac{x^{6} + 2 x^{4} + 6 x - 5}{x^{3} + 3}$"
      ],
      "text/plain": [
       "<IPython.core.display.Math object>"
      ]
     },
     "metadata": {},
     "output_type": "display_data"
    },
    {
     "data": {
      "text/latex": [
       "$\\displaystyle \\frac{x^{6} + 2 x^{4} + 6 x - 6}{x^{3} + 3} = \\frac{x^{6} + 2 x^{4} + 6 x - 6}{x^{3} + 3}$"
      ],
      "text/plain": [
       "<IPython.core.display.Math object>"
      ]
     },
     "metadata": {},
     "output_type": "display_data"
    },
    {
     "data": {
      "text/latex": [
       "$\\displaystyle \\frac{x^{6} + 2 x^{4} + 6 x - 7}{x^{3} + 3} = \\frac{x^{6} + 2 x^{4} + 6 x - 7}{x^{3} + 3}$"
      ],
      "text/plain": [
       "<IPython.core.display.Math object>"
      ]
     },
     "metadata": {},
     "output_type": "display_data"
    },
    {
     "data": {
      "text/latex": [
       "$\\displaystyle \\frac{x^{6} + 2 x^{4} + 6 x - 8}{x^{3} + 3} = \\frac{x^{6} + 2 x^{4} + 6 x - 8}{x^{3} + 3}$"
      ],
      "text/plain": [
       "<IPython.core.display.Math object>"
      ]
     },
     "metadata": {},
     "output_type": "display_data"
    },
    {
     "data": {
      "text/latex": [
       "$\\displaystyle \\frac{x^{6} + 2 x^{4} + 6 x - 9}{x^{3} + 3} = x^{3} + 2 x - 3$"
      ],
      "text/plain": [
       "<IPython.core.display.Math object>"
      ]
     },
     "metadata": {},
     "output_type": "display_data"
    },
    {
     "data": {
      "text/latex": [
       "$\\displaystyle \\frac{x^{6} + 2 x^{4} + 6 x - 10}{x^{3} + 3} = \\frac{x^{6} + 2 x^{4} + 6 x - 10}{x^{3} + 3}$"
      ],
      "text/plain": [
       "<IPython.core.display.Math object>"
      ]
     },
     "metadata": {},
     "output_type": "display_data"
    },
    {
     "data": {
      "text/latex": [
       "$\\displaystyle \\frac{x^{6} + 2 x^{4} + 6 x - 11}{x^{3} + 3} = \\frac{x^{6} + 2 x^{4} + 6 x - 11}{x^{3} + 3}$"
      ],
      "text/plain": [
       "<IPython.core.display.Math object>"
      ]
     },
     "metadata": {},
     "output_type": "display_data"
    },
    {
     "data": {
      "text/latex": [
       "$\\displaystyle \\frac{x^{6} + 2 x^{4} + 6 x - 12}{x^{3} + 3} = \\frac{x^{6} + 2 x^{4} + 6 x - 12}{x^{3} + 3}$"
      ],
      "text/plain": [
       "<IPython.core.display.Math object>"
      ]
     },
     "metadata": {},
     "output_type": "display_data"
    },
    {
     "data": {
      "text/latex": [
       "$\\displaystyle \\frac{x^{6} + 2 x^{4} + 6 x - 13}{x^{3} + 3} = \\frac{x^{6} + 2 x^{4} + 6 x - 13}{x^{3} + 3}$"
      ],
      "text/plain": [
       "<IPython.core.display.Math object>"
      ]
     },
     "metadata": {},
     "output_type": "display_data"
    },
    {
     "data": {
      "text/latex": [
       "$\\displaystyle \\frac{x^{6} + 2 x^{4} + 6 x - 14}{x^{3} + 3} = \\frac{x^{6} + 2 x^{4} + 6 x - 14}{x^{3} + 3}$"
      ],
      "text/plain": [
       "<IPython.core.display.Math object>"
      ]
     },
     "metadata": {},
     "output_type": "display_data"
    },
    {
     "data": {
      "text/latex": [
       "$\\displaystyle \\frac{x^{6} + 2 x^{4} + 6 x - 15}{x^{3} + 3} = \\frac{x^{6} + 2 x^{4} + 6 x - 15}{x^{3} + 3}$"
      ],
      "text/plain": [
       "<IPython.core.display.Math object>"
      ]
     },
     "metadata": {},
     "output_type": "display_data"
    },
    {
     "name": "stdout",
     "output_type": "stream",
     "text": [
      "the correct answer is y=9\n"
     ]
    }
   ],
   "source": [
    "for yi in range(5, 16):\n",
    "    tempnum = p3.subs(y, yi)\n",
    "    display( Math( '%s = %s' %(sym.latex(tempnum/ p4), sym.latex(sym.simplify(tempnum/p4)))))\n",
    "\n",
    "    if sym.fraction(sym.simplify(tempnum/p4))[1] == 1:\n",
    "        right_answer = yi\n",
    "\n",
    "print('the correct answer is y=%g' % right_answer)"
   ]
  },
  {
   "cell_type": "code",
   "execution_count": null,
   "id": "8f522855",
   "metadata": {},
   "outputs": [],
   "source": []
  }
 ],
 "metadata": {
  "kernelspec": {
   "display_name": "env",
   "language": "python",
   "name": "python3"
  },
  "language_info": {
   "codemirror_mode": {
    "name": "ipython",
    "version": 3
   },
   "file_extension": ".py",
   "mimetype": "text/x-python",
   "name": "python",
   "nbconvert_exporter": "python",
   "pygments_lexer": "ipython3",
   "version": "3.12.10"
  }
 },
 "nbformat": 4,
 "nbformat_minor": 5
}
