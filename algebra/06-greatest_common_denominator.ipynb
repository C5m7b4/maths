{
 "cells": [
  {
   "cell_type": "code",
   "execution_count": 1,
   "id": "b616be76",
   "metadata": {},
   "outputs": [],
   "source": [
    "import numpy as np\n",
    "import math\n",
    "from IPython.display import display, Math\n",
    "import sympy as sym"
   ]
  },
  {
   "cell_type": "code",
   "execution_count": 2,
   "id": "647e1d18",
   "metadata": {},
   "outputs": [
    {
     "data": {
      "text/plain": [
       "3"
      ]
     },
     "execution_count": 2,
     "metadata": {},
     "output_type": "execute_result"
    }
   ],
   "source": [
    "math.gcd(6, 15)"
   ]
  },
  {
   "cell_type": "code",
   "execution_count": 3,
   "id": "53a868c9",
   "metadata": {},
   "outputs": [
    {
     "data": {
      "text/plain": [
       "0.18181818181818182"
      ]
     },
     "execution_count": 3,
     "metadata": {},
     "output_type": "execute_result"
    }
   ],
   "source": [
    "a = 16\n",
    "b = 88\n",
    "\n",
    "\n",
    "a / b"
   ]
  },
  {
   "cell_type": "code",
   "execution_count": 4,
   "id": "adf1ac57",
   "metadata": {},
   "outputs": [
    {
     "name": "stdout",
     "output_type": "stream",
     "text": [
      "8\n"
     ]
    }
   ],
   "source": [
    "fact = math.gcd(a, b)\n",
    "print(fact)"
   ]
  },
  {
   "cell_type": "code",
   "execution_count": 7,
   "id": "44249db4",
   "metadata": {},
   "outputs": [
    {
     "data": {
      "text/latex": [
       "$\\displaystyle \\frac{16}{88} = \\frac{2\\times 8}{11 \\times 8}$"
      ],
      "text/plain": [
       "<IPython.core.display.Math object>"
      ]
     },
     "metadata": {},
     "output_type": "display_data"
    }
   ],
   "source": [
    "display( Math( '\\\\frac{%g}{%g} = \\\\frac{%g\\\\times %g}{%g \\\\times %g}' %(a, b, a/fact, fact, b/fact, fact)))"
   ]
  },
  {
   "cell_type": "code",
   "execution_count": 8,
   "id": "090e46dc",
   "metadata": {},
   "outputs": [],
   "source": [
    "a, b, c = sym.symbols('a, b, c')"
   ]
  },
  {
   "cell_type": "code",
   "execution_count": 9,
   "id": "b4d83017",
   "metadata": {},
   "outputs": [
    {
     "data": {
      "text/latex": [
       "$\\displaystyle c$"
      ],
      "text/plain": [
       "c"
      ]
     },
     "execution_count": 9,
     "metadata": {},
     "output_type": "execute_result"
    }
   ],
   "source": [
    "sym.gcd(a*c, b*c)"
   ]
  },
  {
   "cell_type": "code",
   "execution_count": 10,
   "id": "c6713349",
   "metadata": {},
   "outputs": [
    {
     "data": {
      "text/latex": [
       "$\\displaystyle 1$"
      ],
      "text/plain": [
       "1"
      ]
     },
     "execution_count": 10,
     "metadata": {},
     "output_type": "execute_result"
    }
   ],
   "source": [
    "sym.gcd(a,b)"
   ]
  },
  {
   "cell_type": "code",
   "execution_count": 11,
   "id": "0f367da9",
   "metadata": {},
   "outputs": [],
   "source": [
    "a = 5\n",
    "b = 6\n",
    "c = 7"
   ]
  },
  {
   "cell_type": "code",
   "execution_count": 13,
   "id": "b7e1d658",
   "metadata": {},
   "outputs": [
    {
     "name": "stdout",
     "output_type": "stream",
     "text": [
      "7\n"
     ]
    }
   ],
   "source": [
    "print(math.gcd(a*c, b*c))"
   ]
  },
  {
   "cell_type": "code",
   "execution_count": 20,
   "id": "a74368e2",
   "metadata": {},
   "outputs": [
    {
     "data": {
      "text/plain": [
       "array([[99, 99, 99, 99, 99, 99, 99, 99, 99, 99, 99, 99, 99, 99, 99],\n",
       "       [99, 99, 99, 99, 99, 99, 99, 99, 99, 99, 99, 99, 99, 99, 99],\n",
       "       [99, 99, 99, 99, 99, 99, 99, 99, 99, 99, 99, 99, 99, 99, 99],\n",
       "       [99, 99, 99, 99, 99, 99, 99, 99, 99, 99, 99, 99, 99, 99, 99],\n",
       "       [99, 99, 99, 99, 99, 99, 99, 99, 99, 99, 99, 99, 99, 99, 99],\n",
       "       [99, 99, 99, 99, 99, 99, 99, 99, 99, 99, 99, 99, 99, 99, 99],\n",
       "       [99, 99, 99, 99, 99, 99, 99, 99, 99, 99, 99, 99, 99, 99, 99],\n",
       "       [99, 99, 99, 99, 99, 99, 99, 99, 99, 99, 99, 99, 99, 99, 99],\n",
       "       [99, 99, 99, 99, 99, 99, 99, 99, 99, 99, 99, 99, 99, 99, 99],\n",
       "       [99, 99, 99, 99, 99, 99, 99, 99, 99, 99, 99, 99, 99, 99, 99]])"
      ]
     },
     "execution_count": 20,
     "metadata": {},
     "output_type": "execute_result"
    }
   ],
   "source": [
    "n = 10\n",
    "m = 15\n",
    "\n",
    "gcdmat = np.zeros([n, m], dtype='int')+99\n",
    "gcdmat"
   ]
  },
  {
   "cell_type": "code",
   "execution_count": 21,
   "id": "f370dd66",
   "metadata": {},
   "outputs": [],
   "source": [
    "for rowi in range(0, n):\n",
    "    for coli in range(0, m):\n",
    "        gcdmat[rowi, coli] = math.gcd(rowi+1, coli+ 1)"
   ]
  },
  {
   "cell_type": "code",
   "execution_count": 22,
   "id": "545381a9",
   "metadata": {},
   "outputs": [
    {
     "name": "stdout",
     "output_type": "stream",
     "text": [
      "[[ 1  1  1  1  1  1  1  1  1  1  1  1  1  1  1]\n",
      " [ 1  2  1  2  1  2  1  2  1  2  1  2  1  2  1]\n",
      " [ 1  1  3  1  1  3  1  1  3  1  1  3  1  1  3]\n",
      " [ 1  2  1  4  1  2  1  4  1  2  1  4  1  2  1]\n",
      " [ 1  1  1  1  5  1  1  1  1  5  1  1  1  1  5]\n",
      " [ 1  2  3  2  1  6  1  2  3  2  1  6  1  2  3]\n",
      " [ 1  1  1  1  1  1  7  1  1  1  1  1  1  7  1]\n",
      " [ 1  2  1  4  1  2  1  8  1  2  1  4  1  2  1]\n",
      " [ 1  1  3  1  1  3  1  1  9  1  1  3  1  1  3]\n",
      " [ 1  2  1  2  5  2  1  2  1 10  1  2  1  2  5]]\n"
     ]
    }
   ],
   "source": [
    "print(gcdmat)"
   ]
  },
  {
   "cell_type": "code",
   "execution_count": 25,
   "id": "b9be111a",
   "metadata": {},
   "outputs": [
    {
     "data": {
      "text/latex": [
       "$\\displaystyle \\left[\\begin{array}{cccccccccc}1 & 1 & 1 & 1 & 1 & 1 & 1 & 1 & 1 & 1 & 1 & 1 & 1 & 1 & 1\\\\1 & 2 & 1 & 2 & 1 & 2 & 1 & 2 & 1 & 2 & 1 & 2 & 1 & 2 & 1\\\\1 & 1 & 3 & 1 & 1 & 3 & 1 & 1 & 3 & 1 & 1 & 3 & 1 & 1 & 3\\\\1 & 2 & 1 & 4 & 1 & 2 & 1 & 4 & 1 & 2 & 1 & 4 & 1 & 2 & 1\\\\1 & 1 & 1 & 1 & 5 & 1 & 1 & 1 & 1 & 5 & 1 & 1 & 1 & 1 & 5\\\\1 & 2 & 3 & 2 & 1 & 6 & 1 & 2 & 3 & 2 & 1 & 6 & 1 & 2 & 3\\\\1 & 1 & 1 & 1 & 1 & 1 & 7 & 1 & 1 & 1 & 1 & 1 & 1 & 7 & 1\\\\1 & 2 & 1 & 4 & 1 & 2 & 1 & 8 & 1 & 2 & 1 & 4 & 1 & 2 & 1\\\\1 & 1 & 3 & 1 & 1 & 3 & 1 & 1 & 9 & 1 & 1 & 3 & 1 & 1 & 3\\\\1 & 2 & 1 & 2 & 5 & 2 & 1 & 2 & 1 & 10 & 1 & 2 & 1 & 2 & 5\\end{array}\\right]$"
      ],
      "text/plain": [
       "<IPython.core.display.Math object>"
      ]
     },
     "metadata": {},
     "output_type": "display_data"
    }
   ],
   "source": [
    "display( Math( sym.latex( sym.sympify( gcdmat))))"
   ]
  },
  {
   "cell_type": "code",
   "execution_count": null,
   "id": "292b41a5",
   "metadata": {},
   "outputs": [],
   "source": []
  }
 ],
 "metadata": {
  "kernelspec": {
   "display_name": "env",
   "language": "python",
   "name": "python3"
  },
  "language_info": {
   "codemirror_mode": {
    "name": "ipython",
    "version": 3
   },
   "file_extension": ".py",
   "mimetype": "text/x-python",
   "name": "python",
   "nbconvert_exporter": "python",
   "pygments_lexer": "ipython3",
   "version": "3.12.10"
  }
 },
 "nbformat": 4,
 "nbformat_minor": 5
}
